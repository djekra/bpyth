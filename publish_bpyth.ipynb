{
 "cells": [
  {
   "cell_type": "markdown",
   "id": "3fd10409-2f5f-4628-8768-3a7e489d33b4",
   "metadata": {},
   "source": [
    "## Create README"
   ]
  },
  {
   "cell_type": "code",
   "execution_count": 1,
   "id": "14ea296b-20d0-4bfe-ada6-64aca05ca146",
   "metadata": {
    "execution": {
     "iopub.execute_input": "2025-03-16T18:37:38.797296Z",
     "iopub.status.busy": "2025-03-16T18:37:38.797296Z",
     "iopub.status.idle": "2025-03-16T18:37:43.156704Z",
     "shell.execute_reply": "2025-03-16T18:37:43.156704Z",
     "shell.execute_reply.started": "2025-03-16T18:37:38.797296Z"
    }
   },
   "outputs": [
    {
     "name": "stderr",
     "output_type": "stream",
     "text": [
      "[NbConvertApp] Converting notebook README.ipynb to markdown\n",
      "[NbConvertApp] Writing 1925 bytes to README.md\n"
     ]
    }
   ],
   "source": [
    "!jupyter nbconvert --ClearMetadataPreprocessor.enabled=True --ClearOutput.enabled=True --to markdown README.ipynb"
   ]
  },
  {
   "cell_type": "markdown",
   "id": "a4547f78-251b-45b5-a478-27dc691d193b",
   "metadata": {},
   "source": [
    "## Local install"
   ]
  },
  {
   "cell_type": "code",
   "execution_count": 1,
   "id": "30be06b0-90b1-41b1-a63d-9cec8e4a05ab",
   "metadata": {
    "execution": {
     "iopub.execute_input": "2025-03-28T09:40:30.981619Z",
     "iopub.status.busy": "2025-03-28T09:40:30.981619Z",
     "iopub.status.idle": "2025-03-28T09:40:32.777476Z",
     "shell.execute_reply": "2025-03-28T09:40:32.776932Z",
     "shell.execute_reply.started": "2025-03-28T09:40:30.981619Z"
    }
   },
   "outputs": [
    {
     "name": "stdout",
     "output_type": "stream",
     "text": [
      "Found existing installation: bpyth 0.2.1\n",
      "Uninstalling bpyth-0.2.1:\n",
      "  Successfully uninstalled bpyth-0.2.1\n"
     ]
    }
   ],
   "source": [
    "# uninstall\n",
    "!pip uninstall -y bpyth"
   ]
  },
  {
   "cell_type": "code",
   "execution_count": 2,
   "id": "f345ee0f-748f-40be-8578-8ad4ac4d9fe3",
   "metadata": {
    "execution": {
     "iopub.execute_input": "2025-03-28T09:40:36.371244Z",
     "iopub.status.busy": "2025-03-28T09:40:36.370241Z",
     "iopub.status.idle": "2025-03-28T09:40:50.014814Z",
     "shell.execute_reply": "2025-03-28T09:40:50.014295Z",
     "shell.execute_reply.started": "2025-03-28T09:40:36.371244Z"
    }
   },
   "outputs": [
    {
     "name": "stdout",
     "output_type": "stream",
     "text": [
      "Obtaining file:///D:/Dropbox/31_Projekte/01_Python/88_PyCharm/bpyth\n",
      "  Installing build dependencies: started\n",
      "  Installing build dependencies: finished with status 'done'\n",
      "  Checking if build backend supports build_editable: started\n",
      "  Checking if build backend supports build_editable: finished with status 'done'\n",
      "  Getting requirements to build editable: started\n",
      "  Getting requirements to build editable: finished with status 'done'\n",
      "  Preparing editable metadata (pyproject.toml): started\n",
      "  Preparing editable metadata (pyproject.toml): finished with status 'done'\n",
      "Building wheels for collected packages: bpyth\n",
      "  Building editable for bpyth (pyproject.toml): started\n",
      "  Building editable for bpyth (pyproject.toml): finished with status 'done'\n",
      "  Created wheel for bpyth: filename=bpyth-0.2.1-0.editable-py3-none-any.whl size=3335 sha256=f200af83e611f50f9a1ff95f03c7b4bceb7b030027dc873269cec605b8c47358\n",
      "  Stored in directory: C:\\Users\\hopsa\\AppData\\Local\\Temp\\pip-ephem-wheel-cache-cn8fv8cx\\wheels\\d8\\63\\6a\\7649b30a7db05ef94ed8ff82955e24f1e09a175ae3e8652632\n",
      "Successfully built bpyth\n",
      "Installing collected packages: bpyth\n",
      "Successfully installed bpyth-0.2.1\n"
     ]
    }
   ],
   "source": [
    "# install locally\n",
    "!python -m pip install -e ."
   ]
  },
  {
   "cell_type": "code",
   "execution_count": 4,
   "id": "8cec0e88-e3c2-4020-b9c9-176bcd255c46",
   "metadata": {
    "execution": {
     "iopub.execute_input": "2025-03-16T18:37:57.529100Z",
     "iopub.status.busy": "2025-03-16T18:37:57.529100Z",
     "iopub.status.idle": "2025-03-16T18:37:58.903254Z",
     "shell.execute_reply": "2025-03-16T18:37:58.903254Z",
     "shell.execute_reply.started": "2025-03-16T18:37:57.529100Z"
    }
   },
   "outputs": [
    {
     "name": "stdout",
     "output_type": "stream",
     "text": [
      "Name: bpyth\n",
      "Version: 0.2.1\n",
      "Summary: Various Python Tools\n",
      "Home-page: https://github.com/djekra/bpyth\n",
      "Author: \n",
      "Author-email: djekra <hopsalla@gmail.com>\n",
      "License: MIT\n",
      "Location: C:\\Users\\hopsa\\miniforge3\\envs\\python_07\\Lib\\site-packages\n",
      "Editable project location: D:\\Dropbox\\31_Projekte\\01_Python\\88_PyCharm\\bpyth\n",
      "Requires: \n",
      "Required-by: bj-nlp, blab, pandasklar\n"
     ]
    }
   ],
   "source": [
    "# show\n",
    "!pip show bpyth"
   ]
  },
  {
   "cell_type": "code",
   "execution_count": 5,
   "id": "baf8f2b6-2bb4-4460-b654-f4454bfec48f",
   "metadata": {
    "execution": {
     "iopub.execute_input": "2025-03-16T18:37:58.905765Z",
     "iopub.status.busy": "2025-03-16T18:37:58.905765Z",
     "iopub.status.idle": "2025-03-16T18:37:59.534693Z",
     "shell.execute_reply": "2025-03-16T18:37:59.534693Z",
     "shell.execute_reply.started": "2025-03-16T18:37:58.905765Z"
    }
   },
   "outputs": [],
   "source": [
    "# test import\n",
    "# Wenn dies failed: Restart Kernel and Run all Cells\n",
    "import bpyth as bpy"
   ]
  },
  {
   "cell_type": "code",
   "execution_count": 6,
   "id": "43f0bbdd-2df6-4534-a86e-77657d0329da",
   "metadata": {
    "execution": {
     "iopub.execute_input": "2025-03-16T18:37:59.536197Z",
     "iopub.status.busy": "2025-03-16T18:37:59.536197Z",
     "iopub.status.idle": "2025-03-16T18:38:00.633899Z",
     "shell.execute_reply": "2025-03-16T18:38:00.633899Z",
     "shell.execute_reply.started": "2025-03-16T18:37:59.536197Z"
    }
   },
   "outputs": [
    {
     "name": "stdout",
     "output_type": "stream",
     "text": [
      "Hello bpyth 0.2.1\n"
     ]
    }
   ],
   "source": [
    "# test script\n",
    "!bpyth"
   ]
  },
  {
   "cell_type": "code",
   "execution_count": 7,
   "id": "af89728f-67b5-48bb-ab8b-828535cb2981",
   "metadata": {
    "execution": {
     "iopub.execute_input": "2025-03-16T18:38:00.634908Z",
     "iopub.status.busy": "2025-03-16T18:38:00.634908Z",
     "iopub.status.idle": "2025-03-16T18:38:04.225061Z",
     "shell.execute_reply": "2025-03-16T18:38:04.225061Z",
     "shell.execute_reply.started": "2025-03-16T18:38:00.634908Z"
    }
   },
   "outputs": [
    {
     "name": "stdout",
     "output_type": "stream",
     "text": [
      "\u001b[1m============================= test session starts =============================\u001b[0m\n",
      "platform win32 -- Python 3.12.9, pytest-8.3.5, pluggy-1.5.0\n",
      "rootdir: D:\\Dropbox\\31_Projekte\\01_Python\\88_PyCharm\\bpyth\n",
      "configfile: pyproject.toml\n",
      "plugins: anyio-4.8.0, dash-2.18.2\n",
      "collected 74 items\n",
      "\n",
      "tests\\test_bpyth_files.py \u001b[32m.\u001b[0m\u001b[32m.\u001b[0m\u001b[32m.\u001b[0m\u001b[32m.\u001b[0m\u001b[32m.\u001b[0m\u001b[32m.\u001b[0m\u001b[32m.\u001b[0m\u001b[32m                                        [  9%]\u001b[0m\n",
      "tests\\test_bpyth_human.py \u001b[32m.\u001b[0m\u001b[32m.\u001b[0m\u001b[32m.\u001b[0m\u001b[32m.\u001b[0m\u001b[32m.\u001b[0m\u001b[32m.\u001b[0m\u001b[32m.\u001b[0m\u001b[32m.\u001b[0m\u001b[32m.\u001b[0m\u001b[32m.\u001b[0m\u001b[32m.\u001b[0m\u001b[32m.\u001b[0m\u001b[32m.\u001b[0m\u001b[32m.\u001b[0m\u001b[32m.\u001b[0m\u001b[32m.\u001b[0m\u001b[32m.\u001b[0m\u001b[32m                              [ 32%]\u001b[0m\n",
      "tests\\test_bpyth_iterable.py \u001b[32m.\u001b[0m\u001b[32m.\u001b[0m\u001b[32m.\u001b[0m\u001b[32m.\u001b[0m\u001b[32m.\u001b[0m\u001b[32m.\u001b[0m\u001b[32m.\u001b[0m\u001b[32m.\u001b[0m\u001b[32m.\u001b[0m\u001b[32m.\u001b[0m\u001b[32m.\u001b[0m\u001b[32m.\u001b[0m\u001b[32m.\u001b[0m\u001b[32m.\u001b[0m\u001b[32m.\u001b[0m\u001b[32m                             [ 52%]\u001b[0m\n",
      "tests\\test_bpyth_iterable_minivenn.py \u001b[32m.\u001b[0m\u001b[32m.\u001b[0m\u001b[32m.\u001b[0m\u001b[32m.\u001b[0m\u001b[32m.\u001b[0m\u001b[32m.\u001b[0m\u001b[32m.\u001b[0m\u001b[32m.\u001b[0m\u001b[32m                           [ 63%]\u001b[0m\n",
      "tests\\test_bpyth_object_analysis.py \u001b[32m.\u001b[0m\u001b[32m.\u001b[0m\u001b[32m.\u001b[0m\u001b[32m.\u001b[0m\u001b[32m.\u001b[0m\u001b[32m.\u001b[0m\u001b[32m.\u001b[0m\u001b[32m.\u001b[0m\u001b[32m.\u001b[0m\u001b[32m.\u001b[0m\u001b[32m.\u001b[0m\u001b[32m.\u001b[0m\u001b[32m.\u001b[0m\u001b[32m.\u001b[0m\u001b[32m                       [ 82%]\u001b[0m\n",
      "tests\\test_bpyth_object_analysis_pandas.py \u001b[32m.\u001b[0m\u001b[32m.\u001b[0m\u001b[32m.\u001b[0m\u001b[32m.\u001b[0m\u001b[32m.\u001b[0m\u001b[32m.\u001b[0m\u001b[32m.\u001b[0m\u001b[32m.\u001b[0m\u001b[32m                      [ 93%]\u001b[0m\n",
      "tests\\test_bpyth_string.py \u001b[32m.\u001b[0m\u001b[32m.\u001b[0m\u001b[32m.\u001b[0m\u001b[32m.\u001b[0m\u001b[32m.\u001b[0m\u001b[32m                                         [100%]\u001b[0m\n",
      "\n",
      "\u001b[32m============================= \u001b[32m\u001b[1m74 passed\u001b[0m\u001b[32m in 0.97s\u001b[0m\u001b[32m ==============================\u001b[0m\n"
     ]
    }
   ],
   "source": [
    "!pytest"
   ]
  },
  {
   "cell_type": "code",
   "execution_count": 8,
   "id": "368b880d-213c-4683-b7ac-22b4105e57ff",
   "metadata": {
    "execution": {
     "iopub.execute_input": "2025-03-16T18:38:04.226066Z",
     "iopub.status.busy": "2025-03-16T18:38:04.226066Z",
     "iopub.status.idle": "2025-03-16T18:38:05.651303Z",
     "shell.execute_reply": "2025-03-16T18:38:05.651303Z",
     "shell.execute_reply.started": "2025-03-16T18:38:04.226066Z"
    }
   },
   "outputs": [
    {
     "name": "stdout",
     "output_type": "stream",
     "text": [
      "blab init\n",
      "environment['in_colab']     = False\n",
      "environment['dropbox_path'] = D:\\Dropbox\n",
      "environment['lib_path']     = D:\\Dropbox\\31_Projekte\\01_Python\\libs\n",
      "Start Time: 19:38:04\n"
     ]
    },
    {
     "data": {
      "text/html": [
       "<img src onerror=\"var cell = this.closest('.jp-CodeCell');var editor = cell.querySelector('.jp-Editor');editor.style.background='Beige';this.parentNode.removeChild(this)\">"
      ],
      "text/plain": [
       "<IPython.core.display.HTML object>"
      ]
     },
     "metadata": {},
     "output_type": "display_data"
    }
   ],
   "source": [
    "# blab init\n",
    "try:\n",
    "    import blab\n",
    "    startup_notebook = blab.blab_startup()\n",
    "    %run $startup_notebook\n",
    "except:\n",
    "    pass"
   ]
  },
  {
   "cell_type": "code",
   "execution_count": 9,
   "id": "d0c4ca23-ef67-439e-b389-eef9814f9e9b",
   "metadata": {
    "execution": {
     "iopub.execute_input": "2025-03-16T18:38:05.651303Z",
     "iopub.status.busy": "2025-03-16T18:38:05.651303Z",
     "iopub.status.idle": "2025-03-16T18:38:05.861807Z",
     "shell.execute_reply": "2025-03-16T18:38:05.860799Z",
     "shell.execute_reply.started": "2025-03-16T18:38:05.651303Z"
    }
   },
   "outputs": [
    {
     "name": "stdout",
     "output_type": "stream",
     "text": [
      "Stop Time:  19:38:05\n",
      "Elapsed:    1 secs\n"
     ]
    },
    {
     "data": {
      "text/html": [
       "<img src onerror=\"var cell = this.closest('.jp-CodeCell');var editor = cell.querySelector('.jp-Editor');editor.style.background='DarkGray';this.parentNode.removeChild(this)\">"
      ],
      "text/plain": [
       "<IPython.core.display.HTML object>"
      ]
     },
     "metadata": {},
     "output_type": "display_data"
    }
   ],
   "source": [
    "raise Stop"
   ]
  },
  {
   "cell_type": "markdown",
   "id": "efa2c656-785f-45b7-a3b5-a9ae251bce06",
   "metadata": {},
   "source": [
    "## build"
   ]
  },
  {
   "cell_type": "code",
   "execution_count": null,
   "id": "f20cbd4d-b38b-4bc9-a750-b14851fb174b",
   "metadata": {
    "execution": {
     "iopub.status.busy": "2025-03-16T18:38:05.861807Z",
     "iopub.status.idle": "2025-03-16T18:38:05.862805Z",
     "shell.execute_reply": "2025-03-16T18:38:05.861807Z",
     "shell.execute_reply.started": "2025-03-16T18:38:05.861807Z"
    }
   },
   "outputs": [],
   "source": [
    "!pip install -q build"
   ]
  },
  {
   "cell_type": "code",
   "execution_count": null,
   "id": "c745f5da-d6e4-408a-aa73-1166ccc6fd5b",
   "metadata": {
    "execution": {
     "iopub.status.busy": "2025-03-16T18:38:05.862805Z",
     "iopub.status.idle": "2025-03-16T18:38:05.863805Z",
     "shell.execute_reply": "2025-03-16T18:38:05.862805Z",
     "shell.execute_reply.started": "2025-03-16T18:38:05.862805Z"
    }
   },
   "outputs": [],
   "source": [
    "!python -m build"
   ]
  },
  {
   "cell_type": "markdown",
   "id": "e6b13397-01f2-4ffb-9668-dc9a58196db9",
   "metadata": {},
   "source": [
    "## Publish on github"
   ]
  },
  {
   "cell_type": "code",
   "execution_count": null,
   "id": "d444d5d8-ddb6-451e-9300-fa6424dde8f0",
   "metadata": {
    "execution": {
     "iopub.status.busy": "2025-03-16T18:38:05.863882Z",
     "iopub.status.idle": "2025-03-16T18:38:05.863882Z",
     "shell.execute_reply": "2025-03-16T18:38:05.863882Z",
     "shell.execute_reply.started": "2025-03-16T18:38:05.863882Z"
    }
   },
   "outputs": [],
   "source": [
    "!git status"
   ]
  },
  {
   "cell_type": "code",
   "execution_count": null,
   "id": "3d4b6e41-d98d-467c-981c-72405459c542",
   "metadata": {
    "execution": {
     "iopub.status.busy": "2025-03-16T18:38:05.863882Z",
     "iopub.status.idle": "2025-03-16T18:38:05.863882Z",
     "shell.execute_reply": "2025-03-16T18:38:05.863882Z",
     "shell.execute_reply.started": "2025-03-16T18:38:05.863882Z"
    }
   },
   "outputs": [],
   "source": [
    "!git config credential.helper store"
   ]
  },
  {
   "cell_type": "code",
   "execution_count": null,
   "id": "a9a7e740-2661-43c1-9743-bef78afaba54",
   "metadata": {
    "execution": {
     "iopub.status.busy": "2025-03-16T18:38:05.863882Z",
     "iopub.status.idle": "2025-03-16T18:38:05.863882Z",
     "shell.execute_reply": "2025-03-16T18:38:05.863882Z",
     "shell.execute_reply.started": "2025-03-16T18:38:05.863882Z"
    }
   },
   "outputs": [],
   "source": [
    "!git add --all"
   ]
  },
  {
   "cell_type": "code",
   "execution_count": null,
   "id": "fbfaaaaa-f75a-459d-b2f3-3a8d337ee310",
   "metadata": {
    "execution": {
     "iopub.status.busy": "2025-03-16T18:38:05.863882Z",
     "iopub.status.idle": "2025-03-16T18:38:05.863882Z",
     "shell.execute_reply": "2025-03-16T18:38:05.863882Z",
     "shell.execute_reply.started": "2025-03-16T18:38:05.863882Z"
    }
   },
   "outputs": [],
   "source": [
    "# Commit message eintragen und run\n",
    "!git commit -m \"ֹ\""
   ]
  },
  {
   "cell_type": "code",
   "execution_count": null,
   "id": "9c24bc9a-6a3b-4eda-86f4-27a2b4b21a8c",
   "metadata": {
    "execution": {
     "iopub.status.busy": "2025-03-16T18:38:05.863882Z",
     "iopub.status.idle": "2025-03-16T18:38:05.863882Z",
     "shell.execute_reply": "2025-03-16T18:38:05.863882Z",
     "shell.execute_reply.started": "2025-03-16T18:38:05.863882Z"
    },
    "tags": []
   },
   "outputs": [],
   "source": [
    "!git push origin master"
   ]
  },
  {
   "cell_type": "code",
   "execution_count": null,
   "id": "fc1bb674-46b3-4d13-98aa-d24f62df0bf7",
   "metadata": {
    "execution": {
     "iopub.status.busy": "2025-03-16T18:38:05.863882Z",
     "iopub.status.idle": "2025-03-16T18:38:05.863882Z",
     "shell.execute_reply": "2025-03-16T18:38:05.863882Z",
     "shell.execute_reply.started": "2025-03-16T18:38:05.863882Z"
    }
   },
   "outputs": [],
   "source": [
    "raise Stop"
   ]
  },
  {
   "cell_type": "markdown",
   "id": "d610974a-6298-4078-83f9-822dd1678330",
   "metadata": {},
   "source": [
    "* Terminal ins Verzeichnis öffnen\n",
    "* `git push origin master`\n",
    "* Personal Access Token verwenden statt Passwort\n",
    "* überprüfen: https://github.com/djekra/bpyth"
   ]
  },
  {
   "cell_type": "markdown",
   "id": "c5eb839e-634b-475f-919b-7dd8bc234658",
   "metadata": {},
   "source": [
    "## Publish on pypi.org"
   ]
  },
  {
   "cell_type": "markdown",
   "id": "aec9a4fc-d8e5-4db5-b5c7-0ecb627cd670",
   "metadata": {},
   "source": [
    "* `python -m twine upload --skip-existing dist/*` \n",
    "* Version überprüfen: https://pypi.org/project/bpyth/"
   ]
  },
  {
   "cell_type": "markdown",
   "id": "16c9f64f-40af-41ac-90db-f802bb8f73c1",
   "metadata": {},
   "source": [
    "## Test from PyPi"
   ]
  },
  {
   "cell_type": "code",
   "execution_count": null,
   "id": "3af8896f-3f40-4d28-a365-fc4c0cb4228f",
   "metadata": {
    "execution": {
     "iopub.status.busy": "2025-03-16T18:38:05.863882Z",
     "iopub.status.idle": "2025-03-16T18:38:05.863882Z",
     "shell.execute_reply": "2025-03-16T18:38:05.863882Z",
     "shell.execute_reply.started": "2025-03-16T18:38:05.863882Z"
    }
   },
   "outputs": [],
   "source": [
    "# uninstall\n",
    "!pip uninstall -y bpyth"
   ]
  },
  {
   "cell_type": "code",
   "execution_count": null,
   "id": "8ea8f83c-6970-424a-993d-f8e378e5faa9",
   "metadata": {
    "execution": {
     "iopub.status.busy": "2025-03-16T18:38:05.863882Z",
     "iopub.status.idle": "2025-03-16T18:38:05.863882Z",
     "shell.execute_reply": "2025-03-16T18:38:05.863882Z",
     "shell.execute_reply.started": "2025-03-16T18:38:05.863882Z"
    }
   },
   "outputs": [],
   "source": [
    "!pip install bpyth --no-cache-dir "
   ]
  },
  {
   "cell_type": "code",
   "execution_count": null,
   "id": "5655c1d6-916d-4f5a-90aa-1877b6a5317b",
   "metadata": {
    "execution": {
     "iopub.status.busy": "2025-03-16T18:38:05.863882Z",
     "iopub.status.idle": "2025-03-16T18:38:05.863882Z",
     "shell.execute_reply": "2025-03-16T18:38:05.863882Z",
     "shell.execute_reply.started": "2025-03-16T18:38:05.863882Z"
    }
   },
   "outputs": [],
   "source": [
    "# test import\n",
    "import bpyth as bpy"
   ]
  },
  {
   "cell_type": "code",
   "execution_count": null,
   "id": "b1a1633d-62ad-4088-8b90-6447cc84daf6",
   "metadata": {
    "execution": {
     "iopub.status.busy": "2025-03-16T18:38:05.863882Z",
     "iopub.status.idle": "2025-03-16T18:38:05.863882Z",
     "shell.execute_reply": "2025-03-16T18:38:05.863882Z",
     "shell.execute_reply.started": "2025-03-16T18:38:05.863882Z"
    }
   },
   "outputs": [],
   "source": [
    "# test script\n",
    "!bpyth"
   ]
  },
  {
   "cell_type": "code",
   "execution_count": null,
   "id": "afc1fc34-be1c-4686-9826-0f09129451b9",
   "metadata": {
    "execution": {
     "iopub.status.busy": "2025-03-16T18:38:05.863882Z",
     "iopub.status.idle": "2025-03-16T18:38:05.863882Z",
     "shell.execute_reply": "2025-03-16T18:38:05.863882Z",
     "shell.execute_reply.started": "2025-03-16T18:38:05.863882Z"
    }
   },
   "outputs": [],
   "source": [
    "!pytest"
   ]
  },
  {
   "cell_type": "code",
   "execution_count": null,
   "id": "d734da84-24da-4fa9-8a12-139486f7bf76",
   "metadata": {
    "execution": {
     "iopub.status.busy": "2025-03-16T18:38:05.863882Z",
     "iopub.status.idle": "2025-03-16T18:38:05.863882Z",
     "shell.execute_reply": "2025-03-16T18:38:05.863882Z",
     "shell.execute_reply.started": "2025-03-16T18:38:05.863882Z"
    },
    "tags": []
   },
   "outputs": [],
   "source": [
    "# show version\n",
    "from importlib.metadata import version  \n",
    "version('bpyth')  "
   ]
  }
 ],
 "metadata": {
  "kernelspec": {
   "display_name": "Python 3 (ipykernel)",
   "language": "python",
   "name": "python3"
  },
  "language_info": {
   "codemirror_mode": {
    "name": "ipython",
    "version": 3
   },
   "file_extension": ".py",
   "mimetype": "text/x-python",
   "name": "python",
   "nbconvert_exporter": "python",
   "pygments_lexer": "ipython3",
   "version": "3.12.9"
  }
 },
 "nbformat": 4,
 "nbformat_minor": 5
}
