{
 "cells": [
  {
   "cell_type": "markdown",
   "id": "3fd10409-2f5f-4628-8768-3a7e489d33b4",
   "metadata": {},
   "source": [
    "## Create README"
   ]
  },
  {
   "cell_type": "code",
   "execution_count": 1,
   "id": "14ea296b-20d0-4bfe-ada6-64aca05ca146",
   "metadata": {
    "execution": {
     "iopub.execute_input": "2025-03-13T20:58:41.632720Z",
     "iopub.status.busy": "2025-03-13T20:58:41.632435Z",
     "iopub.status.idle": "2025-03-13T20:58:43.319337Z",
     "shell.execute_reply": "2025-03-13T20:58:43.317904Z",
     "shell.execute_reply.started": "2025-03-13T20:58:41.632692Z"
    }
   },
   "outputs": [
    {
     "name": "stdout",
     "output_type": "stream",
     "text": [
      "[NbConvertApp] Converting notebook README.ipynb to markdown\n",
      "[NbConvertApp] Writing 1925 bytes to README.md\n"
     ]
    }
   ],
   "source": [
    "!jupyter nbconvert --ClearMetadataPreprocessor.enabled=True --ClearOutput.enabled=True --to markdown README.ipynb"
   ]
  },
  {
   "cell_type": "markdown",
   "id": "a4547f78-251b-45b5-a478-27dc691d193b",
   "metadata": {},
   "source": [
    "## Local install"
   ]
  },
  {
   "cell_type": "code",
   "execution_count": 2,
   "id": "30be06b0-90b1-41b1-a63d-9cec8e4a05ab",
   "metadata": {
    "execution": {
     "iopub.execute_input": "2025-03-13T20:58:43.321758Z",
     "iopub.status.busy": "2025-03-13T20:58:43.321187Z",
     "iopub.status.idle": "2025-03-13T20:58:44.105496Z",
     "shell.execute_reply": "2025-03-13T20:58:44.102540Z",
     "shell.execute_reply.started": "2025-03-13T20:58:43.321696Z"
    }
   },
   "outputs": [
    {
     "name": "stdout",
     "output_type": "stream",
     "text": [
      "Found existing installation: bpyth 0.2.0\n",
      "Uninstalling bpyth-0.2.0:\n",
      "  Successfully uninstalled bpyth-0.2.0\n"
     ]
    }
   ],
   "source": [
    "# uninstall\n",
    "!pip uninstall -y bpyth"
   ]
  },
  {
   "cell_type": "code",
   "execution_count": 3,
   "id": "f345ee0f-748f-40be-8578-8ad4ac4d9fe3",
   "metadata": {
    "execution": {
     "iopub.execute_input": "2025-03-13T20:58:44.110418Z",
     "iopub.status.busy": "2025-03-13T20:58:44.109388Z",
     "iopub.status.idle": "2025-03-13T20:58:47.851483Z",
     "shell.execute_reply": "2025-03-13T20:58:47.849001Z",
     "shell.execute_reply.started": "2025-03-13T20:58:44.110329Z"
    }
   },
   "outputs": [
    {
     "name": "stdout",
     "output_type": "stream",
     "text": [
      "Obtaining file:///media/me/LinuxDropbox/Dropbox/31_Projekte/01_Python/88_PyCharm/bpyth\n",
      "  Installing build dependencies ... \u001b[?2done\n",
      "\u001b[?25h  Checking if build backend supports build_editable ... \u001b[?25ldone\n",
      "\u001b[?25h  Getting requirements to build editable ... \u001b[?25ldone\n",
      "\u001b[?25h  Preparing editable metadata (pyproject.toml) ... \u001b[?25ldone\n",
      "\u001b[?25hBuilding wheels for collected packages: bpyth\n",
      "  Building editable for bpyth (pyproject.toml) ... \u001b[?25ldone\n",
      "\u001b[?25h  Created wheel for bpyth: filename=bpyth-0.2.1-0.editable-py3-none-any.whl size=3289 sha256=dfac85191bfdd108da5ec206303bd88041900a4e22f37ce1533e39cd621499f5\n",
      "  Stored in directory: /tmp/pip-ephem-wheel-cache-um9r8y84/wheels/c2/a6/e7/39d92769ff95a8171fafd8644e7db93999e768068775cbded5\n",
      "Successfully built bpyth\n",
      "Installing collected packages: bpyth\n",
      "Successfully installed bpyth-0.2.1\n"
     ]
    }
   ],
   "source": [
    "# install locally\n",
    "!python -m pip install -e ."
   ]
  },
  {
   "cell_type": "code",
   "execution_count": 4,
   "id": "8cec0e88-e3c2-4020-b9c9-176bcd255c46",
   "metadata": {
    "execution": {
     "iopub.execute_input": "2025-03-13T20:58:47.856481Z",
     "iopub.status.busy": "2025-03-13T20:58:47.854727Z",
     "iopub.status.idle": "2025-03-13T20:58:48.581744Z",
     "shell.execute_reply": "2025-03-13T20:58:48.580874Z",
     "shell.execute_reply.started": "2025-03-13T20:58:47.856389Z"
    }
   },
   "outputs": [
    {
     "name": "stdout",
     "output_type": "stream",
     "text": [
      "Name: bpyth\n",
      "Version: 0.2.1\n",
      "Summary: Various Python Tools\n",
      "Home-page: https://github.com/djekra/bpyth\n",
      "Author: \n",
      "Author-email: djekra <hopsalla@gmail.com>\n",
      "License: MIT\n",
      "Location: /home/me/miniforge3/envs/python_07/lib/python3.12/site-packages\n",
      "Editable project location: /media/me/LinuxDropbox/Dropbox/31_Projekte/01_Python/88_PyCharm/bpyth\n",
      "Requires: \n",
      "Required-by: bj-nlp, blab, pandasklar\n"
     ]
    }
   ],
   "source": [
    "# show\n",
    "!pip show bpyth"
   ]
  },
  {
   "cell_type": "code",
   "execution_count": 5,
   "id": "baf8f2b6-2bb4-4460-b654-f4454bfec48f",
   "metadata": {
    "execution": {
     "iopub.execute_input": "2025-03-13T20:58:48.583731Z",
     "iopub.status.busy": "2025-03-13T20:58:48.583136Z",
     "iopub.status.idle": "2025-03-13T20:58:48.938757Z",
     "shell.execute_reply": "2025-03-13T20:58:48.938276Z",
     "shell.execute_reply.started": "2025-03-13T20:58:48.583677Z"
    }
   },
   "outputs": [],
   "source": [
    "# test import\n",
    "# Wenn dies failed: Restart Kernel and Run all Cells\n",
    "import bpyth as bpy"
   ]
  },
  {
   "cell_type": "code",
   "execution_count": 6,
   "id": "43f0bbdd-2df6-4534-a86e-77657d0329da",
   "metadata": {
    "execution": {
     "iopub.execute_input": "2025-03-13T20:58:48.941473Z",
     "iopub.status.busy": "2025-03-13T20:58:48.940788Z",
     "iopub.status.idle": "2025-03-13T20:58:49.562167Z",
     "shell.execute_reply": "2025-03-13T20:58:49.560959Z",
     "shell.execute_reply.started": "2025-03-13T20:58:48.941438Z"
    }
   },
   "outputs": [
    {
     "name": "stdout",
     "output_type": "stream",
     "text": [
      "Hello bpyth 0.2.1\n"
     ]
    }
   ],
   "source": [
    "# test script\n",
    "!bpyth"
   ]
  },
  {
   "cell_type": "code",
   "execution_count": 7,
   "id": "af89728f-67b5-48bb-ab8b-828535cb2981",
   "metadata": {
    "execution": {
     "iopub.execute_input": "2025-03-13T20:58:49.563794Z",
     "iopub.status.busy": "2025-03-13T20:58:49.563447Z",
     "iopub.status.idle": "2025-03-13T20:58:51.327470Z",
     "shell.execute_reply": "2025-03-13T20:58:51.324906Z",
     "shell.execute_reply.started": "2025-03-13T20:58:49.563763Z"
    }
   },
   "outputs": [
    {
     "name": "stdout",
     "output_type": "stream",
     "text": [
      "\u001b[1m============================= test session starts ==============================\u001b[0m\n",
      "platform linux -- Python 3.12.9, pytest-8.3.5, pluggy-1.5.0\n",
      "rootdir: /media/me/LinuxDropbox/Dropbox/31_Projekte/01_Python/88_PyCharm/bpyth\n",
      "configfile: pyproject.toml\n",
      "plugins: dash-2.18.2, anyio-4.8.0\n",
      "collected 70 items                                                             \u001b[0m\n",
      "\n",
      "tests/test_bpyth_files.py \u001b[32m.\u001b[0m\u001b[32m.\u001b[0m\u001b[32m.\u001b[0m\u001b[32m.\u001b[0m\u001b[32m.\u001b[0m\u001b[32m.\u001b[0m\u001b[32m.\u001b[0m\u001b[32m                                        [ 10%]\u001b[0m\n",
      "tests/test_bpyth_human.py \u001b[32m.\u001b[0m\u001b[32m.\u001b[0m\u001b[32m.\u001b[0m\u001b[32m.\u001b[0m\u001b[32m.\u001b[0m\u001b[32m.\u001b[0m\u001b[32m.\u001b[0m\u001b[32m.\u001b[0m\u001b[32m.\u001b[0m\u001b[32m.\u001b[0m\u001b[32m.\u001b[0m\u001b[32m.\u001b[0m\u001b[32m.\u001b[0m\u001b[32m.\u001b[0m\u001b[32m.\u001b[0m\u001b[32m.\u001b[0m\u001b[32m.\u001b[0m\u001b[32m                              [ 34%]\u001b[0m\n",
      "tests/test_bpyth_iterable.py \u001b[32m.\u001b[0m\u001b[32m.\u001b[0m\u001b[32m.\u001b[0m\u001b[32m.\u001b[0m\u001b[32m.\u001b[0m\u001b[32m.\u001b[0m\u001b[32m.\u001b[0m\u001b[32m.\u001b[0m\u001b[32m.\u001b[0m\u001b[32m.\u001b[0m\u001b[32m.\u001b[0m\u001b[32m.\u001b[0m\u001b[32m.\u001b[0m\u001b[32m.\u001b[0m\u001b[32m.\u001b[0m\u001b[32m                             [ 55%]\u001b[0m\n",
      "tests/test_bpyth_iterable_minivenn.py \u001b[32m.\u001b[0m\u001b[32m.\u001b[0m\u001b[32m.\u001b[0m\u001b[32m.\u001b[0m\u001b[32m.\u001b[0m\u001b[32m.\u001b[0m\u001b[32m.\u001b[0m\u001b[32m.\u001b[0m\u001b[32m                           [ 67%]\u001b[0m\n",
      "\u001b[31mF\u001b[0m\u001b[31mF\u001b[0m\u001b[31mF\u001b[0m\u001b[31mF\u001b[0m\u001b[31mF\u001b[0m\u001b[32m.\u001b[0m\u001b[32m.\u001b[0m\u001b[32m.\u001b[0m\u001b[32m.\u001b[0m\u001b[32m.\u001b[0m\u001b[32m.\u001b[0m\u001b[32m.\u001b[0m\u001b[32m.\u001b[0m\u001b[31m                       [ 87%]\u001b[0m\n",
      "\u001b[31mF\u001b[0m\u001b[31m                          [ 92%]\u001b[0m0m\u001b[32m.\u001b[0m\u001b[31mF\u001b[0m\n",
      "tests/test_bpyth_string.py \u001b[32m.\u001b[0m\u001b[32m.\u001b[0m\u001b[32m.\u001b[0m\u001b[32m.\u001b[0m\u001b[32m.\u001b[0m\u001b[31m                                         [100%]\u001b[0m\n",
      "\n",
      "=================================== FAILURES ===================================\n",
      "\u001b[31m\u001b[1m_________________________ TestRtype.test_rtype_normal __________________________\u001b[0m\n",
      "\n",
      "self = <test_bpyth_object_analysis.TestRtype object at 0x76c1b5f889b0>\n",
      "\n",
      "    \u001b[0m\u001b[94mdef\u001b[39;49;00m\u001b[90m \u001b[39;49;00m\u001b[92mtest_rtype_normal\u001b[39;49;00m(\u001b[96mself\u001b[39;49;00m):\u001b[90m\u001b[39;49;00m\n",
      "        \u001b[94massert\u001b[39;49;00m rtype(\u001b[94m1\u001b[39;49;00m) == (\u001b[33m\"\u001b[39;49;00m\u001b[33mint\u001b[39;49;00m\u001b[33m\"\u001b[39;49;00m,)\u001b[90m\u001b[39;49;00m\n",
      "        \u001b[94massert\u001b[39;49;00m rtype(\u001b[33m\"\u001b[39;49;00m\u001b[33mabc\u001b[39;49;00m\u001b[33m\"\u001b[39;49;00m) == (\u001b[33m\"\u001b[39;49;00m\u001b[33mstr\u001b[39;49;00m\u001b[33m\"\u001b[39;49;00m,)\u001b[90m\u001b[39;49;00m\n",
      ">       \u001b[94massert\u001b[39;49;00m rtype([\u001b[94m1\u001b[39;49;00m, \u001b[94m2\u001b[39;49;00m, \u001b[94m3\u001b[39;49;00m]) == (\u001b[33m\"\u001b[39;49;00m\u001b[33mlist\u001b[39;49;00m\u001b[33m\"\u001b[39;49;00m, \u001b[33m\"\u001b[39;49;00m\u001b[33mint\u001b[39;49;00m\u001b[33m\"\u001b[39;49;00m)\u001b[90m\u001b[39;49;00m\n",
      "\n",
      "\u001b[1m\u001b[31mtests/test_bpyth_object_analysis.py\u001b[0m:23: \n",
      "_ _ _ _ _ _ _ _ _ _ _ _ _ _ _ _ _ _ _ _ _ _ _ _ _ _ _ _ _ _ _ _ _ _ _ _ _ _ _ _ \n",
      "\n",
      "inp = [1, 2, 3]\n",
      "\n",
      "    \u001b[0m\u001b[94mdef\u001b[39;49;00m\u001b[90m \u001b[39;49;00m\u001b[92mrtype\u001b[39;49;00m(inp):\u001b[90m\u001b[39;49;00m\n",
      "    \u001b[90m    \u001b[39;49;00m\u001b[33m'''\u001b[39;49;00m\n",
      "    \u001b[33m    Returns the type of the input object as a tuple.\u001b[39;49;00m\n",
      "    \u001b[33m    '''\u001b[39;49;00m\u001b[90m\u001b[39;49;00m\n",
      "    \u001b[90m\u001b[39;49;00m\n",
      "        \u001b[94mif\u001b[39;49;00m \u001b[96misinstance\u001b[39;49;00m(inp, pd.DataFrame):\u001b[90m\u001b[39;49;00m\n",
      "            result = [\u001b[33m\"\u001b[39;49;00m\u001b[33mDataFrame\u001b[39;49;00m\u001b[33m\"\u001b[39;49;00m]\u001b[90m\u001b[39;49;00m\n",
      "            \u001b[94mfor\u001b[39;49;00m col \u001b[95min\u001b[39;49;00m inp.columns:\u001b[90m\u001b[39;49;00m\n",
      "                result.append(\u001b[33m\"\u001b[39;49;00m\u001b[33mSeries\u001b[39;49;00m\u001b[33m\"\u001b[39;49;00m)\u001b[90m\u001b[39;49;00m\n",
      "                \u001b[94mif\u001b[39;49;00m \u001b[95mnot\u001b[39;49;00m inp[col].empty:\u001b[90m\u001b[39;49;00m\n",
      "                    result.append(stype(inp[col].iloc[\u001b[94m0\u001b[39;49;00m]))\u001b[90m\u001b[39;49;00m\n",
      "            \u001b[94mreturn\u001b[39;49;00m \u001b[96mtuple\u001b[39;49;00m(result)\u001b[90m\u001b[39;49;00m\n",
      "    \u001b[90m\u001b[39;49;00m\n",
      "        \u001b[94mif\u001b[39;49;00m \u001b[96misinstance\u001b[39;49;00m(inp, pd.Series):\u001b[90m\u001b[39;49;00m\n",
      "            \u001b[94mif\u001b[39;49;00m inp.empty:\u001b[90m\u001b[39;49;00m\n",
      "                \u001b[94mreturn\u001b[39;49;00m (\u001b[33m\"\u001b[39;49;00m\u001b[33mSeries\u001b[39;49;00m\u001b[33m\"\u001b[39;49;00m,)\u001b[90m\u001b[39;49;00m\n",
      "            \u001b[94mreturn\u001b[39;49;00m (\u001b[33m\"\u001b[39;49;00m\u001b[33mSeries\u001b[39;49;00m\u001b[33m\"\u001b[39;49;00m, stype(inp.iloc[\u001b[94m0\u001b[39;49;00m]))\u001b[90m\u001b[39;49;00m\n",
      "    \u001b[90m\u001b[39;49;00m\n",
      "        \u001b[94mif\u001b[39;49;00m \u001b[96misinstance\u001b[39;49;00m(inp, \u001b[96mstr\u001b[39;49;00m):\u001b[90m\u001b[39;49;00m\n",
      "            \u001b[94mreturn\u001b[39;49;00m (\u001b[33m\"\u001b[39;49;00m\u001b[33mstr\u001b[39;49;00m\u001b[33m\"\u001b[39;49;00m,)\u001b[90m\u001b[39;49;00m\n",
      "    \u001b[90m\u001b[39;49;00m\n",
      "        \u001b[94mif\u001b[39;49;00m \u001b[96misinstance\u001b[39;49;00m(inp, \u001b[96mbytes\u001b[39;49;00m):\u001b[90m\u001b[39;49;00m\n",
      "            \u001b[94mreturn\u001b[39;49;00m (\u001b[33m\"\u001b[39;49;00m\u001b[33mbytes\u001b[39;49;00m\u001b[33m\"\u001b[39;49;00m,)\u001b[90m\u001b[39;49;00m\n",
      "    \u001b[90m\u001b[39;49;00m\n",
      "        \u001b[94mif\u001b[39;49;00m \u001b[96misinstance\u001b[39;49;00m(inp, \u001b[96mint\u001b[39;49;00m):\u001b[90m\u001b[39;49;00m\n",
      "            \u001b[94mreturn\u001b[39;49;00m (\u001b[33m\"\u001b[39;49;00m\u001b[33mint\u001b[39;49;00m\u001b[33m\"\u001b[39;49;00m,)\u001b[90m\u001b[39;49;00m\n",
      "    \u001b[90m\u001b[39;49;00m\n",
      "        \u001b[94mif\u001b[39;49;00m \u001b[96misinstance\u001b[39;49;00m(inp, \u001b[96mfloat\u001b[39;49;00m):\u001b[90m\u001b[39;49;00m\n",
      "            \u001b[94mreturn\u001b[39;49;00m (\u001b[33m\"\u001b[39;49;00m\u001b[33mfloat\u001b[39;49;00m\u001b[33m\"\u001b[39;49;00m,)\u001b[90m\u001b[39;49;00m\n",
      "    \u001b[90m\u001b[39;49;00m\n",
      "        \u001b[94mif\u001b[39;49;00m \u001b[96misinstance\u001b[39;49;00m(inp, \u001b[96mbool\u001b[39;49;00m):\u001b[90m\u001b[39;49;00m\n",
      "            \u001b[94mreturn\u001b[39;49;00m (\u001b[33m\"\u001b[39;49;00m\u001b[33mbool\u001b[39;49;00m\u001b[33m\"\u001b[39;49;00m,)\u001b[90m\u001b[39;49;00m\n",
      "    \u001b[90m\u001b[39;49;00m\n",
      "        \u001b[94mif\u001b[39;49;00m inp \u001b[95mis\u001b[39;49;00m \u001b[94mNone\u001b[39;49;00m:\u001b[90m\u001b[39;49;00m\n",
      "            \u001b[94mreturn\u001b[39;49;00m (\u001b[33m\"\u001b[39;49;00m\u001b[33mNoneType\u001b[39;49;00m\u001b[33m\"\u001b[39;49;00m,)\u001b[90m\u001b[39;49;00m\n",
      "    \u001b[90m\u001b[39;49;00m\n",
      "        \u001b[94mif\u001b[39;49;00m \u001b[96misinstance\u001b[39;49;00m(inp, \u001b[96mdict\u001b[39;49;00m):\u001b[90m\u001b[39;49;00m\n",
      "            \u001b[94mif\u001b[39;49;00m \u001b[96mlen\u001b[39;49;00m(inp) == \u001b[94m0\u001b[39;49;00m:\u001b[90m\u001b[39;49;00m\n",
      "                \u001b[94mreturn\u001b[39;49;00m (\u001b[33m\"\u001b[39;49;00m\u001b[33mdict\u001b[39;49;00m\u001b[33m\"\u001b[39;49;00m,)\u001b[90m\u001b[39;49;00m\n",
      "            \u001b[94melse\u001b[39;49;00m:\u001b[90m\u001b[39;49;00m\n",
      "                first_value = \u001b[96mnext\u001b[39;49;00m(\u001b[96miter\u001b[39;49;00m(inp.values()))\u001b[90m\u001b[39;49;00m\n",
      "                \u001b[94mreturn\u001b[39;49;00m (\u001b[33m\"\u001b[39;49;00m\u001b[33mdict\u001b[39;49;00m\u001b[33m\"\u001b[39;49;00m,) + rtype(first_value)\u001b[90m\u001b[39;49;00m\n",
      "    \u001b[90m\u001b[39;49;00m\n",
      "        \u001b[94mif\u001b[39;49;00m \u001b[96misinstance\u001b[39;49;00m(inp, \u001b[96mset\u001b[39;49;00m):\u001b[90m\u001b[39;49;00m\n",
      "            \u001b[94mif\u001b[39;49;00m \u001b[96mlen\u001b[39;49;00m(inp) == \u001b[94m0\u001b[39;49;00m:\u001b[90m\u001b[39;49;00m\n",
      "                \u001b[94mreturn\u001b[39;49;00m (\u001b[33m\"\u001b[39;49;00m\u001b[33mset\u001b[39;49;00m\u001b[33m\"\u001b[39;49;00m,)\u001b[90m\u001b[39;49;00m\n",
      "            \u001b[94melse\u001b[39;49;00m:\u001b[90m\u001b[39;49;00m\n",
      "                first_value = \u001b[96mnext\u001b[39;49;00m(\u001b[96miter\u001b[39;49;00m(inp))\u001b[90m\u001b[39;49;00m\n",
      "                \u001b[94mreturn\u001b[39;49;00m (\u001b[33m\"\u001b[39;49;00m\u001b[33mset\u001b[39;49;00m\u001b[33m\"\u001b[39;49;00m,) + rtype(first_value)\u001b[90m\u001b[39;49;00m\n",
      "    \u001b[90m\u001b[39;49;00m\n",
      ">       \u001b[94mif\u001b[39;49;00m \u001b[96misinstance\u001b[39;49;00m(inp, Iterable):\u001b[90m\u001b[39;49;00m\n",
      "\u001b[1m\u001b[31mE       NameError: name 'Iterable' is not defined\u001b[0m\n",
      "\n",
      "\u001b[1m\u001b[31msrc/bpyth/bpyth_object_analysis.py\u001b[0m:71: NameError\n",
      "\u001b[31m\u001b[1m__________________________ TestRtype.test_rtype_mixed __________________________\u001b[0m\n",
      "\n",
      "self = <test_bpyth_object_analysis.TestRtype object at 0x76c1b5f8a120>\n",
      "\n",
      "    \u001b[0m\u001b[94mdef\u001b[39;49;00m\u001b[90m \u001b[39;49;00m\u001b[92mtest_rtype_mixed\u001b[39;49;00m(\u001b[96mself\u001b[39;49;00m):\u001b[90m\u001b[39;49;00m\n",
      ">       \u001b[94massert\u001b[39;49;00m rtype([\u001b[94m1\u001b[39;49;00m, \u001b[33m\"\u001b[39;49;00m\u001b[33ma\u001b[39;49;00m\u001b[33m\"\u001b[39;49;00m, \u001b[94m2\u001b[39;49;00m]) == (\u001b[33m\"\u001b[39;49;00m\u001b[33mlist\u001b[39;49;00m\u001b[33m\"\u001b[39;49;00m, \u001b[33m\"\u001b[39;49;00m\u001b[33mint\u001b[39;49;00m\u001b[33m\"\u001b[39;49;00m)\u001b[90m\u001b[39;49;00m\n",
      "\n",
      "\u001b[1m\u001b[31mtests/test_bpyth_object_analysis.py\u001b[0m:36: \n",
      "_ _ _ _ _ _ _ _ _ _ _ _ _ _ _ _ _ _ _ _ _ _ _ _ _ _ _ _ _ _ _ _ _ _ _ _ _ _ _ _ \n",
      "\n",
      "inp = [1, 'a', 2]\n",
      "\n",
      "    \u001b[0m\u001b[94mdef\u001b[39;49;00m\u001b[90m \u001b[39;49;00m\u001b[92mrtype\u001b[39;49;00m(inp):\u001b[90m\u001b[39;49;00m\n",
      "    \u001b[90m    \u001b[39;49;00m\u001b[33m'''\u001b[39;49;00m\n",
      "    \u001b[33m    Returns the type of the input object as a tuple.\u001b[39;49;00m\n",
      "    \u001b[33m    '''\u001b[39;49;00m\u001b[90m\u001b[39;49;00m\n",
      "    \u001b[90m\u001b[39;49;00m\n",
      "        \u001b[94mif\u001b[39;49;00m \u001b[96misinstance\u001b[39;49;00m(inp, pd.DataFrame):\u001b[90m\u001b[39;49;00m\n",
      "            result = [\u001b[33m\"\u001b[39;49;00m\u001b[33mDataFrame\u001b[39;49;00m\u001b[33m\"\u001b[39;49;00m]\u001b[90m\u001b[39;49;00m\n",
      "            \u001b[94mfor\u001b[39;49;00m col \u001b[95min\u001b[39;49;00m inp.columns:\u001b[90m\u001b[39;49;00m\n",
      "                result.append(\u001b[33m\"\u001b[39;49;00m\u001b[33mSeries\u001b[39;49;00m\u001b[33m\"\u001b[39;49;00m)\u001b[90m\u001b[39;49;00m\n",
      "                \u001b[94mif\u001b[39;49;00m \u001b[95mnot\u001b[39;49;00m inp[col].empty:\u001b[90m\u001b[39;49;00m\n",
      "                    result.append(stype(inp[col].iloc[\u001b[94m0\u001b[39;49;00m]))\u001b[90m\u001b[39;49;00m\n",
      "            \u001b[94mreturn\u001b[39;49;00m \u001b[96mtuple\u001b[39;49;00m(result)\u001b[90m\u001b[39;49;00m\n",
      "    \u001b[90m\u001b[39;49;00m\n",
      "        \u001b[94mif\u001b[39;49;00m \u001b[96misinstance\u001b[39;49;00m(inp, pd.Series):\u001b[90m\u001b[39;49;00m\n",
      "            \u001b[94mif\u001b[39;49;00m inp.empty:\u001b[90m\u001b[39;49;00m\n",
      "                \u001b[94mreturn\u001b[39;49;00m (\u001b[33m\"\u001b[39;49;00m\u001b[33mSeries\u001b[39;49;00m\u001b[33m\"\u001b[39;49;00m,)\u001b[90m\u001b[39;49;00m\n",
      "            \u001b[94mreturn\u001b[39;49;00m (\u001b[33m\"\u001b[39;49;00m\u001b[33mSeries\u001b[39;49;00m\u001b[33m\"\u001b[39;49;00m, stype(inp.iloc[\u001b[94m0\u001b[39;49;00m]))\u001b[90m\u001b[39;49;00m\n",
      "    \u001b[90m\u001b[39;49;00m\n",
      "        \u001b[94mif\u001b[39;49;00m \u001b[96misinstance\u001b[39;49;00m(inp, \u001b[96mstr\u001b[39;49;00m):\u001b[90m\u001b[39;49;00m\n",
      "            \u001b[94mreturn\u001b[39;49;00m (\u001b[33m\"\u001b[39;49;00m\u001b[33mstr\u001b[39;49;00m\u001b[33m\"\u001b[39;49;00m,)\u001b[90m\u001b[39;49;00m\n",
      "    \u001b[90m\u001b[39;49;00m\n",
      "        \u001b[94mif\u001b[39;49;00m \u001b[96misinstance\u001b[39;49;00m(inp, \u001b[96mbytes\u001b[39;49;00m):\u001b[90m\u001b[39;49;00m\n",
      "            \u001b[94mreturn\u001b[39;49;00m (\u001b[33m\"\u001b[39;49;00m\u001b[33mbytes\u001b[39;49;00m\u001b[33m\"\u001b[39;49;00m,)\u001b[90m\u001b[39;49;00m\n",
      "    \u001b[90m\u001b[39;49;00m\n",
      "        \u001b[94mif\u001b[39;49;00m \u001b[96misinstance\u001b[39;49;00m(inp, \u001b[96mint\u001b[39;49;00m):\u001b[90m\u001b[39;49;00m\n",
      "            \u001b[94mreturn\u001b[39;49;00m (\u001b[33m\"\u001b[39;49;00m\u001b[33mint\u001b[39;49;00m\u001b[33m\"\u001b[39;49;00m,)\u001b[90m\u001b[39;49;00m\n",
      "    \u001b[90m\u001b[39;49;00m\n",
      "        \u001b[94mif\u001b[39;49;00m \u001b[96misinstance\u001b[39;49;00m(inp, \u001b[96mfloat\u001b[39;49;00m):\u001b[90m\u001b[39;49;00m\n",
      "            \u001b[94mreturn\u001b[39;49;00m (\u001b[33m\"\u001b[39;49;00m\u001b[33mfloat\u001b[39;49;00m\u001b[33m\"\u001b[39;49;00m,)\u001b[90m\u001b[39;49;00m\n",
      "    \u001b[90m\u001b[39;49;00m\n",
      "        \u001b[94mif\u001b[39;49;00m \u001b[96misinstance\u001b[39;49;00m(inp, \u001b[96mbool\u001b[39;49;00m):\u001b[90m\u001b[39;49;00m\n",
      "            \u001b[94mreturn\u001b[39;49;00m (\u001b[33m\"\u001b[39;49;00m\u001b[33mbool\u001b[39;49;00m\u001b[33m\"\u001b[39;49;00m,)\u001b[90m\u001b[39;49;00m\n",
      "    \u001b[90m\u001b[39;49;00m\n",
      "        \u001b[94mif\u001b[39;49;00m inp \u001b[95mis\u001b[39;49;00m \u001b[94mNone\u001b[39;49;00m:\u001b[90m\u001b[39;49;00m\n",
      "            \u001b[94mreturn\u001b[39;49;00m (\u001b[33m\"\u001b[39;49;00m\u001b[33mNoneType\u001b[39;49;00m\u001b[33m\"\u001b[39;49;00m,)\u001b[90m\u001b[39;49;00m\n",
      "    \u001b[90m\u001b[39;49;00m\n",
      "        \u001b[94mif\u001b[39;49;00m \u001b[96misinstance\u001b[39;49;00m(inp, \u001b[96mdict\u001b[39;49;00m):\u001b[90m\u001b[39;49;00m\n",
      "            \u001b[94mif\u001b[39;49;00m \u001b[96mlen\u001b[39;49;00m(inp) == \u001b[94m0\u001b[39;49;00m:\u001b[90m\u001b[39;49;00m\n",
      "                \u001b[94mreturn\u001b[39;49;00m (\u001b[33m\"\u001b[39;49;00m\u001b[33mdict\u001b[39;49;00m\u001b[33m\"\u001b[39;49;00m,)\u001b[90m\u001b[39;49;00m\n",
      "            \u001b[94melse\u001b[39;49;00m:\u001b[90m\u001b[39;49;00m\n",
      "                first_value = \u001b[96mnext\u001b[39;49;00m(\u001b[96miter\u001b[39;49;00m(inp.values()))\u001b[90m\u001b[39;49;00m\n",
      "                \u001b[94mreturn\u001b[39;49;00m (\u001b[33m\"\u001b[39;49;00m\u001b[33mdict\u001b[39;49;00m\u001b[33m\"\u001b[39;49;00m,) + rtype(first_value)\u001b[90m\u001b[39;49;00m\n",
      "    \u001b[90m\u001b[39;49;00m\n",
      "        \u001b[94mif\u001b[39;49;00m \u001b[96misinstance\u001b[39;49;00m(inp, \u001b[96mset\u001b[39;49;00m):\u001b[90m\u001b[39;49;00m\n",
      "            \u001b[94mif\u001b[39;49;00m \u001b[96mlen\u001b[39;49;00m(inp) == \u001b[94m0\u001b[39;49;00m:\u001b[90m\u001b[39;49;00m\n",
      "                \u001b[94mreturn\u001b[39;49;00m (\u001b[33m\"\u001b[39;49;00m\u001b[33mset\u001b[39;49;00m\u001b[33m\"\u001b[39;49;00m,)\u001b[90m\u001b[39;49;00m\n",
      "            \u001b[94melse\u001b[39;49;00m:\u001b[90m\u001b[39;49;00m\n",
      "                first_value = \u001b[96mnext\u001b[39;49;00m(\u001b[96miter\u001b[39;49;00m(inp))\u001b[90m\u001b[39;49;00m\n",
      "                \u001b[94mreturn\u001b[39;49;00m (\u001b[33m\"\u001b[39;49;00m\u001b[33mset\u001b[39;49;00m\u001b[33m\"\u001b[39;49;00m,) + rtype(first_value)\u001b[90m\u001b[39;49;00m\n",
      "    \u001b[90m\u001b[39;49;00m\n",
      ">       \u001b[94mif\u001b[39;49;00m \u001b[96misinstance\u001b[39;49;00m(inp, Iterable):\u001b[90m\u001b[39;49;00m\n",
      "\u001b[1m\u001b[31mE       NameError: name 'Iterable' is not defined\u001b[0m\n",
      "\n",
      "\u001b[1m\u001b[31msrc/bpyth/bpyth_object_analysis.py\u001b[0m:71: NameError\n",
      "\u001b[31m\u001b[1m_______________________ TestRtype.test_rtype_more_types ________________________\u001b[0m\n",
      "\n",
      "self = <test_bpyth_object_analysis.TestRtype object at 0x76c1b5f8a2a0>\n",
      "\n",
      "    \u001b[0m\u001b[94mdef\u001b[39;49;00m\u001b[90m \u001b[39;49;00m\u001b[92mtest_rtype_more_types\u001b[39;49;00m(\u001b[96mself\u001b[39;49;00m):\u001b[90m\u001b[39;49;00m\n",
      ">       \u001b[94massert\u001b[39;49;00m rtype([\u001b[94m1\u001b[39;49;00m, (\u001b[94m2\u001b[39;49;00m, \u001b[94m3\u001b[39;49;00m)]) == (\u001b[33m\"\u001b[39;49;00m\u001b[33mlist\u001b[39;49;00m\u001b[33m\"\u001b[39;49;00m, \u001b[33m\"\u001b[39;49;00m\u001b[33mint\u001b[39;49;00m\u001b[33m\"\u001b[39;49;00m)\u001b[90m\u001b[39;49;00m\n",
      "\n",
      "\u001b[1m\u001b[31mtests/test_bpyth_object_analysis.py\u001b[0m:43: \n",
      "_ _ _ _ _ _ _ _ _ _ _ _ _ _ _ _ _ _ _ _ _ _ _ _ _ _ _ _ _ _ _ _ _ _ _ _ _ _ _ _ \n",
      "\n",
      "inp = [1, (2, 3)]\n",
      "\n",
      "    \u001b[0m\u001b[94mdef\u001b[39;49;00m\u001b[90m \u001b[39;49;00m\u001b[92mrtype\u001b[39;49;00m(inp):\u001b[90m\u001b[39;49;00m\n",
      "    \u001b[90m    \u001b[39;49;00m\u001b[33m'''\u001b[39;49;00m\n",
      "    \u001b[33m    Returns the type of the input object as a tuple.\u001b[39;49;00m\n",
      "    \u001b[33m    '''\u001b[39;49;00m\u001b[90m\u001b[39;49;00m\n",
      "    \u001b[90m\u001b[39;49;00m\n",
      "        \u001b[94mif\u001b[39;49;00m \u001b[96misinstance\u001b[39;49;00m(inp, pd.DataFrame):\u001b[90m\u001b[39;49;00m\n",
      "            result = [\u001b[33m\"\u001b[39;49;00m\u001b[33mDataFrame\u001b[39;49;00m\u001b[33m\"\u001b[39;49;00m]\u001b[90m\u001b[39;49;00m\n",
      "            \u001b[94mfor\u001b[39;49;00m col \u001b[95min\u001b[39;49;00m inp.columns:\u001b[90m\u001b[39;49;00m\n",
      "                result.append(\u001b[33m\"\u001b[39;49;00m\u001b[33mSeries\u001b[39;49;00m\u001b[33m\"\u001b[39;49;00m)\u001b[90m\u001b[39;49;00m\n",
      "                \u001b[94mif\u001b[39;49;00m \u001b[95mnot\u001b[39;49;00m inp[col].empty:\u001b[90m\u001b[39;49;00m\n",
      "                    result.append(stype(inp[col].iloc[\u001b[94m0\u001b[39;49;00m]))\u001b[90m\u001b[39;49;00m\n",
      "            \u001b[94mreturn\u001b[39;49;00m \u001b[96mtuple\u001b[39;49;00m(result)\u001b[90m\u001b[39;49;00m\n",
      "    \u001b[90m\u001b[39;49;00m\n",
      "        \u001b[94mif\u001b[39;49;00m \u001b[96misinstance\u001b[39;49;00m(inp, pd.Series):\u001b[90m\u001b[39;49;00m\n",
      "            \u001b[94mif\u001b[39;49;00m inp.empty:\u001b[90m\u001b[39;49;00m\n",
      "                \u001b[94mreturn\u001b[39;49;00m (\u001b[33m\"\u001b[39;49;00m\u001b[33mSeries\u001b[39;49;00m\u001b[33m\"\u001b[39;49;00m,)\u001b[90m\u001b[39;49;00m\n",
      "            \u001b[94mreturn\u001b[39;49;00m (\u001b[33m\"\u001b[39;49;00m\u001b[33mSeries\u001b[39;49;00m\u001b[33m\"\u001b[39;49;00m, stype(inp.iloc[\u001b[94m0\u001b[39;49;00m]))\u001b[90m\u001b[39;49;00m\n",
      "    \u001b[90m\u001b[39;49;00m\n",
      "        \u001b[94mif\u001b[39;49;00m \u001b[96misinstance\u001b[39;49;00m(inp, \u001b[96mstr\u001b[39;49;00m):\u001b[90m\u001b[39;49;00m\n",
      "            \u001b[94mreturn\u001b[39;49;00m (\u001b[33m\"\u001b[39;49;00m\u001b[33mstr\u001b[39;49;00m\u001b[33m\"\u001b[39;49;00m,)\u001b[90m\u001b[39;49;00m\n",
      "    \u001b[90m\u001b[39;49;00m\n",
      "        \u001b[94mif\u001b[39;49;00m \u001b[96misinstance\u001b[39;49;00m(inp, \u001b[96mbytes\u001b[39;49;00m):\u001b[90m\u001b[39;49;00m\n",
      "            \u001b[94mreturn\u001b[39;49;00m (\u001b[33m\"\u001b[39;49;00m\u001b[33mbytes\u001b[39;49;00m\u001b[33m\"\u001b[39;49;00m,)\u001b[90m\u001b[39;49;00m\n",
      "    \u001b[90m\u001b[39;49;00m\n",
      "        \u001b[94mif\u001b[39;49;00m \u001b[96misinstance\u001b[39;49;00m(inp, \u001b[96mint\u001b[39;49;00m):\u001b[90m\u001b[39;49;00m\n",
      "            \u001b[94mreturn\u001b[39;49;00m (\u001b[33m\"\u001b[39;49;00m\u001b[33mint\u001b[39;49;00m\u001b[33m\"\u001b[39;49;00m,)\u001b[90m\u001b[39;49;00m\n",
      "    \u001b[90m\u001b[39;49;00m\n",
      "        \u001b[94mif\u001b[39;49;00m \u001b[96misinstance\u001b[39;49;00m(inp, \u001b[96mfloat\u001b[39;49;00m):\u001b[90m\u001b[39;49;00m\n",
      "            \u001b[94mreturn\u001b[39;49;00m (\u001b[33m\"\u001b[39;49;00m\u001b[33mfloat\u001b[39;49;00m\u001b[33m\"\u001b[39;49;00m,)\u001b[90m\u001b[39;49;00m\n",
      "    \u001b[90m\u001b[39;49;00m\n",
      "        \u001b[94mif\u001b[39;49;00m \u001b[96misinstance\u001b[39;49;00m(inp, \u001b[96mbool\u001b[39;49;00m):\u001b[90m\u001b[39;49;00m\n",
      "            \u001b[94mreturn\u001b[39;49;00m (\u001b[33m\"\u001b[39;49;00m\u001b[33mbool\u001b[39;49;00m\u001b[33m\"\u001b[39;49;00m,)\u001b[90m\u001b[39;49;00m\n",
      "    \u001b[90m\u001b[39;49;00m\n",
      "        \u001b[94mif\u001b[39;49;00m inp \u001b[95mis\u001b[39;49;00m \u001b[94mNone\u001b[39;49;00m:\u001b[90m\u001b[39;49;00m\n",
      "            \u001b[94mreturn\u001b[39;49;00m (\u001b[33m\"\u001b[39;49;00m\u001b[33mNoneType\u001b[39;49;00m\u001b[33m\"\u001b[39;49;00m,)\u001b[90m\u001b[39;49;00m\n",
      "    \u001b[90m\u001b[39;49;00m\n",
      "        \u001b[94mif\u001b[39;49;00m \u001b[96misinstance\u001b[39;49;00m(inp, \u001b[96mdict\u001b[39;49;00m):\u001b[90m\u001b[39;49;00m\n",
      "            \u001b[94mif\u001b[39;49;00m \u001b[96mlen\u001b[39;49;00m(inp) == \u001b[94m0\u001b[39;49;00m:\u001b[90m\u001b[39;49;00m\n",
      "                \u001b[94mreturn\u001b[39;49;00m (\u001b[33m\"\u001b[39;49;00m\u001b[33mdict\u001b[39;49;00m\u001b[33m\"\u001b[39;49;00m,)\u001b[90m\u001b[39;49;00m\n",
      "            \u001b[94melse\u001b[39;49;00m:\u001b[90m\u001b[39;49;00m\n",
      "                first_value = \u001b[96mnext\u001b[39;49;00m(\u001b[96miter\u001b[39;49;00m(inp.values()))\u001b[90m\u001b[39;49;00m\n",
      "                \u001b[94mreturn\u001b[39;49;00m (\u001b[33m\"\u001b[39;49;00m\u001b[33mdict\u001b[39;49;00m\u001b[33m\"\u001b[39;49;00m,) + rtype(first_value)\u001b[90m\u001b[39;49;00m\n",
      "    \u001b[90m\u001b[39;49;00m\n",
      "        \u001b[94mif\u001b[39;49;00m \u001b[96misinstance\u001b[39;49;00m(inp, \u001b[96mset\u001b[39;49;00m):\u001b[90m\u001b[39;49;00m\n",
      "            \u001b[94mif\u001b[39;49;00m \u001b[96mlen\u001b[39;49;00m(inp) == \u001b[94m0\u001b[39;49;00m:\u001b[90m\u001b[39;49;00m\n",
      "                \u001b[94mreturn\u001b[39;49;00m (\u001b[33m\"\u001b[39;49;00m\u001b[33mset\u001b[39;49;00m\u001b[33m\"\u001b[39;49;00m,)\u001b[90m\u001b[39;49;00m\n",
      "            \u001b[94melse\u001b[39;49;00m:\u001b[90m\u001b[39;49;00m\n",
      "                first_value = \u001b[96mnext\u001b[39;49;00m(\u001b[96miter\u001b[39;49;00m(inp))\u001b[90m\u001b[39;49;00m\n",
      "                \u001b[94mreturn\u001b[39;49;00m (\u001b[33m\"\u001b[39;49;00m\u001b[33mset\u001b[39;49;00m\u001b[33m\"\u001b[39;49;00m,) + rtype(first_value)\u001b[90m\u001b[39;49;00m\n",
      "    \u001b[90m\u001b[39;49;00m\n",
      ">       \u001b[94mif\u001b[39;49;00m \u001b[96misinstance\u001b[39;49;00m(inp, Iterable):\u001b[90m\u001b[39;49;00m\n",
      "\u001b[1m\u001b[31mE       NameError: name 'Iterable' is not defined\u001b[0m\n",
      "\n",
      "\u001b[1m\u001b[31msrc/bpyth/bpyth_object_analysis.py\u001b[0m:71: NameError\n",
      "\u001b[31m\u001b[1m__________________________ TestRtype.test_rtype_dict ___________________________\u001b[0m\n",
      "\n",
      "self = <test_bpyth_object_analysis.TestRtype object at 0x76c1b5f8a420>\n",
      "\n",
      "    \u001b[0m\u001b[94mdef\u001b[39;49;00m\u001b[90m \u001b[39;49;00m\u001b[92mtest_rtype_dict\u001b[39;49;00m(\u001b[96mself\u001b[39;49;00m):\u001b[90m\u001b[39;49;00m\n",
      "        \u001b[94massert\u001b[39;49;00m rtype({\u001b[33m\"\u001b[39;49;00m\u001b[33ma\u001b[39;49;00m\u001b[33m\"\u001b[39;49;00m: \u001b[94m1\u001b[39;49;00m, \u001b[33m\"\u001b[39;49;00m\u001b[33mb\u001b[39;49;00m\u001b[33m\"\u001b[39;49;00m: \u001b[94m2\u001b[39;49;00m}) == (\u001b[33m\"\u001b[39;49;00m\u001b[33mdict\u001b[39;49;00m\u001b[33m\"\u001b[39;49;00m, \u001b[33m\"\u001b[39;49;00m\u001b[33mint\u001b[39;49;00m\u001b[33m\"\u001b[39;49;00m)\u001b[90m\u001b[39;49;00m\n",
      "        \u001b[94massert\u001b[39;49;00m rtype({}) == (\u001b[33m\"\u001b[39;49;00m\u001b[33mdict\u001b[39;49;00m\u001b[33m\"\u001b[39;49;00m,)\u001b[90m\u001b[39;49;00m\n",
      ">       \u001b[94massert\u001b[39;49;00m rtype({\u001b[33m\"\u001b[39;49;00m\u001b[33ma\u001b[39;49;00m\u001b[33m\"\u001b[39;49;00m: [\u001b[94m1\u001b[39;49;00m, \u001b[94m2\u001b[39;49;00m], \u001b[33m\"\u001b[39;49;00m\u001b[33mb\u001b[39;49;00m\u001b[33m\"\u001b[39;49;00m: [\u001b[94m3\u001b[39;49;00m, \u001b[94m4\u001b[39;49;00m]}) == (\u001b[33m\"\u001b[39;49;00m\u001b[33mdict\u001b[39;49;00m\u001b[33m\"\u001b[39;49;00m, \u001b[33m\"\u001b[39;49;00m\u001b[33mlist\u001b[39;49;00m\u001b[33m\"\u001b[39;49;00m, \u001b[33m\"\u001b[39;49;00m\u001b[33mint\u001b[39;49;00m\u001b[33m\"\u001b[39;49;00m)\u001b[90m\u001b[39;49;00m\n",
      "\n",
      "\u001b[1m\u001b[31mtests/test_bpyth_object_analysis.py\u001b[0m:55: \n",
      "_ _ _ _ _ _ _ _ _ _ _ _ _ _ _ _ _ _ _ _ _ _ _ _ _ _ _ _ _ _ _ _ _ _ _ _ _ _ _ _ \n",
      "\u001b[1m\u001b[31msrc/bpyth/bpyth_object_analysis.py\u001b[0m:62: in rtype\n",
      "    \u001b[0m\u001b[94mreturn\u001b[39;49;00m (\u001b[33m\"\u001b[39;49;00m\u001b[33mdict\u001b[39;49;00m\u001b[33m\"\u001b[39;49;00m,) + rtype(first_value)\u001b[90m\u001b[39;49;00m\n",
      "_ _ _ _ _ _ _ _ _ _ _ _ _ _ _ _ _ _ _ _ _ _ _ _ _ _ _ _ _ _ _ _ _ _ _ _ _ _ _ _ \n",
      "\n",
      "inp = [1, 2]\n",
      "\n",
      "    \u001b[0m\u001b[94mdef\u001b[39;49;00m\u001b[90m \u001b[39;49;00m\u001b[92mrtype\u001b[39;49;00m(inp):\u001b[90m\u001b[39;49;00m\n",
      "    \u001b[90m    \u001b[39;49;00m\u001b[33m'''\u001b[39;49;00m\n",
      "    \u001b[33m    Returns the type of the input object as a tuple.\u001b[39;49;00m\n",
      "    \u001b[33m    '''\u001b[39;49;00m\u001b[90m\u001b[39;49;00m\n",
      "    \u001b[90m\u001b[39;49;00m\n",
      "        \u001b[94mif\u001b[39;49;00m \u001b[96misinstance\u001b[39;49;00m(inp, pd.DataFrame):\u001b[90m\u001b[39;49;00m\n",
      "            result = [\u001b[33m\"\u001b[39;49;00m\u001b[33mDataFrame\u001b[39;49;00m\u001b[33m\"\u001b[39;49;00m]\u001b[90m\u001b[39;49;00m\n",
      "            \u001b[94mfor\u001b[39;49;00m col \u001b[95min\u001b[39;49;00m inp.columns:\u001b[90m\u001b[39;49;00m\n",
      "                result.append(\u001b[33m\"\u001b[39;49;00m\u001b[33mSeries\u001b[39;49;00m\u001b[33m\"\u001b[39;49;00m)\u001b[90m\u001b[39;49;00m\n",
      "                \u001b[94mif\u001b[39;49;00m \u001b[95mnot\u001b[39;49;00m inp[col].empty:\u001b[90m\u001b[39;49;00m\n",
      "                    result.append(stype(inp[col].iloc[\u001b[94m0\u001b[39;49;00m]))\u001b[90m\u001b[39;49;00m\n",
      "            \u001b[94mreturn\u001b[39;49;00m \u001b[96mtuple\u001b[39;49;00m(result)\u001b[90m\u001b[39;49;00m\n",
      "    \u001b[90m\u001b[39;49;00m\n",
      "        \u001b[94mif\u001b[39;49;00m \u001b[96misinstance\u001b[39;49;00m(inp, pd.Series):\u001b[90m\u001b[39;49;00m\n",
      "            \u001b[94mif\u001b[39;49;00m inp.empty:\u001b[90m\u001b[39;49;00m\n",
      "                \u001b[94mreturn\u001b[39;49;00m (\u001b[33m\"\u001b[39;49;00m\u001b[33mSeries\u001b[39;49;00m\u001b[33m\"\u001b[39;49;00m,)\u001b[90m\u001b[39;49;00m\n",
      "            \u001b[94mreturn\u001b[39;49;00m (\u001b[33m\"\u001b[39;49;00m\u001b[33mSeries\u001b[39;49;00m\u001b[33m\"\u001b[39;49;00m, stype(inp.iloc[\u001b[94m0\u001b[39;49;00m]))\u001b[90m\u001b[39;49;00m\n",
      "    \u001b[90m\u001b[39;49;00m\n",
      "        \u001b[94mif\u001b[39;49;00m \u001b[96misinstance\u001b[39;49;00m(inp, \u001b[96mstr\u001b[39;49;00m):\u001b[90m\u001b[39;49;00m\n",
      "            \u001b[94mreturn\u001b[39;49;00m (\u001b[33m\"\u001b[39;49;00m\u001b[33mstr\u001b[39;49;00m\u001b[33m\"\u001b[39;49;00m,)\u001b[90m\u001b[39;49;00m\n",
      "    \u001b[90m\u001b[39;49;00m\n",
      "        \u001b[94mif\u001b[39;49;00m \u001b[96misinstance\u001b[39;49;00m(inp, \u001b[96mbytes\u001b[39;49;00m):\u001b[90m\u001b[39;49;00m\n",
      "            \u001b[94mreturn\u001b[39;49;00m (\u001b[33m\"\u001b[39;49;00m\u001b[33mbytes\u001b[39;49;00m\u001b[33m\"\u001b[39;49;00m,)\u001b[90m\u001b[39;49;00m\n",
      "    \u001b[90m\u001b[39;49;00m\n",
      "        \u001b[94mif\u001b[39;49;00m \u001b[96misinstance\u001b[39;49;00m(inp, \u001b[96mint\u001b[39;49;00m):\u001b[90m\u001b[39;49;00m\n",
      "            \u001b[94mreturn\u001b[39;49;00m (\u001b[33m\"\u001b[39;49;00m\u001b[33mint\u001b[39;49;00m\u001b[33m\"\u001b[39;49;00m,)\u001b[90m\u001b[39;49;00m\n",
      "    \u001b[90m\u001b[39;49;00m\n",
      "        \u001b[94mif\u001b[39;49;00m \u001b[96misinstance\u001b[39;49;00m(inp, \u001b[96mfloat\u001b[39;49;00m):\u001b[90m\u001b[39;49;00m\n",
      "            \u001b[94mreturn\u001b[39;49;00m (\u001b[33m\"\u001b[39;49;00m\u001b[33mfloat\u001b[39;49;00m\u001b[33m\"\u001b[39;49;00m,)\u001b[90m\u001b[39;49;00m\n",
      "    \u001b[90m\u001b[39;49;00m\n",
      "        \u001b[94mif\u001b[39;49;00m \u001b[96misinstance\u001b[39;49;00m(inp, \u001b[96mbool\u001b[39;49;00m):\u001b[90m\u001b[39;49;00m\n",
      "            \u001b[94mreturn\u001b[39;49;00m (\u001b[33m\"\u001b[39;49;00m\u001b[33mbool\u001b[39;49;00m\u001b[33m\"\u001b[39;49;00m,)\u001b[90m\u001b[39;49;00m\n",
      "    \u001b[90m\u001b[39;49;00m\n",
      "        \u001b[94mif\u001b[39;49;00m inp \u001b[95mis\u001b[39;49;00m \u001b[94mNone\u001b[39;49;00m:\u001b[90m\u001b[39;49;00m\n",
      "            \u001b[94mreturn\u001b[39;49;00m (\u001b[33m\"\u001b[39;49;00m\u001b[33mNoneType\u001b[39;49;00m\u001b[33m\"\u001b[39;49;00m,)\u001b[90m\u001b[39;49;00m\n",
      "    \u001b[90m\u001b[39;49;00m\n",
      "        \u001b[94mif\u001b[39;49;00m \u001b[96misinstance\u001b[39;49;00m(inp, \u001b[96mdict\u001b[39;49;00m):\u001b[90m\u001b[39;49;00m\n",
      "            \u001b[94mif\u001b[39;49;00m \u001b[96mlen\u001b[39;49;00m(inp) == \u001b[94m0\u001b[39;49;00m:\u001b[90m\u001b[39;49;00m\n",
      "                \u001b[94mreturn\u001b[39;49;00m (\u001b[33m\"\u001b[39;49;00m\u001b[33mdict\u001b[39;49;00m\u001b[33m\"\u001b[39;49;00m,)\u001b[90m\u001b[39;49;00m\n",
      "            \u001b[94melse\u001b[39;49;00m:\u001b[90m\u001b[39;49;00m\n",
      "                first_value = \u001b[96mnext\u001b[39;49;00m(\u001b[96miter\u001b[39;49;00m(inp.values()))\u001b[90m\u001b[39;49;00m\n",
      "                \u001b[94mreturn\u001b[39;49;00m (\u001b[33m\"\u001b[39;49;00m\u001b[33mdict\u001b[39;49;00m\u001b[33m\"\u001b[39;49;00m,) + rtype(first_value)\u001b[90m\u001b[39;49;00m\n",
      "    \u001b[90m\u001b[39;49;00m\n",
      "        \u001b[94mif\u001b[39;49;00m \u001b[96misinstance\u001b[39;49;00m(inp, \u001b[96mset\u001b[39;49;00m):\u001b[90m\u001b[39;49;00m\n",
      "            \u001b[94mif\u001b[39;49;00m \u001b[96mlen\u001b[39;49;00m(inp) == \u001b[94m0\u001b[39;49;00m:\u001b[90m\u001b[39;49;00m\n",
      "                \u001b[94mreturn\u001b[39;49;00m (\u001b[33m\"\u001b[39;49;00m\u001b[33mset\u001b[39;49;00m\u001b[33m\"\u001b[39;49;00m,)\u001b[90m\u001b[39;49;00m\n",
      "            \u001b[94melse\u001b[39;49;00m:\u001b[90m\u001b[39;49;00m\n",
      "                first_value = \u001b[96mnext\u001b[39;49;00m(\u001b[96miter\u001b[39;49;00m(inp))\u001b[90m\u001b[39;49;00m\n",
      "                \u001b[94mreturn\u001b[39;49;00m (\u001b[33m\"\u001b[39;49;00m\u001b[33mset\u001b[39;49;00m\u001b[33m\"\u001b[39;49;00m,) + rtype(first_value)\u001b[90m\u001b[39;49;00m\n",
      "    \u001b[90m\u001b[39;49;00m\n",
      ">       \u001b[94mif\u001b[39;49;00m \u001b[96misinstance\u001b[39;49;00m(inp, Iterable):\u001b[90m\u001b[39;49;00m\n",
      "\u001b[1m\u001b[31mE       NameError: name 'Iterable' is not defined\u001b[0m\n",
      "\n",
      "\u001b[1m\u001b[31msrc/bpyth/bpyth_object_analysis.py\u001b[0m:71: NameError\n",
      "\u001b[31m\u001b[1m_____________________ TestRtype.test_rtype_notebook_cases ______________________\u001b[0m\n",
      "\n",
      "self = <test_bpyth_object_analysis.TestRtype object at 0x76c1b5f8a5a0>\n",
      "\n",
      "    \u001b[0m\u001b[94mdef\u001b[39;49;00m\u001b[90m \u001b[39;49;00m\u001b[92mtest_rtype_notebook_cases\u001b[39;49;00m(\u001b[96mself\u001b[39;49;00m):\u001b[90m\u001b[39;49;00m\n",
      "        \u001b[90m# 1 Dimension\u001b[39;49;00m\u001b[90m\u001b[39;49;00m\n",
      "        obj_4 = (\u001b[33m'\u001b[39;49;00m\u001b[33mabcde\u001b[39;49;00m\u001b[33m'\u001b[39;49;00m, \u001b[33m'\u001b[39;49;00m\u001b[33mgrfer\u001b[39;49;00m\u001b[33m'\u001b[39;49;00m, \u001b[33m'\u001b[39;49;00m\u001b[33mbtjqw\u001b[39;49;00m\u001b[33m'\u001b[39;49;00m, \u001b[33m'\u001b[39;49;00m\u001b[33mbqwer\u001b[39;49;00m\u001b[33m'\u001b[39;49;00m)\u001b[90m\u001b[39;49;00m\n",
      ">       \u001b[94massert\u001b[39;49;00m rtype(obj_4) == (\u001b[33m'\u001b[39;49;00m\u001b[33mtuple\u001b[39;49;00m\u001b[33m'\u001b[39;49;00m, \u001b[33m'\u001b[39;49;00m\u001b[33mstr\u001b[39;49;00m\u001b[33m'\u001b[39;49;00m)\u001b[90m\u001b[39;49;00m\n",
      "\n",
      "\u001b[1m\u001b[31mtests/test_bpyth_object_analysis.py\u001b[0m:60: \n",
      "_ _ _ _ _ _ _ _ _ _ _ _ _ _ _ _ _ _ _ _ _ _ _ _ _ _ _ _ _ _ _ _ _ _ _ _ _ _ _ _ \n",
      "\n",
      "inp = ('abcde', 'grfer', 'btjqw', 'bqwer')\n",
      "\n",
      "    \u001b[0m\u001b[94mdef\u001b[39;49;00m\u001b[90m \u001b[39;49;00m\u001b[92mrtype\u001b[39;49;00m(inp):\u001b[90m\u001b[39;49;00m\n",
      "    \u001b[90m    \u001b[39;49;00m\u001b[33m'''\u001b[39;49;00m\n",
      "    \u001b[33m    Returns the type of the input object as a tuple.\u001b[39;49;00m\n",
      "    \u001b[33m    '''\u001b[39;49;00m\u001b[90m\u001b[39;49;00m\n",
      "    \u001b[90m\u001b[39;49;00m\n",
      "        \u001b[94mif\u001b[39;49;00m \u001b[96misinstance\u001b[39;49;00m(inp, pd.DataFrame):\u001b[90m\u001b[39;49;00m\n",
      "            result = [\u001b[33m\"\u001b[39;49;00m\u001b[33mDataFrame\u001b[39;49;00m\u001b[33m\"\u001b[39;49;00m]\u001b[90m\u001b[39;49;00m\n",
      "            \u001b[94mfor\u001b[39;49;00m col \u001b[95min\u001b[39;49;00m inp.columns:\u001b[90m\u001b[39;49;00m\n",
      "                result.append(\u001b[33m\"\u001b[39;49;00m\u001b[33mSeries\u001b[39;49;00m\u001b[33m\"\u001b[39;49;00m)\u001b[90m\u001b[39;49;00m\n",
      "                \u001b[94mif\u001b[39;49;00m \u001b[95mnot\u001b[39;49;00m inp[col].empty:\u001b[90m\u001b[39;49;00m\n",
      "                    result.append(stype(inp[col].iloc[\u001b[94m0\u001b[39;49;00m]))\u001b[90m\u001b[39;49;00m\n",
      "            \u001b[94mreturn\u001b[39;49;00m \u001b[96mtuple\u001b[39;49;00m(result)\u001b[90m\u001b[39;49;00m\n",
      "    \u001b[90m\u001b[39;49;00m\n",
      "        \u001b[94mif\u001b[39;49;00m \u001b[96misinstance\u001b[39;49;00m(inp, pd.Series):\u001b[90m\u001b[39;49;00m\n",
      "            \u001b[94mif\u001b[39;49;00m inp.empty:\u001b[90m\u001b[39;49;00m\n",
      "                \u001b[94mreturn\u001b[39;49;00m (\u001b[33m\"\u001b[39;49;00m\u001b[33mSeries\u001b[39;49;00m\u001b[33m\"\u001b[39;49;00m,)\u001b[90m\u001b[39;49;00m\n",
      "            \u001b[94mreturn\u001b[39;49;00m (\u001b[33m\"\u001b[39;49;00m\u001b[33mSeries\u001b[39;49;00m\u001b[33m\"\u001b[39;49;00m, stype(inp.iloc[\u001b[94m0\u001b[39;49;00m]))\u001b[90m\u001b[39;49;00m\n",
      "    \u001b[90m\u001b[39;49;00m\n",
      "        \u001b[94mif\u001b[39;49;00m \u001b[96misinstance\u001b[39;49;00m(inp, \u001b[96mstr\u001b[39;49;00m):\u001b[90m\u001b[39;49;00m\n",
      "            \u001b[94mreturn\u001b[39;49;00m (\u001b[33m\"\u001b[39;49;00m\u001b[33mstr\u001b[39;49;00m\u001b[33m\"\u001b[39;49;00m,)\u001b[90m\u001b[39;49;00m\n",
      "    \u001b[90m\u001b[39;49;00m\n",
      "        \u001b[94mif\u001b[39;49;00m \u001b[96misinstance\u001b[39;49;00m(inp, \u001b[96mbytes\u001b[39;49;00m):\u001b[90m\u001b[39;49;00m\n",
      "            \u001b[94mreturn\u001b[39;49;00m (\u001b[33m\"\u001b[39;49;00m\u001b[33mbytes\u001b[39;49;00m\u001b[33m\"\u001b[39;49;00m,)\u001b[90m\u001b[39;49;00m\n",
      "    \u001b[90m\u001b[39;49;00m\n",
      "        \u001b[94mif\u001b[39;49;00m \u001b[96misinstance\u001b[39;49;00m(inp, \u001b[96mint\u001b[39;49;00m):\u001b[90m\u001b[39;49;00m\n",
      "            \u001b[94mreturn\u001b[39;49;00m (\u001b[33m\"\u001b[39;49;00m\u001b[33mint\u001b[39;49;00m\u001b[33m\"\u001b[39;49;00m,)\u001b[90m\u001b[39;49;00m\n",
      "    \u001b[90m\u001b[39;49;00m\n",
      "        \u001b[94mif\u001b[39;49;00m \u001b[96misinstance\u001b[39;49;00m(inp, \u001b[96mfloat\u001b[39;49;00m):\u001b[90m\u001b[39;49;00m\n",
      "            \u001b[94mreturn\u001b[39;49;00m (\u001b[33m\"\u001b[39;49;00m\u001b[33mfloat\u001b[39;49;00m\u001b[33m\"\u001b[39;49;00m,)\u001b[90m\u001b[39;49;00m\n",
      "    \u001b[90m\u001b[39;49;00m\n",
      "        \u001b[94mif\u001b[39;49;00m \u001b[96misinstance\u001b[39;49;00m(inp, \u001b[96mbool\u001b[39;49;00m):\u001b[90m\u001b[39;49;00m\n",
      "            \u001b[94mreturn\u001b[39;49;00m (\u001b[33m\"\u001b[39;49;00m\u001b[33mbool\u001b[39;49;00m\u001b[33m\"\u001b[39;49;00m,)\u001b[90m\u001b[39;49;00m\n",
      "    \u001b[90m\u001b[39;49;00m\n",
      "        \u001b[94mif\u001b[39;49;00m inp \u001b[95mis\u001b[39;49;00m \u001b[94mNone\u001b[39;49;00m:\u001b[90m\u001b[39;49;00m\n",
      "            \u001b[94mreturn\u001b[39;49;00m (\u001b[33m\"\u001b[39;49;00m\u001b[33mNoneType\u001b[39;49;00m\u001b[33m\"\u001b[39;49;00m,)\u001b[90m\u001b[39;49;00m\n",
      "    \u001b[90m\u001b[39;49;00m\n",
      "        \u001b[94mif\u001b[39;49;00m \u001b[96misinstance\u001b[39;49;00m(inp, \u001b[96mdict\u001b[39;49;00m):\u001b[90m\u001b[39;49;00m\n",
      "            \u001b[94mif\u001b[39;49;00m \u001b[96mlen\u001b[39;49;00m(inp) == \u001b[94m0\u001b[39;49;00m:\u001b[90m\u001b[39;49;00m\n",
      "                \u001b[94mreturn\u001b[39;49;00m (\u001b[33m\"\u001b[39;49;00m\u001b[33mdict\u001b[39;49;00m\u001b[33m\"\u001b[39;49;00m,)\u001b[90m\u001b[39;49;00m\n",
      "            \u001b[94melse\u001b[39;49;00m:\u001b[90m\u001b[39;49;00m\n",
      "                first_value = \u001b[96mnext\u001b[39;49;00m(\u001b[96miter\u001b[39;49;00m(inp.values()))\u001b[90m\u001b[39;49;00m\n",
      "                \u001b[94mreturn\u001b[39;49;00m (\u001b[33m\"\u001b[39;49;00m\u001b[33mdict\u001b[39;49;00m\u001b[33m\"\u001b[39;49;00m,) + rtype(first_value)\u001b[90m\u001b[39;49;00m\n",
      "    \u001b[90m\u001b[39;49;00m\n",
      "        \u001b[94mif\u001b[39;49;00m \u001b[96misinstance\u001b[39;49;00m(inp, \u001b[96mset\u001b[39;49;00m):\u001b[90m\u001b[39;49;00m\n",
      "            \u001b[94mif\u001b[39;49;00m \u001b[96mlen\u001b[39;49;00m(inp) == \u001b[94m0\u001b[39;49;00m:\u001b[90m\u001b[39;49;00m\n",
      "                \u001b[94mreturn\u001b[39;49;00m (\u001b[33m\"\u001b[39;49;00m\u001b[33mset\u001b[39;49;00m\u001b[33m\"\u001b[39;49;00m,)\u001b[90m\u001b[39;49;00m\n",
      "            \u001b[94melse\u001b[39;49;00m:\u001b[90m\u001b[39;49;00m\n",
      "                first_value = \u001b[96mnext\u001b[39;49;00m(\u001b[96miter\u001b[39;49;00m(inp))\u001b[90m\u001b[39;49;00m\n",
      "                \u001b[94mreturn\u001b[39;49;00m (\u001b[33m\"\u001b[39;49;00m\u001b[33mset\u001b[39;49;00m\u001b[33m\"\u001b[39;49;00m,) + rtype(first_value)\u001b[90m\u001b[39;49;00m\n",
      "    \u001b[90m\u001b[39;49;00m\n",
      ">       \u001b[94mif\u001b[39;49;00m \u001b[96misinstance\u001b[39;49;00m(inp, Iterable):\u001b[90m\u001b[39;49;00m\n",
      "\u001b[1m\u001b[31mE       NameError: name 'Iterable' is not defined\u001b[0m\n",
      "\n",
      "\u001b[1m\u001b[31msrc/bpyth/bpyth_object_analysis.py\u001b[0m:71: NameError\n",
      "\u001b[31m\u001b[1m____________________ TestRtypePandas.test_rtype_with_series ____________________\u001b[0m\n",
      "\n",
      "self = <test_bpyth_object_analysis_pandas.TestRtypePandas object at 0x76c1b5f8b5c0>\n",
      "\n",
      "    \u001b[0m\u001b[94mdef\u001b[39;49;00m\u001b[90m \u001b[39;49;00m\u001b[92mtest_rtype_with_series\u001b[39;49;00m(\u001b[96mself\u001b[39;49;00m):\u001b[90m\u001b[39;49;00m\n",
      "        data = pd.Series([\u001b[94m1\u001b[39;49;00m, \u001b[94m2\u001b[39;49;00m, \u001b[94m3\u001b[39;49;00m])\u001b[90m\u001b[39;49;00m\n",
      ">       \u001b[94massert\u001b[39;49;00m rtype(data) == (\u001b[33m\"\u001b[39;49;00m\u001b[33mSeries\u001b[39;49;00m\u001b[33m\"\u001b[39;49;00m, \u001b[33m\"\u001b[39;49;00m\u001b[33mint\u001b[39;49;00m\u001b[33m\"\u001b[39;49;00m)\u001b[90m\u001b[39;49;00m\n",
      "\u001b[1m\u001b[31mE       AssertionError: assert ('Series', 'int64') == ('Series', 'int')\u001b[0m\n",
      "\u001b[1m\u001b[31mE         \u001b[0m\n",
      "\u001b[1m\u001b[31mE         At index 1 diff: \u001b[0m\u001b[33m'\u001b[39;49;00m\u001b[33mint64\u001b[39;49;00m\u001b[33m'\u001b[39;49;00m\u001b[90m\u001b[39;49;00m != \u001b[0m\u001b[33m'\u001b[39;49;00m\u001b[33mint\u001b[39;49;00m\u001b[33m'\u001b[39;49;00m\u001b[90m\u001b[39;49;00m\u001b[0m\n",
      "\u001b[1m\u001b[31mE         Use -v to get more diff\u001b[0m\n",
      "\n",
      "\u001b[1m\u001b[31mtests/test_bpyth_object_analysis_pandas.py\u001b[0m:26: AssertionError\n",
      "\u001b[31m\u001b[1m__________________ TestRtypePandas.test_rtype_with_dataframe ___________________\u001b[0m\n",
      "\n",
      "self = <test_bpyth_object_analysis_pandas.TestRtypePandas object at 0x76c1b5f8af90>\n",
      "\n",
      "    \u001b[0m\u001b[94mdef\u001b[39;49;00m\u001b[90m \u001b[39;49;00m\u001b[92mtest_rtype_with_dataframe\u001b[39;49;00m(\u001b[96mself\u001b[39;49;00m):\u001b[90m\u001b[39;49;00m\n",
      "        \u001b[90m# Teste, ob rtype mit einem Pandas DataFrame korrekt funktioniert\u001b[39;49;00m\u001b[90m\u001b[39;49;00m\n",
      "        data = pd.DataFrame([[\u001b[94m1\u001b[39;49;00m, \u001b[94m2\u001b[39;49;00m], [\u001b[94m3\u001b[39;49;00m, \u001b[94m4\u001b[39;49;00m]])\u001b[90m\u001b[39;49;00m\n",
      ">       \u001b[94massert\u001b[39;49;00m rtype(data) == (\u001b[33m\"\u001b[39;49;00m\u001b[33mDataFrame\u001b[39;49;00m\u001b[33m\"\u001b[39;49;00m, \u001b[33m\"\u001b[39;49;00m\u001b[33mSeries\u001b[39;49;00m\u001b[33m\"\u001b[39;49;00m, \u001b[33m\"\u001b[39;49;00m\u001b[33mint\u001b[39;49;00m\u001b[33m\"\u001b[39;49;00m)\u001b[90m\u001b[39;49;00m\n",
      "\u001b[1m\u001b[31mE       AssertionError: assert ('DataFrame',...ies', 'int64') == ('DataFrame', 'Series', 'int')\u001b[0m\n",
      "\u001b[1m\u001b[31mE         \u001b[0m\n",
      "\u001b[1m\u001b[31mE         At index 2 diff: \u001b[0m\u001b[33m'\u001b[39;49;00m\u001b[33mint64\u001b[39;49;00m\u001b[33m'\u001b[39;49;00m\u001b[90m\u001b[39;49;00m != \u001b[0m\u001b[33m'\u001b[39;49;00m\u001b[33mint\u001b[39;49;00m\u001b[33m'\u001b[39;49;00m\u001b[90m\u001b[39;49;00m\u001b[0m\n",
      "\u001b[1m\u001b[31mE         Left contains 2 more items, first extra item: \u001b[0m\u001b[33m'\u001b[39;49;00m\u001b[33mSeries\u001b[39;49;00m\u001b[33m'\u001b[39;49;00m\u001b[90m\u001b[39;49;00m\u001b[0m\n",
      "\u001b[1m\u001b[31mE         Use -v to get more diff\u001b[0m\n",
      "\n",
      "\u001b[1m\u001b[31mtests/test_bpyth_object_analysis_pandas.py\u001b[0m:32: AssertionError\n",
      "\u001b[36m\u001b[1m=========================== short test summary info ============================\u001b[0m\n",
      "\u001b[31mFAILED\u001b[0m tests/test_bpyth_object_analysis.py::\u001b[1mTestRtype::test_rtype_normal\u001b[0m - NameError: name 'Iterable' is not defined\n",
      "\u001b[31mFAILED\u001b[0m tests/test_bpyth_object_analysis.py::\u001b[1mTestRtype::test_rtype_mixed\u001b[0m - NameError: name 'Iterable' is not defined\n",
      "\u001b[31mFAILED\u001b[0m tests/test_bpyth_object_analysis.py::\u001b[1mTestRtype::test_rtype_more_types\u001b[0m - NameError: name 'Iterable' is not defined\n",
      "\u001b[31mFAILED\u001b[0m tests/test_bpyth_object_analysis.py::\u001b[1mTestRtype::test_rtype_dict\u001b[0m - NameError: name 'Iterable' is not defined\n",
      "\u001b[31mFAILED\u001b[0m tests/test_bpyth_object_analysis.py::\u001b[1mTestRtype::test_rtype_notebook_cases\u001b[0m - NameError: name 'Iterable' is not defined\n",
      "\u001b[31mFAILED\u001b[0m tests/test_bpyth_object_analysis_pandas.py::\u001b[1mTestRtypePandas::test_rtype_with_series\u001b[0m - AssertionError: assert ('Series', 'int64') == ('Series', 'int')\n",
      "\u001b[31mFAILED\u001b[0m tests/test_bpyth_object_analysis_pandas.py::\u001b[1mTestRtypePandas::test_rtype_with_dataframe\u001b[0m - AssertionError: assert ('DataFrame',...ies', 'int64') == ('DataFrame', 'Ser...\n",
      "\u001b[31m========================= \u001b[31m\u001b[1m7 failed\u001b[0m, \u001b[32m63 passed\u001b[0m\u001b[31m in 0.62s\u001b[0m\u001b[31m =========================\u001b[0m\n"
     ]
    }
   ],
   "source": [
    "!pytest"
   ]
  },
  {
   "cell_type": "code",
   "execution_count": 8,
   "id": "368b880d-213c-4683-b7ac-22b4105e57ff",
   "metadata": {
    "execution": {
     "iopub.execute_input": "2025-03-13T20:58:51.332470Z",
     "iopub.status.busy": "2025-03-13T20:58:51.331164Z",
     "iopub.status.idle": "2025-03-13T20:58:51.988508Z",
     "shell.execute_reply": "2025-03-13T20:58:51.988055Z",
     "shell.execute_reply.started": "2025-03-13T20:58:51.332331Z"
    }
   },
   "outputs": [
    {
     "name": "stdout",
     "output_type": "stream",
     "text": [
      "blab init\n",
      "environment['in_colab']     = False\n",
      "environment['dropbox_path'] = /media/me/LinuxDropbox/Dropbox\n",
      "environment['lib_path']     = /media/me/LinuxDropbox/Dropbox/31_Projekte/01_Python/libs\n",
      "Start Time: 21:58:51\n"
     ]
    },
    {
     "data": {
      "text/html": [
       "<img src onerror=\"var cell = this.closest('.jp-CodeCell');var editor = cell.querySelector('.jp-Editor');editor.style.background='Beige';this.parentNode.removeChild(this)\">"
      ],
      "text/plain": [
       "<IPython.core.display.HTML object>"
      ]
     },
     "metadata": {},
     "output_type": "display_data"
    }
   ],
   "source": [
    "# blab init\n",
    "try:\n",
    "    import blab\n",
    "    startup_notebook = blab.blab_startup()\n",
    "    %run $startup_notebook\n",
    "except:\n",
    "    pass"
   ]
  },
  {
   "cell_type": "code",
   "execution_count": 9,
   "id": "d0c4ca23-ef67-439e-b389-eef9814f9e9b",
   "metadata": {
    "execution": {
     "iopub.execute_input": "2025-03-13T20:58:51.989526Z",
     "iopub.status.busy": "2025-03-13T20:58:51.989130Z",
     "iopub.status.idle": "2025-03-13T20:58:52.012203Z",
     "shell.execute_reply": "2025-03-13T20:58:52.011014Z",
     "shell.execute_reply.started": "2025-03-13T20:58:51.989496Z"
    }
   },
   "outputs": [
    {
     "name": "stdout",
     "output_type": "stream",
     "text": [
      "Stop Time:  21:58:52\n",
      "Elapsed:    0 secs\n"
     ]
    },
    {
     "data": {
      "text/html": [
       "<img src onerror=\"var cell = this.closest('.jp-CodeCell');var editor = cell.querySelector('.jp-Editor');editor.style.background='DarkGray';this.parentNode.removeChild(this)\">"
      ],
      "text/plain": [
       "<IPython.core.display.HTML object>"
      ]
     },
     "metadata": {},
     "output_type": "display_data"
    }
   ],
   "source": [
    "raise Stop"
   ]
  },
  {
   "cell_type": "markdown",
   "id": "efa2c656-785f-45b7-a3b5-a9ae251bce06",
   "metadata": {},
   "source": [
    "## build"
   ]
  },
  {
   "cell_type": "code",
   "execution_count": null,
   "id": "f20cbd4d-b38b-4bc9-a750-b14851fb174b",
   "metadata": {
    "execution": {
     "iopub.status.busy": "2025-03-13T20:58:52.012661Z",
     "iopub.status.idle": "2025-03-13T20:58:52.012952Z",
     "shell.execute_reply": "2025-03-13T20:58:52.012811Z",
     "shell.execute_reply.started": "2025-03-13T20:58:52.012796Z"
    }
   },
   "outputs": [],
   "source": [
    "!pip install -q build"
   ]
  },
  {
   "cell_type": "code",
   "execution_count": null,
   "id": "c745f5da-d6e4-408a-aa73-1166ccc6fd5b",
   "metadata": {
    "execution": {
     "iopub.status.busy": "2025-03-13T20:58:52.014391Z",
     "iopub.status.idle": "2025-03-13T20:58:52.014876Z",
     "shell.execute_reply": "2025-03-13T20:58:52.014670Z",
     "shell.execute_reply.started": "2025-03-13T20:58:52.014652Z"
    }
   },
   "outputs": [],
   "source": [
    "!python -m build"
   ]
  },
  {
   "cell_type": "markdown",
   "id": "e6b13397-01f2-4ffb-9668-dc9a58196db9",
   "metadata": {},
   "source": [
    "## Publish on github"
   ]
  },
  {
   "cell_type": "code",
   "execution_count": null,
   "id": "d444d5d8-ddb6-451e-9300-fa6424dde8f0",
   "metadata": {
    "execution": {
     "iopub.status.busy": "2025-03-13T20:58:52.015645Z",
     "iopub.status.idle": "2025-03-13T20:58:52.016065Z",
     "shell.execute_reply": "2025-03-13T20:58:52.015873Z",
     "shell.execute_reply.started": "2025-03-13T20:58:52.015852Z"
    }
   },
   "outputs": [],
   "source": [
    "!git status"
   ]
  },
  {
   "cell_type": "code",
   "execution_count": null,
   "id": "3d4b6e41-d98d-467c-981c-72405459c542",
   "metadata": {
    "execution": {
     "iopub.status.busy": "2025-03-13T20:58:52.016934Z",
     "iopub.status.idle": "2025-03-13T20:58:52.017389Z",
     "shell.execute_reply": "2025-03-13T20:58:52.017171Z",
     "shell.execute_reply.started": "2025-03-13T20:58:52.017152Z"
    }
   },
   "outputs": [],
   "source": [
    "!git config credential.helper store"
   ]
  },
  {
   "cell_type": "code",
   "execution_count": null,
   "id": "a9a7e740-2661-43c1-9743-bef78afaba54",
   "metadata": {
    "execution": {
     "iopub.status.busy": "2025-03-13T20:58:52.018753Z",
     "iopub.status.idle": "2025-03-13T20:58:52.020395Z",
     "shell.execute_reply": "2025-03-13T20:58:52.020170Z",
     "shell.execute_reply.started": "2025-03-13T20:58:52.020143Z"
    }
   },
   "outputs": [],
   "source": [
    "!git add --all"
   ]
  },
  {
   "cell_type": "code",
   "execution_count": null,
   "id": "fbfaaaaa-f75a-459d-b2f3-3a8d337ee310",
   "metadata": {
    "execution": {
     "iopub.status.busy": "2025-03-13T20:58:52.021266Z",
     "iopub.status.idle": "2025-03-13T20:58:52.021650Z",
     "shell.execute_reply": "2025-03-13T20:58:52.021479Z",
     "shell.execute_reply.started": "2025-03-13T20:58:52.021463Z"
    }
   },
   "outputs": [],
   "source": [
    "# Commit message eintragen und run\n",
    "!git commit -m \"ֹ\""
   ]
  },
  {
   "cell_type": "code",
   "execution_count": null,
   "id": "9c24bc9a-6a3b-4eda-86f4-27a2b4b21a8c",
   "metadata": {
    "execution": {
     "iopub.status.busy": "2025-03-13T20:58:52.022917Z",
     "iopub.status.idle": "2025-03-13T20:58:52.023300Z",
     "shell.execute_reply": "2025-03-13T20:58:52.023133Z",
     "shell.execute_reply.started": "2025-03-13T20:58:52.023117Z"
    },
    "tags": []
   },
   "outputs": [],
   "source": [
    "!git push origin master"
   ]
  },
  {
   "cell_type": "code",
   "execution_count": null,
   "id": "fc1bb674-46b3-4d13-98aa-d24f62df0bf7",
   "metadata": {
    "execution": {
     "iopub.status.busy": "2025-03-13T20:58:52.024764Z",
     "iopub.status.idle": "2025-03-13T20:58:52.025156Z",
     "shell.execute_reply": "2025-03-13T20:58:52.024993Z",
     "shell.execute_reply.started": "2025-03-13T20:58:52.024978Z"
    }
   },
   "outputs": [],
   "source": [
    "raise Stop"
   ]
  },
  {
   "cell_type": "markdown",
   "id": "d610974a-6298-4078-83f9-822dd1678330",
   "metadata": {},
   "source": [
    "* Terminal ins Verzeichnis öffnen\n",
    "* `git push origin master`\n",
    "* Personal Access Token verwenden statt Passwort\n",
    "* überprüfen: https://github.com/djekra/bpyth"
   ]
  },
  {
   "cell_type": "markdown",
   "id": "c5eb839e-634b-475f-919b-7dd8bc234658",
   "metadata": {},
   "source": [
    "## Publish on pypi.org"
   ]
  },
  {
   "cell_type": "markdown",
   "id": "aec9a4fc-d8e5-4db5-b5c7-0ecb627cd670",
   "metadata": {},
   "source": [
    "* `python -m twine upload --skip-existing dist/*` \n",
    "* Version überprüfen: https://pypi.org/project/bpyth/"
   ]
  },
  {
   "cell_type": "code",
   "execution_count": null,
   "id": "f83b80b8-60ea-4ad6-bfdb-00a2f52a4740",
   "metadata": {
    "execution": {
     "iopub.status.busy": "2025-03-13T20:58:52.026022Z",
     "iopub.status.idle": "2025-03-13T20:58:52.026421Z",
     "shell.execute_reply": "2025-03-13T20:58:52.026248Z",
     "shell.execute_reply.started": "2025-03-13T20:58:52.026232Z"
    }
   },
   "outputs": [],
   "source": [
    "# Nicht nötig\n",
    "# Publish on test.pypi.org\n",
    "# python -m twine upload --repository testpypi --skip-existing dist/* "
   ]
  },
  {
   "cell_type": "markdown",
   "id": "16c9f64f-40af-41ac-90db-f802bb8f73c1",
   "metadata": {},
   "source": [
    "## Test from PyPi"
   ]
  },
  {
   "cell_type": "code",
   "execution_count": null,
   "id": "3af8896f-3f40-4d28-a365-fc4c0cb4228f",
   "metadata": {
    "execution": {
     "iopub.status.busy": "2025-03-13T20:58:52.027099Z",
     "iopub.status.idle": "2025-03-13T20:58:52.027488Z",
     "shell.execute_reply": "2025-03-13T20:58:52.027317Z",
     "shell.execute_reply.started": "2025-03-13T20:58:52.027302Z"
    }
   },
   "outputs": [],
   "source": [
    "# uninstall\n",
    "!pip uninstall -y bpyth"
   ]
  },
  {
   "cell_type": "code",
   "execution_count": null,
   "id": "8ea8f83c-6970-424a-993d-f8e378e5faa9",
   "metadata": {
    "execution": {
     "iopub.status.busy": "2025-03-13T20:58:52.028180Z",
     "iopub.status.idle": "2025-03-13T20:58:52.028581Z",
     "shell.execute_reply": "2025-03-13T20:58:52.028401Z",
     "shell.execute_reply.started": "2025-03-13T20:58:52.028384Z"
    }
   },
   "outputs": [],
   "source": [
    "!pip install bpyth --no-cache-dir "
   ]
  },
  {
   "cell_type": "code",
   "execution_count": null,
   "id": "5655c1d6-916d-4f5a-90aa-1877b6a5317b",
   "metadata": {
    "execution": {
     "iopub.status.busy": "2025-03-13T20:58:52.029576Z",
     "iopub.status.idle": "2025-03-13T20:58:52.029977Z",
     "shell.execute_reply": "2025-03-13T20:58:52.029787Z",
     "shell.execute_reply.started": "2025-03-13T20:58:52.029769Z"
    }
   },
   "outputs": [],
   "source": [
    "# test import\n",
    "import bpyth as bpy"
   ]
  },
  {
   "cell_type": "code",
   "execution_count": null,
   "id": "b1a1633d-62ad-4088-8b90-6447cc84daf6",
   "metadata": {
    "execution": {
     "iopub.status.busy": "2025-03-13T20:58:52.030534Z",
     "iopub.status.idle": "2025-03-13T20:58:52.031188Z",
     "shell.execute_reply": "2025-03-13T20:58:52.030999Z",
     "shell.execute_reply.started": "2025-03-13T20:58:52.030977Z"
    }
   },
   "outputs": [],
   "source": [
    "# test script\n",
    "!bpyth"
   ]
  },
  {
   "cell_type": "code",
   "execution_count": null,
   "id": "afc1fc34-be1c-4686-9826-0f09129451b9",
   "metadata": {
    "execution": {
     "iopub.status.busy": "2025-03-13T20:58:52.031799Z",
     "iopub.status.idle": "2025-03-13T20:58:52.032171Z",
     "shell.execute_reply": "2025-03-13T20:58:52.032004Z",
     "shell.execute_reply.started": "2025-03-13T20:58:52.031988Z"
    }
   },
   "outputs": [],
   "source": [
    "!pytest"
   ]
  },
  {
   "cell_type": "code",
   "execution_count": null,
   "id": "d734da84-24da-4fa9-8a12-139486f7bf76",
   "metadata": {
    "execution": {
     "iopub.status.busy": "2025-03-13T20:58:52.033037Z",
     "iopub.status.idle": "2025-03-13T20:58:52.033578Z",
     "shell.execute_reply": "2025-03-13T20:58:52.033394Z",
     "shell.execute_reply.started": "2025-03-13T20:58:52.033376Z"
    },
    "tags": []
   },
   "outputs": [],
   "source": [
    "# show version\n",
    "from importlib.metadata import version  \n",
    "version('bpyth')  "
   ]
  }
 ],
 "metadata": {
  "kernelspec": {
   "display_name": "Python 3 (ipykernel)",
   "language": "python",
   "name": "python3"
  },
  "language_info": {
   "codemirror_mode": {
    "name": "ipython",
    "version": 3
   },
   "file_extension": ".py",
   "mimetype": "text/x-python",
   "name": "python",
   "nbconvert_exporter": "python",
   "pygments_lexer": "ipython3",
   "version": "3.12.9"
  }
 },
 "nbformat": 4,
 "nbformat_minor": 5
}
