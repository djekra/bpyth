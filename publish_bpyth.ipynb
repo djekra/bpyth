{
 "cells": [
  {
   "cell_type": "markdown",
   "id": "3fd10409-2f5f-4628-8768-3a7e489d33b4",
   "metadata": {},
   "source": [
    "## Create README"
   ]
  },
  {
   "cell_type": "code",
   "execution_count": 9,
   "id": "14ea296b-20d0-4bfe-ada6-64aca05ca146",
   "metadata": {
    "execution": {
     "iopub.execute_input": "2023-02-21T21:41:31.339596Z",
     "iopub.status.busy": "2023-02-21T21:41:31.336317Z",
     "iopub.status.idle": "2023-02-21T21:41:33.638956Z",
     "shell.execute_reply": "2023-02-21T21:41:33.638303Z",
     "shell.execute_reply.started": "2023-02-21T21:41:31.339463Z"
    }
   },
   "outputs": [
    {
     "name": "stdout",
     "output_type": "stream",
     "text": [
      "[NbConvertApp] Converting notebook README.ipynb to markdown\n",
      "[NbConvertApp] Writing 1925 bytes to README.md\n"
     ]
    }
   ],
   "source": [
    "!jupyter nbconvert --ClearMetadataPreprocessor.enabled=True --ClearOutput.enabled=True --to markdown README.ipynb"
   ]
  },
  {
   "cell_type": "markdown",
   "id": "a4547f78-251b-45b5-a478-27dc691d193b",
   "metadata": {},
   "source": [
    "## Local install"
   ]
  },
  {
   "cell_type": "code",
   "execution_count": 10,
   "id": "30be06b0-90b1-41b1-a63d-9cec8e4a05ab",
   "metadata": {
    "execution": {
     "iopub.execute_input": "2023-02-21T21:41:33.641155Z",
     "iopub.status.busy": "2023-02-21T21:41:33.640491Z",
     "iopub.status.idle": "2023-02-21T21:41:37.041362Z",
     "shell.execute_reply": "2023-02-21T21:41:37.038657Z",
     "shell.execute_reply.started": "2023-02-21T21:41:33.641092Z"
    }
   },
   "outputs": [
    {
     "name": "stdout",
     "output_type": "stream",
     "text": [
      "Found existing installation: bpyth 0.1.7\n",
      "Uninstalling bpyth-0.1.7:\n",
      "  Successfully uninstalled bpyth-0.1.7\n"
     ]
    }
   ],
   "source": [
    "# uninstall\n",
    "!pip uninstall -y bpyth"
   ]
  },
  {
   "cell_type": "code",
   "execution_count": 11,
   "id": "f345ee0f-748f-40be-8578-8ad4ac4d9fe3",
   "metadata": {
    "execution": {
     "iopub.execute_input": "2023-02-21T21:41:37.051101Z",
     "iopub.status.busy": "2023-02-21T21:41:37.049374Z",
     "iopub.status.idle": "2023-02-21T21:41:45.628521Z",
     "shell.execute_reply": "2023-02-21T21:41:45.625809Z",
     "shell.execute_reply.started": "2023-02-21T21:41:37.050984Z"
    }
   },
   "outputs": [
    {
     "name": "stdout",
     "output_type": "stream",
     "text": [
      "Obtaining file:///home/me/Data_Linux/Dropbox/31_Projekte/01_Python/git/bpyth\n",
      "  Installing build dependencies ... \u001b[?25ldone\n",
      "\u001b[?25h  Checking if build backend supports build_editable ... \u001b[?25ldone\n",
      "\u001b[?25h  Getting requirements to build editable ... \u001b[?25ldone\n",
      "\u001b[?25h  Preparing editable metadata (pyproject.toml) ... \u001b[?25ldone\n",
      "\u001b[?25hBuilding wheels for collected packages: bpyth\n",
      "  Building editable for bpyth (pyproject.toml) ... \u001b[?25ldone\n",
      "\u001b[?25h  Created wheel for bpyth: filename=bpyth-0.1.8-0.editable-py3-none-any.whl size=3286 sha256=75dc8007ec6c4c35339073fe008c992a7c2a166122d069b879c50b42a3e37137\n",
      "  Stored in directory: /tmp/pip-ephem-wheel-cache-8_vq4dyz/wheels/77/ee/cd/dc94ca38e5518f97319713d537ca156c5dd866c2b8fda682a2\n",
      "Successfully built bpyth\n",
      "Installing collected packages: bpyth\n",
      "Successfully installed bpyth-0.1.8\n"
     ]
    }
   ],
   "source": [
    "# install locally\n",
    "!python -m pip install -e ."
   ]
  },
  {
   "cell_type": "code",
   "execution_count": 12,
   "id": "8cec0e88-e3c2-4020-b9c9-176bcd255c46",
   "metadata": {
    "execution": {
     "iopub.execute_input": "2023-02-21T21:41:45.635995Z",
     "iopub.status.busy": "2023-02-21T21:41:45.635117Z",
     "iopub.status.idle": "2023-02-21T21:41:48.337308Z",
     "shell.execute_reply": "2023-02-21T21:41:48.334722Z",
     "shell.execute_reply.started": "2023-02-21T21:41:45.635900Z"
    }
   },
   "outputs": [
    {
     "name": "stdout",
     "output_type": "stream",
     "text": [
      "Name: bpyth\n",
      "Version: 0.1.8\n",
      "Summary: Various Python Tools\n",
      "Home-page: \n",
      "Author: \n",
      "Author-email: djekra <hopsalla@gmail.com>\n",
      "License: MIT\n",
      "Location: /home/me/mambaforge/envs/python_06/lib/python3.9/site-packages\n",
      "Requires: \n",
      "Required-by: bj-nlp, blab, pandasklar\n"
     ]
    }
   ],
   "source": [
    "# show\n",
    "!pip show bpyth"
   ]
  },
  {
   "cell_type": "code",
   "execution_count": 13,
   "id": "baf8f2b6-2bb4-4460-b654-f4454bfec48f",
   "metadata": {
    "execution": {
     "iopub.execute_input": "2023-02-21T21:41:48.345200Z",
     "iopub.status.busy": "2023-02-21T21:41:48.342954Z",
     "iopub.status.idle": "2023-02-21T21:41:48.394252Z",
     "shell.execute_reply": "2023-02-21T21:41:48.393024Z",
     "shell.execute_reply.started": "2023-02-21T21:41:48.345100Z"
    }
   },
   "outputs": [],
   "source": [
    "# test import\n",
    "# Wenn dies failed: Restart Kernel and Run all Cells\n",
    "import bpyth as bpy"
   ]
  },
  {
   "cell_type": "code",
   "execution_count": 14,
   "id": "43f0bbdd-2df6-4534-a86e-77657d0329da",
   "metadata": {
    "execution": {
     "iopub.execute_input": "2023-02-21T21:41:48.397031Z",
     "iopub.status.busy": "2023-02-21T21:41:48.395971Z",
     "iopub.status.idle": "2023-02-21T21:41:48.694371Z",
     "shell.execute_reply": "2023-02-21T21:41:48.693655Z",
     "shell.execute_reply.started": "2023-02-21T21:41:48.396984Z"
    }
   },
   "outputs": [
    {
     "name": "stdout",
     "output_type": "stream",
     "text": [
      "Hello bpyth 0.1.8\n"
     ]
    }
   ],
   "source": [
    "# test script\n",
    "!bpyth"
   ]
  },
  {
   "cell_type": "code",
   "execution_count": 15,
   "id": "368b880d-213c-4683-b7ac-22b4105e57ff",
   "metadata": {
    "execution": {
     "iopub.execute_input": "2023-02-21T21:41:48.695703Z",
     "iopub.status.busy": "2023-02-21T21:41:48.695442Z",
     "iopub.status.idle": "2023-02-21T21:41:48.789175Z",
     "shell.execute_reply": "2023-02-21T21:41:48.785785Z",
     "shell.execute_reply.started": "2023-02-21T21:41:48.695676Z"
    }
   },
   "outputs": [
    {
     "name": "stdout",
     "output_type": "stream",
     "text": [
      "blab init\n",
      "environment['in_colab']     = False\n",
      "environment['dropbox_path'] = /home/me/Data_Linux/Dropbox\n",
      "environment['lib_path']     = /home/me/Data_Linux/Dropbox/31_Projekte/01_Python/libs\n",
      "Start Time: 22:41:48\n"
     ]
    },
    {
     "data": {
      "text/html": [
       "<img src onerror=\"var cell = this.closest('.jp-CodeCell');var editor = cell.querySelector('.jp-Editor');editor.style.background='Beige';this.parentNode.removeChild(this)\">"
      ],
      "text/plain": [
       "<IPython.core.display.HTML object>"
      ]
     },
     "metadata": {},
     "output_type": "display_data"
    }
   ],
   "source": [
    "# blab init\n",
    "try:\n",
    "    import blab\n",
    "    startup_notebook = blab.blab_startup()\n",
    "    %run $startup_notebook\n",
    "except:\n",
    "    pass"
   ]
  },
  {
   "cell_type": "code",
   "execution_count": 16,
   "id": "d0c4ca23-ef67-439e-b389-eef9814f9e9b",
   "metadata": {
    "execution": {
     "iopub.execute_input": "2023-02-21T21:41:48.791606Z",
     "iopub.status.busy": "2023-02-21T21:41:48.790367Z",
     "iopub.status.idle": "2023-02-21T21:41:48.817158Z",
     "shell.execute_reply": "2023-02-21T21:41:48.814053Z",
     "shell.execute_reply.started": "2023-02-21T21:41:48.791554Z"
    }
   },
   "outputs": [
    {
     "name": "stdout",
     "output_type": "stream",
     "text": [
      "Stop Time:  22:41:48\n",
      "Elapsed:    0 secs\n"
     ]
    },
    {
     "data": {
      "text/html": [
       "<img src onerror=\"var cell = this.closest('.jp-CodeCell');var editor = cell.querySelector('.jp-Editor');editor.style.background='DarkGray';this.parentNode.removeChild(this)\">"
      ],
      "text/plain": [
       "<IPython.core.display.HTML object>"
      ]
     },
     "metadata": {},
     "output_type": "display_data"
    }
   ],
   "source": [
    "raise Stop"
   ]
  },
  {
   "cell_type": "markdown",
   "id": "efa2c656-785f-45b7-a3b5-a9ae251bce06",
   "metadata": {},
   "source": [
    "## build"
   ]
  },
  {
   "cell_type": "code",
   "execution_count": 17,
   "id": "f20cbd4d-b38b-4bc9-a750-b14851fb174b",
   "metadata": {
    "execution": {
     "iopub.execute_input": "2023-02-21T21:42:02.445693Z",
     "iopub.status.busy": "2023-02-21T21:42:02.444865Z",
     "iopub.status.idle": "2023-02-21T21:42:05.499241Z",
     "shell.execute_reply": "2023-02-21T21:42:05.496198Z",
     "shell.execute_reply.started": "2023-02-21T21:42:02.445612Z"
    }
   },
   "outputs": [],
   "source": [
    "!pip install -q build"
   ]
  },
  {
   "cell_type": "code",
   "execution_count": 18,
   "id": "c745f5da-d6e4-408a-aa73-1166ccc6fd5b",
   "metadata": {
    "execution": {
     "iopub.execute_input": "2023-02-21T21:42:05.506080Z",
     "iopub.status.busy": "2023-02-21T21:42:05.504057Z",
     "iopub.status.idle": "2023-02-21T21:42:14.178496Z",
     "shell.execute_reply": "2023-02-21T21:42:14.177692Z",
     "shell.execute_reply.started": "2023-02-21T21:42:05.505978Z"
    }
   },
   "outputs": [
    {
     "name": "stdout",
     "output_type": "stream",
     "text": [
      "\u001b[1m* Creating virtualenv isolated environment...\u001b[0m\n",
      "\u001b[1m* Installing packages in isolated environment... (setuptools>=61.0.0, wheel)\u001b[0m\n",
      "\u001b[1m* Getting build dependencies for sdist...\u001b[0m\n",
      "/tmp/build-env-dd0ea06h/lib/python3.9/site-packages/setuptools/config/pyprojecttoml.py:108: _BetaConfiguration: Support for `[tool.setuptools]` in `pyproject.toml` is still *beta*.\n",
      "  warnings.warn(msg, _BetaConfiguration)\n",
      "running egg_info\n",
      "writing src/bpyth.egg-info/PKG-INFO\n",
      "writing dependency_links to src/bpyth.egg-info/dependency_links.txt\n",
      "writing entry points to src/bpyth.egg-info/entry_points.txt\n",
      "writing top-level names to src/bpyth.egg-info/top_level.txt\n",
      "reading manifest file 'src/bpyth.egg-info/SOURCES.txt'\n",
      "adding license file 'LICENSE'\n",
      "writing manifest file 'src/bpyth.egg-info/SOURCES.txt'\n",
      "\u001b[1m* Building sdist...\u001b[0m\n",
      "/tmp/build-env-dd0ea06h/lib/python3.9/site-packages/setuptools/config/pyprojecttoml.py:108: _BetaConfiguration: Support for `[tool.setuptools]` in `pyproject.toml` is still *beta*.\n",
      "  warnings.warn(msg, _BetaConfiguration)\n",
      "running sdist\n",
      "running egg_info\n",
      "writing src/bpyth.egg-info/PKG-INFO\n",
      "writing dependency_links to src/bpyth.egg-info/dependency_links.txt\n",
      "writing entry points to src/bpyth.egg-info/entry_points.txt\n",
      "writing top-level names to src/bpyth.egg-info/top_level.txt\n",
      "reading manifest file 'src/bpyth.egg-info/SOURCES.txt'\n",
      "adding license file 'LICENSE'\n",
      "writing manifest file 'src/bpyth.egg-info/SOURCES.txt'\n",
      "running check\n",
      "creating bpyth-0.1.8\n",
      "creating bpyth-0.1.8/src\n",
      "creating bpyth-0.1.8/src/bpyth\n",
      "creating bpyth-0.1.8/src/bpyth.egg-info\n",
      "copying files to bpyth-0.1.8...\n",
      "copying LICENSE -> bpyth-0.1.8\n",
      "copying README.md -> bpyth-0.1.8\n",
      "copying pyproject.toml -> bpyth-0.1.8\n",
      "copying src/bpyth/__init__.py -> bpyth-0.1.8/src/bpyth\n",
      "copying src/bpyth/__main__.py -> bpyth-0.1.8/src/bpyth\n",
      "copying src/bpyth/bpyth_files.py -> bpyth-0.1.8/src/bpyth\n",
      "copying src/bpyth/bpyth_human.py -> bpyth-0.1.8/src/bpyth\n",
      "copying src/bpyth/bpyth_iterable.py -> bpyth-0.1.8/src/bpyth\n",
      "copying src/bpyth/bpyth_object_analysis.py -> bpyth-0.1.8/src/bpyth\n",
      "copying src/bpyth/bpyth_string.py -> bpyth-0.1.8/src/bpyth\n",
      "copying src/bpyth/bpyth_tools.py -> bpyth-0.1.8/src/bpyth\n",
      "copying src/bpyth.egg-info/PKG-INFO -> bpyth-0.1.8/src/bpyth.egg-info\n",
      "copying src/bpyth.egg-info/SOURCES.txt -> bpyth-0.1.8/src/bpyth.egg-info\n",
      "copying src/bpyth.egg-info/dependency_links.txt -> bpyth-0.1.8/src/bpyth.egg-info\n",
      "copying src/bpyth.egg-info/entry_points.txt -> bpyth-0.1.8/src/bpyth.egg-info\n",
      "copying src/bpyth.egg-info/top_level.txt -> bpyth-0.1.8/src/bpyth.egg-info\n",
      "Writing bpyth-0.1.8/setup.cfg\n",
      "Creating tar archive\n",
      "removing 'bpyth-0.1.8' (and everything under it)\n",
      "\u001b[1m* Building wheel from sdist\u001b[0m\n",
      "\u001b[1m* Creating virtualenv isolated environment...\u001b[0m\n",
      "\u001b[1m* Installing packages in isolated environment... (setuptools>=61.0.0, wheel)\u001b[0m\n",
      "\u001b[1m* Getting build dependencies for wheel...\u001b[0m\n",
      "/tmp/build-env-kvpdcur_/lib/python3.9/site-packages/setuptools/config/pyprojecttoml.py:108: _BetaConfiguration: Support for `[tool.setuptools]` in `pyproject.toml` is still *beta*.\n",
      "  warnings.warn(msg, _BetaConfiguration)\n",
      "running egg_info\n",
      "writing src/bpyth.egg-info/PKG-INFO\n",
      "writing dependency_links to src/bpyth.egg-info/dependency_links.txt\n",
      "writing entry points to src/bpyth.egg-info/entry_points.txt\n",
      "writing top-level names to src/bpyth.egg-info/top_level.txt\n",
      "reading manifest file 'src/bpyth.egg-info/SOURCES.txt'\n",
      "adding license file 'LICENSE'\n",
      "writing manifest file 'src/bpyth.egg-info/SOURCES.txt'\n",
      "\u001b[1m* Installing packages in isolated environment... (wheel)\u001b[0m\n",
      "\u001b[1m* Building wheel...\u001b[0m\n",
      "/tmp/build-env-kvpdcur_/lib/python3.9/site-packages/setuptools/config/pyprojecttoml.py:108: _BetaConfiguration: Support for `[tool.setuptools]` in `pyproject.toml` is still *beta*.\n",
      "  warnings.warn(msg, _BetaConfiguration)\n",
      "running bdist_wheel\n",
      "running build\n",
      "running build_py\n",
      "creating build\n",
      "creating build/lib\n",
      "creating build/lib/bpyth\n",
      "copying src/bpyth/__main__.py -> build/lib/bpyth\n",
      "copying src/bpyth/bpyth_iterable.py -> build/lib/bpyth\n",
      "copying src/bpyth/bpyth_object_analysis.py -> build/lib/bpyth\n",
      "copying src/bpyth/bpyth_human.py -> build/lib/bpyth\n",
      "copying src/bpyth/bpyth_tools.py -> build/lib/bpyth\n",
      "copying src/bpyth/bpyth_files.py -> build/lib/bpyth\n",
      "copying src/bpyth/bpyth_string.py -> build/lib/bpyth\n",
      "copying src/bpyth/__init__.py -> build/lib/bpyth\n",
      "running egg_info\n",
      "writing src/bpyth.egg-info/PKG-INFO\n",
      "writing dependency_links to src/bpyth.egg-info/dependency_links.txt\n",
      "writing entry points to src/bpyth.egg-info/entry_points.txt\n",
      "writing top-level names to src/bpyth.egg-info/top_level.txt\n",
      "reading manifest file 'src/bpyth.egg-info/SOURCES.txt'\n",
      "adding license file 'LICENSE'\n",
      "writing manifest file 'src/bpyth.egg-info/SOURCES.txt'\n",
      "installing to build/bdist.linux-x86_64/wheel\n",
      "running install\n",
      "running install_lib\n",
      "creating build/bdist.linux-x86_64\n",
      "creating build/bdist.linux-x86_64/wheel\n",
      "creating build/bdist.linux-x86_64/wheel/bpyth\n",
      "copying build/lib/bpyth/__main__.py -> build/bdist.linux-x86_64/wheel/bpyth\n",
      "copying build/lib/bpyth/bpyth_iterable.py -> build/bdist.linux-x86_64/wheel/bpyth\n",
      "copying build/lib/bpyth/bpyth_object_analysis.py -> build/bdist.linux-x86_64/wheel/bpyth\n",
      "copying build/lib/bpyth/bpyth_human.py -> build/bdist.linux-x86_64/wheel/bpyth\n",
      "copying build/lib/bpyth/bpyth_tools.py -> build/bdist.linux-x86_64/wheel/bpyth\n",
      "copying build/lib/bpyth/bpyth_files.py -> build/bdist.linux-x86_64/wheel/bpyth\n",
      "copying build/lib/bpyth/bpyth_string.py -> build/bdist.linux-x86_64/wheel/bpyth\n",
      "copying build/lib/bpyth/__init__.py -> build/bdist.linux-x86_64/wheel/bpyth\n",
      "running install_egg_info\n",
      "Copying src/bpyth.egg-info to build/bdist.linux-x86_64/wheel/bpyth-0.1.8-py3.9.egg-info\n",
      "running install_scripts\n",
      "creating build/bdist.linux-x86_64/wheel/bpyth-0.1.8.dist-info/WHEEL\n",
      "creating '/home/me/Data_Linux/Dropbox/31_Projekte/01_Python/git/bpyth/dist/.tmp-79s4upj5/bpyth-0.1.8-py3-none-any.whl' and adding 'build/bdist.linux-x86_64/wheel' to it\n",
      "adding 'bpyth/__init__.py'\n",
      "adding 'bpyth/__main__.py'\n",
      "adding 'bpyth/bpyth_files.py'\n",
      "adding 'bpyth/bpyth_human.py'\n",
      "adding 'bpyth/bpyth_iterable.py'\n",
      "adding 'bpyth/bpyth_object_analysis.py'\n",
      "adding 'bpyth/bpyth_string.py'\n",
      "adding 'bpyth/bpyth_tools.py'\n",
      "adding 'bpyth-0.1.8.dist-info/LICENSE'\n",
      "adding 'bpyth-0.1.8.dist-info/METADATA'\n",
      "adding 'bpyth-0.1.8.dist-info/WHEEL'\n",
      "adding 'bpyth-0.1.8.dist-info/entry_points.txt'\n",
      "adding 'bpyth-0.1.8.dist-info/top_level.txt'\n",
      "adding 'bpyth-0.1.8.dist-info/RECORD'\n",
      "removing build/bdist.linux-x86_64/wheel\n",
      "\u001b[1m\u001b[92mSuccessfully built \u001b[4mbpyth-0.1.8.tar.gz\u001b[0m\u001b[1m\u001b[92m and \u001b[4mbpyth-0.1.8-py3-none-any.whl\u001b[0m\u001b[1m\u001b[92m\u001b[0m\n"
     ]
    }
   ],
   "source": [
    "!python -m build"
   ]
  },
  {
   "cell_type": "markdown",
   "id": "e6b13397-01f2-4ffb-9668-dc9a58196db9",
   "metadata": {},
   "source": [
    "## Publish on github"
   ]
  },
  {
   "cell_type": "code",
   "execution_count": 19,
   "id": "d444d5d8-ddb6-451e-9300-fa6424dde8f0",
   "metadata": {
    "execution": {
     "iopub.execute_input": "2023-02-21T21:42:14.179804Z",
     "iopub.status.busy": "2023-02-21T21:42:14.179552Z",
     "iopub.status.idle": "2023-02-21T21:42:14.563593Z",
     "shell.execute_reply": "2023-02-21T21:42:14.562742Z",
     "shell.execute_reply.started": "2023-02-21T21:42:14.179779Z"
    }
   },
   "outputs": [
    {
     "name": "stdout",
     "output_type": "stream",
     "text": [
      "Auf Branch master\n",
      "Ihr Branch ist auf demselben Stand wie 'origin/master'.\n",
      "\n",
      "Änderungen, die nicht zum Commit vorgemerkt sind:\n",
      "  (benutzen Sie \"git add <Datei>...\", um die Änderungen zum Commit vorzumerken)\n",
      "  (benutzen Sie \"git restore <Datei>...\", um die Änderungen im Arbeitsverzeichnis zu verwerfen)\n",
      "\t\u001b[31mgeändert:       README.ipynb\u001b[m\n",
      "\t\u001b[31mgeändert:       README.md\u001b[m\n",
      "\t\u001b[31mgeändert:       jupyter/20_Iterable.ipynb\u001b[m\n",
      "\t\u001b[31mgeändert:       jupyter/99___run_all.ipynb\u001b[m\n",
      "\t\u001b[31mgeändert:       publish_bpyth.ipynb\u001b[m\n",
      "\t\u001b[31mgeändert:       pyproject.toml\u001b[m\n",
      "\t\u001b[31mgeändert:       src/bpyth/__main__.py\u001b[m\n",
      "\t\u001b[31mgeändert:       src/bpyth/bpyth_iterable.py\u001b[m\n",
      "\n",
      "keine Änderungen zum Commit vorgemerkt (benutzen Sie \"git add\" und/oder \"git commit -a\")\n"
     ]
    }
   ],
   "source": [
    "!git status"
   ]
  },
  {
   "cell_type": "code",
   "execution_count": 20,
   "id": "3d4b6e41-d98d-467c-981c-72405459c542",
   "metadata": {
    "execution": {
     "iopub.execute_input": "2023-02-21T21:42:14.565970Z",
     "iopub.status.busy": "2023-02-21T21:42:14.565697Z",
     "iopub.status.idle": "2023-02-21T21:42:14.708080Z",
     "shell.execute_reply": "2023-02-21T21:42:14.706875Z",
     "shell.execute_reply.started": "2023-02-21T21:42:14.565944Z"
    }
   },
   "outputs": [],
   "source": [
    "!git config credential.helper store"
   ]
  },
  {
   "cell_type": "code",
   "execution_count": 21,
   "id": "a9a7e740-2661-43c1-9743-bef78afaba54",
   "metadata": {
    "execution": {
     "iopub.execute_input": "2023-02-21T21:42:14.714098Z",
     "iopub.status.busy": "2023-02-21T21:42:14.713695Z",
     "iopub.status.idle": "2023-02-21T21:42:15.047561Z",
     "shell.execute_reply": "2023-02-21T21:42:15.046005Z",
     "shell.execute_reply.started": "2023-02-21T21:42:14.714069Z"
    }
   },
   "outputs": [],
   "source": [
    "!git add --all"
   ]
  },
  {
   "cell_type": "code",
   "execution_count": 22,
   "id": "fbfaaaaa-f75a-459d-b2f3-3a8d337ee310",
   "metadata": {
    "execution": {
     "iopub.execute_input": "2023-02-21T21:42:15.056195Z",
     "iopub.status.busy": "2023-02-21T21:42:15.054470Z",
     "iopub.status.idle": "2023-02-21T21:42:15.700157Z",
     "shell.execute_reply": "2023-02-21T21:42:15.699197Z",
     "shell.execute_reply.started": "2023-02-21T21:42:15.056149Z"
    }
   },
   "outputs": [
    {
     "name": "stdout",
     "output_type": "stream",
     "text": [
      "[master 2274529] ֹ\n",
      " 8 files changed, 731 insertions(+), 910 deletions(-)\n",
      " rewrite publish_bpyth.ipynb (60%)\n"
     ]
    }
   ],
   "source": [
    "# Commit message eintragen und run\n",
    "!git commit -m \"ֹ\""
   ]
  },
  {
   "cell_type": "code",
   "execution_count": 24,
   "id": "9c24bc9a-6a3b-4eda-86f4-27a2b4b21a8c",
   "metadata": {
    "execution": {
     "iopub.execute_input": "2023-02-21T21:42:29.207730Z",
     "iopub.status.busy": "2023-02-21T21:42:29.206935Z",
     "iopub.status.idle": "2023-02-21T21:42:30.486099Z",
     "shell.execute_reply": "2023-02-21T21:42:30.484674Z",
     "shell.execute_reply.started": "2023-02-21T21:42:29.207673Z"
    },
    "tags": []
   },
   "outputs": [
    {
     "name": "stdout",
     "output_type": "stream",
     "text": [
      "Objekte aufzählen: 25, fertig.\n",
      "Zähle Objekte: 100% (25/25), fertig.\n",
      "Delta-Kompression verwendet bis zu 2 Threads.\n",
      "Komprimiere Objekte: 100% (12/12), fertig.\n",
      "Schreibe Objekte: 100% (13/13), 3.68 KiB | 3.68 MiB/s, fertig.\n",
      "Gesamt 13 (Delta 9), Wiederverwendet 0 (Delta 0), Pack wiederverwendet 0\n",
      "remote: Resolving deltas: 100% (9/9), completed with 9 local objects.\u001b[K\n",
      "To https://github.com/djekra/bpyth\n",
      "   a13af0b..2274529  master -> master\n"
     ]
    }
   ],
   "source": [
    "!git push origin master"
   ]
  },
  {
   "cell_type": "code",
   "execution_count": 23,
   "id": "fc1bb674-46b3-4d13-98aa-d24f62df0bf7",
   "metadata": {
    "execution": {
     "iopub.execute_input": "2023-02-21T21:42:15.701668Z",
     "iopub.status.busy": "2023-02-21T21:42:15.701341Z",
     "iopub.status.idle": "2023-02-21T21:42:15.753967Z",
     "shell.execute_reply": "2023-02-21T21:42:15.750123Z",
     "shell.execute_reply.started": "2023-02-21T21:42:15.701620Z"
    }
   },
   "outputs": [
    {
     "name": "stdout",
     "output_type": "stream",
     "text": [
      "Stop Time:  22:42:15\n",
      "Elapsed:    26 secs\n"
     ]
    },
    {
     "data": {
      "text/html": [
       "<img src onerror=\"var cell = this.closest('.jp-CodeCell');var editor = cell.querySelector('.jp-Editor');editor.style.background='DarkGray';this.parentNode.removeChild(this)\">"
      ],
      "text/plain": [
       "<IPython.core.display.HTML object>"
      ]
     },
     "metadata": {},
     "output_type": "display_data"
    }
   ],
   "source": [
    "raise Stop"
   ]
  },
  {
   "cell_type": "markdown",
   "id": "d610974a-6298-4078-83f9-822dd1678330",
   "metadata": {},
   "source": [
    "* Terminal ins Verzeichnis öffnen\n",
    "* `git push origin master`\n",
    "* Personal Access Token verwenden statt Passwort\n",
    "* überprüfen: https://github.com/djekra/bpyth"
   ]
  },
  {
   "cell_type": "markdown",
   "id": "c5eb839e-634b-475f-919b-7dd8bc234658",
   "metadata": {},
   "source": [
    "## Publish on pypi.org"
   ]
  },
  {
   "cell_type": "markdown",
   "id": "aec9a4fc-d8e5-4db5-b5c7-0ecb627cd670",
   "metadata": {},
   "source": [
    "* `python -m twine upload --skip-existing dist/*` \n",
    "* Version überprüfen: https://pypi.org/project/bpyth/"
   ]
  },
  {
   "cell_type": "code",
   "execution_count": null,
   "id": "f83b80b8-60ea-4ad6-bfdb-00a2f52a4740",
   "metadata": {
    "execution": {
     "iopub.status.busy": "2023-02-21T21:42:15.754692Z",
     "iopub.status.idle": "2023-02-21T21:42:15.762233Z",
     "shell.execute_reply": "2023-02-21T21:42:15.761997Z",
     "shell.execute_reply.started": "2023-02-21T21:42:15.761965Z"
    }
   },
   "outputs": [],
   "source": [
    "# Nicht nötig\n",
    "# Publish on test.pypi.org\n",
    "# python -m twine upload --repository testpypi --skip-existing dist/* "
   ]
  },
  {
   "cell_type": "markdown",
   "id": "16c9f64f-40af-41ac-90db-f802bb8f73c1",
   "metadata": {},
   "source": [
    "## Test from PyPi"
   ]
  },
  {
   "cell_type": "code",
   "execution_count": 30,
   "id": "3af8896f-3f40-4d28-a365-fc4c0cb4228f",
   "metadata": {
    "execution": {
     "iopub.execute_input": "2023-02-21T21:44:34.862240Z",
     "iopub.status.busy": "2023-02-21T21:44:34.861564Z",
     "iopub.status.idle": "2023-02-21T21:44:35.677789Z",
     "shell.execute_reply": "2023-02-21T21:44:35.676959Z",
     "shell.execute_reply.started": "2023-02-21T21:44:34.862183Z"
    }
   },
   "outputs": [
    {
     "name": "stdout",
     "output_type": "stream",
     "text": [
      "Found existing installation: bpyth 0.1.7\n",
      "Uninstalling bpyth-0.1.7:\n",
      "  Successfully uninstalled bpyth-0.1.7\n"
     ]
    }
   ],
   "source": [
    "# uninstall\n",
    "!pip uninstall -y bpyth"
   ]
  },
  {
   "cell_type": "code",
   "execution_count": 31,
   "id": "8ea8f83c-6970-424a-993d-f8e378e5faa9",
   "metadata": {
    "execution": {
     "iopub.execute_input": "2023-02-21T21:44:35.680296Z",
     "iopub.status.busy": "2023-02-21T21:44:35.679725Z",
     "iopub.status.idle": "2023-02-21T21:44:39.408139Z",
     "shell.execute_reply": "2023-02-21T21:44:39.405385Z",
     "shell.execute_reply.started": "2023-02-21T21:44:35.680262Z"
    }
   },
   "outputs": [
    {
     "name": "stdout",
     "output_type": "stream",
     "text": [
      "Collecting bpyth\n",
      "  Downloading bpyth-0.1.8-py3-none-any.whl (10 kB)\n",
      "Installing collected packages: bpyth\n",
      "Successfully installed bpyth-0.1.8\n"
     ]
    }
   ],
   "source": [
    "!pip install bpyth --no-cache-dir "
   ]
  },
  {
   "cell_type": "code",
   "execution_count": 32,
   "id": "5655c1d6-916d-4f5a-90aa-1877b6a5317b",
   "metadata": {
    "execution": {
     "iopub.execute_input": "2023-02-21T21:44:39.416888Z",
     "iopub.status.busy": "2023-02-21T21:44:39.416024Z",
     "iopub.status.idle": "2023-02-21T21:44:39.464445Z",
     "shell.execute_reply": "2023-02-21T21:44:39.461774Z",
     "shell.execute_reply.started": "2023-02-21T21:44:39.416796Z"
    }
   },
   "outputs": [],
   "source": [
    "# test import\n",
    "import bpyth as bpy"
   ]
  },
  {
   "cell_type": "code",
   "execution_count": 33,
   "id": "b1a1633d-62ad-4088-8b90-6447cc84daf6",
   "metadata": {
    "execution": {
     "iopub.execute_input": "2023-02-21T21:44:39.473806Z",
     "iopub.status.busy": "2023-02-21T21:44:39.472885Z",
     "iopub.status.idle": "2023-02-21T21:44:39.715557Z",
     "shell.execute_reply": "2023-02-21T21:44:39.714165Z",
     "shell.execute_reply.started": "2023-02-21T21:44:39.473725Z"
    }
   },
   "outputs": [
    {
     "name": "stdout",
     "output_type": "stream",
     "text": [
      "Hello bpyth 0.1.8\n"
     ]
    }
   ],
   "source": [
    "# test script\n",
    "!bpyth"
   ]
  },
  {
   "cell_type": "code",
   "execution_count": 34,
   "id": "d734da84-24da-4fa9-8a12-139486f7bf76",
   "metadata": {
    "execution": {
     "iopub.execute_input": "2023-02-21T21:44:39.718074Z",
     "iopub.status.busy": "2023-02-21T21:44:39.717751Z",
     "iopub.status.idle": "2023-02-21T21:44:39.757827Z",
     "shell.execute_reply": "2023-02-21T21:44:39.756728Z",
     "shell.execute_reply.started": "2023-02-21T21:44:39.718042Z"
    },
    "tags": []
   },
   "outputs": [
    {
     "data": {
      "text/plain": [
       "'0.1.8'"
      ]
     },
     "execution_count": 34,
     "metadata": {},
     "output_type": "execute_result"
    }
   ],
   "source": [
    "# show version\n",
    "from importlib.metadata import version  \n",
    "version('bpyth')  "
   ]
  }
 ],
 "metadata": {
  "kernelspec": {
   "display_name": "Python 3 (ipykernel)",
   "language": "python",
   "name": "python3"
  },
  "language_info": {
   "codemirror_mode": {
    "name": "ipython",
    "version": 3
   },
   "file_extension": ".py",
   "mimetype": "text/x-python",
   "name": "python",
   "nbconvert_exporter": "python",
   "pygments_lexer": "ipython3",
   "version": "3.9.13"
  }
 },
 "nbformat": 4,
 "nbformat_minor": 5
}
