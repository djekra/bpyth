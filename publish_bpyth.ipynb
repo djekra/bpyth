{
 "cells": [
  {
   "cell_type": "markdown",
   "id": "3fd10409-2f5f-4628-8768-3a7e489d33b4",
   "metadata": {},
   "source": [
    "## Create README"
   ]
  },
  {
   "cell_type": "code",
   "execution_count": 10,
   "id": "14ea296b-20d0-4bfe-ada6-64aca05ca146",
   "metadata": {
    "execution": {
     "iopub.execute_input": "2025-03-12T21:57:34.607084Z",
     "iopub.status.busy": "2025-03-12T21:57:34.606093Z",
     "iopub.status.idle": "2025-03-12T21:57:36.406434Z",
     "shell.execute_reply": "2025-03-12T21:57:36.403853Z",
     "shell.execute_reply.started": "2025-03-12T21:57:34.606918Z"
    }
   },
   "outputs": [
    {
     "name": "stdout",
     "output_type": "stream",
     "text": [
      "[NbConvertApp] Converting notebook README.ipynb to markdown\n",
      "[NbConvertApp] Writing 1925 bytes to README.md\n"
     ]
    }
   ],
   "source": [
    "!jupyter nbconvert --ClearMetadataPreprocessor.enabled=True --ClearOutput.enabled=True --to markdown README.ipynb"
   ]
  },
  {
   "cell_type": "markdown",
   "id": "a4547f78-251b-45b5-a478-27dc691d193b",
   "metadata": {},
   "source": [
    "## Local install"
   ]
  },
  {
   "cell_type": "code",
   "execution_count": 11,
   "id": "30be06b0-90b1-41b1-a63d-9cec8e4a05ab",
   "metadata": {
    "execution": {
     "iopub.execute_input": "2025-03-12T21:57:36.412582Z",
     "iopub.status.busy": "2025-03-12T21:57:36.411744Z",
     "iopub.status.idle": "2025-03-12T21:57:37.249739Z",
     "shell.execute_reply": "2025-03-12T21:57:37.247121Z",
     "shell.execute_reply.started": "2025-03-12T21:57:36.412495Z"
    }
   },
   "outputs": [
    {
     "name": "stdout",
     "output_type": "stream",
     "text": [
      "Found existing installation: bpyth 0.1.9\n",
      "Uninstalling bpyth-0.1.9:\n",
      "  Successfully uninstalled bpyth-0.1.9\n"
     ]
    }
   ],
   "source": [
    "# uninstall\n",
    "!pip uninstall -y bpyth"
   ]
  },
  {
   "cell_type": "code",
   "execution_count": 12,
   "id": "f345ee0f-748f-40be-8578-8ad4ac4d9fe3",
   "metadata": {
    "execution": {
     "iopub.execute_input": "2025-03-12T21:57:37.254642Z",
     "iopub.status.busy": "2025-03-12T21:57:37.253398Z",
     "iopub.status.idle": "2025-03-12T21:57:41.024649Z",
     "shell.execute_reply": "2025-03-12T21:57:41.022063Z",
     "shell.execute_reply.started": "2025-03-12T21:57:37.254508Z"
    }
   },
   "outputs": [
    {
     "name": "stdout",
     "output_type": "stream",
     "text": [
      "Obtaining file:///media/me/LinuxDropbox/Dropbox/31_Projekte/01_Python/88_PyCharm/bpyth\n",
      "  Installing build dependencies ... \u001b[?2done\n",
      "\u001b[?25h  Checking if build backend supports build_editable ... \u001b[?25ldone\n",
      "\u001b[?25h  Getting requirements to build editable ... \u001b[?25ldone\n",
      "\u001b[?25h  Preparing editable metadata (pyproject.toml) ... \u001b[?25ldone\n",
      "\u001b[?25hBuilding wheels for collected packages: bpyth\n",
      "  Building editable for bpyth (pyproject.toml) ... \u001b[?25ldone\n",
      "\u001b[?25h  Created wheel for bpyth: filename=bpyth-0.2.0-0.editable-py3-none-any.whl size=3289 sha256=95285cba0e2fa7de69987a57d2c704cde57d08205d9582ce792088c5d47012ee\n",
      "  Stored in directory: /tmp/pip-ephem-wheel-cache-xp06f_so/wheels/c2/a6/e7/39d92769ff95a8171fafd8644e7db93999e768068775cbded5\n",
      "Successfully built bpyth\n",
      "Installing collected packages: bpyth\n",
      "Successfully installed bpyth-0.2.0\n"
     ]
    }
   ],
   "source": [
    "# install locally\n",
    "!python -m pip install -e ."
   ]
  },
  {
   "cell_type": "code",
   "execution_count": 13,
   "id": "8cec0e88-e3c2-4020-b9c9-176bcd255c46",
   "metadata": {
    "execution": {
     "iopub.execute_input": "2025-03-12T21:57:41.032058Z",
     "iopub.status.busy": "2025-03-12T21:57:41.031161Z",
     "iopub.status.idle": "2025-03-12T21:57:41.817142Z",
     "shell.execute_reply": "2025-03-12T21:57:41.813871Z",
     "shell.execute_reply.started": "2025-03-12T21:57:41.031941Z"
    }
   },
   "outputs": [
    {
     "name": "stdout",
     "output_type": "stream",
     "text": [
      "Name: bpyth\n",
      "Version: 0.2.0\n",
      "Summary: Various Python Tools\n",
      "Home-page: https://github.com/djekra/bpyth\n",
      "Author: \n",
      "Author-email: djekra <hopsalla@gmail.com>\n",
      "License: MIT\n",
      "Location: /home/me/miniforge3/envs/python_07/lib/python3.12/site-packages\n",
      "Editable project location: /media/me/LinuxDropbox/Dropbox/31_Projekte/01_Python/88_PyCharm/bpyth\n",
      "Requires: \n",
      "Required-by: bj-nlp, blab, pandasklar\n"
     ]
    }
   ],
   "source": [
    "# show\n",
    "!pip show bpyth"
   ]
  },
  {
   "cell_type": "code",
   "execution_count": 14,
   "id": "baf8f2b6-2bb4-4460-b654-f4454bfec48f",
   "metadata": {
    "execution": {
     "iopub.execute_input": "2025-03-12T21:57:41.822224Z",
     "iopub.status.busy": "2025-03-12T21:57:41.820926Z",
     "iopub.status.idle": "2025-03-12T21:57:41.877063Z",
     "shell.execute_reply": "2025-03-12T21:57:41.875222Z",
     "shell.execute_reply.started": "2025-03-12T21:57:41.822092Z"
    }
   },
   "outputs": [],
   "source": [
    "# test import\n",
    "# Wenn dies failed: Restart Kernel and Run all Cells\n",
    "import bpyth as bpy"
   ]
  },
  {
   "cell_type": "code",
   "execution_count": 15,
   "id": "43f0bbdd-2df6-4534-a86e-77657d0329da",
   "metadata": {
    "execution": {
     "iopub.execute_input": "2025-03-12T21:57:41.879302Z",
     "iopub.status.busy": "2025-03-12T21:57:41.878667Z",
     "iopub.status.idle": "2025-03-12T21:57:42.103710Z",
     "shell.execute_reply": "2025-03-12T21:57:42.101172Z",
     "shell.execute_reply.started": "2025-03-12T21:57:41.879244Z"
    }
   },
   "outputs": [
    {
     "name": "stdout",
     "output_type": "stream",
     "text": [
      "Hello bpyth 0.2.0\n"
     ]
    }
   ],
   "source": [
    "# test script\n",
    "!bpyth"
   ]
  },
  {
   "cell_type": "code",
   "execution_count": 16,
   "id": "af89728f-67b5-48bb-ab8b-828535cb2981",
   "metadata": {
    "execution": {
     "iopub.execute_input": "2025-03-12T21:57:42.110118Z",
     "iopub.status.busy": "2025-03-12T21:57:42.107494Z",
     "iopub.status.idle": "2025-03-12T21:57:43.273897Z",
     "shell.execute_reply": "2025-03-12T21:57:43.270794Z",
     "shell.execute_reply.started": "2025-03-12T21:57:42.110075Z"
    }
   },
   "outputs": [
    {
     "name": "stdout",
     "output_type": "stream",
     "text": [
      "\u001b[1m============================= test session starts ==============================\u001b[0m\n",
      "platform linux -- Python 3.12.9, pytest-8.3.5, pluggy-1.5.0\n",
      "rootdir: /media/me/LinuxDropbox/Dropbox/31_Projekte/01_Python/88_PyCharm/bpyth\n",
      "configfile: pyproject.toml\n",
      "plugins: dash-2.18.2, anyio-4.8.0\n",
      "collected 66 items                                                             \u001b[0m\n",
      "\n",
      "\u001b[32m.\u001b[0m\u001b[32m.\u001b[0m\u001b[32m.\u001b[0m\u001b[32m.\u001b[0m\u001b[32m                                        [ 10%]\u001b[0m\n",
      "tests/test_bpyth_human.py \u001b[32m.\u001b[0m\u001b[32m.\u001b[0m\u001b[32m.\u001b[0m\u001b[32m.\u001b[0m\u001b[32m.\u001b[0m\u001b[32m.\u001b[0m\u001b[32m.\u001b[0m\u001b[32m.\u001b[0m\u001b[32m.\u001b[0m\u001b[32m.\u001b[0m\u001b[32m.\u001b[0m\u001b[32m.\u001b[0m\u001b[32m.\u001b[0m\u001b[32m.\u001b[0m\u001b[32m.\u001b[0m\u001b[32m.\u001b[0m\u001b[32m.\u001b[0m\u001b[32m                              [ 36%]\u001b[0m\n",
      "tests/test_bpyth_iterable.py \u001b[32m.\u001b[0m\u001b[32m.\u001b[0m\u001b[32m.\u001b[0m\u001b[32m.\u001b[0m\u001b[32m.\u001b[0m\u001b[32m.\u001b[0m\u001b[32m.\u001b[0m\u001b[32m.\u001b[0m\u001b[32m.\u001b[0m\u001b[32m.\u001b[0m\u001b[32m.\u001b[0m\u001b[32m.\u001b[0m\u001b[32m.\u001b[0m\u001b[32m.\u001b[0m\u001b[32m.\u001b[0m\u001b[32m                             [ 59%]\u001b[0m\n",
      "tests/test_bpyth_iterable_minivenn.py \u001b[32m.\u001b[0m\u001b[32m.\u001b[0m\u001b[32m.\u001b[0m\u001b[32m.\u001b[0m\u001b[32m.\u001b[0m\u001b[32m.\u001b[0m\u001b[32m.\u001b[0m\u001b[32m.\u001b[0m\u001b[32m                           [ 71%]\u001b[0m\n",
      "tests/test_bpyth_object_analysis.py \u001b[32m.\u001b[0m\u001b[32m.\u001b[0m\u001b[32m.\u001b[0m\u001b[32m.\u001b[0m\u001b[32m.\u001b[0m\u001b[32m.\u001b[0m\u001b[32m.\u001b[0m\u001b[32m.\u001b[0m\u001b[32m.\u001b[0m\u001b[32m.\u001b[0m\u001b[32m.\u001b[0m\u001b[32m.\u001b[0m\u001b[32m.\u001b[0m\u001b[32m.\u001b[0m\u001b[32m                       [ 92%]\u001b[0m\n",
      "tests/test_bpyth_string.py \u001b[32m.\u001b[0m\u001b[32m.\u001b[0m\u001b[32m.\u001b[0m\u001b[32m.\u001b[0m\u001b[32m.\u001b[0m\u001b[32m                                         [100%]\u001b[0m\n",
      "\n",
      "\u001b[32m============================== \u001b[32m\u001b[1m66 passed\u001b[0m\u001b[32m in 0.08s\u001b[0m\u001b[32m ==============================\u001b[0m\n"
     ]
    }
   ],
   "source": [
    "!pytest"
   ]
  },
  {
   "cell_type": "code",
   "execution_count": 17,
   "id": "368b880d-213c-4683-b7ac-22b4105e57ff",
   "metadata": {
    "execution": {
     "iopub.execute_input": "2025-03-12T21:57:43.278816Z",
     "iopub.status.busy": "2025-03-12T21:57:43.277565Z",
     "iopub.status.idle": "2025-03-12T21:57:43.414390Z",
     "shell.execute_reply": "2025-03-12T21:57:43.413014Z",
     "shell.execute_reply.started": "2025-03-12T21:57:43.278690Z"
    }
   },
   "outputs": [
    {
     "name": "stdout",
     "output_type": "stream",
     "text": [
      "blab init\n",
      "environment['in_colab']     = False\n",
      "environment['dropbox_path'] = /media/me/LinuxDropbox/Dropbox\n",
      "environment['lib_path']     = /media/me/LinuxDropbox/Dropbox/31_Projekte/01_Python/libs\n",
      "Start Time: 22:57:43\n"
     ]
    },
    {
     "data": {
      "text/html": [
       "<img src onerror=\"var cell = this.closest('.jp-CodeCell');var editor = cell.querySelector('.jp-Editor');editor.style.background='Beige';this.parentNode.removeChild(this)\">"
      ],
      "text/plain": [
       "<IPython.core.display.HTML object>"
      ]
     },
     "metadata": {},
     "output_type": "display_data"
    }
   ],
   "source": [
    "# blab init\n",
    "try:\n",
    "    import blab\n",
    "    startup_notebook = blab.blab_startup()\n",
    "    %run $startup_notebook\n",
    "except:\n",
    "    pass"
   ]
  },
  {
   "cell_type": "code",
   "execution_count": 18,
   "id": "d0c4ca23-ef67-439e-b389-eef9814f9e9b",
   "metadata": {
    "execution": {
     "iopub.execute_input": "2025-03-12T21:57:43.416586Z",
     "iopub.status.busy": "2025-03-12T21:57:43.415931Z",
     "iopub.status.idle": "2025-03-12T21:57:43.450920Z",
     "shell.execute_reply": "2025-03-12T21:57:43.447418Z",
     "shell.execute_reply.started": "2025-03-12T21:57:43.416526Z"
    }
   },
   "outputs": [
    {
     "name": "stdout",
     "output_type": "stream",
     "text": [
      "Stop Time:  22:57:43\n",
      "Elapsed:    0 secs\n"
     ]
    },
    {
     "data": {
      "text/html": [
       "<img src onerror=\"var cell = this.closest('.jp-CodeCell');var editor = cell.querySelector('.jp-Editor');editor.style.background='DarkGray';this.parentNode.removeChild(this)\">"
      ],
      "text/plain": [
       "<IPython.core.display.HTML object>"
      ]
     },
     "metadata": {},
     "output_type": "display_data"
    }
   ],
   "source": [
    "raise Stop"
   ]
  },
  {
   "cell_type": "markdown",
   "id": "efa2c656-785f-45b7-a3b5-a9ae251bce06",
   "metadata": {},
   "source": [
    "## build"
   ]
  },
  {
   "cell_type": "code",
   "execution_count": 19,
   "id": "f20cbd4d-b38b-4bc9-a750-b14851fb174b",
   "metadata": {
    "execution": {
     "iopub.execute_input": "2025-03-12T21:59:38.036415Z",
     "iopub.status.busy": "2025-03-12T21:59:38.035488Z",
     "iopub.status.idle": "2025-03-12T21:59:39.579823Z",
     "shell.execute_reply": "2025-03-12T21:59:39.577133Z",
     "shell.execute_reply.started": "2025-03-12T21:59:38.036360Z"
    }
   },
   "outputs": [],
   "source": [
    "!pip install -q build"
   ]
  },
  {
   "cell_type": "code",
   "execution_count": 20,
   "id": "c745f5da-d6e4-408a-aa73-1166ccc6fd5b",
   "metadata": {
    "execution": {
     "iopub.execute_input": "2025-03-12T21:59:40.909294Z",
     "iopub.status.busy": "2025-03-12T21:59:40.908343Z",
     "iopub.status.idle": "2025-03-12T21:59:45.206394Z",
     "shell.execute_reply": "2025-03-12T21:59:45.205219Z",
     "shell.execute_reply.started": "2025-03-12T21:59:40.909206Z"
    }
   },
   "outputs": [
    {
     "name": "stdout",
     "output_type": "stream",
     "text": [
      "\u001b[1m* Creating isolated environment: venv+pip...\u001b[0m\n",
      "\u001b[1m* Installing packages in isolated environment:\u001b[0m\n",
      "  - setuptools>=61.0.0\n",
      "  - wheel\n",
      "\u001b[1m* Getting build dependencies for sdist...\u001b[0m\n",
      "running egg_info\n",
      "writing src/bpyth.egg-info/PKG-INFO\n",
      "writing dependency_links to src/bpyth.egg-info/dependency_links.txt\n",
      "writing entry points to src/bpyth.egg-info/entry_points.txt\n",
      "writing top-level names to src/bpyth.egg-info/top_level.txt\n",
      "reading manifest file 'src/bpyth.egg-info/SOURCES.txt'\n",
      "adding license file 'LICENSE'\n",
      "writing manifest file 'src/bpyth.egg-info/SOURCES.txt'\n",
      "\u001b[1m* Building sdist...\u001b[0m\n",
      "running sdist\n",
      "running egg_info\n",
      "writing src/bpyth.egg-info/PKG-INFO\n",
      "writing dependency_links to src/bpyth.egg-info/dependency_links.txt\n",
      "writing entry points to src/bpyth.egg-info/entry_points.txt\n",
      "writing top-level names to src/bpyth.egg-info/top_level.txt\n",
      "reading manifest file 'src/bpyth.egg-info/SOURCES.txt'\n",
      "adding license file 'LICENSE'\n",
      "writing manifest file 'src/bpyth.egg-info/SOURCES.txt'\n",
      "running check\n",
      "creating bpyth-0.2.0\n",
      "creating bpyth-0.2.0/src/bpyth\n",
      "creating bpyth-0.2.0/src/bpyth.egg-info\n",
      "creating bpyth-0.2.0/tests\n",
      "copying files to bpyth-0.2.0...\n",
      "copying LICENSE -> bpyth-0.2.0\n",
      "copying README.md -> bpyth-0.2.0\n",
      "copying pyproject.toml -> bpyth-0.2.0\n",
      "copying src/bpyth/__init__.py -> bpyth-0.2.0/src/bpyth\n",
      "copying src/bpyth/__main__.py -> bpyth-0.2.0/src/bpyth\n",
      "copying src/bpyth/bpyth_files.py -> bpyth-0.2.0/src/bpyth\n",
      "copying src/bpyth/bpyth_human.py -> bpyth-0.2.0/src/bpyth\n",
      "copying src/bpyth/bpyth_iterable.py -> bpyth-0.2.0/src/bpyth\n",
      "copying src/bpyth/bpyth_object_analysis.py -> bpyth-0.2.0/src/bpyth\n",
      "copying src/bpyth/bpyth_string.py -> bpyth-0.2.0/src/bpyth\n",
      "copying src/bpyth/bpyth_tools.py -> bpyth-0.2.0/src/bpyth\n",
      "copying src/bpyth.egg-info/PKG-INFO -> bpyth-0.2.0/src/bpyth.egg-info\n",
      "copying src/bpyth.egg-info/SOURCES.txt -> bpyth-0.2.0/src/bpyth.egg-info\n",
      "copying src/bpyth.egg-info/dependency_links.txt -> bpyth-0.2.0/src/bpyth.egg-info\n",
      "copying src/bpyth.egg-info/entry_points.txt -> bpyth-0.2.0/src/bpyth.egg-info\n",
      "copying src/bpyth.egg-info/top_level.txt -> bpyth-0.2.0/src/bpyth.egg-info\n",
      "copying tests/test_bpyth_files.py -> bpyth-0.2.0/tests\n",
      "copying tests/test_bpyth_human.py -> bpyth-0.2.0/tests\n",
      "copying tests/test_bpyth_iterable.py -> bpyth-0.2.0/tests\n",
      "copying tests/test_bpyth_iterable_minivenn.py -> bpyth-0.2.0/tests\n",
      "copying tests/test_bpyth_object_analysis.py -> bpyth-0.2.0/tests\n",
      "copying tests/test_bpyth_string.py -> bpyth-0.2.0/tests\n",
      "copying src/bpyth.egg-info/SOURCES.txt -> bpyth-0.2.0/src/bpyth.egg-info\n",
      "Writing bpyth-0.2.0/setup.cfg\n",
      "Creating tar archive\n",
      "removing 'bpyth-0.2.0' (and everything under it)\n",
      "\u001b[1m* Building wheel from sdist\u001b[0m\n",
      "\u001b[1m* Creating isolated environment: venv+pip...\u001b[0m\n",
      "\u001b[1m* Installing packages in isolated environment:\u001b[0m\n",
      "  - setuptools>=61.0.0\n",
      "  - wheel\n",
      "\u001b[1m* Getting build dependencies for wheel...\u001b[0m\n",
      "running egg_info\n",
      "writing src/bpyth.egg-info/PKG-INFO\n",
      "writing dependency_links to src/bpyth.egg-info/dependency_links.txt\n",
      "writing entry points to src/bpyth.egg-info/entry_points.txt\n",
      "writing top-level names to src/bpyth.egg-info/top_level.txt\n",
      "reading manifest file 'src/bpyth.egg-info/SOURCES.txt'\n",
      "adding license file 'LICENSE'\n",
      "writing manifest file 'src/bpyth.egg-info/SOURCES.txt'\n",
      "\u001b[1m* Building wheel...\u001b[0m\n",
      "running bdist_wheel\n",
      "running build\n",
      "running build_py\n",
      "creating build/lib/bpyth\n",
      "copying src/bpyth/bpyth_iterable.py -> build/lib/bpyth\n",
      "copying src/bpyth/__init__.py -> build/lib/bpyth\n",
      "copying src/bpyth/bpyth_human.py -> build/lib/bpyth\n",
      "copying src/bpyth/bpyth_string.py -> build/lib/bpyth\n",
      "copying src/bpyth/bpyth_object_analysis.py -> build/lib/bpyth\n",
      "copying src/bpyth/bpyth_tools.py -> build/lib/bpyth\n",
      "copying src/bpyth/bpyth_files.py -> build/lib/bpyth\n",
      "copying src/bpyth/__main__.py -> build/lib/bpyth\n",
      "running egg_info\n",
      "writing src/bpyth.egg-info/PKG-INFO\n",
      "writing dependency_links to src/bpyth.egg-info/dependency_links.txt\n",
      "writing entry points to src/bpyth.egg-info/entry_points.txt\n",
      "writing top-level names to src/bpyth.egg-info/top_level.txt\n",
      "reading manifest file 'src/bpyth.egg-info/SOURCES.txt'\n",
      "adding license file 'LICENSE'\n",
      "writing manifest file 'src/bpyth.egg-info/SOURCES.txt'\n",
      "installing to build/bdist.linux-x86_64/wheel\n",
      "running install\n",
      "running install_lib\n",
      "creating build/bdist.linux-x86_64/wheel\n",
      "creating build/bdist.linux-x86_64/wheel/bpyth\n",
      "copying build/lib/bpyth/bpyth_iterable.py -> build/bdist.linux-x86_64/wheel/./bpyth\n",
      "copying build/lib/bpyth/__init__.py -> build/bdist.linux-x86_64/wheel/./bpyth\n",
      "copying build/lib/bpyth/bpyth_human.py -> build/bdist.linux-x86_64/wheel/./bpyth\n",
      "copying build/lib/bpyth/bpyth_string.py -> build/bdist.linux-x86_64/wheel/./bpyth\n",
      "copying build/lib/bpyth/bpyth_object_analysis.py -> build/bdist.linux-x86_64/wheel/./bpyth\n",
      "copying build/lib/bpyth/bpyth_tools.py -> build/bdist.linux-x86_64/wheel/./bpyth\n",
      "copying build/lib/bpyth/bpyth_files.py -> build/bdist.linux-x86_64/wheel/./bpyth\n",
      "copying build/lib/bpyth/__main__.py -> build/bdist.linux-x86_64/wheel/./bpyth\n",
      "running install_egg_info\n",
      "Copying src/bpyth.egg-info to build/bdist.linux-x86_64/wheel/./bpyth-0.2.0-py3.12.egg-info\n",
      "running install_scripts\n",
      "creating build/bdist.linux-x86_64/wheel/bpyth-0.2.0.dist-info/WHEEL\n",
      "creating '/media/me/LinuxDropbox/Dropbox/31_Projekte/01_Python/88_PyCharm/bpyth/dist/.tmp-u2g8y9ne/bpyth-0.2.0-py3-none-any.whl' and adding 'build/bdist.linux-x86_64/wheel' to it\n",
      "adding 'bpyth/__init__.py'\n",
      "adding 'bpyth/__main__.py'\n",
      "adding 'bpyth/bpyth_files.py'\n",
      "adding 'bpyth/bpyth_human.py'\n",
      "adding 'bpyth/bpyth_iterable.py'\n",
      "adding 'bpyth/bpyth_object_analysis.py'\n",
      "adding 'bpyth/bpyth_string.py'\n",
      "adding 'bpyth/bpyth_tools.py'\n",
      "adding 'bpyth-0.2.0.dist-info/LICENSE'\n",
      "adding 'bpyth-0.2.0.dist-info/METADATA'\n",
      "adding 'bpyth-0.2.0.dist-info/WHEEL'\n",
      "adding 'bpyth-0.2.0.dist-info/entry_points.txt'\n",
      "adding 'bpyth-0.2.0.dist-info/top_level.txt'\n",
      "adding 'bpyth-0.2.0.dist-info/RECORD'\n",
      "removing build/bdist.linux-x86_64/wheel\n",
      "\u001b[1m\u001b[92mSuccessfully built \u001b[4mbpyth-0.2.0.tar.gz\u001b[0m\u001b[1m\u001b[92m and \u001b[4mbpyth-0.2.0-py3-none-any.whl\u001b[0m\u001b[1m\u001b[92m\u001b[0m\n"
     ]
    }
   ],
   "source": [
    "!python -m build"
   ]
  },
  {
   "cell_type": "markdown",
   "id": "e6b13397-01f2-4ffb-9668-dc9a58196db9",
   "metadata": {},
   "source": [
    "## Publish on github"
   ]
  },
  {
   "cell_type": "code",
   "execution_count": 21,
   "id": "d444d5d8-ddb6-451e-9300-fa6424dde8f0",
   "metadata": {
    "execution": {
     "iopub.execute_input": "2025-03-12T22:10:34.755926Z",
     "iopub.status.busy": "2025-03-12T22:10:34.755210Z",
     "iopub.status.idle": "2025-03-12T22:10:34.915187Z",
     "shell.execute_reply": "2025-03-12T22:10:34.914061Z",
     "shell.execute_reply.started": "2025-03-12T22:10:34.755853Z"
    }
   },
   "outputs": [
    {
     "name": "stdout",
     "output_type": "stream",
     "text": [
      "Auf Branch master\n",
      "Ihr Branch ist auf demselben Stand wie 'origin/master'.\n",
      "\n",
      "Zum Commit vorgemerkte Änderungen:\n",
      "  (benutzen Sie \"git restore --staged <Datei>...\" zum Entfernen aus der Staging-Area)\n",
      "\t\u001b[32mneue Datei:     tests/test_bpyth_files.py\u001b[m\n",
      "\t\u001b[32mneue Datei:     tests/test_bpyth_human.py\u001b[m\n",
      "\t\u001b[32mneue Datei:     tests/test_bpyth_iterable.py\u001b[m\n",
      "\t\u001b[32mneue Datei:     tests/test_bpyth_iterable_minivenn.py\u001b[m\n",
      "\t\u001b[32mneue Datei:     tests/test_bpyth_object_analysis.py\u001b[m\n",
      "\t\u001b[32mneue Datei:     tests/test_bpyth_string.py\u001b[m\n",
      "\n",
      "Änderungen, die nicht zum Commit vorgemerkt sind:\n",
      "  (benutzen Sie \"git add <Datei>...\", um die Änderungen zum Commit vorzumerken)\n",
      "  (benutzen Sie \"git restore <Datei>...\", um die Änderungen im Arbeitsverzeichnis zu verwerfen)\n",
      "\t\u001b[31mgeändert:       LICENSE\u001b[m\n",
      "\t\u001b[31mgeändert:       README.ipynb\u001b[m\n",
      "\t\u001b[31mgeändert:       jupyter/12_Files.ipynb\u001b[m\n",
      "\t\u001b[31mgeändert:       jupyter/15_Human.ipynb\u001b[m\n",
      "\t\u001b[31mgeändert:       jupyter/20_Iterable.ipynb\u001b[m\n",
      "\t\u001b[31mgeändert:       jupyter/22_Object_Analysis.ipynb\u001b[m\n",
      "\t\u001b[31mgeändert:       jupyter/24_Strings.ipynb\u001b[m\n",
      "\t\u001b[31mgeändert:       publish_bpyth.ipynb\u001b[m\n",
      "\t\u001b[31mgeändert:       pyproject.toml\u001b[m\n",
      "\t\u001b[31mgeändert:       src/bpyth/bpyth_files.py\u001b[m\n",
      "\t\u001b[31mgeändert:       src/bpyth/bpyth_human.py\u001b[m\n",
      "\t\u001b[31mgeändert:       src/bpyth/bpyth_iterable.py\u001b[m\n",
      "\t\u001b[31mgeändert:       src/bpyth/bpyth_object_analysis.py\u001b[m\n",
      "\t\u001b[31mgeändert:       src/bpyth/bpyth_string.py\u001b[m\n",
      "\t\u001b[31mgeändert:       src/bpyth/bpyth_tools.py\u001b[m\n",
      "\t\u001b[31mgeändert:       tests/test_bpyth_files.py\u001b[m\n",
      "\t\u001b[31mgeändert:       tests/test_bpyth_human.py\u001b[m\n",
      "\t\u001b[31mgeändert:       tests/test_bpyth_iterable.py\u001b[m\n",
      "\t\u001b[31mgeändert:       tests/test_bpyth_iterable_minivenn.py\u001b[m\n",
      "\t\u001b[31mgeändert:       tests/test_bpyth_object_analysis.py\u001b[m\n",
      "\t\u001b[31mgeändert:       tests/test_bpyth_string.py\u001b[m\n",
      "\n",
      "Unversionierte Dateien:\n",
      "  (benutzen Sie \"git add <Datei>...\", um die Änderungen zum Commit vorzumerken)\n",
      "\t\u001b[31m.idea/\u001b[m\n",
      "\t\u001b[31mjupyter/26_Tools.ipynb\u001b[m\n",
      "\t\u001b[31mrun_pytest.ipynb\u001b[m\n",
      "\n"
     ]
    }
   ],
   "source": [
    "!git status"
   ]
  },
  {
   "cell_type": "code",
   "execution_count": null,
   "id": "3d4b6e41-d98d-467c-981c-72405459c542",
   "metadata": {
    "execution": {
     "iopub.status.busy": "2025-03-12T21:57:43.457087Z",
     "iopub.status.idle": "2025-03-12T21:57:43.457436Z",
     "shell.execute_reply": "2025-03-12T21:57:43.457301Z",
     "shell.execute_reply.started": "2025-03-12T21:57:43.457286Z"
    }
   },
   "outputs": [],
   "source": [
    "!git config credential.helper store"
   ]
  },
  {
   "cell_type": "code",
   "execution_count": null,
   "id": "a9a7e740-2661-43c1-9743-bef78afaba54",
   "metadata": {
    "execution": {
     "iopub.status.busy": "2025-03-12T21:57:43.458341Z",
     "iopub.status.idle": "2025-03-12T21:57:43.458634Z",
     "shell.execute_reply": "2025-03-12T21:57:43.458506Z",
     "shell.execute_reply.started": "2025-03-12T21:57:43.458492Z"
    }
   },
   "outputs": [],
   "source": [
    "!git add --all"
   ]
  },
  {
   "cell_type": "code",
   "execution_count": null,
   "id": "fbfaaaaa-f75a-459d-b2f3-3a8d337ee310",
   "metadata": {
    "execution": {
     "iopub.status.busy": "2025-03-12T21:57:43.459479Z",
     "iopub.status.idle": "2025-03-12T21:57:43.459813Z",
     "shell.execute_reply": "2025-03-12T21:57:43.459668Z",
     "shell.execute_reply.started": "2025-03-12T21:57:43.459653Z"
    }
   },
   "outputs": [],
   "source": [
    "# Commit message eintragen und run\n",
    "!git commit -m \"ֹ\""
   ]
  },
  {
   "cell_type": "code",
   "execution_count": null,
   "id": "9c24bc9a-6a3b-4eda-86f4-27a2b4b21a8c",
   "metadata": {
    "execution": {
     "iopub.status.busy": "2025-03-12T21:57:43.460929Z",
     "iopub.status.idle": "2025-03-12T21:57:43.461411Z",
     "shell.execute_reply": "2025-03-12T21:57:43.461150Z",
     "shell.execute_reply.started": "2025-03-12T21:57:43.461123Z"
    },
    "tags": []
   },
   "outputs": [],
   "source": [
    "!git push origin master"
   ]
  },
  {
   "cell_type": "code",
   "execution_count": null,
   "id": "fc1bb674-46b3-4d13-98aa-d24f62df0bf7",
   "metadata": {
    "execution": {
     "iopub.status.busy": "2025-03-12T21:57:43.462359Z",
     "iopub.status.idle": "2025-03-12T21:57:43.462698Z",
     "shell.execute_reply": "2025-03-12T21:57:43.462555Z",
     "shell.execute_reply.started": "2025-03-12T21:57:43.462539Z"
    }
   },
   "outputs": [],
   "source": [
    "raise Stop"
   ]
  },
  {
   "cell_type": "markdown",
   "id": "d610974a-6298-4078-83f9-822dd1678330",
   "metadata": {},
   "source": [
    "* Terminal ins Verzeichnis öffnen\n",
    "* `git push origin master`\n",
    "* Personal Access Token verwenden statt Passwort\n",
    "* überprüfen: https://github.com/djekra/bpyth"
   ]
  },
  {
   "cell_type": "markdown",
   "id": "c5eb839e-634b-475f-919b-7dd8bc234658",
   "metadata": {},
   "source": [
    "## Publish on pypi.org"
   ]
  },
  {
   "cell_type": "markdown",
   "id": "aec9a4fc-d8e5-4db5-b5c7-0ecb627cd670",
   "metadata": {},
   "source": [
    "* `python -m twine upload --skip-existing dist/*` \n",
    "* Version überprüfen: https://pypi.org/project/bpyth/"
   ]
  },
  {
   "cell_type": "code",
   "execution_count": null,
   "id": "f83b80b8-60ea-4ad6-bfdb-00a2f52a4740",
   "metadata": {
    "execution": {
     "iopub.status.busy": "2025-03-12T21:57:43.464101Z",
     "iopub.status.idle": "2025-03-12T21:57:43.464486Z",
     "shell.execute_reply": "2025-03-12T21:57:43.464345Z",
     "shell.execute_reply.started": "2025-03-12T21:57:43.464330Z"
    }
   },
   "outputs": [],
   "source": [
    "# Nicht nötig\n",
    "# Publish on test.pypi.org\n",
    "# python -m twine upload --repository testpypi --skip-existing dist/* "
   ]
  },
  {
   "cell_type": "markdown",
   "id": "16c9f64f-40af-41ac-90db-f802bb8f73c1",
   "metadata": {},
   "source": [
    "## Test from PyPi"
   ]
  },
  {
   "cell_type": "code",
   "execution_count": null,
   "id": "3af8896f-3f40-4d28-a365-fc4c0cb4228f",
   "metadata": {
    "execution": {
     "iopub.status.busy": "2025-03-12T21:57:43.465572Z",
     "iopub.status.idle": "2025-03-12T21:57:43.466043Z",
     "shell.execute_reply": "2025-03-12T21:57:43.465791Z",
     "shell.execute_reply.started": "2025-03-12T21:57:43.465773Z"
    }
   },
   "outputs": [],
   "source": [
    "# uninstall\n",
    "!pip uninstall -y bpyth"
   ]
  },
  {
   "cell_type": "code",
   "execution_count": null,
   "id": "8ea8f83c-6970-424a-993d-f8e378e5faa9",
   "metadata": {
    "execution": {
     "iopub.status.busy": "2025-03-12T21:57:43.467662Z",
     "iopub.status.idle": "2025-03-12T21:57:43.467965Z",
     "shell.execute_reply": "2025-03-12T21:57:43.467838Z",
     "shell.execute_reply.started": "2025-03-12T21:57:43.467825Z"
    }
   },
   "outputs": [],
   "source": [
    "!pip install bpyth --no-cache-dir "
   ]
  },
  {
   "cell_type": "code",
   "execution_count": null,
   "id": "5655c1d6-916d-4f5a-90aa-1877b6a5317b",
   "metadata": {
    "execution": {
     "iopub.status.busy": "2025-03-12T21:57:43.468666Z",
     "iopub.status.idle": "2025-03-12T21:57:43.469182Z",
     "shell.execute_reply": "2025-03-12T21:57:43.468828Z",
     "shell.execute_reply.started": "2025-03-12T21:57:43.468815Z"
    }
   },
   "outputs": [],
   "source": [
    "# test import\n",
    "import bpyth as bpy"
   ]
  },
  {
   "cell_type": "code",
   "execution_count": null,
   "id": "b1a1633d-62ad-4088-8b90-6447cc84daf6",
   "metadata": {
    "execution": {
     "iopub.status.busy": "2025-03-12T21:57:43.470079Z",
     "iopub.status.idle": "2025-03-12T21:57:43.470360Z",
     "shell.execute_reply": "2025-03-12T21:57:43.470241Z",
     "shell.execute_reply.started": "2025-03-12T21:57:43.470227Z"
    }
   },
   "outputs": [],
   "source": [
    "# test script\n",
    "!bpyth"
   ]
  },
  {
   "cell_type": "code",
   "execution_count": null,
   "id": "d734da84-24da-4fa9-8a12-139486f7bf76",
   "metadata": {
    "execution": {
     "iopub.status.busy": "2025-03-12T21:57:43.470925Z",
     "iopub.status.idle": "2025-03-12T21:57:43.471208Z",
     "shell.execute_reply": "2025-03-12T21:57:43.471088Z",
     "shell.execute_reply.started": "2025-03-12T21:57:43.471076Z"
    },
    "tags": []
   },
   "outputs": [],
   "source": [
    "# show version\n",
    "from importlib.metadata import version  \n",
    "version('bpyth')  "
   ]
  }
 ],
 "metadata": {
  "kernelspec": {
   "display_name": "Python 3 (ipykernel)",
   "language": "python",
   "name": "python3"
  },
  "language_info": {
   "codemirror_mode": {
    "name": "ipython",
    "version": 3
   },
   "file_extension": ".py",
   "mimetype": "text/x-python",
   "name": "python",
   "nbconvert_exporter": "python",
   "pygments_lexer": "ipython3",
   "version": "3.12.9"
  }
 },
 "nbformat": 4,
 "nbformat_minor": 5
}
