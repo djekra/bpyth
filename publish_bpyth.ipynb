{
 "cells": [
  {
   "cell_type": "markdown",
   "id": "3fd10409-2f5f-4628-8768-3a7e489d33b4",
   "metadata": {},
   "source": [
    "## Create README"
   ]
  },
  {
   "cell_type": "code",
   "execution_count": 13,
   "id": "14ea296b-20d0-4bfe-ada6-64aca05ca146",
   "metadata": {},
   "outputs": [
    {
     "name": "stderr",
     "output_type": "stream",
     "text": [
      "[NbConvertApp] Converting notebook README.ipynb to markdown\n",
      "[NbConvertApp] Writing 1260 bytes to README.md\n"
     ]
    }
   ],
   "source": [
    "!jupyter nbconvert --ClearMetadataPreprocessor.enabled=True --ClearOutput.enabled=True --to markdown README.ipynb"
   ]
  },
  {
   "cell_type": "markdown",
   "id": "a4547f78-251b-45b5-a478-27dc691d193b",
   "metadata": {},
   "source": [
    "## Local install"
   ]
  },
  {
   "cell_type": "code",
   "execution_count": 2,
   "id": "30be06b0-90b1-41b1-a63d-9cec8e4a05ab",
   "metadata": {},
   "outputs": [
    {
     "name": "stderr",
     "output_type": "stream",
     "text": [
      "Der Befehl \"printf\" ist entweder falsch geschrieben oder\n",
      "konnte nicht gefunden werden.\n"
     ]
    }
   ],
   "source": [
    "# uninstall\n",
    "!printf 'y\\n' | pip uninstall bpyth"
   ]
  },
  {
   "cell_type": "code",
   "execution_count": 3,
   "id": "f345ee0f-748f-40be-8578-8ad4ac4d9fe3",
   "metadata": {},
   "outputs": [
    {
     "name": "stdout",
     "output_type": "stream",
     "text": [
      "Obtaining file:///D:/Dropbox/31_Projekte/01_Python/git/bpyth\n",
      "  Installing build dependencies: started\n",
      "  Installing build dependencies: finished with status 'done'\n",
      "  Checking if build backend supports build_editable: started\n",
      "  Checking if build backend supports build_editable: finished with status 'done'\n",
      "  Getting requirements to build editable: started\n",
      "  Getting requirements to build editable: finished with status 'done'\n",
      "  Preparing editable metadata (pyproject.toml): started\n",
      "  Preparing editable metadata (pyproject.toml): finished with status 'done'\n",
      "Building wheels for collected packages: bpyth\n",
      "  Building editable for bpyth (pyproject.toml): started\n",
      "  Building editable for bpyth (pyproject.toml): finished with status 'done'\n",
      "  Created wheel for bpyth: filename=bpyth-0.0.12-0.editable-py3-none-any.whl size=2495 sha256=a9dde558790b7cc11571051a5c017bbf479533de763aa81702e25e9260d44ae7\n",
      "  Stored in directory: C:\\Users\\arthu\\AppData\\Local\\Temp\\pip-ephem-wheel-cache-y2vn6dj5\\wheels\\fe\\a9\\f3\\fdc58d2a0dd34986fe20ea28ebf4d4e4cb7f0d15e81bd55fbf\n",
      "Successfully built bpyth\n",
      "Installing collected packages: bpyth\n",
      "  Attempting uninstall: bpyth\n",
      "    Found existing installation: bpyth 0.0.12\n",
      "    Uninstalling bpyth-0.0.12:\n",
      "      Successfully uninstalled bpyth-0.0.12\n",
      "Successfully installed bpyth-0.0.12\n"
     ]
    }
   ],
   "source": [
    "# install locally\n",
    "!python -m pip install -e ."
   ]
  },
  {
   "cell_type": "code",
   "execution_count": 4,
   "id": "8cec0e88-e3c2-4020-b9c9-176bcd255c46",
   "metadata": {},
   "outputs": [
    {
     "name": "stdout",
     "output_type": "stream",
     "text": [
      "Name: bpyth\n",
      "Version: 0.0.12\n",
      "Summary: Various Python Tools\n",
      "Home-page: \n",
      "Author: \n",
      "Author-email: djekra <hopsalla@gmail.com>\n",
      "License: MIT\n",
      "Location: c:\\users\\arthu\\mambaforge\\envs\\plain_01\\lib\\site-packages\n",
      "Requires: \n",
      "Required-by: blab\n"
     ]
    }
   ],
   "source": [
    "# show\n",
    "!pip show bpyth"
   ]
  },
  {
   "cell_type": "code",
   "execution_count": 5,
   "id": "baf8f2b6-2bb4-4460-b654-f4454bfec48f",
   "metadata": {},
   "outputs": [],
   "source": [
    "# test import\n",
    "import bpyth as bpy"
   ]
  },
  {
   "cell_type": "code",
   "execution_count": 6,
   "id": "43f0bbdd-2df6-4534-a86e-77657d0329da",
   "metadata": {},
   "outputs": [
    {
     "name": "stdout",
     "output_type": "stream",
     "text": [
      "bpyth Hello World\n"
     ]
    }
   ],
   "source": [
    "# test script\n",
    "!bpyth"
   ]
  },
  {
   "cell_type": "markdown",
   "id": "efa2c656-785f-45b7-a3b5-a9ae251bce06",
   "metadata": {},
   "source": [
    "## build"
   ]
  },
  {
   "cell_type": "code",
   "execution_count": 7,
   "id": "f20cbd4d-b38b-4bc9-a750-b14851fb174b",
   "metadata": {},
   "outputs": [],
   "source": [
    "!pip install -q build"
   ]
  },
  {
   "cell_type": "code",
   "execution_count": 8,
   "id": "c745f5da-d6e4-408a-aa73-1166ccc6fd5b",
   "metadata": {},
   "outputs": [
    {
     "name": "stdout",
     "output_type": "stream",
     "text": [
      "^C\n"
     ]
    }
   ],
   "source": [
    "!python -m build"
   ]
  },
  {
   "cell_type": "markdown",
   "id": "e6b13397-01f2-4ffb-9668-dc9a58196db9",
   "metadata": {},
   "source": [
    "## Publish on github"
   ]
  },
  {
   "cell_type": "code",
   "execution_count": 9,
   "id": "d444d5d8-ddb6-451e-9300-fa6424dde8f0",
   "metadata": {},
   "outputs": [
    {
     "name": "stderr",
     "output_type": "stream",
     "text": [
      "Der Befehl \"git\" ist entweder falsch geschrieben oder\n",
      "konnte nicht gefunden werden.\n"
     ]
    }
   ],
   "source": [
    "!git status"
   ]
  },
  {
   "cell_type": "code",
   "execution_count": 10,
   "id": "a9a7e740-2661-43c1-9743-bef78afaba54",
   "metadata": {},
   "outputs": [
    {
     "name": "stderr",
     "output_type": "stream",
     "text": [
      "Der Befehl \"git\" ist entweder falsch geschrieben oder\n",
      "konnte nicht gefunden werden.\n"
     ]
    }
   ],
   "source": [
    "!git add --all"
   ]
  },
  {
   "cell_type": "code",
   "execution_count": 11,
   "id": "f5ed7e73-e40b-4de9-858d-54a1530018cb",
   "metadata": {},
   "outputs": [
    {
     "name": "stderr",
     "output_type": "stream",
     "text": [
      "Der Befehl \"git\" ist entweder falsch geschrieben oder\n",
      "konnte nicht gefunden werden.\n"
     ]
    }
   ],
   "source": [
    "!git commit -m \"2\""
   ]
  },
  {
   "cell_type": "code",
   "execution_count": 12,
   "id": "fc1bb674-46b3-4d13-98aa-d24f62df0bf7",
   "metadata": {},
   "outputs": [
    {
     "ename": "NameError",
     "evalue": "name 'Stop' is not defined",
     "output_type": "error",
     "traceback": [
      "\u001b[1;31m---------------------------------------------------------------------------\u001b[0m",
      "\u001b[1;31mNameError\u001b[0m                                 Traceback (most recent call last)",
      "Cell \u001b[1;32mIn [12], line 1\u001b[0m\n\u001b[1;32m----> 1\u001b[0m \u001b[38;5;28;01mraise\u001b[39;00m \u001b[43mStop\u001b[49m\n",
      "\u001b[1;31mNameError\u001b[0m: name 'Stop' is not defined"
     ]
    }
   ],
   "source": [
    "raise Stop"
   ]
  },
  {
   "cell_type": "code",
   "execution_count": null,
   "id": "9d44e586-3194-4030-bf4b-d84e6868e09e",
   "metadata": {},
   "outputs": [],
   "source": [
    "#!git push origin master"
   ]
  },
  {
   "cell_type": "markdown",
   "id": "e2a85c3a-499b-4601-9224-d15393a95c0a",
   "metadata": {},
   "source": [
    "https://github.com/djekra/bpyth"
   ]
  },
  {
   "cell_type": "markdown",
   "id": "ebfa6700-36d7-41a9-a138-d1a4d4ed1549",
   "metadata": {},
   "source": [
    "## Publish on pypi.org"
   ]
  },
  {
   "cell_type": "code",
   "execution_count": null,
   "id": "53726bc4-f1eb-45a3-add1-a00628d7b96d",
   "metadata": {},
   "outputs": [],
   "source": [
    "# Publish on test.pypi.org\n",
    "#python -m twine upload --repository testpypi --skip-existing dist/* "
   ]
  },
  {
   "cell_type": "code",
   "execution_count": null,
   "id": "728f5d18-ec4e-4392-8f97-cedaad41e431",
   "metadata": {},
   "outputs": [],
   "source": [
    "# Publish on pypi.org\n",
    "#python -m twine upload dist/* "
   ]
  },
  {
   "cell_type": "markdown",
   "id": "272ecb73-e6e3-4ee5-afdf-1ae39431c188",
   "metadata": {},
   "source": [
    "https://pypi.org/project/bpyth/"
   ]
  },
  {
   "cell_type": "markdown",
   "id": "16c9f64f-40af-41ac-90db-f802bb8f73c1",
   "metadata": {},
   "source": [
    "## Test from PyPi"
   ]
  },
  {
   "cell_type": "code",
   "execution_count": null,
   "id": "3af8896f-3f40-4d28-a365-fc4c0cb4228f",
   "metadata": {},
   "outputs": [],
   "source": [
    "# uninstall\n",
    "!printf 'y\\n' | pip uninstall bpyth"
   ]
  },
  {
   "cell_type": "code",
   "execution_count": null,
   "id": "8ea8f83c-6970-424a-993d-f8e378e5faa9",
   "metadata": {},
   "outputs": [],
   "source": [
    "!pip install bpyth --no-cache-dir "
   ]
  },
  {
   "cell_type": "code",
   "execution_count": null,
   "id": "5655c1d6-916d-4f5a-90aa-1877b6a5317b",
   "metadata": {},
   "outputs": [],
   "source": [
    "# test import\n",
    "import bpyth as bpy"
   ]
  },
  {
   "cell_type": "code",
   "execution_count": null,
   "id": "b1a1633d-62ad-4088-8b90-6447cc84daf6",
   "metadata": {},
   "outputs": [],
   "source": [
    "# test script\n",
    "!bpyth"
   ]
  },
  {
   "cell_type": "code",
   "execution_count": null,
   "id": "d734da84-24da-4fa9-8a12-139486f7bf76",
   "metadata": {},
   "outputs": [
    {
     "name": "stdout",
     "output_type": "stream",
     "text": [
      "* Creating venv isolated environment...\n",
      "* Installing packages in isolated environment... (setuptools>=61.0.0, wheel)\n",
      "* Getting dependencies for sdist...\n",
      "running egg_info\n",
      "writing src\\bpyth.egg-info\\PKG-INFO\n",
      "writing dependency_links to src\\bpyth.egg-info\\dependency_links.txt\n",
      "writing entry points to src\\bpyth.egg-info\\entry_points.txt\n",
      "writing top-level names to src\\bpyth.egg-info\\top_level.txt\n",
      "reading manifest file 'src\\bpyth.egg-info\\SOURCES.txt'\n",
      "adding license file 'LICENSE'\n",
      "writing manifest file 'src\\bpyth.egg-info\\SOURCES.txt'\n",
      "* Building sdist...\n",
      "running sdist\n",
      "running egg_info\n",
      "writing src\\bpyth.egg-info\\PKG-INFO\n",
      "writing dependency_links to src\\bpyth.egg-info\\dependency_links.txt\n",
      "writing entry points to src\\bpyth.egg-info\\entry_points.txt\n",
      "writing top-level names to src\\bpyth.egg-info\\top_level.txt\n",
      "reading manifest file 'src\\bpyth.egg-info\\SOURCES.txt'\n",
      "adding license file 'LICENSE'\n",
      "writing manifest file 'src\\bpyth.egg-info\\SOURCES.txt'\n",
      "running check\n",
      "creating bpyth-0.0.12\n",
      "creating bpyth-0.0.12\\src\n",
      "creating bpyth-0.0.12\\src\\bpyth\n",
      "creating bpyth-0.0.12\\src\\bpyth.egg-info\n",
      "copying files to bpyth-0.0.12...\n",
      "copying LICENSE -> bpyth-0.0.12\n",
      "copying README.md -> bpyth-0.0.12\n",
      "copying pyproject.toml -> bpyth-0.0.12\n",
      "copying src\\bpyth\\__init__.py -> bpyth-0.0.12\\src\\bpyth\n",
      "copying src\\bpyth\\__main__.py -> bpyth-0.0.12\\src\\bpyth\n",
      "copying src\\bpyth\\bpyth_files.py -> bpyth-0.0.12\\src\\bpyth\n",
      "copying src\\bpyth\\bpyth_human.py -> bpyth-0.0.12\\src\\bpyth\n",
      "copying src\\bpyth\\bpyth_iterable.py -> bpyth-0.0.12\\src\\bpyth\n",
      "copying src\\bpyth\\bpyth_object_analysis.py -> bpyth-0.0.12\\src\\bpyth\n",
      "copying src\\bpyth\\bpyth_string.py -> bpyth-0.0.12\\src\\bpyth\n",
      "copying src\\bpyth\\bpyth_tools.py -> bpyth-0.0.12\\src\\bpyth\n",
      "copying src\\bpyth.egg-info\\PKG-INFO -> bpyth-0.0.12\\src\\bpyth.egg-info\n",
      "copying src\\bpyth.egg-info\\SOURCES.txt -> bpyth-0.0.12\\src\\bpyth.egg-info\n",
      "copying src\\bpyth.egg-info\\dependency_links.txt -> bpyth-0.0.12\\src\\bpyth.egg-info\n",
      "copying src\\bpyth.egg-info\\entry_points.txt -> bpyth-0.0.12\\src\\bpyth.egg-info\n",
      "copying src\\bpyth.egg-info\\top_level.txt -> bpyth-0.0.12\\src\\bpyth.egg-info\n",
      "Writing bpyth-0.0.12\\setup.cfg\n",
      "Creating tar archive\n",
      "removing 'bpyth-0.0.12' (and everything under it)\n",
      "* Building wheel from sdist\n",
      "* Creating venv isolated environment...\n",
      "* Installing packages in isolated environment... (setuptools>=61.0.0, wheel)\n",
      "* Getting dependencies for wheel...\n",
      "running egg_info\n",
      "writing src\\bpyth.egg-info\\PKG-INFO\n",
      "writing dependency_links to src\\bpyth.egg-info\\dependency_links.txt\n",
      "writing entry points to src\\bpyth.egg-info\\entry_points.txt\n",
      "writing top-level names to src\\bpyth.egg-info\\top_level.txt\n",
      "reading manifest file 'src\\bpyth.egg-info\\SOURCES.txt'\n",
      "adding license file 'LICENSE'\n",
      "writing manifest file 'src\\bpyth.egg-info\\SOURCES.txt'\n",
      "* Installing packages in isolated environment... (wheel)\n",
      "* Building wheel...\n",
      "running bdist_wheel\n",
      "running build\n",
      "running build_py\n",
      "creating build\n",
      "creating build\\lib\n",
      "creating build\\lib\\bpyth\n",
      "copying src\\bpyth\\bpyth_files.py -> build\\lib\\bpyth\n",
      "copying src\\bpyth\\bpyth_human.py -> build\\lib\\bpyth\n",
      "copying src\\bpyth\\bpyth_iterable.py -> build\\lib\\bpyth\n",
      "copying src\\bpyth\\bpyth_object_analysis.py -> build\\lib\\bpyth\n",
      "copying src\\bpyth\\bpyth_string.py -> build\\lib\\bpyth\n",
      "copying src\\bpyth\\bpyth_tools.py -> build\\lib\\bpyth\n",
      "copying src\\bpyth\\__init__.py -> build\\lib\\bpyth\n",
      "copying src\\bpyth\\__main__.py -> build\\lib\\bpyth\n",
      "running egg_info\n",
      "writing src\\bpyth.egg-info\\PKG-INFO\n",
      "writing dependency_links to src\\bpyth.egg-info\\dependency_links.txt\n",
      "writing entry points to src\\bpyth.egg-info\\entry_points.txt\n",
      "writing top-level names to src\\bpyth.egg-info\\top_level.txt\n",
      "reading manifest file 'src\\bpyth.egg-info\\SOURCES.txt'\n",
      "adding license file 'LICENSE'\n",
      "writing manifest file 'src\\bpyth.egg-info\\SOURCES.txt'\n",
      "installing to build\\bdist.win-amd64\\wheel\n",
      "running install\n",
      "running install_lib\n",
      "creating build\\bdist.win-amd64\n",
      "creating build\\bdist.win-amd64\\wheel\n",
      "creating build\\bdist.win-amd64\\wheel\\bpyth\n",
      "copying build\\lib\\bpyth\\bpyth_files.py -> build\\bdist.win-amd64\\wheel\\.\\bpyth\n",
      "copying build\\lib\\bpyth\\bpyth_human.py -> build\\bdist.win-amd64\\wheel\\.\\bpyth\n",
      "copying build\\lib\\bpyth\\bpyth_iterable.py -> build\\bdist.win-amd64\\wheel\\.\\bpyth\n",
      "copying build\\lib\\bpyth\\bpyth_object_analysis.py -> build\\bdist.win-amd64\\wheel\\.\\bpyth\n",
      "copying build\\lib\\bpyth\\bpyth_string.py -> build\\bdist.win-amd64\\wheel\\.\\bpyth\n",
      "copying build\\lib\\bpyth\\bpyth_tools.py -> build\\bdist.win-amd64\\wheel\\.\\bpyth\n",
      "copying build\\lib\\bpyth\\__init__.py -> build\\bdist.win-amd64\\wheel\\.\\bpyth\n",
      "copying build\\lib\\bpyth\\__main__.py -> build\\bdist.win-amd64\\wheel\\.\\bpyth\n",
      "running install_egg_info\n",
      "Copying src\\bpyth.egg-info to build\\bdist.win-amd64\\wheel\\.\\bpyth-0.0.12-py3.9.egg-info\n",
      "running install_scripts\n",
      "adding license file \"LICENSE\" (matched pattern \"LICEN[CS]E*\")\n",
      "creating build\\bdist.win-amd64\\wheel\\bpyth-0.0.12.dist-info\\WHEEL\n",
      "creating 'D:\\Dropbox\\31_Projekte\\01_Python\\git\\bpyth\\dist\\tmpi6ow5_tl\\bpyth-0.0.12-py3-none-any.whl' and adding 'build\\bdist.win-amd64\\wheel' to it\n",
      "adding 'bpyth/__init__.py'\n",
      "adding 'bpyth/__main__.py'\n",
      "adding 'bpyth/bpyth_files.py'\n",
      "adding 'bpyth/bpyth_human.py'\n",
      "adding 'bpyth/bpyth_iterable.py'\n",
      "adding 'bpyth/bpyth_object_analysis.py'\n",
      "adding 'bpyth/bpyth_string.py'\n",
      "adding 'bpyth/bpyth_tools.py'\n",
      "adding 'bpyth-0.0.12.dist-info/LICENSE'\n",
      "adding 'bpyth-0.0.12.dist-info/METADATA'\n",
      "adding 'bpyth-0.0.12.dist-info/WHEEL'\n",
      "adding 'bpyth-0.0.12.dist-info/entry_points.txt'\n",
      "adding 'bpyth-0.0.12.dist-info/top_level.txt'\n",
      "adding 'bpyth-0.0.12.dist-info/RECORD'\n",
      "removing build\\bdist.win-amd64\\wheel\n",
      "Successfully built bpyth-0.0.12.tar.gz and bpyth-0.0.12-py3-none-any.whl\n"
     ]
    },
    {
     "name": "stderr",
     "output_type": "stream",
     "text": [
      "C:\\Users\\arthu\\AppData\\Local\\Temp\\build-env-famvrgcw\\lib\\site-packages\\setuptools\\config\\pyprojecttoml.py:108: _BetaConfiguration: Support for `[tool.setuptools]` in `pyproject.toml` is still *beta*.\n",
      "  warnings.warn(msg, _BetaConfiguration)\n",
      "C:\\Users\\arthu\\AppData\\Local\\Temp\\build-env-famvrgcw\\lib\\site-packages\\setuptools\\config\\pyprojecttoml.py:108: _BetaConfiguration: Support for `[tool.setuptools]` in `pyproject.toml` is still *beta*.\n",
      "  warnings.warn(msg, _BetaConfiguration)\n",
      "error removing bpyth-0.0.12: [WinError 32] Der Prozess kann nicht auf die Datei zugreifen, da sie von einem anderen Prozess verwendet wird: 'bpyth-0.0.12\\\\src'\n",
      "error removing bpyth-0.0.12: [WinError 145] Das Verzeichnis ist nicht leer: 'bpyth-0.0.12'\n",
      "C:\\Users\\arthu\\AppData\\Local\\Temp\\build-env-xhqdt7g3\\lib\\site-packages\\setuptools\\config\\pyprojecttoml.py:108: _BetaConfiguration: Support for `[tool.setuptools]` in `pyproject.toml` is still *beta*.\n",
      "  warnings.warn(msg, _BetaConfiguration)\n",
      "C:\\Users\\arthu\\AppData\\Local\\Temp\\build-env-xhqdt7g3\\lib\\site-packages\\setuptools\\config\\pyprojecttoml.py:108: _BetaConfiguration: Support for `[tool.setuptools]` in `pyproject.toml` is still *beta*.\n",
      "  warnings.warn(msg, _BetaConfiguration)\n"
     ]
    }
   ],
   "source": [
    "# show version\n",
    "from importlib.metadata import version  \n",
    "version('bpyth')  "
   ]
  }
 ],
 "metadata": {
  "kernelspec": {
   "display_name": "Python 3 (ipykernel)",
   "language": "python",
   "name": "python3"
  },
  "language_info": {
   "codemirror_mode": {
    "name": "ipython",
    "version": 3
   },
   "file_extension": ".py",
   "mimetype": "text/x-python",
   "name": "python",
   "nbconvert_exporter": "python",
   "pygments_lexer": "ipython3",
   "version": "3.9.13"
  }
 },
 "nbformat": 4,
 "nbformat_minor": 5
}
