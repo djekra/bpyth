{
 "cells": [
  {
   "cell_type": "markdown",
   "id": "3fd10409-2f5f-4628-8768-3a7e489d33b4",
   "metadata": {},
   "source": [
    "## Create README"
   ]
  },
  {
   "cell_type": "code",
   "execution_count": 1,
   "id": "14ea296b-20d0-4bfe-ada6-64aca05ca146",
   "metadata": {},
   "outputs": [
    {
     "name": "stdout",
     "output_type": "stream",
     "text": [
      "[NbConvertApp] Converting notebook README.ipynb to markdown\n",
      "[NbConvertApp] Writing 1734 bytes to README.md\n"
     ]
    }
   ],
   "source": [
    "!jupyter nbconvert --ClearMetadataPreprocessor.enabled=True --ClearOutput.enabled=True --to markdown README.ipynb"
   ]
  },
  {
   "cell_type": "markdown",
   "id": "a4547f78-251b-45b5-a478-27dc691d193b",
   "metadata": {},
   "source": [
    "## Local install"
   ]
  },
  {
   "cell_type": "code",
   "execution_count": 2,
   "id": "30be06b0-90b1-41b1-a63d-9cec8e4a05ab",
   "metadata": {},
   "outputs": [
    {
     "name": "stdout",
     "output_type": "stream",
     "text": [
      "Found existing installation: bpyth 0.1.6\n",
      "Uninstalling bpyth-0.1.6:\n",
      "  Successfully uninstalled bpyth-0.1.6\n"
     ]
    }
   ],
   "source": [
    "# uninstall\n",
    "!pip uninstall -y bpyth"
   ]
  },
  {
   "cell_type": "code",
   "execution_count": 3,
   "id": "f345ee0f-748f-40be-8578-8ad4ac4d9fe3",
   "metadata": {},
   "outputs": [
    {
     "name": "stdout",
     "output_type": "stream",
     "text": [
      "Obtaining file:///home/me/Data_Linux/Dropbox/31_Projekte/01_Python/git/bpyth\n",
      "  Installing build dependencies ... \u001b[?25ldone\n",
      "\u001b[?25h  Checking if build backend supports build_editable ... \u001b[?25ldone\n",
      "\u001b[?25h  Getting requirements to build editable ... \u001b[?25ldone\n",
      "\u001b[?25h  Preparing editable metadata (pyproject.toml) ... \u001b[?25ldone\n",
      "\u001b[?25hBuilding wheels for collected packages: bpyth\n",
      "  Building editable for bpyth (pyproject.toml) ... \u001b[?25ldone\n",
      "\u001b[?25h  Created wheel for bpyth: filename=bpyth-0.1.6-0.editable-py3-none-any.whl size=3195 sha256=a39f408f25dfecd4e1f3aba67e7980d5996f54e04e39f927f00197c154cf593b\n",
      "  Stored in directory: /tmp/pip-ephem-wheel-cache-mrvvau6b/wheels/77/ee/cd/dc94ca38e5518f97319713d537ca156c5dd866c2b8fda682a2\n",
      "Successfully built bpyth\n",
      "Installing collected packages: bpyth\n",
      "Successfully installed bpyth-0.1.6\n"
     ]
    }
   ],
   "source": [
    "# install locally\n",
    "!python -m pip install -e ."
   ]
  },
  {
   "cell_type": "code",
   "execution_count": 4,
   "id": "8cec0e88-e3c2-4020-b9c9-176bcd255c46",
   "metadata": {},
   "outputs": [
    {
     "name": "stdout",
     "output_type": "stream",
     "text": [
      "Name: bpyth\n",
      "Version: 0.1.6\n",
      "Summary: Various Python Tools\n",
      "Home-page: \n",
      "Author: \n",
      "Author-email: djekra <hopsalla@gmail.com>\n",
      "License: MIT\n",
      "Location: /home/me/mambaforge/envs/python_06/lib/python3.9/site-packages\n",
      "Requires: \n",
      "Required-by: blab, pandasklar\n"
     ]
    }
   ],
   "source": [
    "# show\n",
    "!pip show bpyth"
   ]
  },
  {
   "cell_type": "code",
   "execution_count": 5,
   "id": "baf8f2b6-2bb4-4460-b654-f4454bfec48f",
   "metadata": {},
   "outputs": [],
   "source": [
    "# test import\n",
    "# Wenn dies failed: Restart Kernel and Run all Cells\n",
    "import bpyth as bpy"
   ]
  },
  {
   "cell_type": "code",
   "execution_count": 6,
   "id": "43f0bbdd-2df6-4534-a86e-77657d0329da",
   "metadata": {},
   "outputs": [
    {
     "name": "stdout",
     "output_type": "stream",
     "text": [
      "bpyth Hello World\n"
     ]
    }
   ],
   "source": [
    "# test script\n",
    "!bpyth"
   ]
  },
  {
   "cell_type": "code",
   "execution_count": 7,
   "id": "368b880d-213c-4683-b7ac-22b4105e57ff",
   "metadata": {},
   "outputs": [
    {
     "name": "stdout",
     "output_type": "stream",
     "text": [
      "blab init\n",
      "environment['dropbox_path'] = /home/me/Data_Linux/Dropbox\n",
      "environment['lib_path']     = /home/me/Data_Linux/Dropbox/31_Projekte/01_Python/libs\n",
      "Start Time: 00:11:19\n"
     ]
    },
    {
     "data": {
      "text/html": [
       "<img src onerror=\"var cell = this.closest('.jp-CodeCell');var editor = cell.querySelector('.jp-Editor');editor.style.background='Beige';this.parentNode.removeChild(this)\">"
      ],
      "text/plain": [
       "<IPython.core.display.HTML object>"
      ]
     },
     "metadata": {},
     "output_type": "display_data"
    },
    {
     "name": "stdout",
     "output_type": "stream",
     "text": [
      "time: 489 ms\n"
     ]
    }
   ],
   "source": [
    "# blab init\n",
    "try:\n",
    "    import blab\n",
    "    startup_notebook = blab.blab_startup()\n",
    "    %run $startup_notebook\n",
    "except:\n",
    "    pass"
   ]
  },
  {
   "cell_type": "code",
   "execution_count": 8,
   "id": "d0c4ca23-ef67-439e-b389-eef9814f9e9b",
   "metadata": {},
   "outputs": [
    {
     "name": "stdout",
     "output_type": "stream",
     "text": [
      "Stop Time:  00:11:19\n",
      "Elapsed:    0 secs\n"
     ]
    },
    {
     "data": {
      "text/html": [
       "<img src onerror=\"var cell = this.closest('.jp-CodeCell');var editor = cell.querySelector('.jp-Editor');editor.style.background='DarkGray';this.parentNode.removeChild(this)\">"
      ],
      "text/plain": [
       "<IPython.core.display.HTML object>"
      ]
     },
     "metadata": {},
     "output_type": "display_data"
    },
    {
     "name": "stdout",
     "output_type": "stream",
     "text": [
      "time: 14.7 ms\n"
     ]
    }
   ],
   "source": [
    "raise Stop"
   ]
  },
  {
   "cell_type": "markdown",
   "id": "efa2c656-785f-45b7-a3b5-a9ae251bce06",
   "metadata": {},
   "source": [
    "## build"
   ]
  },
  {
   "cell_type": "code",
   "execution_count": null,
   "id": "f20cbd4d-b38b-4bc9-a750-b14851fb174b",
   "metadata": {},
   "outputs": [],
   "source": [
    "!pip install -q build"
   ]
  },
  {
   "cell_type": "code",
   "execution_count": null,
   "id": "c745f5da-d6e4-408a-aa73-1166ccc6fd5b",
   "metadata": {},
   "outputs": [],
   "source": [
    "!python -m build"
   ]
  },
  {
   "cell_type": "markdown",
   "id": "e6b13397-01f2-4ffb-9668-dc9a58196db9",
   "metadata": {},
   "source": [
    "## Publish on github"
   ]
  },
  {
   "cell_type": "code",
   "execution_count": null,
   "id": "d444d5d8-ddb6-451e-9300-fa6424dde8f0",
   "metadata": {},
   "outputs": [],
   "source": [
    "!git status"
   ]
  },
  {
   "cell_type": "code",
   "execution_count": null,
   "id": "a9a7e740-2661-43c1-9743-bef78afaba54",
   "metadata": {},
   "outputs": [],
   "source": [
    "!git add --all"
   ]
  },
  {
   "cell_type": "code",
   "execution_count": null,
   "id": "fbfaaaaa-f75a-459d-b2f3-3a8d337ee310",
   "metadata": {},
   "outputs": [],
   "source": [
    "# Commit message eintragen und run\n",
    "!git commit -m \"ֹ\""
   ]
  },
  {
   "cell_type": "code",
   "execution_count": null,
   "id": "fc1bb674-46b3-4d13-98aa-d24f62df0bf7",
   "metadata": {},
   "outputs": [],
   "source": [
    "raise Stop"
   ]
  },
  {
   "cell_type": "markdown",
   "id": "d610974a-6298-4078-83f9-822dd1678330",
   "metadata": {},
   "source": [
    "* Terminal ins Verzeichnis öffnen\n",
    "* `git push origin master`\n",
    "* Personal Access Token verwenden statt Passwort\n",
    "* überprüfen: https://github.com/djekra/bpyth"
   ]
  },
  {
   "cell_type": "markdown",
   "id": "c5eb839e-634b-475f-919b-7dd8bc234658",
   "metadata": {},
   "source": [
    "## Publish on pypi.org"
   ]
  },
  {
   "cell_type": "markdown",
   "id": "aec9a4fc-d8e5-4db5-b5c7-0ecb627cd670",
   "metadata": {},
   "source": [
    "* `python -m twine upload --skip-existing dist/*` \n",
    "* Version überprüfen: https://pypi.org/project/bpyth/"
   ]
  },
  {
   "cell_type": "code",
   "execution_count": null,
   "id": "f83b80b8-60ea-4ad6-bfdb-00a2f52a4740",
   "metadata": {},
   "outputs": [],
   "source": [
    "# Nicht nötig\n",
    "# Publish on test.pypi.org\n",
    "# python -m twine upload --repository testpypi --skip-existing dist/* "
   ]
  },
  {
   "cell_type": "markdown",
   "id": "16c9f64f-40af-41ac-90db-f802bb8f73c1",
   "metadata": {},
   "source": [
    "## Test from PyPi"
   ]
  },
  {
   "cell_type": "code",
   "execution_count": null,
   "id": "3af8896f-3f40-4d28-a365-fc4c0cb4228f",
   "metadata": {},
   "outputs": [],
   "source": [
    "# uninstall\n",
    "!pip uninstall -y bpyth"
   ]
  },
  {
   "cell_type": "code",
   "execution_count": null,
   "id": "8ea8f83c-6970-424a-993d-f8e378e5faa9",
   "metadata": {},
   "outputs": [],
   "source": [
    "!pip install bpyth --no-cache-dir "
   ]
  },
  {
   "cell_type": "code",
   "execution_count": null,
   "id": "5655c1d6-916d-4f5a-90aa-1877b6a5317b",
   "metadata": {},
   "outputs": [],
   "source": [
    "# test import\n",
    "import bpyth as bpy"
   ]
  },
  {
   "cell_type": "code",
   "execution_count": null,
   "id": "b1a1633d-62ad-4088-8b90-6447cc84daf6",
   "metadata": {},
   "outputs": [],
   "source": [
    "# test script\n",
    "!bpyth"
   ]
  },
  {
   "cell_type": "code",
   "execution_count": null,
   "id": "d734da84-24da-4fa9-8a12-139486f7bf76",
   "metadata": {},
   "outputs": [],
   "source": [
    "# show version\n",
    "from importlib.metadata import version  \n",
    "version('bpyth')  "
   ]
  }
 ],
 "metadata": {
  "kernelspec": {
   "display_name": "Python 3 (ipykernel)",
   "language": "python",
   "name": "python3"
  },
  "language_info": {
   "codemirror_mode": {
    "name": "ipython",
    "version": 3
   },
   "file_extension": ".py",
   "mimetype": "text/x-python",
   "name": "python",
   "nbconvert_exporter": "python",
   "pygments_lexer": "ipython3",
   "version": "3.9.13"
  }
 },
 "nbformat": 4,
 "nbformat_minor": 5
}
