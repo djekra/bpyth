{
 "cells": [
  {
   "cell_type": "markdown",
   "id": "a9d380c0-c993-4059-83b3-115a3bd65203",
   "metadata": {},
   "source": [
    "__[Open and try this file online (Colab)](https://colab.research.google.com/github/djekra/bpyth/blob/master/jupyter/12_Files.ipynb)__"
   ]
  },
  {
   "cell_type": "markdown",
   "id": "ade6e0ce-ab8d-4cd7-8ad6-c9f2f8f80411",
   "metadata": {},
   "source": [
    "# bpyth Files Tools\n",
    "* `path_join`: Robustly joins two path parts with optional existence check\n",
    "* `dump_pickle`: open, dump, close\n",
    "* `load_pickle`: open, load, close\n",
    "* `StreamFiles`: Iterable, returns all filenames of a parent directory\n",
    "* `StreamLines`: Iterable, returns all lines of a text file"
   ]
  },
  {
   "cell_type": "code",
   "execution_count": 15,
   "id": "28383554-ed4c-4a7c-bd1f-adfb4a44db11",
   "metadata": {
    "execution": {
     "iopub.execute_input": "2025-03-20T17:07:35.531896Z",
     "iopub.status.busy": "2025-03-20T17:07:35.531896Z",
     "iopub.status.idle": "2025-03-20T17:07:35.860551Z",
     "shell.execute_reply": "2025-03-20T17:07:35.859721Z",
     "shell.execute_reply.started": "2025-03-20T17:07:35.531896Z"
    }
   },
   "outputs": [
    {
     "name": "stdout",
     "output_type": "stream",
     "text": [
      "blab init\n",
      "environment['in_colab']     = False\n",
      "environment['dropbox_path'] = D:\\Dropbox\n",
      "environment['lib_path']     = D:\\Dropbox\\31_Projekte\\01_Python\\libs\n",
      "Start Time: 18:07:35\n"
     ]
    },
    {
     "data": {
      "text/html": [
       "<img src onerror=\"var cell = this.closest('.jp-CodeCell');var editor = cell.querySelector('.jp-Editor');editor.style.background='Beige';this.parentNode.removeChild(this)\">"
      ],
      "text/plain": [
       "<IPython.core.display.HTML object>"
      ]
     },
     "metadata": {},
     "output_type": "display_data"
    }
   ],
   "source": [
    "# blab init\n",
    "try:\n",
    "    import blab\n",
    "except ImportError as e:\n",
    "    !pip install blab\n",
    "    import blab    \n",
    "startup_notebook = blab.blab_startup()\n",
    "%run $startup_notebook "
   ]
  },
  {
   "cell_type": "code",
   "execution_count": 16,
   "id": "d8655d4e-a5ad-4103-82e5-cc5c1856ad59",
   "metadata": {
    "execution": {
     "iopub.execute_input": "2025-03-20T17:07:35.861561Z",
     "iopub.status.busy": "2025-03-20T17:07:35.861561Z",
     "iopub.status.idle": "2025-03-20T17:07:36.008115Z",
     "shell.execute_reply": "2025-03-20T17:07:36.008115Z",
     "shell.execute_reply.started": "2025-03-20T17:07:35.861561Z"
    }
   },
   "outputs": [],
   "source": [
    "import bpyth as bpy"
   ]
  },
  {
   "cell_type": "code",
   "execution_count": 17,
   "id": "1d92301c-d895-44f6-8a64-7d83d673c916",
   "metadata": {
    "execution": {
     "iopub.execute_input": "2025-03-20T17:07:36.009123Z",
     "iopub.status.busy": "2025-03-20T17:07:36.009123Z",
     "iopub.status.idle": "2025-03-20T17:07:36.156066Z",
     "shell.execute_reply": "2025-03-20T17:07:36.156066Z",
     "shell.execute_reply.started": "2025-03-20T17:07:36.009123Z"
    }
   },
   "outputs": [],
   "source": [
    "# download directory 'data' if neccessary\n",
    "import os\n",
    "if not os.path.exists('data'):\n",
    "   !git clone https://github.com/djekra/bpyth.git\n",
    "   !cp -r bpyth/jupyter/data data\n",
    "   !rm -r bpyth"
   ]
  },
  {
   "cell_type": "markdown",
   "id": "2aa9b415-f8ea-4cee-bc02-883b9fbf8577",
   "metadata": {
    "execution": {
     "iopub.execute_input": "2025-03-12T07:58:00.513889Z",
     "iopub.status.busy": "2025-03-12T07:58:00.513428Z",
     "iopub.status.idle": "2025-03-12T07:58:00.525578Z",
     "shell.execute_reply": "2025-03-12T07:58:00.524965Z",
     "shell.execute_reply.started": "2025-03-12T07:58:00.513863Z"
    }
   },
   "source": [
    "## path_join"
   ]
  },
  {
   "cell_type": "code",
   "execution_count": 18,
   "id": "3d26a403-6c86-4012-be37-945bb46d4473",
   "metadata": {
    "execution": {
     "iopub.execute_input": "2025-03-20T17:07:36.157073Z",
     "iopub.status.busy": "2025-03-20T17:07:36.157073Z",
     "iopub.status.idle": "2025-03-20T17:07:36.306219Z",
     "shell.execute_reply": "2025-03-20T17:07:36.306219Z",
     "shell.execute_reply.started": "2025-03-20T17:07:36.157073Z"
    }
   },
   "outputs": [
    {
     "data": {
      "text/plain": [
       "\u001b[1;31mSignature:\u001b[0m \u001b[0mbpy\u001b[0m\u001b[1;33m.\u001b[0m\u001b[0mpath_join\u001b[0m\u001b[1;33m(\u001b[0m\u001b[0mbasepath\u001b[0m\u001b[1;33m,\u001b[0m \u001b[0msupplement\u001b[0m\u001b[1;33m,\u001b[0m \u001b[0mtest\u001b[0m\u001b[1;33m=\u001b[0m\u001b[1;34m'ignore'\u001b[0m\u001b[1;33m)\u001b[0m\u001b[1;33m\u001b[0m\u001b[1;33m\u001b[0m\u001b[0m\n",
       "\u001b[1;31mDocstring:\u001b[0m\n",
       "Robustly joins two path parts of a path.\n",
       "With optionally test if the directory and/or the path exist.\n",
       "basepath:   a path\n",
       "supplement: path to join.\n",
       "test:       should it be checked if the path or the directory exist? If yes, set it to 'warn' or 'raise'.\n",
       "\u001b[1;31mFile:\u001b[0m      d:\\dropbox\\31_projekte\\01_python\\88_pycharm\\bpyth\\src\\bpyth\\bpyth_files.py\n",
       "\u001b[1;31mType:\u001b[0m      function"
      ]
     },
     "metadata": {},
     "output_type": "display_data"
    }
   ],
   "source": [
    "?bpy.path_join"
   ]
  },
  {
   "cell_type": "code",
   "execution_count": 19,
   "id": "01afe465-15b4-46d0-86ef-1be9a22c5f97",
   "metadata": {
    "execution": {
     "iopub.execute_input": "2025-03-20T17:07:36.308225Z",
     "iopub.status.busy": "2025-03-20T17:07:36.308225Z",
     "iopub.status.idle": "2025-03-20T17:07:36.456450Z",
     "shell.execute_reply": "2025-03-20T17:07:36.456450Z",
     "shell.execute_reply.started": "2025-03-20T17:07:36.308225Z"
    }
   },
   "outputs": [
    {
     "name": "stdout",
     "output_type": "stream",
     "text": [
      "base\\path\\to\\something\n",
      "base/path\\to\\something\n",
      "base/path\\to\\something\n",
      "base/path\\to\\something\n"
     ]
    }
   ],
   "source": [
    "print(bpy.path_join(\"base\", \"path/to/something\"))\n",
    "print(bpy.path_join(\"base/\", \"path/to/something\"))\n",
    "print(bpy.path_join(\"base/\", \"path/to/something/\"))\n",
    "print(bpy.path_join(\"base/\", \"/path/../path//to/something/\"))\n",
    "\n"
   ]
  },
  {
   "cell_type": "code",
   "execution_count": 20,
   "id": "84993d95-576b-430f-b4f8-d0a9714336a6",
   "metadata": {
    "execution": {
     "iopub.execute_input": "2025-03-20T17:07:36.457495Z",
     "iopub.status.busy": "2025-03-20T17:07:36.457495Z",
     "iopub.status.idle": "2025-03-20T17:07:36.604479Z",
     "shell.execute_reply": "2025-03-20T17:07:36.603947Z",
     "shell.execute_reply.started": "2025-03-20T17:07:36.457495Z"
    }
   },
   "outputs": [
    {
     "name": "stdout",
     "output_type": "stream",
     "text": [
      "/base\\path\\to\\something\n",
      "/base/path\\to\\something\n"
     ]
    }
   ],
   "source": [
    "print(bpy.path_join(\"/base\", \"path/to/something\"))\n",
    "print(bpy.path_join(\"/base/\", \"path/to/something\"))"
   ]
  },
  {
   "cell_type": "markdown",
   "id": "0e59c756-8307-430c-8953-280fbb3e111a",
   "metadata": {},
   "source": [
    "## dump_pickle and load_pickle"
   ]
  },
  {
   "cell_type": "code",
   "execution_count": 21,
   "id": "cc7211c8-013c-4b5b-b9c4-b26f8ccc4467",
   "metadata": {
    "execution": {
     "iopub.execute_input": "2025-03-20T17:07:36.605490Z",
     "iopub.status.busy": "2025-03-20T17:07:36.604479Z",
     "iopub.status.idle": "2025-03-20T17:07:36.753491Z",
     "shell.execute_reply": "2025-03-20T17:07:36.753046Z",
     "shell.execute_reply.started": "2025-03-20T17:07:36.605490Z"
    },
    "tags": []
   },
   "outputs": [
    {
     "data": {
      "text/plain": [
       "\u001b[1;31mSignature:\u001b[0m \u001b[0mbpy\u001b[0m\u001b[1;33m.\u001b[0m\u001b[0mdump_pickle\u001b[0m\u001b[1;33m(\u001b[0m\u001b[0manything\u001b[0m\u001b[1;33m,\u001b[0m \u001b[0mfilename\u001b[0m\u001b[1;33m)\u001b[0m\u001b[1;33m\u001b[0m\u001b[1;33m\u001b[0m\u001b[0m\n",
       "\u001b[1;31mDocstring:\u001b[0m open, dump, close\n",
       "\u001b[1;31mFile:\u001b[0m      d:\\dropbox\\31_projekte\\01_python\\88_pycharm\\bpyth\\src\\bpyth\\bpyth_files.py\n",
       "\u001b[1;31mType:\u001b[0m      function"
      ]
     },
     "metadata": {},
     "output_type": "display_data"
    }
   ],
   "source": [
    "?bpy.dump_pickle"
   ]
  },
  {
   "cell_type": "code",
   "execution_count": 22,
   "id": "d802e8cc-9c1b-4173-b116-b8081a8337c4",
   "metadata": {
    "execution": {
     "iopub.execute_input": "2025-03-20T17:07:36.754521Z",
     "iopub.status.busy": "2025-03-20T17:07:36.754521Z",
     "iopub.status.idle": "2025-03-20T17:07:36.904146Z",
     "shell.execute_reply": "2025-03-20T17:07:36.903641Z",
     "shell.execute_reply.started": "2025-03-20T17:07:36.754521Z"
    },
    "tags": []
   },
   "outputs": [
    {
     "data": {
      "text/plain": [
       "\u001b[1;31mSignature:\u001b[0m \u001b[0mbpy\u001b[0m\u001b[1;33m.\u001b[0m\u001b[0mload_pickle\u001b[0m\u001b[1;33m(\u001b[0m\u001b[0mfilename\u001b[0m\u001b[1;33m)\u001b[0m\u001b[1;33m\u001b[0m\u001b[1;33m\u001b[0m\u001b[0m\n",
       "\u001b[1;31mDocstring:\u001b[0m\n",
       "open, load, close\n",
       "Handles FileNotFoundError and pickle.UnpicklingError.\n",
       "\u001b[1;31mFile:\u001b[0m      d:\\dropbox\\31_projekte\\01_python\\88_pycharm\\bpyth\\src\\bpyth\\bpyth_files.py\n",
       "\u001b[1;31mType:\u001b[0m      function"
      ]
     },
     "metadata": {},
     "output_type": "display_data"
    }
   ],
   "source": [
    "?bpy.load_pickle"
   ]
  },
  {
   "cell_type": "code",
   "execution_count": 23,
   "id": "2714d195-83d4-4060-8507-07a2988e014e",
   "metadata": {
    "execution": {
     "iopub.execute_input": "2025-03-20T17:07:36.905157Z",
     "iopub.status.busy": "2025-03-20T17:07:36.904146Z",
     "iopub.status.idle": "2025-03-20T17:07:37.053179Z",
     "shell.execute_reply": "2025-03-20T17:07:37.052528Z",
     "shell.execute_reply.started": "2025-03-20T17:07:36.904146Z"
    }
   },
   "outputs": [
    {
     "data": {
      "text/plain": [
       "[[1, 2, 'a'], [4, 5, 6], [7, (8, 9)], None]"
      ]
     },
     "execution_count": 23,
     "metadata": {},
     "output_type": "execute_result"
    }
   ],
   "source": [
    "o = [[1,2,'a'],[4,5,6], [7,(8,9,)], None ]\n",
    "o"
   ]
  },
  {
   "cell_type": "code",
   "execution_count": 24,
   "id": "992a287a-a057-461a-bfec-3e6f11d627e8",
   "metadata": {
    "execution": {
     "iopub.execute_input": "2025-03-20T17:07:37.053381Z",
     "iopub.status.busy": "2025-03-20T17:07:37.053381Z",
     "iopub.status.idle": "2025-03-20T17:07:37.201690Z",
     "shell.execute_reply": "2025-03-20T17:07:37.201690Z",
     "shell.execute_reply.started": "2025-03-20T17:07:37.053381Z"
    }
   },
   "outputs": [],
   "source": [
    "bpy.dump_pickle(o,'data/test_o.pickle')"
   ]
  },
  {
   "cell_type": "code",
   "execution_count": 25,
   "id": "ade519b7-680e-49e8-93b2-f81322d03da6",
   "metadata": {
    "execution": {
     "iopub.execute_input": "2025-03-20T17:07:37.203403Z",
     "iopub.status.busy": "2025-03-20T17:07:37.203343Z",
     "iopub.status.idle": "2025-03-20T17:07:37.352078Z",
     "shell.execute_reply": "2025-03-20T17:07:37.352078Z",
     "shell.execute_reply.started": "2025-03-20T17:07:37.203403Z"
    }
   },
   "outputs": [],
   "source": [
    "o2 = bpy.load_pickle('data/test_o.pickle')"
   ]
  },
  {
   "cell_type": "code",
   "execution_count": 26,
   "id": "b7a27684-04b1-4731-b444-d5be8478f87a",
   "metadata": {
    "execution": {
     "iopub.execute_input": "2025-03-20T17:07:37.353313Z",
     "iopub.status.busy": "2025-03-20T17:07:37.353313Z",
     "iopub.status.idle": "2025-03-20T17:07:37.501575Z",
     "shell.execute_reply": "2025-03-20T17:07:37.501575Z",
     "shell.execute_reply.started": "2025-03-20T17:07:37.353313Z"
    }
   },
   "outputs": [],
   "source": [
    "assert o == o2"
   ]
  },
  {
   "cell_type": "markdown",
   "id": "748f4876-1dc8-4141-81c1-4d2fc1297c9e",
   "metadata": {},
   "source": [
    "## StreamFiles"
   ]
  },
  {
   "cell_type": "code",
   "execution_count": 27,
   "id": "fe75030a-6c62-4732-8df5-5e25f34ffe65",
   "metadata": {
    "execution": {
     "iopub.execute_input": "2025-03-20T17:07:37.502874Z",
     "iopub.status.busy": "2025-03-20T17:07:37.502581Z",
     "iopub.status.idle": "2025-03-20T17:07:37.651948Z",
     "shell.execute_reply": "2025-03-20T17:07:37.651402Z",
     "shell.execute_reply.started": "2025-03-20T17:07:37.502874Z"
    },
    "tags": []
   },
   "outputs": [
    {
     "data": {
      "text/plain": [
       "\u001b[1;31mInit signature:\u001b[0m \u001b[0mbpy\u001b[0m\u001b[1;33m.\u001b[0m\u001b[0mStreamFiles\u001b[0m\u001b[1;33m(\u001b[0m\u001b[0m_path\u001b[0m\u001b[1;33m,\u001b[0m \u001b[0m_extension\u001b[0m\u001b[1;33m)\u001b[0m\u001b[1;33m\u001b[0m\u001b[1;33m\u001b[0m\u001b[0m\n",
       "\u001b[1;31mDocstring:\u001b[0m     \n",
       "Iterable, returns all filenames of a parent directory.\n",
       "Instantiation with\n",
       "* a path which is traversed recursively\n",
       "* a file extension. All other files will be igorated.\n",
       "\u001b[1;31mFile:\u001b[0m           d:\\dropbox\\31_projekte\\01_python\\88_pycharm\\bpyth\\src\\bpyth\\bpyth_files.py\n",
       "\u001b[1;31mType:\u001b[0m           type\n",
       "\u001b[1;31mSubclasses:\u001b[0m     "
      ]
     },
     "metadata": {},
     "output_type": "display_data"
    }
   ],
   "source": [
    "?bpy.StreamFiles"
   ]
  },
  {
   "cell_type": "code",
   "execution_count": 28,
   "id": "54a2a39c-c485-4e66-991f-9116bf2f209c",
   "metadata": {
    "execution": {
     "iopub.execute_input": "2025-03-20T17:07:37.653345Z",
     "iopub.status.busy": "2025-03-20T17:07:37.653345Z",
     "iopub.status.idle": "2025-03-20T17:07:37.800783Z",
     "shell.execute_reply": "2025-03-20T17:07:37.800783Z",
     "shell.execute_reply.started": "2025-03-20T17:07:37.653345Z"
    }
   },
   "outputs": [
    {
     "data": {
      "text/plain": [
       "['data\\\\dummy.pickle', 'data\\\\test_o.pickle']"
      ]
     },
     "execution_count": 28,
     "metadata": {},
     "output_type": "execute_result"
    }
   ],
   "source": [
    "files = bpy.StreamFiles( 'data', 'pickle')\n",
    "list(files)"
   ]
  },
  {
   "cell_type": "code",
   "execution_count": 29,
   "id": "03f476cb-0c72-4340-bc3e-067b411f64ee",
   "metadata": {
    "execution": {
     "iopub.execute_input": "2025-03-20T17:07:37.801790Z",
     "iopub.status.busy": "2025-03-20T17:07:37.801790Z",
     "iopub.status.idle": "2025-03-20T17:07:37.950258Z",
     "shell.execute_reply": "2025-03-20T17:07:37.950258Z",
     "shell.execute_reply.started": "2025-03-20T17:07:37.801790Z"
    }
   },
   "outputs": [
    {
     "name": "stdout",
     "output_type": "stream",
     "text": [
      "data\\dummy.pickle\n",
      "data\\test_o.pickle\n"
     ]
    }
   ],
   "source": [
    "# iterate individually with iter and next\n",
    "\n",
    "i = iter(files) \n",
    "\n",
    "first_value = next( i )\n",
    "print(first_value)\n",
    "\n",
    "second_value = next( i )\n",
    "print(second_value)"
   ]
  },
  {
   "cell_type": "code",
   "execution_count": 30,
   "id": "6b8f4525-c554-4bb5-b9eb-698ddef19cc5",
   "metadata": {
    "execution": {
     "iopub.execute_input": "2025-03-20T17:07:37.951265Z",
     "iopub.status.busy": "2025-03-20T17:07:37.951265Z",
     "iopub.status.idle": "2025-03-20T17:07:38.096919Z",
     "shell.execute_reply": "2025-03-20T17:07:38.096919Z",
     "shell.execute_reply.started": "2025-03-20T17:07:37.951265Z"
    }
   },
   "outputs": [
    {
     "name": "stdout",
     "output_type": "stream",
     "text": [
      "(0, 'data\\\\dummy.pickle')\n",
      "(1, 'data\\\\test_o.pickle')\n"
     ]
    }
   ],
   "source": [
    "# iterate individually with enumerate and next\n",
    "\n",
    "i = enumerate(files) \n",
    "\n",
    "first_value = next( i )\n",
    "print(first_value)\n",
    "\n",
    "second_value = next( i )\n",
    "print(second_value)"
   ]
  },
  {
   "cell_type": "code",
   "execution_count": 31,
   "id": "2893e483-7984-4249-a694-758ae9143404",
   "metadata": {
    "execution": {
     "iopub.execute_input": "2025-03-20T17:07:38.097925Z",
     "iopub.status.busy": "2025-03-20T17:07:38.097925Z",
     "iopub.status.idle": "2025-03-20T17:07:38.244829Z",
     "shell.execute_reply": "2025-03-20T17:07:38.244829Z",
     "shell.execute_reply.started": "2025-03-20T17:07:38.097925Z"
    }
   },
   "outputs": [
    {
     "name": "stdout",
     "output_type": "stream",
     "text": [
      "0 data\\dummy.pickle\n",
      "1 data\\test_o.pickle\n"
     ]
    }
   ],
   "source": [
    "# all\n",
    "for nummer, fname_full in enumerate(files): \n",
    "    print(nummer, fname_full)\n",
    "    if nummer > 5:\n",
    "            break"
   ]
  },
  {
   "cell_type": "markdown",
   "id": "c757ccb2-1cd1-4369-825e-a4ffd2b59b46",
   "metadata": {},
   "source": [
    "## StreamLines"
   ]
  },
  {
   "cell_type": "code",
   "execution_count": 32,
   "id": "84a52306-0482-42a7-ae12-d5609c13530e",
   "metadata": {
    "execution": {
     "iopub.execute_input": "2025-03-20T17:07:38.245836Z",
     "iopub.status.busy": "2025-03-20T17:07:38.245836Z",
     "iopub.status.idle": "2025-03-20T17:07:38.394176Z",
     "shell.execute_reply": "2025-03-20T17:07:38.393789Z",
     "shell.execute_reply.started": "2025-03-20T17:07:38.245836Z"
    },
    "tags": []
   },
   "outputs": [
    {
     "data": {
      "text/plain": [
       "\u001b[1;31mInit signature:\u001b[0m \u001b[0mbpy\u001b[0m\u001b[1;33m.\u001b[0m\u001b[0mStreamLines\u001b[0m\u001b[1;33m(\u001b[0m\u001b[0m_filename\u001b[0m\u001b[1;33m)\u001b[0m\u001b[1;33m\u001b[0m\u001b[1;33m\u001b[0m\u001b[0m\n",
       "\u001b[1;31mDocstring:\u001b[0m      Iterable, returns all lines of a text file\n",
       "\u001b[1;31mFile:\u001b[0m           d:\\dropbox\\31_projekte\\01_python\\88_pycharm\\bpyth\\src\\bpyth\\bpyth_files.py\n",
       "\u001b[1;31mType:\u001b[0m           type\n",
       "\u001b[1;31mSubclasses:\u001b[0m     "
      ]
     },
     "metadata": {},
     "output_type": "display_data"
    }
   ],
   "source": [
    "?bpy.StreamLines"
   ]
  },
  {
   "cell_type": "code",
   "execution_count": 33,
   "id": "045a0a95-e80d-4313-a410-b41a7ce15ad8",
   "metadata": {
    "execution": {
     "iopub.execute_input": "2025-03-20T17:07:38.395187Z",
     "iopub.status.busy": "2025-03-20T17:07:38.395187Z",
     "iopub.status.idle": "2025-03-20T17:07:38.557722Z",
     "shell.execute_reply": "2025-03-20T17:07:38.557722Z",
     "shell.execute_reply.started": "2025-03-20T17:07:38.395187Z"
    }
   },
   "outputs": [
    {
     "name": "stdout",
     "output_type": "stream",
     "text": [
      "0\tDamit Ihr indess erkennt, woher dieser ganze Irrthum gekommen ist, \n",
      "1\tund weshalb man die Lust anklagt und den Schmerz lobet, \n",
      "2\tso will ich Euch Alles erÃ¶ffnen und auseinander setzen, \n",
      "3\twas jener BegrÃ¼nder der Wahrheit und gleichsam Baumeister des glÃ¼cklichen Lebens selbst darÃ¼ber gesagt hat. \n",
      "4\tNiemand, sagt er, verschmÃ¤he, oder hasse, oder fliehe die Lust als solche, \n",
      "5\tsondern weil grosse Schmerzen ihr folgen, wenn man nicht mit Vernunft ihr nachzugehen verstehe. \n",
      "6\tEbenso werde der Schmerz als solcher von Niemand geliebt, gesucht und verlangt, \n",
      "7\tsondern weil mitunter solche Zeiten eintreten,\n",
      "8\tdass man mittelst Arbeiten und Schmerzen eine grosse Lust sich zu verschaften suchen mÃ¼sse. \n",
      "9\tUm hier gleich bei dem Einfachsten stehen zu bleiben, so wÃ¼rde Niemand von uns anstrengende kÃ¶rperliche Ãœbungen vornehmen, \n",
      "10\twenn er nicht einen Vortheil davon erwartete. \n",
      "11\tWer dÃ¼rfte aber wohl Den tadeln, der nach einer Lust verlangt, welcher keine Unannehmlichkeit folgt, \n",
      "12\toder der einem Schmerze ausweicht, aus dem keine Lust hervorgeht?"
     ]
    }
   ],
   "source": [
    "buch = bpy.StreamLines( 'data/lorem_ipsum.txt')\n",
    "\n",
    "for nummer, line in enumerate(buch): \n",
    "    print(nummer, line, sep='\\t',end='')\n",
    "    if nummer > 25:\n",
    "            break"
   ]
  },
  {
   "cell_type": "code",
   "execution_count": null,
   "id": "f2ac892a-5746-453b-b335-bb45a7c2e632",
   "metadata": {},
   "outputs": [],
   "source": []
  },
  {
   "cell_type": "code",
   "execution_count": 34,
   "id": "c39cfe86-5507-4386-bb0f-30afc4e3b009",
   "metadata": {
    "execution": {
     "iopub.execute_input": "2025-03-20T17:07:38.558731Z",
     "iopub.status.busy": "2025-03-20T17:07:38.558731Z",
     "iopub.status.idle": "2025-03-20T17:07:38.710264Z",
     "shell.execute_reply": "2025-03-20T17:07:38.709657Z",
     "shell.execute_reply.started": "2025-03-20T17:07:38.558731Z"
    }
   },
   "outputs": [],
   "source": [
    "#"
   ]
  }
 ],
 "metadata": {
  "kernelspec": {
   "display_name": "Python 3 (ipykernel)",
   "language": "python",
   "name": "python3"
  },
  "language_info": {
   "codemirror_mode": {
    "name": "ipython",
    "version": 3
   },
   "file_extension": ".py",
   "mimetype": "text/x-python",
   "name": "python",
   "nbconvert_exporter": "python",
   "pygments_lexer": "ipython3",
   "version": "3.12.9"
  }
 },
 "nbformat": 4,
 "nbformat_minor": 5
}
