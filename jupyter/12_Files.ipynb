{
 "cells": [
  {
   "cell_type": "markdown",
   "id": "a9d380c0-c993-4059-83b3-115a3bd65203",
   "metadata": {},
   "source": [
    "__[Open and try this file online (Colab)](https://colab.research.google.com/github/djekra/bpyth/blob/master/jupyter/12_Files.ipynb)__"
   ]
  },
  {
   "cell_type": "markdown",
   "id": "ade6e0ce-ab8d-4cd7-8ad6-c9f2f8f80411",
   "metadata": {},
   "source": [
    "# bpyth Files Tools\n",
    "* `path_join`: Robustly joins two path parts with optional existence check\n",
    "* `dump_pickle`: open, dump, close\n",
    "* `load_pickle`: open, load, close\n",
    "* `StreamFiles`: Iterable, returns all filenames of a parent directory\n",
    "* `StreamLines`: Iterable, returns all lines of a text file"
   ]
  },
  {
   "cell_type": "code",
   "execution_count": 18,
   "id": "28383554-ed4c-4a7c-bd1f-adfb4a44db11",
   "metadata": {
    "execution": {
     "iopub.execute_input": "2025-03-11T22:48:08.834465Z",
     "iopub.status.busy": "2025-03-11T22:48:08.833926Z",
     "iopub.status.idle": "2025-03-11T22:48:08.887425Z",
     "shell.execute_reply": "2025-03-11T22:48:08.886766Z",
     "shell.execute_reply.started": "2025-03-11T22:48:08.834426Z"
    }
   },
   "outputs": [
    {
     "name": "stdout",
     "output_type": "stream",
     "text": [
      "blab init\n",
      "environment['in_colab']     = False\n",
      "environment['dropbox_path'] = /media/me/LinuxDropbox/Dropbox\n",
      "environment['lib_path']     = /media/me/LinuxDropbox/Dropbox/31_Projekte/01_Python/libs\n",
      "Start Time: 23:48:08\n"
     ]
    },
    {
     "data": {
      "text/html": [
       "<img src onerror=\"var cell = this.closest('.jp-CodeCell');var editor = cell.querySelector('.jp-Editor');editor.style.background='Beige';this.parentNode.removeChild(this)\">"
      ],
      "text/plain": [
       "<IPython.core.display.HTML object>"
      ]
     },
     "metadata": {},
     "output_type": "display_data"
    }
   ],
   "source": [
    "# blab init\n",
    "try:\n",
    "    import blab\n",
    "except ImportError as e:\n",
    "    !pip install blab\n",
    "    import blab    \n",
    "startup_notebook = blab.blab_startup()\n",
    "%run $startup_notebook "
   ]
  },
  {
   "cell_type": "code",
   "execution_count": 19,
   "id": "d8655d4e-a5ad-4103-82e5-cc5c1856ad59",
   "metadata": {
    "execution": {
     "iopub.execute_input": "2025-03-11T22:48:08.889186Z",
     "iopub.status.busy": "2025-03-11T22:48:08.888829Z",
     "iopub.status.idle": "2025-03-11T22:48:08.900601Z",
     "shell.execute_reply": "2025-03-11T22:48:08.899931Z",
     "shell.execute_reply.started": "2025-03-11T22:48:08.889158Z"
    }
   },
   "outputs": [],
   "source": [
    "import bpyth as bpy"
   ]
  },
  {
   "cell_type": "code",
   "execution_count": 20,
   "id": "1d92301c-d895-44f6-8a64-7d83d673c916",
   "metadata": {
    "execution": {
     "iopub.execute_input": "2025-03-11T22:48:08.901729Z",
     "iopub.status.busy": "2025-03-11T22:48:08.901432Z",
     "iopub.status.idle": "2025-03-11T22:48:08.921597Z",
     "shell.execute_reply": "2025-03-11T22:48:08.920928Z",
     "shell.execute_reply.started": "2025-03-11T22:48:08.901703Z"
    }
   },
   "outputs": [],
   "source": [
    "# download directory 'data' if neccessary\n",
    "import os\n",
    "if not os.path.exists('data'):\n",
    "   !git clone https://github.com/djekra/bpyth.git\n",
    "   !cp -r bpyth/jupyter/data data\n",
    "   !rm -r bpyth"
   ]
  },
  {
   "cell_type": "markdown",
   "id": "2aa9b415-f8ea-4cee-bc02-883b9fbf8577",
   "metadata": {
    "execution": {
     "iopub.execute_input": "2025-03-12T07:58:00.513889Z",
     "iopub.status.busy": "2025-03-12T07:58:00.513428Z",
     "iopub.status.idle": "2025-03-12T07:58:00.525578Z",
     "shell.execute_reply": "2025-03-12T07:58:00.524965Z",
     "shell.execute_reply.started": "2025-03-12T07:58:00.513863Z"
    }
   },
   "source": [
    "## path_join"
   ]
  },
  {
   "cell_type": "code",
   "execution_count": 53,
   "id": "3d26a403-6c86-4012-be37-945bb46d4473",
   "metadata": {
    "execution": {
     "iopub.execute_input": "2025-03-12T08:16:40.886986Z",
     "iopub.status.busy": "2025-03-12T08:16:40.885997Z",
     "iopub.status.idle": "2025-03-12T08:16:40.988927Z",
     "shell.execute_reply": "2025-03-12T08:16:40.988229Z",
     "shell.execute_reply.started": "2025-03-12T08:16:40.886920Z"
    }
   },
   "outputs": [
    {
     "data": {
      "text/plain": [
       "\u001b[31mSignature:\u001b[39m bpy.path_join(basepath, supplement, test=\u001b[33m'ignore'\u001b[39m)\n",
       "\u001b[31mDocstring:\u001b[39m\n",
       "Robustly joins two path parts of a path.\n",
       "With optionally tests if the directory and/or the path exist.\n",
       "basepath:   a path\n",
       "supplement: path to join.\n",
       "test:       should it be checked if the path or the directory exist? If yes, set it to 'warn' or 'raise'.\n",
       "\u001b[31mFile:\u001b[39m      Dynamically generated function. No source code available.\n",
       "\u001b[31mType:\u001b[39m      function"
      ]
     },
     "metadata": {},
     "output_type": "display_data"
    }
   ],
   "source": [
    "?bpy.path_join"
   ]
  },
  {
   "cell_type": "code",
   "execution_count": 52,
   "id": "01afe465-15b4-46d0-86ef-1be9a22c5f97",
   "metadata": {
    "execution": {
     "iopub.execute_input": "2025-03-12T08:10:49.985600Z",
     "iopub.status.busy": "2025-03-12T08:10:49.984278Z",
     "iopub.status.idle": "2025-03-12T08:10:50.015655Z",
     "shell.execute_reply": "2025-03-12T08:10:50.014648Z",
     "shell.execute_reply.started": "2025-03-12T08:10:49.985531Z"
    }
   },
   "outputs": [
    {
     "name": "stdout",
     "output_type": "stream",
     "text": [
      "base/path/to/something\n",
      "base/path/to/something\n",
      "base/path/to/something\n",
      "base/path/to/something\n"
     ]
    }
   ],
   "source": [
    "print(bpy.path_join(\"base\", \"path/to/something\"))\n",
    "print(bpy.path_join(\"base/\", \"path/to/something\"))\n",
    "print(bpy.path_join(\"base/\", \"path/to/something/\"))\n",
    "print(bpy.path_join(\"base/\", \"/path/../path//to/something/\"))\n",
    "\n"
   ]
  },
  {
   "cell_type": "code",
   "execution_count": null,
   "id": "84993d95-576b-430f-b4f8-d0a9714336a6",
   "metadata": {},
   "outputs": [],
   "source": [
    "print(bpy.path_join(\"/base\", \"path/to/something\"))\n",
    "print(bpy.path_join(\"/base/\", \"path/to/something\"))"
   ]
  },
  {
   "cell_type": "code",
   "execution_count": null,
   "id": "95d333ab-540c-48e3-8bdb-b6f7e04cbff7",
   "metadata": {},
   "outputs": [],
   "source": [
    "        assert path_join(\"/base\", \"path/to/file\") == \"/base/path/to/file\"\n",
    "        assert path_join(\"/base/\", \"path/to/file\") == \"/base/path/to/file\"\n",
    "        assert path_join(\"/base\", \"/path/to/file\") == \"/base/path/to/file\"\n",
    "        assert path_join(\"/base/\", \"/path/to/file\") == \"/base/path/to/file\"\n",
    "        assert path_join(\"/base\", \"path/to/\") == \"/base/path/to\"\n",
    "        assert path_join(\"/base\", \"path/../to/\") == \"/base/to\""
   ]
  },
  {
   "cell_type": "markdown",
   "id": "0e59c756-8307-430c-8953-280fbb3e111a",
   "metadata": {},
   "source": [
    "## dump_pickle and load_pickle"
   ]
  },
  {
   "cell_type": "code",
   "execution_count": 21,
   "id": "cc7211c8-013c-4b5b-b9c4-b26f8ccc4467",
   "metadata": {
    "execution": {
     "iopub.execute_input": "2025-03-11T22:48:08.923582Z",
     "iopub.status.busy": "2025-03-11T22:48:08.923296Z",
     "iopub.status.idle": "2025-03-11T22:48:08.969824Z",
     "shell.execute_reply": "2025-03-11T22:48:08.969253Z",
     "shell.execute_reply.started": "2025-03-11T22:48:08.923562Z"
    },
    "tags": []
   },
   "outputs": [
    {
     "data": {
      "text/plain": [
       "\u001b[31mSignature:\u001b[39m bpy.dump_pickle(anything, filename)\n",
       "\u001b[31mDocstring:\u001b[39m open, dump, close\n",
       "\u001b[31mFile:\u001b[39m      /media/me/LinuxDropbox/Dropbox/31_Projekte/01_Python/88_PyCharm/bpyth/src/bpyth/bpyth_files.py\n",
       "\u001b[31mType:\u001b[39m      function"
      ]
     },
     "metadata": {},
     "output_type": "display_data"
    }
   ],
   "source": [
    "?bpy.dump_pickle"
   ]
  },
  {
   "cell_type": "code",
   "execution_count": 22,
   "id": "d802e8cc-9c1b-4173-b116-b8081a8337c4",
   "metadata": {
    "execution": {
     "iopub.execute_input": "2025-03-11T22:48:08.971034Z",
     "iopub.status.busy": "2025-03-11T22:48:08.970500Z",
     "iopub.status.idle": "2025-03-11T22:48:09.004127Z",
     "shell.execute_reply": "2025-03-11T22:48:09.003721Z",
     "shell.execute_reply.started": "2025-03-11T22:48:08.971009Z"
    },
    "tags": []
   },
   "outputs": [
    {
     "data": {
      "text/plain": [
       "\u001b[31mSignature:\u001b[39m bpy.load_pickle(filename)\n",
       "\u001b[31mDocstring:\u001b[39m\n",
       "open, load, close\n",
       "Handles FileNotFoundError and pickle.UnpicklingError.\n",
       "\u001b[31mFile:\u001b[39m      /media/me/LinuxDropbox/Dropbox/31_Projekte/01_Python/88_PyCharm/bpyth/src/bpyth/bpyth_files.py\n",
       "\u001b[31mType:\u001b[39m      function"
      ]
     },
     "metadata": {},
     "output_type": "display_data"
    }
   ],
   "source": [
    "?bpy.load_pickle"
   ]
  },
  {
   "cell_type": "code",
   "execution_count": 23,
   "id": "2714d195-83d4-4060-8507-07a2988e014e",
   "metadata": {
    "execution": {
     "iopub.execute_input": "2025-03-11T22:48:09.004858Z",
     "iopub.status.busy": "2025-03-11T22:48:09.004623Z",
     "iopub.status.idle": "2025-03-11T22:48:09.029577Z",
     "shell.execute_reply": "2025-03-11T22:48:09.028902Z",
     "shell.execute_reply.started": "2025-03-11T22:48:09.004834Z"
    }
   },
   "outputs": [
    {
     "data": {
      "text/plain": [
       "[[1, 2, 'a'], [4, 5, 6], [7, (8, 9)], None]"
      ]
     },
     "execution_count": 23,
     "metadata": {},
     "output_type": "execute_result"
    }
   ],
   "source": [
    "o = [[1,2,'a'],[4,5,6], [7,(8,9,)], None ]\n",
    "o"
   ]
  },
  {
   "cell_type": "code",
   "execution_count": 24,
   "id": "992a287a-a057-461a-bfec-3e6f11d627e8",
   "metadata": {
    "execution": {
     "iopub.execute_input": "2025-03-11T22:48:09.030719Z",
     "iopub.status.busy": "2025-03-11T22:48:09.030264Z",
     "iopub.status.idle": "2025-03-11T22:48:09.044193Z",
     "shell.execute_reply": "2025-03-11T22:48:09.043087Z",
     "shell.execute_reply.started": "2025-03-11T22:48:09.030688Z"
    }
   },
   "outputs": [],
   "source": [
    "bpy.dump_pickle(o,'data/test_o.pickle')"
   ]
  },
  {
   "cell_type": "code",
   "execution_count": 25,
   "id": "ade519b7-680e-49e8-93b2-f81322d03da6",
   "metadata": {
    "execution": {
     "iopub.execute_input": "2025-03-11T22:48:09.045736Z",
     "iopub.status.busy": "2025-03-11T22:48:09.045373Z",
     "iopub.status.idle": "2025-03-11T22:48:09.067311Z",
     "shell.execute_reply": "2025-03-11T22:48:09.066304Z",
     "shell.execute_reply.started": "2025-03-11T22:48:09.045702Z"
    }
   },
   "outputs": [],
   "source": [
    "o2 = bpy.load_pickle('data/test_o.pickle')"
   ]
  },
  {
   "cell_type": "code",
   "execution_count": 26,
   "id": "b7a27684-04b1-4731-b444-d5be8478f87a",
   "metadata": {
    "execution": {
     "iopub.execute_input": "2025-03-11T22:48:09.068645Z",
     "iopub.status.busy": "2025-03-11T22:48:09.068217Z",
     "iopub.status.idle": "2025-03-11T22:48:09.096295Z",
     "shell.execute_reply": "2025-03-11T22:48:09.095688Z",
     "shell.execute_reply.started": "2025-03-11T22:48:09.068612Z"
    }
   },
   "outputs": [],
   "source": [
    "assert o == o2"
   ]
  },
  {
   "cell_type": "markdown",
   "id": "748f4876-1dc8-4141-81c1-4d2fc1297c9e",
   "metadata": {},
   "source": [
    "## StreamFiles"
   ]
  },
  {
   "cell_type": "code",
   "execution_count": 27,
   "id": "fe75030a-6c62-4732-8df5-5e25f34ffe65",
   "metadata": {
    "execution": {
     "iopub.execute_input": "2025-03-11T22:48:09.098807Z",
     "iopub.status.busy": "2025-03-11T22:48:09.098190Z",
     "iopub.status.idle": "2025-03-11T22:48:09.144788Z",
     "shell.execute_reply": "2025-03-11T22:48:09.144041Z",
     "shell.execute_reply.started": "2025-03-11T22:48:09.098768Z"
    },
    "tags": []
   },
   "outputs": [
    {
     "data": {
      "text/plain": [
       "\u001b[31mInit signature:\u001b[39m bpy.StreamFiles(_path, _extension)\n",
       "\u001b[31mDocstring:\u001b[39m     \n",
       "Iterable, returns all filenames of a parent directory.\n",
       "Instantiation with\n",
       "* a path which is traversed recursively\n",
       "* a file extension. All other files will be igorated.\n",
       "\u001b[31mFile:\u001b[39m           /media/me/LinuxDropbox/Dropbox/31_Projekte/01_Python/88_PyCharm/bpyth/src/bpyth/bpyth_files.py\n",
       "\u001b[31mType:\u001b[39m           type\n",
       "\u001b[31mSubclasses:\u001b[39m     "
      ]
     },
     "metadata": {},
     "output_type": "display_data"
    }
   ],
   "source": [
    "?bpy.StreamFiles"
   ]
  },
  {
   "cell_type": "code",
   "execution_count": 28,
   "id": "54a2a39c-c485-4e66-991f-9116bf2f209c",
   "metadata": {
    "execution": {
     "iopub.execute_input": "2025-03-11T22:48:09.147164Z",
     "iopub.status.busy": "2025-03-11T22:48:09.145439Z",
     "iopub.status.idle": "2025-03-11T22:48:09.161482Z",
     "shell.execute_reply": "2025-03-11T22:48:09.160638Z",
     "shell.execute_reply.started": "2025-03-11T22:48:09.147125Z"
    }
   },
   "outputs": [
    {
     "data": {
      "text/plain": [
       "['data/dummy.pickle', 'data/test_o.pickle']"
      ]
     },
     "execution_count": 28,
     "metadata": {},
     "output_type": "execute_result"
    }
   ],
   "source": [
    "files = bpy.StreamFiles( 'data', 'pickle')\n",
    "list(files)"
   ]
  },
  {
   "cell_type": "code",
   "execution_count": 29,
   "id": "03f476cb-0c72-4340-bc3e-067b411f64ee",
   "metadata": {
    "execution": {
     "iopub.execute_input": "2025-03-11T22:48:09.162290Z",
     "iopub.status.busy": "2025-03-11T22:48:09.161970Z",
     "iopub.status.idle": "2025-03-11T22:48:09.186430Z",
     "shell.execute_reply": "2025-03-11T22:48:09.185788Z",
     "shell.execute_reply.started": "2025-03-11T22:48:09.162262Z"
    }
   },
   "outputs": [
    {
     "name": "stdout",
     "output_type": "stream",
     "text": [
      "data/dummy.pickle\n",
      "data/test_o.pickle\n"
     ]
    }
   ],
   "source": [
    "# iterate individually with iter and next\n",
    "\n",
    "i = iter(files) \n",
    "\n",
    "first_value = next( i )\n",
    "print(first_value)\n",
    "\n",
    "second_value = next( i )\n",
    "print(second_value)"
   ]
  },
  {
   "cell_type": "code",
   "execution_count": 30,
   "id": "6b8f4525-c554-4bb5-b9eb-698ddef19cc5",
   "metadata": {
    "execution": {
     "iopub.execute_input": "2025-03-11T22:48:09.187437Z",
     "iopub.status.busy": "2025-03-11T22:48:09.187134Z",
     "iopub.status.idle": "2025-03-11T22:48:09.201730Z",
     "shell.execute_reply": "2025-03-11T22:48:09.200569Z",
     "shell.execute_reply.started": "2025-03-11T22:48:09.187406Z"
    }
   },
   "outputs": [
    {
     "name": "stdout",
     "output_type": "stream",
     "text": [
      "(0, 'data/dummy.pickle')\n",
      "(1, 'data/test_o.pickle')\n"
     ]
    }
   ],
   "source": [
    "# iterate individually with enumerate and next\n",
    "\n",
    "i = enumerate(files) \n",
    "\n",
    "first_value = next( i )\n",
    "print(first_value)\n",
    "\n",
    "second_value = next( i )\n",
    "print(second_value)"
   ]
  },
  {
   "cell_type": "code",
   "execution_count": 31,
   "id": "2893e483-7984-4249-a694-758ae9143404",
   "metadata": {
    "execution": {
     "iopub.execute_input": "2025-03-11T22:48:09.202920Z",
     "iopub.status.busy": "2025-03-11T22:48:09.202497Z",
     "iopub.status.idle": "2025-03-11T22:48:09.218779Z",
     "shell.execute_reply": "2025-03-11T22:48:09.218020Z",
     "shell.execute_reply.started": "2025-03-11T22:48:09.202895Z"
    }
   },
   "outputs": [
    {
     "name": "stdout",
     "output_type": "stream",
     "text": [
      "0 data/dummy.pickle\n",
      "1 data/test_o.pickle\n"
     ]
    }
   ],
   "source": [
    "# all\n",
    "for nummer, fname_full in enumerate(files): \n",
    "    print(nummer, fname_full)\n",
    "    if nummer > 5:\n",
    "            break"
   ]
  },
  {
   "cell_type": "markdown",
   "id": "c757ccb2-1cd1-4369-825e-a4ffd2b59b46",
   "metadata": {},
   "source": [
    "## StreamLines"
   ]
  },
  {
   "cell_type": "code",
   "execution_count": 32,
   "id": "84a52306-0482-42a7-ae12-d5609c13530e",
   "metadata": {
    "execution": {
     "iopub.execute_input": "2025-03-11T22:48:09.221268Z",
     "iopub.status.busy": "2025-03-11T22:48:09.219797Z",
     "iopub.status.idle": "2025-03-11T22:48:09.267415Z",
     "shell.execute_reply": "2025-03-11T22:48:09.266744Z",
     "shell.execute_reply.started": "2025-03-11T22:48:09.220883Z"
    },
    "tags": []
   },
   "outputs": [
    {
     "data": {
      "text/plain": [
       "\u001b[31mInit signature:\u001b[39m bpy.StreamLines(_filename)\n",
       "\u001b[31mDocstring:\u001b[39m      Iterable, returns all lines of a text file\n",
       "\u001b[31mFile:\u001b[39m           /media/me/LinuxDropbox/Dropbox/31_Projekte/01_Python/88_PyCharm/bpyth/src/bpyth/bpyth_files.py\n",
       "\u001b[31mType:\u001b[39m           type\n",
       "\u001b[31mSubclasses:\u001b[39m     "
      ]
     },
     "metadata": {},
     "output_type": "display_data"
    }
   ],
   "source": [
    "?bpy.StreamLines"
   ]
  },
  {
   "cell_type": "code",
   "execution_count": 33,
   "id": "045a0a95-e80d-4313-a410-b41a7ce15ad8",
   "metadata": {
    "execution": {
     "iopub.execute_input": "2025-03-11T22:48:09.268379Z",
     "iopub.status.busy": "2025-03-11T22:48:09.268043Z",
     "iopub.status.idle": "2025-03-11T22:48:09.284070Z",
     "shell.execute_reply": "2025-03-11T22:48:09.283345Z",
     "shell.execute_reply.started": "2025-03-11T22:48:09.268349Z"
    }
   },
   "outputs": [
    {
     "name": "stdout",
     "output_type": "stream",
     "text": [
      "0\tDamit Ihr indess erkennt, woher dieser ganze Irrthum gekommen ist, \n",
      "1\tund weshalb man die Lust anklagt und den Schmerz lobet, \n",
      "2\tso will ich Euch Alles eröffnen und auseinander setzen, \n",
      "3\twas jener Begründer der Wahrheit und gleichsam Baumeister des glücklichen Lebens selbst darüber gesagt hat. \n",
      "4\tNiemand, sagt er, verschmähe, oder hasse, oder fliehe die Lust als solche, \n",
      "5\tsondern weil grosse Schmerzen ihr folgen, wenn man nicht mit Vernunft ihr nachzugehen verstehe. \n",
      "6\tEbenso werde der Schmerz als solcher von Niemand geliebt, gesucht und verlangt, \n",
      "7\tsondern weil mitunter solche Zeiten eintreten,\n",
      "8\tdass man mittelst Arbeiten und Schmerzen eine grosse Lust sich zu verschaften suchen müsse. \n",
      "9\tUm hier gleich bei dem Einfachsten stehen zu bleiben, so würde Niemand von uns anstrengende körperliche Übungen vornehmen, \n",
      "10\twenn er nicht einen Vortheil davon erwartete. \n",
      "11\tWer dürfte aber wohl Den tadeln, der nach einer Lust verlangt, welcher keine Unannehmlichkeit folgt, \n",
      "12\toder der einem Schmerze ausweicht, aus dem keine Lust hervorgeht?"
     ]
    }
   ],
   "source": [
    "buch = bpy.StreamLines( 'data/lorem_ipsum.txt')\n",
    "\n",
    "for nummer, line in enumerate(buch): \n",
    "    print(nummer, line, sep='\\t',end='')\n",
    "    if nummer > 25:\n",
    "            break"
   ]
  },
  {
   "cell_type": "code",
   "execution_count": null,
   "id": "f2ac892a-5746-453b-b335-bb45a7c2e632",
   "metadata": {},
   "outputs": [],
   "source": []
  },
  {
   "cell_type": "code",
   "execution_count": 34,
   "id": "c39cfe86-5507-4386-bb0f-30afc4e3b009",
   "metadata": {
    "execution": {
     "iopub.execute_input": "2025-03-11T22:48:09.285246Z",
     "iopub.status.busy": "2025-03-11T22:48:09.284653Z",
     "iopub.status.idle": "2025-03-11T22:48:09.312670Z",
     "shell.execute_reply": "2025-03-11T22:48:09.311943Z",
     "shell.execute_reply.started": "2025-03-11T22:48:09.285211Z"
    }
   },
   "outputs": [],
   "source": [
    "#"
   ]
  }
 ],
 "metadata": {
  "kernelspec": {
   "display_name": "Python 3 (ipykernel)",
   "language": "python",
   "name": "python3"
  },
  "language_info": {
   "codemirror_mode": {
    "name": "ipython",
    "version": 3
   },
   "file_extension": ".py",
   "mimetype": "text/x-python",
   "name": "python",
   "nbconvert_exporter": "python",
   "pygments_lexer": "ipython3",
   "version": "3.12.9"
  }
 },
 "nbformat": 4,
 "nbformat_minor": 5
}
