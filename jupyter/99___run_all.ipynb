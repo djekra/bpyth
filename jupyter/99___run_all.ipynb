{
 "cells": [
  {
   "cell_type": "markdown",
   "id": "8e69225b",
   "metadata": {},
   "source": [
    "# Run all scripts in this folder"
   ]
  },
  {
   "cell_type": "code",
   "execution_count": 1,
   "id": "e72a4072-89ef-46ca-852c-d29af954da8c",
   "metadata": {},
   "outputs": [
    {
     "name": "stdout",
     "output_type": "stream",
     "text": [
      "Requirement already satisfied: blab in /home/me/mambaforge/envs/plain_01/lib/python3.9/site-packages (0.0.32)\n",
      "Requirement already satisfied: nbconvert in /home/me/mambaforge/envs/plain_01/lib/python3.9/site-packages (from blab) (7.2.3)\n",
      "Requirement already satisfied: nbformat in /home/me/mambaforge/envs/plain_01/lib/python3.9/site-packages (from blab) (5.7.0)\n",
      "Requirement already satisfied: ipython-autotime in /home/me/mambaforge/envs/plain_01/lib/python3.9/site-packages (from blab) (0.3.1)\n",
      "Requirement already satisfied: matplotlib in /home/me/mambaforge/envs/plain_01/lib/python3.9/site-packages (from blab) (3.6.0)\n",
      "Requirement already satisfied: bpyth in /home/me/mambaforge/envs/plain_01/lib/python3.9/site-packages (from blab) (0.0.12)\n",
      "Requirement already satisfied: ipytest in /home/me/mambaforge/envs/plain_01/lib/python3.9/site-packages (from blab) (0.12.0)\n",
      "Requirement already satisfied: packaging in /home/me/mambaforge/envs/plain_01/lib/python3.9/site-packages (from ipytest->blab) (21.3)\n",
      "Requirement already satisfied: pytest>=5.4 in /home/me/mambaforge/envs/plain_01/lib/python3.9/site-packages (from ipytest->blab) (7.2.0)\n",
      "Requirement already satisfied: ipython in /home/me/mambaforge/envs/plain_01/lib/python3.9/site-packages (from ipytest->blab) (8.6.0)\n",
      "Requirement already satisfied: pillow>=6.2.0 in /home/me/mambaforge/envs/plain_01/lib/python3.9/site-packages (from matplotlib->blab) (9.3.0)\n",
      "Requirement already satisfied: contourpy>=1.0.1 in /home/me/mambaforge/envs/plain_01/lib/python3.9/site-packages (from matplotlib->blab) (1.0.6)\n",
      "Requirement already satisfied: cycler>=0.10 in /home/me/mambaforge/envs/plain_01/lib/python3.9/site-packages (from matplotlib->blab) (0.11.0)\n",
      "Requirement already satisfied: kiwisolver>=1.0.1 in /home/me/mambaforge/envs/plain_01/lib/python3.9/site-packages (from matplotlib->blab) (1.4.4)\n",
      "Requirement already satisfied: python-dateutil>=2.7 in /home/me/mambaforge/envs/plain_01/lib/python3.9/site-packages (from matplotlib->blab) (2.8.2)\n",
      "Requirement already satisfied: pyparsing>=2.2.1 in /home/me/mambaforge/envs/plain_01/lib/python3.9/site-packages (from matplotlib->blab) (3.0.9)\n",
      "Requirement already satisfied: numpy>=1.19 in /home/me/mambaforge/envs/plain_01/lib/python3.9/site-packages (from matplotlib->blab) (1.23.4)\n",
      "Requirement already satisfied: fonttools>=4.22.0 in /home/me/mambaforge/envs/plain_01/lib/python3.9/site-packages (from matplotlib->blab) (4.38.0)\n",
      "Requirement already satisfied: beautifulsoup4 in /home/me/mambaforge/envs/plain_01/lib/python3.9/site-packages (from nbconvert->blab) (4.11.1)\n",
      "Requirement already satisfied: defusedxml in /home/me/mambaforge/envs/plain_01/lib/python3.9/site-packages (from nbconvert->blab) (0.7.1)\n",
      "Requirement already satisfied: jupyterlab-pygments in /home/me/mambaforge/envs/plain_01/lib/python3.9/site-packages (from nbconvert->blab) (0.2.2)\n",
      "Requirement already satisfied: importlib-metadata>=3.6 in /home/me/mambaforge/envs/plain_01/lib/python3.9/site-packages (from nbconvert->blab) (5.0.0)\n",
      "Requirement already satisfied: pygments>=2.4.1 in /home/me/mambaforge/envs/plain_01/lib/python3.9/site-packages (from nbconvert->blab) (2.13.0)\n",
      "Requirement already satisfied: bleach in /home/me/mambaforge/envs/plain_01/lib/python3.9/site-packages (from nbconvert->blab) (5.0.1)\n",
      "Requirement already satisfied: jupyter-core>=4.7 in /home/me/mambaforge/envs/plain_01/lib/python3.9/site-packages (from nbconvert->blab) (4.11.1)\n",
      "Requirement already satisfied: pandocfilters>=1.4.1 in /home/me/mambaforge/envs/plain_01/lib/python3.9/site-packages (from nbconvert->blab) (1.5.0)\n",
      "Requirement already satisfied: mistune<3,>=2.0.3 in /home/me/mambaforge/envs/plain_01/lib/python3.9/site-packages (from nbconvert->blab) (2.0.4)\n",
      "Requirement already satisfied: traitlets>=5.0 in /home/me/mambaforge/envs/plain_01/lib/python3.9/site-packages (from nbconvert->blab) (5.5.0)\n",
      "Requirement already satisfied: tinycss2 in /home/me/mambaforge/envs/plain_01/lib/python3.9/site-packages (from nbconvert->blab) (1.2.1)\n",
      "Requirement already satisfied: nbclient>=0.5.0 in /home/me/mambaforge/envs/plain_01/lib/python3.9/site-packages (from nbconvert->blab) (0.7.0)\n",
      "Requirement already satisfied: jinja2>=3.0 in /home/me/mambaforge/envs/plain_01/lib/python3.9/site-packages (from nbconvert->blab) (3.1.2)\n",
      "Requirement already satisfied: markupsafe>=2.0 in /home/me/mambaforge/envs/plain_01/lib/python3.9/site-packages (from nbconvert->blab) (2.1.1)\n",
      "Requirement already satisfied: fastjsonschema in /home/me/mambaforge/envs/plain_01/lib/python3.9/site-packages (from nbformat->blab) (2.16.2)\n",
      "Requirement already satisfied: jsonschema>=2.6 in /home/me/mambaforge/envs/plain_01/lib/python3.9/site-packages (from nbformat->blab) (4.16.0)\n",
      "Requirement already satisfied: zipp>=0.5 in /home/me/mambaforge/envs/plain_01/lib/python3.9/site-packages (from importlib-metadata>=3.6->nbconvert->blab) (3.10.0)\n",
      "Requirement already satisfied: pyrsistent!=0.17.0,!=0.17.1,!=0.17.2,>=0.14.0 in /home/me/mambaforge/envs/plain_01/lib/python3.9/site-packages (from jsonschema>=2.6->nbformat->blab) (0.18.1)\n",
      "Requirement already satisfied: attrs>=17.4.0 in /home/me/mambaforge/envs/plain_01/lib/python3.9/site-packages (from jsonschema>=2.6->nbformat->blab) (22.1.0)\n",
      "Requirement already satisfied: nest-asyncio in /home/me/mambaforge/envs/plain_01/lib/python3.9/site-packages (from nbclient>=0.5.0->nbconvert->blab) (1.5.6)\n",
      "Requirement already satisfied: jupyter-client>=6.1.5 in /home/me/mambaforge/envs/plain_01/lib/python3.9/site-packages (from nbclient>=0.5.0->nbconvert->blab) (7.4.4)\n",
      "Requirement already satisfied: pluggy<2.0,>=0.12 in /home/me/mambaforge/envs/plain_01/lib/python3.9/site-packages (from pytest>=5.4->ipytest->blab) (1.0.0)\n",
      "Requirement already satisfied: exceptiongroup>=1.0.0rc8 in /home/me/mambaforge/envs/plain_01/lib/python3.9/site-packages (from pytest>=5.4->ipytest->blab) (1.0.0)\n",
      "Requirement already satisfied: tomli>=1.0.0 in /home/me/mambaforge/envs/plain_01/lib/python3.9/site-packages (from pytest>=5.4->ipytest->blab) (2.0.1)\n",
      "Requirement already satisfied: iniconfig in /home/me/mambaforge/envs/plain_01/lib/python3.9/site-packages (from pytest>=5.4->ipytest->blab) (1.1.1)\n",
      "Requirement already satisfied: six>=1.5 in /home/me/mambaforge/envs/plain_01/lib/python3.9/site-packages (from python-dateutil>=2.7->matplotlib->blab) (1.16.0)\n",
      "Requirement already satisfied: soupsieve>1.2 in /home/me/mambaforge/envs/plain_01/lib/python3.9/site-packages (from beautifulsoup4->nbconvert->blab) (2.3.2.post1)\n",
      "Requirement already satisfied: webencodings in /home/me/mambaforge/envs/plain_01/lib/python3.9/site-packages (from bleach->nbconvert->blab) (0.5.1)\n",
      "Requirement already satisfied: matplotlib-inline in /home/me/mambaforge/envs/plain_01/lib/python3.9/site-packages (from ipython->ipytest->blab) (0.1.6)\n",
      "Requirement already satisfied: prompt-toolkit<3.1.0,>3.0.1 in /home/me/mambaforge/envs/plain_01/lib/python3.9/site-packages (from ipython->ipytest->blab) (3.0.31)\n",
      "Requirement already satisfied: decorator in /home/me/mambaforge/envs/plain_01/lib/python3.9/site-packages (from ipython->ipytest->blab) (5.1.1)\n",
      "Requirement already satisfied: pexpect>4.3 in /home/me/mambaforge/envs/plain_01/lib/python3.9/site-packages (from ipython->ipytest->blab) (4.8.0)\n",
      "Requirement already satisfied: backcall in /home/me/mambaforge/envs/plain_01/lib/python3.9/site-packages (from ipython->ipytest->blab) (0.2.0)\n",
      "Requirement already satisfied: pickleshare in /home/me/mambaforge/envs/plain_01/lib/python3.9/site-packages (from ipython->ipytest->blab) (0.7.5)\n",
      "Requirement already satisfied: jedi>=0.16 in /home/me/mambaforge/envs/plain_01/lib/python3.9/site-packages (from ipython->ipytest->blab) (0.18.1)\n",
      "Requirement already satisfied: stack-data in /home/me/mambaforge/envs/plain_01/lib/python3.9/site-packages (from ipython->ipytest->blab) (0.5.1)\n",
      "Requirement already satisfied: parso<0.9.0,>=0.8.0 in /home/me/mambaforge/envs/plain_01/lib/python3.9/site-packages (from jedi>=0.16->ipython->ipytest->blab) (0.8.3)\n",
      "Requirement already satisfied: entrypoints in /home/me/mambaforge/envs/plain_01/lib/python3.9/site-packages (from jupyter-client>=6.1.5->nbclient>=0.5.0->nbconvert->blab) (0.4)\n",
      "Requirement already satisfied: tornado>=6.2 in /home/me/mambaforge/envs/plain_01/lib/python3.9/site-packages (from jupyter-client>=6.1.5->nbclient>=0.5.0->nbconvert->blab) (6.2)\n",
      "Requirement already satisfied: pyzmq>=23.0 in /home/me/mambaforge/envs/plain_01/lib/python3.9/site-packages (from jupyter-client>=6.1.5->nbclient>=0.5.0->nbconvert->blab) (24.0.1)\n",
      "Requirement already satisfied: ptyprocess>=0.5 in /home/me/mambaforge/envs/plain_01/lib/python3.9/site-packages (from pexpect>4.3->ipython->ipytest->blab) (0.7.0)\n",
      "Requirement already satisfied: wcwidth in /home/me/mambaforge/envs/plain_01/lib/python3.9/site-packages (from prompt-toolkit<3.1.0,>3.0.1->ipython->ipytest->blab) (0.2.5)\n",
      "Requirement already satisfied: executing in /home/me/mambaforge/envs/plain_01/lib/python3.9/site-packages (from stack-data->ipython->ipytest->blab) (1.1.1)\n",
      "Requirement already satisfied: pure-eval in /home/me/mambaforge/envs/plain_01/lib/python3.9/site-packages (from stack-data->ipython->ipytest->blab) (0.2.2)\n",
      "Requirement already satisfied: asttokens in /home/me/mambaforge/envs/plain_01/lib/python3.9/site-packages (from stack-data->ipython->ipytest->blab) (2.0.8)\n"
     ]
    }
   ],
   "source": [
    "# install blab\n",
    "!pip install blab"
   ]
  },
  {
   "cell_type": "code",
   "execution_count": 2,
   "id": "fb545c1a-c45f-4ce4-8b40-27a7170679df",
   "metadata": {},
   "outputs": [
    {
     "name": "stdout",
     "output_type": "stream",
     "text": [
      "blab init\n",
      "blab found local libs at /media/me/DATA/Dropbox/31_Projekte/01_Python/libs\n",
      "Start Time: 18:35:45\n"
     ]
    },
    {
     "data": {
      "text/html": [
       "<img src onerror=\"var cell = this.closest('.jp-CodeCell');var editor = cell.querySelector('.jp-Editor');editor.style.background='Beige';this.parentNode.removeChild(this)\">"
      ],
      "text/plain": [
       "<IPython.core.display.HTML object>"
      ]
     },
     "metadata": {},
     "output_type": "display_data"
    },
    {
     "name": "stdout",
     "output_type": "stream",
     "text": [
      "time: 492 ms (started: 2022-10-31 18:35:45 +01:00)\n"
     ]
    }
   ],
   "source": [
    "# blab init\n",
    "import blab\n",
    "startup_notebook = blab.blab_startup()\n",
    "%run $startup_notebook"
   ]
  },
  {
   "cell_type": "code",
   "execution_count": 3,
   "id": "10e73dfb-d6ed-429e-9a8c-eab2b239bf56",
   "metadata": {},
   "outputs": [
    {
     "name": "stdout",
     "output_type": "stream",
     "text": [
      "22_Object_Analysis.ipynb\n",
      "time: 58.5 ms (started: 2022-10-31 18:35:46 +01:00)\n"
     ]
    }
   ],
   "source": [
    "search_notebooks('raise Stop', radius=0, exclude=['00','--','98','99',])"
   ]
  },
  {
   "cell_type": "code",
   "execution_count": 4,
   "id": "771cc4dd",
   "metadata": {},
   "outputs": [
    {
     "name": "stdout",
     "output_type": "stream",
     "text": [
      "Trying to run this 5 notebooks:\n",
      "         10_Files.ipynb                          \n",
      "         15_Human.ipynb                          \n",
      "         20_Iterable.ipynb                       \n",
      "         22_Object_Analysis.ipynb                \n",
      "         24_Strings.ipynb                        \n",
      "\n",
      "Running: 10_Files.ipynb                              5 secs\n",
      "Running: 15_Human.ipynb                              2 secs\n",
      "Running: 20_Iterable.ipynb                           2 secs\n",
      "Running: 22_Object_Analysis.ipynb                    3 secs\n",
      "Running: 24_Strings.ipynb                            2 secs\n",
      "============================================================ \n",
      "\n",
      "\n",
      "time: 15.9 s (started: 2022-10-31 18:35:46 +01:00)\n"
     ]
    }
   ],
   "source": [
    "run_notebooks( exclude=['99',], mode='force' )"
   ]
  },
  {
   "cell_type": "code",
   "execution_count": null,
   "id": "2c29c754-b181-4172-8580-bc58195e3843",
   "metadata": {},
   "outputs": [],
   "source": []
  }
 ],
 "metadata": {
  "kernelspec": {
   "display_name": "Python 3 (ipykernel)",
   "language": "python",
   "name": "python3"
  },
  "language_info": {
   "codemirror_mode": {
    "name": "ipython",
    "version": 3
   },
   "file_extension": ".py",
   "mimetype": "text/x-python",
   "name": "python",
   "nbconvert_exporter": "python",
   "pygments_lexer": "ipython3",
   "version": "3.9.13"
  }
 },
 "nbformat": 4,
 "nbformat_minor": 5
}
