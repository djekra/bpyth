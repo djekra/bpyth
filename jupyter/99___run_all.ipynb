{
 "cells": [
  {
   "cell_type": "markdown",
   "id": "8e69225b",
   "metadata": {},
   "source": [
    "# Run all scripts in this folder"
   ]
  },
  {
   "cell_type": "code",
   "execution_count": 16,
   "id": "fb545c1a-c45f-4ce4-8b40-27a7170679df",
   "metadata": {},
   "outputs": [
    {
     "name": "stdout",
     "output_type": "stream",
     "text": [
      "JupyterLab Tools Version 0.22\n",
      "found local libs at /mnt/DATA/Dropbox/31_Projekte/01_Python/libs\n",
      "Start Time: 17:37:08\n"
     ]
    },
    {
     "data": {
      "text/html": [
       "<img src onerror=\"var cell = this.closest('.jp-CodeCell');var editor = cell.querySelector('.jp-Editor');editor.style.background='Beige';this.parentNode.removeChild(this)\">"
      ],
      "text/plain": [
       "<IPython.core.display.HTML object>"
      ]
     },
     "metadata": {},
     "output_type": "display_data"
    },
    {
     "name": "stdout",
     "output_type": "stream",
     "text": [
      "time: 4.89 ms (started: 2022-09-07 17:37:08 +02:00)\n"
     ]
    }
   ],
   "source": [
    "%run 98_blab_tools.ipynb"
   ]
  },
  {
   "cell_type": "code",
   "execution_count": 2,
   "id": "10e73dfb-d6ed-429e-9a8c-eab2b239bf56",
   "metadata": {},
   "outputs": [
    {
     "name": "stdout",
     "output_type": "stream",
     "text": [
      "Nothing found\n",
      "time: 68 ms (started: 2022-09-05 15:23:04 +02:00)\n"
     ]
    }
   ],
   "source": [
    "search_notebooks('raise Stop', radius=0, exclude=['00','--'])"
   ]
  },
  {
   "cell_type": "code",
   "execution_count": 3,
   "id": "771cc4dd",
   "metadata": {},
   "outputs": [
    {
     "name": "stdout",
     "output_type": "stream",
     "text": [
      "Trying to run this 7 notebooks:\n",
      "         05_Tests.ipynb                          \n",
      "         12_Pfade.ipynb                          \n",
      "         13_Streaming_Data.ipynb                 \n",
      "         15_dict_defaultdict.ipynb               \n",
      "         22_Listen.ipynb                         \n",
      "         23_rtype_shape.ipynb                    \n",
      "         24_Strings.ipynb                        \n",
      "\n",
      "Running: 05_Tests.ipynb                              4 secs\n",
      "Running: 12_Pfade.ipynb                              1 sec\n",
      "Running: 13_Streaming_Data.ipynb                  "
     ]
    },
    {
     "name": "stderr",
     "output_type": "stream",
     "text": [
      "/mnt/DATA/Dropbox/31_Projekte/01_Python/libs/blab/tools.py:62: UserWarning: Error executing the notebook \"13_Streaming_Data.ipynb\"\n",
      "\n",
      "\n",
      "  warnings.warn(msg)\n"
     ]
    },
    {
     "name": "stdout",
     "output_type": "stream",
     "text": [
      "   2 secs\n",
      "Running: 15_dict_defaultdict.ipynb                   1 sec\n",
      "Running: 22_Listen.ipynb                             2 secs\n",
      "Running: 23_rtype_shape.ipynb                        5 secs\n",
      "Running: 24_Strings.ipynb                            2 secs\n",
      "============================================================ \n",
      "\n",
      "\n",
      "time: 20.5 s (started: 2022-09-05 15:23:04 +02:00)\n"
     ]
    }
   ],
   "source": [
    "run_notebooks( exclude=['00','03','=='], mode='force' )"
   ]
  },
  {
   "cell_type": "code",
   "execution_count": null,
   "id": "c9082d5a-3d68-4f71-9750-0265241bf187",
   "metadata": {},
   "outputs": [],
   "source": []
  }
 ],
 "metadata": {
  "kernelspec": {
   "display_name": "Python 3 (ipykernel)",
   "language": "python",
   "name": "python3"
  },
  "language_info": {
   "codemirror_mode": {
    "name": "ipython",
    "version": 3
   },
   "file_extension": ".py",
   "mimetype": "text/x-python",
   "name": "python",
   "nbconvert_exporter": "python",
   "pygments_lexer": "ipython3",
   "version": "3.8.12"
  }
 },
 "nbformat": 4,
 "nbformat_minor": 5
}
