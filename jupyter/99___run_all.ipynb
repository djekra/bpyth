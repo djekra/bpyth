{
 "cells": [
  {
   "cell_type": "markdown",
   "id": "8e69225b",
   "metadata": {},
   "source": [
    "# Run all scripts in this folder"
   ]
  },
  {
   "cell_type": "code",
   "execution_count": 4,
   "id": "fb545c1a-c45f-4ce4-8b40-27a7170679df",
   "metadata": {},
   "outputs": [
    {
     "name": "stdout",
     "output_type": "stream",
     "text": [
      "blab init\n",
      "blab found local libs at /mnt/DATA/Dropbox/31_Projekte/01_Python/libs\n",
      "Start Time: 17:47:51\n"
     ]
    },
    {
     "data": {
      "text/html": [
       "<img src onerror=\"var cell = this.closest('.jp-CodeCell');var editor = cell.querySelector('.jp-Editor');editor.style.background='Beige';this.parentNode.removeChild(this)\">"
      ],
      "text/plain": [
       "<IPython.core.display.HTML object>"
      ]
     },
     "metadata": {},
     "output_type": "display_data"
    },
    {
     "name": "stdout",
     "output_type": "stream",
     "text": [
      "time: 22.6 ms (started: 2022-09-13 17:47:51 +02:00)\n"
     ]
    }
   ],
   "source": [
    "# blab init\n",
    "import blab\n",
    "startup_notebook = blab.blab_startup()\n",
    "%run $startup_notebook"
   ]
  },
  {
   "cell_type": "code",
   "execution_count": 5,
   "id": "10e73dfb-d6ed-429e-9a8c-eab2b239bf56",
   "metadata": {},
   "outputs": [
    {
     "name": "stdout",
     "output_type": "stream",
     "text": [
      "Nothing found\n",
      "time: 21.2 ms (started: 2022-09-13 17:47:51 +02:00)\n"
     ]
    }
   ],
   "source": [
    "search_notebooks('raise Stop', radius=0, exclude=['00','--','98','99',])"
   ]
  },
  {
   "cell_type": "code",
   "execution_count": 6,
   "id": "771cc4dd",
   "metadata": {},
   "outputs": [
    {
     "name": "stdout",
     "output_type": "stream",
     "text": [
      "Trying to run this 5 notebooks:\n",
      "         10_Files.ipynb                          \n",
      "         15_Human.ipynb                          \n",
      "         20_Iterable.ipynb                       \n",
      "         22_Object_Analysis.ipynb                \n",
      "         24_Strings.ipynb                        \n",
      "\n",
      "Running: 10_Files.ipynb                              2 secs\n",
      "Running: 15_Human.ipynb                              2 secs\n",
      "Running: 20_Iterable.ipynb                           2 secs\n",
      "Running: 22_Object_Analysis.ipynb                    4 secs\n",
      "Running: 24_Strings.ipynb                            2 secs\n",
      "============================================================ \n",
      "\n",
      "\n",
      "time: 15.5 s (started: 2022-09-13 17:47:51 +02:00)\n"
     ]
    }
   ],
   "source": [
    "run_notebooks( exclude=['99',], mode='force' )"
   ]
  },
  {
   "cell_type": "code",
   "execution_count": null,
   "id": "2c29c754-b181-4172-8580-bc58195e3843",
   "metadata": {},
   "outputs": [],
   "source": []
  }
 ],
 "metadata": {
  "kernelspec": {
   "display_name": "Python 3 (ipykernel)",
   "language": "python",
   "name": "python3"
  },
  "language_info": {
   "codemirror_mode": {
    "name": "ipython",
    "version": 3
   },
   "file_extension": ".py",
   "mimetype": "text/x-python",
   "name": "python",
   "nbconvert_exporter": "python",
   "pygments_lexer": "ipython3",
   "version": "3.8.12"
  }
 },
 "nbformat": 4,
 "nbformat_minor": 5
}
