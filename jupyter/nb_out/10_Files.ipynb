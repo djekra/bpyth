{
 "cells": [
  {
   "cell_type": "markdown",
   "id": "ade6e0ce-ab8d-4cd7-8ad6-c9f2f8f80411",
   "metadata": {},
   "source": [
    "# bpyth Files Tools\n",
    "* `dump_pickle`: open, dump, close\n",
    "* `load_pickle`: open, load, close\n",
    "* `StreamFiles`: Iterable, returns all filenames of a parent directory\n",
    "* `StreamLines`: Iterable, returns all lines of a text file"
   ]
  },
  {
   "cell_type": "code",
   "execution_count": 1,
   "id": "28383554-ed4c-4a7c-bd1f-adfb4a44db11",
   "metadata": {
    "execution": {
     "iopub.execute_input": "2022-09-17T10:42:46.863716Z",
     "iopub.status.busy": "2022-09-17T10:42:46.863208Z",
     "iopub.status.idle": "2022-09-17T10:42:47.719468Z",
     "shell.execute_reply": "2022-09-17T10:42:47.718837Z"
    }
   },
   "outputs": [
    {
     "name": "stdout",
     "output_type": "stream",
     "text": [
      "blab init\n",
      "blab found local libs at /media/me/DATA/Dropbox/31_Projekte/01_Python/libs\n",
      "Start Time: 12:42:46\n"
     ]
    },
    {
     "data": {
      "text/html": [
       "<img src onerror=\"var cell = this.closest('.jp-CodeCell');var editor = cell.querySelector('.jp-Editor');editor.style.background='Beige';this.parentNode.removeChild(this)\">"
      ],
      "text/plain": [
       "<IPython.core.display.HTML object>"
      ]
     },
     "metadata": {},
     "output_type": "display_data"
    },
    {
     "name": "stdout",
     "output_type": "stream",
     "text": [
      "time: 681 ms\n"
     ]
    }
   ],
   "source": [
    "# blab init\n",
    "import blab\n",
    "startup_notebook = blab.blab_startup()\n",
    "%run $startup_notebook"
   ]
  },
  {
   "cell_type": "code",
   "execution_count": 2,
   "id": "d8655d4e-a5ad-4103-82e5-cc5c1856ad59",
   "metadata": {
    "execution": {
     "iopub.execute_input": "2022-09-17T10:42:47.722789Z",
     "iopub.status.busy": "2022-09-17T10:42:47.722618Z",
     "iopub.status.idle": "2022-09-17T10:42:47.735382Z",
     "shell.execute_reply": "2022-09-17T10:42:47.734710Z"
    }
   },
   "outputs": [
    {
     "name": "stdout",
     "output_type": "stream",
     "text": [
      "time: 9.7 ms\n"
     ]
    }
   ],
   "source": [
    "import bpyth as bpy"
   ]
  },
  {
   "cell_type": "markdown",
   "id": "0e59c756-8307-430c-8953-280fbb3e111a",
   "metadata": {},
   "source": [
    "## dump_pickle and load_pickle"
   ]
  },
  {
   "cell_type": "code",
   "execution_count": 3,
   "id": "cc7211c8-013c-4b5b-b9c4-b26f8ccc4467",
   "metadata": {
    "execution": {
     "iopub.execute_input": "2022-09-17T10:42:47.738693Z",
     "iopub.status.busy": "2022-09-17T10:42:47.738471Z",
     "iopub.status.idle": "2022-09-17T10:42:47.843453Z",
     "shell.execute_reply": "2022-09-17T10:42:47.842854Z"
    },
    "tags": []
   },
   "outputs": [
    {
     "name": "stdout",
     "output_type": "stream",
     "text": [
      "time: 101 ms\n"
     ]
    }
   ],
   "source": [
    "?bpy.dump_pickle"
   ]
  },
  {
   "cell_type": "code",
   "execution_count": 4,
   "id": "d802e8cc-9c1b-4173-b116-b8081a8337c4",
   "metadata": {
    "execution": {
     "iopub.execute_input": "2022-09-17T10:42:47.846055Z",
     "iopub.status.busy": "2022-09-17T10:42:47.845889Z",
     "iopub.status.idle": "2022-09-17T10:42:47.859615Z",
     "shell.execute_reply": "2022-09-17T10:42:47.859049Z"
    },
    "tags": []
   },
   "outputs": [
    {
     "name": "stdout",
     "output_type": "stream",
     "text": [
      "time: 9.61 ms\n"
     ]
    }
   ],
   "source": [
    "?bpy.load_pickle"
   ]
  },
  {
   "cell_type": "code",
   "execution_count": 5,
   "id": "2714d195-83d4-4060-8507-07a2988e014e",
   "metadata": {
    "execution": {
     "iopub.execute_input": "2022-09-17T10:42:47.862394Z",
     "iopub.status.busy": "2022-09-17T10:42:47.862221Z",
     "iopub.status.idle": "2022-09-17T10:42:47.878834Z",
     "shell.execute_reply": "2022-09-17T10:42:47.878234Z"
    }
   },
   "outputs": [
    {
     "data": {
      "text/plain": [
       "[[1, 2, 'a'], [4, 5, 6], [7, (8, 9)], None]"
      ]
     },
     "execution_count": 5,
     "metadata": {},
     "output_type": "execute_result"
    },
    {
     "name": "stdout",
     "output_type": "stream",
     "text": [
      "time: 11.5 ms\n"
     ]
    }
   ],
   "source": [
    "o = [[1,2,'a'],[4,5,6], [7,(8,9,)], None ]\n",
    "o"
   ]
  },
  {
   "cell_type": "code",
   "execution_count": 6,
   "id": "992a287a-a057-461a-bfec-3e6f11d627e8",
   "metadata": {
    "execution": {
     "iopub.execute_input": "2022-09-17T10:42:47.881609Z",
     "iopub.status.busy": "2022-09-17T10:42:47.881391Z",
     "iopub.status.idle": "2022-09-17T10:42:47.915374Z",
     "shell.execute_reply": "2022-09-17T10:42:47.914806Z"
    }
   },
   "outputs": [
    {
     "name": "stdout",
     "output_type": "stream",
     "text": [
      "time: 29.9 ms\n"
     ]
    }
   ],
   "source": [
    "bpy.dump_pickle(o,'data/test_o.pickle')"
   ]
  },
  {
   "cell_type": "code",
   "execution_count": 7,
   "id": "ade519b7-680e-49e8-93b2-f81322d03da6",
   "metadata": {
    "execution": {
     "iopub.execute_input": "2022-09-17T10:42:47.918179Z",
     "iopub.status.busy": "2022-09-17T10:42:47.917959Z",
     "iopub.status.idle": "2022-09-17T10:42:47.930746Z",
     "shell.execute_reply": "2022-09-17T10:42:47.930213Z"
    }
   },
   "outputs": [
    {
     "name": "stdout",
     "output_type": "stream",
     "text": [
      "time: 9.1 ms\n"
     ]
    }
   ],
   "source": [
    "o2 = bpy.load_pickle('data/test_o.pickle')"
   ]
  },
  {
   "cell_type": "code",
   "execution_count": 8,
   "id": "b7a27684-04b1-4731-b444-d5be8478f87a",
   "metadata": {
    "execution": {
     "iopub.execute_input": "2022-09-17T10:42:47.933438Z",
     "iopub.status.busy": "2022-09-17T10:42:47.933110Z",
     "iopub.status.idle": "2022-09-17T10:42:47.947067Z",
     "shell.execute_reply": "2022-09-17T10:42:47.946455Z"
    }
   },
   "outputs": [
    {
     "name": "stdout",
     "output_type": "stream",
     "text": [
      "time: 10.1 ms\n"
     ]
    }
   ],
   "source": [
    "assert o == o2"
   ]
  },
  {
   "cell_type": "markdown",
   "id": "748f4876-1dc8-4141-81c1-4d2fc1297c9e",
   "metadata": {},
   "source": [
    "## StreamFiles"
   ]
  },
  {
   "cell_type": "code",
   "execution_count": 9,
   "id": "fe75030a-6c62-4732-8df5-5e25f34ffe65",
   "metadata": {
    "execution": {
     "iopub.execute_input": "2022-09-17T10:42:47.950004Z",
     "iopub.status.busy": "2022-09-17T10:42:47.949712Z",
     "iopub.status.idle": "2022-09-17T10:42:47.963478Z",
     "shell.execute_reply": "2022-09-17T10:42:47.962852Z"
    },
    "tags": []
   },
   "outputs": [
    {
     "name": "stdout",
     "output_type": "stream",
     "text": [
      "time: 9.72 ms\n"
     ]
    }
   ],
   "source": [
    "?bpy.StreamFiles"
   ]
  },
  {
   "cell_type": "code",
   "execution_count": 10,
   "id": "54a2a39c-c485-4e66-991f-9116bf2f209c",
   "metadata": {
    "execution": {
     "iopub.execute_input": "2022-09-17T10:42:47.966508Z",
     "iopub.status.busy": "2022-09-17T10:42:47.966078Z",
     "iopub.status.idle": "2022-09-17T10:42:47.980339Z",
     "shell.execute_reply": "2022-09-17T10:42:47.979738Z"
    }
   },
   "outputs": [
    {
     "data": {
      "text/plain": [
       "['data/dummy.pickle', 'data/test_o.pickle']"
      ]
     },
     "execution_count": 10,
     "metadata": {},
     "output_type": "execute_result"
    },
    {
     "name": "stdout",
     "output_type": "stream",
     "text": [
      "time: 10.9 ms\n"
     ]
    }
   ],
   "source": [
    "files = bpy.StreamFiles( 'data', 'pickle')\n",
    "list(files)"
   ]
  },
  {
   "cell_type": "code",
   "execution_count": 11,
   "id": "03f476cb-0c72-4340-bc3e-067b411f64ee",
   "metadata": {
    "execution": {
     "iopub.execute_input": "2022-09-17T10:42:47.985365Z",
     "iopub.status.busy": "2022-09-17T10:42:47.984916Z",
     "iopub.status.idle": "2022-09-17T10:42:47.999051Z",
     "shell.execute_reply": "2022-09-17T10:42:47.998390Z"
    }
   },
   "outputs": [
    {
     "name": "stdout",
     "output_type": "stream",
     "text": [
      "data/dummy.pickle\n",
      "data/test_o.pickle\n",
      "time: 9.32 ms\n"
     ]
    }
   ],
   "source": [
    "# iterate individually with iter and next\n",
    "\n",
    "i = iter(files) \n",
    "\n",
    "first_value = next( i )\n",
    "print(first_value)\n",
    "\n",
    "second_value = next( i )\n",
    "print(second_value)"
   ]
  },
  {
   "cell_type": "code",
   "execution_count": 12,
   "id": "6b8f4525-c554-4bb5-b9eb-698ddef19cc5",
   "metadata": {
    "execution": {
     "iopub.execute_input": "2022-09-17T10:42:48.002062Z",
     "iopub.status.busy": "2022-09-17T10:42:48.001869Z",
     "iopub.status.idle": "2022-09-17T10:42:48.015679Z",
     "shell.execute_reply": "2022-09-17T10:42:48.015122Z"
    }
   },
   "outputs": [
    {
     "name": "stdout",
     "output_type": "stream",
     "text": [
      "(0, 'data/dummy.pickle')\n",
      "(1, 'data/test_o.pickle')\n",
      "time: 10.4 ms\n"
     ]
    }
   ],
   "source": [
    "# iterate individually with enumerate and next\n",
    "\n",
    "i = enumerate(files) \n",
    "\n",
    "first_value = next( i )\n",
    "print(first_value)\n",
    "\n",
    "second_value = next( i )\n",
    "print(second_value)"
   ]
  },
  {
   "cell_type": "code",
   "execution_count": 13,
   "id": "2893e483-7984-4249-a694-758ae9143404",
   "metadata": {
    "execution": {
     "iopub.execute_input": "2022-09-17T10:42:48.018247Z",
     "iopub.status.busy": "2022-09-17T10:42:48.018043Z",
     "iopub.status.idle": "2022-09-17T10:42:48.030705Z",
     "shell.execute_reply": "2022-09-17T10:42:48.030082Z"
    }
   },
   "outputs": [
    {
     "name": "stdout",
     "output_type": "stream",
     "text": [
      "0 data/dummy.pickle\n",
      "1 data/test_o.pickle\n",
      "time: 9.4 ms\n"
     ]
    }
   ],
   "source": [
    "# all\n",
    "for nummer, fname_full in enumerate(files): \n",
    "    print(nummer, fname_full)\n",
    "    if nummer > 5:\n",
    "            break"
   ]
  },
  {
   "cell_type": "markdown",
   "id": "c757ccb2-1cd1-4369-825e-a4ffd2b59b46",
   "metadata": {},
   "source": [
    "## StreamLines"
   ]
  },
  {
   "cell_type": "code",
   "execution_count": 14,
   "id": "84a52306-0482-42a7-ae12-d5609c13530e",
   "metadata": {
    "execution": {
     "iopub.execute_input": "2022-09-17T10:42:48.033537Z",
     "iopub.status.busy": "2022-09-17T10:42:48.033313Z",
     "iopub.status.idle": "2022-09-17T10:42:48.047114Z",
     "shell.execute_reply": "2022-09-17T10:42:48.046459Z"
    },
    "tags": []
   },
   "outputs": [
    {
     "name": "stdout",
     "output_type": "stream",
     "text": [
      "time: 9.78 ms\n"
     ]
    }
   ],
   "source": [
    "?bpy.StreamLines"
   ]
  },
  {
   "cell_type": "code",
   "execution_count": 15,
   "id": "045a0a95-e80d-4313-a410-b41a7ce15ad8",
   "metadata": {
    "execution": {
     "iopub.execute_input": "2022-09-17T10:42:48.050144Z",
     "iopub.status.busy": "2022-09-17T10:42:48.049923Z",
     "iopub.status.idle": "2022-09-17T10:42:48.077236Z",
     "shell.execute_reply": "2022-09-17T10:42:48.076585Z"
    }
   },
   "outputs": [
    {
     "name": "stdout",
     "output_type": "stream",
     "text": [
      "0\tDamit Ihr indess erkennt, woher dieser ganze Irrthum gekommen ist, \n",
      "1\tund weshalb man die Lust anklagt und den Schmerz lobet, \n",
      "2\tso will ich Euch Alles eröffnen und auseinander setzen, \n",
      "3\twas jener Begründer der Wahrheit und gleichsam Baumeister des glücklichen Lebens selbst darüber gesagt hat. \n",
      "4\tNiemand, sagt er, verschmähe, oder hasse, oder fliehe die Lust als solche, \n",
      "5\tsondern weil grosse Schmerzen ihr folgen, wenn man nicht mit Vernunft ihr nachzugehen verstehe. \n",
      "6\tEbenso werde der Schmerz als solcher von Niemand geliebt, gesucht und verlangt, \n",
      "7\tsondern weil mitunter solche Zeiten eintreten,\n",
      "8\tdass man mittelst Arbeiten und Schmerzen eine grosse Lust sich zu verschaften suchen müsse. \n",
      "9\tUm hier gleich bei dem Einfachsten stehen zu bleiben, so würde Niemand von uns anstrengende körperliche Übungen vornehmen, \n",
      "10\twenn er nicht einen Vortheil davon erwartete. \n",
      "11\tWer dürfte aber wohl Den tadeln, der nach einer Lust verlangt, welcher keine Unannehmlichkeit folgt, \n",
      "12\toder der einem Schmerze ausweicht, aus dem keine Lust hervorgeht?time: 22.7 ms\n"
     ]
    }
   ],
   "source": [
    "buch = bpy.StreamLines( 'data/lorem_ipsum.txt')\n",
    "\n",
    "for nummer, line in enumerate(buch): \n",
    "    print(nummer, line, sep='\\t',end='')\n",
    "    if nummer > 25:\n",
    "            break"
   ]
  },
  {
   "cell_type": "code",
   "execution_count": null,
   "id": "f2ac892a-5746-453b-b335-bb45a7c2e632",
   "metadata": {},
   "outputs": [],
   "source": []
  }
 ],
 "metadata": {
  "kernelspec": {
   "display_name": "Python 3 (ipykernel)",
   "language": "python",
   "name": "python3"
  },
  "language_info": {
   "codemirror_mode": {
    "name": "ipython",
    "version": 3
   },
   "file_extension": ".py",
   "mimetype": "text/x-python",
   "name": "python",
   "nbconvert_exporter": "python",
   "pygments_lexer": "ipython3",
   "version": "3.9.13"
  }
 },
 "nbformat": 4,
 "nbformat_minor": 5
}
