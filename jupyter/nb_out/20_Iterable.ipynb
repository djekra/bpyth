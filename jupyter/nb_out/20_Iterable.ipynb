{
 "cells": [
  {
   "cell_type": "markdown",
   "metadata": {},
   "source": [
    "# bpyth Iterable Tools\n",
    "* `flatten`: Yield all items from any nested iterable\n",
    "* `remove_dups`: Remove dups from a list whilst-preserving-order\n",
    "* `sort_by_priority_list`: Sort a list by a list or tuple of prioritized objects\n",
    "* `cut_counter`: Truncates rare values of a counter\n",
    "* `ranking_from_counter`: Converts a counter into a ranking"
   ]
  },
  {
   "cell_type": "code",
   "execution_count": 1,
   "metadata": {
    "execution": {
     "iopub.execute_input": "2022-09-17T10:42:51.706773Z",
     "iopub.status.busy": "2022-09-17T10:42:51.706379Z",
     "iopub.status.idle": "2022-09-17T10:42:52.515898Z",
     "shell.execute_reply": "2022-09-17T10:42:52.515299Z"
    }
   },
   "outputs": [
    {
     "name": "stdout",
     "output_type": "stream",
     "text": [
      "blab init\n",
      "blab found local libs at /media/me/DATA/Dropbox/31_Projekte/01_Python/libs\n",
      "Start Time: 12:42:51\n"
     ]
    },
    {
     "data": {
      "text/html": [
       "<img src onerror=\"var cell = this.closest('.jp-CodeCell');var editor = cell.querySelector('.jp-Editor');editor.style.background='Beige';this.parentNode.removeChild(this)\">"
      ],
      "text/plain": [
       "<IPython.core.display.HTML object>"
      ]
     },
     "metadata": {},
     "output_type": "display_data"
    },
    {
     "name": "stdout",
     "output_type": "stream",
     "text": [
      "time: 648 ms\n"
     ]
    }
   ],
   "source": [
    "# blab init\n",
    "import blab\n",
    "startup_notebook = blab.blab_startup()\n",
    "%run $startup_notebook"
   ]
  },
  {
   "cell_type": "code",
   "execution_count": 2,
   "metadata": {
    "execution": {
     "iopub.execute_input": "2022-09-17T10:42:52.518512Z",
     "iopub.status.busy": "2022-09-17T10:42:52.518296Z",
     "iopub.status.idle": "2022-09-17T10:42:52.531383Z",
     "shell.execute_reply": "2022-09-17T10:42:52.530802Z"
    }
   },
   "outputs": [
    {
     "name": "stdout",
     "output_type": "stream",
     "text": [
      "time: 9.43 ms\n"
     ]
    }
   ],
   "source": [
    "import bpyth as bpy"
   ]
  },
  {
   "cell_type": "markdown",
   "metadata": {},
   "source": [
    "## flatten"
   ]
  },
  {
   "cell_type": "code",
   "execution_count": 3,
   "metadata": {
    "execution": {
     "iopub.execute_input": "2022-09-17T10:42:52.534108Z",
     "iopub.status.busy": "2022-09-17T10:42:52.533821Z",
     "iopub.status.idle": "2022-09-17T10:42:52.629465Z",
     "shell.execute_reply": "2022-09-17T10:42:52.628911Z"
    },
    "tags": []
   },
   "outputs": [
    {
     "name": "stdout",
     "output_type": "stream",
     "text": [
      "time: 91.6 ms\n"
     ]
    }
   ],
   "source": [
    "?bpy.flatten"
   ]
  },
  {
   "cell_type": "code",
   "execution_count": 4,
   "metadata": {
    "execution": {
     "iopub.execute_input": "2022-09-17T10:42:52.632216Z",
     "iopub.status.busy": "2022-09-17T10:42:52.631737Z",
     "iopub.status.idle": "2022-09-17T10:42:52.644715Z",
     "shell.execute_reply": "2022-09-17T10:42:52.644185Z"
    }
   },
   "outputs": [
    {
     "data": {
      "text/plain": [
       "[[1, 2, 3], [4, 5, 6], [7, (8, 9)], None]"
      ]
     },
     "execution_count": 4,
     "metadata": {},
     "output_type": "execute_result"
    },
    {
     "name": "stdout",
     "output_type": "stream",
     "text": [
      "time: 9.76 ms\n"
     ]
    }
   ],
   "source": [
    "list2d = [[1,2,3],[4,5,6], [7,(8,9,)], None ]\n",
    "list2d"
   ]
  },
  {
   "cell_type": "code",
   "execution_count": 5,
   "metadata": {
    "execution": {
     "iopub.execute_input": "2022-09-17T10:42:52.647266Z",
     "iopub.status.busy": "2022-09-17T10:42:52.647052Z",
     "iopub.status.idle": "2022-09-17T10:42:52.660709Z",
     "shell.execute_reply": "2022-09-17T10:42:52.660181Z"
    }
   },
   "outputs": [
    {
     "data": {
      "text/plain": [
       "[1, 2, 3, 4, 5, 6, 7, 8, 9, None]"
      ]
     },
     "execution_count": 5,
     "metadata": {},
     "output_type": "execute_result"
    },
    {
     "name": "stdout",
     "output_type": "stream",
     "text": [
      "time: 10.8 ms\n"
     ]
    }
   ],
   "source": [
    "list(bpy.flatten(list2d))"
   ]
  },
  {
   "cell_type": "code",
   "execution_count": 6,
   "metadata": {
    "execution": {
     "iopub.execute_input": "2022-09-17T10:42:52.663406Z",
     "iopub.status.busy": "2022-09-17T10:42:52.663038Z",
     "iopub.status.idle": "2022-09-17T10:42:52.676922Z",
     "shell.execute_reply": "2022-09-17T10:42:52.676392Z"
    }
   },
   "outputs": [
    {
     "data": {
      "text/plain": [
       "<generator object flatten at 0x7fab3dcaf200>"
      ]
     },
     "execution_count": 6,
     "metadata": {},
     "output_type": "execute_result"
    },
    {
     "name": "stdout",
     "output_type": "stream",
     "text": [
      "time: 10.9 ms\n"
     ]
    }
   ],
   "source": [
    "bpy.flatten(list2d)"
   ]
  },
  {
   "cell_type": "markdown",
   "metadata": {},
   "source": [
    "## remove_dups"
   ]
  },
  {
   "cell_type": "code",
   "execution_count": 7,
   "metadata": {
    "execution": {
     "iopub.execute_input": "2022-09-17T10:42:52.679688Z",
     "iopub.status.busy": "2022-09-17T10:42:52.679275Z",
     "iopub.status.idle": "2022-09-17T10:42:52.694028Z",
     "shell.execute_reply": "2022-09-17T10:42:52.693401Z"
    }
   },
   "outputs": [
    {
     "name": "stdout",
     "output_type": "stream",
     "text": [
      "time: 10.5 ms\n"
     ]
    }
   ],
   "source": [
    "?bpy.remove_dups"
   ]
  },
  {
   "cell_type": "code",
   "execution_count": 8,
   "metadata": {
    "execution": {
     "iopub.execute_input": "2022-09-17T10:42:52.696816Z",
     "iopub.status.busy": "2022-09-17T10:42:52.696587Z",
     "iopub.status.idle": "2022-09-17T10:42:52.711657Z",
     "shell.execute_reply": "2022-09-17T10:42:52.711155Z"
    }
   },
   "outputs": [
    {
     "data": {
      "text/plain": [
       "['a', 'q', 3, (1, 2)]"
      ]
     },
     "execution_count": 8,
     "metadata": {},
     "output_type": "execute_result"
    },
    {
     "name": "stdout",
     "output_type": "stream",
     "text": [
      "time: 10.4 ms\n"
     ]
    }
   ],
   "source": [
    "list_with_dups = ['a','q', 3, 3, 'q', (1,2), 'a', (1,2)]\n",
    "bpy.remove_dups(list_with_dups)"
   ]
  },
  {
   "cell_type": "markdown",
   "metadata": {},
   "source": [
    "## sort_by_priority_list"
   ]
  },
  {
   "cell_type": "code",
   "execution_count": 9,
   "metadata": {
    "execution": {
     "iopub.execute_input": "2022-09-17T10:42:52.714415Z",
     "iopub.status.busy": "2022-09-17T10:42:52.714083Z",
     "iopub.status.idle": "2022-09-17T10:42:52.727543Z",
     "shell.execute_reply": "2022-09-17T10:42:52.726989Z"
    }
   },
   "outputs": [
    {
     "name": "stdout",
     "output_type": "stream",
     "text": [
      "time: 9.58 ms\n"
     ]
    }
   ],
   "source": [
    "?bpy.sort_by_priority_list"
   ]
  },
  {
   "cell_type": "code",
   "execution_count": 10,
   "metadata": {
    "execution": {
     "iopub.execute_input": "2022-09-17T10:42:52.730203Z",
     "iopub.status.busy": "2022-09-17T10:42:52.729917Z",
     "iopub.status.idle": "2022-09-17T10:42:52.743074Z",
     "shell.execute_reply": "2022-09-17T10:42:52.742559Z"
    }
   },
   "outputs": [
    {
     "data": {
      "text/plain": [
       "'uoooiieea Lrm psm dlr st mt'"
      ]
     },
     "execution_count": 10,
     "metadata": {},
     "output_type": "execute_result"
    },
    {
     "name": "stdout",
     "output_type": "stream",
     "text": [
      "time: 10.1 ms\n"
     ]
    }
   ],
   "source": [
    "my_priorities = list('uoiea')\n",
    "list_to_sort  = list(' Lorem ipsum dolor sit amet')\n",
    "result = bpy.sort_by_priority_list( list_to_sort, my_priorities )\n",
    "''.join(result)"
   ]
  },
  {
   "cell_type": "markdown",
   "metadata": {},
   "source": [
    "## cut_counter"
   ]
  },
  {
   "cell_type": "code",
   "execution_count": 11,
   "metadata": {
    "execution": {
     "iopub.execute_input": "2022-09-17T10:42:52.745727Z",
     "iopub.status.busy": "2022-09-17T10:42:52.745426Z",
     "iopub.status.idle": "2022-09-17T10:42:52.759277Z",
     "shell.execute_reply": "2022-09-17T10:42:52.758672Z"
    }
   },
   "outputs": [
    {
     "name": "stdout",
     "output_type": "stream",
     "text": [
      "time: 9.67 ms\n"
     ]
    }
   ],
   "source": [
    "?bpy.cut_counter"
   ]
  },
  {
   "cell_type": "code",
   "execution_count": 12,
   "metadata": {
    "execution": {
     "iopub.execute_input": "2022-09-17T10:42:52.761988Z",
     "iopub.status.busy": "2022-09-17T10:42:52.761805Z",
     "iopub.status.idle": "2022-09-17T10:42:52.775315Z",
     "shell.execute_reply": "2022-09-17T10:42:52.774800Z"
    }
   },
   "outputs": [
    {
     "data": {
      "text/plain": [
       "Counter({'L': 1,\n",
       "         'o': 17,\n",
       "         'r': 12,\n",
       "         'e': 21,\n",
       "         'm': 12,\n",
       "         ' ': 35,\n",
       "         'i': 11,\n",
       "         'p': 4,\n",
       "         's': 11,\n",
       "         'u': 12,\n",
       "         'd': 11,\n",
       "         'l': 7,\n",
       "         't': 16,\n",
       "         'a': 14,\n",
       "         ',': 3,\n",
       "         'c': 4,\n",
       "         'n': 7,\n",
       "         'g': 2,\n",
       "         'y': 2,\n",
       "         'v': 3,\n",
       "         'b': 2,\n",
       "         'q': 1,\n",
       "         '.': 2,\n",
       "         'A': 1,\n",
       "         'j': 1})"
      ]
     },
     "execution_count": 12,
     "metadata": {},
     "output_type": "execute_result"
    },
    {
     "name": "stdout",
     "output_type": "stream",
     "text": [
      "time: 10.8 ms\n"
     ]
    }
   ],
   "source": [
    "from collections import Counter\n",
    "c = Counter('Lorem ipsum dolor sit amet, consetetur sadipscing elitr, sed diam nonumy eirmod tempor invidunt ut labore et dolore magna aliquyam erat, sed diam voluptua. At vero eos et accusam et justo duo dolores et ea rebum.')\n",
    "c"
   ]
  },
  {
   "cell_type": "code",
   "execution_count": 13,
   "metadata": {
    "execution": {
     "iopub.execute_input": "2022-09-17T10:42:52.778174Z",
     "iopub.status.busy": "2022-09-17T10:42:52.777821Z",
     "iopub.status.idle": "2022-09-17T10:42:52.790926Z",
     "shell.execute_reply": "2022-09-17T10:42:52.790385Z"
    }
   },
   "outputs": [
    {
     "data": {
      "text/plain": [
       "Counter({'o': 17,\n",
       "         'r': 12,\n",
       "         'e': 21,\n",
       "         'm': 12,\n",
       "         ' ': 35,\n",
       "         'i': 11,\n",
       "         'p': 4,\n",
       "         's': 11,\n",
       "         'u': 12,\n",
       "         'd': 11,\n",
       "         'l': 7,\n",
       "         't': 16,\n",
       "         'a': 14,\n",
       "         ',': 3,\n",
       "         'c': 4,\n",
       "         'n': 7,\n",
       "         'v': 3})"
      ]
     },
     "execution_count": 13,
     "metadata": {},
     "output_type": "execute_result"
    },
    {
     "name": "stdout",
     "output_type": "stream",
     "text": [
      "time: 10.1 ms\n"
     ]
    }
   ],
   "source": [
    "bpy.cut_counter(c, 1)"
   ]
  },
  {
   "cell_type": "markdown",
   "metadata": {},
   "source": [
    "## ranking_from_counter"
   ]
  },
  {
   "cell_type": "code",
   "execution_count": 14,
   "metadata": {
    "execution": {
     "iopub.execute_input": "2022-09-17T10:42:52.794974Z",
     "iopub.status.busy": "2022-09-17T10:42:52.794493Z",
     "iopub.status.idle": "2022-09-17T10:42:52.808812Z",
     "shell.execute_reply": "2022-09-17T10:42:52.808113Z"
    }
   },
   "outputs": [
    {
     "name": "stdout",
     "output_type": "stream",
     "text": [
      "time: 9.65 ms\n"
     ]
    }
   ],
   "source": [
    "?bpy.ranking_from_counter"
   ]
  },
  {
   "cell_type": "code",
   "execution_count": 15,
   "metadata": {
    "execution": {
     "iopub.execute_input": "2022-09-17T10:42:52.811653Z",
     "iopub.status.busy": "2022-09-17T10:42:52.811415Z",
     "iopub.status.idle": "2022-09-17T10:42:52.825199Z",
     "shell.execute_reply": "2022-09-17T10:42:52.824673Z"
    }
   },
   "outputs": [
    {
     "data": {
      "text/plain": [
       "{' ': 0,\n",
       " 'e': 1,\n",
       " 'o': 2,\n",
       " 't': 3,\n",
       " 'a': 4,\n",
       " 'r': 5,\n",
       " 'm': 6,\n",
       " 'u': 7,\n",
       " 'i': 8,\n",
       " 's': 9,\n",
       " 'd': 10,\n",
       " 'l': 11,\n",
       " 'n': 12,\n",
       " 'p': 13,\n",
       " 'c': 14,\n",
       " ',': 15,\n",
       " 'v': 16,\n",
       " 'g': 17,\n",
       " 'y': 18,\n",
       " 'b': 19,\n",
       " '.': 20,\n",
       " 'L': 21,\n",
       " 'q': 22,\n",
       " 'A': 23,\n",
       " 'j': 24}"
      ]
     },
     "execution_count": 15,
     "metadata": {},
     "output_type": "execute_result"
    },
    {
     "name": "stdout",
     "output_type": "stream",
     "text": [
      "time: 11 ms\n"
     ]
    }
   ],
   "source": [
    "from collections import Counter\n",
    "c = Counter('Lorem ipsum dolor sit amet, consetetur sadipscing elitr, sed diam nonumy eirmod tempor invidunt ut labore et dolore magna aliquyam erat, sed diam voluptua. At vero eos et accusam et justo duo dolores et ea rebum.')\n",
    "bpy.ranking_from_counter(c)"
   ]
  },
  {
   "cell_type": "code",
   "execution_count": null,
   "metadata": {},
   "outputs": [],
   "source": []
  }
 ],
 "metadata": {
  "kernelspec": {
   "display_name": "Python 3 (ipykernel)",
   "language": "python",
   "name": "python3"
  },
  "language_info": {
   "codemirror_mode": {
    "name": "ipython",
    "version": 3
   },
   "file_extension": ".py",
   "mimetype": "text/x-python",
   "name": "python",
   "nbconvert_exporter": "python",
   "pygments_lexer": "ipython3",
   "version": "3.9.13"
  }
 },
 "nbformat": 4,
 "nbformat_minor": 4
}
