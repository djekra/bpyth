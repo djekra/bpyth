{
 "cells": [
  {
   "cell_type": "code",
   "execution_count": 1,
   "metadata": {
    "execution": {
     "iopub.execute_input": "2022-10-31T17:35:55.070351Z",
     "iopub.status.busy": "2022-10-31T17:35:55.070064Z",
     "iopub.status.idle": "2022-10-31T17:35:55.732832Z",
     "shell.execute_reply": "2022-10-31T17:35:55.732190Z"
    }
   },
   "outputs": [
    {
     "name": "stdout",
     "output_type": "stream",
     "text": [
      "blab init\n",
      "blab found local libs at /media/me/DATA/Dropbox/31_Projekte/01_Python/libs\n",
      "Start Time: 18:35:55\n"
     ]
    },
    {
     "data": {
      "text/html": [
       "<img src onerror=\"var cell = this.closest('.jp-CodeCell');var editor = cell.querySelector('.jp-Editor');editor.style.background='Beige';this.parentNode.removeChild(this)\">"
      ],
      "text/plain": [
       "<IPython.core.display.HTML object>"
      ]
     },
     "metadata": {},
     "output_type": "display_data"
    },
    {
     "name": "stdout",
     "output_type": "stream",
     "text": [
      "time: 468 ms (started: 2022-10-31 18:35:55 +01:00)\n"
     ]
    }
   ],
   "source": [
    "# blab init\n",
    "try:\n",
    "    import blab\n",
    "    startup_notebook = blab.blab_startup()\n",
    "    %run $startup_notebook\n",
    "except:\n",
    "    pass"
   ]
  },
  {
   "cell_type": "markdown",
   "metadata": {},
   "source": [
    "# bpyth Iterable Tools\n",
    "* `flatten`: Yield all items from any nested iterable\n",
    "* `remove_dups`: Remove dups from a list whilst-preserving-order\n",
    "* `sort_by_priority_list`: Sort a list by a list or tuple of prioritized objects\n",
    "* `cut_counter`: Truncates rare values of a counter\n",
    "* `ranking_from_counter`: Converts a counter into a ranking"
   ]
  },
  {
   "cell_type": "code",
   "execution_count": 2,
   "metadata": {
    "execution": {
     "iopub.execute_input": "2022-10-31T17:35:55.736283Z",
     "iopub.status.busy": "2022-10-31T17:35:55.735810Z",
     "iopub.status.idle": "2022-10-31T17:35:55.749641Z",
     "shell.execute_reply": "2022-10-31T17:35:55.749011Z"
    }
   },
   "outputs": [
    {
     "name": "stdout",
     "output_type": "stream",
     "text": [
      "time: 9.78 ms (started: 2022-10-31 18:35:55 +01:00)\n"
     ]
    }
   ],
   "source": [
    "import bpyth as bpy"
   ]
  },
  {
   "cell_type": "markdown",
   "metadata": {},
   "source": [
    "## flatten"
   ]
  },
  {
   "cell_type": "code",
   "execution_count": 3,
   "metadata": {
    "execution": {
     "iopub.execute_input": "2022-10-31T17:35:55.752730Z",
     "iopub.status.busy": "2022-10-31T17:35:55.752428Z",
     "iopub.status.idle": "2022-10-31T17:35:55.802253Z",
     "shell.execute_reply": "2022-10-31T17:35:55.801611Z"
    },
    "tags": []
   },
   "outputs": [
    {
     "name": "stdout",
     "output_type": "stream",
     "text": [
      "time: 45.7 ms (started: 2022-10-31 18:35:55 +01:00)\n"
     ]
    }
   ],
   "source": [
    "?bpy.flatten"
   ]
  },
  {
   "cell_type": "code",
   "execution_count": 4,
   "metadata": {
    "execution": {
     "iopub.execute_input": "2022-10-31T17:35:55.805368Z",
     "iopub.status.busy": "2022-10-31T17:35:55.805119Z",
     "iopub.status.idle": "2022-10-31T17:35:55.818742Z",
     "shell.execute_reply": "2022-10-31T17:35:55.818193Z"
    }
   },
   "outputs": [
    {
     "data": {
      "text/plain": [
       "[[1, 2, 3], [4, 5, 6], [7, (8, 9)], None]"
      ]
     },
     "execution_count": 4,
     "metadata": {},
     "output_type": "execute_result"
    },
    {
     "name": "stdout",
     "output_type": "stream",
     "text": [
      "time: 10.5 ms (started: 2022-10-31 18:35:55 +01:00)\n"
     ]
    }
   ],
   "source": [
    "list2d = [[1,2,3],[4,5,6], [7,(8,9,)], None ]\n",
    "list2d"
   ]
  },
  {
   "cell_type": "code",
   "execution_count": 5,
   "metadata": {
    "execution": {
     "iopub.execute_input": "2022-10-31T17:35:55.821661Z",
     "iopub.status.busy": "2022-10-31T17:35:55.821123Z",
     "iopub.status.idle": "2022-10-31T17:35:55.836406Z",
     "shell.execute_reply": "2022-10-31T17:35:55.835863Z"
    }
   },
   "outputs": [
    {
     "data": {
      "text/plain": [
       "[1, 2, 3, 4, 5, 6, 7, 8, 9, None]"
      ]
     },
     "execution_count": 5,
     "metadata": {},
     "output_type": "execute_result"
    },
    {
     "name": "stdout",
     "output_type": "stream",
     "text": [
      "time: 10 ms (started: 2022-10-31 18:35:55 +01:00)\n"
     ]
    }
   ],
   "source": [
    "list(bpy.flatten(list2d))"
   ]
  },
  {
   "cell_type": "code",
   "execution_count": 6,
   "metadata": {
    "execution": {
     "iopub.execute_input": "2022-10-31T17:35:55.839462Z",
     "iopub.status.busy": "2022-10-31T17:35:55.839161Z",
     "iopub.status.idle": "2022-10-31T17:35:55.852099Z",
     "shell.execute_reply": "2022-10-31T17:35:55.851553Z"
    }
   },
   "outputs": [
    {
     "data": {
      "text/plain": [
       "<generator object flatten at 0x7f758d52a190>"
      ]
     },
     "execution_count": 6,
     "metadata": {},
     "output_type": "execute_result"
    },
    {
     "name": "stdout",
     "output_type": "stream",
     "text": [
      "time: 9.95 ms (started: 2022-10-31 18:35:55 +01:00)\n"
     ]
    }
   ],
   "source": [
    "bpy.flatten(list2d)"
   ]
  },
  {
   "cell_type": "markdown",
   "metadata": {},
   "source": [
    "## remove_dups"
   ]
  },
  {
   "cell_type": "code",
   "execution_count": 7,
   "metadata": {
    "execution": {
     "iopub.execute_input": "2022-10-31T17:35:55.855059Z",
     "iopub.status.busy": "2022-10-31T17:35:55.854674Z",
     "iopub.status.idle": "2022-10-31T17:35:55.868652Z",
     "shell.execute_reply": "2022-10-31T17:35:55.868000Z"
    }
   },
   "outputs": [
    {
     "name": "stdout",
     "output_type": "stream",
     "text": [
      "time: 9.76 ms (started: 2022-10-31 18:35:55 +01:00)\n"
     ]
    }
   ],
   "source": [
    "?bpy.remove_dups"
   ]
  },
  {
   "cell_type": "code",
   "execution_count": 8,
   "metadata": {
    "execution": {
     "iopub.execute_input": "2022-10-31T17:35:55.871644Z",
     "iopub.status.busy": "2022-10-31T17:35:55.871401Z",
     "iopub.status.idle": "2022-10-31T17:35:55.885552Z",
     "shell.execute_reply": "2022-10-31T17:35:55.884994Z"
    }
   },
   "outputs": [
    {
     "data": {
      "text/plain": [
       "['a', 'q', 3, (1, 2)]"
      ]
     },
     "execution_count": 8,
     "metadata": {},
     "output_type": "execute_result"
    },
    {
     "name": "stdout",
     "output_type": "stream",
     "text": [
      "time: 11.2 ms (started: 2022-10-31 18:35:55 +01:00)\n"
     ]
    }
   ],
   "source": [
    "list_with_dups = ['a','q', 3, 3, 'q', (1,2), 'a', (1,2)]\n",
    "bpy.remove_dups(list_with_dups)"
   ]
  },
  {
   "cell_type": "markdown",
   "metadata": {},
   "source": [
    "## sort_by_priority_list"
   ]
  },
  {
   "cell_type": "code",
   "execution_count": 9,
   "metadata": {
    "execution": {
     "iopub.execute_input": "2022-10-31T17:35:55.888456Z",
     "iopub.status.busy": "2022-10-31T17:35:55.888077Z",
     "iopub.status.idle": "2022-10-31T17:35:55.902013Z",
     "shell.execute_reply": "2022-10-31T17:35:55.901350Z"
    }
   },
   "outputs": [
    {
     "name": "stdout",
     "output_type": "stream",
     "text": [
      "time: 9.7 ms (started: 2022-10-31 18:35:55 +01:00)\n"
     ]
    }
   ],
   "source": [
    "?bpy.sort_by_priority_list"
   ]
  },
  {
   "cell_type": "code",
   "execution_count": 10,
   "metadata": {
    "execution": {
     "iopub.execute_input": "2022-10-31T17:35:55.905121Z",
     "iopub.status.busy": "2022-10-31T17:35:55.904820Z",
     "iopub.status.idle": "2022-10-31T17:35:55.918782Z",
     "shell.execute_reply": "2022-10-31T17:35:55.918156Z"
    }
   },
   "outputs": [
    {
     "data": {
      "text/plain": [
       "'uoooiieea Lrm psm dlr st mt'"
      ]
     },
     "execution_count": 10,
     "metadata": {},
     "output_type": "execute_result"
    },
    {
     "name": "stdout",
     "output_type": "stream",
     "text": [
      "time: 10 ms (started: 2022-10-31 18:35:55 +01:00)\n"
     ]
    }
   ],
   "source": [
    "my_priorities = list('uoiea')\n",
    "list_to_sort  = list(' Lorem ipsum dolor sit amet')\n",
    "result = bpy.sort_by_priority_list( list_to_sort, my_priorities )\n",
    "''.join(result)"
   ]
  },
  {
   "cell_type": "markdown",
   "metadata": {},
   "source": [
    "## cut_counter"
   ]
  },
  {
   "cell_type": "code",
   "execution_count": 11,
   "metadata": {
    "execution": {
     "iopub.execute_input": "2022-10-31T17:35:55.921629Z",
     "iopub.status.busy": "2022-10-31T17:35:55.921342Z",
     "iopub.status.idle": "2022-10-31T17:35:55.935090Z",
     "shell.execute_reply": "2022-10-31T17:35:55.934438Z"
    }
   },
   "outputs": [
    {
     "name": "stdout",
     "output_type": "stream",
     "text": [
      "time: 9.66 ms (started: 2022-10-31 18:35:55 +01:00)\n"
     ]
    }
   ],
   "source": [
    "?bpy.cut_counter"
   ]
  },
  {
   "cell_type": "code",
   "execution_count": 12,
   "metadata": {
    "execution": {
     "iopub.execute_input": "2022-10-31T17:35:55.937994Z",
     "iopub.status.busy": "2022-10-31T17:35:55.937749Z",
     "iopub.status.idle": "2022-10-31T17:35:55.953480Z",
     "shell.execute_reply": "2022-10-31T17:35:55.952794Z"
    }
   },
   "outputs": [
    {
     "data": {
      "text/plain": [
       "Counter({'L': 1,\n",
       "         'o': 17,\n",
       "         'r': 12,\n",
       "         'e': 21,\n",
       "         'm': 12,\n",
       "         ' ': 35,\n",
       "         'i': 11,\n",
       "         'p': 4,\n",
       "         's': 11,\n",
       "         'u': 12,\n",
       "         'd': 11,\n",
       "         'l': 7,\n",
       "         't': 16,\n",
       "         'a': 14,\n",
       "         ',': 3,\n",
       "         'c': 4,\n",
       "         'n': 7,\n",
       "         'g': 2,\n",
       "         'y': 2,\n",
       "         'v': 3,\n",
       "         'b': 2,\n",
       "         'q': 1,\n",
       "         '.': 2,\n",
       "         'A': 1,\n",
       "         'j': 1})"
      ]
     },
     "execution_count": 12,
     "metadata": {},
     "output_type": "execute_result"
    },
    {
     "name": "stdout",
     "output_type": "stream",
     "text": [
      "time: 10.7 ms (started: 2022-10-31 18:35:55 +01:00)\n"
     ]
    }
   ],
   "source": [
    "from collections import Counter\n",
    "c = Counter('Lorem ipsum dolor sit amet, consetetur sadipscing elitr, sed diam nonumy eirmod tempor invidunt ut labore et dolore magna aliquyam erat, sed diam voluptua. At vero eos et accusam et justo duo dolores et ea rebum.')\n",
    "c"
   ]
  },
  {
   "cell_type": "code",
   "execution_count": 13,
   "metadata": {
    "execution": {
     "iopub.execute_input": "2022-10-31T17:35:55.956918Z",
     "iopub.status.busy": "2022-10-31T17:35:55.956402Z",
     "iopub.status.idle": "2022-10-31T17:35:55.971211Z",
     "shell.execute_reply": "2022-10-31T17:35:55.970628Z"
    }
   },
   "outputs": [
    {
     "data": {
      "text/plain": [
       "Counter({'o': 17,\n",
       "         'r': 12,\n",
       "         'e': 21,\n",
       "         'm': 12,\n",
       "         ' ': 35,\n",
       "         'i': 11,\n",
       "         'p': 4,\n",
       "         's': 11,\n",
       "         'u': 12,\n",
       "         'd': 11,\n",
       "         'l': 7,\n",
       "         't': 16,\n",
       "         'a': 14,\n",
       "         ',': 3,\n",
       "         'c': 4,\n",
       "         'n': 7,\n",
       "         'v': 3})"
      ]
     },
     "execution_count": 13,
     "metadata": {},
     "output_type": "execute_result"
    },
    {
     "name": "stdout",
     "output_type": "stream",
     "text": [
      "time: 11.5 ms (started: 2022-10-31 18:35:55 +01:00)\n"
     ]
    }
   ],
   "source": [
    "bpy.cut_counter(c, 1)"
   ]
  },
  {
   "cell_type": "markdown",
   "metadata": {},
   "source": [
    "## ranking_from_counter"
   ]
  },
  {
   "cell_type": "code",
   "execution_count": 14,
   "metadata": {
    "execution": {
     "iopub.execute_input": "2022-10-31T17:35:55.974226Z",
     "iopub.status.busy": "2022-10-31T17:35:55.973798Z",
     "iopub.status.idle": "2022-10-31T17:35:55.988337Z",
     "shell.execute_reply": "2022-10-31T17:35:55.987700Z"
    }
   },
   "outputs": [
    {
     "name": "stdout",
     "output_type": "stream",
     "text": [
      "time: 10 ms (started: 2022-10-31 18:35:55 +01:00)\n"
     ]
    }
   ],
   "source": [
    "?bpy.ranking_from_counter"
   ]
  },
  {
   "cell_type": "code",
   "execution_count": 15,
   "metadata": {
    "execution": {
     "iopub.execute_input": "2022-10-31T17:35:55.991266Z",
     "iopub.status.busy": "2022-10-31T17:35:55.990964Z",
     "iopub.status.idle": "2022-10-31T17:35:56.004589Z",
     "shell.execute_reply": "2022-10-31T17:35:56.004035Z"
    }
   },
   "outputs": [
    {
     "data": {
      "text/plain": [
       "{' ': 0,\n",
       " 'e': 1,\n",
       " 'o': 2,\n",
       " 't': 3,\n",
       " 'a': 4,\n",
       " 'r': 5,\n",
       " 'm': 6,\n",
       " 'u': 7,\n",
       " 'i': 8,\n",
       " 's': 9,\n",
       " 'd': 10,\n",
       " 'l': 11,\n",
       " 'n': 12,\n",
       " 'p': 13,\n",
       " 'c': 14,\n",
       " ',': 15,\n",
       " 'v': 16,\n",
       " 'g': 17,\n",
       " 'y': 18,\n",
       " 'b': 19,\n",
       " '.': 20,\n",
       " 'L': 21,\n",
       " 'q': 22,\n",
       " 'A': 23,\n",
       " 'j': 24}"
      ]
     },
     "execution_count": 15,
     "metadata": {},
     "output_type": "execute_result"
    },
    {
     "name": "stdout",
     "output_type": "stream",
     "text": [
      "time: 10.7 ms (started: 2022-10-31 18:35:55 +01:00)\n"
     ]
    }
   ],
   "source": [
    "from collections import Counter\n",
    "c = Counter('Lorem ipsum dolor sit amet, consetetur sadipscing elitr, sed diam nonumy eirmod tempor invidunt ut labore et dolore magna aliquyam erat, sed diam voluptua. At vero eos et accusam et justo duo dolores et ea rebum.')\n",
    "bpy.ranking_from_counter(c)"
   ]
  },
  {
   "cell_type": "code",
   "execution_count": null,
   "metadata": {},
   "outputs": [],
   "source": []
  }
 ],
 "metadata": {
  "kernelspec": {
   "display_name": "Python 3 (ipykernel)",
   "language": "python",
   "name": "python3"
  },
  "language_info": {
   "codemirror_mode": {
    "name": "ipython",
    "version": 3
   },
   "file_extension": ".py",
   "mimetype": "text/x-python",
   "name": "python",
   "nbconvert_exporter": "python",
   "pygments_lexer": "ipython3",
   "version": "3.9.13"
  }
 },
 "nbformat": 4,
 "nbformat_minor": 4
}
