{
 "cells": [
  {
   "cell_type": "markdown",
   "metadata": {},
   "source": [
    "__[Open and try this file online (Colab)](https://colab.research.google.com/github/djekra/bpyth/blob/master/jupyter/20_Iterable.ipynb)__"
   ]
  },
  {
   "cell_type": "markdown",
   "metadata": {},
   "source": [
    "# bpyth Iterable Tools\n",
    "* `minivenn`: Compare two sets\n",
    "* `flatten`: Yield all items from any nested iterable\n",
    "* `remove_dups`: Remove dups from a list whilst-preserving-order\n",
    "* `sort_by_priority_list`: Sort a list by a list or tuple of prioritized objects\n",
    "* `cut_counter`: Truncates rare values of a counter\n",
    "* `ranking_from_counter`: Converts a counter into a ranking"
   ]
  },
  {
   "cell_type": "code",
   "execution_count": 1,
   "metadata": {
    "execution": {
     "iopub.execute_input": "2025-03-20T17:04:27.618321Z",
     "iopub.status.busy": "2025-03-20T17:04:27.616431Z",
     "iopub.status.idle": "2025-03-20T17:04:28.732514Z",
     "shell.execute_reply": "2025-03-20T17:04:28.732514Z"
    }
   },
   "outputs": [
    {
     "name": "stdout",
     "output_type": "stream",
     "text": [
      "blab init\n",
      "environment['in_colab']     = False\n",
      "environment['dropbox_path'] = D:\\Dropbox\n",
      "environment['lib_path']     = D:\\Dropbox\\31_Projekte\\01_Python\\libs\n",
      "Start Time: 18:04:27\n"
     ]
    },
    {
     "data": {
      "text/html": [
       "<img src onerror=\"var cell = this.closest('.jp-CodeCell');var editor = cell.querySelector('.jp-Editor');editor.style.background='Beige';this.parentNode.removeChild(this)\">"
      ],
      "text/plain": [
       "<IPython.core.display.HTML object>"
      ]
     },
     "metadata": {},
     "output_type": "display_data"
    }
   ],
   "source": [
    "# blab init\n",
    "try:\n",
    "    import blab\n",
    "except ImportError as e:\n",
    "    !pip install blab\n",
    "    import blab    \n",
    "startup_notebook = blab.blab_startup()\n",
    "%run $startup_notebook "
   ]
  },
  {
   "cell_type": "code",
   "execution_count": 2,
   "metadata": {
    "execution": {
     "iopub.execute_input": "2025-03-20T17:04:28.734635Z",
     "iopub.status.busy": "2025-03-20T17:04:28.734635Z",
     "iopub.status.idle": "2025-03-20T17:04:28.879789Z",
     "shell.execute_reply": "2025-03-20T17:04:28.879789Z"
    }
   },
   "outputs": [],
   "source": [
    "import bpyth as bpy"
   ]
  },
  {
   "cell_type": "markdown",
   "metadata": {},
   "source": [
    "## minivenn"
   ]
  },
  {
   "cell_type": "code",
   "execution_count": 3,
   "metadata": {
    "execution": {
     "iopub.execute_input": "2025-03-20T17:04:28.882799Z",
     "iopub.status.busy": "2025-03-20T17:04:28.882799Z",
     "iopub.status.idle": "2025-03-20T17:04:29.056336Z",
     "shell.execute_reply": "2025-03-20T17:04:29.055906Z"
    }
   },
   "outputs": [],
   "source": [
    "?bpy.minivenn"
   ]
  },
  {
   "cell_type": "code",
   "execution_count": 4,
   "metadata": {
    "execution": {
     "iopub.execute_input": "2025-03-20T17:04:29.058345Z",
     "iopub.status.busy": "2025-03-20T17:04:29.058345Z",
     "iopub.status.idle": "2025-03-20T17:04:29.204825Z",
     "shell.execute_reply": "2025-03-20T17:04:29.204825Z"
    }
   },
   "outputs": [],
   "source": [
    "s = list( 'ABCDE')\n",
    "t = set(   'BCDEFG')"
   ]
  },
  {
   "cell_type": "code",
   "execution_count": 5,
   "metadata": {
    "execution": {
     "iopub.execute_input": "2025-03-20T17:04:29.206836Z",
     "iopub.status.busy": "2025-03-20T17:04:29.206836Z",
     "iopub.status.idle": "2025-03-20T17:04:29.353829Z",
     "shell.execute_reply": "2025-03-20T17:04:29.353191Z"
    },
    "tags": []
   },
   "outputs": [
    {
     "data": {
      "text/plain": [
       "{'left_only': {'A'}, 'both': {'B', 'C', 'D', 'E'}, 'right_only': {'F', 'G'}}"
      ]
     },
     "execution_count": 5,
     "metadata": {},
     "output_type": "execute_result"
    }
   ],
   "source": [
    "bpy.minivenn(s,t)"
   ]
  },
  {
   "cell_type": "code",
   "execution_count": 6,
   "metadata": {
    "execution": {
     "iopub.execute_input": "2025-03-20T17:04:29.355838Z",
     "iopub.status.busy": "2025-03-20T17:04:29.354871Z",
     "iopub.status.idle": "2025-03-20T17:04:29.502736Z",
     "shell.execute_reply": "2025-03-20T17:04:29.502273Z"
    },
    "tags": []
   },
   "outputs": [
    {
     "data": {
      "text/plain": [
       "{'left_only': 1, 'both': 4, 'right_only': 2}"
      ]
     },
     "execution_count": 6,
     "metadata": {},
     "output_type": "execute_result"
    }
   ],
   "source": [
    "bpy.minivenn(s,t, format='count')"
   ]
  },
  {
   "cell_type": "code",
   "execution_count": 7,
   "metadata": {
    "execution": {
     "iopub.execute_input": "2025-03-20T17:04:29.504281Z",
     "iopub.status.busy": "2025-03-20T17:04:29.504281Z",
     "iopub.status.idle": "2025-03-20T17:04:29.651250Z",
     "shell.execute_reply": "2025-03-20T17:04:29.650715Z"
    },
    "tags": []
   },
   "outputs": [
    {
     "data": {
      "text/plain": [
       "[{'A'}, {'B', 'C', 'D', 'E'}, {'F', 'G'}]"
      ]
     },
     "execution_count": 7,
     "metadata": {},
     "output_type": "execute_result"
    }
   ],
   "source": [
    "bpy.minivenn(s,t, format='list')"
   ]
  },
  {
   "cell_type": "code",
   "execution_count": 8,
   "metadata": {
    "execution": {
     "iopub.execute_input": "2025-03-20T17:04:29.652635Z",
     "iopub.status.busy": "2025-03-20T17:04:29.652635Z",
     "iopub.status.idle": "2025-03-20T17:04:29.798547Z",
     "shell.execute_reply": "2025-03-20T17:04:29.798547Z"
    },
    "tags": []
   },
   "outputs": [
    {
     "name": "stdout",
     "output_type": "stream",
     "text": [
      "left_only:  {'A'}\n",
      "both:       {'D', 'E', 'C', 'B'}\n",
      "right_only: {'F', 'G'}\n",
      "\n"
     ]
    }
   ],
   "source": [
    "bpy.minivenn(s,t, format='print')"
   ]
  },
  {
   "cell_type": "code",
   "execution_count": 9,
   "metadata": {
    "execution": {
     "iopub.execute_input": "2025-03-20T17:04:29.800981Z",
     "iopub.status.busy": "2025-03-20T17:04:29.800981Z",
     "iopub.status.idle": "2025-03-20T17:04:29.946786Z",
     "shell.execute_reply": "2025-03-20T17:04:29.946786Z"
    }
   },
   "outputs": [
    {
     "name": "stdout",
     "output_type": "stream",
     "text": [
      "left_only:  {}\n",
      "both:       {'D', 'B', 'C', 'A', 'E'}\n",
      "right_only: {'F', 'G'}\n",
      "\n"
     ]
    }
   ],
   "source": [
    "s = list( 'ABCDE')\n",
    "t = set(  'ABCDEFG')\n",
    "bpy.minivenn(s,t, format='print')"
   ]
  },
  {
   "cell_type": "code",
   "execution_count": 10,
   "metadata": {
    "execution": {
     "iopub.execute_input": "2025-03-20T17:04:29.948791Z",
     "iopub.status.busy": "2025-03-20T17:04:29.948791Z",
     "iopub.status.idle": "2025-03-20T17:04:30.095312Z",
     "shell.execute_reply": "2025-03-20T17:04:30.095312Z"
    }
   },
   "outputs": [
    {
     "data": {
      "text/plain": [
       "{'left_only': {1, 2}, 'both': {3}, 'right_only': {4, 5}}"
      ]
     },
     "execution_count": 10,
     "metadata": {},
     "output_type": "execute_result"
    }
   ],
   "source": [
    "bpy.minivenn({1, 2, 3}, {3, 4, 5}) "
   ]
  },
  {
   "cell_type": "markdown",
   "metadata": {},
   "source": [
    "## flatten"
   ]
  },
  {
   "cell_type": "code",
   "execution_count": 11,
   "metadata": {
    "execution": {
     "iopub.execute_input": "2025-03-20T17:04:30.097292Z",
     "iopub.status.busy": "2025-03-20T17:04:30.097292Z",
     "iopub.status.idle": "2025-03-20T17:04:30.244715Z",
     "shell.execute_reply": "2025-03-20T17:04:30.243937Z"
    },
    "tags": []
   },
   "outputs": [],
   "source": [
    "?bpy.flatten"
   ]
  },
  {
   "cell_type": "code",
   "execution_count": 12,
   "metadata": {
    "execution": {
     "iopub.execute_input": "2025-03-20T17:04:30.246755Z",
     "iopub.status.busy": "2025-03-20T17:04:30.245756Z",
     "iopub.status.idle": "2025-03-20T17:04:30.394630Z",
     "shell.execute_reply": "2025-03-20T17:04:30.394393Z"
    }
   },
   "outputs": [
    {
     "data": {
      "text/plain": [
       "[[1, 2, 3], [4, 5, 6], [7, (8, 9)], None]"
      ]
     },
     "execution_count": 12,
     "metadata": {},
     "output_type": "execute_result"
    }
   ],
   "source": [
    "list2d = [[1,2,3],[4,5,6], [7,(8,9,)], None ]\n",
    "list2d"
   ]
  },
  {
   "cell_type": "code",
   "execution_count": 13,
   "metadata": {
    "execution": {
     "iopub.execute_input": "2025-03-20T17:04:30.396518Z",
     "iopub.status.busy": "2025-03-20T17:04:30.396518Z",
     "iopub.status.idle": "2025-03-20T17:04:30.545331Z",
     "shell.execute_reply": "2025-03-20T17:04:30.545331Z"
    }
   },
   "outputs": [
    {
     "data": {
      "text/plain": [
       "[1, 2, 3, 4, 5, 6, 7, 8, 9, None]"
      ]
     },
     "execution_count": 13,
     "metadata": {},
     "output_type": "execute_result"
    }
   ],
   "source": [
    "list(bpy.flatten(list2d))"
   ]
  },
  {
   "cell_type": "code",
   "execution_count": 14,
   "metadata": {
    "execution": {
     "iopub.execute_input": "2025-03-20T17:04:30.547362Z",
     "iopub.status.busy": "2025-03-20T17:04:30.547362Z",
     "iopub.status.idle": "2025-03-20T17:04:30.701438Z",
     "shell.execute_reply": "2025-03-20T17:04:30.701020Z"
    }
   },
   "outputs": [
    {
     "data": {
      "text/plain": [
       "<generator object flatten at 0x000001E4FFF36110>"
      ]
     },
     "execution_count": 14,
     "metadata": {},
     "output_type": "execute_result"
    }
   ],
   "source": [
    "bpy.flatten(list2d)"
   ]
  },
  {
   "cell_type": "markdown",
   "metadata": {},
   "source": [
    "## remove_dups"
   ]
  },
  {
   "cell_type": "code",
   "execution_count": 15,
   "metadata": {
    "execution": {
     "iopub.execute_input": "2025-03-20T17:04:30.703584Z",
     "iopub.status.busy": "2025-03-20T17:04:30.703584Z",
     "iopub.status.idle": "2025-03-20T17:04:30.852126Z",
     "shell.execute_reply": "2025-03-20T17:04:30.852126Z"
    }
   },
   "outputs": [],
   "source": [
    "?bpy.remove_dups"
   ]
  },
  {
   "cell_type": "code",
   "execution_count": 16,
   "metadata": {
    "execution": {
     "iopub.execute_input": "2025-03-20T17:04:30.854131Z",
     "iopub.status.busy": "2025-03-20T17:04:30.854131Z",
     "iopub.status.idle": "2025-03-20T17:04:31.003712Z",
     "shell.execute_reply": "2025-03-20T17:04:31.003712Z"
    }
   },
   "outputs": [
    {
     "data": {
      "text/plain": [
       "[1, 1.0, '1', True, False, None]"
      ]
     },
     "execution_count": 16,
     "metadata": {},
     "output_type": "execute_result"
    }
   ],
   "source": [
    "list_with_dups = [1, 1.0, 1.0, \"1\", \"1\", True, True, False, False, None, None, \"1\"]\n",
    "bpy.remove_dups(list_with_dups)"
   ]
  },
  {
   "cell_type": "code",
   "execution_count": 17,
   "metadata": {
    "execution": {
     "iopub.execute_input": "2025-03-20T17:04:31.005738Z",
     "iopub.status.busy": "2025-03-20T17:04:31.005738Z",
     "iopub.status.idle": "2025-03-20T17:04:31.154470Z",
     "shell.execute_reply": "2025-03-20T17:04:31.154470Z"
    }
   },
   "outputs": [
    {
     "data": {
      "text/plain": [
       "['a', 'q', 3, (1, 2)]"
      ]
     },
     "execution_count": 17,
     "metadata": {},
     "output_type": "execute_result"
    }
   ],
   "source": [
    "list_with_dups = ['a','q', 3, 3, 'q', (1,2), 'a', (1,2)]\n",
    "bpy.remove_dups(list_with_dups)"
   ]
  },
  {
   "cell_type": "code",
   "execution_count": 18,
   "metadata": {
    "execution": {
     "iopub.execute_input": "2025-03-20T17:04:31.156477Z",
     "iopub.status.busy": "2025-03-20T17:04:31.156477Z",
     "iopub.status.idle": "2025-03-20T17:04:31.307352Z",
     "shell.execute_reply": "2025-03-20T17:04:31.306916Z"
    }
   },
   "outputs": [
    {
     "data": {
      "text/plain": [
       "[1, 1.0, '1', True, False, None]"
      ]
     },
     "execution_count": 18,
     "metadata": {},
     "output_type": "execute_result"
    }
   ],
   "source": [
    "list_with_dups = [1, 1.0, 1.0, \"1\", \"1\", True, True, False, False, None, None, 1] \n",
    "bpy.remove_dups(list_with_dups)      "
   ]
  },
  {
   "cell_type": "markdown",
   "metadata": {},
   "source": [
    "## sort_by_priority_list"
   ]
  },
  {
   "cell_type": "code",
   "execution_count": 19,
   "metadata": {
    "execution": {
     "iopub.execute_input": "2025-03-20T17:04:31.309361Z",
     "iopub.status.busy": "2025-03-20T17:04:31.309361Z",
     "iopub.status.idle": "2025-03-20T17:04:31.461212Z",
     "shell.execute_reply": "2025-03-20T17:04:31.461212Z"
    }
   },
   "outputs": [],
   "source": [
    "?bpy.sort_by_priority_list"
   ]
  },
  {
   "cell_type": "code",
   "execution_count": 20,
   "metadata": {
    "execution": {
     "iopub.execute_input": "2025-03-20T17:04:31.463384Z",
     "iopub.status.busy": "2025-03-20T17:04:31.463384Z",
     "iopub.status.idle": "2025-03-20T17:04:31.612761Z",
     "shell.execute_reply": "2025-03-20T17:04:31.612319Z"
    }
   },
   "outputs": [
    {
     "data": {
      "text/plain": [
       "'aeeiiooou Lrm psm dlr st mt'"
      ]
     },
     "execution_count": 20,
     "metadata": {},
     "output_type": "execute_result"
    }
   ],
   "source": [
    "my_priorities = list('aeiou')\n",
    "list_to_sort  = list(' Lorem ipsum dolor sit amet')\n",
    "result = bpy.sort_by_priority_list( list_to_sort, my_priorities )\n",
    "''.join(result)"
   ]
  },
  {
   "cell_type": "code",
   "execution_count": 21,
   "metadata": {
    "execution": {
     "iopub.execute_input": "2025-03-20T17:04:31.614770Z",
     "iopub.status.busy": "2025-03-20T17:04:31.614770Z",
     "iopub.status.idle": "2025-03-20T17:04:31.761265Z",
     "shell.execute_reply": "2025-03-20T17:04:31.760612Z"
    }
   },
   "outputs": [
    {
     "data": {
      "text/plain": [
       "['b', 1, 'a', 2, 3]"
      ]
     },
     "execution_count": 21,
     "metadata": {},
     "output_type": "execute_result"
    }
   ],
   "source": [
    "bpy.sort_by_priority_list([1, \"a\", 2, \"b\", 3],   [\"b\", 1]) \n",
    "# ['b', 1, 'a', 2, 3]"
   ]
  },
  {
   "cell_type": "code",
   "execution_count": 22,
   "metadata": {
    "execution": {
     "iopub.execute_input": "2025-03-20T17:04:31.763274Z",
     "iopub.status.busy": "2025-03-20T17:04:31.762308Z",
     "iopub.status.idle": "2025-03-20T17:04:31.911152Z",
     "shell.execute_reply": "2025-03-20T17:04:31.910471Z"
    }
   },
   "outputs": [
    {
     "data": {
      "text/plain": [
       "[1, 1.0, True, '1', None, False, 'bla']"
      ]
     },
     "execution_count": 22,
     "metadata": {},
     "output_type": "execute_result"
    }
   ],
   "source": [
    "# Bei besonderen Datatypes funktioniert die Methode noch nicht richtig\n",
    "bpy.sort_by_priority_list([1, 1.0, \"1\", True, False, None, 'bla'],  [True, 1, \"1\", None, 'hi'] )\n",
    "#== [True, 1, \"1\", None, 1.0, False]"
   ]
  },
  {
   "cell_type": "markdown",
   "metadata": {},
   "source": [
    "## cut_counter"
   ]
  },
  {
   "cell_type": "code",
   "execution_count": 23,
   "metadata": {
    "execution": {
     "iopub.execute_input": "2025-03-20T17:04:31.913161Z",
     "iopub.status.busy": "2025-03-20T17:04:31.913161Z",
     "iopub.status.idle": "2025-03-20T17:04:32.062022Z",
     "shell.execute_reply": "2025-03-20T17:04:32.062022Z"
    }
   },
   "outputs": [],
   "source": [
    "?bpy.cut_counter"
   ]
  },
  {
   "cell_type": "code",
   "execution_count": 24,
   "metadata": {
    "execution": {
     "iopub.execute_input": "2025-03-20T17:04:32.065033Z",
     "iopub.status.busy": "2025-03-20T17:04:32.064032Z",
     "iopub.status.idle": "2025-03-20T17:04:32.211470Z",
     "shell.execute_reply": "2025-03-20T17:04:32.210980Z"
    }
   },
   "outputs": [
    {
     "data": {
      "text/plain": [
       "Counter({'L': 1,\n",
       "         'o': 17,\n",
       "         'r': 12,\n",
       "         'e': 21,\n",
       "         'm': 12,\n",
       "         ' ': 35,\n",
       "         'i': 11,\n",
       "         'p': 4,\n",
       "         's': 11,\n",
       "         'u': 12,\n",
       "         'd': 11,\n",
       "         'l': 7,\n",
       "         't': 16,\n",
       "         'a': 14,\n",
       "         ',': 3,\n",
       "         'c': 4,\n",
       "         'n': 7,\n",
       "         'g': 2,\n",
       "         'y': 2,\n",
       "         'v': 3,\n",
       "         'b': 2,\n",
       "         'q': 1,\n",
       "         '.': 2,\n",
       "         'A': 1,\n",
       "         'j': 1})"
      ]
     },
     "execution_count": 24,
     "metadata": {},
     "output_type": "execute_result"
    }
   ],
   "source": [
    "from collections import Counter\n",
    "c = Counter('Lorem ipsum dolor sit amet, consetetur sadipscing elitr, sed diam nonumy eirmod tempor invidunt ut labore et dolore magna aliquyam erat, sed diam voluptua. At vero eos et accusam et justo duo dolores et ea rebum.')\n",
    "c"
   ]
  },
  {
   "cell_type": "code",
   "execution_count": 25,
   "metadata": {
    "execution": {
     "iopub.execute_input": "2025-03-20T17:04:32.213482Z",
     "iopub.status.busy": "2025-03-20T17:04:32.212510Z",
     "iopub.status.idle": "2025-03-20T17:04:32.359548Z",
     "shell.execute_reply": "2025-03-20T17:04:32.359314Z"
    }
   },
   "outputs": [
    {
     "data": {
      "text/plain": [
       "Counter({'o': 17,\n",
       "         'r': 12,\n",
       "         'e': 21,\n",
       "         'm': 12,\n",
       "         ' ': 35,\n",
       "         'i': 11,\n",
       "         'p': 4,\n",
       "         's': 11,\n",
       "         'u': 12,\n",
       "         'd': 11,\n",
       "         'l': 7,\n",
       "         't': 16,\n",
       "         'a': 14,\n",
       "         ',': 3,\n",
       "         'c': 4,\n",
       "         'n': 7,\n",
       "         'v': 3})"
      ]
     },
     "execution_count": 25,
     "metadata": {},
     "output_type": "execute_result"
    }
   ],
   "source": [
    "bpy.cut_counter(c, 1)"
   ]
  },
  {
   "cell_type": "markdown",
   "metadata": {},
   "source": [
    "## ranking_from_counter"
   ]
  },
  {
   "cell_type": "code",
   "execution_count": 26,
   "metadata": {
    "execution": {
     "iopub.execute_input": "2025-03-20T17:04:32.361584Z",
     "iopub.status.busy": "2025-03-20T17:04:32.361584Z",
     "iopub.status.idle": "2025-03-20T17:04:32.509071Z",
     "shell.execute_reply": "2025-03-20T17:04:32.508796Z"
    }
   },
   "outputs": [],
   "source": [
    "?bpy.ranking_from_counter"
   ]
  },
  {
   "cell_type": "code",
   "execution_count": 27,
   "metadata": {
    "execution": {
     "iopub.execute_input": "2025-03-20T17:04:32.511082Z",
     "iopub.status.busy": "2025-03-20T17:04:32.511082Z",
     "iopub.status.idle": "2025-03-20T17:04:32.659732Z",
     "shell.execute_reply": "2025-03-20T17:04:32.659258Z"
    }
   },
   "outputs": [
    {
     "data": {
      "text/plain": [
       "{' ': 0,\n",
       " 'e': 1,\n",
       " 'o': 2,\n",
       " 't': 3,\n",
       " 'a': 4,\n",
       " 'r': 5,\n",
       " 'm': 6,\n",
       " 'u': 7,\n",
       " 'i': 8,\n",
       " 's': 9,\n",
       " 'd': 10,\n",
       " 'l': 11,\n",
       " 'n': 12,\n",
       " 'p': 13,\n",
       " 'c': 14,\n",
       " ',': 15,\n",
       " 'v': 16,\n",
       " 'g': 17,\n",
       " 'y': 18,\n",
       " 'b': 19,\n",
       " '.': 20,\n",
       " 'L': 21,\n",
       " 'q': 22,\n",
       " 'A': 23,\n",
       " 'j': 24}"
      ]
     },
     "execution_count": 27,
     "metadata": {},
     "output_type": "execute_result"
    }
   ],
   "source": [
    "from collections import Counter\n",
    "c = Counter('Lorem ipsum dolor sit amet, consetetur sadipscing elitr, sed diam nonumy eirmod tempor invidunt ut labore et dolore magna aliquyam erat, sed diam voluptua. At vero eos et accusam et justo duo dolores et ea rebum.')\n",
    "bpy.ranking_from_counter(c)"
   ]
  },
  {
   "cell_type": "code",
   "execution_count": null,
   "metadata": {},
   "outputs": [],
   "source": []
  }
 ],
 "metadata": {
  "kernelspec": {
   "display_name": "Python 3 (ipykernel)",
   "language": "python",
   "name": "python3"
  },
  "language_info": {
   "codemirror_mode": {
    "name": "ipython",
    "version": 3
   },
   "file_extension": ".py",
   "mimetype": "text/x-python",
   "name": "python",
   "nbconvert_exporter": "python",
   "pygments_lexer": "ipython3",
   "version": "3.12.9"
  }
 },
 "nbformat": 4,
 "nbformat_minor": 4
}
