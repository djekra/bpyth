{
 "cells": [
  {
   "cell_type": "markdown",
   "metadata": {},
   "source": [
    "# bpyth Iterable Tools\n",
    "* `flatten`: Yield all items from any nested iterable\n",
    "* `remove_dups`: Remove dups from a list whilst-preserving-order\n",
    "* `sort_by_priority_list`: Sort a list by a list or tuple of prioritized objects\n",
    "* `cut_counter`: Truncates rare values of a counter\n",
    "* `ranking_from_counter`: Converts a counter into a ranking"
   ]
  },
  {
   "cell_type": "code",
   "execution_count": 1,
   "metadata": {
    "execution": {
     "iopub.execute_input": "2022-09-13T15:47:58.440562Z",
     "iopub.status.busy": "2022-09-13T15:47:58.440139Z",
     "iopub.status.idle": "2022-09-13T15:47:59.378529Z",
     "shell.execute_reply": "2022-09-13T15:47:59.377850Z"
    }
   },
   "outputs": [
    {
     "name": "stdout",
     "output_type": "stream",
     "text": [
      "blab init\n",
      "blab found local libs at /mnt/DATA/Dropbox/31_Projekte/01_Python/libs\n",
      "Start Time: 17:47:58\n"
     ]
    },
    {
     "data": {
      "text/html": [
       "<img src onerror=\"var cell = this.closest('.jp-CodeCell');var editor = cell.querySelector('.jp-Editor');editor.style.background='Beige';this.parentNode.removeChild(this)\">"
      ],
      "text/plain": [
       "<IPython.core.display.HTML object>"
      ]
     },
     "metadata": {},
     "output_type": "display_data"
    },
    {
     "name": "stdout",
     "output_type": "stream",
     "text": [
      "time: 735 ms (started: 2022-09-13 17:47:58 +02:00)\n"
     ]
    }
   ],
   "source": [
    "# blab init\n",
    "import blab\n",
    "startup_notebook = blab.blab_startup()\n",
    "%run $startup_notebook"
   ]
  },
  {
   "cell_type": "code",
   "execution_count": 2,
   "metadata": {
    "execution": {
     "iopub.execute_input": "2022-09-13T15:47:59.381059Z",
     "iopub.status.busy": "2022-09-13T15:47:59.380889Z",
     "iopub.status.idle": "2022-09-13T15:47:59.392046Z",
     "shell.execute_reply": "2022-09-13T15:47:59.391568Z"
    }
   },
   "outputs": [
    {
     "name": "stdout",
     "output_type": "stream",
     "text": [
      "time: 8.61 ms (started: 2022-09-13 17:47:59 +02:00)\n"
     ]
    }
   ],
   "source": [
    "import bpyth as bpy"
   ]
  },
  {
   "cell_type": "markdown",
   "metadata": {},
   "source": [
    "## flatten"
   ]
  },
  {
   "cell_type": "code",
   "execution_count": 3,
   "metadata": {
    "execution": {
     "iopub.execute_input": "2022-09-13T15:47:59.394551Z",
     "iopub.status.busy": "2022-09-13T15:47:59.394377Z",
     "iopub.status.idle": "2022-09-13T15:47:59.440994Z",
     "shell.execute_reply": "2022-09-13T15:47:59.440495Z"
    },
    "tags": []
   },
   "outputs": [
    {
     "name": "stdout",
     "output_type": "stream",
     "text": [
      "time: 43.8 ms (started: 2022-09-13 17:47:59 +02:00)\n"
     ]
    }
   ],
   "source": [
    "?bpy.flatten"
   ]
  },
  {
   "cell_type": "code",
   "execution_count": 4,
   "metadata": {
    "execution": {
     "iopub.execute_input": "2022-09-13T15:47:59.443527Z",
     "iopub.status.busy": "2022-09-13T15:47:59.443353Z",
     "iopub.status.idle": "2022-09-13T15:47:59.456543Z",
     "shell.execute_reply": "2022-09-13T15:47:59.456028Z"
    }
   },
   "outputs": [
    {
     "data": {
      "text/plain": [
       "[[1, 2, 3], [4, 5, 6], [7, (8, 9)], None]"
      ]
     },
     "execution_count": 4,
     "metadata": {},
     "output_type": "execute_result"
    },
    {
     "name": "stdout",
     "output_type": "stream",
     "text": [
      "time: 10.5 ms (started: 2022-09-13 17:47:59 +02:00)\n"
     ]
    }
   ],
   "source": [
    "list2d = [[1,2,3],[4,5,6], [7,(8,9,)], None ]\n",
    "list2d"
   ]
  },
  {
   "cell_type": "code",
   "execution_count": 5,
   "metadata": {
    "execution": {
     "iopub.execute_input": "2022-09-13T15:47:59.459832Z",
     "iopub.status.busy": "2022-09-13T15:47:59.459649Z",
     "iopub.status.idle": "2022-09-13T15:47:59.472863Z",
     "shell.execute_reply": "2022-09-13T15:47:59.472405Z"
    }
   },
   "outputs": [
    {
     "data": {
      "text/plain": [
       "[1, 2, 3, 4, 5, 6, 7, 8, 9, None]"
      ]
     },
     "execution_count": 5,
     "metadata": {},
     "output_type": "execute_result"
    },
    {
     "name": "stdout",
     "output_type": "stream",
     "text": [
      "time: 10.7 ms (started: 2022-09-13 17:47:59 +02:00)\n"
     ]
    }
   ],
   "source": [
    "list(bpy.flatten(list2d))"
   ]
  },
  {
   "cell_type": "code",
   "execution_count": 6,
   "metadata": {
    "execution": {
     "iopub.execute_input": "2022-09-13T15:47:59.475925Z",
     "iopub.status.busy": "2022-09-13T15:47:59.475753Z",
     "iopub.status.idle": "2022-09-13T15:47:59.487970Z",
     "shell.execute_reply": "2022-09-13T15:47:59.487504Z"
    }
   },
   "outputs": [
    {
     "data": {
      "text/plain": [
       "<generator object flatten at 0x7ff405611040>"
      ]
     },
     "execution_count": 6,
     "metadata": {},
     "output_type": "execute_result"
    },
    {
     "name": "stdout",
     "output_type": "stream",
     "text": [
      "time: 9.7 ms (started: 2022-09-13 17:47:59 +02:00)\n"
     ]
    }
   ],
   "source": [
    "bpy.flatten(list2d)"
   ]
  },
  {
   "cell_type": "markdown",
   "metadata": {},
   "source": [
    "## remove_dups"
   ]
  },
  {
   "cell_type": "code",
   "execution_count": 7,
   "metadata": {
    "execution": {
     "iopub.execute_input": "2022-09-13T15:47:59.491247Z",
     "iopub.status.busy": "2022-09-13T15:47:59.491067Z",
     "iopub.status.idle": "2022-09-13T15:47:59.504130Z",
     "shell.execute_reply": "2022-09-13T15:47:59.503614Z"
    }
   },
   "outputs": [
    {
     "name": "stdout",
     "output_type": "stream",
     "text": [
      "time: 10.2 ms (started: 2022-09-13 17:47:59 +02:00)\n"
     ]
    }
   ],
   "source": [
    "?bpy.remove_dups"
   ]
  },
  {
   "cell_type": "code",
   "execution_count": 8,
   "metadata": {
    "execution": {
     "iopub.execute_input": "2022-09-13T15:47:59.506786Z",
     "iopub.status.busy": "2022-09-13T15:47:59.506604Z",
     "iopub.status.idle": "2022-09-13T15:47:59.519938Z",
     "shell.execute_reply": "2022-09-13T15:47:59.519479Z"
    }
   },
   "outputs": [
    {
     "data": {
      "text/plain": [
       "['a', 'q', 3, (1, 2)]"
      ]
     },
     "execution_count": 8,
     "metadata": {},
     "output_type": "execute_result"
    },
    {
     "name": "stdout",
     "output_type": "stream",
     "text": [
      "time: 10.7 ms (started: 2022-09-13 17:47:59 +02:00)\n"
     ]
    }
   ],
   "source": [
    "list_with_dups = ['a','q', 3, 3, 'q', (1,2), 'a', (1,2)]\n",
    "bpy.remove_dups(list_with_dups)"
   ]
  },
  {
   "cell_type": "markdown",
   "metadata": {},
   "source": [
    "## sort_by_priority_list"
   ]
  },
  {
   "cell_type": "code",
   "execution_count": 9,
   "metadata": {
    "execution": {
     "iopub.execute_input": "2022-09-13T15:47:59.523119Z",
     "iopub.status.busy": "2022-09-13T15:47:59.522946Z",
     "iopub.status.idle": "2022-09-13T15:47:59.535709Z",
     "shell.execute_reply": "2022-09-13T15:47:59.535182Z"
    }
   },
   "outputs": [
    {
     "name": "stdout",
     "output_type": "stream",
     "text": [
      "time: 10 ms (started: 2022-09-13 17:47:59 +02:00)\n"
     ]
    }
   ],
   "source": [
    "?bpy.sort_by_priority_list"
   ]
  },
  {
   "cell_type": "code",
   "execution_count": 10,
   "metadata": {
    "execution": {
     "iopub.execute_input": "2022-09-13T15:47:59.538352Z",
     "iopub.status.busy": "2022-09-13T15:47:59.538169Z",
     "iopub.status.idle": "2022-09-13T15:47:59.552764Z",
     "shell.execute_reply": "2022-09-13T15:47:59.552243Z"
    }
   },
   "outputs": [
    {
     "data": {
      "text/plain": [
       "'uoooiieea Lrm psm dlr st mt'"
      ]
     },
     "execution_count": 10,
     "metadata": {},
     "output_type": "execute_result"
    },
    {
     "name": "stdout",
     "output_type": "stream",
     "text": [
      "time: 10.5 ms (started: 2022-09-13 17:47:59 +02:00)\n"
     ]
    }
   ],
   "source": [
    "my_priorities = list('uoiea')\n",
    "list_to_sort  = list(' Lorem ipsum dolor sit amet')\n",
    "result = bpy.sort_by_priority_list( list_to_sort, my_priorities )\n",
    "''.join(result)"
   ]
  },
  {
   "cell_type": "markdown",
   "metadata": {},
   "source": [
    "## cut_counter"
   ]
  },
  {
   "cell_type": "code",
   "execution_count": 11,
   "metadata": {
    "execution": {
     "iopub.execute_input": "2022-09-13T15:47:59.555366Z",
     "iopub.status.busy": "2022-09-13T15:47:59.555196Z",
     "iopub.status.idle": "2022-09-13T15:47:59.568270Z",
     "shell.execute_reply": "2022-09-13T15:47:59.567795Z"
    }
   },
   "outputs": [
    {
     "name": "stdout",
     "output_type": "stream",
     "text": [
      "time: 10.4 ms (started: 2022-09-13 17:47:59 +02:00)\n"
     ]
    }
   ],
   "source": [
    "?bpy.cut_counter"
   ]
  },
  {
   "cell_type": "code",
   "execution_count": 12,
   "metadata": {
    "execution": {
     "iopub.execute_input": "2022-09-13T15:47:59.570739Z",
     "iopub.status.busy": "2022-09-13T15:47:59.570470Z",
     "iopub.status.idle": "2022-09-13T15:47:59.585407Z",
     "shell.execute_reply": "2022-09-13T15:47:59.584829Z"
    }
   },
   "outputs": [
    {
     "data": {
      "text/plain": [
       "Counter({'L': 1,\n",
       "         'o': 17,\n",
       "         'r': 12,\n",
       "         'e': 21,\n",
       "         'm': 12,\n",
       "         ' ': 35,\n",
       "         'i': 11,\n",
       "         'p': 4,\n",
       "         's': 11,\n",
       "         'u': 12,\n",
       "         'd': 11,\n",
       "         'l': 7,\n",
       "         't': 16,\n",
       "         'a': 14,\n",
       "         ',': 3,\n",
       "         'c': 4,\n",
       "         'n': 7,\n",
       "         'g': 2,\n",
       "         'y': 2,\n",
       "         'v': 3,\n",
       "         'b': 2,\n",
       "         'q': 1,\n",
       "         '.': 2,\n",
       "         'A': 1,\n",
       "         'j': 1})"
      ]
     },
     "execution_count": 12,
     "metadata": {},
     "output_type": "execute_result"
    },
    {
     "name": "stdout",
     "output_type": "stream",
     "text": [
      "time: 12.1 ms (started: 2022-09-13 17:47:59 +02:00)\n"
     ]
    }
   ],
   "source": [
    "from collections import Counter\n",
    "c = Counter('Lorem ipsum dolor sit amet, consetetur sadipscing elitr, sed diam nonumy eirmod tempor invidunt ut labore et dolore magna aliquyam erat, sed diam voluptua. At vero eos et accusam et justo duo dolores et ea rebum.')\n",
    "c"
   ]
  },
  {
   "cell_type": "code",
   "execution_count": 13,
   "metadata": {
    "execution": {
     "iopub.execute_input": "2022-09-13T15:47:59.589743Z",
     "iopub.status.busy": "2022-09-13T15:47:59.589371Z",
     "iopub.status.idle": "2022-09-13T15:47:59.603127Z",
     "shell.execute_reply": "2022-09-13T15:47:59.602558Z"
    }
   },
   "outputs": [
    {
     "data": {
      "text/plain": [
       "Counter({'o': 17,\n",
       "         'r': 12,\n",
       "         'e': 21,\n",
       "         'm': 12,\n",
       "         ' ': 35,\n",
       "         'i': 11,\n",
       "         'p': 4,\n",
       "         's': 11,\n",
       "         'u': 12,\n",
       "         'd': 11,\n",
       "         'l': 7,\n",
       "         't': 16,\n",
       "         'a': 14,\n",
       "         ',': 3,\n",
       "         'c': 4,\n",
       "         'n': 7,\n",
       "         'v': 3})"
      ]
     },
     "execution_count": 13,
     "metadata": {},
     "output_type": "execute_result"
    },
    {
     "name": "stdout",
     "output_type": "stream",
     "text": [
      "time: 10.7 ms (started: 2022-09-13 17:47:59 +02:00)\n"
     ]
    }
   ],
   "source": [
    "bpy.cut_counter(c, 1)"
   ]
  },
  {
   "cell_type": "markdown",
   "metadata": {},
   "source": [
    "## ranking_from_counter"
   ]
  },
  {
   "cell_type": "code",
   "execution_count": 14,
   "metadata": {
    "execution": {
     "iopub.execute_input": "2022-09-13T15:47:59.607208Z",
     "iopub.status.busy": "2022-09-13T15:47:59.606938Z",
     "iopub.status.idle": "2022-09-13T15:47:59.620314Z",
     "shell.execute_reply": "2022-09-13T15:47:59.619780Z"
    }
   },
   "outputs": [
    {
     "name": "stdout",
     "output_type": "stream",
     "text": [
      "time: 10.4 ms (started: 2022-09-13 17:47:59 +02:00)\n"
     ]
    }
   ],
   "source": [
    "?bpy.ranking_from_counter"
   ]
  },
  {
   "cell_type": "code",
   "execution_count": 15,
   "metadata": {
    "execution": {
     "iopub.execute_input": "2022-09-13T15:47:59.622913Z",
     "iopub.status.busy": "2022-09-13T15:47:59.622739Z",
     "iopub.status.idle": "2022-09-13T15:47:59.635556Z",
     "shell.execute_reply": "2022-09-13T15:47:59.635109Z"
    }
   },
   "outputs": [
    {
     "data": {
      "text/plain": [
       "{' ': 0,\n",
       " 'e': 1,\n",
       " 'o': 2,\n",
       " 't': 3,\n",
       " 'a': 4,\n",
       " 'r': 5,\n",
       " 'm': 6,\n",
       " 'u': 7,\n",
       " 'i': 8,\n",
       " 's': 9,\n",
       " 'd': 10,\n",
       " 'l': 11,\n",
       " 'n': 12,\n",
       " 'p': 13,\n",
       " 'c': 14,\n",
       " ',': 15,\n",
       " 'v': 16,\n",
       " 'g': 17,\n",
       " 'y': 18,\n",
       " 'b': 19,\n",
       " '.': 20,\n",
       " 'L': 21,\n",
       " 'q': 22,\n",
       " 'A': 23,\n",
       " 'j': 24}"
      ]
     },
     "execution_count": 15,
     "metadata": {},
     "output_type": "execute_result"
    },
    {
     "name": "stdout",
     "output_type": "stream",
     "text": [
      "time: 10.4 ms (started: 2022-09-13 17:47:59 +02:00)\n"
     ]
    }
   ],
   "source": [
    "from collections import Counter\n",
    "c = Counter('Lorem ipsum dolor sit amet, consetetur sadipscing elitr, sed diam nonumy eirmod tempor invidunt ut labore et dolore magna aliquyam erat, sed diam voluptua. At vero eos et accusam et justo duo dolores et ea rebum.')\n",
    "bpy.ranking_from_counter(c)"
   ]
  },
  {
   "cell_type": "code",
   "execution_count": null,
   "metadata": {},
   "outputs": [],
   "source": []
  }
 ],
 "metadata": {
  "kernelspec": {
   "display_name": "Python 3 (ipykernel)",
   "language": "python",
   "name": "python3"
  },
  "language_info": {
   "codemirror_mode": {
    "name": "ipython",
    "version": 3
   },
   "file_extension": ".py",
   "mimetype": "text/x-python",
   "name": "python",
   "nbconvert_exporter": "python",
   "pygments_lexer": "ipython3",
   "version": "3.8.12"
  }
 },
 "nbformat": 4,
 "nbformat_minor": 4
}
