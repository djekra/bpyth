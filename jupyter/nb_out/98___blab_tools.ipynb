{
 "cells": [
  {
   "cell_type": "markdown",
   "metadata": {},
   "source": [
    "# blab Tools for Jupyter\n",
    "* Finds a local folder named `libs` and integrates it into the Python path. Useful for your own private libraries.\n",
    "* loads `autotime` (see https://github.com/cpcloud/ipython-autotime)\n",
    "* loads `autoreload` \n",
    "* loads `ipytest`\n",
    "* configures `%matplotlib inline`\n",
    "* Tool: `run_notebooks`: Starts all notebooks in the directory in alphabetical order\n",
    "* Tool: `search_notebooks`: Searches notebooks for occurrences of a string\n",
    "* Tool: `raise Stop`: Ends the execution of a notebook and displays the elapsed time\n",
    "* Tool: `bgc('orange')`: Sets the backbround color of a notebook cell\n",
    "\n",
    "\n",
    "### Usage:\n",
    "* Copy this file `98___blab_tools.ipynb` into your notebook directory\n",
    "* Put `%run 98___blab_tools.ipynb` in the first cell of your notebook  "
   ]
  },
  {
   "cell_type": "code",
   "execution_count": 1,
   "metadata": {
    "execution": {
     "iopub.execute_input": "2022-09-10T19:50:02.788515Z",
     "iopub.status.busy": "2022-09-10T19:50:02.788003Z",
     "iopub.status.idle": "2022-09-10T19:50:02.795847Z",
     "shell.execute_reply": "2022-09-10T19:50:02.795360Z"
    }
   },
   "outputs": [
    {
     "name": "stdout",
     "output_type": "stream",
     "text": [
      "JupyterLab Tools Version 0.22\n"
     ]
    }
   ],
   "source": [
    "print('JupyterLab Tools Version 0.22')"
   ]
  },
  {
   "cell_type": "code",
   "execution_count": 2,
   "metadata": {
    "execution": {
     "iopub.execute_input": "2022-09-10T19:50:02.798555Z",
     "iopub.status.busy": "2022-09-10T19:50:02.798362Z",
     "iopub.status.idle": "2022-09-10T19:50:02.801867Z",
     "shell.execute_reply": "2022-09-10T19:50:02.801393Z"
    }
   },
   "outputs": [],
   "source": [
    "from time import sleep\n",
    "sleep(0.001)"
   ]
  },
  {
   "cell_type": "code",
   "execution_count": 3,
   "metadata": {
    "execution": {
     "iopub.execute_input": "2022-09-10T19:50:02.804492Z",
     "iopub.status.busy": "2022-09-10T19:50:02.804053Z",
     "iopub.status.idle": "2022-09-10T19:50:02.809215Z",
     "shell.execute_reply": "2022-09-10T19:50:02.808681Z"
    }
   },
   "outputs": [
    {
     "name": "stdout",
     "output_type": "stream",
     "text": [
      "found local libs at /mnt/DATA/Dropbox/31_Projekte/01_Python/libs\n"
     ]
    }
   ],
   "source": [
    "# find local libs directory\n",
    "# and add it to sys.path\n",
    "\n",
    "import pathlib, os, sys\n",
    "p = pathlib.Path().resolve()\n",
    "\n",
    "# iterate parent dirs\n",
    "for n in range(10):\n",
    "    trypath = os.path.join( p, 'libs')  # candidate for libs-Path\n",
    "    #print(trypath)\n",
    "\n",
    "    if os.path.isdir(trypath): # found  \n",
    "        print('found local libs at ' +  trypath)\n",
    "        if trypath not in sys.path:\n",
    "            sys.path.append(trypath)     \n",
    "        break\n",
    "    else:\n",
    "        p = p.parent\n",
    "        \n",
    "    #print(n)"
   ]
  },
  {
   "cell_type": "code",
   "execution_count": 4,
   "metadata": {
    "execution": {
     "iopub.execute_input": "2022-09-10T19:50:02.812870Z",
     "iopub.status.busy": "2022-09-10T19:50:02.812669Z",
     "iopub.status.idle": "2022-09-10T19:50:02.819343Z",
     "shell.execute_reply": "2022-09-10T19:50:02.818187Z"
    }
   },
   "outputs": [
    {
     "name": "stdout",
     "output_type": "stream",
     "text": [
      "Start Time: 21:50:02\n"
     ]
    }
   ],
   "source": [
    "# https://stackoverflow.com/questions/24005221/ipython-notebook-early-exit-from-cell\n",
    "\n",
    "class Stop(Exception):\n",
    "    \n",
    "    '''\n",
    "    Ends the execution of a notebook and displays the elapsed time.\n",
    "    Usage: \n",
    "    raise Stop\n",
    "    '''\n",
    "    import datetime\n",
    "    # Zeit beim Start ausgeben\n",
    "    startzeit = datetime.datetime.now()\n",
    "    print('Start Time:', startzeit.strftime('%H:%M:%S') )    \n",
    "    \n",
    "    def _render_traceback_(self):\n",
    "        \n",
    "        # Zeit beim Stop ausgeben\n",
    "        stopzeit = datetime.datetime.now()\n",
    "        difference = stopzeit - Stop.startzeit\n",
    "        \n",
    "        print('Stop Time: ',  stopzeit.strftime('%H:%M:%S') )\n",
    "        print( 'Elapsed:   ', Stop.elapsed()    )   \n",
    "    \n",
    "         \n",
    "        bgc('DarkGray')\n",
    "        pass\n",
    "    \n",
    "    \n",
    "    def elapsed():\n",
    "        difference = datetime.datetime.now() - Stop.startzeit\n",
    "        return bpy.human_readable_seconds(difference.seconds) \n"
   ]
  },
  {
   "cell_type": "code",
   "execution_count": 5,
   "metadata": {
    "execution": {
     "iopub.execute_input": "2022-09-10T19:50:02.822992Z",
     "iopub.status.busy": "2022-09-10T19:50:02.822783Z",
     "iopub.status.idle": "2022-09-10T19:50:02.830083Z",
     "shell.execute_reply": "2022-09-10T19:50:02.829663Z"
    }
   },
   "outputs": [],
   "source": [
    "# blab direkt in den Namespace inportieren\n",
    "# (run_notebooks, search_notebooks)\n",
    "\n",
    "try:\n",
    "    from blab import *\n",
    "except:\n",
    "    pass"
   ]
  },
  {
   "cell_type": "code",
   "execution_count": 6,
   "metadata": {
    "execution": {
     "iopub.execute_input": "2022-09-10T19:50:02.832585Z",
     "iopub.status.busy": "2022-09-10T19:50:02.832412Z",
     "iopub.status.idle": "2022-09-10T19:50:02.903355Z",
     "shell.execute_reply": "2022-09-10T19:50:02.902869Z"
    }
   },
   "outputs": [],
   "source": [
    "# ipytest\n",
    "import ipytest\n",
    "ipytest.autoconfig()\n",
    "\n",
    "sleep(0.001)"
   ]
  },
  {
   "cell_type": "code",
   "execution_count": 7,
   "metadata": {
    "execution": {
     "iopub.execute_input": "2022-09-10T19:50:02.906280Z",
     "iopub.status.busy": "2022-09-10T19:50:02.906105Z",
     "iopub.status.idle": "2022-09-10T19:50:02.910124Z",
     "shell.execute_reply": "2022-09-10T19:50:02.909616Z"
    }
   },
   "outputs": [],
   "source": [
    "# Ausgabe löschen\n",
    "from IPython.display         import clear_output\n",
    "\n",
    "sleep(0.001)"
   ]
  },
  {
   "cell_type": "code",
   "execution_count": 8,
   "metadata": {
    "execution": {
     "iopub.execute_input": "2022-09-10T19:50:02.912594Z",
     "iopub.status.busy": "2022-09-10T19:50:02.912409Z",
     "iopub.status.idle": "2022-09-10T19:50:02.918204Z",
     "shell.execute_reply": "2022-09-10T19:50:02.917708Z"
    }
   },
   "outputs": [],
   "source": [
    "# Hintergrundfarbe ändern\n",
    "# https://stackoverflow.com/questions/49429585/how-to-change-the-background-color-of-a-single-cell-in-a-jupyter-notebook-jupy\n",
    "from IPython.display import HTML, display\n",
    "\n",
    "def set_background(color):    \n",
    "    script = (\n",
    "        \"var cell = this.closest('.jp-CodeCell');\"\n",
    "        \"var editor = cell.querySelector('.jp-Editor');\"\n",
    "        \"editor.style.background='{}';\"\n",
    "        \"this.parentNode.removeChild(this)\"\n",
    "    ).format(color)\n",
    "\n",
    "    display(HTML('<img src onerror=\"{}\">'.format(script)))\n",
    "    \n",
    "from IPython.core.magic import register_cell_magic\n",
    "from IPython.display import HTML, display\n",
    "\n",
    "@register_cell_magic\n",
    "def bgc(color, cell=None):\n",
    "    script = (\n",
    "        \"var cell = this.closest('.jp-CodeCell');\"\n",
    "        \"var editor = cell.querySelector('.jp-Editor');\"\n",
    "        \"editor.style.background='{}';\"\n",
    "        \"this.parentNode.removeChild(this)\"\n",
    "    ).format(color)\n",
    "\n",
    "    display(HTML('<img src onerror=\"{}\">'.format(script)))    \n",
    "    \n",
    "sleep(0.001)    "
   ]
  },
  {
   "cell_type": "code",
   "execution_count": 9,
   "metadata": {
    "execution": {
     "iopub.execute_input": "2022-09-10T19:50:02.921129Z",
     "iopub.status.busy": "2022-09-10T19:50:02.920926Z",
     "iopub.status.idle": "2022-09-10T19:50:02.932088Z",
     "shell.execute_reply": "2022-09-10T19:50:02.931540Z"
    }
   },
   "outputs": [
    {
     "data": {
      "text/html": [
       "<img src onerror=\"var cell = this.closest('.jp-CodeCell');var editor = cell.querySelector('.jp-Editor');editor.style.background='Beige';this.parentNode.removeChild(this)\">"
      ],
      "text/plain": [
       "<IPython.core.display.HTML object>"
      ]
     },
     "metadata": {},
     "output_type": "display_data"
    }
   ],
   "source": [
    "# Test Hintergrundfarbe ändern\n",
    "bgc('Beige')\n",
    "bla = 'bla'*3\n",
    "\n",
    "sleep(0.001)"
   ]
  },
  {
   "cell_type": "code",
   "execution_count": 10,
   "metadata": {
    "execution": {
     "iopub.execute_input": "2022-09-10T19:50:02.935006Z",
     "iopub.status.busy": "2022-09-10T19:50:02.934813Z",
     "iopub.status.idle": "2022-09-10T19:50:02.942343Z",
     "shell.execute_reply": "2022-09-10T19:50:02.941813Z"
    }
   },
   "outputs": [
    {
     "name": "stdout",
     "output_type": "stream",
     "text": [
      "time: 1.48 ms (started: 2022-09-10 21:50:02 +02:00)\n"
     ]
    }
   ],
   "source": [
    "%%capture\n",
    "\n",
    "## https://github.com/cpcloud/ipython-autotime\n",
    "%load_ext autotime\n",
    "sleep(0.001)"
   ]
  },
  {
   "cell_type": "code",
   "execution_count": 11,
   "metadata": {
    "execution": {
     "iopub.execute_input": "2022-09-10T19:50:02.945133Z",
     "iopub.status.busy": "2022-09-10T19:50:02.944935Z",
     "iopub.status.idle": "2022-09-10T19:50:02.961251Z",
     "shell.execute_reply": "2022-09-10T19:50:02.960780Z"
    }
   },
   "outputs": [
    {
     "name": "stdout",
     "output_type": "stream",
     "text": [
      "time: 12.1 ms (started: 2022-09-10 21:50:02 +02:00)\n"
     ]
    }
   ],
   "source": [
    "%%capture\n",
    "\n",
    "# autoreload  \n",
    "%load_ext autoreload\n",
    "%autoreload 2\n",
    "\n",
    "sleep(0.001)"
   ]
  },
  {
   "cell_type": "code",
   "execution_count": 12,
   "metadata": {
    "execution": {
     "iopub.execute_input": "2022-09-10T19:50:02.965496Z",
     "iopub.status.busy": "2022-09-10T19:50:02.965262Z",
     "iopub.status.idle": "2022-09-10T19:50:03.683026Z",
     "shell.execute_reply": "2022-09-10T19:50:03.682498Z"
    }
   },
   "outputs": [
    {
     "name": "stdout",
     "output_type": "stream",
     "text": [
      "time: 715 ms (started: 2022-09-10 21:50:02 +02:00)\n"
     ]
    }
   ],
   "source": [
    "%matplotlib inline"
   ]
  }
 ],
 "metadata": {
  "kernelspec": {
   "display_name": "Python 3 (ipykernel)",
   "language": "python",
   "name": "python3"
  },
  "language_info": {
   "codemirror_mode": {
    "name": "ipython",
    "version": 3
   },
   "file_extension": ".py",
   "mimetype": "text/x-python",
   "name": "python",
   "nbconvert_exporter": "python",
   "pygments_lexer": "ipython3",
   "version": "3.8.12"
  }
 },
 "nbformat": 4,
 "nbformat_minor": 4
}
