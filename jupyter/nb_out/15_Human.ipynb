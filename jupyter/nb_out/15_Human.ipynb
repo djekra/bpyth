{
 "cells": [
  {
   "cell_type": "markdown",
   "id": "20bc8d5b-e2e0-4d60-9367-289dc527762e",
   "metadata": {},
   "source": [
    "__[Open and try this file online (Colab)](https://colab.research.google.com/github/djekra/bpyth/blob/master/jupyter/15_Human.ipynb)__"
   ]
  },
  {
   "cell_type": "markdown",
   "id": "ade6e0ce-ab8d-4cd7-8ad6-c9f2f8f80411",
   "metadata": {},
   "source": [
    "# bpyth Human Tools\n",
    "* `human_readable_number`: Rounds a number to a fixed number of significant digits.\n",
    "* `human_readable_seconds`: Converts seconds to human readable time\n",
    "* `human_readable_bytes`:   Converts Bytes to human readable size"
   ]
  },
  {
   "cell_type": "code",
   "execution_count": 1,
   "id": "28383554-ed4c-4a7c-bd1f-adfb4a44db11",
   "metadata": {
    "execution": {
     "iopub.execute_input": "2025-03-20T17:04:23.044346Z",
     "iopub.status.busy": "2025-03-20T17:04:23.043353Z",
     "iopub.status.idle": "2025-03-20T17:04:24.174864Z",
     "shell.execute_reply": "2025-03-20T17:04:24.174864Z"
    }
   },
   "outputs": [
    {
     "name": "stdout",
     "output_type": "stream",
     "text": [
      "blab init\n",
      "environment['in_colab']     = False\n",
      "environment['dropbox_path'] = D:\\Dropbox\n",
      "environment['lib_path']     = D:\\Dropbox\\31_Projekte\\01_Python\\libs\n",
      "Start Time: 18:04:23\n"
     ]
    },
    {
     "data": {
      "text/html": [
       "<img src onerror=\"var cell = this.closest('.jp-CodeCell');var editor = cell.querySelector('.jp-Editor');editor.style.background='Beige';this.parentNode.removeChild(this)\">"
      ],
      "text/plain": [
       "<IPython.core.display.HTML object>"
      ]
     },
     "metadata": {},
     "output_type": "display_data"
    }
   ],
   "source": [
    "# blab init\n",
    "try:\n",
    "    import blab\n",
    "except ImportError as e:\n",
    "    !pip install blab\n",
    "    import blab    \n",
    "startup_notebook = blab.blab_startup()\n",
    "%run $startup_notebook "
   ]
  },
  {
   "cell_type": "code",
   "execution_count": 2,
   "id": "be911e5f-049e-4675-8014-31df51453a5d",
   "metadata": {
    "execution": {
     "iopub.execute_input": "2025-03-20T17:04:24.177865Z",
     "iopub.status.busy": "2025-03-20T17:04:24.176875Z",
     "iopub.status.idle": "2025-03-20T17:04:24.322997Z",
     "shell.execute_reply": "2025-03-20T17:04:24.322997Z"
    }
   },
   "outputs": [],
   "source": [
    "import bpyth as bpy"
   ]
  },
  {
   "cell_type": "markdown",
   "id": "0e59c756-8307-430c-8953-280fbb3e111a",
   "metadata": {},
   "source": [
    "## human_readable_number"
   ]
  },
  {
   "cell_type": "code",
   "execution_count": 3,
   "id": "de18abcd-bf2b-4536-b4b0-d4d460227839",
   "metadata": {
    "execution": {
     "iopub.execute_input": "2025-03-20T17:04:24.326038Z",
     "iopub.status.busy": "2025-03-20T17:04:24.325008Z",
     "iopub.status.idle": "2025-03-20T17:04:24.500087Z",
     "shell.execute_reply": "2025-03-20T17:04:24.500087Z"
    }
   },
   "outputs": [],
   "source": [
    "bpy.human_readable_number?"
   ]
  },
  {
   "cell_type": "code",
   "execution_count": 4,
   "id": "b1347a68-8a5b-4452-87aa-95ee480f8044",
   "metadata": {
    "execution": {
     "iopub.execute_input": "2025-03-20T17:04:24.503094Z",
     "iopub.status.busy": "2025-03-20T17:04:24.503094Z",
     "iopub.status.idle": "2025-03-20T17:04:24.650800Z",
     "shell.execute_reply": "2025-03-20T17:04:24.650800Z"
    }
   },
   "outputs": [
    {
     "data": {
      "text/plain": [
       "0.00075"
      ]
     },
     "execution_count": 4,
     "metadata": {},
     "output_type": "execute_result"
    }
   ],
   "source": [
    "bpy.human_readable_number(0.0007511646546, 2)"
   ]
  },
  {
   "cell_type": "code",
   "execution_count": 5,
   "id": "b93898c7-e990-47d7-9e90-86fd54200bb2",
   "metadata": {
    "execution": {
     "iopub.execute_input": "2025-03-20T17:04:24.652806Z",
     "iopub.status.busy": "2025-03-20T17:04:24.652806Z",
     "iopub.status.idle": "2025-03-20T17:04:24.798209Z",
     "shell.execute_reply": "2025-03-20T17:04:24.798209Z"
    }
   },
   "outputs": [
    {
     "data": {
      "text/plain": [
       "76000000000"
      ]
     },
     "execution_count": 5,
     "metadata": {},
     "output_type": "execute_result"
    }
   ],
   "source": [
    "bpy.human_readable_number(75511646546, 2)"
   ]
  },
  {
   "cell_type": "markdown",
   "id": "fa76c330-86b6-431a-9d0c-dcc2e8f70698",
   "metadata": {},
   "source": [
    "## human_readable_seconds"
   ]
  },
  {
   "cell_type": "code",
   "execution_count": 6,
   "id": "cc7211c8-013c-4b5b-b9c4-b26f8ccc4467",
   "metadata": {
    "execution": {
     "iopub.execute_input": "2025-03-20T17:04:24.801218Z",
     "iopub.status.busy": "2025-03-20T17:04:24.800215Z",
     "iopub.status.idle": "2025-03-20T17:04:24.948584Z",
     "shell.execute_reply": "2025-03-20T17:04:24.947744Z"
    },
    "tags": []
   },
   "outputs": [],
   "source": [
    "?bpy.human_readable_seconds"
   ]
  },
  {
   "cell_type": "code",
   "execution_count": 7,
   "id": "f2ac892a-5746-453b-b335-bb45a7c2e632",
   "metadata": {
    "execution": {
     "iopub.execute_input": "2025-03-20T17:04:24.950594Z",
     "iopub.status.busy": "2025-03-20T17:04:24.950594Z",
     "iopub.status.idle": "2025-03-20T17:04:25.100458Z",
     "shell.execute_reply": "2025-03-20T17:04:25.100458Z"
    }
   },
   "outputs": [],
   "source": [
    "assert bpy.human_readable_seconds(4)       ==  '4 secs'\n",
    "assert bpy.human_readable_seconds(0.29)    ==  '0.3 secs'\n",
    "assert bpy.human_readable_seconds(61.5)    ==  '1 min, 2 secs'\n",
    "assert bpy.human_readable_seconds(1919191) ==  '3 weeks, 1 day, 5 hours, 6 mins, 31 secs'"
   ]
  },
  {
   "cell_type": "markdown",
   "id": "836694cb-655b-4d35-8471-4109438239d7",
   "metadata": {},
   "source": [
    "## human_readable_bytes"
   ]
  },
  {
   "cell_type": "code",
   "execution_count": 8,
   "id": "51ca7c0c-c2f1-4235-b42a-99ee59969bf8",
   "metadata": {
    "execution": {
     "iopub.execute_input": "2025-03-20T17:04:25.102615Z",
     "iopub.status.busy": "2025-03-20T17:04:25.102615Z",
     "iopub.status.idle": "2025-03-20T17:04:25.252621Z",
     "shell.execute_reply": "2025-03-20T17:04:25.252330Z"
    },
    "tags": []
   },
   "outputs": [],
   "source": [
    "?bpy.human_readable_bytes"
   ]
  },
  {
   "cell_type": "code",
   "execution_count": 9,
   "id": "b166e6b9-bdf7-419f-80b9-c7e9f5413912",
   "metadata": {
    "execution": {
     "iopub.execute_input": "2025-03-20T17:04:25.254664Z",
     "iopub.status.busy": "2025-03-20T17:04:25.254664Z",
     "iopub.status.idle": "2025-03-20T17:04:25.401039Z",
     "shell.execute_reply": "2025-03-20T17:04:25.400687Z"
    }
   },
   "outputs": [],
   "source": [
    "assert bpy.human_readable_bytes(2049)       ==  '2.0 KB'\n",
    "assert bpy.human_readable_bytes(2.9*1024*1024*1024)  == '2.9 GB'"
   ]
  },
  {
   "cell_type": "code",
   "execution_count": null,
   "id": "f4d2003e-505f-46b5-94b7-1afa9db3c565",
   "metadata": {},
   "outputs": [],
   "source": []
  }
 ],
 "metadata": {
  "kernelspec": {
   "display_name": "Python 3 (ipykernel)",
   "language": "python",
   "name": "python3"
  },
  "language_info": {
   "codemirror_mode": {
    "name": "ipython",
    "version": 3
   },
   "file_extension": ".py",
   "mimetype": "text/x-python",
   "name": "python",
   "nbconvert_exporter": "python",
   "pygments_lexer": "ipython3",
   "version": "3.12.9"
  }
 },
 "nbformat": 4,
 "nbformat_minor": 5
}
