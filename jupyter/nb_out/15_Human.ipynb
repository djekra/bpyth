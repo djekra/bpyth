{
 "cells": [
  {
   "cell_type": "markdown",
   "id": "ade6e0ce-ab8d-4cd7-8ad6-c9f2f8f80411",
   "metadata": {},
   "source": [
    "# bpyth Human Tools\n",
    "* `human_readable_seconds`: Converts seconds to human readable time\n",
    "* `human_readable_bytes`:   Converts Bytes to human readable size"
   ]
  },
  {
   "cell_type": "code",
   "execution_count": 1,
   "id": "75108d6a-0d90-43f1-af73-1b88826aef90",
   "metadata": {
    "execution": {
     "iopub.execute_input": "2022-09-13T15:47:55.870541Z",
     "iopub.status.busy": "2022-09-13T15:47:55.870295Z",
     "iopub.status.idle": "2022-09-13T15:47:56.738670Z",
     "shell.execute_reply": "2022-09-13T15:47:56.737853Z"
    }
   },
   "outputs": [
    {
     "name": "stdout",
     "output_type": "stream",
     "text": [
      "blab init\n",
      "blab found local libs at /mnt/DATA/Dropbox/31_Projekte/01_Python/libs\n",
      "Start Time: 17:47:55\n"
     ]
    },
    {
     "data": {
      "text/html": [
       "<img src onerror=\"var cell = this.closest('.jp-CodeCell');var editor = cell.querySelector('.jp-Editor');editor.style.background='Beige';this.parentNode.removeChild(this)\">"
      ],
      "text/plain": [
       "<IPython.core.display.HTML object>"
      ]
     },
     "metadata": {},
     "output_type": "display_data"
    },
    {
     "name": "stdout",
     "output_type": "stream",
     "text": [
      "time: 668 ms (started: 2022-09-13 17:47:56 +02:00)\n"
     ]
    }
   ],
   "source": [
    "# blab init\n",
    "import blab\n",
    "startup_notebook = blab.blab_startup()\n",
    "%run $startup_notebook"
   ]
  },
  {
   "cell_type": "code",
   "execution_count": 2,
   "id": "d8655d4e-a5ad-4103-82e5-cc5c1856ad59",
   "metadata": {
    "execution": {
     "iopub.execute_input": "2022-09-13T15:47:56.741175Z",
     "iopub.status.busy": "2022-09-13T15:47:56.741015Z",
     "iopub.status.idle": "2022-09-13T15:47:56.752167Z",
     "shell.execute_reply": "2022-09-13T15:47:56.751679Z"
    }
   },
   "outputs": [
    {
     "name": "stdout",
     "output_type": "stream",
     "text": [
      "time: 8.56 ms (started: 2022-09-13 17:47:56 +02:00)\n"
     ]
    }
   ],
   "source": [
    "import bpyth as bpy"
   ]
  },
  {
   "cell_type": "markdown",
   "id": "0e59c756-8307-430c-8953-280fbb3e111a",
   "metadata": {},
   "source": [
    "## human_readable_seconds"
   ]
  },
  {
   "cell_type": "code",
   "execution_count": 3,
   "id": "cc7211c8-013c-4b5b-b9c4-b26f8ccc4467",
   "metadata": {
    "execution": {
     "iopub.execute_input": "2022-09-13T15:47:56.754791Z",
     "iopub.status.busy": "2022-09-13T15:47:56.754615Z",
     "iopub.status.idle": "2022-09-13T15:47:56.802086Z",
     "shell.execute_reply": "2022-09-13T15:47:56.801584Z"
    },
    "tags": []
   },
   "outputs": [
    {
     "name": "stdout",
     "output_type": "stream",
     "text": [
      "time: 44.5 ms (started: 2022-09-13 17:47:56 +02:00)\n"
     ]
    }
   ],
   "source": [
    "?bpy.human_readable_seconds"
   ]
  },
  {
   "cell_type": "code",
   "execution_count": 4,
   "id": "f2ac892a-5746-453b-b335-bb45a7c2e632",
   "metadata": {
    "execution": {
     "iopub.execute_input": "2022-09-13T15:47:56.804604Z",
     "iopub.status.busy": "2022-09-13T15:47:56.804429Z",
     "iopub.status.idle": "2022-09-13T15:47:56.820073Z",
     "shell.execute_reply": "2022-09-13T15:47:56.819593Z"
    }
   },
   "outputs": [
    {
     "name": "stdout",
     "output_type": "stream",
     "text": [
      "time: 13 ms (started: 2022-09-13 17:47:56 +02:00)\n"
     ]
    }
   ],
   "source": [
    "assert bpy.human_readable_seconds(4)       ==  '4 secs'\n",
    "assert bpy.human_readable_seconds(0.29)    ==  '0.3 secs'\n",
    "assert bpy.human_readable_seconds(61.5)    ==  '1 min, 2 secs'\n",
    "assert bpy.human_readable_seconds(1919191) ==  '3 weeks, 1 day, 5 hours, 6 mins, 31 secs'"
   ]
  },
  {
   "cell_type": "markdown",
   "id": "836694cb-655b-4d35-8471-4109438239d7",
   "metadata": {},
   "source": [
    "## human_readable_bytes"
   ]
  },
  {
   "cell_type": "code",
   "execution_count": 5,
   "id": "51ca7c0c-c2f1-4235-b42a-99ee59969bf8",
   "metadata": {
    "execution": {
     "iopub.execute_input": "2022-09-13T15:47:56.822710Z",
     "iopub.status.busy": "2022-09-13T15:47:56.822538Z",
     "iopub.status.idle": "2022-09-13T15:47:56.834908Z",
     "shell.execute_reply": "2022-09-13T15:47:56.834425Z"
    },
    "tags": []
   },
   "outputs": [
    {
     "name": "stdout",
     "output_type": "stream",
     "text": [
      "time: 9.67 ms (started: 2022-09-13 17:47:56 +02:00)\n"
     ]
    }
   ],
   "source": [
    "?bpy.human_readable_bytes"
   ]
  },
  {
   "cell_type": "code",
   "execution_count": 6,
   "id": "b166e6b9-bdf7-419f-80b9-c7e9f5413912",
   "metadata": {
    "execution": {
     "iopub.execute_input": "2022-09-13T15:47:56.837475Z",
     "iopub.status.busy": "2022-09-13T15:47:56.837301Z",
     "iopub.status.idle": "2022-09-13T15:47:56.851139Z",
     "shell.execute_reply": "2022-09-13T15:47:56.850629Z"
    }
   },
   "outputs": [
    {
     "name": "stdout",
     "output_type": "stream",
     "text": [
      "time: 11.2 ms (started: 2022-09-13 17:47:56 +02:00)\n"
     ]
    }
   ],
   "source": [
    "assert bpy.human_readable_bytes(2049)       ==  '2.0 KB'\n",
    "assert bpy.human_readable_bytes(2.9*1024*1024*1024)  == '2.9 GB'"
   ]
  },
  {
   "cell_type": "code",
   "execution_count": null,
   "id": "fab0d12a-7eda-43da-97ce-21f093315ca3",
   "metadata": {},
   "outputs": [],
   "source": []
  }
 ],
 "metadata": {
  "kernelspec": {
   "display_name": "Python 3 (ipykernel)",
   "language": "python",
   "name": "python3"
  },
  "language_info": {
   "codemirror_mode": {
    "name": "ipython",
    "version": 3
   },
   "file_extension": ".py",
   "mimetype": "text/x-python",
   "name": "python",
   "nbconvert_exporter": "python",
   "pygments_lexer": "ipython3",
   "version": "3.8.12"
  }
 },
 "nbformat": 4,
 "nbformat_minor": 5
}
