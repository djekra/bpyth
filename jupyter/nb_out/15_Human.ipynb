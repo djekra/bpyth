{
 "cells": [
  {
   "cell_type": "markdown",
   "id": "ade6e0ce-ab8d-4cd7-8ad6-c9f2f8f80411",
   "metadata": {},
   "source": [
    "# bpyth Human Tools\n",
    "* `human_readable_seconds`: Converts seconds to human readable time\n",
    "* `human_readable_bytes`:   Converts Bytes to human readable size"
   ]
  },
  {
   "cell_type": "code",
   "execution_count": 1,
   "id": "75108d6a-0d90-43f1-af73-1b88826aef90",
   "metadata": {
    "execution": {
     "iopub.execute_input": "2022-09-10T19:50:51.419653Z",
     "iopub.status.busy": "2022-09-10T19:50:51.418893Z",
     "iopub.status.idle": "2022-09-10T19:50:52.319170Z",
     "shell.execute_reply": "2022-09-10T19:50:52.318589Z"
    }
   },
   "outputs": [
    {
     "name": "stdout",
     "output_type": "stream",
     "text": [
      "JupyterLab Tools Version 0.22\n",
      "found local libs at /mnt/DATA/Dropbox/31_Projekte/01_Python/libs\n",
      "Start Time: 21:50:51\n"
     ]
    },
    {
     "data": {
      "text/html": [
       "<img src onerror=\"var cell = this.closest('.jp-CodeCell');var editor = cell.querySelector('.jp-Editor');editor.style.background='Beige';this.parentNode.removeChild(this)\">"
      ],
      "text/plain": [
       "<IPython.core.display.HTML object>"
      ]
     },
     "metadata": {},
     "output_type": "display_data"
    },
    {
     "name": "stdout",
     "output_type": "stream",
     "text": [
      "time: 712 ms (started: 2022-09-10 21:50:51 +02:00)\n"
     ]
    }
   ],
   "source": [
    "%run 98___blab_tools.ipynb"
   ]
  },
  {
   "cell_type": "code",
   "execution_count": 2,
   "id": "d8655d4e-a5ad-4103-82e5-cc5c1856ad59",
   "metadata": {
    "execution": {
     "iopub.execute_input": "2022-09-10T19:50:52.321717Z",
     "iopub.status.busy": "2022-09-10T19:50:52.321541Z",
     "iopub.status.idle": "2022-09-10T19:50:52.333165Z",
     "shell.execute_reply": "2022-09-10T19:50:52.332684Z"
    }
   },
   "outputs": [
    {
     "name": "stdout",
     "output_type": "stream",
     "text": [
      "time: 9.09 ms (started: 2022-09-10 21:50:52 +02:00)\n"
     ]
    }
   ],
   "source": [
    "import bpyth as bpy"
   ]
  },
  {
   "cell_type": "markdown",
   "id": "0e59c756-8307-430c-8953-280fbb3e111a",
   "metadata": {},
   "source": [
    "## human_readable_seconds"
   ]
  },
  {
   "cell_type": "code",
   "execution_count": 3,
   "id": "cc7211c8-013c-4b5b-b9c4-b26f8ccc4467",
   "metadata": {
    "execution": {
     "iopub.execute_input": "2022-09-10T19:50:52.335552Z",
     "iopub.status.busy": "2022-09-10T19:50:52.335346Z",
     "iopub.status.idle": "2022-09-10T19:50:52.383482Z",
     "shell.execute_reply": "2022-09-10T19:50:52.382991Z"
    },
    "tags": []
   },
   "outputs": [
    {
     "name": "stdout",
     "output_type": "stream",
     "text": [
      "time: 45.4 ms (started: 2022-09-10 21:50:52 +02:00)\n"
     ]
    }
   ],
   "source": [
    "?bpy.human_readable_seconds"
   ]
  },
  {
   "cell_type": "code",
   "execution_count": 4,
   "id": "f2ac892a-5746-453b-b335-bb45a7c2e632",
   "metadata": {
    "execution": {
     "iopub.execute_input": "2022-09-10T19:50:52.385824Z",
     "iopub.status.busy": "2022-09-10T19:50:52.385610Z",
     "iopub.status.idle": "2022-09-10T19:50:52.401942Z",
     "shell.execute_reply": "2022-09-10T19:50:52.401457Z"
    }
   },
   "outputs": [
    {
     "name": "stdout",
     "output_type": "stream",
     "text": [
      "time: 13.5 ms (started: 2022-09-10 21:50:52 +02:00)\n"
     ]
    }
   ],
   "source": [
    "assert bpy.human_readable_seconds(4)       ==  '4 secs'\n",
    "assert bpy.human_readable_seconds(0.29)    ==  '0.3 secs'\n",
    "assert bpy.human_readable_seconds(61.5)    ==  '1 min, 2 secs'\n",
    "assert bpy.human_readable_seconds(1919191) ==  '3 weeks, 1 day, 5 hours, 6 mins, 31 secs'"
   ]
  },
  {
   "cell_type": "markdown",
   "id": "836694cb-655b-4d35-8471-4109438239d7",
   "metadata": {},
   "source": [
    "## human_readable_bytes"
   ]
  },
  {
   "cell_type": "code",
   "execution_count": 5,
   "id": "51ca7c0c-c2f1-4235-b42a-99ee59969bf8",
   "metadata": {
    "execution": {
     "iopub.execute_input": "2022-09-10T19:50:52.404314Z",
     "iopub.status.busy": "2022-09-10T19:50:52.404101Z",
     "iopub.status.idle": "2022-09-10T19:50:52.417324Z",
     "shell.execute_reply": "2022-09-10T19:50:52.416815Z"
    },
    "tags": []
   },
   "outputs": [
    {
     "name": "stdout",
     "output_type": "stream",
     "text": [
      "time: 10.3 ms (started: 2022-09-10 21:50:52 +02:00)\n"
     ]
    }
   ],
   "source": [
    "?bpy.human_readable_bytes"
   ]
  },
  {
   "cell_type": "code",
   "execution_count": 6,
   "id": "b166e6b9-bdf7-419f-80b9-c7e9f5413912",
   "metadata": {
    "execution": {
     "iopub.execute_input": "2022-09-10T19:50:52.419778Z",
     "iopub.status.busy": "2022-09-10T19:50:52.419605Z",
     "iopub.status.idle": "2022-09-10T19:50:52.435382Z",
     "shell.execute_reply": "2022-09-10T19:50:52.434890Z"
    }
   },
   "outputs": [
    {
     "name": "stdout",
     "output_type": "stream",
     "text": [
      "time: 12.3 ms (started: 2022-09-10 21:50:52 +02:00)\n"
     ]
    }
   ],
   "source": [
    "assert bpy.human_readable_bytes(2049)       ==  '2.0 KB'\n",
    "assert bpy.human_readable_bytes(2.9*1024*1024*1024)  == '2.9 GB'"
   ]
  },
  {
   "cell_type": "code",
   "execution_count": null,
   "id": "fab0d12a-7eda-43da-97ce-21f093315ca3",
   "metadata": {},
   "outputs": [],
   "source": []
  }
 ],
 "metadata": {
  "kernelspec": {
   "display_name": "Python 3 (ipykernel)",
   "language": "python",
   "name": "python3"
  },
  "language_info": {
   "codemirror_mode": {
    "name": "ipython",
    "version": 3
   },
   "file_extension": ".py",
   "mimetype": "text/x-python",
   "name": "python",
   "nbconvert_exporter": "python",
   "pygments_lexer": "ipython3",
   "version": "3.8.12"
  }
 },
 "nbformat": 4,
 "nbformat_minor": 5
}
