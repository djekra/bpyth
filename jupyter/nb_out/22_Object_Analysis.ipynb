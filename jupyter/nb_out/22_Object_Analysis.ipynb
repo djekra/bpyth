{
 "cells": [
  {
   "cell_type": "markdown",
   "metadata": {},
   "source": [
    "# bpyth Object Analysis Tools\n",
    "* `rtype`: Recursive type. Parses an n-dimensional object and returns a tuple of stype for the scalar in the top left corner.\n",
    "* `shape`: Recursive len. Parses an n-dimensional object and returns a tuple of sizes.\n",
    "* `has_shape`: Does an object have additional dimensions? (Skalars: No, Strings: No, Empty Iterables: No,\n",
    "    Other Iterables: Yes)"
   ]
  },
  {
   "cell_type": "code",
   "execution_count": 1,
   "metadata": {
    "execution": {
     "iopub.execute_input": "2022-09-10T19:50:56.455936Z",
     "iopub.status.busy": "2022-09-10T19:50:56.455596Z",
     "iopub.status.idle": "2022-09-10T19:50:57.333680Z",
     "shell.execute_reply": "2022-09-10T19:50:57.333113Z"
    }
   },
   "outputs": [
    {
     "name": "stdout",
     "output_type": "stream",
     "text": [
      "JupyterLab Tools Version 0.22\n",
      "found local libs at /mnt/DATA/Dropbox/31_Projekte/01_Python/libs\n",
      "Start Time: 21:50:56\n"
     ]
    },
    {
     "data": {
      "text/html": [
       "<img src onerror=\"var cell = this.closest('.jp-CodeCell');var editor = cell.querySelector('.jp-Editor');editor.style.background='Beige';this.parentNode.removeChild(this)\">"
      ],
      "text/plain": [
       "<IPython.core.display.HTML object>"
      ]
     },
     "metadata": {},
     "output_type": "display_data"
    },
    {
     "name": "stdout",
     "output_type": "stream",
     "text": [
      "time: 688 ms (started: 2022-09-10 21:50:56 +02:00)\n"
     ]
    }
   ],
   "source": [
    "%run 98___blab_tools.ipynb"
   ]
  },
  {
   "cell_type": "code",
   "execution_count": 2,
   "metadata": {
    "execution": {
     "iopub.execute_input": "2022-09-10T19:50:57.336119Z",
     "iopub.status.busy": "2022-09-10T19:50:57.335817Z",
     "iopub.status.idle": "2022-09-10T19:50:57.347237Z",
     "shell.execute_reply": "2022-09-10T19:50:57.346772Z"
    }
   },
   "outputs": [
    {
     "name": "stdout",
     "output_type": "stream",
     "text": [
      "time: 8.74 ms (started: 2022-09-10 21:50:57 +02:00)\n"
     ]
    }
   ],
   "source": [
    "import bpyth as bpy"
   ]
  },
  {
   "cell_type": "markdown",
   "metadata": {},
   "source": [
    "## has_shape"
   ]
  },
  {
   "cell_type": "code",
   "execution_count": 3,
   "metadata": {
    "execution": {
     "iopub.execute_input": "2022-09-10T19:50:57.349628Z",
     "iopub.status.busy": "2022-09-10T19:50:57.349452Z",
     "iopub.status.idle": "2022-09-10T19:50:57.397103Z",
     "shell.execute_reply": "2022-09-10T19:50:57.396627Z"
    },
    "tags": []
   },
   "outputs": [
    {
     "name": "stdout",
     "output_type": "stream",
     "text": [
      "time: 45 ms (started: 2022-09-10 21:50:57 +02:00)\n"
     ]
    }
   ],
   "source": [
    "?bpy.has_shape"
   ]
  },
  {
   "cell_type": "code",
   "execution_count": 4,
   "metadata": {
    "execution": {
     "iopub.execute_input": "2022-09-10T19:50:57.399573Z",
     "iopub.status.busy": "2022-09-10T19:50:57.399404Z",
     "iopub.status.idle": "2022-09-10T19:50:57.412424Z",
     "shell.execute_reply": "2022-09-10T19:50:57.411923Z"
    }
   },
   "outputs": [
    {
     "name": "stdout",
     "output_type": "stream",
     "text": [
      "time: 10.5 ms (started: 2022-09-10 21:50:57 +02:00)\n"
     ]
    }
   ],
   "source": [
    "assert bpy.has_shape(list('abc'))\n",
    "assert bpy.has_shape((1,2))"
   ]
  },
  {
   "cell_type": "code",
   "execution_count": 5,
   "metadata": {
    "execution": {
     "iopub.execute_input": "2022-09-10T19:50:57.414855Z",
     "iopub.status.busy": "2022-09-10T19:50:57.414683Z",
     "iopub.status.idle": "2022-09-10T19:50:57.429195Z",
     "shell.execute_reply": "2022-09-10T19:50:57.428736Z"
    }
   },
   "outputs": [
    {
     "name": "stdout",
     "output_type": "stream",
     "text": [
      "time: 11.9 ms (started: 2022-09-10 21:50:57 +02:00)\n"
     ]
    }
   ],
   "source": [
    "assert not bpy.has_shape([])\n",
    "assert not bpy.has_shape(1)\n",
    "assert not bpy.has_shape('abc')\n",
    "assert not bpy.has_shape(None)"
   ]
  },
  {
   "cell_type": "markdown",
   "metadata": {},
   "source": [
    "## rtype and shape of pure python objects"
   ]
  },
  {
   "cell_type": "code",
   "execution_count": 6,
   "metadata": {
    "execution": {
     "iopub.execute_input": "2022-09-10T19:50:57.431459Z",
     "iopub.status.busy": "2022-09-10T19:50:57.431288Z",
     "iopub.status.idle": "2022-09-10T19:50:57.443680Z",
     "shell.execute_reply": "2022-09-10T19:50:57.443179Z"
    },
    "tags": []
   },
   "outputs": [
    {
     "name": "stdout",
     "output_type": "stream",
     "text": [
      "time: 9.84 ms (started: 2022-09-10 21:50:57 +02:00)\n"
     ]
    }
   ],
   "source": [
    "?bpy.shape"
   ]
  },
  {
   "cell_type": "code",
   "execution_count": 7,
   "metadata": {
    "execution": {
     "iopub.execute_input": "2022-09-10T19:50:57.446054Z",
     "iopub.status.busy": "2022-09-10T19:50:57.445878Z",
     "iopub.status.idle": "2022-09-10T19:50:57.458190Z",
     "shell.execute_reply": "2022-09-10T19:50:57.457722Z"
    },
    "tags": []
   },
   "outputs": [
    {
     "name": "stdout",
     "output_type": "stream",
     "text": [
      "time: 9.69 ms (started: 2022-09-10 21:50:57 +02:00)\n"
     ]
    }
   ],
   "source": [
    "?bpy.rtype"
   ]
  },
  {
   "cell_type": "code",
   "execution_count": 8,
   "metadata": {
    "execution": {
     "iopub.execute_input": "2022-09-10T19:50:57.460509Z",
     "iopub.status.busy": "2022-09-10T19:50:57.460340Z",
     "iopub.status.idle": "2022-09-10T19:50:57.477251Z",
     "shell.execute_reply": "2022-09-10T19:50:57.476786Z"
    }
   },
   "outputs": [
    {
     "name": "stdout",
     "output_type": "stream",
     "text": [
      "time: 14 ms (started: 2022-09-10 21:50:57 +02:00)\n"
     ]
    }
   ],
   "source": [
    "# 0 Dimensionen\n",
    "assert bpy.shape('jjj' ) == tuple()\n",
    "assert bpy.shape(123)    == tuple()\n",
    "assert bpy.shape(None)   == tuple()\n",
    "assert bpy.shape([])     == tuple()\n",
    "assert bpy.shape({})     == tuple()"
   ]
  },
  {
   "cell_type": "code",
   "execution_count": 9,
   "metadata": {
    "execution": {
     "iopub.execute_input": "2022-09-10T19:50:57.479606Z",
     "iopub.status.busy": "2022-09-10T19:50:57.479437Z",
     "iopub.status.idle": "2022-09-10T19:50:57.495753Z",
     "shell.execute_reply": "2022-09-10T19:50:57.495284Z"
    }
   },
   "outputs": [
    {
     "name": "stdout",
     "output_type": "stream",
     "text": [
      "time: 13.4 ms (started: 2022-09-10 21:50:57 +02:00)\n"
     ]
    }
   ],
   "source": [
    "# 0 Dimensionen\n",
    "assert bpy.rtype(123)    == ('int',)\n",
    "assert bpy.rtype(None)   == ('NoneType',)\n",
    "assert bpy.rtype([])     == ('list',)\n",
    "assert bpy.rtype({})     == ('dict',)\n",
    "assert bpy.rtype('jjj' ) == ('str',)"
   ]
  },
  {
   "cell_type": "code",
   "execution_count": 10,
   "metadata": {
    "execution": {
     "iopub.execute_input": "2022-09-10T19:50:57.498053Z",
     "iopub.status.busy": "2022-09-10T19:50:57.497884Z",
     "iopub.status.idle": "2022-09-10T19:50:57.511583Z",
     "shell.execute_reply": "2022-09-10T19:50:57.511093Z"
    }
   },
   "outputs": [
    {
     "name": "stdout",
     "output_type": "stream",
     "text": [
      "time: 10.9 ms (started: 2022-09-10 21:50:57 +02:00)\n"
     ]
    }
   ],
   "source": [
    "# 1 Dimension\n",
    "obj_4 = ( 'abcde', 'grfer', 'btjqw', 'bqwer' )\n",
    "assert bpy.shape(obj_4) == (4,)\n",
    "assert bpy.rtype(obj_4) == ('tuple', 'str')"
   ]
  },
  {
   "cell_type": "code",
   "execution_count": 11,
   "metadata": {
    "execution": {
     "iopub.execute_input": "2022-09-10T19:50:57.513997Z",
     "iopub.status.busy": "2022-09-10T19:50:57.513825Z",
     "iopub.status.idle": "2022-09-10T19:50:57.527262Z",
     "shell.execute_reply": "2022-09-10T19:50:57.526794Z"
    }
   },
   "outputs": [
    {
     "name": "stdout",
     "output_type": "stream",
     "text": [
      "time: 10.9 ms (started: 2022-09-10 21:50:57 +02:00)\n"
     ]
    }
   ],
   "source": [
    "# shit \n",
    "obj_shit = [[]]\n",
    "assert bpy.shape(obj_shit) == (1,)\n",
    "assert bpy.rtype(obj_shit) == ('list', 'list')"
   ]
  },
  {
   "cell_type": "code",
   "execution_count": 12,
   "metadata": {
    "execution": {
     "iopub.execute_input": "2022-09-10T19:50:57.529607Z",
     "iopub.status.busy": "2022-09-10T19:50:57.529438Z",
     "iopub.status.idle": "2022-09-10T19:50:57.543056Z",
     "shell.execute_reply": "2022-09-10T19:50:57.542577Z"
    }
   },
   "outputs": [
    {
     "name": "stdout",
     "output_type": "stream",
     "text": [
      "time: 10.9 ms (started: 2022-09-10 21:50:57 +02:00)\n"
     ]
    }
   ],
   "source": [
    "# shit\n",
    "obj_shit = [[1]]\n",
    "assert bpy.shape(obj_shit) == (1,1)\n",
    "assert bpy.rtype(obj_shit) == ('list', 'list','int')"
   ]
  },
  {
   "cell_type": "code",
   "execution_count": 13,
   "metadata": {
    "execution": {
     "iopub.execute_input": "2022-09-10T19:50:57.545473Z",
     "iopub.status.busy": "2022-09-10T19:50:57.545301Z",
     "iopub.status.idle": "2022-09-10T19:50:57.558925Z",
     "shell.execute_reply": "2022-09-10T19:50:57.558467Z"
    }
   },
   "outputs": [
    {
     "name": "stdout",
     "output_type": "stream",
     "text": [
      "time: 10.9 ms (started: 2022-09-10 21:50:57 +02:00)\n"
     ]
    }
   ],
   "source": [
    "# 1 Dimension, heterogener Inhalt: Nur das erste Element wird untersucht!\n",
    "obj_3 = ( 'ICH WERDE UNTERSUCHT', -77, -99 )\n",
    "assert bpy.shape(obj_3) == (3,)\n",
    "assert bpy.rtype(obj_3) == ('tuple', 'str')"
   ]
  },
  {
   "cell_type": "code",
   "execution_count": 14,
   "metadata": {
    "execution": {
     "iopub.execute_input": "2022-09-10T19:50:57.561250Z",
     "iopub.status.busy": "2022-09-10T19:50:57.561083Z",
     "iopub.status.idle": "2022-09-10T19:50:57.576673Z",
     "shell.execute_reply": "2022-09-10T19:50:57.576214Z"
    }
   },
   "outputs": [
    {
     "name": "stdout",
     "output_type": "stream",
     "text": [
      "time: 12.6 ms (started: 2022-09-10 21:50:57 +02:00)\n"
     ]
    }
   ],
   "source": [
    "# 2 Dimensionen\n",
    "obj_43 = [[1,2,3],[4,5,6], [7, 8, 9], [10, 11, 12]]\n",
    "assert bpy.shape(obj_43) == (4,3)\n",
    "assert bpy.shape(tuple(obj_43)) == (4,3)\n",
    "assert bpy.rtype(obj_43) == ('list', 'list', 'int')"
   ]
  },
  {
   "cell_type": "code",
   "execution_count": 15,
   "metadata": {
    "execution": {
     "iopub.execute_input": "2022-09-10T19:50:57.578981Z",
     "iopub.status.busy": "2022-09-10T19:50:57.578812Z",
     "iopub.status.idle": "2022-09-10T19:50:57.600403Z",
     "shell.execute_reply": "2022-09-10T19:50:57.597698Z"
    }
   },
   "outputs": [
    {
     "name": "stdout",
     "output_type": "stream",
     "text": [
      "time: 11.5 ms (started: 2022-09-10 21:50:57 +02:00)\n"
     ]
    }
   ],
   "source": [
    "# 3 Dimensionen\n",
    "obj_533 = [\n",
    "    [[0, 0, 0], [1, 1, 1], [2, 2, 2]],\n",
    "    [[0, 0, 0], [1, 1, 1], [2, 2, 2]],\n",
    "    [[0, 0, 0], [1, 1, 1], [2, 2, 2]],\n",
    "    [[0, 0, 0], [1, 1, 1], [2, 2, 2]],\n",
    "    [[0, 0, 0], [1, 1, 1], [2, 2, 2]],\n",
    "]\n",
    "assert bpy.shape(obj_533) == (5, 3, 3)\n",
    "assert bpy.rtype(obj_533) == ('list', 'list', 'list', 'int')"
   ]
  },
  {
   "cell_type": "code",
   "execution_count": 16,
   "metadata": {
    "execution": {
     "iopub.execute_input": "2022-09-10T19:50:57.604581Z",
     "iopub.status.busy": "2022-09-10T19:50:57.604217Z",
     "iopub.status.idle": "2022-09-10T19:50:57.621400Z",
     "shell.execute_reply": "2022-09-10T19:50:57.620854Z"
    }
   },
   "outputs": [
    {
     "name": "stdout",
     "output_type": "stream",
     "text": [
      "time: 12.9 ms (started: 2022-09-10 21:50:57 +02:00)\n"
     ]
    }
   ],
   "source": [
    "# Anderer Datentyp\n",
    "obj_45 = [ list('abcde'), list('grfer'), list('btjqw'), list('bqwer') ]\n",
    "assert bpy.shape(obj_45) == (4,5)\n",
    "assert bpy.rtype(obj_45) == ('list', 'list', 'str')"
   ]
  },
  {
   "cell_type": "code",
   "execution_count": 17,
   "metadata": {
    "execution": {
     "iopub.execute_input": "2022-09-10T19:50:57.623838Z",
     "iopub.status.busy": "2022-09-10T19:50:57.623670Z",
     "iopub.status.idle": "2022-09-10T19:50:57.638141Z",
     "shell.execute_reply": "2022-09-10T19:50:57.637564Z"
    }
   },
   "outputs": [
    {
     "name": "stdout",
     "output_type": "stream",
     "text": [
      "time: 11.3 ms (started: 2022-09-10 21:50:57 +02:00)\n"
     ]
    }
   ],
   "source": [
    "# 2 Dimensionen mit leeren Listen\n",
    "obj_53 = [\n",
    "    [[], [], []],\n",
    "    [[], [], []],\n",
    "    [[], [], []],\n",
    "    [[], [], []],\n",
    "    [[], [], []],\n",
    "]\n",
    "assert bpy.shape(obj_53) == (5,3)\n",
    "assert bpy.rtype(obj_53) == ('list', 'list', 'list')"
   ]
  },
  {
   "cell_type": "code",
   "execution_count": 18,
   "metadata": {
    "execution": {
     "iopub.execute_input": "2022-09-10T19:50:57.640432Z",
     "iopub.status.busy": "2022-09-10T19:50:57.640266Z",
     "iopub.status.idle": "2022-09-10T19:50:57.654010Z",
     "shell.execute_reply": "2022-09-10T19:50:57.653545Z"
    }
   },
   "outputs": [
    {
     "name": "stdout",
     "output_type": "stream",
     "text": [
      "time: 10.8 ms (started: 2022-09-10 21:50:57 +02:00)\n"
     ]
    }
   ],
   "source": [
    "dict_3 = {'A': 1,\n",
    "          'B': 2,\n",
    "          'C': 3,              \n",
    "               }\n",
    "\n",
    "assert bpy.shape(dict_3) == (3,)\n",
    "assert bpy.rtype(dict_3) == ('dict', 'int')"
   ]
  },
  {
   "cell_type": "code",
   "execution_count": 19,
   "metadata": {
    "execution": {
     "iopub.execute_input": "2022-09-10T19:50:57.656392Z",
     "iopub.status.busy": "2022-09-10T19:50:57.656219Z",
     "iopub.status.idle": "2022-09-10T19:50:57.671596Z",
     "shell.execute_reply": "2022-09-10T19:50:57.671100Z"
    }
   },
   "outputs": [
    {
     "name": "stdout",
     "output_type": "stream",
     "text": [
      "time: 11.4 ms (started: 2022-09-10 21:50:57 +02:00)\n"
     ]
    }
   ],
   "source": [
    "dict_54 = {'A': [1,4,5,6],\n",
    "           'B': [2,4,5,6],\n",
    "           'C': [3,4,0,9],\n",
    "           'D': [4,4,5,9],\n",
    "           'E': [5,4,5,6],                \n",
    "               }\n",
    "assert bpy.shape(dict_54) == (5,4)\n",
    "assert bpy.rtype(dict_54) == ('dict', 'list', 'int')"
   ]
  },
  {
   "cell_type": "code",
   "execution_count": 20,
   "metadata": {
    "execution": {
     "iopub.execute_input": "2022-09-10T19:50:57.674044Z",
     "iopub.status.busy": "2022-09-10T19:50:57.673828Z",
     "iopub.status.idle": "2022-09-10T19:50:57.688359Z",
     "shell.execute_reply": "2022-09-10T19:50:57.687909Z"
    }
   },
   "outputs": [
    {
     "name": "stdout",
     "output_type": "stream",
     "text": [
      "time: 11.3 ms (started: 2022-09-10 21:50:57 +02:00)\n"
     ]
    }
   ],
   "source": [
    "dict_54b = {'A': (1,4,5,6),\n",
    "            'B': (2,4,5,6),\n",
    "            'C': (3,4,0,9),\n",
    "            'D': (4,4,5,9),\n",
    "            'E': (5,4,5,6),                \n",
    "               }\n",
    "assert bpy.shape(dict_54b) == (5,4)\n",
    "assert bpy.rtype(dict_54b) == ('dict', 'tuple', 'int')"
   ]
  },
  {
   "cell_type": "code",
   "execution_count": 21,
   "metadata": {
    "execution": {
     "iopub.execute_input": "2022-09-10T19:50:57.690819Z",
     "iopub.status.busy": "2022-09-10T19:50:57.690501Z",
     "iopub.status.idle": "2022-09-10T19:50:57.705072Z",
     "shell.execute_reply": "2022-09-10T19:50:57.704554Z"
    }
   },
   "outputs": [
    {
     "name": "stdout",
     "output_type": "stream",
     "text": [
      "time: 11.3 ms (started: 2022-09-10 21:50:57 +02:00)\n"
     ]
    }
   ],
   "source": [
    "dict_32 = {'A': ((),(),),\n",
    "           'B': ((),(),),    \n",
    "           'C': ((),(),),                \n",
    "               }\n",
    "assert bpy.shape(dict_32) == (3,2)\n",
    "assert bpy.rtype(dict_32) == ('dict', 'tuple', 'tuple')"
   ]
  },
  {
   "cell_type": "markdown",
   "metadata": {},
   "source": [
    "## rtype and shape of pandas and numpy objects"
   ]
  },
  {
   "cell_type": "code",
   "execution_count": 22,
   "metadata": {
    "execution": {
     "iopub.execute_input": "2022-09-10T19:50:57.707451Z",
     "iopub.status.busy": "2022-09-10T19:50:57.707245Z",
     "iopub.status.idle": "2022-09-10T19:50:58.003026Z",
     "shell.execute_reply": "2022-09-10T19:50:58.002494Z"
    }
   },
   "outputs": [
    {
     "name": "stdout",
     "output_type": "stream",
     "text": [
      "time: 293 ms (started: 2022-09-10 21:50:57 +02:00)\n"
     ]
    }
   ],
   "source": [
    "import pandas     as pd \n",
    "import numpy      as np"
   ]
  },
  {
   "cell_type": "code",
   "execution_count": 23,
   "metadata": {
    "execution": {
     "iopub.execute_input": "2022-09-10T19:50:58.005626Z",
     "iopub.status.busy": "2022-09-10T19:50:58.005452Z",
     "iopub.status.idle": "2022-09-10T19:50:58.030562Z",
     "shell.execute_reply": "2022-09-10T19:50:58.030082Z"
    }
   },
   "outputs": [
    {
     "name": "stdout",
     "output_type": "stream",
     "text": [
      "time: 21 ms (started: 2022-09-10 21:50:58 +02:00)\n"
     ]
    }
   ],
   "source": [
    "# 0 Dimensionen\n",
    "assert bpy.shape( np.array([]) )               == tuple()\n",
    "assert bpy.shape( pd.Series(dtype='float64') ) == tuple()\n",
    "assert bpy.shape( pd.DataFrame() )             == tuple()\n",
    "assert bpy.shape( pd.DataFrame([]) )           == tuple()\n",
    "assert bpy.shape( pd.DataFrame([[]]) )         == tuple()"
   ]
  },
  {
   "cell_type": "code",
   "execution_count": 24,
   "metadata": {
    "execution": {
     "iopub.execute_input": "2022-09-10T19:50:58.033137Z",
     "iopub.status.busy": "2022-09-10T19:50:58.032969Z",
     "iopub.status.idle": "2022-09-10T19:50:58.056161Z",
     "shell.execute_reply": "2022-09-10T19:50:58.055686Z"
    }
   },
   "outputs": [
    {
     "name": "stdout",
     "output_type": "stream",
     "text": [
      "time: 19.2 ms (started: 2022-09-10 21:50:58 +02:00)\n"
     ]
    }
   ],
   "source": [
    "# 0 Dimensionen\n",
    "assert bpy.rtype( np.array([]) )               == ('ndarray',)\n",
    "assert bpy.rtype( pd.Series(dtype='float64') ) == ('Series',)\n",
    "assert bpy.rtype( pd.DataFrame() )             == ('DataFrame',)\n",
    "assert bpy.rtype( pd.DataFrame([]) )           == ('DataFrame',)\n",
    "assert bpy.rtype( pd.DataFrame([[]]) )         == ('DataFrame','Series')"
   ]
  },
  {
   "cell_type": "code",
   "execution_count": 25,
   "metadata": {
    "execution": {
     "iopub.execute_input": "2022-09-10T19:50:58.058650Z",
     "iopub.status.busy": "2022-09-10T19:50:58.058364Z",
     "iopub.status.idle": "2022-09-10T19:50:58.084497Z",
     "shell.execute_reply": "2022-09-10T19:50:58.084007Z"
    }
   },
   "outputs": [
    {
     "name": "stdout",
     "output_type": "stream",
     "text": [
      "time: 21.5 ms (started: 2022-09-10 21:50:58 +02:00)\n"
     ]
    }
   ],
   "source": [
    "# 1 Dimensionen\n",
    "assert bpy.rtype( np.array(['a']) )                == ('ndarray','str')\n",
    "try:\n",
    "    assert bpy.rtype( np.array([1]) )              == ('ndarray','int32')\n",
    "except:\n",
    "    assert bpy.rtype( np.array([1]) )              == ('ndarray','int64')\n",
    "assert bpy.rtype( pd.Series([1],dtype='float64') ) == ('Series','float')\n",
    "assert bpy.rtype( pd.DataFrame(['a']) )            == ('DataFrame','Series','str')\n",
    "assert bpy.rtype( pd.DataFrame([['a']]) )          == ('DataFrame','Series','str')"
   ]
  },
  {
   "cell_type": "code",
   "execution_count": 26,
   "metadata": {
    "execution": {
     "iopub.execute_input": "2022-09-10T19:50:58.087118Z",
     "iopub.status.busy": "2022-09-10T19:50:58.086918Z",
     "iopub.status.idle": "2022-09-10T19:50:58.104618Z",
     "shell.execute_reply": "2022-09-10T19:50:58.104167Z"
    }
   },
   "outputs": [
    {
     "name": "stdout",
     "output_type": "stream",
     "text": [
      "time: 13.9 ms (started: 2022-09-10 21:50:58 +02:00)\n"
     ]
    }
   ],
   "source": [
    "# 2 Dimensionen, dict mit np.array\n",
    "dict_24 = { 'Zeile0': np.array([3] * 4, dtype='int32'),\n",
    "            'Zeile1': np.array([4] * 4, dtype='int32') }\n",
    "\n",
    "assert bpy.shape(dict_24) == (2,4)\n",
    "assert bpy.rtype(dict_24) == ('dict', 'ndarray', 'int32')"
   ]
  },
  {
   "cell_type": "code",
   "execution_count": 27,
   "metadata": {
    "execution": {
     "iopub.execute_input": "2022-09-10T19:50:58.107096Z",
     "iopub.status.busy": "2022-09-10T19:50:58.106927Z",
     "iopub.status.idle": "2022-09-10T19:50:58.125006Z",
     "shell.execute_reply": "2022-09-10T19:50:58.124574Z"
    }
   },
   "outputs": [
    {
     "name": "stdout",
     "output_type": "stream",
     "text": [
      "time: 14.5 ms (started: 2022-09-10 21:50:58 +02:00)\n"
     ]
    }
   ],
   "source": [
    "# Einzeiliges dict mit pd.Categorical\n",
    "dict_14 = { 'Zeile1': pd.Categorical([\"test\", \"train\", \"test\", \"train\"]) }\n",
    "\n",
    "assert bpy.shape(dict_14) == (1,4)\n",
    "assert bpy.rtype(dict_14) == ('dict', 'Categorical', 'str')"
   ]
  },
  {
   "cell_type": "code",
   "execution_count": 28,
   "metadata": {
    "execution": {
     "iopub.execute_input": "2022-09-10T19:50:58.127362Z",
     "iopub.status.busy": "2022-09-10T19:50:58.127161Z",
     "iopub.status.idle": "2022-09-10T19:50:59.399644Z",
     "shell.execute_reply": "2022-09-10T19:50:59.399107Z"
    }
   },
   "outputs": [
    {
     "name": "stdout",
     "output_type": "stream",
     "text": [
      "time: 1.27 s (started: 2022-09-10 21:50:58 +02:00)\n"
     ]
    }
   ],
   "source": [
    "import pandasklar as pak "
   ]
  },
  {
   "cell_type": "code",
   "execution_count": 29,
   "metadata": {
    "execution": {
     "iopub.execute_input": "2022-09-10T19:50:59.402282Z",
     "iopub.status.busy": "2022-09-10T19:50:59.402109Z",
     "iopub.status.idle": "2022-09-10T19:50:59.452334Z",
     "shell.execute_reply": "2022-09-10T19:50:59.451862Z"
    }
   },
   "outputs": [
    {
     "name": "stdout",
     "output_type": "stream",
     "text": [
      "('list', 'Series', 'int')\n",
      "('list', 'Series', 'str')\n",
      "('list', 'Series', 'str')\n",
      "('list', 'Series', 'str')\n",
      "('list', 'Series', 'float')\n",
      "time: 43.6 ms (started: 2022-09-10 21:50:59 +02:00)\n"
     ]
    }
   ],
   "source": [
    "# list of Series mit Random Inhalt\n",
    "obj = 0\n",
    "for typ in list('isncf'):\n",
    "    obj = [ pak.random_series( 3, typ), \n",
    "            pak.random_series( 3, typ) ]\n",
    "    print(bpy.rtype(obj))\n",
    "    assert bpy.shape(obj) == (2, 3)\n",
    "assert bpy.rtype(obj) == ('list', 'Series', 'float') # ´hier wird nur der letze Wert getestet"
   ]
  },
  {
   "cell_type": "code",
   "execution_count": 30,
   "metadata": {
    "execution": {
     "iopub.execute_input": "2022-09-10T19:50:59.454845Z",
     "iopub.status.busy": "2022-09-10T19:50:59.454676Z",
     "iopub.status.idle": "2022-09-10T19:50:59.485431Z",
     "shell.execute_reply": "2022-09-10T19:50:59.484971Z"
    }
   },
   "outputs": [
    {
     "data": {
      "text/plain": [
       "0       [1, 2, 3]\n",
       "1       [4, 5, 6]\n",
       "2       [7, 8, 9]\n",
       "3    [10, 11, 12]\n",
       "dtype: object"
      ]
     },
     "execution_count": 30,
     "metadata": {},
     "output_type": "execute_result"
    },
    {
     "name": "stdout",
     "output_type": "stream",
     "text": [
      "time: 26.4 ms (started: 2022-09-10 21:50:59 +02:00)\n"
     ]
    }
   ],
   "source": [
    "# Series of lists of int\n",
    "obj_43 = [[1,2,3],[4,5,6], [7, 8, 9], [10, 11, 12]]\n",
    "obj_43b = pd.Series(obj_43)\n",
    "assert bpy.shape(obj_43b) == (4,3)\n",
    "assert bpy.rtype(obj_43b) == ('Series', 'list', 'int')\n",
    "obj_43b"
   ]
  },
  {
   "cell_type": "code",
   "execution_count": 31,
   "metadata": {
    "execution": {
     "iopub.execute_input": "2022-09-10T19:50:59.487920Z",
     "iopub.status.busy": "2022-09-10T19:50:59.487753Z",
     "iopub.status.idle": "2022-09-10T19:50:59.522859Z",
     "shell.execute_reply": "2022-09-10T19:50:59.522387Z"
    }
   },
   "outputs": [
    {
     "data": {
      "text/html": [
       "<div>\n",
       "<style scoped>\n",
       "    .dataframe tbody tr th:only-of-type {\n",
       "        vertical-align: middle;\n",
       "    }\n",
       "\n",
       "    .dataframe tbody tr th {\n",
       "        vertical-align: top;\n",
       "    }\n",
       "\n",
       "    .dataframe thead th {\n",
       "        text-align: right;\n",
       "    }\n",
       "</style>\n",
       "<table border=\"1\" class=\"dataframe\">\n",
       "  <thead>\n",
       "    <tr style=\"text-align: right;\">\n",
       "      <th></th>\n",
       "      <th>0</th>\n",
       "      <th>1</th>\n",
       "      <th>2</th>\n",
       "    </tr>\n",
       "  </thead>\n",
       "  <tbody>\n",
       "    <tr>\n",
       "      <th>0</th>\n",
       "      <td>a</td>\n",
       "      <td>2</td>\n",
       "      <td>3.0</td>\n",
       "    </tr>\n",
       "    <tr>\n",
       "      <th>1</th>\n",
       "      <td>b</td>\n",
       "      <td>5</td>\n",
       "      <td>6.0</td>\n",
       "    </tr>\n",
       "    <tr>\n",
       "      <th>2</th>\n",
       "      <td>c</td>\n",
       "      <td>8</td>\n",
       "      <td>9.0</td>\n",
       "    </tr>\n",
       "    <tr>\n",
       "      <th>3</th>\n",
       "      <td>d</td>\n",
       "      <td>11</td>\n",
       "      <td>12.0</td>\n",
       "    </tr>\n",
       "  </tbody>\n",
       "</table>\n",
       "</div>"
      ],
      "text/plain": [
       "   0   1     2\n",
       "0  a   2   3.0\n",
       "1  b   5   6.0\n",
       "2  c   8   9.0\n",
       "3  d  11  12.0"
      ]
     },
     "execution_count": 31,
     "metadata": {},
     "output_type": "execute_result"
    },
    {
     "name": "stdout",
     "output_type": "stream",
     "text": [
      "time: 30.7 ms (started: 2022-09-10 21:50:59 +02:00)\n"
     ]
    }
   ],
   "source": [
    "# Normales DataFrame mit heterogenen Spalten:\n",
    "# Nur das erste Element wird untersucht!\n",
    "obj_43 = [['a',2,3.0],['b',5,6.0], ['c', 8, 9.0], ['d', 11, 12.0]]\n",
    "obj_43c = pd.DataFrame(obj_43)\n",
    "assert bpy.shape(obj_43c) == (4,3)\n",
    "assert bpy.shape(obj_43c) == obj_43c.shape\n",
    "assert bpy.rtype(obj_43c) == ('DataFrame', 'Series', 'str')\n",
    "#rtype(obj_43c)\n",
    "obj_43c"
   ]
  },
  {
   "cell_type": "code",
   "execution_count": null,
   "metadata": {},
   "outputs": [],
   "source": []
  }
 ],
 "metadata": {
  "kernelspec": {
   "display_name": "Python 3 (ipykernel)",
   "language": "python",
   "name": "python3"
  },
  "language_info": {
   "codemirror_mode": {
    "name": "ipython",
    "version": 3
   },
   "file_extension": ".py",
   "mimetype": "text/x-python",
   "name": "python",
   "nbconvert_exporter": "python",
   "pygments_lexer": "ipython3",
   "version": "3.8.12"
  }
 },
 "nbformat": 4,
 "nbformat_minor": 4
}
