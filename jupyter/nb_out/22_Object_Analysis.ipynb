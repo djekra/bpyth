{
 "cells": [
  {
   "cell_type": "markdown",
   "metadata": {},
   "source": [
    "# bpyth Object Analysis Tools\n",
    "* `rtype`: Recursive type. Parses an n-dimensional object and returns a tuple of stype for the scalar in the top left corner.\n",
    "* `shape`: Recursive len. Parses an n-dimensional object and returns a tuple of sizes.\n",
    "* `has_shape`: Does an object have additional dimensions? (Skalars: No, Strings: No, Empty Iterables: No,\n",
    "    Other Iterables: Yes)"
   ]
  },
  {
   "cell_type": "code",
   "execution_count": 1,
   "metadata": {
    "execution": {
     "iopub.execute_input": "2022-09-13T15:48:01.091330Z",
     "iopub.status.busy": "2022-09-13T15:48:01.089529Z",
     "iopub.status.idle": "2022-09-13T15:48:01.985959Z",
     "shell.execute_reply": "2022-09-13T15:48:01.985498Z"
    }
   },
   "outputs": [
    {
     "name": "stdout",
     "output_type": "stream",
     "text": [
      "blab init\n",
      "blab found local libs at /mnt/DATA/Dropbox/31_Projekte/01_Python/libs\n",
      "Start Time: 17:48:01\n"
     ]
    },
    {
     "data": {
      "text/html": [
       "<img src onerror=\"var cell = this.closest('.jp-CodeCell');var editor = cell.querySelector('.jp-Editor');editor.style.background='Beige';this.parentNode.removeChild(this)\">"
      ],
      "text/plain": [
       "<IPython.core.display.HTML object>"
      ]
     },
     "metadata": {},
     "output_type": "display_data"
    },
    {
     "name": "stdout",
     "output_type": "stream",
     "text": [
      "time: 701 ms (started: 2022-09-13 17:48:01 +02:00)\n"
     ]
    }
   ],
   "source": [
    "# blab init\n",
    "import blab\n",
    "startup_notebook = blab.blab_startup()\n",
    "%run $startup_notebook"
   ]
  },
  {
   "cell_type": "code",
   "execution_count": 2,
   "metadata": {
    "execution": {
     "iopub.execute_input": "2022-09-13T15:48:01.988948Z",
     "iopub.status.busy": "2022-09-13T15:48:01.988576Z",
     "iopub.status.idle": "2022-09-13T15:48:02.001418Z",
     "shell.execute_reply": "2022-09-13T15:48:02.000482Z"
    }
   },
   "outputs": [
    {
     "name": "stdout",
     "output_type": "stream",
     "text": [
      "time: 9.13 ms (started: 2022-09-13 17:48:01 +02:00)\n"
     ]
    }
   ],
   "source": [
    "import bpyth as bpy"
   ]
  },
  {
   "cell_type": "markdown",
   "metadata": {},
   "source": [
    "## has_shape"
   ]
  },
  {
   "cell_type": "code",
   "execution_count": 3,
   "metadata": {
    "execution": {
     "iopub.execute_input": "2022-09-13T15:48:02.004429Z",
     "iopub.status.busy": "2022-09-13T15:48:02.004164Z",
     "iopub.status.idle": "2022-09-13T15:48:02.052819Z",
     "shell.execute_reply": "2022-09-13T15:48:02.052314Z"
    },
    "tags": []
   },
   "outputs": [
    {
     "name": "stdout",
     "output_type": "stream",
     "text": [
      "time: 45.6 ms (started: 2022-09-13 17:48:02 +02:00)\n"
     ]
    }
   ],
   "source": [
    "?bpy.has_shape"
   ]
  },
  {
   "cell_type": "code",
   "execution_count": 4,
   "metadata": {
    "execution": {
     "iopub.execute_input": "2022-09-13T15:48:02.055995Z",
     "iopub.status.busy": "2022-09-13T15:48:02.055762Z",
     "iopub.status.idle": "2022-09-13T15:48:02.068870Z",
     "shell.execute_reply": "2022-09-13T15:48:02.068417Z"
    }
   },
   "outputs": [
    {
     "name": "stdout",
     "output_type": "stream",
     "text": [
      "time: 10.4 ms (started: 2022-09-13 17:48:02 +02:00)\n"
     ]
    }
   ],
   "source": [
    "assert bpy.has_shape(list('abc'))\n",
    "assert bpy.has_shape((1,2))"
   ]
  },
  {
   "cell_type": "code",
   "execution_count": 5,
   "metadata": {
    "execution": {
     "iopub.execute_input": "2022-09-13T15:48:02.071370Z",
     "iopub.status.busy": "2022-09-13T15:48:02.071194Z",
     "iopub.status.idle": "2022-09-13T15:48:02.085509Z",
     "shell.execute_reply": "2022-09-13T15:48:02.085020Z"
    }
   },
   "outputs": [
    {
     "name": "stdout",
     "output_type": "stream",
     "text": [
      "time: 11.6 ms (started: 2022-09-13 17:48:02 +02:00)\n"
     ]
    }
   ],
   "source": [
    "assert not bpy.has_shape([])\n",
    "assert not bpy.has_shape(1)\n",
    "assert not bpy.has_shape('abc')\n",
    "assert not bpy.has_shape(None)"
   ]
  },
  {
   "cell_type": "markdown",
   "metadata": {},
   "source": [
    "## rtype and shape of pure python objects"
   ]
  },
  {
   "cell_type": "code",
   "execution_count": 6,
   "metadata": {
    "execution": {
     "iopub.execute_input": "2022-09-13T15:48:02.088079Z",
     "iopub.status.busy": "2022-09-13T15:48:02.087906Z",
     "iopub.status.idle": "2022-09-13T15:48:02.100368Z",
     "shell.execute_reply": "2022-09-13T15:48:02.099862Z"
    },
    "tags": []
   },
   "outputs": [
    {
     "name": "stdout",
     "output_type": "stream",
     "text": [
      "time: 9.73 ms (started: 2022-09-13 17:48:02 +02:00)\n"
     ]
    }
   ],
   "source": [
    "?bpy.shape"
   ]
  },
  {
   "cell_type": "code",
   "execution_count": 7,
   "metadata": {
    "execution": {
     "iopub.execute_input": "2022-09-13T15:48:02.102868Z",
     "iopub.status.busy": "2022-09-13T15:48:02.102692Z",
     "iopub.status.idle": "2022-09-13T15:48:02.115146Z",
     "shell.execute_reply": "2022-09-13T15:48:02.114670Z"
    },
    "tags": []
   },
   "outputs": [
    {
     "name": "stdout",
     "output_type": "stream",
     "text": [
      "time: 9.73 ms (started: 2022-09-13 17:48:02 +02:00)\n"
     ]
    }
   ],
   "source": [
    "?bpy.rtype"
   ]
  },
  {
   "cell_type": "code",
   "execution_count": 8,
   "metadata": {
    "execution": {
     "iopub.execute_input": "2022-09-13T15:48:02.117699Z",
     "iopub.status.busy": "2022-09-13T15:48:02.117525Z",
     "iopub.status.idle": "2022-09-13T15:48:02.134335Z",
     "shell.execute_reply": "2022-09-13T15:48:02.133853Z"
    }
   },
   "outputs": [
    {
     "name": "stdout",
     "output_type": "stream",
     "text": [
      "time: 14 ms (started: 2022-09-13 17:48:02 +02:00)\n"
     ]
    }
   ],
   "source": [
    "# 0 Dimensionen\n",
    "assert bpy.shape('jjj' ) == tuple()\n",
    "assert bpy.shape(123)    == tuple()\n",
    "assert bpy.shape(None)   == tuple()\n",
    "assert bpy.shape([])     == tuple()\n",
    "assert bpy.shape({})     == tuple()"
   ]
  },
  {
   "cell_type": "code",
   "execution_count": 9,
   "metadata": {
    "execution": {
     "iopub.execute_input": "2022-09-13T15:48:02.136947Z",
     "iopub.status.busy": "2022-09-13T15:48:02.136772Z",
     "iopub.status.idle": "2022-09-13T15:48:02.153494Z",
     "shell.execute_reply": "2022-09-13T15:48:02.153004Z"
    }
   },
   "outputs": [
    {
     "name": "stdout",
     "output_type": "stream",
     "text": [
      "time: 13.7 ms (started: 2022-09-13 17:48:02 +02:00)\n"
     ]
    }
   ],
   "source": [
    "# 0 Dimensionen\n",
    "assert bpy.rtype(123)    == ('int',)\n",
    "assert bpy.rtype(None)   == ('NoneType',)\n",
    "assert bpy.rtype([])     == ('list',)\n",
    "assert bpy.rtype({})     == ('dict',)\n",
    "assert bpy.rtype('jjj' ) == ('str',)"
   ]
  },
  {
   "cell_type": "code",
   "execution_count": 10,
   "metadata": {
    "execution": {
     "iopub.execute_input": "2022-09-13T15:48:02.156085Z",
     "iopub.status.busy": "2022-09-13T15:48:02.155906Z",
     "iopub.status.idle": "2022-09-13T15:48:02.169658Z",
     "shell.execute_reply": "2022-09-13T15:48:02.169116Z"
    }
   },
   "outputs": [
    {
     "name": "stdout",
     "output_type": "stream",
     "text": [
      "time: 10.9 ms (started: 2022-09-13 17:48:02 +02:00)\n"
     ]
    }
   ],
   "source": [
    "# 1 Dimension\n",
    "obj_4 = ( 'abcde', 'grfer', 'btjqw', 'bqwer' )\n",
    "assert bpy.shape(obj_4) == (4,)\n",
    "assert bpy.rtype(obj_4) == ('tuple', 'str')"
   ]
  },
  {
   "cell_type": "code",
   "execution_count": 11,
   "metadata": {
    "execution": {
     "iopub.execute_input": "2022-09-13T15:48:02.172131Z",
     "iopub.status.busy": "2022-09-13T15:48:02.171911Z",
     "iopub.status.idle": "2022-09-13T15:48:02.185693Z",
     "shell.execute_reply": "2022-09-13T15:48:02.185180Z"
    }
   },
   "outputs": [
    {
     "name": "stdout",
     "output_type": "stream",
     "text": [
      "time: 11 ms (started: 2022-09-13 17:48:02 +02:00)\n"
     ]
    }
   ],
   "source": [
    "# shit \n",
    "obj_shit = [[]]\n",
    "assert bpy.shape(obj_shit) == (1,)\n",
    "assert bpy.rtype(obj_shit) == ('list', 'list')"
   ]
  },
  {
   "cell_type": "code",
   "execution_count": 12,
   "metadata": {
    "execution": {
     "iopub.execute_input": "2022-09-13T15:48:02.188120Z",
     "iopub.status.busy": "2022-09-13T15:48:02.187905Z",
     "iopub.status.idle": "2022-09-13T15:48:02.202310Z",
     "shell.execute_reply": "2022-09-13T15:48:02.201809Z"
    }
   },
   "outputs": [
    {
     "name": "stdout",
     "output_type": "stream",
     "text": [
      "time: 10.8 ms (started: 2022-09-13 17:48:02 +02:00)\n"
     ]
    }
   ],
   "source": [
    "# shit\n",
    "obj_shit = [[1]]\n",
    "assert bpy.shape(obj_shit) == (1,1)\n",
    "assert bpy.rtype(obj_shit) == ('list', 'list','int')"
   ]
  },
  {
   "cell_type": "code",
   "execution_count": 13,
   "metadata": {
    "execution": {
     "iopub.execute_input": "2022-09-13T15:48:02.204733Z",
     "iopub.status.busy": "2022-09-13T15:48:02.204517Z",
     "iopub.status.idle": "2022-09-13T15:48:02.218433Z",
     "shell.execute_reply": "2022-09-13T15:48:02.217908Z"
    }
   },
   "outputs": [
    {
     "name": "stdout",
     "output_type": "stream",
     "text": [
      "time: 11 ms (started: 2022-09-13 17:48:02 +02:00)\n"
     ]
    }
   ],
   "source": [
    "# 1 Dimension, heterogener Inhalt: Nur das erste Element wird untersucht!\n",
    "obj_3 = ( 'ICH WERDE UNTERSUCHT', -77, -99 )\n",
    "assert bpy.shape(obj_3) == (3,)\n",
    "assert bpy.rtype(obj_3) == ('tuple', 'str')"
   ]
  },
  {
   "cell_type": "code",
   "execution_count": 14,
   "metadata": {
    "execution": {
     "iopub.execute_input": "2022-09-13T15:48:02.220917Z",
     "iopub.status.busy": "2022-09-13T15:48:02.220697Z",
     "iopub.status.idle": "2022-09-13T15:48:02.236944Z",
     "shell.execute_reply": "2022-09-13T15:48:02.236488Z"
    }
   },
   "outputs": [
    {
     "name": "stdout",
     "output_type": "stream",
     "text": [
      "time: 13.1 ms (started: 2022-09-13 17:48:02 +02:00)\n"
     ]
    }
   ],
   "source": [
    "# 2 Dimensionen\n",
    "obj_43 = [[1,2,3],[4,5,6], [7, 8, 9], [10, 11, 12]]\n",
    "assert bpy.shape(obj_43) == (4,3)\n",
    "assert bpy.shape(tuple(obj_43)) == (4,3)\n",
    "assert bpy.rtype(obj_43) == ('list', 'list', 'int')"
   ]
  },
  {
   "cell_type": "code",
   "execution_count": 15,
   "metadata": {
    "execution": {
     "iopub.execute_input": "2022-09-13T15:48:02.239398Z",
     "iopub.status.busy": "2022-09-13T15:48:02.239186Z",
     "iopub.status.idle": "2022-09-13T15:48:02.255197Z",
     "shell.execute_reply": "2022-09-13T15:48:02.254705Z"
    }
   },
   "outputs": [
    {
     "name": "stdout",
     "output_type": "stream",
     "text": [
      "time: 11.4 ms (started: 2022-09-13 17:48:02 +02:00)\n"
     ]
    }
   ],
   "source": [
    "# 3 Dimensionen\n",
    "obj_533 = [\n",
    "    [[0, 0, 0], [1, 1, 1], [2, 2, 2]],\n",
    "    [[0, 0, 0], [1, 1, 1], [2, 2, 2]],\n",
    "    [[0, 0, 0], [1, 1, 1], [2, 2, 2]],\n",
    "    [[0, 0, 0], [1, 1, 1], [2, 2, 2]],\n",
    "    [[0, 0, 0], [1, 1, 1], [2, 2, 2]],\n",
    "]\n",
    "assert bpy.shape(obj_533) == (5, 3, 3)\n",
    "assert bpy.rtype(obj_533) == ('list', 'list', 'list', 'int')"
   ]
  },
  {
   "cell_type": "code",
   "execution_count": 16,
   "metadata": {
    "execution": {
     "iopub.execute_input": "2022-09-13T15:48:02.257705Z",
     "iopub.status.busy": "2022-09-13T15:48:02.257530Z",
     "iopub.status.idle": "2022-09-13T15:48:02.271644Z",
     "shell.execute_reply": "2022-09-13T15:48:02.271135Z"
    }
   },
   "outputs": [
    {
     "name": "stdout",
     "output_type": "stream",
     "text": [
      "time: 11.2 ms (started: 2022-09-13 17:48:02 +02:00)\n"
     ]
    }
   ],
   "source": [
    "# Anderer Datentyp\n",
    "obj_45 = [ list('abcde'), list('grfer'), list('btjqw'), list('bqwer') ]\n",
    "assert bpy.shape(obj_45) == (4,5)\n",
    "assert bpy.rtype(obj_45) == ('list', 'list', 'str')"
   ]
  },
  {
   "cell_type": "code",
   "execution_count": 17,
   "metadata": {
    "execution": {
     "iopub.execute_input": "2022-09-13T15:48:02.274084Z",
     "iopub.status.busy": "2022-09-13T15:48:02.273868Z",
     "iopub.status.idle": "2022-09-13T15:48:02.289175Z",
     "shell.execute_reply": "2022-09-13T15:48:02.288606Z"
    }
   },
   "outputs": [
    {
     "name": "stdout",
     "output_type": "stream",
     "text": [
      "time: 11.2 ms (started: 2022-09-13 17:48:02 +02:00)\n"
     ]
    }
   ],
   "source": [
    "# 2 Dimensionen mit leeren Listen\n",
    "obj_53 = [\n",
    "    [[], [], []],\n",
    "    [[], [], []],\n",
    "    [[], [], []],\n",
    "    [[], [], []],\n",
    "    [[], [], []],\n",
    "]\n",
    "assert bpy.shape(obj_53) == (5,3)\n",
    "assert bpy.rtype(obj_53) == ('list', 'list', 'list')"
   ]
  },
  {
   "cell_type": "code",
   "execution_count": 18,
   "metadata": {
    "execution": {
     "iopub.execute_input": "2022-09-13T15:48:02.291914Z",
     "iopub.status.busy": "2022-09-13T15:48:02.291734Z",
     "iopub.status.idle": "2022-09-13T15:48:02.305723Z",
     "shell.execute_reply": "2022-09-13T15:48:02.305253Z"
    }
   },
   "outputs": [
    {
     "name": "stdout",
     "output_type": "stream",
     "text": [
      "time: 11.1 ms (started: 2022-09-13 17:48:02 +02:00)\n"
     ]
    }
   ],
   "source": [
    "dict_3 = {'A': 1,\n",
    "          'B': 2,\n",
    "          'C': 3,              \n",
    "               }\n",
    "\n",
    "assert bpy.shape(dict_3) == (3,)\n",
    "assert bpy.rtype(dict_3) == ('dict', 'int')"
   ]
  },
  {
   "cell_type": "code",
   "execution_count": 19,
   "metadata": {
    "execution": {
     "iopub.execute_input": "2022-09-13T15:48:02.308171Z",
     "iopub.status.busy": "2022-09-13T15:48:02.307954Z",
     "iopub.status.idle": "2022-09-13T15:48:02.322887Z",
     "shell.execute_reply": "2022-09-13T15:48:02.322372Z"
    }
   },
   "outputs": [
    {
     "name": "stdout",
     "output_type": "stream",
     "text": [
      "time: 11.6 ms (started: 2022-09-13 17:48:02 +02:00)\n"
     ]
    }
   ],
   "source": [
    "dict_54 = {'A': [1,4,5,6],\n",
    "           'B': [2,4,5,6],\n",
    "           'C': [3,4,0,9],\n",
    "           'D': [4,4,5,9],\n",
    "           'E': [5,4,5,6],                \n",
    "               }\n",
    "assert bpy.shape(dict_54) == (5,4)\n",
    "assert bpy.rtype(dict_54) == ('dict', 'list', 'int')"
   ]
  },
  {
   "cell_type": "code",
   "execution_count": 20,
   "metadata": {
    "execution": {
     "iopub.execute_input": "2022-09-13T15:48:02.332589Z",
     "iopub.status.busy": "2022-09-13T15:48:02.331819Z",
     "iopub.status.idle": "2022-09-13T15:48:02.347943Z",
     "shell.execute_reply": "2022-09-13T15:48:02.347463Z"
    }
   },
   "outputs": [
    {
     "name": "stdout",
     "output_type": "stream",
     "text": [
      "time: 11.9 ms (started: 2022-09-13 17:48:02 +02:00)\n"
     ]
    }
   ],
   "source": [
    "dict_54b = {'A': (1,4,5,6),\n",
    "            'B': (2,4,5,6),\n",
    "            'C': (3,4,0,9),\n",
    "            'D': (4,4,5,9),\n",
    "            'E': (5,4,5,6),                \n",
    "               }\n",
    "assert bpy.shape(dict_54b) == (5,4)\n",
    "assert bpy.rtype(dict_54b) == ('dict', 'tuple', 'int')"
   ]
  },
  {
   "cell_type": "code",
   "execution_count": 21,
   "metadata": {
    "execution": {
     "iopub.execute_input": "2022-09-13T15:48:02.350405Z",
     "iopub.status.busy": "2022-09-13T15:48:02.350187Z",
     "iopub.status.idle": "2022-09-13T15:48:02.364353Z",
     "shell.execute_reply": "2022-09-13T15:48:02.363864Z"
    }
   },
   "outputs": [
    {
     "name": "stdout",
     "output_type": "stream",
     "text": [
      "time: 11 ms (started: 2022-09-13 17:48:02 +02:00)\n"
     ]
    }
   ],
   "source": [
    "dict_32 = {'A': ((),(),),\n",
    "           'B': ((),(),),    \n",
    "           'C': ((),(),),                \n",
    "               }\n",
    "assert bpy.shape(dict_32) == (3,2)\n",
    "assert bpy.rtype(dict_32) == ('dict', 'tuple', 'tuple')"
   ]
  },
  {
   "cell_type": "markdown",
   "metadata": {},
   "source": [
    "## rtype and shape of pandas and numpy objects"
   ]
  },
  {
   "cell_type": "code",
   "execution_count": 22,
   "metadata": {
    "execution": {
     "iopub.execute_input": "2022-09-13T15:48:02.367488Z",
     "iopub.status.busy": "2022-09-13T15:48:02.367302Z",
     "iopub.status.idle": "2022-09-13T15:48:02.664989Z",
     "shell.execute_reply": "2022-09-13T15:48:02.664480Z"
    }
   },
   "outputs": [
    {
     "name": "stdout",
     "output_type": "stream",
     "text": [
      "time: 295 ms (started: 2022-09-13 17:48:02 +02:00)\n"
     ]
    }
   ],
   "source": [
    "import pandas     as pd \n",
    "import numpy      as np"
   ]
  },
  {
   "cell_type": "code",
   "execution_count": 23,
   "metadata": {
    "execution": {
     "iopub.execute_input": "2022-09-13T15:48:02.667623Z",
     "iopub.status.busy": "2022-09-13T15:48:02.667439Z",
     "iopub.status.idle": "2022-09-13T15:48:02.693000Z",
     "shell.execute_reply": "2022-09-13T15:48:02.692458Z"
    }
   },
   "outputs": [
    {
     "name": "stdout",
     "output_type": "stream",
     "text": [
      "time: 21.1 ms (started: 2022-09-13 17:48:02 +02:00)\n"
     ]
    }
   ],
   "source": [
    "# 0 Dimensionen\n",
    "assert bpy.shape( np.array([]) )               == tuple()\n",
    "assert bpy.shape( pd.Series(dtype='float64') ) == tuple()\n",
    "assert bpy.shape( pd.DataFrame() )             == tuple()\n",
    "assert bpy.shape( pd.DataFrame([]) )           == tuple()\n",
    "assert bpy.shape( pd.DataFrame([[]]) )         == tuple()"
   ]
  },
  {
   "cell_type": "code",
   "execution_count": 24,
   "metadata": {
    "execution": {
     "iopub.execute_input": "2022-09-13T15:48:02.695576Z",
     "iopub.status.busy": "2022-09-13T15:48:02.695400Z",
     "iopub.status.idle": "2022-09-13T15:48:02.717510Z",
     "shell.execute_reply": "2022-09-13T15:48:02.717009Z"
    }
   },
   "outputs": [
    {
     "name": "stdout",
     "output_type": "stream",
     "text": [
      "time: 17.9 ms (started: 2022-09-13 17:48:02 +02:00)\n"
     ]
    }
   ],
   "source": [
    "# 0 Dimensionen\n",
    "assert bpy.rtype( np.array([]) )               == ('ndarray',)\n",
    "assert bpy.rtype( pd.Series(dtype='float64') ) == ('Series',)\n",
    "assert bpy.rtype( pd.DataFrame() )             == ('DataFrame',)\n",
    "assert bpy.rtype( pd.DataFrame([]) )           == ('DataFrame',)\n",
    "assert bpy.rtype( pd.DataFrame([[]]) )         == ('DataFrame','Series')"
   ]
  },
  {
   "cell_type": "code",
   "execution_count": 25,
   "metadata": {
    "execution": {
     "iopub.execute_input": "2022-09-13T15:48:02.720148Z",
     "iopub.status.busy": "2022-09-13T15:48:02.719973Z",
     "iopub.status.idle": "2022-09-13T15:48:02.743181Z",
     "shell.execute_reply": "2022-09-13T15:48:02.742702Z"
    }
   },
   "outputs": [
    {
     "name": "stdout",
     "output_type": "stream",
     "text": [
      "time: 19.4 ms (started: 2022-09-13 17:48:02 +02:00)\n"
     ]
    }
   ],
   "source": [
    "# 1 Dimensionen\n",
    "assert bpy.rtype( np.array(['a']) )                == ('ndarray','str')\n",
    "try:\n",
    "    assert bpy.rtype( np.array([1]) )              == ('ndarray','int32')\n",
    "except:\n",
    "    assert bpy.rtype( np.array([1]) )              == ('ndarray','int64')\n",
    "assert bpy.rtype( pd.Series([1],dtype='float64') ) == ('Series','float')\n",
    "assert bpy.rtype( pd.DataFrame(['a']) )            == ('DataFrame','Series','str')\n",
    "assert bpy.rtype( pd.DataFrame([['a']]) )          == ('DataFrame','Series','str')"
   ]
  },
  {
   "cell_type": "code",
   "execution_count": 26,
   "metadata": {
    "execution": {
     "iopub.execute_input": "2022-09-13T15:48:02.745746Z",
     "iopub.status.busy": "2022-09-13T15:48:02.745569Z",
     "iopub.status.idle": "2022-09-13T15:48:02.761418Z",
     "shell.execute_reply": "2022-09-13T15:48:02.760889Z"
    }
   },
   "outputs": [
    {
     "name": "stdout",
     "output_type": "stream",
     "text": [
      "time: 12.7 ms (started: 2022-09-13 17:48:02 +02:00)\n"
     ]
    }
   ],
   "source": [
    "# 2 Dimensionen, dict mit np.array\n",
    "dict_24 = { 'Zeile0': np.array([3] * 4, dtype='int32'),\n",
    "            'Zeile1': np.array([4] * 4, dtype='int32') }\n",
    "\n",
    "assert bpy.shape(dict_24) == (2,4)\n",
    "assert bpy.rtype(dict_24) == ('dict', 'ndarray', 'int32')"
   ]
  },
  {
   "cell_type": "code",
   "execution_count": 27,
   "metadata": {
    "execution": {
     "iopub.execute_input": "2022-09-13T15:48:02.763966Z",
     "iopub.status.busy": "2022-09-13T15:48:02.763627Z",
     "iopub.status.idle": "2022-09-13T15:48:02.781300Z",
     "shell.execute_reply": "2022-09-13T15:48:02.780719Z"
    }
   },
   "outputs": [
    {
     "name": "stdout",
     "output_type": "stream",
     "text": [
      "time: 13.6 ms (started: 2022-09-13 17:48:02 +02:00)\n"
     ]
    }
   ],
   "source": [
    "# Einzeiliges dict mit pd.Categorical\n",
    "dict_14 = { 'Zeile1': pd.Categorical([\"test\", \"train\", \"test\", \"train\"]) }\n",
    "\n",
    "assert bpy.shape(dict_14) == (1,4)\n",
    "assert bpy.rtype(dict_14) == ('dict', 'Categorical', 'str')"
   ]
  },
  {
   "cell_type": "code",
   "execution_count": 28,
   "metadata": {
    "execution": {
     "iopub.execute_input": "2022-09-13T15:48:02.783775Z",
     "iopub.status.busy": "2022-09-13T15:48:02.783596Z",
     "iopub.status.idle": "2022-09-13T15:48:04.073880Z",
     "shell.execute_reply": "2022-09-13T15:48:04.073337Z"
    }
   },
   "outputs": [
    {
     "name": "stdout",
     "output_type": "stream",
     "text": [
      "time: 1.29 s (started: 2022-09-13 17:48:02 +02:00)\n"
     ]
    }
   ],
   "source": [
    "import pandasklar as pak "
   ]
  },
  {
   "cell_type": "code",
   "execution_count": 29,
   "metadata": {
    "execution": {
     "iopub.execute_input": "2022-09-13T15:48:04.076349Z",
     "iopub.status.busy": "2022-09-13T15:48:04.076104Z",
     "iopub.status.idle": "2022-09-13T15:48:04.125027Z",
     "shell.execute_reply": "2022-09-13T15:48:04.124326Z"
    }
   },
   "outputs": [
    {
     "name": "stdout",
     "output_type": "stream",
     "text": [
      "('list', 'Series', 'int')\n",
      "('list', 'Series', 'str')\n",
      "('list', 'Series', 'str')\n",
      "('list', 'Series', 'str')\n",
      "('list', 'Series', 'float')\n",
      "time: 42.8 ms (started: 2022-09-13 17:48:04 +02:00)\n"
     ]
    }
   ],
   "source": [
    "# list of Series mit Random Inhalt\n",
    "obj = 0\n",
    "for typ in list('isncf'):\n",
    "    obj = [ pak.random_series( 3, typ), \n",
    "            pak.random_series( 3, typ) ]\n",
    "    print(bpy.rtype(obj))\n",
    "    assert bpy.shape(obj) == (2, 3)\n",
    "assert bpy.rtype(obj) == ('list', 'Series', 'float') # ´hier wird nur der letze Wert getestet"
   ]
  },
  {
   "cell_type": "code",
   "execution_count": 30,
   "metadata": {
    "execution": {
     "iopub.execute_input": "2022-09-13T15:48:04.127634Z",
     "iopub.status.busy": "2022-09-13T15:48:04.127454Z",
     "iopub.status.idle": "2022-09-13T15:48:04.158956Z",
     "shell.execute_reply": "2022-09-13T15:48:04.158447Z"
    }
   },
   "outputs": [
    {
     "data": {
      "text/plain": [
       "0       [1, 2, 3]\n",
       "1       [4, 5, 6]\n",
       "2       [7, 8, 9]\n",
       "3    [10, 11, 12]\n",
       "dtype: object"
      ]
     },
     "execution_count": 30,
     "metadata": {},
     "output_type": "execute_result"
    },
    {
     "name": "stdout",
     "output_type": "stream",
     "text": [
      "time: 26.8 ms (started: 2022-09-13 17:48:04 +02:00)\n"
     ]
    }
   ],
   "source": [
    "# Series of lists of int\n",
    "obj_43 = [[1,2,3],[4,5,6], [7, 8, 9], [10, 11, 12]]\n",
    "obj_43b = pd.Series(obj_43)\n",
    "assert bpy.shape(obj_43b) == (4,3)\n",
    "assert bpy.rtype(obj_43b) == ('Series', 'list', 'int')\n",
    "obj_43b"
   ]
  },
  {
   "cell_type": "code",
   "execution_count": 31,
   "metadata": {
    "execution": {
     "iopub.execute_input": "2022-09-13T15:48:04.161416Z",
     "iopub.status.busy": "2022-09-13T15:48:04.161242Z",
     "iopub.status.idle": "2022-09-13T15:48:04.195384Z",
     "shell.execute_reply": "2022-09-13T15:48:04.194901Z"
    }
   },
   "outputs": [
    {
     "data": {
      "text/html": [
       "<div>\n",
       "<style scoped>\n",
       "    .dataframe tbody tr th:only-of-type {\n",
       "        vertical-align: middle;\n",
       "    }\n",
       "\n",
       "    .dataframe tbody tr th {\n",
       "        vertical-align: top;\n",
       "    }\n",
       "\n",
       "    .dataframe thead th {\n",
       "        text-align: right;\n",
       "    }\n",
       "</style>\n",
       "<table border=\"1\" class=\"dataframe\">\n",
       "  <thead>\n",
       "    <tr style=\"text-align: right;\">\n",
       "      <th></th>\n",
       "      <th>0</th>\n",
       "      <th>1</th>\n",
       "      <th>2</th>\n",
       "    </tr>\n",
       "  </thead>\n",
       "  <tbody>\n",
       "    <tr>\n",
       "      <th>0</th>\n",
       "      <td>a</td>\n",
       "      <td>2</td>\n",
       "      <td>3.0</td>\n",
       "    </tr>\n",
       "    <tr>\n",
       "      <th>1</th>\n",
       "      <td>b</td>\n",
       "      <td>5</td>\n",
       "      <td>6.0</td>\n",
       "    </tr>\n",
       "    <tr>\n",
       "      <th>2</th>\n",
       "      <td>c</td>\n",
       "      <td>8</td>\n",
       "      <td>9.0</td>\n",
       "    </tr>\n",
       "    <tr>\n",
       "      <th>3</th>\n",
       "      <td>d</td>\n",
       "      <td>11</td>\n",
       "      <td>12.0</td>\n",
       "    </tr>\n",
       "  </tbody>\n",
       "</table>\n",
       "</div>"
      ],
      "text/plain": [
       "   0   1     2\n",
       "0  a   2   3.0\n",
       "1  b   5   6.0\n",
       "2  c   8   9.0\n",
       "3  d  11  12.0"
      ]
     },
     "execution_count": 31,
     "metadata": {},
     "output_type": "execute_result"
    },
    {
     "name": "stdout",
     "output_type": "stream",
     "text": [
      "time: 30.9 ms (started: 2022-09-13 17:48:04 +02:00)\n"
     ]
    }
   ],
   "source": [
    "# Normales DataFrame mit heterogenen Spalten:\n",
    "# Nur das erste Element wird untersucht!\n",
    "obj_43 = [['a',2,3.0],['b',5,6.0], ['c', 8, 9.0], ['d', 11, 12.0]]\n",
    "obj_43c = pd.DataFrame(obj_43)\n",
    "assert bpy.shape(obj_43c) == (4,3)\n",
    "assert bpy.shape(obj_43c) == obj_43c.shape\n",
    "assert bpy.rtype(obj_43c) == ('DataFrame', 'Series', 'str')\n",
    "#rtype(obj_43c)\n",
    "obj_43c"
   ]
  },
  {
   "cell_type": "code",
   "execution_count": null,
   "metadata": {},
   "outputs": [],
   "source": []
  }
 ],
 "metadata": {
  "kernelspec": {
   "display_name": "Python 3 (ipykernel)",
   "language": "python",
   "name": "python3"
  },
  "language_info": {
   "codemirror_mode": {
    "name": "ipython",
    "version": 3
   },
   "file_extension": ".py",
   "mimetype": "text/x-python",
   "name": "python",
   "nbconvert_exporter": "python",
   "pygments_lexer": "ipython3",
   "version": "3.8.12"
  }
 },
 "nbformat": 4,
 "nbformat_minor": 4
}
