{
 "cells": [
  {
   "cell_type": "markdown",
   "metadata": {
    "tags": []
   },
   "source": [
    "# bpyth Strings\n",
    "* `superstrip`     : Removes Unicode whitespaces\n",
    "* `remove_words`   : Removes stopwords \n",
    "* `remove_dupwords`: Removes dup words from a string whilst-preserving-order\n",
    "* `longest_substr` : Finds the longest common substring in a list of strings\n",
    "* `random_str`     : Returns a random string "
   ]
  },
  {
   "cell_type": "code",
   "execution_count": 1,
   "metadata": {
    "execution": {
     "iopub.execute_input": "2022-09-13T15:48:05.931832Z",
     "iopub.status.busy": "2022-09-13T15:48:05.931519Z",
     "iopub.status.idle": "2022-09-13T15:48:06.851127Z",
     "shell.execute_reply": "2022-09-13T15:48:06.850448Z"
    }
   },
   "outputs": [
    {
     "name": "stdout",
     "output_type": "stream",
     "text": [
      "blab init\n",
      "blab found local libs at /mnt/DATA/Dropbox/31_Projekte/01_Python/libs\n",
      "Start Time: 17:48:05\n"
     ]
    },
    {
     "data": {
      "text/html": [
       "<img src onerror=\"var cell = this.closest('.jp-CodeCell');var editor = cell.querySelector('.jp-Editor');editor.style.background='Beige';this.parentNode.removeChild(this)\">"
      ],
      "text/plain": [
       "<IPython.core.display.HTML object>"
      ]
     },
     "metadata": {},
     "output_type": "display_data"
    },
    {
     "name": "stdout",
     "output_type": "stream",
     "text": [
      "time: 740 ms (started: 2022-09-13 17:48:06 +02:00)\n"
     ]
    }
   ],
   "source": [
    "# blab init\n",
    "import blab\n",
    "startup_notebook = blab.blab_startup()\n",
    "%run $startup_notebook"
   ]
  },
  {
   "cell_type": "code",
   "execution_count": 2,
   "metadata": {
    "execution": {
     "iopub.execute_input": "2022-09-13T15:48:06.853612Z",
     "iopub.status.busy": "2022-09-13T15:48:06.853402Z",
     "iopub.status.idle": "2022-09-13T15:48:06.864653Z",
     "shell.execute_reply": "2022-09-13T15:48:06.864160Z"
    }
   },
   "outputs": [
    {
     "name": "stdout",
     "output_type": "stream",
     "text": [
      "time: 8.63 ms (started: 2022-09-13 17:48:06 +02:00)\n"
     ]
    }
   ],
   "source": [
    "import bpyth as bpy"
   ]
  },
  {
   "cell_type": "markdown",
   "metadata": {},
   "source": [
    "## remove_words"
   ]
  },
  {
   "cell_type": "code",
   "execution_count": 3,
   "metadata": {
    "execution": {
     "iopub.execute_input": "2022-09-13T15:48:06.867122Z",
     "iopub.status.busy": "2022-09-13T15:48:06.866946Z",
     "iopub.status.idle": "2022-09-13T15:48:06.915040Z",
     "shell.execute_reply": "2022-09-13T15:48:06.914541Z"
    }
   },
   "outputs": [
    {
     "name": "stdout",
     "output_type": "stream",
     "text": [
      "time: 45.2 ms (started: 2022-09-13 17:48:06 +02:00)\n"
     ]
    }
   ],
   "source": [
    "?bpy.remove_words"
   ]
  },
  {
   "cell_type": "code",
   "execution_count": 4,
   "metadata": {
    "execution": {
     "iopub.execute_input": "2022-09-13T15:48:06.917655Z",
     "iopub.status.busy": "2022-09-13T15:48:06.917473Z",
     "iopub.status.idle": "2022-09-13T15:48:06.929822Z",
     "shell.execute_reply": "2022-09-13T15:48:06.928870Z"
    }
   },
   "outputs": [
    {
     "name": "stdout",
     "output_type": "stream",
     "text": [
      "time: 9.3 ms (started: 2022-09-13 17:48:06 +02:00)\n"
     ]
    }
   ],
   "source": [
    "text = '''Der russische Überfall auf die Ukraine ist ein vom russischen Präsidenten \n",
    "Wladimir Putin geplanter, befohlener und am 24. Februar 2022 begonnener Angriffskrieg \n",
    "gegen die Ukraine. Der militärische Angriff Russlands auf den souveränen, \n",
    "nicht paktgebundenen Staat weitet den Krieg in der Ukraine, der mit der Annexion der Krim \n",
    "durch Russland bereits 2014 eingeleitet worden war, aus und verschärft ihn. \n",
    "Er gilt bei einigen Beobachtern als größter kriegerischer Konflikt auf dem europäischen \n",
    "Kontinent seit dem Ende des Zweiten Weltkrieges.'''"
   ]
  },
  {
   "cell_type": "code",
   "execution_count": 5,
   "metadata": {
    "execution": {
     "iopub.execute_input": "2022-09-13T15:48:06.932687Z",
     "iopub.status.busy": "2022-09-13T15:48:06.932501Z",
     "iopub.status.idle": "2022-09-13T15:48:06.946417Z",
     "shell.execute_reply": "2022-09-13T15:48:06.945941Z"
    }
   },
   "outputs": [
    {
     "data": {
      "text/plain": [
       "'russische Überfall Ukraine russischen Präsidenten \\nWladimir Putin geplanter, befohlener 24. Februar 2022 begonnener Angriffskrieg \\ngegen Ukraine. militärische Angriff Russlands souveränen, \\nnicht paktgebundenen Staat weitet Krieg in Ukraine, Annexion Krim \\ndurch Russland bereits 2014 eingeleitet worden , verschärft ihn. \\ngilt einigen Beobachtern größter kriegerischer Konflikt europäischen \\nKontinent Ende Zweiten Weltkrieges.'"
      ]
     },
     "execution_count": 5,
     "metadata": {},
     "output_type": "execute_result"
    },
    {
     "name": "stdout",
     "output_type": "stream",
     "text": [
      "time: 10.9 ms (started: 2022-09-13 17:48:06 +02:00)\n"
     ]
    }
   ],
   "source": [
    "bpy.remove_words(text, ['der','die','das','ein','eine', 'und','auf','an','ist','vom','am','Der','den','mit','war','aus','Er','bei','als','dem','seit','des'])"
   ]
  },
  {
   "cell_type": "markdown",
   "metadata": {},
   "source": [
    "## remove_dupwords"
   ]
  },
  {
   "cell_type": "code",
   "execution_count": 6,
   "metadata": {
    "execution": {
     "iopub.execute_input": "2022-09-13T15:48:06.949659Z",
     "iopub.status.busy": "2022-09-13T15:48:06.949483Z",
     "iopub.status.idle": "2022-09-13T15:48:06.962477Z",
     "shell.execute_reply": "2022-09-13T15:48:06.961903Z"
    }
   },
   "outputs": [
    {
     "name": "stdout",
     "output_type": "stream",
     "text": [
      "time: 10 ms (started: 2022-09-13 17:48:06 +02:00)\n"
     ]
    }
   ],
   "source": [
    "?bpy.remove_dupwords"
   ]
  },
  {
   "cell_type": "code",
   "execution_count": 7,
   "metadata": {
    "execution": {
     "iopub.execute_input": "2022-09-13T15:48:06.965151Z",
     "iopub.status.busy": "2022-09-13T15:48:06.964963Z",
     "iopub.status.idle": "2022-09-13T15:48:06.977755Z",
     "shell.execute_reply": "2022-09-13T15:48:06.977276Z"
    }
   },
   "outputs": [
    {
     "data": {
      "text/plain": [
       "'Moin Welt'"
      ]
     },
     "execution_count": 7,
     "metadata": {},
     "output_type": "execute_result"
    },
    {
     "name": "stdout",
     "output_type": "stream",
     "text": [
      "time: 10.2 ms (started: 2022-09-13 17:48:06 +02:00)\n"
     ]
    }
   ],
   "source": [
    "bpy.remove_dupwords('Moin Moin Welt')"
   ]
  },
  {
   "cell_type": "code",
   "execution_count": 8,
   "metadata": {
    "execution": {
     "iopub.execute_input": "2022-09-13T15:48:06.981030Z",
     "iopub.status.busy": "2022-09-13T15:48:06.980834Z",
     "iopub.status.idle": "2022-09-13T15:48:06.993998Z",
     "shell.execute_reply": "2022-09-13T15:48:06.993530Z"
    }
   },
   "outputs": [
    {
     "data": {
      "text/plain": [
       "'Moin_Welt'"
      ]
     },
     "execution_count": 8,
     "metadata": {},
     "output_type": "execute_result"
    },
    {
     "name": "stdout",
     "output_type": "stream",
     "text": [
      "time: 10.6 ms (started: 2022-09-13 17:48:06 +02:00)\n"
     ]
    }
   ],
   "source": [
    "bpy.remove_dupwords('Moin_Moin_Welt', sep='_')"
   ]
  },
  {
   "cell_type": "markdown",
   "metadata": {},
   "source": [
    "## Longest common substring"
   ]
  },
  {
   "cell_type": "code",
   "execution_count": 9,
   "metadata": {
    "execution": {
     "iopub.execute_input": "2022-09-13T15:48:06.997054Z",
     "iopub.status.busy": "2022-09-13T15:48:06.996880Z",
     "iopub.status.idle": "2022-09-13T15:48:07.009288Z",
     "shell.execute_reply": "2022-09-13T15:48:07.008757Z"
    }
   },
   "outputs": [
    {
     "name": "stdout",
     "output_type": "stream",
     "text": [
      "time: 9.66 ms (started: 2022-09-13 17:48:06 +02:00)\n"
     ]
    }
   ],
   "source": [
    "?bpy.longest_substr"
   ]
  },
  {
   "cell_type": "code",
   "execution_count": 10,
   "metadata": {
    "execution": {
     "iopub.execute_input": "2022-09-13T15:48:07.011790Z",
     "iopub.status.busy": "2022-09-13T15:48:07.011569Z",
     "iopub.status.idle": "2022-09-13T15:48:07.024860Z",
     "shell.execute_reply": "2022-09-13T15:48:07.024405Z"
    }
   },
   "outputs": [
    {
     "data": {
      "text/plain": [
       "'klar'"
      ]
     },
     "execution_count": 10,
     "metadata": {},
     "output_type": "execute_result"
    },
    {
     "name": "stdout",
     "output_type": "stream",
     "text": [
      "time: 10.8 ms (started: 2022-09-13 17:48:07 +02:00)\n"
     ]
    }
   ],
   "source": [
    "bpy.longest_substr(['klar', 'klarere'])"
   ]
  },
  {
   "cell_type": "code",
   "execution_count": 11,
   "metadata": {
    "execution": {
     "iopub.execute_input": "2022-09-13T15:48:07.027905Z",
     "iopub.status.busy": "2022-09-13T15:48:07.027691Z",
     "iopub.status.idle": "2022-09-13T15:48:07.040700Z",
     "shell.execute_reply": "2022-09-13T15:48:07.040201Z"
    }
   },
   "outputs": [
    {
     "data": {
      "text/plain": [
       "'PER'"
      ]
     },
     "execution_count": 11,
     "metadata": {},
     "output_type": "execute_result"
    },
    {
     "name": "stdout",
     "output_type": "stream",
     "text": [
      "time: 10.3 ms (started: 2022-09-13 17:48:07 +02:00)\n"
     ]
    }
   ],
   "source": [
    "bpy.longest_substr(['PER.MAL', 'PER.FEM?.GEN']).strip('.')"
   ]
  },
  {
   "cell_type": "code",
   "execution_count": 12,
   "metadata": {
    "execution": {
     "iopub.execute_input": "2022-09-13T15:48:07.044366Z",
     "iopub.status.busy": "2022-09-13T15:48:07.044126Z",
     "iopub.status.idle": "2022-09-13T15:48:07.057867Z",
     "shell.execute_reply": "2022-09-13T15:48:07.057417Z"
    }
   },
   "outputs": [
    {
     "data": {
      "text/plain": [
       "'saun'"
      ]
     },
     "execution_count": 12,
     "metadata": {},
     "output_type": "execute_result"
    },
    {
     "name": "stdout",
     "output_type": "stream",
     "text": [
      "time: 11.1 ms (started: 2022-09-13 17:48:07 +02:00)\n"
     ]
    }
   ],
   "source": [
    "bpy.longest_substr(['saunen', 'sauna', 'saunas'])"
   ]
  },
  {
   "cell_type": "code",
   "execution_count": 13,
   "metadata": {
    "execution": {
     "iopub.execute_input": "2022-09-13T15:48:07.060953Z",
     "iopub.status.busy": "2022-09-13T15:48:07.060780Z",
     "iopub.status.idle": "2022-09-13T15:48:07.073864Z",
     "shell.execute_reply": "2022-09-13T15:48:07.073404Z"
    }
   },
   "outputs": [
    {
     "data": {
      "text/plain": [
       "'ch'"
      ]
     },
     "execution_count": 13,
     "metadata": {},
     "output_type": "execute_result"
    },
    {
     "name": "stdout",
     "output_type": "stream",
     "text": [
      "time: 10.6 ms (started: 2022-09-13 17:48:07 +02:00)\n"
     ]
    }
   ],
   "source": [
    "bpy.longest_substr(['Er hörte leise Schritte hinter sich.',\n",
    "                    'Das bedeutete nichts Gutes.',\n",
    "                    'Wer würde ihm schon folgen,',\n",
    "                    'spät in der Nacht?' ])"
   ]
  },
  {
   "cell_type": "markdown",
   "metadata": {},
   "source": [
    "## random_str"
   ]
  },
  {
   "cell_type": "code",
   "execution_count": 14,
   "metadata": {
    "execution": {
     "iopub.execute_input": "2022-09-13T15:48:07.076667Z",
     "iopub.status.busy": "2022-09-13T15:48:07.076256Z",
     "iopub.status.idle": "2022-09-13T15:48:07.089285Z",
     "shell.execute_reply": "2022-09-13T15:48:07.088749Z"
    }
   },
   "outputs": [
    {
     "name": "stdout",
     "output_type": "stream",
     "text": [
      "time: 10 ms (started: 2022-09-13 17:48:07 +02:00)\n"
     ]
    }
   ],
   "source": [
    "?bpy.random_str"
   ]
  },
  {
   "cell_type": "code",
   "execution_count": 15,
   "metadata": {
    "execution": {
     "iopub.execute_input": "2022-09-13T15:48:07.091682Z",
     "iopub.status.busy": "2022-09-13T15:48:07.091473Z",
     "iopub.status.idle": "2022-09-13T15:48:07.105501Z",
     "shell.execute_reply": "2022-09-13T15:48:07.104986Z"
    }
   },
   "outputs": [
    {
     "name": "stdout",
     "output_type": "stream",
     "text": [
      "MF\n",
      "SO\n",
      "zgJCpD\n",
      "MxiBDeT\n",
      "TdPuQQ\n",
      "fv\n",
      "CWn\n",
      "Vf\n",
      "QsCvNFEnmm\n",
      "TCu\n",
      "time: 10.7 ms (started: 2022-09-13 17:48:07 +02:00)\n"
     ]
    }
   ],
   "source": [
    "for i in range(10):\n",
    "    print( bpy.random_str( size_min=1, size_max=10) )"
   ]
  },
  {
   "cell_type": "code",
   "execution_count": 16,
   "metadata": {
    "execution": {
     "iopub.execute_input": "2022-09-13T15:48:07.107939Z",
     "iopub.status.busy": "2022-09-13T15:48:07.107734Z",
     "iopub.status.idle": "2022-09-13T15:48:07.123378Z",
     "shell.execute_reply": "2022-09-13T15:48:07.121660Z"
    }
   },
   "outputs": [
    {
     "name": "stdout",
     "output_type": "stream",
     "text": [
      "A@|5A)2+(A\n",
      ")A~A|2A*6>\n",
      "`@+.*^~<(&\n",
      "A.A19>+%'[\n",
      "`+0=A!8)#?\n",
      "A`'/A=AA/`\n",
      "-4_)]#*;A8\n",
      "};|2=.+~?*\n",
      "/]AA*+|&+:\n",
      "&}\"A%A*AA|\n",
      "time: 9.72 ms (started: 2022-09-13 17:48:07 +02:00)\n"
     ]
    }
   ],
   "source": [
    "import string\n",
    "for i in range(10):\n",
    "    print( bpy.random_str( mix=string.digits + string.punctuation + 'AAAAAAAAAAA'   ) )"
   ]
  },
  {
   "cell_type": "code",
   "execution_count": 17,
   "metadata": {
    "execution": {
     "iopub.execute_input": "2022-09-13T15:48:07.134738Z",
     "iopub.status.busy": "2022-09-13T15:48:07.134544Z",
     "iopub.status.idle": "2022-09-13T15:48:07.149304Z",
     "shell.execute_reply": "2022-09-13T15:48:07.147565Z"
    }
   },
   "outputs": [
    {
     "data": {
      "text/plain": [
       "['AAAAAAAAAA',\n",
       " 'AAAAA.AAAA',\n",
       " 'AAA.AAAAAA',\n",
       " 'AA.AAAAAAA',\n",
       " 'AAAAAAAA.A',\n",
       " 'AAAAAAAAAA',\n",
       " 'AAAAAAAAAA',\n",
       " 'AA.AAAAAAA',\n",
       " 'AAAAAAAAAA',\n",
       " 'AAAAAAAAAA']"
      ]
     },
     "execution_count": 17,
     "metadata": {},
     "output_type": "execute_result"
    },
    {
     "name": "stdout",
     "output_type": "stream",
     "text": [
      "time: 10 ms (started: 2022-09-13 17:48:07 +02:00)\n"
     ]
    }
   ],
   "source": [
    "[ bpy.random_str(mix= 'AAAAAAAAAAA.') for i in range(10) ]"
   ]
  }
 ],
 "metadata": {
  "kernelspec": {
   "display_name": "Python 3 (ipykernel)",
   "language": "python",
   "name": "python3"
  },
  "language_info": {
   "codemirror_mode": {
    "name": "ipython",
    "version": 3
   },
   "file_extension": ".py",
   "mimetype": "text/x-python",
   "name": "python",
   "nbconvert_exporter": "python",
   "pygments_lexer": "ipython3",
   "version": "3.8.12"
  }
 },
 "nbformat": 4,
 "nbformat_minor": 4
}
