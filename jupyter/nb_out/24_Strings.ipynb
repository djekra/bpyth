{
 "cells": [
  {
   "cell_type": "code",
   "execution_count": 1,
   "metadata": {
    "execution": {
     "iopub.execute_input": "2022-10-31T17:36:01.156055Z",
     "iopub.status.busy": "2022-10-31T17:36:01.155693Z",
     "iopub.status.idle": "2022-10-31T17:36:01.761269Z",
     "shell.execute_reply": "2022-10-31T17:36:01.760437Z"
    }
   },
   "outputs": [
    {
     "name": "stdout",
     "output_type": "stream",
     "text": [
      "blab init\n",
      "blab found local libs at /media/me/DATA/Dropbox/31_Projekte/01_Python/libs\n",
      "Start Time: 18:36:01\n"
     ]
    },
    {
     "data": {
      "text/html": [
       "<img src onerror=\"var cell = this.closest('.jp-CodeCell');var editor = cell.querySelector('.jp-Editor');editor.style.background='Beige';this.parentNode.removeChild(this)\">"
      ],
      "text/plain": [
       "<IPython.core.display.HTML object>"
      ]
     },
     "metadata": {},
     "output_type": "display_data"
    },
    {
     "name": "stdout",
     "output_type": "stream",
     "text": [
      "time: 421 ms (started: 2022-10-31 18:36:01 +01:00)\n"
     ]
    }
   ],
   "source": [
    "# blab init\n",
    "try:\n",
    "    import blab\n",
    "    startup_notebook = blab.blab_startup()\n",
    "    %run $startup_notebook\n",
    "except:\n",
    "    pass"
   ]
  },
  {
   "cell_type": "markdown",
   "metadata": {
    "tags": []
   },
   "source": [
    "# bpyth String Tools\n",
    "* `superstrip`     : Removes Unicode whitespaces\n",
    "* `remove_words`   : Removes stopwords \n",
    "* `remove_dupwords`: Removes dup words from a string whilst-preserving-order\n",
    "* `longest_substr` : Finds the longest common substring in a list of strings\n",
    "* `random_str`     : Returns a random string "
   ]
  },
  {
   "cell_type": "code",
   "execution_count": 2,
   "metadata": {
    "execution": {
     "iopub.execute_input": "2022-10-31T17:36:01.766322Z",
     "iopub.status.busy": "2022-10-31T17:36:01.765773Z",
     "iopub.status.idle": "2022-10-31T17:36:01.781518Z",
     "shell.execute_reply": "2022-10-31T17:36:01.780591Z"
    }
   },
   "outputs": [
    {
     "name": "stdout",
     "output_type": "stream",
     "text": [
      "time: 11.1 ms (started: 2022-10-31 18:36:01 +01:00)\n"
     ]
    }
   ],
   "source": [
    "import bpyth as bpy"
   ]
  },
  {
   "cell_type": "markdown",
   "metadata": {},
   "source": [
    "## remove_words"
   ]
  },
  {
   "cell_type": "code",
   "execution_count": 3,
   "metadata": {
    "execution": {
     "iopub.execute_input": "2022-10-31T17:36:01.784725Z",
     "iopub.status.busy": "2022-10-31T17:36:01.784408Z",
     "iopub.status.idle": "2022-10-31T17:36:01.847786Z",
     "shell.execute_reply": "2022-10-31T17:36:01.846334Z"
    }
   },
   "outputs": [
    {
     "name": "stdout",
     "output_type": "stream",
     "text": [
      "time: 58.3 ms (started: 2022-10-31 18:36:01 +01:00)\n"
     ]
    }
   ],
   "source": [
    "?bpy.remove_words"
   ]
  },
  {
   "cell_type": "code",
   "execution_count": 4,
   "metadata": {
    "execution": {
     "iopub.execute_input": "2022-10-31T17:36:01.851243Z",
     "iopub.status.busy": "2022-10-31T17:36:01.850677Z",
     "iopub.status.idle": "2022-10-31T17:36:01.867570Z",
     "shell.execute_reply": "2022-10-31T17:36:01.866901Z"
    }
   },
   "outputs": [
    {
     "name": "stdout",
     "output_type": "stream",
     "text": [
      "time: 12 ms (started: 2022-10-31 18:36:01 +01:00)\n"
     ]
    }
   ],
   "source": [
    "text = '''Der russische Überfall auf die Ukraine ist ein vom russischen Präsidenten \n",
    "Wladimir Putin geplanter, befohlener und am 24. Februar 2022 begonnener Angriffskrieg \n",
    "gegen die Ukraine. Der militärische Angriff Russlands auf den souveränen, \n",
    "nicht paktgebundenen Staat weitet den Krieg in der Ukraine, der mit der Annexion der Krim \n",
    "durch Russland bereits 2014 eingeleitet worden war, aus und verschärft ihn. \n",
    "Er gilt bei einigen Beobachtern als größter kriegerischer Konflikt auf dem europäischen \n",
    "Kontinent seit dem Ende des Zweiten Weltkrieges.'''"
   ]
  },
  {
   "cell_type": "code",
   "execution_count": 5,
   "metadata": {
    "execution": {
     "iopub.execute_input": "2022-10-31T17:36:01.870884Z",
     "iopub.status.busy": "2022-10-31T17:36:01.870485Z",
     "iopub.status.idle": "2022-10-31T17:36:01.889222Z",
     "shell.execute_reply": "2022-10-31T17:36:01.888625Z"
    }
   },
   "outputs": [
    {
     "data": {
      "text/plain": [
       "'russische Überfall Ukraine russischen Präsidenten \\nWladimir Putin geplanter, befohlener 24. Februar 2022 begonnener Angriffskrieg \\ngegen Ukraine. militärische Angriff Russlands souveränen, \\nnicht paktgebundenen Staat weitet Krieg in Ukraine, Annexion Krim \\ndurch Russland bereits 2014 eingeleitet worden , verschärft ihn. \\ngilt einigen Beobachtern größter kriegerischer Konflikt europäischen \\nKontinent Ende Zweiten Weltkrieges.'"
      ]
     },
     "execution_count": 5,
     "metadata": {},
     "output_type": "execute_result"
    },
    {
     "name": "stdout",
     "output_type": "stream",
     "text": [
      "time: 15.2 ms (started: 2022-10-31 18:36:01 +01:00)\n"
     ]
    }
   ],
   "source": [
    "bpy.remove_words(text, ['der','die','das','ein','eine', 'und','auf','an','ist','vom','am','Der','den','mit','war','aus','Er','bei','als','dem','seit','des'])"
   ]
  },
  {
   "cell_type": "markdown",
   "metadata": {},
   "source": [
    "## remove_dupwords"
   ]
  },
  {
   "cell_type": "code",
   "execution_count": 6,
   "metadata": {
    "execution": {
     "iopub.execute_input": "2022-10-31T17:36:01.896420Z",
     "iopub.status.busy": "2022-10-31T17:36:01.895022Z",
     "iopub.status.idle": "2022-10-31T17:36:01.912234Z",
     "shell.execute_reply": "2022-10-31T17:36:01.910444Z"
    }
   },
   "outputs": [
    {
     "name": "stdout",
     "output_type": "stream",
     "text": [
      "time: 9.38 ms (started: 2022-10-31 18:36:01 +01:00)\n"
     ]
    }
   ],
   "source": [
    "?bpy.remove_dupwords"
   ]
  },
  {
   "cell_type": "code",
   "execution_count": 7,
   "metadata": {
    "execution": {
     "iopub.execute_input": "2022-10-31T17:36:01.917454Z",
     "iopub.status.busy": "2022-10-31T17:36:01.916654Z",
     "iopub.status.idle": "2022-10-31T17:36:01.933970Z",
     "shell.execute_reply": "2022-10-31T17:36:01.933390Z"
    }
   },
   "outputs": [
    {
     "data": {
      "text/plain": [
       "'Moin Welt'"
      ]
     },
     "execution_count": 7,
     "metadata": {},
     "output_type": "execute_result"
    },
    {
     "name": "stdout",
     "output_type": "stream",
     "text": [
      "time: 13.6 ms (started: 2022-10-31 18:36:01 +01:00)\n"
     ]
    }
   ],
   "source": [
    "bpy.remove_dupwords('Moin Moin Welt')"
   ]
  },
  {
   "cell_type": "code",
   "execution_count": 8,
   "metadata": {
    "execution": {
     "iopub.execute_input": "2022-10-31T17:36:01.936943Z",
     "iopub.status.busy": "2022-10-31T17:36:01.936404Z",
     "iopub.status.idle": "2022-10-31T17:36:01.951272Z",
     "shell.execute_reply": "2022-10-31T17:36:01.950700Z"
    }
   },
   "outputs": [
    {
     "data": {
      "text/plain": [
       "'Moin_Welt'"
      ]
     },
     "execution_count": 8,
     "metadata": {},
     "output_type": "execute_result"
    },
    {
     "name": "stdout",
     "output_type": "stream",
     "text": [
      "time: 11.4 ms (started: 2022-10-31 18:36:01 +01:00)\n"
     ]
    }
   ],
   "source": [
    "bpy.remove_dupwords('Moin_Moin_Welt', sep='_')"
   ]
  },
  {
   "cell_type": "markdown",
   "metadata": {},
   "source": [
    "## Longest common substring"
   ]
  },
  {
   "cell_type": "code",
   "execution_count": 9,
   "metadata": {
    "execution": {
     "iopub.execute_input": "2022-10-31T17:36:01.954290Z",
     "iopub.status.busy": "2022-10-31T17:36:01.953885Z",
     "iopub.status.idle": "2022-10-31T17:36:01.968306Z",
     "shell.execute_reply": "2022-10-31T17:36:01.967631Z"
    }
   },
   "outputs": [
    {
     "name": "stdout",
     "output_type": "stream",
     "text": [
      "time: 10 ms (started: 2022-10-31 18:36:01 +01:00)\n"
     ]
    }
   ],
   "source": [
    "?bpy.longest_substr"
   ]
  },
  {
   "cell_type": "code",
   "execution_count": 10,
   "metadata": {
    "execution": {
     "iopub.execute_input": "2022-10-31T17:36:01.971486Z",
     "iopub.status.busy": "2022-10-31T17:36:01.971063Z",
     "iopub.status.idle": "2022-10-31T17:36:01.984114Z",
     "shell.execute_reply": "2022-10-31T17:36:01.983550Z"
    }
   },
   "outputs": [
    {
     "data": {
      "text/plain": [
       "'klar'"
      ]
     },
     "execution_count": 10,
     "metadata": {},
     "output_type": "execute_result"
    },
    {
     "name": "stdout",
     "output_type": "stream",
     "text": [
      "time: 9.89 ms (started: 2022-10-31 18:36:01 +01:00)\n"
     ]
    }
   ],
   "source": [
    "bpy.longest_substr(['klar', 'klarere'])"
   ]
  },
  {
   "cell_type": "code",
   "execution_count": 11,
   "metadata": {
    "execution": {
     "iopub.execute_input": "2022-10-31T17:36:01.986922Z",
     "iopub.status.busy": "2022-10-31T17:36:01.986529Z",
     "iopub.status.idle": "2022-10-31T17:36:01.999477Z",
     "shell.execute_reply": "2022-10-31T17:36:01.998912Z"
    }
   },
   "outputs": [
    {
     "data": {
      "text/plain": [
       "'PER'"
      ]
     },
     "execution_count": 11,
     "metadata": {},
     "output_type": "execute_result"
    },
    {
     "name": "stdout",
     "output_type": "stream",
     "text": [
      "time: 9.81 ms (started: 2022-10-31 18:36:01 +01:00)\n"
     ]
    }
   ],
   "source": [
    "bpy.longest_substr(['PER.MAL', 'PER.FEM?.GEN']).strip('.')"
   ]
  },
  {
   "cell_type": "code",
   "execution_count": 12,
   "metadata": {
    "execution": {
     "iopub.execute_input": "2022-10-31T17:36:02.002316Z",
     "iopub.status.busy": "2022-10-31T17:36:02.001920Z",
     "iopub.status.idle": "2022-10-31T17:36:02.014892Z",
     "shell.execute_reply": "2022-10-31T17:36:02.014322Z"
    }
   },
   "outputs": [
    {
     "data": {
      "text/plain": [
       "'saun'"
      ]
     },
     "execution_count": 12,
     "metadata": {},
     "output_type": "execute_result"
    },
    {
     "name": "stdout",
     "output_type": "stream",
     "text": [
      "time: 9.83 ms (started: 2022-10-31 18:36:01 +01:00)\n"
     ]
    }
   ],
   "source": [
    "bpy.longest_substr(['saunen', 'sauna', 'saunas'])"
   ]
  },
  {
   "cell_type": "code",
   "execution_count": 13,
   "metadata": {
    "execution": {
     "iopub.execute_input": "2022-10-31T17:36:02.017833Z",
     "iopub.status.busy": "2022-10-31T17:36:02.017314Z",
     "iopub.status.idle": "2022-10-31T17:36:02.030954Z",
     "shell.execute_reply": "2022-10-31T17:36:02.030392Z"
    }
   },
   "outputs": [
    {
     "data": {
      "text/plain": [
       "'ch'"
      ]
     },
     "execution_count": 13,
     "metadata": {},
     "output_type": "execute_result"
    },
    {
     "name": "stdout",
     "output_type": "stream",
     "text": [
      "time: 10.4 ms (started: 2022-10-31 18:36:02 +01:00)\n"
     ]
    }
   ],
   "source": [
    "bpy.longest_substr(['Er hörte leise Schritte hinter sich.',\n",
    "                    'Das bedeutete nichts Gutes.',\n",
    "                    'Wer würde ihm schon folgen,',\n",
    "                    'spät in der Nacht?' ])"
   ]
  },
  {
   "cell_type": "markdown",
   "metadata": {},
   "source": [
    "## random_str"
   ]
  },
  {
   "cell_type": "code",
   "execution_count": 14,
   "metadata": {
    "execution": {
     "iopub.execute_input": "2022-10-31T17:36:02.033811Z",
     "iopub.status.busy": "2022-10-31T17:36:02.033421Z",
     "iopub.status.idle": "2022-10-31T17:36:02.047851Z",
     "shell.execute_reply": "2022-10-31T17:36:02.047188Z"
    }
   },
   "outputs": [
    {
     "name": "stdout",
     "output_type": "stream",
     "text": [
      "time: 9.87 ms (started: 2022-10-31 18:36:02 +01:00)\n"
     ]
    }
   ],
   "source": [
    "?bpy.random_str"
   ]
  },
  {
   "cell_type": "code",
   "execution_count": 15,
   "metadata": {
    "execution": {
     "iopub.execute_input": "2022-10-31T17:36:02.050941Z",
     "iopub.status.busy": "2022-10-31T17:36:02.050696Z",
     "iopub.status.idle": "2022-10-31T17:36:02.063236Z",
     "shell.execute_reply": "2022-10-31T17:36:02.062619Z"
    }
   },
   "outputs": [
    {
     "name": "stdout",
     "output_type": "stream",
     "text": [
      "rzwwxZ\n",
      "eMKrurq\n",
      "hROr\n",
      "EzeVZQBJf\n",
      "D\n",
      "Y\n",
      "FxoSRHsjA\n",
      "z\n",
      "dL\n",
      "PrpVt\n",
      "time: 8.62 ms (started: 2022-10-31 18:36:02 +01:00)\n"
     ]
    }
   ],
   "source": [
    "for i in range(10):\n",
    "    print( bpy.random_str( size_min=1, size_max=10) )"
   ]
  },
  {
   "cell_type": "code",
   "execution_count": 16,
   "metadata": {
    "execution": {
     "iopub.execute_input": "2022-10-31T17:36:02.066327Z",
     "iopub.status.busy": "2022-10-31T17:36:02.066071Z",
     "iopub.status.idle": "2022-10-31T17:36:02.078218Z",
     "shell.execute_reply": "2022-10-31T17:36:02.077587Z"
    }
   },
   "outputs": [
    {
     "name": "stdout",
     "output_type": "stream",
     "text": [
      "44'+)+#A`<\n",
      "+?(|'A+A7A\n",
      "AA-A7}A51\\\n",
      "A@;\\)=~A{-\n",
      "A0`].?7*'%\n",
      "{A#=AA\"A[\"\n",
      "=4}6A[1__2\n",
      ">@8-{+\\*^!\n",
      "#}}|A>]'\\4\n",
      "{,&>1=.A3?\n",
      "time: 8.74 ms (started: 2022-10-31 18:36:02 +01:00)\n"
     ]
    }
   ],
   "source": [
    "import string\n",
    "for i in range(10):\n",
    "    print( bpy.random_str( mix=string.digits + string.punctuation + 'AAAAAAAAAAA'   ) )"
   ]
  },
  {
   "cell_type": "code",
   "execution_count": 17,
   "metadata": {
    "execution": {
     "iopub.execute_input": "2022-10-31T17:36:02.081222Z",
     "iopub.status.busy": "2022-10-31T17:36:02.080830Z",
     "iopub.status.idle": "2022-10-31T17:36:02.094184Z",
     "shell.execute_reply": "2022-10-31T17:36:02.093621Z"
    }
   },
   "outputs": [
    {
     "data": {
      "text/plain": [
       "['A.AAAAAAAA',\n",
       " '.AAAAAAAAA',\n",
       " 'AA.AAAAAAA',\n",
       " 'AAAAAAAAAA',\n",
       " 'AA.AAAAAAA',\n",
       " 'A.AAAAAAA.',\n",
       " 'AAAAAAAA.A',\n",
       " 'AAAAAAAAA.',\n",
       " 'AAAAAAAAAA',\n",
       " 'AAAAAAAAAA']"
      ]
     },
     "execution_count": 17,
     "metadata": {},
     "output_type": "execute_result"
    },
    {
     "name": "stdout",
     "output_type": "stream",
     "text": [
      "time: 10.1 ms (started: 2022-10-31 18:36:02 +01:00)\n"
     ]
    }
   ],
   "source": [
    "[ bpy.random_str(mix= 'AAAAAAAAAAA.') for i in range(10) ]"
   ]
  }
 ],
 "metadata": {
  "kernelspec": {
   "display_name": "Python 3 (ipykernel)",
   "language": "python",
   "name": "python3"
  },
  "language_info": {
   "codemirror_mode": {
    "name": "ipython",
    "version": 3
   },
   "file_extension": ".py",
   "mimetype": "text/x-python",
   "name": "python",
   "nbconvert_exporter": "python",
   "pygments_lexer": "ipython3",
   "version": "3.9.13"
  }
 },
 "nbformat": 4,
 "nbformat_minor": 4
}
