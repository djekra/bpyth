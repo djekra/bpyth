{
 "cells": [
  {
   "cell_type": "markdown",
   "metadata": {
    "tags": []
   },
   "source": [
    "# bpyth Strings\n",
    "* `superstrip`     : Removes Unicode whitespaces\n",
    "* `remove_words`   : Removes stopwords \n",
    "* `remove_dupwords`: Removes dup words from a string whilst-preserving-order\n",
    "* `longest_substr` : Finds the longest common substring in a list of strings\n",
    "* `random_str`     : Returns a random string "
   ]
  },
  {
   "cell_type": "code",
   "execution_count": 1,
   "metadata": {
    "execution": {
     "iopub.execute_input": "2022-09-10T19:51:01.334127Z",
     "iopub.status.busy": "2022-09-10T19:51:01.333784Z",
     "iopub.status.idle": "2022-09-10T19:51:02.219283Z",
     "shell.execute_reply": "2022-09-10T19:51:02.218773Z"
    }
   },
   "outputs": [
    {
     "name": "stdout",
     "output_type": "stream",
     "text": [
      "JupyterLab Tools Version 0.22\n",
      "found local libs at /mnt/DATA/Dropbox/31_Projekte/01_Python/libs\n",
      "Start Time: 21:51:01\n"
     ]
    },
    {
     "data": {
      "text/html": [
       "<img src onerror=\"var cell = this.closest('.jp-CodeCell');var editor = cell.querySelector('.jp-Editor');editor.style.background='Beige';this.parentNode.removeChild(this)\">"
      ],
      "text/plain": [
       "<IPython.core.display.HTML object>"
      ]
     },
     "metadata": {},
     "output_type": "display_data"
    },
    {
     "name": "stdout",
     "output_type": "stream",
     "text": [
      "time: 695 ms (started: 2022-09-10 21:51:01 +02:00)\n"
     ]
    }
   ],
   "source": [
    "%run 98___blab_tools.ipynb"
   ]
  },
  {
   "cell_type": "code",
   "execution_count": 2,
   "metadata": {
    "execution": {
     "iopub.execute_input": "2022-09-10T19:51:02.221806Z",
     "iopub.status.busy": "2022-09-10T19:51:02.221624Z",
     "iopub.status.idle": "2022-09-10T19:51:02.233986Z",
     "shell.execute_reply": "2022-09-10T19:51:02.233522Z"
    }
   },
   "outputs": [
    {
     "name": "stdout",
     "output_type": "stream",
     "text": [
      "time: 8.95 ms (started: 2022-09-10 21:51:02 +02:00)\n"
     ]
    }
   ],
   "source": [
    "import bpyth as bpy"
   ]
  },
  {
   "cell_type": "markdown",
   "metadata": {},
   "source": [
    "## remove_words"
   ]
  },
  {
   "cell_type": "code",
   "execution_count": 3,
   "metadata": {
    "execution": {
     "iopub.execute_input": "2022-09-10T19:51:02.236481Z",
     "iopub.status.busy": "2022-09-10T19:51:02.236273Z",
     "iopub.status.idle": "2022-09-10T19:51:02.283395Z",
     "shell.execute_reply": "2022-09-10T19:51:02.282934Z"
    }
   },
   "outputs": [
    {
     "name": "stdout",
     "output_type": "stream",
     "text": [
      "time: 44.5 ms (started: 2022-09-10 21:51:02 +02:00)\n"
     ]
    }
   ],
   "source": [
    "?bpy.remove_words"
   ]
  },
  {
   "cell_type": "code",
   "execution_count": 4,
   "metadata": {
    "execution": {
     "iopub.execute_input": "2022-09-10T19:51:02.285650Z",
     "iopub.status.busy": "2022-09-10T19:51:02.285482Z",
     "iopub.status.idle": "2022-09-10T19:51:02.297086Z",
     "shell.execute_reply": "2022-09-10T19:51:02.296625Z"
    }
   },
   "outputs": [
    {
     "name": "stdout",
     "output_type": "stream",
     "text": [
      "time: 9.14 ms (started: 2022-09-10 21:51:02 +02:00)\n"
     ]
    }
   ],
   "source": [
    "text = '''Der russische Überfall auf die Ukraine ist ein vom russischen Präsidenten \n",
    "Wladimir Putin geplanter, befohlener und am 24. Februar 2022 begonnener Angriffskrieg \n",
    "gegen die Ukraine. Der militärische Angriff Russlands auf den souveränen, \n",
    "nicht paktgebundenen Staat weitet den Krieg in der Ukraine, der mit der Annexion der Krim \n",
    "durch Russland bereits 2014 eingeleitet worden war, aus und verschärft ihn. \n",
    "Er gilt bei einigen Beobachtern als größter kriegerischer Konflikt auf dem europäischen \n",
    "Kontinent seit dem Ende des Zweiten Weltkrieges.'''"
   ]
  },
  {
   "cell_type": "code",
   "execution_count": 5,
   "metadata": {
    "execution": {
     "iopub.execute_input": "2022-09-10T19:51:02.299346Z",
     "iopub.status.busy": "2022-09-10T19:51:02.299175Z",
     "iopub.status.idle": "2022-09-10T19:51:02.312949Z",
     "shell.execute_reply": "2022-09-10T19:51:02.312504Z"
    }
   },
   "outputs": [
    {
     "data": {
      "text/plain": [
       "'russische Überfall Ukraine russischen Präsidenten \\nWladimir Putin geplanter, befohlener 24. Februar 2022 begonnener Angriffskrieg \\ngegen Ukraine. militärische Angriff Russlands souveränen, \\nnicht paktgebundenen Staat weitet Krieg in Ukraine, Annexion Krim \\ndurch Russland bereits 2014 eingeleitet worden , verschärft ihn. \\ngilt einigen Beobachtern größter kriegerischer Konflikt europäischen \\nKontinent Ende Zweiten Weltkrieges.'"
      ]
     },
     "execution_count": 5,
     "metadata": {},
     "output_type": "execute_result"
    },
    {
     "name": "stdout",
     "output_type": "stream",
     "text": [
      "time: 11 ms (started: 2022-09-10 21:51:02 +02:00)\n"
     ]
    }
   ],
   "source": [
    "bpy.remove_words(text, ['der','die','das','ein','eine', 'und','auf','an','ist','vom','am','Der','den','mit','war','aus','Er','bei','als','dem','seit','des'])"
   ]
  },
  {
   "cell_type": "markdown",
   "metadata": {},
   "source": [
    "## remove_dupwords"
   ]
  },
  {
   "cell_type": "code",
   "execution_count": 6,
   "metadata": {
    "execution": {
     "iopub.execute_input": "2022-09-10T19:51:02.315920Z",
     "iopub.status.busy": "2022-09-10T19:51:02.315716Z",
     "iopub.status.idle": "2022-09-10T19:51:02.328575Z",
     "shell.execute_reply": "2022-09-10T19:51:02.328071Z"
    }
   },
   "outputs": [
    {
     "name": "stdout",
     "output_type": "stream",
     "text": [
      "time: 10.2 ms (started: 2022-09-10 21:51:02 +02:00)\n"
     ]
    }
   ],
   "source": [
    "?bpy.remove_dupwords"
   ]
  },
  {
   "cell_type": "code",
   "execution_count": 7,
   "metadata": {
    "execution": {
     "iopub.execute_input": "2022-09-10T19:51:02.331184Z",
     "iopub.status.busy": "2022-09-10T19:51:02.330990Z",
     "iopub.status.idle": "2022-09-10T19:51:02.343808Z",
     "shell.execute_reply": "2022-09-10T19:51:02.343327Z"
    }
   },
   "outputs": [
    {
     "data": {
      "text/plain": [
       "'Moin Welt'"
      ]
     },
     "execution_count": 7,
     "metadata": {},
     "output_type": "execute_result"
    },
    {
     "name": "stdout",
     "output_type": "stream",
     "text": [
      "time: 10.3 ms (started: 2022-09-10 21:51:02 +02:00)\n"
     ]
    }
   ],
   "source": [
    "bpy.remove_dupwords('Moin Moin Welt')"
   ]
  },
  {
   "cell_type": "code",
   "execution_count": 8,
   "metadata": {
    "execution": {
     "iopub.execute_input": "2022-09-10T19:51:02.346707Z",
     "iopub.status.busy": "2022-09-10T19:51:02.346520Z",
     "iopub.status.idle": "2022-09-10T19:51:02.361057Z",
     "shell.execute_reply": "2022-09-10T19:51:02.360578Z"
    }
   },
   "outputs": [
    {
     "data": {
      "text/plain": [
       "'Moin_Welt'"
      ]
     },
     "execution_count": 8,
     "metadata": {},
     "output_type": "execute_result"
    },
    {
     "name": "stdout",
     "output_type": "stream",
     "text": [
      "time: 10.6 ms (started: 2022-09-10 21:51:02 +02:00)\n"
     ]
    }
   ],
   "source": [
    "bpy.remove_dupwords('Moin_Moin_Welt', sep='_')"
   ]
  },
  {
   "cell_type": "markdown",
   "metadata": {},
   "source": [
    "## Longest common substring"
   ]
  },
  {
   "cell_type": "code",
   "execution_count": 9,
   "metadata": {
    "execution": {
     "iopub.execute_input": "2022-09-10T19:51:02.363534Z",
     "iopub.status.busy": "2022-09-10T19:51:02.363364Z",
     "iopub.status.idle": "2022-09-10T19:51:02.376386Z",
     "shell.execute_reply": "2022-09-10T19:51:02.375901Z"
    }
   },
   "outputs": [
    {
     "name": "stdout",
     "output_type": "stream",
     "text": [
      "time: 10.4 ms (started: 2022-09-10 21:51:02 +02:00)\n"
     ]
    }
   ],
   "source": [
    "?bpy.longest_substr"
   ]
  },
  {
   "cell_type": "code",
   "execution_count": 10,
   "metadata": {
    "execution": {
     "iopub.execute_input": "2022-09-10T19:51:02.378831Z",
     "iopub.status.busy": "2022-09-10T19:51:02.378665Z",
     "iopub.status.idle": "2022-09-10T19:51:02.390923Z",
     "shell.execute_reply": "2022-09-10T19:51:02.390450Z"
    }
   },
   "outputs": [
    {
     "data": {
      "text/plain": [
       "'klar'"
      ]
     },
     "execution_count": 10,
     "metadata": {},
     "output_type": "execute_result"
    },
    {
     "name": "stdout",
     "output_type": "stream",
     "text": [
      "time: 9.8 ms (started: 2022-09-10 21:51:02 +02:00)\n"
     ]
    }
   ],
   "source": [
    "bpy.longest_substr(['klar', 'klarere'])"
   ]
  },
  {
   "cell_type": "code",
   "execution_count": 11,
   "metadata": {
    "execution": {
     "iopub.execute_input": "2022-09-10T19:51:02.394056Z",
     "iopub.status.busy": "2022-09-10T19:51:02.393882Z",
     "iopub.status.idle": "2022-09-10T19:51:02.406800Z",
     "shell.execute_reply": "2022-09-10T19:51:02.406322Z"
    }
   },
   "outputs": [
    {
     "data": {
      "text/plain": [
       "'PER'"
      ]
     },
     "execution_count": 11,
     "metadata": {},
     "output_type": "execute_result"
    },
    {
     "name": "stdout",
     "output_type": "stream",
     "text": [
      "time: 10.3 ms (started: 2022-09-10 21:51:02 +02:00)\n"
     ]
    }
   ],
   "source": [
    "bpy.longest_substr(['PER.MAL', 'PER.FEM?.GEN']).strip('.')"
   ]
  },
  {
   "cell_type": "code",
   "execution_count": 12,
   "metadata": {
    "execution": {
     "iopub.execute_input": "2022-09-10T19:51:02.410561Z",
     "iopub.status.busy": "2022-09-10T19:51:02.410345Z",
     "iopub.status.idle": "2022-09-10T19:51:02.424065Z",
     "shell.execute_reply": "2022-09-10T19:51:02.423599Z"
    }
   },
   "outputs": [
    {
     "data": {
      "text/plain": [
       "'saun'"
      ]
     },
     "execution_count": 12,
     "metadata": {},
     "output_type": "execute_result"
    },
    {
     "name": "stdout",
     "output_type": "stream",
     "text": [
      "time: 11.1 ms (started: 2022-09-10 21:51:02 +02:00)\n"
     ]
    }
   ],
   "source": [
    "bpy.longest_substr(['saunen', 'sauna', 'saunas'])"
   ]
  },
  {
   "cell_type": "code",
   "execution_count": 13,
   "metadata": {
    "execution": {
     "iopub.execute_input": "2022-09-10T19:51:02.427239Z",
     "iopub.status.busy": "2022-09-10T19:51:02.427065Z",
     "iopub.status.idle": "2022-09-10T19:51:02.442070Z",
     "shell.execute_reply": "2022-09-10T19:51:02.441578Z"
    }
   },
   "outputs": [
    {
     "data": {
      "text/plain": [
       "'ch'"
      ]
     },
     "execution_count": 13,
     "metadata": {},
     "output_type": "execute_result"
    },
    {
     "name": "stdout",
     "output_type": "stream",
     "text": [
      "time: 11 ms (started: 2022-09-10 21:51:02 +02:00)\n"
     ]
    }
   ],
   "source": [
    "bpy.longest_substr(['Er hörte leise Schritte hinter sich.',\n",
    "                    'Das bedeutete nichts Gutes.',\n",
    "                    'Wer würde ihm schon folgen,',\n",
    "                    'spät in der Nacht?' ])"
   ]
  },
  {
   "cell_type": "markdown",
   "metadata": {},
   "source": [
    "## random_str"
   ]
  },
  {
   "cell_type": "code",
   "execution_count": 14,
   "metadata": {
    "execution": {
     "iopub.execute_input": "2022-09-10T19:51:02.444609Z",
     "iopub.status.busy": "2022-09-10T19:51:02.444440Z",
     "iopub.status.idle": "2022-09-10T19:51:02.457187Z",
     "shell.execute_reply": "2022-09-10T19:51:02.456692Z"
    }
   },
   "outputs": [
    {
     "name": "stdout",
     "output_type": "stream",
     "text": [
      "time: 10 ms (started: 2022-09-10 21:51:02 +02:00)\n"
     ]
    }
   ],
   "source": [
    "?bpy.random_str"
   ]
  },
  {
   "cell_type": "code",
   "execution_count": 15,
   "metadata": {
    "execution": {
     "iopub.execute_input": "2022-09-10T19:51:02.459605Z",
     "iopub.status.busy": "2022-09-10T19:51:02.459437Z",
     "iopub.status.idle": "2022-09-10T19:51:02.471158Z",
     "shell.execute_reply": "2022-09-10T19:51:02.470677Z"
    }
   },
   "outputs": [
    {
     "name": "stdout",
     "output_type": "stream",
     "text": [
      "zIpGkpMNQe\n",
      "XTGfYiqw\n",
      "r\n",
      "zl\n",
      "bjnG\n",
      "mcyW\n",
      "jAo\n",
      "NfDI\n",
      "VL\n",
      "rqKW\n",
      "time: 9.11 ms (started: 2022-09-10 21:51:02 +02:00)\n"
     ]
    }
   ],
   "source": [
    "for i in range(10):\n",
    "    print( bpy.random_str( size_min=1, size_max=10) )"
   ]
  },
  {
   "cell_type": "code",
   "execution_count": 16,
   "metadata": {
    "execution": {
     "iopub.execute_input": "2022-09-10T19:51:02.473571Z",
     "iopub.status.busy": "2022-09-10T19:51:02.473354Z",
     "iopub.status.idle": "2022-09-10T19:51:02.486309Z",
     "shell.execute_reply": "2022-09-10T19:51:02.485841Z"
    }
   },
   "outputs": [
    {
     "name": "stdout",
     "output_type": "stream",
     "text": [
      "(#2:\",.\\)A\n",
      ")A.|A!^;AA\n",
      "!^/=\"A9:\"A\n",
      "%|-{%7~A3/\n",
      ",3A?6A['=A\n",
      "5>A\\,3`!:=\n",
      "$&AA@;A}AA\n",
      "A^A'|{\"-`;\n",
      "4]\"A/^'`_\\\n",
      "=_']|]5$:/\n",
      "time: 9.9 ms (started: 2022-09-10 21:51:02 +02:00)\n"
     ]
    }
   ],
   "source": [
    "import string\n",
    "for i in range(10):\n",
    "    print( bpy.random_str( mix=string.digits + string.punctuation + 'AAAAAAAAAAA'   ) )"
   ]
  },
  {
   "cell_type": "code",
   "execution_count": 17,
   "metadata": {
    "execution": {
     "iopub.execute_input": "2022-09-10T19:51:02.488648Z",
     "iopub.status.busy": "2022-09-10T19:51:02.488440Z",
     "iopub.status.idle": "2022-09-10T19:51:02.501454Z",
     "shell.execute_reply": "2022-09-10T19:51:02.500985Z"
    }
   },
   "outputs": [
    {
     "data": {
      "text/plain": [
       "['AAAA.A.AAA',\n",
       " 'AAAA..AAAA',\n",
       " 'AAAAAAAAAA',\n",
       " 'AAAA.A...A',\n",
       " 'AAAAAAAAAA',\n",
       " 'AAAAA.AAAA',\n",
       " 'AAAAAAAA.A',\n",
       " 'AAAAAAAAAA',\n",
       " 'AAAAAAAAAA',\n",
       " 'AAAAAAAAAA']"
      ]
     },
     "execution_count": 17,
     "metadata": {},
     "output_type": "execute_result"
    },
    {
     "name": "stdout",
     "output_type": "stream",
     "text": [
      "time: 10.3 ms (started: 2022-09-10 21:51:02 +02:00)\n"
     ]
    }
   ],
   "source": [
    "[ bpy.random_str(mix= 'AAAAAAAAAAA.') for i in range(10) ]"
   ]
  }
 ],
 "metadata": {
  "kernelspec": {
   "display_name": "Python 3 (ipykernel)",
   "language": "python",
   "name": "python3"
  },
  "language_info": {
   "codemirror_mode": {
    "name": "ipython",
    "version": 3
   },
   "file_extension": ".py",
   "mimetype": "text/x-python",
   "name": "python",
   "nbconvert_exporter": "python",
   "pygments_lexer": "ipython3",
   "version": "3.8.12"
  }
 },
 "nbformat": 4,
 "nbformat_minor": 4
}
