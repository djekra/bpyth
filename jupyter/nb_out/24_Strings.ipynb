{
 "cells": [
  {
   "cell_type": "markdown",
   "metadata": {},
   "source": [
    "__[Open and try this file online (Colab)](https://colab.research.google.com/github/djekra/bpyth/blob/master/jupyter/24_Strings.ipynb)__"
   ]
  },
  {
   "cell_type": "markdown",
   "metadata": {
    "tags": []
   },
   "source": [
    "# bpyth String Tools\n",
    "* `superstrip`     : Removes Unicode whitespaces\n",
    "* `remove_words`   : Removes stopwords \n",
    "* `remove_dupwords`: Removes dup words from a string whilst-preserving-order\n",
    "* `longest_substr` : Finds the longest common substring in a list of strings\n",
    "* `random_str`     : Returns a random string "
   ]
  },
  {
   "cell_type": "code",
   "execution_count": 1,
   "metadata": {
    "execution": {
     "iopub.execute_input": "2023-02-11T23:01:26.311429Z",
     "iopub.status.busy": "2023-02-11T23:01:26.310801Z",
     "iopub.status.idle": "2023-02-11T23:01:27.056268Z",
     "shell.execute_reply": "2023-02-11T23:01:27.055598Z"
    }
   },
   "outputs": [
    {
     "name": "stdout",
     "output_type": "stream",
     "text": [
      "blab init\n",
      "environment['dropbox_path'] = /home/me/Data_Linux/Dropbox\n",
      "environment['lib_path']     = /home/me/Data_Linux/Dropbox/31_Projekte/01_Python/libs\n",
      "Start Time: 00:01:26\n"
     ]
    },
    {
     "data": {
      "text/html": [
       "<img src onerror=\"var cell = this.closest('.jp-CodeCell');var editor = cell.querySelector('.jp-Editor');editor.style.background='Beige';this.parentNode.removeChild(this)\">"
      ],
      "text/plain": [
       "<IPython.core.display.HTML object>"
      ]
     },
     "metadata": {},
     "output_type": "display_data"
    },
    {
     "name": "stdout",
     "output_type": "stream",
     "text": [
      "time: 476 ms\n"
     ]
    }
   ],
   "source": [
    "# blab init\n",
    "try:\n",
    "    import blab\n",
    "except ImportError as e:\n",
    "    !pip install blab\n",
    "    import blab    \n",
    "startup_notebook = blab.blab_startup()\n",
    "%run $startup_notebook "
   ]
  },
  {
   "cell_type": "code",
   "execution_count": 2,
   "metadata": {
    "execution": {
     "iopub.execute_input": "2023-02-11T23:01:27.059267Z",
     "iopub.status.busy": "2023-02-11T23:01:27.058948Z",
     "iopub.status.idle": "2023-02-11T23:01:27.071514Z",
     "shell.execute_reply": "2023-02-11T23:01:27.070976Z"
    }
   },
   "outputs": [
    {
     "name": "stdout",
     "output_type": "stream",
     "text": [
      "time: 8.81 ms\n"
     ]
    }
   ],
   "source": [
    "import bpyth as bpy"
   ]
  },
  {
   "cell_type": "markdown",
   "metadata": {},
   "source": [
    "## remove_words"
   ]
  },
  {
   "cell_type": "code",
   "execution_count": 3,
   "metadata": {
    "execution": {
     "iopub.execute_input": "2023-02-11T23:01:27.074695Z",
     "iopub.status.busy": "2023-02-11T23:01:27.074098Z",
     "iopub.status.idle": "2023-02-11T23:01:27.181503Z",
     "shell.execute_reply": "2023-02-11T23:01:27.180921Z"
    }
   },
   "outputs": [
    {
     "name": "stdout",
     "output_type": "stream",
     "text": [
      "time: 104 ms\n"
     ]
    }
   ],
   "source": [
    "?bpy.remove_words"
   ]
  },
  {
   "cell_type": "code",
   "execution_count": 4,
   "metadata": {
    "execution": {
     "iopub.execute_input": "2023-02-11T23:01:27.184446Z",
     "iopub.status.busy": "2023-02-11T23:01:27.184087Z",
     "iopub.status.idle": "2023-02-11T23:01:27.197848Z",
     "shell.execute_reply": "2023-02-11T23:01:27.196999Z"
    }
   },
   "outputs": [
    {
     "name": "stdout",
     "output_type": "stream",
     "text": [
      "time: 9.48 ms\n"
     ]
    }
   ],
   "source": [
    "text = '''Der russische Überfall auf die Ukraine ist ein vom russischen Präsidenten \n",
    "Wladimir Putin geplanter, befohlener und am 24. Februar 2022 begonnener Angriffskrieg \n",
    "gegen die Ukraine. Der militärische Angriff Russlands auf den souveränen, \n",
    "nicht paktgebundenen Staat weitet den Krieg in der Ukraine, der mit der Annexion der Krim \n",
    "durch Russland bereits 2014 eingeleitet worden war, aus und verschärft ihn. \n",
    "Er gilt bei einigen Beobachtern als größter kriegerischer Konflikt auf dem europäischen \n",
    "Kontinent seit dem Ende des Zweiten Weltkrieges.'''"
   ]
  },
  {
   "cell_type": "code",
   "execution_count": 5,
   "metadata": {
    "execution": {
     "iopub.execute_input": "2023-02-11T23:01:27.201748Z",
     "iopub.status.busy": "2023-02-11T23:01:27.201277Z",
     "iopub.status.idle": "2023-02-11T23:01:27.215944Z",
     "shell.execute_reply": "2023-02-11T23:01:27.215348Z"
    }
   },
   "outputs": [
    {
     "data": {
      "text/plain": [
       "'russische Überfall Ukraine russischen Präsidenten \\nWladimir Putin geplanter, befohlener 24. Februar 2022 begonnener Angriffskrieg \\ngegen Ukraine. militärische Angriff Russlands souveränen, \\nnicht paktgebundenen Staat weitet Krieg in Ukraine, Annexion Krim \\ndurch Russland bereits 2014 eingeleitet worden , verschärft ihn. \\ngilt einigen Beobachtern größter kriegerischer Konflikt europäischen \\nKontinent Ende Zweiten Weltkrieges.'"
      ]
     },
     "execution_count": 5,
     "metadata": {},
     "output_type": "execute_result"
    },
    {
     "name": "stdout",
     "output_type": "stream",
     "text": [
      "time: 10.9 ms\n"
     ]
    }
   ],
   "source": [
    "bpy.remove_words(text, ['der','die','das','ein','eine', 'und','auf','an','ist','vom','am','Der','den','mit','war','aus','Er','bei','als','dem','seit','des'])"
   ]
  },
  {
   "cell_type": "markdown",
   "metadata": {},
   "source": [
    "## remove_dupwords"
   ]
  },
  {
   "cell_type": "code",
   "execution_count": 6,
   "metadata": {
    "execution": {
     "iopub.execute_input": "2023-02-11T23:01:27.219886Z",
     "iopub.status.busy": "2023-02-11T23:01:27.219471Z",
     "iopub.status.idle": "2023-02-11T23:01:27.232209Z",
     "shell.execute_reply": "2023-02-11T23:01:27.231649Z"
    }
   },
   "outputs": [
    {
     "name": "stdout",
     "output_type": "stream",
     "text": [
      "time: 9.33 ms\n"
     ]
    }
   ],
   "source": [
    "?bpy.remove_dupwords"
   ]
  },
  {
   "cell_type": "code",
   "execution_count": 7,
   "metadata": {
    "execution": {
     "iopub.execute_input": "2023-02-11T23:01:27.235091Z",
     "iopub.status.busy": "2023-02-11T23:01:27.234679Z",
     "iopub.status.idle": "2023-02-11T23:01:27.246920Z",
     "shell.execute_reply": "2023-02-11T23:01:27.246354Z"
    }
   },
   "outputs": [
    {
     "data": {
      "text/plain": [
       "'Moin Welt'"
      ]
     },
     "execution_count": 7,
     "metadata": {},
     "output_type": "execute_result"
    },
    {
     "name": "stdout",
     "output_type": "stream",
     "text": [
      "time: 9.24 ms\n"
     ]
    }
   ],
   "source": [
    "bpy.remove_dupwords('Moin Moin Welt')"
   ]
  },
  {
   "cell_type": "code",
   "execution_count": 8,
   "metadata": {
    "execution": {
     "iopub.execute_input": "2023-02-11T23:01:27.249773Z",
     "iopub.status.busy": "2023-02-11T23:01:27.249372Z",
     "iopub.status.idle": "2023-02-11T23:01:27.262180Z",
     "shell.execute_reply": "2023-02-11T23:01:27.261640Z"
    }
   },
   "outputs": [
    {
     "data": {
      "text/plain": [
       "'Moin_Welt'"
      ]
     },
     "execution_count": 8,
     "metadata": {},
     "output_type": "execute_result"
    },
    {
     "name": "stdout",
     "output_type": "stream",
     "text": [
      "time: 9.78 ms\n"
     ]
    }
   ],
   "source": [
    "bpy.remove_dupwords('Moin_Moin_Welt', sep='_')"
   ]
  },
  {
   "cell_type": "markdown",
   "metadata": {},
   "source": [
    "## Longest common substring"
   ]
  },
  {
   "cell_type": "code",
   "execution_count": 9,
   "metadata": {
    "execution": {
     "iopub.execute_input": "2023-02-11T23:01:27.265119Z",
     "iopub.status.busy": "2023-02-11T23:01:27.264756Z",
     "iopub.status.idle": "2023-02-11T23:01:27.278649Z",
     "shell.execute_reply": "2023-02-11T23:01:27.277897Z"
    }
   },
   "outputs": [
    {
     "name": "stdout",
     "output_type": "stream",
     "text": [
      "time: 9.03 ms\n"
     ]
    }
   ],
   "source": [
    "?bpy.longest_substr"
   ]
  },
  {
   "cell_type": "code",
   "execution_count": 10,
   "metadata": {
    "execution": {
     "iopub.execute_input": "2023-02-11T23:01:27.281696Z",
     "iopub.status.busy": "2023-02-11T23:01:27.281409Z",
     "iopub.status.idle": "2023-02-11T23:01:27.294588Z",
     "shell.execute_reply": "2023-02-11T23:01:27.294020Z"
    }
   },
   "outputs": [
    {
     "data": {
      "text/plain": [
       "'klar'"
      ]
     },
     "execution_count": 10,
     "metadata": {},
     "output_type": "execute_result"
    },
    {
     "name": "stdout",
     "output_type": "stream",
     "text": [
      "time: 10.3 ms\n"
     ]
    }
   ],
   "source": [
    "bpy.longest_substr(['klar', 'klarere'])"
   ]
  },
  {
   "cell_type": "code",
   "execution_count": 11,
   "metadata": {
    "execution": {
     "iopub.execute_input": "2023-02-11T23:01:27.297854Z",
     "iopub.status.busy": "2023-02-11T23:01:27.297497Z",
     "iopub.status.idle": "2023-02-11T23:01:27.311764Z",
     "shell.execute_reply": "2023-02-11T23:01:27.311067Z"
    }
   },
   "outputs": [
    {
     "data": {
      "text/plain": [
       "'PER'"
      ]
     },
     "execution_count": 11,
     "metadata": {},
     "output_type": "execute_result"
    },
    {
     "name": "stdout",
     "output_type": "stream",
     "text": [
      "time: 9.89 ms\n"
     ]
    }
   ],
   "source": [
    "bpy.longest_substr(['PER.MAL', 'PER.FEM?.GEN']).strip('.')"
   ]
  },
  {
   "cell_type": "code",
   "execution_count": 12,
   "metadata": {
    "execution": {
     "iopub.execute_input": "2023-02-11T23:01:27.315701Z",
     "iopub.status.busy": "2023-02-11T23:01:27.314986Z",
     "iopub.status.idle": "2023-02-11T23:01:27.330026Z",
     "shell.execute_reply": "2023-02-11T23:01:27.329486Z"
    }
   },
   "outputs": [
    {
     "data": {
      "text/plain": [
       "'saun'"
      ]
     },
     "execution_count": 12,
     "metadata": {},
     "output_type": "execute_result"
    },
    {
     "name": "stdout",
     "output_type": "stream",
     "text": [
      "time: 11.4 ms\n"
     ]
    }
   ],
   "source": [
    "bpy.longest_substr(['saunen', 'sauna', 'saunas'])"
   ]
  },
  {
   "cell_type": "code",
   "execution_count": 13,
   "metadata": {
    "execution": {
     "iopub.execute_input": "2023-02-11T23:01:27.332869Z",
     "iopub.status.busy": "2023-02-11T23:01:27.332325Z",
     "iopub.status.idle": "2023-02-11T23:01:27.345683Z",
     "shell.execute_reply": "2023-02-11T23:01:27.345140Z"
    }
   },
   "outputs": [
    {
     "data": {
      "text/plain": [
       "'ch'"
      ]
     },
     "execution_count": 13,
     "metadata": {},
     "output_type": "execute_result"
    },
    {
     "name": "stdout",
     "output_type": "stream",
     "text": [
      "time: 10.1 ms\n"
     ]
    }
   ],
   "source": [
    "bpy.longest_substr(['Er hörte leise Schritte hinter sich.',\n",
    "                    'Das bedeutete nichts Gutes.',\n",
    "                    'Wer würde ihm schon folgen,',\n",
    "                    'spät in der Nacht?' ])"
   ]
  },
  {
   "cell_type": "markdown",
   "metadata": {},
   "source": [
    "## random_str"
   ]
  },
  {
   "cell_type": "code",
   "execution_count": 14,
   "metadata": {
    "execution": {
     "iopub.execute_input": "2023-02-11T23:01:27.349409Z",
     "iopub.status.busy": "2023-02-11T23:01:27.348100Z",
     "iopub.status.idle": "2023-02-11T23:01:27.361577Z",
     "shell.execute_reply": "2023-02-11T23:01:27.361004Z"
    }
   },
   "outputs": [
    {
     "name": "stdout",
     "output_type": "stream",
     "text": [
      "time: 9.26 ms\n"
     ]
    }
   ],
   "source": [
    "?bpy.random_str"
   ]
  },
  {
   "cell_type": "code",
   "execution_count": 15,
   "metadata": {
    "execution": {
     "iopub.execute_input": "2023-02-11T23:01:27.365231Z",
     "iopub.status.busy": "2023-02-11T23:01:27.364004Z",
     "iopub.status.idle": "2023-02-11T23:01:27.376590Z",
     "shell.execute_reply": "2023-02-11T23:01:27.376024Z"
    }
   },
   "outputs": [
    {
     "name": "stdout",
     "output_type": "stream",
     "text": [
      "q\n",
      "qGxo\n",
      "bEFXQQtGer\n",
      "heoaDAU\n",
      "kA\n",
      "ktMWsYXxc\n",
      "CElKOM\n",
      "XzH\n",
      "DsghKNxs\n",
      "vnM\n",
      "time: 8.62 ms\n"
     ]
    }
   ],
   "source": [
    "for i in range(10):\n",
    "    print( bpy.random_str( size_min=1, size_max=10) )"
   ]
  },
  {
   "cell_type": "code",
   "execution_count": 16,
   "metadata": {
    "execution": {
     "iopub.execute_input": "2023-02-11T23:01:27.380079Z",
     "iopub.status.busy": "2023-02-11T23:01:27.378906Z",
     "iopub.status.idle": "2023-02-11T23:01:27.393581Z",
     "shell.execute_reply": "2023-02-11T23:01:27.392875Z"
    }
   },
   "outputs": [
    {
     "name": "stdout",
     "output_type": "stream",
     "text": [
      "$AAA!\\A:\")\n",
      "@54?A6@.(A\n",
      "}\\]A[3^A.)\n",
      "3=9.@`[AA7\n",
      "16A6[}&![4\n",
      "@A$8|7[>?.\n",
      "~A>`(_*A[5\n",
      "A;,9~|*_AA\n",
      "1A{^A''0}A\n",
      "3;`2^?A5)A\n",
      "time: 9.76 ms\n"
     ]
    }
   ],
   "source": [
    "import string\n",
    "for i in range(10):\n",
    "    print( bpy.random_str( mix=string.digits + string.punctuation + 'AAAAAAAAAAA'   ) )"
   ]
  },
  {
   "cell_type": "code",
   "execution_count": 17,
   "metadata": {
    "execution": {
     "iopub.execute_input": "2023-02-11T23:01:27.397842Z",
     "iopub.status.busy": "2023-02-11T23:01:27.396844Z",
     "iopub.status.idle": "2023-02-11T23:01:27.412354Z",
     "shell.execute_reply": "2023-02-11T23:01:27.411809Z"
    }
   },
   "outputs": [
    {
     "data": {
      "text/plain": [
       "['A.AAAAAA.A',\n",
       " 'AAAAAAAAAA',\n",
       " 'A.AAAAAAAA',\n",
       " 'A.AAAAAAAA',\n",
       " 'AAAAAAAAAA',\n",
       " 'AAAAAAAAAA',\n",
       " 'AAAAAAAAAA',\n",
       " 'AAAAAAAAAA',\n",
       " 'AAAAAAAAAA',\n",
       " '.A.AA.AAAA']"
      ]
     },
     "execution_count": 17,
     "metadata": {},
     "output_type": "execute_result"
    },
    {
     "name": "stdout",
     "output_type": "stream",
     "text": [
      "time: 10.9 ms\n"
     ]
    }
   ],
   "source": [
    "[ bpy.random_str(mix= 'AAAAAAAAAAA.') for i in range(10) ]"
   ]
  }
 ],
 "metadata": {
  "kernelspec": {
   "display_name": "Python 3 (ipykernel)",
   "language": "python",
   "name": "python3"
  },
  "language_info": {
   "codemirror_mode": {
    "name": "ipython",
    "version": 3
   },
   "file_extension": ".py",
   "mimetype": "text/x-python",
   "name": "python",
   "nbconvert_exporter": "python",
   "pygments_lexer": "ipython3",
   "version": "3.9.13"
  }
 },
 "nbformat": 4,
 "nbformat_minor": 4
}
