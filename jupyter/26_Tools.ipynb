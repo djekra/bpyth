{
 "cells": [
  {
   "cell_type": "markdown",
   "id": "e9d5d091-3dc8-4e35-9ef2-baaa453cb04f",
   "metadata": {},
   "source": [
    "__[Open and try this file online (Colab)](https://colab.research.google.com/github/djekra/bpyth/blob/master/jupyter/26_Tools.ipynb)__"
   ]
  },
  {
   "cell_type": "markdown",
   "id": "7c53ad65-38ec-42df-8bef-66f1d68aa3e6",
   "metadata": {
    "tags": []
   },
   "source": [
    "# bpyth Tools\n",
    "* `gfdg`     : dsfdsf\n"
   ]
  },
  {
   "cell_type": "code",
   "execution_count": 1,
   "id": "bf85ca2a-d57c-420e-8b7c-e5129f60333e",
   "metadata": {
    "execution": {
     "iopub.execute_input": "2025-03-12T20:27:05.711746Z",
     "iopub.status.busy": "2025-03-12T20:27:05.711121Z",
     "iopub.status.idle": "2025-03-12T20:27:07.518586Z",
     "shell.execute_reply": "2025-03-12T20:27:07.517515Z",
     "shell.execute_reply.started": "2025-03-12T20:27:05.711707Z"
    }
   },
   "outputs": [
    {
     "name": "stdout",
     "output_type": "stream",
     "text": [
      "blab init\n",
      "environment['in_colab']     = False\n",
      "environment['dropbox_path'] = /media/me/LinuxDropbox/Dropbox\n",
      "environment['lib_path']     = /media/me/LinuxDropbox/Dropbox/31_Projekte/01_Python/libs\n",
      "Start Time: 21:27:06\n"
     ]
    },
    {
     "data": {
      "text/html": [
       "<img src onerror=\"var cell = this.closest('.jp-CodeCell');var editor = cell.querySelector('.jp-Editor');editor.style.background='Beige';this.parentNode.removeChild(this)\">"
      ],
      "text/plain": [
       "<IPython.core.display.HTML object>"
      ]
     },
     "metadata": {},
     "output_type": "display_data"
    }
   ],
   "source": [
    "# blab init\n",
    "try:\n",
    "    import blab\n",
    "except ImportError as e:\n",
    "    !pip install blab\n",
    "    import blab    \n",
    "startup_notebook = blab.blab_startup()\n",
    "%run $startup_notebook "
   ]
  },
  {
   "cell_type": "code",
   "execution_count": 2,
   "id": "822d811e-a1ac-483b-9759-94c9c7c7ed01",
   "metadata": {
    "execution": {
     "iopub.execute_input": "2025-03-12T20:27:07.521109Z",
     "iopub.status.busy": "2025-03-12T20:27:07.520176Z",
     "iopub.status.idle": "2025-03-12T20:27:07.543806Z",
     "shell.execute_reply": "2025-03-12T20:27:07.542820Z",
     "shell.execute_reply.started": "2025-03-12T20:27:07.521071Z"
    }
   },
   "outputs": [],
   "source": [
    "import bpyth as bpy"
   ]
  },
  {
   "cell_type": "markdown",
   "id": "57ef4ffe-a3d1-4bb7-a335-b1dec6fd375d",
   "metadata": {},
   "source": [
    "## @bpy.runstat"
   ]
  },
  {
   "cell_type": "code",
   "execution_count": 3,
   "id": "9c0ba767-ffd4-40c9-92cd-d3f727c3821c",
   "metadata": {
    "execution": {
     "iopub.execute_input": "2025-03-12T20:27:07.544952Z",
     "iopub.status.busy": "2025-03-12T20:27:07.544640Z",
     "iopub.status.idle": "2025-03-12T20:27:07.570641Z",
     "shell.execute_reply": "2025-03-12T20:27:07.570016Z",
     "shell.execute_reply.started": "2025-03-12T20:27:07.544917Z"
    }
   },
   "outputs": [],
   "source": [
    "#print_with_stat = bpy.runstat(print)\n",
    "#print_with_stat(\"Hello world\") # usable like print"
   ]
  },
  {
   "cell_type": "code",
   "execution_count": 12,
   "id": "a81c117c-f929-419f-856d-1fcd14462658",
   "metadata": {
    "execution": {
     "iopub.execute_input": "2025-03-12T20:28:43.747248Z",
     "iopub.status.busy": "2025-03-12T20:28:43.746778Z",
     "iopub.status.idle": "2025-03-12T20:28:43.760433Z",
     "shell.execute_reply": "2025-03-12T20:28:43.759754Z",
     "shell.execute_reply.started": "2025-03-12T20:28:43.747226Z"
    }
   },
   "outputs": [],
   "source": [
    "# Eine Funktion, die wir mit runstat überwachen wollen\n",
    "\n",
    "import time\n",
    "\n",
    "@bpy.runstat\n",
    "def my_function(name):\n",
    "    \"\"\"\n",
    "    This function simulates a task that requires some time.\n",
    "    \"\"\"\n",
    "    print(f\"Hello, {name}! Starting my_function...\")\n",
    "    time.sleep(0.15)  \n",
    "    print(f\"Hello, {name}! Finishing my_function...\")"
   ]
  },
  {
   "cell_type": "code",
   "execution_count": 13,
   "id": "1af9471b-7012-45ea-b824-2d25e6affeca",
   "metadata": {
    "execution": {
     "iopub.execute_input": "2025-03-12T20:28:43.761790Z",
     "iopub.status.busy": "2025-03-12T20:28:43.761469Z",
     "iopub.status.idle": "2025-03-12T20:28:43.938991Z",
     "shell.execute_reply": "2025-03-12T20:28:43.938386Z",
     "shell.execute_reply.started": "2025-03-12T20:28:43.761755Z"
    }
   },
   "outputs": [
    {
     "name": "stdout",
     "output_type": "stream",
     "text": [
      "Hello, Anna! Starting my_function...\n",
      "Hello, Anna! Finishing my_function...\n",
      "Function called 1 times.\n",
      "Benchmark time: 0.2 secs\n"
     ]
    }
   ],
   "source": [
    "result1 = my_function(\"Anna\")\n",
    "print(f\"Function called {my_function.count} times.\")\n",
    "print(f\"Benchmark time: {my_function.time_since_last_call()}\")"
   ]
  },
  {
   "cell_type": "code",
   "execution_count": 14,
   "id": "5f013af0-8a6e-4505-9aad-c62c7da3bb2a",
   "metadata": {
    "execution": {
     "iopub.execute_input": "2025-03-12T20:28:43.939965Z",
     "iopub.status.busy": "2025-03-12T20:28:43.939755Z",
     "iopub.status.idle": "2025-03-12T20:28:46.961817Z",
     "shell.execute_reply": "2025-03-12T20:28:46.959823Z",
     "shell.execute_reply.started": "2025-03-12T20:28:43.939948Z"
    }
   },
   "outputs": [
    {
     "name": "stdout",
     "output_type": "stream",
     "text": [
      "Function called 1 times.\n",
      "Time since last call: 3.2 secs\n"
     ]
    }
   ],
   "source": [
    "time.sleep(3)  \n",
    "print(f\"Function called {my_function.count} times.\")\n",
    "print(f\"Time since last call: {my_function.time_since_last_call()}\")"
   ]
  },
  {
   "cell_type": "code",
   "execution_count": 15,
   "id": "d5b2df66-f374-4a63-8929-16f26923144c",
   "metadata": {
    "execution": {
     "iopub.execute_input": "2025-03-12T20:28:46.967207Z",
     "iopub.status.busy": "2025-03-12T20:28:46.966465Z",
     "iopub.status.idle": "2025-03-12T20:28:47.142075Z",
     "shell.execute_reply": "2025-03-12T20:28:47.140654Z",
     "shell.execute_reply.started": "2025-03-12T20:28:46.967140Z"
    }
   },
   "outputs": [
    {
     "name": "stdout",
     "output_type": "stream",
     "text": [
      "Hello, Alice! Starting my_function...\n",
      "Hello, Alice! Finishing my_function...\n",
      "Function called 2 times.\n",
      "Time since last call: 0.2 secs\n"
     ]
    }
   ],
   "source": [
    "result1 = my_function(\"Alice\")\n",
    "print(f\"Function called {my_function.count} times.\")\n",
    "print(f\"Time since last call: {my_function.time_since_last_call()}\")"
   ]
  },
  {
   "cell_type": "code",
   "execution_count": 17,
   "id": "c672acfe-3e86-4cfb-b83a-6bfbcdc911ac",
   "metadata": {
    "execution": {
     "iopub.execute_input": "2025-03-12T20:29:54.006495Z",
     "iopub.status.busy": "2025-03-12T20:29:54.005920Z",
     "iopub.status.idle": "2025-03-12T20:29:54.044531Z",
     "shell.execute_reply": "2025-03-12T20:29:54.043075Z",
     "shell.execute_reply.started": "2025-03-12T20:29:54.006445Z"
    }
   },
   "outputs": [
    {
     "name": "stdout",
     "output_type": "stream",
     "text": [
      "Time since last call: 1 min, 7 secs\n"
     ]
    }
   ],
   "source": [
    "print(f\"Time since last call: {my_function.time_since_last_call()}\")"
   ]
  }
 ],
 "metadata": {
  "kernelspec": {
   "display_name": "Python 3 (ipykernel)",
   "language": "python",
   "name": "python3"
  },
  "language_info": {
   "codemirror_mode": {
    "name": "ipython",
    "version": 3
   },
   "file_extension": ".py",
   "mimetype": "text/x-python",
   "name": "python",
   "nbconvert_exporter": "python",
   "pygments_lexer": "ipython3",
   "version": "3.12.9"
  }
 },
 "nbformat": 4,
 "nbformat_minor": 5
}
