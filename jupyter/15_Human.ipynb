{
 "cells": [
  {
   "cell_type": "markdown",
   "id": "20bc8d5b-e2e0-4d60-9367-289dc527762e",
   "metadata": {},
   "source": [
    "__[Open and try this file online (Colab)](https://github.com/djekra/bpyth/blob/master/jupyter/15_Human.ipynb)__"
   ]
  },
  {
   "cell_type": "markdown",
   "id": "ade6e0ce-ab8d-4cd7-8ad6-c9f2f8f80411",
   "metadata": {},
   "source": [
    "# bpyth Human Tools\n",
    "* `human_readable_number`: Rounds a number to a fixed number of significant digits.\n",
    "* `human_readable_seconds`: Converts seconds to human readable time\n",
    "* `human_readable_bytes`:   Converts Bytes to human readable size"
   ]
  },
  {
   "cell_type": "code",
   "execution_count": 1,
   "id": "28383554-ed4c-4a7c-bd1f-adfb4a44db11",
   "metadata": {},
   "outputs": [],
   "source": [
    "# blab init\n",
    "try:\n",
    "    import blab\n",
    "except ImportError as e:\n",
    "    !pip install blab\n",
    "    import blab    \n",
    "startup_notebook = blab.blab_startup()\n",
    "%run $startup_notebook "
   ]
  },
  {
   "cell_type": "code",
   "execution_count": 2,
   "id": "d8655d4e-a5ad-4103-82e5-cc5c1856ad59",
   "metadata": {},
   "outputs": [],
   "source": [
    "# bpy init\n",
    "try:\n",
    "    import bpyth as bpy\n",
    "except ImportError as e:\n",
    "    !pip install bpyth\n",
    "    import bpyth as bpy"
   ]
  },
  {
   "cell_type": "markdown",
   "id": "0e59c756-8307-430c-8953-280fbb3e111a",
   "metadata": {},
   "source": [
    "## human_readable_number"
   ]
  },
  {
   "cell_type": "code",
   "execution_count": 3,
   "id": "de18abcd-bf2b-4536-b4b0-d4d460227839",
   "metadata": {},
   "outputs": [
    {
     "data": {
      "text/plain": [
       "\u001b[0;31mSignature:\u001b[0m \u001b[0mbpy\u001b[0m\u001b[0;34m.\u001b[0m\u001b[0mhuman_readable_number\u001b[0m\u001b[0;34m(\u001b[0m\u001b[0mx\u001b[0m\u001b[0;34m,\u001b[0m \u001b[0mdigits\u001b[0m\u001b[0;34m=\u001b[0m\u001b[0;36m3\u001b[0m\u001b[0;34m)\u001b[0m\u001b[0;34m\u001b[0m\u001b[0;34m\u001b[0m\u001b[0m\n",
       "\u001b[0;31mDocstring:\u001b[0m\n",
       "Rounds a number to a fixed number of significant digits.\n",
       "see https://stackoverflow.com/questions/3410976/how-to-round-a-number-to-significant-figures-in-python for discussion\n",
       "\u001b[0;31mFile:\u001b[0m      ~/mambaforge/envs/plain_01/lib/python3.9/site-packages/bpyth/bpyth_human.py\n",
       "\u001b[0;31mType:\u001b[0m      function\n"
      ]
     },
     "metadata": {},
     "output_type": "display_data"
    }
   ],
   "source": [
    "?bpy.human_readable_number"
   ]
  },
  {
   "cell_type": "code",
   "execution_count": 4,
   "id": "b1347a68-8a5b-4452-87aa-95ee480f8044",
   "metadata": {},
   "outputs": [
    {
     "data": {
      "text/plain": [
       "0.00075"
      ]
     },
     "execution_count": 4,
     "metadata": {},
     "output_type": "execute_result"
    }
   ],
   "source": [
    "bpy.human_readable_number(0.0007511646546, 2)"
   ]
  },
  {
   "cell_type": "code",
   "execution_count": 5,
   "id": "b93898c7-e990-47d7-9e90-86fd54200bb2",
   "metadata": {},
   "outputs": [
    {
     "data": {
      "text/plain": [
       "76000000000"
      ]
     },
     "execution_count": 5,
     "metadata": {},
     "output_type": "execute_result"
    }
   ],
   "source": [
    "bpy.human_readable_number(75511646546, 2)"
   ]
  },
  {
   "cell_type": "markdown",
   "id": "fa76c330-86b6-431a-9d0c-dcc2e8f70698",
   "metadata": {},
   "source": [
    "## human_readable_seconds"
   ]
  },
  {
   "cell_type": "code",
   "execution_count": 6,
   "id": "cc7211c8-013c-4b5b-b9c4-b26f8ccc4467",
   "metadata": {
    "tags": []
   },
   "outputs": [
    {
     "data": {
      "text/plain": [
       "\u001b[0;31mSignature:\u001b[0m \u001b[0mbpy\u001b[0m\u001b[0;34m.\u001b[0m\u001b[0mhuman_readable_seconds\u001b[0m\u001b[0;34m(\u001b[0m\u001b[0mseconds\u001b[0m\u001b[0;34m)\u001b[0m\u001b[0;34m\u001b[0m\u001b[0;34m\u001b[0m\u001b[0m\n",
       "\u001b[0;31mDocstring:\u001b[0m Converts seconds to human readable time\n",
       "\u001b[0;31mFile:\u001b[0m      ~/mambaforge/envs/plain_01/lib/python3.9/site-packages/bpyth/bpyth_human.py\n",
       "\u001b[0;31mType:\u001b[0m      function\n"
      ]
     },
     "metadata": {},
     "output_type": "display_data"
    }
   ],
   "source": [
    "?bpy.human_readable_seconds"
   ]
  },
  {
   "cell_type": "code",
   "execution_count": 7,
   "id": "f2ac892a-5746-453b-b335-bb45a7c2e632",
   "metadata": {},
   "outputs": [],
   "source": [
    "assert bpy.human_readable_seconds(4)       ==  '4 secs'\n",
    "assert bpy.human_readable_seconds(0.29)    ==  '0.3 secs'\n",
    "assert bpy.human_readable_seconds(61.5)    ==  '1 min, 2 secs'\n",
    "assert bpy.human_readable_seconds(1919191) ==  '3 weeks, 1 day, 5 hours, 6 mins, 31 secs'"
   ]
  },
  {
   "cell_type": "markdown",
   "id": "836694cb-655b-4d35-8471-4109438239d7",
   "metadata": {},
   "source": [
    "## human_readable_bytes"
   ]
  },
  {
   "cell_type": "code",
   "execution_count": 8,
   "id": "51ca7c0c-c2f1-4235-b42a-99ee59969bf8",
   "metadata": {
    "tags": []
   },
   "outputs": [
    {
     "data": {
      "text/plain": [
       "\u001b[0;31mSignature:\u001b[0m \u001b[0mbpy\u001b[0m\u001b[0;34m.\u001b[0m\u001b[0mhuman_readable_bytes\u001b[0m\u001b[0;34m(\u001b[0m\u001b[0mnum\u001b[0m\u001b[0;34m,\u001b[0m \u001b[0msuffix\u001b[0m\u001b[0;34m=\u001b[0m\u001b[0;34m'B'\u001b[0m\u001b[0;34m)\u001b[0m\u001b[0;34m\u001b[0m\u001b[0;34m\u001b[0m\u001b[0m\n",
       "\u001b[0;31mDocstring:\u001b[0m Converts Bytes to human readable size\n",
       "\u001b[0;31mFile:\u001b[0m      ~/mambaforge/envs/plain_01/lib/python3.9/site-packages/bpyth/bpyth_human.py\n",
       "\u001b[0;31mType:\u001b[0m      function\n"
      ]
     },
     "metadata": {},
     "output_type": "display_data"
    }
   ],
   "source": [
    "?bpy.human_readable_bytes"
   ]
  },
  {
   "cell_type": "code",
   "execution_count": 9,
   "id": "b166e6b9-bdf7-419f-80b9-c7e9f5413912",
   "metadata": {},
   "outputs": [],
   "source": [
    "assert bpy.human_readable_bytes(2049)       ==  '2.0 KB'\n",
    "assert bpy.human_readable_bytes(2.9*1024*1024*1024)  == '2.9 GB'"
   ]
  },
  {
   "cell_type": "code",
   "execution_count": null,
   "id": "fab0d12a-7eda-43da-97ce-21f093315ca3",
   "metadata": {},
   "outputs": [],
   "source": []
  }
 ],
 "metadata": {
  "kernelspec": {
   "display_name": "Python 3 (ipykernel)",
   "language": "python",
   "name": "python3"
  },
  "language_info": {
   "codemirror_mode": {
    "name": "ipython",
    "version": 3
   },
   "file_extension": ".py",
   "mimetype": "text/x-python",
   "name": "python",
   "nbconvert_exporter": "python",
   "pygments_lexer": "ipython3",
   "version": "3.9.13"
  }
 },
 "nbformat": 4,
 "nbformat_minor": 5
}
