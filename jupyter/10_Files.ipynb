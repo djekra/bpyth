{
 "cells": [
  {
   "cell_type": "markdown",
   "id": "a9d380c0-c993-4059-83b3-115a3bd65203",
   "metadata": {},
   "source": [
    "__[Open and try this file online (Colab)](https://colab.research.google.com/github/djekra/bpyth/blob/master/jupyter/10_Files.ipynb)__"
   ]
  },
  {
   "cell_type": "markdown",
   "id": "ade6e0ce-ab8d-4cd7-8ad6-c9f2f8f80411",
   "metadata": {},
   "source": [
    "# bpyth Files Tools\n",
    "* `dump_pickle`: open, dump, close\n",
    "* `load_pickle`: open, load, close\n",
    "* `StreamFiles`: Iterable, returns all filenames of a parent directory\n",
    "* `StreamLines`: Iterable, returns all lines of a text file"
   ]
  },
  {
   "cell_type": "code",
   "execution_count": 1,
   "id": "28383554-ed4c-4a7c-bd1f-adfb4a44db11",
   "metadata": {},
   "outputs": [],
   "source": [
    "# blab init\n",
    "try:\n",
    "    import blab\n",
    "except ImportError as e:\n",
    "    !pip install blab\n",
    "    import blab    \n",
    "startup_notebook = blab.blab_startup()\n",
    "%run $startup_notebook "
   ]
  },
  {
   "cell_type": "code",
   "execution_count": 2,
   "id": "d8655d4e-a5ad-4103-82e5-cc5c1856ad59",
   "metadata": {},
   "outputs": [],
   "source": [
    "import bpyth as bpy"
   ]
  },
  {
   "cell_type": "code",
   "execution_count": null,
   "id": "1d92301c-d895-44f6-8a64-7d83d673c916",
   "metadata": {},
   "outputs": [],
   "source": [
    "# download directory 'data' if neccessary\n",
    "import os\n",
    "if not os.path.exists('data'):\n",
    "   !git clone https://github.com/djekra/bpyth.git\n",
    "   !cp -r bpyth/jupyter/data data\n",
    "   !rm -r bpyth"
   ]
  },
  {
   "cell_type": "markdown",
   "id": "0e59c756-8307-430c-8953-280fbb3e111a",
   "metadata": {},
   "source": [
    "## dump_pickle and load_pickle"
   ]
  },
  {
   "cell_type": "code",
   "execution_count": 3,
   "id": "cc7211c8-013c-4b5b-b9c4-b26f8ccc4467",
   "metadata": {
    "tags": []
   },
   "outputs": [
    {
     "data": {
      "text/plain": [
       "\u001b[0;31mSignature:\u001b[0m \u001b[0mbpy\u001b[0m\u001b[0;34m.\u001b[0m\u001b[0mdump_pickle\u001b[0m\u001b[0;34m(\u001b[0m\u001b[0manything\u001b[0m\u001b[0;34m,\u001b[0m \u001b[0mfilename\u001b[0m\u001b[0;34m)\u001b[0m\u001b[0;34m\u001b[0m\u001b[0;34m\u001b[0m\u001b[0m\n",
       "\u001b[0;31mDocstring:\u001b[0m open, dump, close\n",
       "\u001b[0;31mFile:\u001b[0m      ~/mambaforge/envs/plain_01/lib/python3.9/site-packages/bpyth/bpyth_files.py\n",
       "\u001b[0;31mType:\u001b[0m      function\n"
      ]
     },
     "metadata": {},
     "output_type": "display_data"
    }
   ],
   "source": [
    "?bpy.dump_pickle"
   ]
  },
  {
   "cell_type": "code",
   "execution_count": 4,
   "id": "d802e8cc-9c1b-4173-b116-b8081a8337c4",
   "metadata": {
    "tags": []
   },
   "outputs": [
    {
     "data": {
      "text/plain": [
       "\u001b[0;31mSignature:\u001b[0m \u001b[0mbpy\u001b[0m\u001b[0;34m.\u001b[0m\u001b[0mload_pickle\u001b[0m\u001b[0;34m(\u001b[0m\u001b[0mfilename\u001b[0m\u001b[0;34m)\u001b[0m\u001b[0;34m\u001b[0m\u001b[0;34m\u001b[0m\u001b[0m\n",
       "\u001b[0;31mDocstring:\u001b[0m open, load, close\n",
       "\u001b[0;31mFile:\u001b[0m      ~/mambaforge/envs/plain_01/lib/python3.9/site-packages/bpyth/bpyth_files.py\n",
       "\u001b[0;31mType:\u001b[0m      function\n"
      ]
     },
     "metadata": {},
     "output_type": "display_data"
    }
   ],
   "source": [
    "?bpy.load_pickle"
   ]
  },
  {
   "cell_type": "code",
   "execution_count": 5,
   "id": "2714d195-83d4-4060-8507-07a2988e014e",
   "metadata": {},
   "outputs": [
    {
     "data": {
      "text/plain": [
       "[[1, 2, 'a'], [4, 5, 6], [7, (8, 9)], None]"
      ]
     },
     "execution_count": 5,
     "metadata": {},
     "output_type": "execute_result"
    }
   ],
   "source": [
    "o = [[1,2,'a'],[4,5,6], [7,(8,9,)], None ]\n",
    "o"
   ]
  },
  {
   "cell_type": "code",
   "execution_count": 6,
   "id": "992a287a-a057-461a-bfec-3e6f11d627e8",
   "metadata": {},
   "outputs": [],
   "source": [
    "bpy.dump_pickle(o,'data/test_o.pickle')"
   ]
  },
  {
   "cell_type": "code",
   "execution_count": 7,
   "id": "ade519b7-680e-49e8-93b2-f81322d03da6",
   "metadata": {},
   "outputs": [],
   "source": [
    "o2 = bpy.load_pickle('data/test_o.pickle')"
   ]
  },
  {
   "cell_type": "code",
   "execution_count": 8,
   "id": "b7a27684-04b1-4731-b444-d5be8478f87a",
   "metadata": {},
   "outputs": [],
   "source": [
    "assert o == o2"
   ]
  },
  {
   "cell_type": "markdown",
   "id": "748f4876-1dc8-4141-81c1-4d2fc1297c9e",
   "metadata": {},
   "source": [
    "## StreamFiles"
   ]
  },
  {
   "cell_type": "code",
   "execution_count": 9,
   "id": "fe75030a-6c62-4732-8df5-5e25f34ffe65",
   "metadata": {
    "tags": []
   },
   "outputs": [
    {
     "data": {
      "text/plain": [
       "\u001b[0;31mInit signature:\u001b[0m \u001b[0mbpy\u001b[0m\u001b[0;34m.\u001b[0m\u001b[0mStreamFiles\u001b[0m\u001b[0;34m(\u001b[0m\u001b[0m_path\u001b[0m\u001b[0;34m,\u001b[0m \u001b[0m_extension\u001b[0m\u001b[0;34m)\u001b[0m\u001b[0;34m\u001b[0m\u001b[0;34m\u001b[0m\u001b[0m\n",
       "\u001b[0;31mDocstring:\u001b[0m     \n",
       "Iterable, returns all filenames of a parent directory.\n",
       "Instantiation with \n",
       "* a path which is traversed recursively\n",
       "* a file extension. All other files will be igorated.    \n",
       "\u001b[0;31mFile:\u001b[0m           ~/mambaforge/envs/plain_01/lib/python3.9/site-packages/bpyth/bpyth_files.py\n",
       "\u001b[0;31mType:\u001b[0m           type\n",
       "\u001b[0;31mSubclasses:\u001b[0m     \n"
      ]
     },
     "metadata": {},
     "output_type": "display_data"
    }
   ],
   "source": [
    "?bpy.StreamFiles"
   ]
  },
  {
   "cell_type": "code",
   "execution_count": 10,
   "id": "54a2a39c-c485-4e66-991f-9116bf2f209c",
   "metadata": {},
   "outputs": [
    {
     "data": {
      "text/plain": [
       "['data/dummy.pickle', 'data/test_o.pickle']"
      ]
     },
     "execution_count": 10,
     "metadata": {},
     "output_type": "execute_result"
    }
   ],
   "source": [
    "files = bpy.StreamFiles( 'data', 'pickle')\n",
    "list(files)"
   ]
  },
  {
   "cell_type": "code",
   "execution_count": 11,
   "id": "03f476cb-0c72-4340-bc3e-067b411f64ee",
   "metadata": {},
   "outputs": [
    {
     "name": "stdout",
     "output_type": "stream",
     "text": [
      "data/dummy.pickle\n",
      "data/test_o.pickle\n"
     ]
    }
   ],
   "source": [
    "# iterate individually with iter and next\n",
    "\n",
    "i = iter(files) \n",
    "\n",
    "first_value = next( i )\n",
    "print(first_value)\n",
    "\n",
    "second_value = next( i )\n",
    "print(second_value)"
   ]
  },
  {
   "cell_type": "code",
   "execution_count": 12,
   "id": "6b8f4525-c554-4bb5-b9eb-698ddef19cc5",
   "metadata": {},
   "outputs": [
    {
     "name": "stdout",
     "output_type": "stream",
     "text": [
      "(0, 'data/dummy.pickle')\n",
      "(1, 'data/test_o.pickle')\n"
     ]
    }
   ],
   "source": [
    "# iterate individually with enumerate and next\n",
    "\n",
    "i = enumerate(files) \n",
    "\n",
    "first_value = next( i )\n",
    "print(first_value)\n",
    "\n",
    "second_value = next( i )\n",
    "print(second_value)"
   ]
  },
  {
   "cell_type": "code",
   "execution_count": 13,
   "id": "2893e483-7984-4249-a694-758ae9143404",
   "metadata": {},
   "outputs": [
    {
     "name": "stdout",
     "output_type": "stream",
     "text": [
      "0 data/dummy.pickle\n",
      "1 data/test_o.pickle\n"
     ]
    }
   ],
   "source": [
    "# all\n",
    "for nummer, fname_full in enumerate(files): \n",
    "    print(nummer, fname_full)\n",
    "    if nummer > 5:\n",
    "            break"
   ]
  },
  {
   "cell_type": "markdown",
   "id": "c757ccb2-1cd1-4369-825e-a4ffd2b59b46",
   "metadata": {},
   "source": [
    "## StreamLines"
   ]
  },
  {
   "cell_type": "code",
   "execution_count": 14,
   "id": "84a52306-0482-42a7-ae12-d5609c13530e",
   "metadata": {
    "tags": []
   },
   "outputs": [
    {
     "data": {
      "text/plain": [
       "\u001b[0;31mInit signature:\u001b[0m \u001b[0mbpy\u001b[0m\u001b[0;34m.\u001b[0m\u001b[0mStreamLines\u001b[0m\u001b[0;34m(\u001b[0m\u001b[0m_filename\u001b[0m\u001b[0;34m)\u001b[0m\u001b[0;34m\u001b[0m\u001b[0;34m\u001b[0m\u001b[0m\n",
       "\u001b[0;31mDocstring:\u001b[0m      Iterable, returns all lines of a text file\n",
       "\u001b[0;31mFile:\u001b[0m           ~/mambaforge/envs/plain_01/lib/python3.9/site-packages/bpyth/bpyth_files.py\n",
       "\u001b[0;31mType:\u001b[0m           type\n",
       "\u001b[0;31mSubclasses:\u001b[0m     \n"
      ]
     },
     "metadata": {},
     "output_type": "display_data"
    }
   ],
   "source": [
    "?bpy.StreamLines"
   ]
  },
  {
   "cell_type": "code",
   "execution_count": 15,
   "id": "045a0a95-e80d-4313-a410-b41a7ce15ad8",
   "metadata": {},
   "outputs": [
    {
     "name": "stdout",
     "output_type": "stream",
     "text": [
      "0\tDamit Ihr indess erkennt, woher dieser ganze Irrthum gekommen ist, \n",
      "1\tund weshalb man die Lust anklagt und den Schmerz lobet, \n",
      "2\tso will ich Euch Alles eröffnen und auseinander setzen, \n",
      "3\twas jener Begründer der Wahrheit und gleichsam Baumeister des glücklichen Lebens selbst darüber gesagt hat. \n",
      "4\tNiemand, sagt er, verschmähe, oder hasse, oder fliehe die Lust als solche, \n",
      "5\tsondern weil grosse Schmerzen ihr folgen, wenn man nicht mit Vernunft ihr nachzugehen verstehe. \n",
      "6\tEbenso werde der Schmerz als solcher von Niemand geliebt, gesucht und verlangt, \n",
      "7\tsondern weil mitunter solche Zeiten eintreten,\n",
      "8\tdass man mittelst Arbeiten und Schmerzen eine grosse Lust sich zu verschaften suchen müsse. \n",
      "9\tUm hier gleich bei dem Einfachsten stehen zu bleiben, so würde Niemand von uns anstrengende körperliche Übungen vornehmen, \n",
      "10\twenn er nicht einen Vortheil davon erwartete. \n",
      "11\tWer dürfte aber wohl Den tadeln, der nach einer Lust verlangt, welcher keine Unannehmlichkeit folgt, \n",
      "12\toder der einem Schmerze ausweicht, aus dem keine Lust hervorgeht?"
     ]
    }
   ],
   "source": [
    "buch = bpy.StreamLines( 'data/lorem_ipsum.txt')\n",
    "\n",
    "for nummer, line in enumerate(buch): \n",
    "    print(nummer, line, sep='\\t',end='')\n",
    "    if nummer > 25:\n",
    "            break"
   ]
  },
  {
   "cell_type": "code",
   "execution_count": null,
   "id": "f2ac892a-5746-453b-b335-bb45a7c2e632",
   "metadata": {},
   "outputs": [],
   "source": []
  }
 ],
 "metadata": {
  "kernelspec": {
   "display_name": "Python 3 (ipykernel)",
   "language": "python",
   "name": "python3"
  },
  "language_info": {
   "codemirror_mode": {
    "name": "ipython",
    "version": 3
   },
   "file_extension": ".py",
   "mimetype": "text/x-python",
   "name": "python",
   "nbconvert_exporter": "python",
   "pygments_lexer": "ipython3",
   "version": "3.9.13"
  }
 },
 "nbformat": 4,
 "nbformat_minor": 5
}
