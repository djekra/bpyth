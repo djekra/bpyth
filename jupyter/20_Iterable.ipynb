{
 "cells": [
  {
   "cell_type": "markdown",
   "metadata": {},
   "source": [
    "# bpyth Iterable Tools\n",
    "* `flatten`: Yield all items from any nested iterable\n",
    "* `remove_dups`: Remove dups from a list whilst-preserving-order\n",
    "* `sort_by_priority_list`: Sort a list by a list or tuple of prioritized objects\n",
    "* `cut_counter`: Truncates rare values of a counter\n",
    "* `ranking_from_counter`: Converts a counter into a ranking"
   ]
  },
  {
   "cell_type": "code",
   "execution_count": 1,
   "metadata": {},
   "outputs": [
    {
     "name": "stdout",
     "output_type": "stream",
     "text": [
      "blab init\n",
      "blab found local libs at /mnt/DATA/Dropbox/31_Projekte/01_Python/libs\n",
      "Start Time: 17:47:08\n"
     ]
    },
    {
     "data": {
      "text/html": [
       "<img src onerror=\"var cell = this.closest('.jp-CodeCell');var editor = cell.querySelector('.jp-Editor');editor.style.background='Beige';this.parentNode.removeChild(this)\">"
      ],
      "text/plain": [
       "<IPython.core.display.HTML object>"
      ]
     },
     "metadata": {},
     "output_type": "display_data"
    },
    {
     "name": "stdout",
     "output_type": "stream",
     "text": [
      "time: 803 ms (started: 2022-09-13 17:47:08 +02:00)\n"
     ]
    }
   ],
   "source": [
    "# blab init\n",
    "import blab\n",
    "startup_notebook = blab.blab_startup()\n",
    "%run $startup_notebook"
   ]
  },
  {
   "cell_type": "code",
   "execution_count": 2,
   "metadata": {},
   "outputs": [
    {
     "name": "stdout",
     "output_type": "stream",
     "text": [
      "time: 9.68 ms (started: 2022-09-13 17:47:09 +02:00)\n"
     ]
    }
   ],
   "source": [
    "import bpyth as bpy"
   ]
  },
  {
   "cell_type": "markdown",
   "metadata": {},
   "source": [
    "## flatten"
   ]
  },
  {
   "cell_type": "code",
   "execution_count": 3,
   "metadata": {
    "tags": []
   },
   "outputs": [
    {
     "name": "stdout",
     "output_type": "stream",
     "text": [
      "time: 109 ms (started: 2022-09-13 17:47:09 +02:00)\n"
     ]
    },
    {
     "data": {
      "text/plain": [
       "\u001b[0;31mSignature:\u001b[0m \u001b[0mbpy\u001b[0m\u001b[0;34m.\u001b[0m\u001b[0mflatten\u001b[0m\u001b[0;34m(\u001b[0m\u001b[0mitems\u001b[0m\u001b[0;34m)\u001b[0m\u001b[0;34m\u001b[0m\u001b[0;34m\u001b[0m\u001b[0m\n",
       "\u001b[0;31mDocstring:\u001b[0m Yield all items from any nested iterable\n",
       "\u001b[0;31mFile:\u001b[0m      ~/anaconda3/envs/bjpython/lib/python3.8/site-packages/bpyth/bpyth_iterable.py\n",
       "\u001b[0;31mType:\u001b[0m      function\n"
      ]
     },
     "metadata": {},
     "output_type": "display_data"
    }
   ],
   "source": [
    "?bpy.flatten"
   ]
  },
  {
   "cell_type": "code",
   "execution_count": 4,
   "metadata": {},
   "outputs": [
    {
     "data": {
      "text/plain": [
       "[[1, 2, 3], [4, 5, 6], [7, (8, 9)], None]"
      ]
     },
     "execution_count": 4,
     "metadata": {},
     "output_type": "execute_result"
    },
    {
     "name": "stdout",
     "output_type": "stream",
     "text": [
      "time: 51.4 ms (started: 2022-09-13 17:47:09 +02:00)\n"
     ]
    }
   ],
   "source": [
    "list2d = [[1,2,3],[4,5,6], [7,(8,9,)], None ]\n",
    "list2d"
   ]
  },
  {
   "cell_type": "code",
   "execution_count": 5,
   "metadata": {},
   "outputs": [
    {
     "data": {
      "text/plain": [
       "[1, 2, 3, 4, 5, 6, 7, 8, 9, None]"
      ]
     },
     "execution_count": 5,
     "metadata": {},
     "output_type": "execute_result"
    },
    {
     "name": "stdout",
     "output_type": "stream",
     "text": [
      "time: 60.6 ms (started: 2022-09-13 17:47:09 +02:00)\n"
     ]
    }
   ],
   "source": [
    "list(bpy.flatten(list2d))"
   ]
  },
  {
   "cell_type": "code",
   "execution_count": 6,
   "metadata": {},
   "outputs": [
    {
     "data": {
      "text/plain": [
       "<generator object flatten at 0x7f3954665200>"
      ]
     },
     "execution_count": 6,
     "metadata": {},
     "output_type": "execute_result"
    },
    {
     "name": "stdout",
     "output_type": "stream",
     "text": [
      "time: 53.4 ms (started: 2022-09-13 17:47:09 +02:00)\n"
     ]
    }
   ],
   "source": [
    "bpy.flatten(list2d)"
   ]
  },
  {
   "cell_type": "markdown",
   "metadata": {},
   "source": [
    "## remove_dups"
   ]
  },
  {
   "cell_type": "code",
   "execution_count": 7,
   "metadata": {},
   "outputs": [
    {
     "name": "stdout",
     "output_type": "stream",
     "text": [
      "time: 40 ms (started: 2022-09-13 17:47:09 +02:00)\n"
     ]
    },
    {
     "data": {
      "text/plain": [
       "\u001b[0;31mSignature:\u001b[0m \u001b[0mbpy\u001b[0m\u001b[0;34m.\u001b[0m\u001b[0mremove_dups\u001b[0m\u001b[0;34m(\u001b[0m\u001b[0mseq\u001b[0m\u001b[0;34m)\u001b[0m\u001b[0;34m\u001b[0m\u001b[0;34m\u001b[0m\u001b[0m\n",
       "\u001b[0;31mDocstring:\u001b[0m Remove dups from a list whilst-preserving-order\n",
       "\u001b[0;31mFile:\u001b[0m      ~/anaconda3/envs/bjpython/lib/python3.8/site-packages/bpyth/bpyth_iterable.py\n",
       "\u001b[0;31mType:\u001b[0m      function\n"
      ]
     },
     "metadata": {},
     "output_type": "display_data"
    }
   ],
   "source": [
    "?bpy.remove_dups"
   ]
  },
  {
   "cell_type": "code",
   "execution_count": 8,
   "metadata": {},
   "outputs": [
    {
     "data": {
      "text/plain": [
       "['a', 'q', 3, (1, 2)]"
      ]
     },
     "execution_count": 8,
     "metadata": {},
     "output_type": "execute_result"
    },
    {
     "name": "stdout",
     "output_type": "stream",
     "text": [
      "time: 54.5 ms (started: 2022-09-13 17:47:09 +02:00)\n"
     ]
    }
   ],
   "source": [
    "list_with_dups = ['a','q', 3, 3, 'q', (1,2), 'a', (1,2)]\n",
    "bpy.remove_dups(list_with_dups)"
   ]
  },
  {
   "cell_type": "markdown",
   "metadata": {},
   "source": [
    "## sort_by_priority_list"
   ]
  },
  {
   "cell_type": "code",
   "execution_count": 9,
   "metadata": {},
   "outputs": [
    {
     "name": "stdout",
     "output_type": "stream",
     "text": [
      "time: 89 ms (started: 2022-09-13 17:47:09 +02:00)\n"
     ]
    },
    {
     "data": {
      "text/plain": [
       "\u001b[0;31mSignature:\u001b[0m \u001b[0mbpy\u001b[0m\u001b[0;34m.\u001b[0m\u001b[0msort_by_priority_list\u001b[0m\u001b[0;34m(\u001b[0m\u001b[0msortme_list\u001b[0m\u001b[0;34m,\u001b[0m \u001b[0mpriority\u001b[0m\u001b[0;34m)\u001b[0m\u001b[0;34m\u001b[0m\u001b[0;34m\u001b[0m\u001b[0m\n",
       "\u001b[0;31mDocstring:\u001b[0m\n",
       "Sort a list by a list or tuple of prioritized objects.\n",
       "(You can prepare the priority object with make_priority_dict,\n",
       "if you want to use always the same priorities in pandas)    \n",
       "\u001b[0;31mFile:\u001b[0m      ~/anaconda3/envs/bjpython/lib/python3.8/site-packages/bpyth/bpyth_iterable.py\n",
       "\u001b[0;31mType:\u001b[0m      function\n"
      ]
     },
     "metadata": {},
     "output_type": "display_data"
    }
   ],
   "source": [
    "?bpy.sort_by_priority_list"
   ]
  },
  {
   "cell_type": "code",
   "execution_count": 10,
   "metadata": {},
   "outputs": [
    {
     "data": {
      "text/plain": [
       "'uoooiieea Lrm psm dlr st mt'"
      ]
     },
     "execution_count": 10,
     "metadata": {},
     "output_type": "execute_result"
    },
    {
     "name": "stdout",
     "output_type": "stream",
     "text": [
      "time: 58.5 ms (started: 2022-09-13 17:47:09 +02:00)\n"
     ]
    }
   ],
   "source": [
    "my_priorities = list('uoiea')\n",
    "list_to_sort  = list(' Lorem ipsum dolor sit amet')\n",
    "result = bpy.sort_by_priority_list( list_to_sort, my_priorities )\n",
    "''.join(result)"
   ]
  },
  {
   "cell_type": "markdown",
   "metadata": {},
   "source": [
    "## cut_counter"
   ]
  },
  {
   "cell_type": "code",
   "execution_count": 11,
   "metadata": {},
   "outputs": [
    {
     "name": "stdout",
     "output_type": "stream",
     "text": [
      "time: 47.2 ms (started: 2022-09-13 17:47:09 +02:00)\n"
     ]
    },
    {
     "data": {
      "text/plain": [
       "\u001b[0;31mSignature:\u001b[0m \u001b[0mbpy\u001b[0m\u001b[0;34m.\u001b[0m\u001b[0mcut_counter\u001b[0m\u001b[0;34m(\u001b[0m\u001b[0mcounts\u001b[0m\u001b[0;34m,\u001b[0m \u001b[0mcut_percent\u001b[0m\u001b[0;34m)\u001b[0m\u001b[0;34m\u001b[0m\u001b[0;34m\u001b[0m\u001b[0m\n",
       "\u001b[0;31mDocstring:\u001b[0m Truncates rare values of a counter, given a percent value 0..100\n",
       "\u001b[0;31mFile:\u001b[0m      ~/anaconda3/envs/bjpython/lib/python3.8/site-packages/bpyth/bpyth_iterable.py\n",
       "\u001b[0;31mType:\u001b[0m      function\n"
      ]
     },
     "metadata": {},
     "output_type": "display_data"
    }
   ],
   "source": [
    "?bpy.cut_counter"
   ]
  },
  {
   "cell_type": "code",
   "execution_count": 12,
   "metadata": {},
   "outputs": [
    {
     "data": {
      "text/plain": [
       "Counter({'L': 1,\n",
       "         'o': 17,\n",
       "         'r': 12,\n",
       "         'e': 21,\n",
       "         'm': 12,\n",
       "         ' ': 35,\n",
       "         'i': 11,\n",
       "         'p': 4,\n",
       "         's': 11,\n",
       "         'u': 12,\n",
       "         'd': 11,\n",
       "         'l': 7,\n",
       "         't': 16,\n",
       "         'a': 14,\n",
       "         ',': 3,\n",
       "         'c': 4,\n",
       "         'n': 7,\n",
       "         'g': 2,\n",
       "         'y': 2,\n",
       "         'v': 3,\n",
       "         'b': 2,\n",
       "         'q': 1,\n",
       "         '.': 2,\n",
       "         'A': 1,\n",
       "         'j': 1})"
      ]
     },
     "execution_count": 12,
     "metadata": {},
     "output_type": "execute_result"
    },
    {
     "name": "stdout",
     "output_type": "stream",
     "text": [
      "time: 64.5 ms (started: 2022-09-13 17:47:09 +02:00)\n"
     ]
    }
   ],
   "source": [
    "from collections import Counter\n",
    "c = Counter('Lorem ipsum dolor sit amet, consetetur sadipscing elitr, sed diam nonumy eirmod tempor invidunt ut labore et dolore magna aliquyam erat, sed diam voluptua. At vero eos et accusam et justo duo dolores et ea rebum.')\n",
    "c"
   ]
  },
  {
   "cell_type": "code",
   "execution_count": 13,
   "metadata": {},
   "outputs": [
    {
     "data": {
      "text/plain": [
       "Counter({'o': 17,\n",
       "         'r': 12,\n",
       "         'e': 21,\n",
       "         'm': 12,\n",
       "         ' ': 35,\n",
       "         'i': 11,\n",
       "         'p': 4,\n",
       "         's': 11,\n",
       "         'u': 12,\n",
       "         'd': 11,\n",
       "         'l': 7,\n",
       "         't': 16,\n",
       "         'a': 14,\n",
       "         ',': 3,\n",
       "         'c': 4,\n",
       "         'n': 7,\n",
       "         'v': 3})"
      ]
     },
     "execution_count": 13,
     "metadata": {},
     "output_type": "execute_result"
    },
    {
     "name": "stdout",
     "output_type": "stream",
     "text": [
      "time: 86.5 ms (started: 2022-09-13 17:47:09 +02:00)\n"
     ]
    }
   ],
   "source": [
    "bpy.cut_counter(c, 1)"
   ]
  },
  {
   "cell_type": "markdown",
   "metadata": {},
   "source": [
    "## ranking_from_counter"
   ]
  },
  {
   "cell_type": "code",
   "execution_count": 14,
   "metadata": {},
   "outputs": [
    {
     "name": "stdout",
     "output_type": "stream",
     "text": [
      "time: 66.9 ms (started: 2022-09-13 17:47:09 +02:00)\n"
     ]
    },
    {
     "data": {
      "text/plain": [
       "\u001b[0;31mSignature:\u001b[0m \u001b[0mbpy\u001b[0m\u001b[0;34m.\u001b[0m\u001b[0mranking_from_counter\u001b[0m\u001b[0;34m(\u001b[0m\u001b[0mcounts\u001b[0m\u001b[0;34m)\u001b[0m\u001b[0;34m\u001b[0m\u001b[0;34m\u001b[0m\u001b[0m\n",
       "\u001b[0;31mDocstring:\u001b[0m\n",
       "Converts a counter into a ranking.\n",
       "Returns a sorted dict.\n",
       "\u001b[0;31mFile:\u001b[0m      ~/anaconda3/envs/bjpython/lib/python3.8/site-packages/bpyth/bpyth_iterable.py\n",
       "\u001b[0;31mType:\u001b[0m      function\n"
      ]
     },
     "metadata": {},
     "output_type": "display_data"
    }
   ],
   "source": [
    "?bpy.ranking_from_counter"
   ]
  },
  {
   "cell_type": "code",
   "execution_count": 15,
   "metadata": {},
   "outputs": [
    {
     "data": {
      "text/plain": [
       "{' ': 0,\n",
       " 'e': 1,\n",
       " 'o': 2,\n",
       " 't': 3,\n",
       " 'a': 4,\n",
       " 'r': 5,\n",
       " 'm': 6,\n",
       " 'u': 7,\n",
       " 'i': 8,\n",
       " 's': 9,\n",
       " 'd': 10,\n",
       " 'l': 11,\n",
       " 'n': 12,\n",
       " 'p': 13,\n",
       " 'c': 14,\n",
       " ',': 15,\n",
       " 'v': 16,\n",
       " 'g': 17,\n",
       " 'y': 18,\n",
       " 'b': 19,\n",
       " '.': 20,\n",
       " 'L': 21,\n",
       " 'q': 22,\n",
       " 'A': 23,\n",
       " 'j': 24}"
      ]
     },
     "execution_count": 15,
     "metadata": {},
     "output_type": "execute_result"
    },
    {
     "name": "stdout",
     "output_type": "stream",
     "text": [
      "time: 59.8 ms (started: 2022-09-13 17:47:09 +02:00)\n"
     ]
    }
   ],
   "source": [
    "from collections import Counter\n",
    "c = Counter('Lorem ipsum dolor sit amet, consetetur sadipscing elitr, sed diam nonumy eirmod tempor invidunt ut labore et dolore magna aliquyam erat, sed diam voluptua. At vero eos et accusam et justo duo dolores et ea rebum.')\n",
    "bpy.ranking_from_counter(c)"
   ]
  },
  {
   "cell_type": "code",
   "execution_count": null,
   "metadata": {},
   "outputs": [],
   "source": []
  }
 ],
 "metadata": {
  "kernelspec": {
   "display_name": "Python 3 (ipykernel)",
   "language": "python",
   "name": "python3"
  },
  "language_info": {
   "codemirror_mode": {
    "name": "ipython",
    "version": 3
   },
   "file_extension": ".py",
   "mimetype": "text/x-python",
   "name": "python",
   "nbconvert_exporter": "python",
   "pygments_lexer": "ipython3",
   "version": "3.8.12"
  }
 },
 "nbformat": 4,
 "nbformat_minor": 4
}
