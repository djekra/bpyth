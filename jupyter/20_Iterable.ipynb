{
 "cells": [
  {
   "cell_type": "markdown",
   "metadata": {},
   "source": [
    "__[Open and try this file online (Colab)](https://colab.research.google.com/github/djekra/bpyth/blob/master/jupyter/20_Iterable.ipynb)__"
   ]
  },
  {
   "cell_type": "markdown",
   "metadata": {},
   "source": [
    "# bpyth Iterable Tools\n",
    "* `minivenn`: Compare two sets\n",
    "* `flatten`: Yield all items from any nested iterable\n",
    "* `remove_dups`: Remove dups from a list whilst-preserving-order\n",
    "* `sort_by_priority_list`: Sort a list by a list or tuple of prioritized objects\n",
    "* `cut_counter`: Truncates rare values of a counter\n",
    "* `ranking_from_counter`: Converts a counter into a ranking"
   ]
  },
  {
   "cell_type": "code",
   "execution_count": 2,
   "metadata": {
    "execution": {
     "iopub.execute_input": "2025-03-12T08:30:59.913050Z",
     "iopub.status.busy": "2025-03-12T08:30:59.912083Z",
     "iopub.status.idle": "2025-03-12T08:31:00.726275Z",
     "shell.execute_reply": "2025-03-12T08:31:00.725729Z",
     "shell.execute_reply.started": "2025-03-12T08:30:59.912960Z"
    }
   },
   "outputs": [
    {
     "name": "stdout",
     "output_type": "stream",
     "text": [
      "blab init\n",
      "environment['in_colab']     = False\n",
      "environment['dropbox_path'] = /media/me/LinuxDropbox/Dropbox\n",
      "environment['lib_path']     = /media/me/LinuxDropbox/Dropbox/31_Projekte/01_Python/libs\n",
      "Start Time: 09:31:00\n"
     ]
    },
    {
     "data": {
      "text/html": [
       "<img src onerror=\"var cell = this.closest('.jp-CodeCell');var editor = cell.querySelector('.jp-Editor');editor.style.background='Beige';this.parentNode.removeChild(this)\">"
      ],
      "text/plain": [
       "<IPython.core.display.HTML object>"
      ]
     },
     "metadata": {},
     "output_type": "display_data"
    }
   ],
   "source": [
    "# blab init\n",
    "try:\n",
    "    import blab\n",
    "except ImportError as e:\n",
    "    !pip install blab\n",
    "    import blab    \n",
    "startup_notebook = blab.blab_startup()\n",
    "%run $startup_notebook "
   ]
  },
  {
   "cell_type": "code",
   "execution_count": 3,
   "metadata": {
    "execution": {
     "iopub.execute_input": "2025-03-12T08:31:00.727400Z",
     "iopub.status.busy": "2025-03-12T08:31:00.727084Z",
     "iopub.status.idle": "2025-03-12T08:31:00.744588Z",
     "shell.execute_reply": "2025-03-12T08:31:00.743676Z",
     "shell.execute_reply.started": "2025-03-12T08:31:00.727380Z"
    }
   },
   "outputs": [],
   "source": [
    "import bpyth as bpy"
   ]
  },
  {
   "cell_type": "markdown",
   "metadata": {},
   "source": [
    "## minivenn"
   ]
  },
  {
   "cell_type": "code",
   "execution_count": 4,
   "metadata": {
    "execution": {
     "iopub.execute_input": "2025-03-12T08:31:00.746193Z",
     "iopub.status.busy": "2025-03-12T08:31:00.745853Z",
     "iopub.status.idle": "2025-03-12T08:31:00.814513Z",
     "shell.execute_reply": "2025-03-12T08:31:00.814024Z",
     "shell.execute_reply.started": "2025-03-12T08:31:00.746150Z"
    }
   },
   "outputs": [
    {
     "data": {
      "text/plain": [
       "\u001b[31mSignature:\u001b[39m bpy.minivenn(set0, set1, format=\u001b[33m'dict'\u001b[39m)\n",
       "\u001b[31mDocstring:\u001b[39m\n",
       "Compare two iterables like sets. Returns 3 sets like a Venndiagram.\n",
       "format='print'         Formated print of a dict with 3 keys   \n",
       "format='print2'        Formated print of a dict with 2 keys      \n",
       "format='dict':         Returns a dict with 3 keys \n",
       "format='list':         Returns a list with 3 elements\n",
       "format='count':        Returns a dict with 3 keys , the elements are only counts of the Venndiagramm.\n",
       "\u001b[31mFile:\u001b[39m      /media/me/LinuxDropbox/Dropbox/31_Projekte/01_Python/88_PyCharm/bpyth/src/bpyth/bpyth_iterable.py\n",
       "\u001b[31mType:\u001b[39m      function"
      ]
     },
     "metadata": {},
     "output_type": "display_data"
    }
   ],
   "source": [
    "?bpy.minivenn"
   ]
  },
  {
   "cell_type": "code",
   "execution_count": 5,
   "metadata": {
    "execution": {
     "iopub.execute_input": "2025-03-12T08:31:00.816325Z",
     "iopub.status.busy": "2025-03-12T08:31:00.816011Z",
     "iopub.status.idle": "2025-03-12T08:31:00.827701Z",
     "shell.execute_reply": "2025-03-12T08:31:00.827190Z",
     "shell.execute_reply.started": "2025-03-12T08:31:00.816296Z"
    }
   },
   "outputs": [],
   "source": [
    "s = list( 'ABCDE')\n",
    "t = set(   'BCDEFG')"
   ]
  },
  {
   "cell_type": "code",
   "execution_count": 6,
   "metadata": {
    "execution": {
     "iopub.execute_input": "2025-03-12T08:31:00.828801Z",
     "iopub.status.busy": "2025-03-12T08:31:00.828340Z",
     "iopub.status.idle": "2025-03-12T08:31:00.843444Z",
     "shell.execute_reply": "2025-03-12T08:31:00.842760Z",
     "shell.execute_reply.started": "2025-03-12T08:31:00.828767Z"
    },
    "tags": []
   },
   "outputs": [
    {
     "data": {
      "text/plain": [
       "{'left_only': {'A'}, 'both': {'B', 'C', 'D', 'E'}, 'right_only': {'F', 'G'}}"
      ]
     },
     "execution_count": 6,
     "metadata": {},
     "output_type": "execute_result"
    }
   ],
   "source": [
    "bpy.minivenn(s,t)"
   ]
  },
  {
   "cell_type": "code",
   "execution_count": 7,
   "metadata": {
    "execution": {
     "iopub.execute_input": "2025-03-12T08:31:00.844671Z",
     "iopub.status.busy": "2025-03-12T08:31:00.844340Z",
     "iopub.status.idle": "2025-03-12T08:31:00.860836Z",
     "shell.execute_reply": "2025-03-12T08:31:00.860119Z",
     "shell.execute_reply.started": "2025-03-12T08:31:00.844641Z"
    },
    "tags": []
   },
   "outputs": [
    {
     "data": {
      "text/plain": [
       "{'left_only': 1, 'both': 4, 'right_only': 2}"
      ]
     },
     "execution_count": 7,
     "metadata": {},
     "output_type": "execute_result"
    }
   ],
   "source": [
    "bpy.minivenn(s,t, format='count')"
   ]
  },
  {
   "cell_type": "code",
   "execution_count": 8,
   "metadata": {
    "execution": {
     "iopub.execute_input": "2025-03-12T08:31:00.861793Z",
     "iopub.status.busy": "2025-03-12T08:31:00.861472Z",
     "iopub.status.idle": "2025-03-12T08:31:00.888460Z",
     "shell.execute_reply": "2025-03-12T08:31:00.887410Z",
     "shell.execute_reply.started": "2025-03-12T08:31:00.861762Z"
    },
    "tags": []
   },
   "outputs": [
    {
     "data": {
      "text/plain": [
       "[{'A'}, {'B', 'C', 'D', 'E'}, {'F', 'G'}]"
      ]
     },
     "execution_count": 8,
     "metadata": {},
     "output_type": "execute_result"
    }
   ],
   "source": [
    "bpy.minivenn(s,t, format='list')"
   ]
  },
  {
   "cell_type": "code",
   "execution_count": 9,
   "metadata": {
    "execution": {
     "iopub.execute_input": "2025-03-12T08:31:00.890263Z",
     "iopub.status.busy": "2025-03-12T08:31:00.889956Z",
     "iopub.status.idle": "2025-03-12T08:31:00.903491Z",
     "shell.execute_reply": "2025-03-12T08:31:00.902652Z",
     "shell.execute_reply.started": "2025-03-12T08:31:00.890236Z"
    },
    "tags": []
   },
   "outputs": [
    {
     "name": "stdout",
     "output_type": "stream",
     "text": [
      "left_only:  {'A'}\n",
      "both:       {'C', 'B', 'D', 'E'}\n",
      "right_only: {'F', 'G'}\n",
      "\n"
     ]
    }
   ],
   "source": [
    "bpy.minivenn(s,t, format='print')"
   ]
  },
  {
   "cell_type": "code",
   "execution_count": 10,
   "metadata": {
    "execution": {
     "iopub.execute_input": "2025-03-12T08:31:00.904546Z",
     "iopub.status.busy": "2025-03-12T08:31:00.904266Z",
     "iopub.status.idle": "2025-03-12T08:31:00.926478Z",
     "shell.execute_reply": "2025-03-12T08:31:00.925323Z",
     "shell.execute_reply.started": "2025-03-12T08:31:00.904520Z"
    }
   },
   "outputs": [
    {
     "name": "stdout",
     "output_type": "stream",
     "text": [
      "left_only:  {}\n",
      "both:       {'B', 'E', 'D', 'A', 'C'}\n",
      "right_only: {'F', 'G'}\n",
      "\n"
     ]
    }
   ],
   "source": [
    "s = list( 'ABCDE')\n",
    "t = set(  'ABCDEFG')\n",
    "bpy.minivenn(s,t, format='print')"
   ]
  },
  {
   "cell_type": "code",
   "execution_count": 25,
   "metadata": {
    "execution": {
     "iopub.execute_input": "2025-03-12T08:33:25.203344Z",
     "iopub.status.busy": "2025-03-12T08:33:25.203049Z",
     "iopub.status.idle": "2025-03-12T08:33:25.220041Z",
     "shell.execute_reply": "2025-03-12T08:33:25.218175Z",
     "shell.execute_reply.started": "2025-03-12T08:33:25.203319Z"
    }
   },
   "outputs": [
    {
     "data": {
      "text/plain": [
       "{'left_only': {1, 2}, 'both': {3}, 'right_only': {4, 5}}"
      ]
     },
     "execution_count": 25,
     "metadata": {},
     "output_type": "execute_result"
    }
   ],
   "source": [
    "bpy.minivenn({1, 2, 3}, {3, 4, 5}) "
   ]
  },
  {
   "cell_type": "markdown",
   "metadata": {},
   "source": [
    "## flatten"
   ]
  },
  {
   "cell_type": "code",
   "execution_count": 26,
   "metadata": {
    "execution": {
     "iopub.execute_input": "2025-03-12T08:50:46.188662Z",
     "iopub.status.busy": "2025-03-12T08:50:46.187679Z",
     "iopub.status.idle": "2025-03-12T08:50:46.257352Z",
     "shell.execute_reply": "2025-03-12T08:50:46.256036Z",
     "shell.execute_reply.started": "2025-03-12T08:50:46.188548Z"
    },
    "tags": []
   },
   "outputs": [
    {
     "data": {
      "text/plain": [
       "\u001b[31mSignature:\u001b[39m bpy.flatten(items)\n",
       "\u001b[31mDocstring:\u001b[39m\n",
       "Yields all elements from a potentially nested iterable, effectively flattening the structure.\n",
       "Nested lists, tuples, and other iterables are traversed recursively, yielding their individual elements.\n",
       "Strings and bytes are treated as single elements and are not flattened further.\n",
       "\u001b[31mFile:\u001b[39m      Dynamically generated function. No source code available.\n",
       "\u001b[31mType:\u001b[39m      function"
      ]
     },
     "metadata": {},
     "output_type": "display_data"
    }
   ],
   "source": [
    "?bpy.flatten"
   ]
  },
  {
   "cell_type": "code",
   "execution_count": 12,
   "metadata": {
    "execution": {
     "iopub.execute_input": "2025-03-12T08:31:00.970919Z",
     "iopub.status.busy": "2025-03-12T08:31:00.970652Z",
     "iopub.status.idle": "2025-03-12T08:31:00.983775Z",
     "shell.execute_reply": "2025-03-12T08:31:00.983096Z",
     "shell.execute_reply.started": "2025-03-12T08:31:00.970891Z"
    }
   },
   "outputs": [
    {
     "data": {
      "text/plain": [
       "[[1, 2, 3], [4, 5, 6], [7, (8, 9)], None]"
      ]
     },
     "execution_count": 12,
     "metadata": {},
     "output_type": "execute_result"
    }
   ],
   "source": [
    "list2d = [[1,2,3],[4,5,6], [7,(8,9,)], None ]\n",
    "list2d"
   ]
  },
  {
   "cell_type": "code",
   "execution_count": 13,
   "metadata": {
    "execution": {
     "iopub.execute_input": "2025-03-12T08:31:00.985257Z",
     "iopub.status.busy": "2025-03-12T08:31:00.984485Z",
     "iopub.status.idle": "2025-03-12T08:31:01.011466Z",
     "shell.execute_reply": "2025-03-12T08:31:01.010647Z",
     "shell.execute_reply.started": "2025-03-12T08:31:00.985225Z"
    }
   },
   "outputs": [
    {
     "data": {
      "text/plain": [
       "[1, 2, 3, 4, 5, 6, 7, 8, 9, None]"
      ]
     },
     "execution_count": 13,
     "metadata": {},
     "output_type": "execute_result"
    }
   ],
   "source": [
    "list(bpy.flatten(list2d))"
   ]
  },
  {
   "cell_type": "code",
   "execution_count": 14,
   "metadata": {
    "execution": {
     "iopub.execute_input": "2025-03-12T08:31:01.012619Z",
     "iopub.status.busy": "2025-03-12T08:31:01.012281Z",
     "iopub.status.idle": "2025-03-12T08:31:01.026290Z",
     "shell.execute_reply": "2025-03-12T08:31:01.025493Z",
     "shell.execute_reply.started": "2025-03-12T08:31:01.012575Z"
    }
   },
   "outputs": [
    {
     "data": {
      "text/plain": [
       "<generator object flatten at 0x71f9046756c0>"
      ]
     },
     "execution_count": 14,
     "metadata": {},
     "output_type": "execute_result"
    }
   ],
   "source": [
    "bpy.flatten(list2d)"
   ]
  },
  {
   "cell_type": "markdown",
   "metadata": {},
   "source": [
    "## remove_dups"
   ]
  },
  {
   "cell_type": "code",
   "execution_count": 33,
   "metadata": {
    "execution": {
     "iopub.execute_input": "2025-03-12T09:07:30.787137Z",
     "iopub.status.busy": "2025-03-12T09:07:30.786066Z",
     "iopub.status.idle": "2025-03-12T09:07:30.879861Z",
     "shell.execute_reply": "2025-03-12T09:07:30.878951Z",
     "shell.execute_reply.started": "2025-03-12T09:07:30.787095Z"
    }
   },
   "outputs": [
    {
     "data": {
      "text/plain": [
       "\u001b[31mSignature:\u001b[39m bpy.remove_dups(seq)\n",
       "\u001b[31mDocstring:\u001b[39m\n",
       "Removes duplicates from a list while preserving the original order.\n",
       "\n",
       "This function considers elements of different types as distinct, even if their values are equal.\n",
       "For example, `1` (integer), `1.0` (float), and `True` (boolean) are treated as different elements.\n",
       "\n",
       "Args:\n",
       "    seq: The input list (or any iterable).\n",
       "\n",
       "Returns:\n",
       "    A new list with duplicates removed, maintaining the original order.\n",
       "\n",
       "Examples:\n",
       "    >>> remove_dups([1, 2, 2, 3, 4, 4, 4, 5])\n",
       "    [1, 2, 3, 4, 5]\n",
       "    >>> remove_dups([1, 1.0, 1.0, \"1\", \"1\", True, True, False, False, None, None, \"1\"])\n",
       "    [1, 1.0, '1', True, False, None]\n",
       "    >>> remove_dups([1, (1,2), (1,2), [1,2], [1,2], {1,2}, {1,2}])\n",
       "    [1, (1, 2), [1, 2], {1, 2}]\n",
       "\u001b[31mFile:\u001b[39m      Dynamically generated function. No source code available.\n",
       "\u001b[31mType:\u001b[39m      function"
      ]
     },
     "metadata": {},
     "output_type": "display_data"
    }
   ],
   "source": [
    "?bpy.remove_dups"
   ]
  },
  {
   "cell_type": "code",
   "execution_count": 35,
   "metadata": {
    "execution": {
     "iopub.execute_input": "2025-03-12T09:08:23.688049Z",
     "iopub.status.busy": "2025-03-12T09:08:23.687441Z",
     "iopub.status.idle": "2025-03-12T09:08:23.710552Z",
     "shell.execute_reply": "2025-03-12T09:08:23.706793Z",
     "shell.execute_reply.started": "2025-03-12T09:08:23.688017Z"
    }
   },
   "outputs": [
    {
     "data": {
      "text/plain": [
       "[1, 1.0, '1', True, False, None]"
      ]
     },
     "execution_count": 35,
     "metadata": {},
     "output_type": "execute_result"
    }
   ],
   "source": [
    "list_with_dups = [1, 1.0, 1.0, \"1\", \"1\", True, True, False, False, None, None, \"1\"]\n",
    "bpy.remove_dups(list_with_dups)"
   ]
  },
  {
   "cell_type": "code",
   "execution_count": 36,
   "metadata": {
    "execution": {
     "iopub.execute_input": "2025-03-12T09:08:24.436089Z",
     "iopub.status.busy": "2025-03-12T09:08:24.435412Z",
     "iopub.status.idle": "2025-03-12T09:08:24.473533Z",
     "shell.execute_reply": "2025-03-12T09:08:24.472523Z",
     "shell.execute_reply.started": "2025-03-12T09:08:24.436042Z"
    }
   },
   "outputs": [
    {
     "data": {
      "text/plain": [
       "['a', 'q', 3, (1, 2)]"
      ]
     },
     "execution_count": 36,
     "metadata": {},
     "output_type": "execute_result"
    }
   ],
   "source": [
    "list_with_dups = ['a','q', 3, 3, 'q', (1,2), 'a', (1,2)]\n",
    "bpy.remove_dups(list_with_dups)"
   ]
  },
  {
   "cell_type": "code",
   "execution_count": 37,
   "metadata": {
    "execution": {
     "iopub.execute_input": "2025-03-12T09:08:25.367806Z",
     "iopub.status.busy": "2025-03-12T09:08:25.366955Z",
     "iopub.status.idle": "2025-03-12T09:08:25.407944Z",
     "shell.execute_reply": "2025-03-12T09:08:25.406780Z",
     "shell.execute_reply.started": "2025-03-12T09:08:25.367744Z"
    }
   },
   "outputs": [
    {
     "data": {
      "text/plain": [
       "[1, 1.0, '1', True, False, None]"
      ]
     },
     "execution_count": 37,
     "metadata": {},
     "output_type": "execute_result"
    }
   ],
   "source": [
    "list_with_dups = [1, 1.0, 1.0, \"1\", \"1\", True, True, False, False, None, None, 1] \n",
    "bpy.remove_dups(list_with_dups)      "
   ]
  },
  {
   "cell_type": "markdown",
   "metadata": {},
   "source": [
    "## sort_by_priority_list"
   ]
  },
  {
   "cell_type": "code",
   "execution_count": 71,
   "metadata": {
    "execution": {
     "iopub.execute_input": "2025-03-12T12:23:43.932579Z",
     "iopub.status.busy": "2025-03-12T12:23:43.930472Z",
     "iopub.status.idle": "2025-03-12T12:23:44.019433Z",
     "shell.execute_reply": "2025-03-12T12:23:44.018640Z",
     "shell.execute_reply.started": "2025-03-12T12:23:43.932492Z"
    }
   },
   "outputs": [
    {
     "data": {
      "text/plain": [
       "\u001b[31mSignature:\u001b[39m bpy.sort_by_priority_list(sortme_list, priority, default_value=inf)\n",
       "\u001b[31mDocstring:\u001b[39m\n",
       "Sort a list by a list or tuple of prioritized objects.\n",
       "(You can prepare the priority object with make_priority_dict,\n",
       "if you want to use always the same priorities in pandas)\n",
       "\u001b[31mFile:\u001b[39m      /media/me/LinuxDropbox/Dropbox/31_Projekte/01_Python/88_PyCharm/bpyth/src/bpyth/bpyth_iterable.py\n",
       "\u001b[31mType:\u001b[39m      function"
      ]
     },
     "metadata": {},
     "output_type": "display_data"
    }
   ],
   "source": [
    "?bpy.sort_by_priority_list"
   ]
  },
  {
   "cell_type": "code",
   "execution_count": 72,
   "metadata": {
    "execution": {
     "iopub.execute_input": "2025-03-12T12:23:44.455400Z",
     "iopub.status.busy": "2025-03-12T12:23:44.454854Z",
     "iopub.status.idle": "2025-03-12T12:23:44.476165Z",
     "shell.execute_reply": "2025-03-12T12:23:44.474989Z",
     "shell.execute_reply.started": "2025-03-12T12:23:44.455368Z"
    }
   },
   "outputs": [
    {
     "data": {
      "text/plain": [
       "'aeeiiooou Lrm psm dlr st mt'"
      ]
     },
     "execution_count": 72,
     "metadata": {},
     "output_type": "execute_result"
    }
   ],
   "source": [
    "my_priorities = list('aeiou')\n",
    "list_to_sort  = list(' Lorem ipsum dolor sit amet')\n",
    "result = bpy.sort_by_priority_list( list_to_sort, my_priorities )\n",
    "''.join(result)"
   ]
  },
  {
   "cell_type": "code",
   "execution_count": 73,
   "metadata": {
    "execution": {
     "iopub.execute_input": "2025-03-12T12:23:46.193031Z",
     "iopub.status.busy": "2025-03-12T12:23:46.192161Z",
     "iopub.status.idle": "2025-03-12T12:23:46.236455Z",
     "shell.execute_reply": "2025-03-12T12:23:46.234226Z",
     "shell.execute_reply.started": "2025-03-12T12:23:46.192957Z"
    }
   },
   "outputs": [
    {
     "data": {
      "text/plain": [
       "['b', 1, 'a', 2, 3]"
      ]
     },
     "execution_count": 73,
     "metadata": {},
     "output_type": "execute_result"
    }
   ],
   "source": [
    "bpy.sort_by_priority_list([1, \"a\", 2, \"b\", 3],   [\"b\", 1]) \n",
    "# ['b', 1, 'a', 2, 3]"
   ]
  },
  {
   "cell_type": "code",
   "execution_count": 74,
   "metadata": {
    "execution": {
     "iopub.execute_input": "2025-03-12T12:23:48.880462Z",
     "iopub.status.busy": "2025-03-12T12:23:48.879686Z",
     "iopub.status.idle": "2025-03-12T12:23:48.924641Z",
     "shell.execute_reply": "2025-03-12T12:23:48.922973Z",
     "shell.execute_reply.started": "2025-03-12T12:23:48.880395Z"
    }
   },
   "outputs": [
    {
     "data": {
      "text/plain": [
       "[1, 1.0, True, '1', None, False, 'bla']"
      ]
     },
     "execution_count": 74,
     "metadata": {},
     "output_type": "execute_result"
    }
   ],
   "source": [
    "# Bei besonderen Datatypes funktioniert die Methode noch nicht richtig\n",
    "bpy.sort_by_priority_list([1, 1.0, \"1\", True, False, None, 'bla'],  [True, 1, \"1\", None, 'hi'] )\n",
    "#== [True, 1, \"1\", None, 1.0, False]"
   ]
  },
  {
   "cell_type": "markdown",
   "metadata": {},
   "source": [
    "## cut_counter"
   ]
  },
  {
   "cell_type": "code",
   "execution_count": 75,
   "metadata": {
    "execution": {
     "iopub.execute_input": "2025-03-12T12:26:44.257562Z",
     "iopub.status.busy": "2025-03-12T12:26:44.256415Z",
     "iopub.status.idle": "2025-03-12T12:26:44.376416Z",
     "shell.execute_reply": "2025-03-12T12:26:44.375759Z",
     "shell.execute_reply.started": "2025-03-12T12:26:44.257327Z"
    }
   },
   "outputs": [
    {
     "data": {
      "text/plain": [
       "\u001b[31mSignature:\u001b[39m bpy.cut_counter(counts, cut_percent)\n",
       "\u001b[31mDocstring:\u001b[39m Truncates rare values of a counter, given a percent value 0..100\n",
       "\u001b[31mFile:\u001b[39m      /media/me/LinuxDropbox/Dropbox/31_Projekte/01_Python/88_PyCharm/bpyth/src/bpyth/bpyth_iterable.py\n",
       "\u001b[31mType:\u001b[39m      function"
      ]
     },
     "metadata": {},
     "output_type": "display_data"
    }
   ],
   "source": [
    "?bpy.cut_counter"
   ]
  },
  {
   "cell_type": "code",
   "execution_count": 76,
   "metadata": {
    "execution": {
     "iopub.execute_input": "2025-03-12T12:26:51.768150Z",
     "iopub.status.busy": "2025-03-12T12:26:51.767863Z",
     "iopub.status.idle": "2025-03-12T12:26:51.787677Z",
     "shell.execute_reply": "2025-03-12T12:26:51.786698Z",
     "shell.execute_reply.started": "2025-03-12T12:26:51.768126Z"
    }
   },
   "outputs": [
    {
     "data": {
      "text/plain": [
       "Counter({' ': 35,\n",
       "         'e': 21,\n",
       "         'o': 17,\n",
       "         't': 16,\n",
       "         'a': 14,\n",
       "         'r': 12,\n",
       "         'm': 12,\n",
       "         'u': 12,\n",
       "         'i': 11,\n",
       "         's': 11,\n",
       "         'd': 11,\n",
       "         'l': 7,\n",
       "         'n': 7,\n",
       "         'p': 4,\n",
       "         'c': 4,\n",
       "         ',': 3,\n",
       "         'v': 3,\n",
       "         'g': 2,\n",
       "         'y': 2,\n",
       "         'b': 2,\n",
       "         '.': 2,\n",
       "         'L': 1,\n",
       "         'q': 1,\n",
       "         'A': 1,\n",
       "         'j': 1})"
      ]
     },
     "execution_count": 76,
     "metadata": {},
     "output_type": "execute_result"
    }
   ],
   "source": [
    "from collections import Counter\n",
    "c = Counter('Lorem ipsum dolor sit amet, consetetur sadipscing elitr, sed diam nonumy eirmod tempor invidunt ut labore et dolore magna aliquyam erat, sed diam voluptua. At vero eos et accusam et justo duo dolores et ea rebum.')\n",
    "c"
   ]
  },
  {
   "cell_type": "code",
   "execution_count": 77,
   "metadata": {
    "execution": {
     "iopub.execute_input": "2025-03-12T12:26:52.189335Z",
     "iopub.status.busy": "2025-03-12T12:26:52.187956Z",
     "iopub.status.idle": "2025-03-12T12:26:52.225511Z",
     "shell.execute_reply": "2025-03-12T12:26:52.224266Z",
     "shell.execute_reply.started": "2025-03-12T12:26:52.189217Z"
    }
   },
   "outputs": [
    {
     "data": {
      "text/plain": [
       "Counter({' ': 35,\n",
       "         'e': 21,\n",
       "         'o': 17,\n",
       "         't': 16,\n",
       "         'a': 14,\n",
       "         'r': 12,\n",
       "         'm': 12,\n",
       "         'u': 12,\n",
       "         'i': 11,\n",
       "         's': 11,\n",
       "         'd': 11,\n",
       "         'l': 7,\n",
       "         'n': 7,\n",
       "         'p': 4,\n",
       "         'c': 4,\n",
       "         ',': 3,\n",
       "         'v': 3})"
      ]
     },
     "execution_count": 77,
     "metadata": {},
     "output_type": "execute_result"
    }
   ],
   "source": [
    "bpy.cut_counter(c, 1)"
   ]
  },
  {
   "cell_type": "markdown",
   "metadata": {},
   "source": [
    "## ranking_from_counter"
   ]
  },
  {
   "cell_type": "code",
   "execution_count": 89,
   "metadata": {
    "execution": {
     "iopub.execute_input": "2025-03-12T12:36:29.741466Z",
     "iopub.status.busy": "2025-03-12T12:36:29.740936Z",
     "iopub.status.idle": "2025-03-12T12:36:29.826737Z",
     "shell.execute_reply": "2025-03-12T12:36:29.824636Z",
     "shell.execute_reply.started": "2025-03-12T12:36:29.741421Z"
    }
   },
   "outputs": [
    {
     "data": {
      "text/plain": [
       "\u001b[31mSignature:\u001b[39m bpy.ranking_from_counter(counts)\n",
       "\u001b[31mDocstring:\u001b[39m\n",
       "Converts a counter into a ranking.\n",
       "Returns a sorted dict.\n",
       "\u001b[31mFile:\u001b[39m      /media/me/LinuxDropbox/Dropbox/31_Projekte/01_Python/88_PyCharm/bpyth/src/bpyth/bpyth_iterable.py\n",
       "\u001b[31mType:\u001b[39m      function"
      ]
     },
     "metadata": {},
     "output_type": "display_data"
    }
   ],
   "source": [
    "?bpy.ranking_from_counter"
   ]
  },
  {
   "cell_type": "code",
   "execution_count": 90,
   "metadata": {
    "execution": {
     "iopub.execute_input": "2025-03-12T12:36:30.646215Z",
     "iopub.status.busy": "2025-03-12T12:36:30.645374Z",
     "iopub.status.idle": "2025-03-12T12:36:30.676796Z",
     "shell.execute_reply": "2025-03-12T12:36:30.675374Z",
     "shell.execute_reply.started": "2025-03-12T12:36:30.646166Z"
    }
   },
   "outputs": [
    {
     "data": {
      "text/plain": [
       "{' ': 0,\n",
       " 'e': 1,\n",
       " 'o': 2,\n",
       " 't': 3,\n",
       " 'a': 4,\n",
       " 'r': 5,\n",
       " 'm': 6,\n",
       " 'u': 7,\n",
       " 'i': 8,\n",
       " 's': 9,\n",
       " 'd': 10,\n",
       " 'l': 11,\n",
       " 'n': 12,\n",
       " 'p': 13,\n",
       " 'c': 14,\n",
       " ',': 15,\n",
       " 'v': 16,\n",
       " 'g': 17,\n",
       " 'y': 18,\n",
       " 'b': 19,\n",
       " '.': 20,\n",
       " 'L': 21,\n",
       " 'q': 22,\n",
       " 'A': 23,\n",
       " 'j': 24}"
      ]
     },
     "execution_count": 90,
     "metadata": {},
     "output_type": "execute_result"
    }
   ],
   "source": [
    "from collections import Counter\n",
    "c = Counter('Lorem ipsum dolor sit amet, consetetur sadipscing elitr, sed diam nonumy eirmod tempor invidunt ut labore et dolore magna aliquyam erat, sed diam voluptua. At vero eos et accusam et justo duo dolores et ea rebum.')\n",
    "bpy.ranking_from_counter(c)"
   ]
  },
  {
   "cell_type": "code",
   "execution_count": null,
   "metadata": {},
   "outputs": [],
   "source": []
  }
 ],
 "metadata": {
  "kernelspec": {
   "display_name": "Python 3 (ipykernel)",
   "language": "python",
   "name": "python3"
  },
  "language_info": {
   "codemirror_mode": {
    "name": "ipython",
    "version": 3
   },
   "file_extension": ".py",
   "mimetype": "text/x-python",
   "name": "python",
   "nbconvert_exporter": "python",
   "pygments_lexer": "ipython3",
   "version": "3.12.9"
  }
 },
 "nbformat": 4,
 "nbformat_minor": 4
}
