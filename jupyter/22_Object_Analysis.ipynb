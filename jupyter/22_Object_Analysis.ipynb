{
 "cells": [
  {
   "cell_type": "markdown",
   "metadata": {},
   "source": [
    "__[Open and try this file online (Colab)](https://colab.research.google.com/github/djekra/bpyth/blob/master/jupyter/22_Object_Analysis.ipynb)__"
   ]
  },
  {
   "cell_type": "markdown",
   "metadata": {},
   "source": [
    "# bpyth Object Analysis Tools\n",
    "* `rtype`: Recursive type. Parses an n-dimensional object and returns a tuple of stype for the scalar in the top left corner.\n",
    "* `shape`: Recursive len. Parses an n-dimensional object and returns a tuple of sizes.\n",
    "* `has_shape`: Does an object have additional dimensions? (Skalars: No, Strings: No, Empty Iterables: No,\n",
    "    Other Iterables: Yes)\n",
    "* `memory_consumption`: Returns the memory consumption of Python objects."
   ]
  },
  {
   "cell_type": "code",
   "execution_count": 1,
   "metadata": {
    "execution": {
     "iopub.execute_input": "2025-03-13T22:08:56.606000Z",
     "iopub.status.busy": "2025-03-13T22:08:56.605714Z",
     "iopub.status.idle": "2025-03-13T22:08:57.583415Z",
     "shell.execute_reply": "2025-03-13T22:08:57.582957Z",
     "shell.execute_reply.started": "2025-03-13T22:08:56.605978Z"
    }
   },
   "outputs": [
    {
     "name": "stdout",
     "output_type": "stream",
     "text": [
      "blab init\n",
      "environment['in_colab']     = False\n",
      "environment['dropbox_path'] = /media/me/LinuxDropbox/Dropbox\n",
      "environment['lib_path']     = /media/me/LinuxDropbox/Dropbox/31_Projekte/01_Python/libs\n",
      "Start Time: 23:08:57\n"
     ]
    },
    {
     "data": {
      "text/html": [
       "<img src onerror=\"var cell = this.closest('.jp-CodeCell');var editor = cell.querySelector('.jp-Editor');editor.style.background='Beige';this.parentNode.removeChild(this)\">"
      ],
      "text/plain": [
       "<IPython.core.display.HTML object>"
      ]
     },
     "metadata": {},
     "output_type": "display_data"
    }
   ],
   "source": [
    "# blab init\n",
    "try:\n",
    "    import blab\n",
    "except ImportError as e:\n",
    "    !pip install blab\n",
    "    import blab    \n",
    "startup_notebook = blab.blab_startup()\n",
    "%run $startup_notebook "
   ]
  },
  {
   "cell_type": "code",
   "execution_count": 2,
   "metadata": {
    "execution": {
     "iopub.execute_input": "2025-03-13T22:08:57.584569Z",
     "iopub.status.busy": "2025-03-13T22:08:57.584164Z",
     "iopub.status.idle": "2025-03-13T22:08:57.603068Z",
     "shell.execute_reply": "2025-03-13T22:08:57.602482Z",
     "shell.execute_reply.started": "2025-03-13T22:08:57.584540Z"
    }
   },
   "outputs": [],
   "source": [
    "import bpyth as bpy"
   ]
  },
  {
   "cell_type": "markdown",
   "metadata": {},
   "source": [
    "### stype"
   ]
  },
  {
   "cell_type": "code",
   "execution_count": 3,
   "metadata": {
    "execution": {
     "iopub.execute_input": "2025-03-13T22:08:57.603964Z",
     "iopub.status.busy": "2025-03-13T22:08:57.603651Z",
     "iopub.status.idle": "2025-03-13T22:08:57.680427Z",
     "shell.execute_reply": "2025-03-13T22:08:57.679941Z",
     "shell.execute_reply.started": "2025-03-13T22:08:57.603935Z"
    }
   },
   "outputs": [
    {
     "data": {
      "text/plain": [
       "\u001b[31mSignature:\u001b[39m bpy.stype(obj)\n",
       "\u001b[31mDocstring:\u001b[39m Returns the type as a short string\n",
       "\u001b[31mFile:\u001b[39m      /media/me/LinuxDropbox/Dropbox/31_Projekte/01_Python/88_PyCharm/bpyth/src/bpyth/bpyth_object_analysis.py\n",
       "\u001b[31mType:\u001b[39m      function"
      ]
     },
     "metadata": {},
     "output_type": "display_data"
    }
   ],
   "source": [
    "?bpy.stype"
   ]
  },
  {
   "cell_type": "code",
   "execution_count": 4,
   "metadata": {
    "execution": {
     "iopub.execute_input": "2025-03-13T22:08:57.681277Z",
     "iopub.status.busy": "2025-03-13T22:08:57.681083Z",
     "iopub.status.idle": "2025-03-13T22:08:57.698736Z",
     "shell.execute_reply": "2025-03-13T22:08:57.697741Z",
     "shell.execute_reply.started": "2025-03-13T22:08:57.681258Z"
    }
   },
   "outputs": [
    {
     "data": {
      "text/plain": [
       "'str'"
      ]
     },
     "execution_count": 4,
     "metadata": {},
     "output_type": "execute_result"
    }
   ],
   "source": [
    "bpy.stype('g')"
   ]
  },
  {
   "cell_type": "markdown",
   "metadata": {},
   "source": [
    "### rtype"
   ]
  },
  {
   "cell_type": "code",
   "execution_count": 5,
   "metadata": {
    "execution": {
     "iopub.execute_input": "2025-03-13T22:08:57.700493Z",
     "iopub.status.busy": "2025-03-13T22:08:57.699571Z",
     "iopub.status.idle": "2025-03-13T22:08:57.740771Z",
     "shell.execute_reply": "2025-03-13T22:08:57.740242Z",
     "shell.execute_reply.started": "2025-03-13T22:08:57.700455Z"
    }
   },
   "outputs": [
    {
     "data": {
      "text/plain": [
       "\u001b[31mSignature:\u001b[39m bpy.rtype(inp)\n",
       "\u001b[31mDocstring:\u001b[39m Returns the type of the input object as a tuple.\n",
       "\u001b[31mFile:\u001b[39m      /media/me/LinuxDropbox/Dropbox/31_Projekte/01_Python/88_PyCharm/bpyth/src/bpyth/bpyth_object_analysis.py\n",
       "\u001b[31mType:\u001b[39m      function"
      ]
     },
     "metadata": {},
     "output_type": "display_data"
    }
   ],
   "source": [
    "?bpy.rtype"
   ]
  },
  {
   "cell_type": "code",
   "execution_count": 6,
   "metadata": {
    "execution": {
     "iopub.execute_input": "2025-03-13T22:08:57.742727Z",
     "iopub.status.busy": "2025-03-13T22:08:57.742334Z",
     "iopub.status.idle": "2025-03-13T22:08:57.756552Z",
     "shell.execute_reply": "2025-03-13T22:08:57.755997Z",
     "shell.execute_reply.started": "2025-03-13T22:08:57.742705Z"
    }
   },
   "outputs": [
    {
     "data": {
      "text/plain": [
       "('tuple', 'list', 'int')"
      ]
     },
     "execution_count": 6,
     "metadata": {},
     "output_type": "execute_result"
    }
   ],
   "source": [
    "bpy.rtype(([1],[2],[3])) "
   ]
  },
  {
   "cell_type": "code",
   "execution_count": 7,
   "metadata": {
    "execution": {
     "iopub.execute_input": "2025-03-13T22:08:57.757580Z",
     "iopub.status.busy": "2025-03-13T22:08:57.757259Z",
     "iopub.status.idle": "2025-03-13T22:08:57.775483Z",
     "shell.execute_reply": "2025-03-13T22:08:57.774781Z",
     "shell.execute_reply.started": "2025-03-13T22:08:57.757561Z"
    }
   },
   "outputs": [
    {
     "data": {
      "text/plain": [
       "('bytes',)"
      ]
     },
     "execution_count": 7,
     "metadata": {},
     "output_type": "execute_result"
    }
   ],
   "source": [
    "bpy.rtype(b\"abc\")\n",
    "# == (\"bytes\",)"
   ]
  },
  {
   "cell_type": "code",
   "execution_count": 8,
   "metadata": {
    "execution": {
     "iopub.execute_input": "2025-03-13T22:08:57.776401Z",
     "iopub.status.busy": "2025-03-13T22:08:57.776172Z",
     "iopub.status.idle": "2025-03-13T22:08:57.797627Z",
     "shell.execute_reply": "2025-03-13T22:08:57.796806Z",
     "shell.execute_reply.started": "2025-03-13T22:08:57.776383Z"
    }
   },
   "outputs": [
    {
     "data": {
      "text/plain": [
       "('dict', 'list', 'int')"
      ]
     },
     "execution_count": 8,
     "metadata": {},
     "output_type": "execute_result"
    }
   ],
   "source": [
    "bpy.rtype({\"a\": [1, 2], \"b\": [3, 4]}) \n",
    "#== (\"dict\", \"list\")"
   ]
  },
  {
   "cell_type": "markdown",
   "metadata": {},
   "source": [
    "## has_shape"
   ]
  },
  {
   "cell_type": "code",
   "execution_count": 9,
   "metadata": {
    "execution": {
     "iopub.execute_input": "2025-03-13T22:08:57.798891Z",
     "iopub.status.busy": "2025-03-13T22:08:57.798414Z",
     "iopub.status.idle": "2025-03-13T22:08:57.835813Z",
     "shell.execute_reply": "2025-03-13T22:08:57.835360Z",
     "shell.execute_reply.started": "2025-03-13T22:08:57.798857Z"
    },
    "tags": []
   },
   "outputs": [
    {
     "data": {
      "text/plain": [
       "\u001b[31mSignature:\u001b[39m bpy.has_shape(inputobjekt)\n",
       "\u001b[31mDocstring:\u001b[39m\n",
       "Does an object have additional dimensions?\n",
       "Skalars: No\n",
       "Strings: No (per definition)    \n",
       "Empty Iterables: No (per definition)    \n",
       "Other Iterables: Yes\n",
       "\u001b[31mFile:\u001b[39m      /media/me/LinuxDropbox/Dropbox/31_Projekte/01_Python/88_PyCharm/bpyth/src/bpyth/bpyth_object_analysis.py\n",
       "\u001b[31mType:\u001b[39m      function"
      ]
     },
     "metadata": {},
     "output_type": "display_data"
    }
   ],
   "source": [
    "?bpy.has_shape"
   ]
  },
  {
   "cell_type": "code",
   "execution_count": 10,
   "metadata": {
    "execution": {
     "iopub.execute_input": "2025-03-13T22:08:57.836634Z",
     "iopub.status.busy": "2025-03-13T22:08:57.836450Z",
     "iopub.status.idle": "2025-03-13T22:08:57.850784Z",
     "shell.execute_reply": "2025-03-13T22:08:57.850179Z",
     "shell.execute_reply.started": "2025-03-13T22:08:57.836617Z"
    }
   },
   "outputs": [],
   "source": [
    "assert bpy.has_shape(list('abc'))\n",
    "assert bpy.has_shape((1,2))"
   ]
  },
  {
   "cell_type": "code",
   "execution_count": 11,
   "metadata": {
    "execution": {
     "iopub.execute_input": "2025-03-13T22:08:57.851638Z",
     "iopub.status.busy": "2025-03-13T22:08:57.851363Z",
     "iopub.status.idle": "2025-03-13T22:08:57.868054Z",
     "shell.execute_reply": "2025-03-13T22:08:57.867570Z",
     "shell.execute_reply.started": "2025-03-13T22:08:57.851614Z"
    }
   },
   "outputs": [],
   "source": [
    "assert not bpy.has_shape([])\n",
    "assert not bpy.has_shape(1)\n",
    "assert not bpy.has_shape('abc')\n",
    "assert not bpy.has_shape(None)"
   ]
  },
  {
   "cell_type": "markdown",
   "metadata": {},
   "source": [
    "## rtype and shape of pure python objects"
   ]
  },
  {
   "cell_type": "code",
   "execution_count": 12,
   "metadata": {
    "execution": {
     "iopub.execute_input": "2025-03-13T22:08:57.868928Z",
     "iopub.status.busy": "2025-03-13T22:08:57.868581Z",
     "iopub.status.idle": "2025-03-13T22:08:57.903775Z",
     "shell.execute_reply": "2025-03-13T22:08:57.903282Z",
     "shell.execute_reply.started": "2025-03-13T22:08:57.868909Z"
    },
    "tags": []
   },
   "outputs": [
    {
     "data": {
      "text/plain": [
       "\u001b[31mSignature:\u001b[39m bpy.shape(obj)\n",
       "\u001b[31mDocstring:\u001b[39m\n",
       "Recursive len. Parses an n-dimensional object and returns a tuple of sizes.\n",
       "Caution: only a single scalar is found. A heterogeneous data structure cannot be parsed meaningfully.     \n",
       "\u001b[31mFile:\u001b[39m      /media/me/LinuxDropbox/Dropbox/31_Projekte/01_Python/88_PyCharm/bpyth/src/bpyth/bpyth_object_analysis.py\n",
       "\u001b[31mType:\u001b[39m      function"
      ]
     },
     "metadata": {},
     "output_type": "display_data"
    }
   ],
   "source": [
    "?bpy.shape"
   ]
  },
  {
   "cell_type": "code",
   "execution_count": 13,
   "metadata": {
    "execution": {
     "iopub.execute_input": "2025-03-13T22:08:57.904508Z",
     "iopub.status.busy": "2025-03-13T22:08:57.904329Z",
     "iopub.status.idle": "2025-03-13T22:08:57.939032Z",
     "shell.execute_reply": "2025-03-13T22:08:57.938581Z",
     "shell.execute_reply.started": "2025-03-13T22:08:57.904492Z"
    },
    "tags": []
   },
   "outputs": [
    {
     "data": {
      "text/plain": [
       "\u001b[31mSignature:\u001b[39m bpy.rtype(inp)\n",
       "\u001b[31mDocstring:\u001b[39m Returns the type of the input object as a tuple.\n",
       "\u001b[31mFile:\u001b[39m      /media/me/LinuxDropbox/Dropbox/31_Projekte/01_Python/88_PyCharm/bpyth/src/bpyth/bpyth_object_analysis.py\n",
       "\u001b[31mType:\u001b[39m      function"
      ]
     },
     "metadata": {},
     "output_type": "display_data"
    }
   ],
   "source": [
    "?bpy.rtype"
   ]
  },
  {
   "cell_type": "code",
   "execution_count": 14,
   "metadata": {
    "execution": {
     "iopub.execute_input": "2025-03-13T22:08:57.940119Z",
     "iopub.status.busy": "2025-03-13T22:08:57.939745Z",
     "iopub.status.idle": "2025-03-13T22:08:57.965993Z",
     "shell.execute_reply": "2025-03-13T22:08:57.965240Z",
     "shell.execute_reply.started": "2025-03-13T22:08:57.940089Z"
    }
   },
   "outputs": [],
   "source": [
    "# 0 Dimensionen\n",
    "assert bpy.shape('jjj' ) == tuple()\n",
    "assert bpy.shape(123)    == tuple()\n",
    "assert bpy.shape(None)   == tuple()\n",
    "assert bpy.shape([])     == tuple()\n",
    "assert bpy.shape({})     == tuple()"
   ]
  },
  {
   "cell_type": "code",
   "execution_count": 15,
   "metadata": {
    "execution": {
     "iopub.execute_input": "2025-03-13T22:08:57.966915Z",
     "iopub.status.busy": "2025-03-13T22:08:57.966634Z",
     "iopub.status.idle": "2025-03-13T22:08:57.986035Z",
     "shell.execute_reply": "2025-03-13T22:08:57.985524Z",
     "shell.execute_reply.started": "2025-03-13T22:08:57.966890Z"
    }
   },
   "outputs": [],
   "source": [
    "# 0 Dimensionen\n",
    "assert bpy.rtype(123)    == ('int',)\n",
    "assert bpy.rtype(None)   == ('NoneType',)\n",
    "assert bpy.rtype([])     == ('list',)\n",
    "assert bpy.rtype({})     == ('dict',)\n",
    "assert bpy.rtype('jjj' ) == ('str',)"
   ]
  },
  {
   "cell_type": "code",
   "execution_count": 16,
   "metadata": {
    "execution": {
     "iopub.execute_input": "2025-03-13T22:08:57.987030Z",
     "iopub.status.busy": "2025-03-13T22:08:57.986654Z",
     "iopub.status.idle": "2025-03-13T22:08:58.008636Z",
     "shell.execute_reply": "2025-03-13T22:08:58.008086Z",
     "shell.execute_reply.started": "2025-03-13T22:08:57.987010Z"
    }
   },
   "outputs": [],
   "source": [
    "# 1 Dimension\n",
    "obj_4 = ( 'abcde', 'grfer', 'btjqw', 'bqwer' )\n",
    "assert bpy.shape(obj_4) == (4,)\n",
    "assert bpy.rtype(obj_4) == ('tuple', 'str')"
   ]
  },
  {
   "cell_type": "code",
   "execution_count": 17,
   "metadata": {
    "execution": {
     "iopub.execute_input": "2025-03-13T22:08:58.009530Z",
     "iopub.status.busy": "2025-03-13T22:08:58.009255Z",
     "iopub.status.idle": "2025-03-13T22:08:58.027518Z",
     "shell.execute_reply": "2025-03-13T22:08:58.026746Z",
     "shell.execute_reply.started": "2025-03-13T22:08:58.009506Z"
    }
   },
   "outputs": [],
   "source": [
    "# shit \n",
    "obj_shit = [[]]\n",
    "assert bpy.shape(obj_shit) == (1,)\n",
    "assert bpy.rtype(obj_shit) == ('list', 'list')"
   ]
  },
  {
   "cell_type": "code",
   "execution_count": 18,
   "metadata": {
    "execution": {
     "iopub.execute_input": "2025-03-13T22:08:58.028637Z",
     "iopub.status.busy": "2025-03-13T22:08:58.028250Z",
     "iopub.status.idle": "2025-03-13T22:08:58.047830Z",
     "shell.execute_reply": "2025-03-13T22:08:58.047042Z",
     "shell.execute_reply.started": "2025-03-13T22:08:58.028611Z"
    }
   },
   "outputs": [],
   "source": [
    "# shit\n",
    "obj_shit = [[1]]\n",
    "assert bpy.shape(obj_shit) == (1,1)\n",
    "assert bpy.rtype(obj_shit) == ('list', 'list','int')"
   ]
  },
  {
   "cell_type": "code",
   "execution_count": 19,
   "metadata": {
    "execution": {
     "iopub.execute_input": "2025-03-13T22:08:58.048836Z",
     "iopub.status.busy": "2025-03-13T22:08:58.048538Z",
     "iopub.status.idle": "2025-03-13T22:08:58.074417Z",
     "shell.execute_reply": "2025-03-13T22:08:58.073941Z",
     "shell.execute_reply.started": "2025-03-13T22:08:58.048799Z"
    }
   },
   "outputs": [],
   "source": [
    "# 1 Dimension, heterogener Inhalt: Nur das erste Element wird untersucht!\n",
    "obj_3 = ( 'ICH WERDE UNTERSUCHT', -77, -99 )\n",
    "assert bpy.shape(obj_3) == (3,)\n",
    "assert bpy.rtype(obj_3) == ('tuple', 'str')"
   ]
  },
  {
   "cell_type": "code",
   "execution_count": 20,
   "metadata": {
    "execution": {
     "iopub.execute_input": "2025-03-13T22:08:58.075260Z",
     "iopub.status.busy": "2025-03-13T22:08:58.075041Z",
     "iopub.status.idle": "2025-03-13T22:08:58.093246Z",
     "shell.execute_reply": "2025-03-13T22:08:58.092711Z",
     "shell.execute_reply.started": "2025-03-13T22:08:58.075242Z"
    }
   },
   "outputs": [],
   "source": [
    "# 2 Dimensionen\n",
    "obj_43 = [[1,2,3],[4,5,6], [7, 8, 9], [10, 11, 12]]\n",
    "assert bpy.shape(obj_43) == (4,3)\n",
    "assert bpy.shape(tuple(obj_43)) == (4,3)\n",
    "assert bpy.rtype(obj_43) == ('list', 'list', 'int')"
   ]
  },
  {
   "cell_type": "code",
   "execution_count": 21,
   "metadata": {
    "execution": {
     "iopub.execute_input": "2025-03-13T22:08:58.097718Z",
     "iopub.status.busy": "2025-03-13T22:08:58.097149Z",
     "iopub.status.idle": "2025-03-13T22:08:58.116186Z",
     "shell.execute_reply": "2025-03-13T22:08:58.115698Z",
     "shell.execute_reply.started": "2025-03-13T22:08:58.097684Z"
    }
   },
   "outputs": [],
   "source": [
    "# 3 Dimensionen\n",
    "obj_533 = [\n",
    "    [[0, 0, 0], [1, 1, 1], [2, 2, 2]],\n",
    "    [[0, 0, 0], [1, 1, 1], [2, 2, 2]],\n",
    "    [[0, 0, 0], [1, 1, 1], [2, 2, 2]],\n",
    "    [[0, 0, 0], [1, 1, 1], [2, 2, 2]],\n",
    "    [[0, 0, 0], [1, 1, 1], [2, 2, 2]],\n",
    "]\n",
    "assert bpy.shape(obj_533) == (5, 3, 3)\n",
    "assert bpy.rtype(obj_533) == ('list', 'list', 'list', 'int')"
   ]
  },
  {
   "cell_type": "code",
   "execution_count": 22,
   "metadata": {
    "execution": {
     "iopub.execute_input": "2025-03-13T22:08:58.117289Z",
     "iopub.status.busy": "2025-03-13T22:08:58.116994Z",
     "iopub.status.idle": "2025-03-13T22:08:58.139197Z",
     "shell.execute_reply": "2025-03-13T22:08:58.138694Z",
     "shell.execute_reply.started": "2025-03-13T22:08:58.117264Z"
    }
   },
   "outputs": [],
   "source": [
    "# Anderer Datentyp\n",
    "obj_45 = [ list('abcde'), list('grfer'), list('btjqw'), list('bqwer') ]\n",
    "assert bpy.shape(obj_45) == (4,5)\n",
    "assert bpy.rtype(obj_45) == ('list', 'list', 'str')"
   ]
  },
  {
   "cell_type": "code",
   "execution_count": 23,
   "metadata": {
    "execution": {
     "iopub.execute_input": "2025-03-13T22:08:58.140384Z",
     "iopub.status.busy": "2025-03-13T22:08:58.139854Z",
     "iopub.status.idle": "2025-03-13T22:08:58.157518Z",
     "shell.execute_reply": "2025-03-13T22:08:58.156969Z",
     "shell.execute_reply.started": "2025-03-13T22:08:58.140357Z"
    }
   },
   "outputs": [],
   "source": [
    "# 2 Dimensionen mit leeren Listen\n",
    "obj_53 = [\n",
    "    [[], [], []],\n",
    "    [[], [], []],\n",
    "    [[], [], []],\n",
    "    [[], [], []],\n",
    "    [[], [], []],\n",
    "]\n",
    "assert bpy.shape(obj_53) == (5,3)\n",
    "assert bpy.rtype(obj_53) == ('list', 'list', 'list')"
   ]
  },
  {
   "cell_type": "code",
   "execution_count": 24,
   "metadata": {
    "execution": {
     "iopub.execute_input": "2025-03-13T22:08:58.158336Z",
     "iopub.status.busy": "2025-03-13T22:08:58.158083Z",
     "iopub.status.idle": "2025-03-13T22:08:58.186615Z",
     "shell.execute_reply": "2025-03-13T22:08:58.186024Z",
     "shell.execute_reply.started": "2025-03-13T22:08:58.158310Z"
    }
   },
   "outputs": [],
   "source": [
    "dict_3 = {'A': 1,\n",
    "          'B': 2,\n",
    "          'C': 3,              \n",
    "               }\n",
    "\n",
    "assert bpy.shape(dict_3) == (3,)\n",
    "assert bpy.rtype(dict_3) == ('dict', 'int')"
   ]
  },
  {
   "cell_type": "code",
   "execution_count": 25,
   "metadata": {
    "execution": {
     "iopub.execute_input": "2025-03-13T22:08:58.187404Z",
     "iopub.status.busy": "2025-03-13T22:08:58.187200Z",
     "iopub.status.idle": "2025-03-13T22:08:58.203618Z",
     "shell.execute_reply": "2025-03-13T22:08:58.203094Z",
     "shell.execute_reply.started": "2025-03-13T22:08:58.187387Z"
    }
   },
   "outputs": [],
   "source": [
    "dict_54 = {'A': [1,4,5,6],\n",
    "           'B': [2,4,5,6],\n",
    "           'C': [3,4,0,9],\n",
    "           'D': [4,4,5,9],\n",
    "           'E': [5,4,5,6],                \n",
    "               }\n",
    "assert bpy.shape(dict_54) == (5,4)\n",
    "assert bpy.rtype(dict_54) == ('dict', 'list', 'int')"
   ]
  },
  {
   "cell_type": "code",
   "execution_count": 26,
   "metadata": {
    "execution": {
     "iopub.execute_input": "2025-03-13T22:08:58.204304Z",
     "iopub.status.busy": "2025-03-13T22:08:58.204101Z",
     "iopub.status.idle": "2025-03-13T22:08:58.236794Z",
     "shell.execute_reply": "2025-03-13T22:08:58.236325Z",
     "shell.execute_reply.started": "2025-03-13T22:08:58.204287Z"
    }
   },
   "outputs": [],
   "source": [
    "dict_54b = {'A': (1,4,5,6),\n",
    "            'B': (2,4,5,6),\n",
    "            'C': (3,4,0,9),\n",
    "            'D': (4,4,5,9),\n",
    "            'E': (5,4,5,6),                \n",
    "               }\n",
    "assert bpy.shape(dict_54b) == (5,4)\n",
    "assert bpy.rtype(dict_54b) == ('dict', 'tuple', 'int')"
   ]
  },
  {
   "cell_type": "code",
   "execution_count": 27,
   "metadata": {
    "execution": {
     "iopub.execute_input": "2025-03-13T22:08:58.238008Z",
     "iopub.status.busy": "2025-03-13T22:08:58.237447Z",
     "iopub.status.idle": "2025-03-13T22:08:58.256441Z",
     "shell.execute_reply": "2025-03-13T22:08:58.255964Z",
     "shell.execute_reply.started": "2025-03-13T22:08:58.237980Z"
    }
   },
   "outputs": [],
   "source": [
    "dict_32 = {'A': ((),(),),\n",
    "           'B': ((),(),),    \n",
    "           'C': ((),(),),                \n",
    "               }\n",
    "assert bpy.shape(dict_32) == (3,2)\n",
    "assert bpy.rtype(dict_32) == ('dict', 'tuple', 'tuple')"
   ]
  },
  {
   "cell_type": "markdown",
   "metadata": {},
   "source": [
    "## rtype and shape of pandas and numpy objects"
   ]
  },
  {
   "cell_type": "code",
   "execution_count": 28,
   "metadata": {
    "execution": {
     "iopub.execute_input": "2025-03-13T22:08:58.257397Z",
     "iopub.status.busy": "2025-03-13T22:08:58.257034Z",
     "iopub.status.idle": "2025-03-13T22:08:58.271691Z",
     "shell.execute_reply": "2025-03-13T22:08:58.271244Z",
     "shell.execute_reply.started": "2025-03-13T22:08:58.257373Z"
    }
   },
   "outputs": [],
   "source": [
    "try:\n",
    "    import pandas     as pd \n",
    "    import numpy      as np\n",
    "except:    \n",
    "    print('pandas not installed')\n",
    "    raise Stop"
   ]
  },
  {
   "cell_type": "code",
   "execution_count": 29,
   "metadata": {
    "execution": {
     "iopub.execute_input": "2025-03-13T22:08:58.272402Z",
     "iopub.status.busy": "2025-03-13T22:08:58.272187Z",
     "iopub.status.idle": "2025-03-13T22:08:58.295778Z",
     "shell.execute_reply": "2025-03-13T22:08:58.295018Z",
     "shell.execute_reply.started": "2025-03-13T22:08:58.272385Z"
    }
   },
   "outputs": [],
   "source": [
    "# 0 Dimensionen\n",
    "assert bpy.shape( np.array([]) )               == tuple()\n",
    "assert bpy.shape( pd.Series(dtype='float64') ) == tuple()\n",
    "assert bpy.shape( pd.DataFrame() )             == tuple()\n",
    "assert bpy.shape( pd.DataFrame([]) )           == tuple()\n",
    "assert bpy.shape( pd.DataFrame([[]]) )         == tuple()"
   ]
  },
  {
   "cell_type": "code",
   "execution_count": 30,
   "metadata": {
    "execution": {
     "iopub.execute_input": "2025-03-13T22:08:58.296903Z",
     "iopub.status.busy": "2025-03-13T22:08:58.296557Z",
     "iopub.status.idle": "2025-03-13T22:08:58.320118Z",
     "shell.execute_reply": "2025-03-13T22:08:58.319460Z",
     "shell.execute_reply.started": "2025-03-13T22:08:58.296871Z"
    }
   },
   "outputs": [],
   "source": [
    "# 0 Dimensionen\n",
    "assert bpy.rtype( np.array([]) )               == ('ndarray',)\n",
    "assert bpy.rtype( pd.Series(dtype='float64') ) == ('Series',)\n",
    "assert bpy.rtype( pd.DataFrame() )             == ('DataFrame',)\n",
    "assert bpy.rtype( pd.DataFrame([]) )           == ('DataFrame',)\n",
    "assert bpy.rtype( pd.DataFrame([[]]) )         == ('DataFrame',)"
   ]
  },
  {
   "cell_type": "code",
   "execution_count": 31,
   "metadata": {
    "execution": {
     "iopub.execute_input": "2025-03-13T22:08:58.321137Z",
     "iopub.status.busy": "2025-03-13T22:08:58.320843Z",
     "iopub.status.idle": "2025-03-13T22:08:58.343647Z",
     "shell.execute_reply": "2025-03-13T22:08:58.343027Z",
     "shell.execute_reply.started": "2025-03-13T22:08:58.321112Z"
    }
   },
   "outputs": [],
   "source": [
    "# 1 Dimensionen\n",
    "assert bpy.rtype( np.array(['a']) )                == ('ndarray','str')\n",
    "try:\n",
    "    assert bpy.rtype( np.array([1]) )              == ('ndarray','int')\n",
    "except:\n",
    "    assert bpy.rtype( np.array([1]) )              == ('ndarray','int')\n",
    "assert bpy.rtype( pd.Series([1],dtype='float64') ) == ('Series','float')\n",
    "assert bpy.rtype( pd.DataFrame(['a']) )            == ('DataFrame','Series','str')\n",
    "assert bpy.rtype( pd.DataFrame([['a']]) )          == ('DataFrame','Series','str')"
   ]
  },
  {
   "cell_type": "code",
   "execution_count": 32,
   "metadata": {
    "execution": {
     "iopub.execute_input": "2025-03-13T22:08:58.345301Z",
     "iopub.status.busy": "2025-03-13T22:08:58.344541Z",
     "iopub.status.idle": "2025-03-13T22:08:58.372538Z",
     "shell.execute_reply": "2025-03-13T22:08:58.371991Z",
     "shell.execute_reply.started": "2025-03-13T22:08:58.345268Z"
    }
   },
   "outputs": [],
   "source": [
    "# 2 Dimensionen, dict mit np.array\n",
    "dict_24 = { 'Zeile0': np.array([3] * 4, dtype='int32'),\n",
    "            'Zeile1': np.array([4] * 4, dtype='int32') }\n",
    "\n",
    "assert bpy.shape(dict_24) == (2,4)\n",
    "assert bpy.rtype(dict_24) == ('dict', 'ndarray', 'int')"
   ]
  },
  {
   "cell_type": "code",
   "execution_count": 33,
   "metadata": {
    "execution": {
     "iopub.execute_input": "2025-03-13T22:08:58.373989Z",
     "iopub.status.busy": "2025-03-13T22:08:58.373182Z",
     "iopub.status.idle": "2025-03-13T22:08:58.391190Z",
     "shell.execute_reply": "2025-03-13T22:08:58.390624Z",
     "shell.execute_reply.started": "2025-03-13T22:08:58.373956Z"
    }
   },
   "outputs": [],
   "source": [
    "# Einzeiliges dict mit pd.Categorical\n",
    "dict_14 = { 'Zeile1': pd.Categorical([\"test\", \"train\", \"test\", \"train\"]) }\n",
    "\n",
    "assert bpy.shape(dict_14) == (1,4)\n",
    "assert bpy.rtype(dict_14) == ('dict', 'Categorical', 'str')"
   ]
  },
  {
   "cell_type": "code",
   "execution_count": 34,
   "metadata": {
    "execution": {
     "iopub.execute_input": "2025-03-13T22:08:58.392108Z",
     "iopub.status.busy": "2025-03-13T22:08:58.391752Z",
     "iopub.status.idle": "2025-03-13T22:08:59.504862Z",
     "shell.execute_reply": "2025-03-13T22:08:59.504348Z",
     "shell.execute_reply.started": "2025-03-13T22:08:58.392089Z"
    }
   },
   "outputs": [],
   "source": [
    "import pandasklar as pak "
   ]
  },
  {
   "cell_type": "code",
   "execution_count": 35,
   "metadata": {
    "execution": {
     "iopub.execute_input": "2025-03-13T22:08:59.505921Z",
     "iopub.status.busy": "2025-03-13T22:08:59.505429Z",
     "iopub.status.idle": "2025-03-13T22:08:59.550682Z",
     "shell.execute_reply": "2025-03-13T22:08:59.550074Z",
     "shell.execute_reply.started": "2025-03-13T22:08:59.505902Z"
    }
   },
   "outputs": [
    {
     "name": "stdout",
     "output_type": "stream",
     "text": [
      "('list', 'Series', 'int')\n",
      "('list', 'Series', 'str')\n",
      "('list', 'Series', 'str')\n",
      "('list', 'Series', 'str')\n",
      "('list', 'Series', 'float')\n"
     ]
    }
   ],
   "source": [
    "# list of Series mit Random Inhalt\n",
    "obj = 0\n",
    "for typ in list('isncf'):\n",
    "    obj = [ pak.random_series( 3, typ), \n",
    "            pak.random_series( 3, typ) ]\n",
    "    print(bpy.rtype(obj))\n",
    "    assert bpy.shape(obj) == (2, 3)\n",
    "assert bpy.rtype(obj) == ('list', 'Series', 'float') # ´hier wird nur der letze Wert getestet"
   ]
  },
  {
   "cell_type": "code",
   "execution_count": 36,
   "metadata": {
    "execution": {
     "iopub.execute_input": "2025-03-13T22:08:59.551840Z",
     "iopub.status.busy": "2025-03-13T22:08:59.551513Z",
     "iopub.status.idle": "2025-03-13T22:08:59.580940Z",
     "shell.execute_reply": "2025-03-13T22:08:59.579968Z",
     "shell.execute_reply.started": "2025-03-13T22:08:59.551801Z"
    }
   },
   "outputs": [
    {
     "data": {
      "text/plain": [
       "0       [1, 2, 3]\n",
       "1       [4, 5, 6]\n",
       "2       [7, 8, 9]\n",
       "3    [10, 11, 12]\n",
       "dtype: object"
      ]
     },
     "execution_count": 36,
     "metadata": {},
     "output_type": "execute_result"
    }
   ],
   "source": [
    "# Series of lists of int\n",
    "obj_43 = [[1,2,3],[4,5,6], [7, 8, 9], [10, 11, 12]]\n",
    "obj_43b = pd.Series(obj_43)\n",
    "assert bpy.shape(obj_43b) == (4,3)\n",
    "assert bpy.rtype(obj_43b) == ('Series', 'list', 'int')\n",
    "obj_43b"
   ]
  },
  {
   "cell_type": "code",
   "execution_count": 37,
   "metadata": {
    "execution": {
     "iopub.execute_input": "2025-03-13T22:08:59.582304Z",
     "iopub.status.busy": "2025-03-13T22:08:59.581979Z",
     "iopub.status.idle": "2025-03-13T22:08:59.606234Z",
     "shell.execute_reply": "2025-03-13T22:08:59.605600Z",
     "shell.execute_reply.started": "2025-03-13T22:08:59.582275Z"
    }
   },
   "outputs": [
    {
     "data": {
      "text/plain": [
       "('Series', 'list', 'int')"
      ]
     },
     "execution_count": 37,
     "metadata": {},
     "output_type": "execute_result"
    }
   ],
   "source": [
    "bpy.rtype(obj_43b)"
   ]
  },
  {
   "cell_type": "code",
   "execution_count": 38,
   "metadata": {
    "execution": {
     "iopub.execute_input": "2025-03-13T22:08:59.607249Z",
     "iopub.status.busy": "2025-03-13T22:08:59.606951Z",
     "iopub.status.idle": "2025-03-13T22:08:59.640557Z",
     "shell.execute_reply": "2025-03-13T22:08:59.639866Z",
     "shell.execute_reply.started": "2025-03-13T22:08:59.607223Z"
    }
   },
   "outputs": [],
   "source": [
    "# Normales DataFrame mit heterogenen Spalten\n",
    "obj_43 = [['a',2,3.0],['b',5,6.0], ['c', 8, 9.0], ['d', 11, 12.0]]\n",
    "obj_43c = pd.DataFrame(obj_43)\n",
    "assert bpy.shape(obj_43c) == (4,3)\n",
    "assert bpy.shape(obj_43c) == obj_43c.shape\n",
    "assert bpy.rtype(obj_43c) == ('DataFrame', 'Series', 'str')"
   ]
  },
  {
   "cell_type": "code",
   "execution_count": 44,
   "metadata": {
    "execution": {
     "iopub.execute_input": "2025-03-13T22:21:07.459944Z",
     "iopub.status.busy": "2025-03-13T22:21:07.459406Z",
     "iopub.status.idle": "2025-03-13T22:21:07.534046Z",
     "shell.execute_reply": "2025-03-13T22:21:07.532946Z",
     "shell.execute_reply.started": "2025-03-13T22:21:07.459900Z"
    }
   },
   "outputs": [
    {
     "data": {
      "text/html": [
       "<div>\n",
       "<style scoped>\n",
       "    .dataframe tbody tr th:only-of-type {\n",
       "        vertical-align: middle;\n",
       "    }\n",
       "\n",
       "    .dataframe tbody tr th {\n",
       "        vertical-align: top;\n",
       "    }\n",
       "\n",
       "    .dataframe thead th {\n",
       "        text-align: right;\n",
       "    }\n",
       "</style>\n",
       "<table border=\"1\" class=\"dataframe\">\n",
       "  <thead>\n",
       "    <tr style=\"text-align: right;\">\n",
       "      <th></th>\n",
       "      <th>0</th>\n",
       "      <th>1</th>\n",
       "    </tr>\n",
       "  </thead>\n",
       "  <tbody>\n",
       "    <tr>\n",
       "      <th>0</th>\n",
       "      <td>{'a': 1, 'b': 2}</td>\n",
       "      <td>{'c': 3, 'd': 4}</td>\n",
       "    </tr>\n",
       "    <tr>\n",
       "      <th>1</th>\n",
       "      <td>{'e': 5, 'f': 6}</td>\n",
       "      <td>{'g': 7, 'h': 8}</td>\n",
       "    </tr>\n",
       "  </tbody>\n",
       "</table>\n",
       "</div>"
      ],
      "text/plain": [
       "                  0                 1\n",
       "0  {'a': 1, 'b': 2}  {'c': 3, 'd': 4}\n",
       "1  {'e': 5, 'f': 6}  {'g': 7, 'h': 8}"
      ]
     },
     "execution_count": 44,
     "metadata": {},
     "output_type": "execute_result"
    }
   ],
   "source": [
    "data = pd.DataFrame([[{\"a\": 1, \"b\": 2}, {\"c\": 3, \"d\": 4}], [{\"e\": 5, \"f\": 6}, {\"g\": 7, \"h\": 8}]])\n",
    "data"
   ]
  },
  {
   "cell_type": "markdown",
   "metadata": {},
   "source": [
    "## memory_consumption"
   ]
  },
  {
   "cell_type": "code",
   "execution_count": 39,
   "metadata": {
    "execution": {
     "iopub.execute_input": "2025-03-13T22:08:59.641681Z",
     "iopub.status.busy": "2025-03-13T22:08:59.641355Z",
     "iopub.status.idle": "2025-03-13T22:08:59.707758Z",
     "shell.execute_reply": "2025-03-13T22:08:59.707182Z",
     "shell.execute_reply.started": "2025-03-13T22:08:59.641655Z"
    }
   },
   "outputs": [
    {
     "data": {
      "text/plain": [
       "\u001b[31mSignature:\u001b[39m bpy.memory_consumption(iteration_of_objects, limit=\u001b[32m10\u001b[39m, use_rtype=\u001b[38;5;28;01mFalse\u001b[39;00m)\n",
       "\u001b[31mDocstring:\u001b[39m\n",
       "Returns the memory consumption of Python objects.\n",
       "* iteration_of_objects: can be e.g. a DataFrame or just locals()\n",
       "* limit: Limits the output size\n",
       "* use_rtype: Use rtype instead of type?\n",
       "\n",
       "For the memory consumption of the biggest 10 local variables call:\n",
       "bpy.memory_consumption( locals() )\n",
       "\u001b[31mFile:\u001b[39m      /media/me/LinuxDropbox/Dropbox/31_Projekte/01_Python/88_PyCharm/bpyth/src/bpyth/bpyth_object_analysis.py\n",
       "\u001b[31mType:\u001b[39m      function"
      ]
     },
     "metadata": {},
     "output_type": "display_data"
    }
   ],
   "source": [
    "?bpy.memory_consumption"
   ]
  },
  {
   "cell_type": "code",
   "execution_count": 40,
   "metadata": {
    "execution": {
     "iopub.execute_input": "2025-03-13T22:08:59.708499Z",
     "iopub.status.busy": "2025-03-13T22:08:59.708286Z",
     "iopub.status.idle": "2025-03-13T22:08:59.743998Z",
     "shell.execute_reply": "2025-03-13T22:08:59.743186Z",
     "shell.execute_reply.started": "2025-03-13T22:08:59.708477Z"
    }
   },
   "outputs": [
    {
     "data": {
      "text/plain": [
       "[('Markdown', 'type', '1.7 KB'),\n",
       " ('HTML', 'type', '1.7 KB'),\n",
       " ('Stop', 'type', '936.0 B'),\n",
       " ('_i35', 'str', '671.0 B'),\n",
       " ('__', 'Series', '548.0 B'),\n",
       " ('obj_43b', 'Series', '548.0 B'),\n",
       " ('_36', 'Series', '548.0 B'),\n",
       " ('_i31', 'str', '524.0 B'),\n",
       " ('_ih', 'list', '472.0 B'),\n",
       " ('In', 'list', '472.0 B')]"
      ]
     },
     "execution_count": 40,
     "metadata": {},
     "output_type": "execute_result"
    }
   ],
   "source": [
    "bpy.memory_consumption( locals() )"
   ]
  },
  {
   "cell_type": "code",
   "execution_count": null,
   "metadata": {},
   "outputs": [],
   "source": []
  }
 ],
 "metadata": {
  "kernelspec": {
   "display_name": "Python 3 (ipykernel)",
   "language": "python",
   "name": "python3"
  },
  "language_info": {
   "codemirror_mode": {
    "name": "ipython",
    "version": 3
   },
   "file_extension": ".py",
   "mimetype": "text/x-python",
   "name": "python",
   "nbconvert_exporter": "python",
   "pygments_lexer": "ipython3",
   "version": "3.12.9"
  }
 },
 "nbformat": 4,
 "nbformat_minor": 4
}
