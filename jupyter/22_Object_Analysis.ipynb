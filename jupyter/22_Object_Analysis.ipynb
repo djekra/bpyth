{
 "cells": [
  {
   "cell_type": "markdown",
   "metadata": {},
   "source": [
    "__[Open and try this file online (Colab)](https://colab.research.google.com/github/djekra/bpyth/blob/master/jupyter/22_Object_Analysis.ipynb)__"
   ]
  },
  {
   "cell_type": "markdown",
   "metadata": {},
   "source": [
    "# bpyth Object Analysis Tools\n",
    "* `rtype`: Recursive type. Parses an n-dimensional object and returns a tuple of stype for the scalar in the top left corner.\n",
    "* `shape`: Recursive len. Parses an n-dimensional object and returns a tuple of sizes.\n",
    "* `has_shape`: Does an object have additional dimensions? (Skalars: No, Strings: No, Empty Iterables: No,\n",
    "    Other Iterables: Yes)\n",
    "* `memory_consumption`: Returns the memory consumption of Python objects."
   ]
  },
  {
   "cell_type": "code",
   "execution_count": 1,
   "metadata": {
    "execution": {
     "iopub.execute_input": "2025-03-28T16:23:59.132375Z",
     "iopub.status.busy": "2025-03-28T16:23:59.131838Z",
     "iopub.status.idle": "2025-03-28T16:24:01.570620Z",
     "shell.execute_reply": "2025-03-28T16:24:01.570067Z",
     "shell.execute_reply.started": "2025-03-28T16:23:59.132339Z"
    }
   },
   "outputs": [
    {
     "name": "stdout",
     "output_type": "stream",
     "text": [
      "blab init\n",
      "environment['in_colab']     = False\n",
      "environment['dropbox_path'] = /media/me/LinuxDropbox/Dropbox\n",
      "environment['lib_path']     = /media/me/LinuxDropbox/Dropbox/31_Projekte/01_Python/libs\n",
      "Start Time: 17:23:59\n"
     ]
    },
    {
     "data": {
      "text/html": [
       "<img src onerror=\"var cell = this.closest('.jp-CodeCell');var editor = cell.querySelector('.jp-Editor');editor.style.background='Beige';this.parentNode.removeChild(this)\">"
      ],
      "text/plain": [
       "<IPython.core.display.HTML object>"
      ]
     },
     "metadata": {},
     "output_type": "display_data"
    }
   ],
   "source": [
    "# blab init\n",
    "try:\n",
    "    import blab\n",
    "except ImportError as e:\n",
    "    !pip install blab\n",
    "    import blab    \n",
    "startup_notebook = blab.blab_startup()\n",
    "%run $startup_notebook "
   ]
  },
  {
   "cell_type": "code",
   "execution_count": 5,
   "metadata": {
    "execution": {
     "iopub.execute_input": "2025-03-28T16:24:02.845315Z",
     "iopub.status.busy": "2025-03-28T16:24:02.843839Z",
     "iopub.status.idle": "2025-03-28T16:24:02.903737Z",
     "shell.execute_reply": "2025-03-28T16:24:02.902753Z",
     "shell.execute_reply.started": "2025-03-28T16:24:02.845143Z"
    }
   },
   "outputs": [],
   "source": [
    "import bpyth as bpy"
   ]
  },
  {
   "cell_type": "markdown",
   "metadata": {},
   "source": [
    "### stype"
   ]
  },
  {
   "cell_type": "code",
   "execution_count": 6,
   "metadata": {
    "execution": {
     "iopub.execute_input": "2025-03-28T16:24:02.906174Z",
     "iopub.status.busy": "2025-03-28T16:24:02.905148Z",
     "iopub.status.idle": "2025-03-28T16:24:02.983373Z",
     "shell.execute_reply": "2025-03-28T16:24:02.982770Z",
     "shell.execute_reply.started": "2025-03-28T16:24:02.906129Z"
    }
   },
   "outputs": [
    {
     "data": {
      "text/plain": [
       "\u001b[0;31mSignature:\u001b[0m \u001b[0mbpy\u001b[0m\u001b[0;34m.\u001b[0m\u001b[0mstype\u001b[0m\u001b[0;34m(\u001b[0m\u001b[0mobj\u001b[0m\u001b[0;34m)\u001b[0m\u001b[0;34m\u001b[0m\u001b[0;34m\u001b[0m\u001b[0m\n",
       "\u001b[0;31mDocstring:\u001b[0m Returns the type as a short string\n",
       "\u001b[0;31mFile:\u001b[0m      /media/me/LinuxDropbox/Dropbox/31_Projekte/01_Python/88_PyCharm/bpyth/src/bpyth/bpyth_object_analysis.py\n",
       "\u001b[0;31mType:\u001b[0m      function"
      ]
     },
     "metadata": {},
     "output_type": "display_data"
    }
   ],
   "source": [
    "?bpy.stype"
   ]
  },
  {
   "cell_type": "code",
   "execution_count": 7,
   "metadata": {
    "execution": {
     "iopub.execute_input": "2025-03-28T16:24:02.985054Z",
     "iopub.status.busy": "2025-03-28T16:24:02.984201Z",
     "iopub.status.idle": "2025-03-28T16:24:03.003530Z",
     "shell.execute_reply": "2025-03-28T16:24:03.002691Z",
     "shell.execute_reply.started": "2025-03-28T16:24:02.984993Z"
    }
   },
   "outputs": [
    {
     "data": {
      "text/plain": [
       "'str'"
      ]
     },
     "execution_count": 7,
     "metadata": {},
     "output_type": "execute_result"
    }
   ],
   "source": [
    "bpy.stype('g')"
   ]
  },
  {
   "cell_type": "markdown",
   "metadata": {},
   "source": [
    "### rtype"
   ]
  },
  {
   "cell_type": "code",
   "execution_count": 8,
   "metadata": {
    "execution": {
     "iopub.execute_input": "2025-03-28T16:24:03.004657Z",
     "iopub.status.busy": "2025-03-28T16:24:03.004398Z",
     "iopub.status.idle": "2025-03-28T16:24:03.025517Z",
     "shell.execute_reply": "2025-03-28T16:24:03.024887Z",
     "shell.execute_reply.started": "2025-03-28T16:24:03.004635Z"
    }
   },
   "outputs": [
    {
     "data": {
      "text/plain": [
       "\u001b[0;31mSignature:\u001b[0m \u001b[0mbpy\u001b[0m\u001b[0;34m.\u001b[0m\u001b[0mrtype\u001b[0m\u001b[0;34m(\u001b[0m\u001b[0minp\u001b[0m\u001b[0;34m)\u001b[0m\u001b[0;34m\u001b[0m\u001b[0;34m\u001b[0m\u001b[0m\n",
       "\u001b[0;31mDocstring:\u001b[0m Returns the type of the input object as a tuple.\n",
       "\u001b[0;31mFile:\u001b[0m      /media/me/LinuxDropbox/Dropbox/31_Projekte/01_Python/88_PyCharm/bpyth/src/bpyth/bpyth_object_analysis.py\n",
       "\u001b[0;31mType:\u001b[0m      function"
      ]
     },
     "metadata": {},
     "output_type": "display_data"
    }
   ],
   "source": [
    "?bpy.rtype"
   ]
  },
  {
   "cell_type": "code",
   "execution_count": 9,
   "metadata": {
    "execution": {
     "iopub.execute_input": "2025-03-28T16:24:03.026557Z",
     "iopub.status.busy": "2025-03-28T16:24:03.026242Z",
     "iopub.status.idle": "2025-03-28T16:24:03.049839Z",
     "shell.execute_reply": "2025-03-28T16:24:03.048745Z",
     "shell.execute_reply.started": "2025-03-28T16:24:03.026525Z"
    }
   },
   "outputs": [
    {
     "data": {
      "text/plain": [
       "('tuple', 'list', 'int')"
      ]
     },
     "execution_count": 9,
     "metadata": {},
     "output_type": "execute_result"
    }
   ],
   "source": [
    "bpy.rtype(([1],[2],[3])) "
   ]
  },
  {
   "cell_type": "code",
   "execution_count": 10,
   "metadata": {
    "execution": {
     "iopub.execute_input": "2025-03-28T16:24:03.051616Z",
     "iopub.status.busy": "2025-03-28T16:24:03.051147Z",
     "iopub.status.idle": "2025-03-28T16:24:03.072740Z",
     "shell.execute_reply": "2025-03-28T16:24:03.071895Z",
     "shell.execute_reply.started": "2025-03-28T16:24:03.051574Z"
    }
   },
   "outputs": [
    {
     "data": {
      "text/plain": [
       "('bytes',)"
      ]
     },
     "execution_count": 10,
     "metadata": {},
     "output_type": "execute_result"
    }
   ],
   "source": [
    "bpy.rtype(b\"abc\")\n",
    "# == (\"bytes\",)"
   ]
  },
  {
   "cell_type": "code",
   "execution_count": 11,
   "metadata": {
    "execution": {
     "iopub.execute_input": "2025-03-28T16:24:03.073830Z",
     "iopub.status.busy": "2025-03-28T16:24:03.073528Z",
     "iopub.status.idle": "2025-03-28T16:24:03.098872Z",
     "shell.execute_reply": "2025-03-28T16:24:03.097929Z",
     "shell.execute_reply.started": "2025-03-28T16:24:03.073792Z"
    }
   },
   "outputs": [
    {
     "data": {
      "text/plain": [
       "('dict', 'list', 'int')"
      ]
     },
     "execution_count": 11,
     "metadata": {},
     "output_type": "execute_result"
    }
   ],
   "source": [
    "bpy.rtype({\"a\": [1, 2], \"b\": [3, 4]}) \n",
    "#== (\"dict\", \"list\")"
   ]
  },
  {
   "cell_type": "markdown",
   "metadata": {},
   "source": [
    "## has_shape"
   ]
  },
  {
   "cell_type": "code",
   "execution_count": 12,
   "metadata": {
    "execution": {
     "iopub.execute_input": "2025-03-28T16:24:03.104275Z",
     "iopub.status.busy": "2025-03-28T16:24:03.103788Z",
     "iopub.status.idle": "2025-03-28T16:24:03.123295Z",
     "shell.execute_reply": "2025-03-28T16:24:03.122507Z",
     "shell.execute_reply.started": "2025-03-28T16:24:03.104236Z"
    },
    "tags": []
   },
   "outputs": [
    {
     "data": {
      "text/plain": [
       "\u001b[0;31mSignature:\u001b[0m \u001b[0mbpy\u001b[0m\u001b[0;34m.\u001b[0m\u001b[0mhas_shape\u001b[0m\u001b[0;34m(\u001b[0m\u001b[0minputobjekt\u001b[0m\u001b[0;34m)\u001b[0m\u001b[0;34m\u001b[0m\u001b[0;34m\u001b[0m\u001b[0m\n",
       "\u001b[0;31mDocstring:\u001b[0m\n",
       "Does an object have additional dimensions?\n",
       "Skalars: No\n",
       "Strings: No (per definition)    \n",
       "Empty Iterables: No (per definition)    \n",
       "Other Iterables: Yes\n",
       "\u001b[0;31mFile:\u001b[0m      /media/me/LinuxDropbox/Dropbox/31_Projekte/01_Python/88_PyCharm/bpyth/src/bpyth/bpyth_object_analysis.py\n",
       "\u001b[0;31mType:\u001b[0m      function"
      ]
     },
     "metadata": {},
     "output_type": "display_data"
    }
   ],
   "source": [
    "?bpy.has_shape"
   ]
  },
  {
   "cell_type": "code",
   "execution_count": 13,
   "metadata": {
    "execution": {
     "iopub.execute_input": "2025-03-28T16:24:03.124434Z",
     "iopub.status.busy": "2025-03-28T16:24:03.124147Z",
     "iopub.status.idle": "2025-03-28T16:24:03.144895Z",
     "shell.execute_reply": "2025-03-28T16:24:03.144245Z",
     "shell.execute_reply.started": "2025-03-28T16:24:03.124404Z"
    }
   },
   "outputs": [],
   "source": [
    "assert bpy.has_shape(list('abc'))\n",
    "assert bpy.has_shape((1,2))"
   ]
  },
  {
   "cell_type": "code",
   "execution_count": 14,
   "metadata": {
    "execution": {
     "iopub.execute_input": "2025-03-28T16:24:03.146404Z",
     "iopub.status.busy": "2025-03-28T16:24:03.145876Z",
     "iopub.status.idle": "2025-03-28T16:24:03.171319Z",
     "shell.execute_reply": "2025-03-28T16:24:03.170591Z",
     "shell.execute_reply.started": "2025-03-28T16:24:03.146361Z"
    }
   },
   "outputs": [],
   "source": [
    "assert not bpy.has_shape([])\n",
    "assert not bpy.has_shape(1)\n",
    "assert not bpy.has_shape('abc')\n",
    "assert not bpy.has_shape(None)"
   ]
  },
  {
   "cell_type": "markdown",
   "metadata": {},
   "source": [
    "## rtype and shape of pure python objects"
   ]
  },
  {
   "cell_type": "code",
   "execution_count": 15,
   "metadata": {
    "execution": {
     "iopub.execute_input": "2025-03-28T16:24:03.172598Z",
     "iopub.status.busy": "2025-03-28T16:24:03.172207Z",
     "iopub.status.idle": "2025-03-28T16:24:03.193002Z",
     "shell.execute_reply": "2025-03-28T16:24:03.192460Z",
     "shell.execute_reply.started": "2025-03-28T16:24:03.172559Z"
    },
    "tags": []
   },
   "outputs": [
    {
     "data": {
      "text/plain": [
       "\u001b[0;31mSignature:\u001b[0m \u001b[0mbpy\u001b[0m\u001b[0;34m.\u001b[0m\u001b[0mshape\u001b[0m\u001b[0;34m(\u001b[0m\u001b[0mobj\u001b[0m\u001b[0;34m)\u001b[0m\u001b[0;34m\u001b[0m\u001b[0;34m\u001b[0m\u001b[0m\n",
       "\u001b[0;31mDocstring:\u001b[0m\n",
       "Recursive len. Parses an n-dimensional object and returns a tuple of sizes.\n",
       "Caution: only a single scalar is found. A heterogeneous data structure cannot be parsed meaningfully.     \n",
       "\u001b[0;31mFile:\u001b[0m      /media/me/LinuxDropbox/Dropbox/31_Projekte/01_Python/88_PyCharm/bpyth/src/bpyth/bpyth_object_analysis.py\n",
       "\u001b[0;31mType:\u001b[0m      function"
      ]
     },
     "metadata": {},
     "output_type": "display_data"
    }
   ],
   "source": [
    "?bpy.shape"
   ]
  },
  {
   "cell_type": "code",
   "execution_count": 16,
   "metadata": {
    "execution": {
     "iopub.execute_input": "2025-03-28T16:24:03.194311Z",
     "iopub.status.busy": "2025-03-28T16:24:03.193841Z",
     "iopub.status.idle": "2025-03-28T16:24:03.218509Z",
     "shell.execute_reply": "2025-03-28T16:24:03.217660Z",
     "shell.execute_reply.started": "2025-03-28T16:24:03.194268Z"
    },
    "tags": []
   },
   "outputs": [
    {
     "data": {
      "text/plain": [
       "\u001b[0;31mSignature:\u001b[0m \u001b[0mbpy\u001b[0m\u001b[0;34m.\u001b[0m\u001b[0mrtype\u001b[0m\u001b[0;34m(\u001b[0m\u001b[0minp\u001b[0m\u001b[0;34m)\u001b[0m\u001b[0;34m\u001b[0m\u001b[0;34m\u001b[0m\u001b[0m\n",
       "\u001b[0;31mDocstring:\u001b[0m Returns the type of the input object as a tuple.\n",
       "\u001b[0;31mFile:\u001b[0m      /media/me/LinuxDropbox/Dropbox/31_Projekte/01_Python/88_PyCharm/bpyth/src/bpyth/bpyth_object_analysis.py\n",
       "\u001b[0;31mType:\u001b[0m      function"
      ]
     },
     "metadata": {},
     "output_type": "display_data"
    }
   ],
   "source": [
    "?bpy.rtype"
   ]
  },
  {
   "cell_type": "code",
   "execution_count": 17,
   "metadata": {
    "execution": {
     "iopub.execute_input": "2025-03-28T16:24:03.219911Z",
     "iopub.status.busy": "2025-03-28T16:24:03.219479Z",
     "iopub.status.idle": "2025-03-28T16:24:03.244024Z",
     "shell.execute_reply": "2025-03-28T16:24:03.243435Z",
     "shell.execute_reply.started": "2025-03-28T16:24:03.219884Z"
    }
   },
   "outputs": [],
   "source": [
    "# 0 Dimensionen\n",
    "assert bpy.shape('jjj' ) == tuple()\n",
    "assert bpy.shape(123)    == tuple()\n",
    "assert bpy.shape(None)   == tuple()\n",
    "assert bpy.shape([])     == tuple()\n",
    "assert bpy.shape({})     == tuple()"
   ]
  },
  {
   "cell_type": "code",
   "execution_count": 18,
   "metadata": {
    "execution": {
     "iopub.execute_input": "2025-03-28T16:24:03.245411Z",
     "iopub.status.busy": "2025-03-28T16:24:03.244946Z",
     "iopub.status.idle": "2025-03-28T16:24:03.275654Z",
     "shell.execute_reply": "2025-03-28T16:24:03.275008Z",
     "shell.execute_reply.started": "2025-03-28T16:24:03.245369Z"
    }
   },
   "outputs": [],
   "source": [
    "# 0 Dimensionen\n",
    "assert bpy.rtype(123)    == ('int',)\n",
    "assert bpy.rtype(None)   == ('NoneType',)\n",
    "assert bpy.rtype([])     == ('list',)\n",
    "assert bpy.rtype({})     == ('dict',)\n",
    "assert bpy.rtype('jjj' ) == ('str',)"
   ]
  },
  {
   "cell_type": "code",
   "execution_count": 19,
   "metadata": {
    "execution": {
     "iopub.execute_input": "2025-03-28T16:24:03.277000Z",
     "iopub.status.busy": "2025-03-28T16:24:03.276539Z",
     "iopub.status.idle": "2025-03-28T16:24:03.299072Z",
     "shell.execute_reply": "2025-03-28T16:24:03.298210Z",
     "shell.execute_reply.started": "2025-03-28T16:24:03.276965Z"
    }
   },
   "outputs": [],
   "source": [
    "# 1 Dimension\n",
    "obj_4 = ( 'abcde', 'grfer', 'btjqw', 'bqwer' )\n",
    "assert bpy.shape(obj_4) == (4,)\n",
    "assert bpy.rtype(obj_4) == ('tuple', 'str')"
   ]
  },
  {
   "cell_type": "code",
   "execution_count": 20,
   "metadata": {
    "execution": {
     "iopub.execute_input": "2025-03-28T16:24:03.300312Z",
     "iopub.status.busy": "2025-03-28T16:24:03.299963Z",
     "iopub.status.idle": "2025-03-28T16:24:03.327970Z",
     "shell.execute_reply": "2025-03-28T16:24:03.327369Z",
     "shell.execute_reply.started": "2025-03-28T16:24:03.300279Z"
    }
   },
   "outputs": [],
   "source": [
    "# shit \n",
    "obj_shit = [[]]\n",
    "assert bpy.shape(obj_shit) == (1,)\n",
    "assert bpy.rtype(obj_shit) == ('list', 'list')"
   ]
  },
  {
   "cell_type": "code",
   "execution_count": 21,
   "metadata": {
    "execution": {
     "iopub.execute_input": "2025-03-28T16:24:03.329063Z",
     "iopub.status.busy": "2025-03-28T16:24:03.328828Z",
     "iopub.status.idle": "2025-03-28T16:24:03.357358Z",
     "shell.execute_reply": "2025-03-28T16:24:03.356652Z",
     "shell.execute_reply.started": "2025-03-28T16:24:03.329043Z"
    }
   },
   "outputs": [],
   "source": [
    "# shit\n",
    "obj_shit = [[1]]\n",
    "assert bpy.shape(obj_shit) == (1,1)\n",
    "assert bpy.rtype(obj_shit) == ('list', 'list','int')"
   ]
  },
  {
   "cell_type": "code",
   "execution_count": 22,
   "metadata": {
    "execution": {
     "iopub.execute_input": "2025-03-28T16:24:03.358461Z",
     "iopub.status.busy": "2025-03-28T16:24:03.358212Z",
     "iopub.status.idle": "2025-03-28T16:24:03.381914Z",
     "shell.execute_reply": "2025-03-28T16:24:03.381117Z",
     "shell.execute_reply.started": "2025-03-28T16:24:03.358436Z"
    }
   },
   "outputs": [],
   "source": [
    "# 1 Dimension, heterogener Inhalt: Nur das erste Element wird untersucht!\n",
    "obj_3 = ( 'ICH WERDE UNTERSUCHT', -77, -99 )\n",
    "assert bpy.shape(obj_3) == (3,)\n",
    "assert bpy.rtype(obj_3) == ('tuple', 'str')"
   ]
  },
  {
   "cell_type": "code",
   "execution_count": 23,
   "metadata": {
    "execution": {
     "iopub.execute_input": "2025-03-28T16:24:03.383217Z",
     "iopub.status.busy": "2025-03-28T16:24:03.382835Z",
     "iopub.status.idle": "2025-03-28T16:24:03.409425Z",
     "shell.execute_reply": "2025-03-28T16:24:03.408783Z",
     "shell.execute_reply.started": "2025-03-28T16:24:03.383176Z"
    }
   },
   "outputs": [],
   "source": [
    "# 2 Dimensionen\n",
    "obj_43 = [[1,2,3],[4,5,6], [7, 8, 9], [10, 11, 12]]\n",
    "assert bpy.shape(obj_43) == (4,3)\n",
    "assert bpy.shape(tuple(obj_43)) == (4,3)\n",
    "assert bpy.rtype(obj_43) == ('list', 'list', 'int')"
   ]
  },
  {
   "cell_type": "code",
   "execution_count": 24,
   "metadata": {
    "execution": {
     "iopub.execute_input": "2025-03-28T16:24:03.410582Z",
     "iopub.status.busy": "2025-03-28T16:24:03.410253Z",
     "iopub.status.idle": "2025-03-28T16:24:03.442544Z",
     "shell.execute_reply": "2025-03-28T16:24:03.441803Z",
     "shell.execute_reply.started": "2025-03-28T16:24:03.410548Z"
    }
   },
   "outputs": [],
   "source": [
    "# 3 Dimensionen\n",
    "obj_533 = [\n",
    "    [[0, 0, 0], [1, 1, 1], [2, 2, 2]],\n",
    "    [[0, 0, 0], [1, 1, 1], [2, 2, 2]],\n",
    "    [[0, 0, 0], [1, 1, 1], [2, 2, 2]],\n",
    "    [[0, 0, 0], [1, 1, 1], [2, 2, 2]],\n",
    "    [[0, 0, 0], [1, 1, 1], [2, 2, 2]],\n",
    "]\n",
    "assert bpy.shape(obj_533) == (5, 3, 3)\n",
    "assert bpy.rtype(obj_533) == ('list', 'list', 'list', 'int')"
   ]
  },
  {
   "cell_type": "code",
   "execution_count": 25,
   "metadata": {
    "execution": {
     "iopub.execute_input": "2025-03-28T16:24:03.443522Z",
     "iopub.status.busy": "2025-03-28T16:24:03.443238Z",
     "iopub.status.idle": "2025-03-28T16:24:03.468935Z",
     "shell.execute_reply": "2025-03-28T16:24:03.467658Z",
     "shell.execute_reply.started": "2025-03-28T16:24:03.443500Z"
    }
   },
   "outputs": [],
   "source": [
    "# Anderer Datentyp\n",
    "obj_45 = [ list('abcde'), list('grfer'), list('btjqw'), list('bqwer') ]\n",
    "assert bpy.shape(obj_45) == (4,5)\n",
    "assert bpy.rtype(obj_45) == ('list', 'list', 'str')"
   ]
  },
  {
   "cell_type": "code",
   "execution_count": 26,
   "metadata": {
    "execution": {
     "iopub.execute_input": "2025-03-28T16:24:03.470305Z",
     "iopub.status.busy": "2025-03-28T16:24:03.469893Z",
     "iopub.status.idle": "2025-03-28T16:24:03.507483Z",
     "shell.execute_reply": "2025-03-28T16:24:03.506224Z",
     "shell.execute_reply.started": "2025-03-28T16:24:03.470262Z"
    }
   },
   "outputs": [],
   "source": [
    "# 2 Dimensionen mit leeren Listen\n",
    "obj_53 = [\n",
    "    [[], [], []],\n",
    "    [[], [], []],\n",
    "    [[], [], []],\n",
    "    [[], [], []],\n",
    "    [[], [], []],\n",
    "]\n",
    "assert bpy.shape(obj_53) == (5,3)\n",
    "assert bpy.rtype(obj_53) == ('list', 'list', 'list')"
   ]
  },
  {
   "cell_type": "code",
   "execution_count": 27,
   "metadata": {
    "execution": {
     "iopub.execute_input": "2025-03-28T16:24:03.509289Z",
     "iopub.status.busy": "2025-03-28T16:24:03.508680Z",
     "iopub.status.idle": "2025-03-28T16:24:03.542966Z",
     "shell.execute_reply": "2025-03-28T16:24:03.542365Z",
     "shell.execute_reply.started": "2025-03-28T16:24:03.509243Z"
    }
   },
   "outputs": [],
   "source": [
    "dict_3 = {'A': 1,\n",
    "          'B': 2,\n",
    "          'C': 3,              \n",
    "               }\n",
    "\n",
    "assert bpy.shape(dict_3) == (3,)\n",
    "assert bpy.rtype(dict_3) == ('dict', 'int')"
   ]
  },
  {
   "cell_type": "code",
   "execution_count": 28,
   "metadata": {
    "execution": {
     "iopub.execute_input": "2025-03-28T16:24:03.544343Z",
     "iopub.status.busy": "2025-03-28T16:24:03.543809Z",
     "iopub.status.idle": "2025-03-28T16:24:03.568649Z",
     "shell.execute_reply": "2025-03-28T16:24:03.567755Z",
     "shell.execute_reply.started": "2025-03-28T16:24:03.544316Z"
    }
   },
   "outputs": [],
   "source": [
    "dict_54 = {'A': [1,4,5,6],\n",
    "           'B': [2,4,5,6],\n",
    "           'C': [3,4,0,9],\n",
    "           'D': [4,4,5,9],\n",
    "           'E': [5,4,5,6],                \n",
    "               }\n",
    "assert bpy.shape(dict_54) == (5,4)\n",
    "assert bpy.rtype(dict_54) == ('dict', 'list', 'int')"
   ]
  },
  {
   "cell_type": "code",
   "execution_count": 29,
   "metadata": {
    "execution": {
     "iopub.execute_input": "2025-03-28T16:24:03.570172Z",
     "iopub.status.busy": "2025-03-28T16:24:03.569739Z",
     "iopub.status.idle": "2025-03-28T16:24:03.594273Z",
     "shell.execute_reply": "2025-03-28T16:24:03.593650Z",
     "shell.execute_reply.started": "2025-03-28T16:24:03.570150Z"
    }
   },
   "outputs": [],
   "source": [
    "dict_54b = {'A': (1,4,5,6),\n",
    "            'B': (2,4,5,6),\n",
    "            'C': (3,4,0,9),\n",
    "            'D': (4,4,5,9),\n",
    "            'E': (5,4,5,6),                \n",
    "               }\n",
    "assert bpy.shape(dict_54b) == (5,4)\n",
    "assert bpy.rtype(dict_54b) == ('dict', 'tuple', 'int')"
   ]
  },
  {
   "cell_type": "code",
   "execution_count": 30,
   "metadata": {
    "execution": {
     "iopub.execute_input": "2025-03-28T16:24:03.595473Z",
     "iopub.status.busy": "2025-03-28T16:24:03.595196Z",
     "iopub.status.idle": "2025-03-28T16:24:03.622251Z",
     "shell.execute_reply": "2025-03-28T16:24:03.621385Z",
     "shell.execute_reply.started": "2025-03-28T16:24:03.595447Z"
    }
   },
   "outputs": [],
   "source": [
    "dict_32 = {'A': ((),(),),\n",
    "           'B': ((),(),),    \n",
    "           'C': ((),(),),                \n",
    "               }\n",
    "assert bpy.shape(dict_32) == (3,2)\n",
    "assert bpy.rtype(dict_32) == ('dict', 'tuple', 'tuple')"
   ]
  },
  {
   "cell_type": "markdown",
   "metadata": {},
   "source": [
    "## rtype and shape of pandas and numpy objects"
   ]
  },
  {
   "cell_type": "code",
   "execution_count": 31,
   "metadata": {
    "execution": {
     "iopub.execute_input": "2025-03-28T16:24:03.623586Z",
     "iopub.status.busy": "2025-03-28T16:24:03.623147Z",
     "iopub.status.idle": "2025-03-28T16:24:03.641801Z",
     "shell.execute_reply": "2025-03-28T16:24:03.641187Z",
     "shell.execute_reply.started": "2025-03-28T16:24:03.623561Z"
    }
   },
   "outputs": [],
   "source": [
    "try:\n",
    "    import pandas     as pd \n",
    "    import numpy      as np\n",
    "except:    \n",
    "    print('pandas not installed')\n",
    "    raise Stop"
   ]
  },
  {
   "cell_type": "code",
   "execution_count": 32,
   "metadata": {
    "execution": {
     "iopub.execute_input": "2025-03-28T16:24:03.643048Z",
     "iopub.status.busy": "2025-03-28T16:24:03.642641Z",
     "iopub.status.idle": "2025-03-28T16:24:03.679073Z",
     "shell.execute_reply": "2025-03-28T16:24:03.678343Z",
     "shell.execute_reply.started": "2025-03-28T16:24:03.643001Z"
    }
   },
   "outputs": [],
   "source": [
    "# 0 Dimensionen\n",
    "assert bpy.shape( np.array([]) )               == tuple()\n",
    "assert bpy.shape( pd.Series(dtype='float64') ) == tuple()\n",
    "assert bpy.shape( pd.DataFrame() )             == tuple()\n",
    "assert bpy.shape( pd.DataFrame([]) )           == tuple()\n",
    "assert bpy.shape( pd.DataFrame([[]]) )         == tuple()"
   ]
  },
  {
   "cell_type": "code",
   "execution_count": 33,
   "metadata": {
    "execution": {
     "iopub.execute_input": "2025-03-28T16:24:03.680380Z",
     "iopub.status.busy": "2025-03-28T16:24:03.679987Z",
     "iopub.status.idle": "2025-03-28T16:24:03.713561Z",
     "shell.execute_reply": "2025-03-28T16:24:03.712767Z",
     "shell.execute_reply.started": "2025-03-28T16:24:03.680344Z"
    }
   },
   "outputs": [],
   "source": [
    "# 0 Dimensionen\n",
    "assert bpy.rtype( np.array([]) )               == ('ndarray',)\n",
    "assert bpy.rtype( pd.Series(dtype='float64') ) == ('Series',)\n",
    "assert bpy.rtype( pd.DataFrame() )             == ('DataFrame',)\n",
    "assert bpy.rtype( pd.DataFrame([]) )           == ('DataFrame',)\n",
    "assert bpy.rtype( pd.DataFrame([[]]) )         == ('DataFrame',)"
   ]
  },
  {
   "cell_type": "code",
   "execution_count": 34,
   "metadata": {
    "execution": {
     "iopub.execute_input": "2025-03-28T16:24:03.714875Z",
     "iopub.status.busy": "2025-03-28T16:24:03.714548Z",
     "iopub.status.idle": "2025-03-28T16:24:03.749625Z",
     "shell.execute_reply": "2025-03-28T16:24:03.748798Z",
     "shell.execute_reply.started": "2025-03-28T16:24:03.714840Z"
    }
   },
   "outputs": [],
   "source": [
    "# 1 Dimensionen\n",
    "assert bpy.rtype( np.array(['a']) )                == ('ndarray','str')\n",
    "try:\n",
    "    assert bpy.rtype( np.array([1]) )              == ('ndarray','int')\n",
    "except:\n",
    "    assert bpy.rtype( np.array([1]) )              == ('ndarray','int')\n",
    "assert bpy.rtype( pd.Series([1],dtype='float64') ) == ('Series','float')\n",
    "assert bpy.rtype( pd.DataFrame(['a']) )            == ('DataFrame','Series','str')\n",
    "assert bpy.rtype( pd.DataFrame([['a']]) )          == ('DataFrame','Series','str')"
   ]
  },
  {
   "cell_type": "code",
   "execution_count": 35,
   "metadata": {
    "execution": {
     "iopub.execute_input": "2025-03-28T16:24:03.750898Z",
     "iopub.status.busy": "2025-03-28T16:24:03.750551Z",
     "iopub.status.idle": "2025-03-28T16:24:03.773556Z",
     "shell.execute_reply": "2025-03-28T16:24:03.772916Z",
     "shell.execute_reply.started": "2025-03-28T16:24:03.750869Z"
    }
   },
   "outputs": [],
   "source": [
    "# 2 Dimensionen, dict mit np.array\n",
    "dict_24 = { 'Zeile0': np.array([3] * 4, dtype='int32'),\n",
    "            'Zeile1': np.array([4] * 4, dtype='int32') }\n",
    "\n",
    "assert bpy.shape(dict_24) == (2,4)\n",
    "assert bpy.rtype(dict_24) == ('dict', 'ndarray', 'int')"
   ]
  },
  {
   "cell_type": "code",
   "execution_count": 36,
   "metadata": {
    "execution": {
     "iopub.execute_input": "2025-03-28T16:24:03.774723Z",
     "iopub.status.busy": "2025-03-28T16:24:03.774341Z",
     "iopub.status.idle": "2025-03-28T16:24:03.804624Z",
     "shell.execute_reply": "2025-03-28T16:24:03.804085Z",
     "shell.execute_reply.started": "2025-03-28T16:24:03.774691Z"
    }
   },
   "outputs": [],
   "source": [
    "# Einzeiliges dict mit pd.Categorical\n",
    "dict_14 = { 'Zeile1': pd.Categorical([\"test\", \"train\", \"test\", \"train\"]) }\n",
    "\n",
    "assert bpy.shape(dict_14) == (1,4)\n",
    "assert bpy.rtype(dict_14) == ('dict', 'Categorical', 'str')"
   ]
  },
  {
   "cell_type": "code",
   "execution_count": 37,
   "metadata": {
    "execution": {
     "iopub.execute_input": "2025-03-28T16:24:03.806270Z",
     "iopub.status.busy": "2025-03-28T16:24:03.805429Z",
     "iopub.status.idle": "2025-03-28T16:24:04.023191Z",
     "shell.execute_reply": "2025-03-28T16:24:04.020333Z",
     "shell.execute_reply.started": "2025-03-28T16:24:03.806234Z"
    }
   },
   "outputs": [
    {
     "ename": "ModuleNotFoundError",
     "evalue": "No module named 'pandasklar'",
     "output_type": "error",
     "traceback": [
      "\u001b[0;31m---------------------------------------------------------------------------\u001b[0m",
      "\u001b[0;31mModuleNotFoundError\u001b[0m                       Traceback (most recent call last)",
      "Cell \u001b[0;32mIn[37], line 1\u001b[0m\n\u001b[0;32m----> 1\u001b[0m \u001b[38;5;28;01mimport\u001b[39;00m\u001b[38;5;250m \u001b[39m\u001b[38;5;21;01mpandasklar\u001b[39;00m\u001b[38;5;250m \u001b[39m\u001b[38;5;28;01mas\u001b[39;00m\u001b[38;5;250m \u001b[39m\u001b[38;5;21;01mpak\u001b[39;00m \n",
      "\u001b[0;31mModuleNotFoundError\u001b[0m: No module named 'pandasklar'"
     ]
    }
   ],
   "source": [
    "import pandasklar as pak "
   ]
  },
  {
   "cell_type": "code",
   "execution_count": null,
   "metadata": {
    "execution": {
     "iopub.status.busy": "2025-03-28T16:24:04.023853Z",
     "iopub.status.idle": "2025-03-28T16:24:04.024414Z",
     "shell.execute_reply": "2025-03-28T16:24:04.024151Z",
     "shell.execute_reply.started": "2025-03-28T16:24:04.024126Z"
    }
   },
   "outputs": [],
   "source": [
    "# list of Series mit Random Inhalt\n",
    "obj = 0\n",
    "for typ in list('isncf'):\n",
    "    obj = [ pak.random_series( 3, typ), \n",
    "            pak.random_series( 3, typ) ]\n",
    "    print(bpy.rtype(obj))\n",
    "    assert bpy.shape(obj) == (2, 3)\n",
    "assert bpy.rtype(obj) == ('list', 'Series', 'float') # ´hier wird nur der letze Wert getestet"
   ]
  },
  {
   "cell_type": "code",
   "execution_count": null,
   "metadata": {
    "execution": {
     "iopub.status.busy": "2025-03-28T16:24:04.025730Z",
     "iopub.status.idle": "2025-03-28T16:24:04.026323Z",
     "shell.execute_reply": "2025-03-28T16:24:04.026110Z",
     "shell.execute_reply.started": "2025-03-28T16:24:04.026084Z"
    }
   },
   "outputs": [],
   "source": [
    "# Series of lists of int\n",
    "obj_43 = [[1,2,3],[4,5,6], [7, 8, 9], [10, 11, 12]]\n",
    "obj_43b = pd.Series(obj_43)\n",
    "assert bpy.shape(obj_43b) == (4,3)\n",
    "assert bpy.rtype(obj_43b) == ('Series', 'list', 'int')\n",
    "obj_43b"
   ]
  },
  {
   "cell_type": "code",
   "execution_count": null,
   "metadata": {
    "execution": {
     "iopub.status.busy": "2025-03-28T16:24:04.027118Z",
     "iopub.status.idle": "2025-03-28T16:24:04.027460Z",
     "shell.execute_reply": "2025-03-28T16:24:04.027309Z",
     "shell.execute_reply.started": "2025-03-28T16:24:04.027292Z"
    }
   },
   "outputs": [],
   "source": [
    "bpy.rtype(obj_43b)"
   ]
  },
  {
   "cell_type": "code",
   "execution_count": null,
   "metadata": {
    "execution": {
     "iopub.status.busy": "2025-03-28T16:24:04.028487Z",
     "iopub.status.idle": "2025-03-28T16:24:04.028769Z",
     "shell.execute_reply": "2025-03-28T16:24:04.028646Z",
     "shell.execute_reply.started": "2025-03-28T16:24:04.028634Z"
    }
   },
   "outputs": [],
   "source": [
    "# Normales DataFrame mit heterogenen Spalten\n",
    "obj_43 = [['a',2,3.0],['b',5,6.0], ['c', 8, 9.0], ['d', 11, 12.0]]\n",
    "obj_43c = pd.DataFrame(obj_43)\n",
    "assert bpy.shape(obj_43c) == (4,3)\n",
    "assert bpy.shape(obj_43c) == obj_43c.shape\n",
    "assert bpy.rtype(obj_43c) == ('DataFrame', 'Series', 'str')"
   ]
  },
  {
   "cell_type": "code",
   "execution_count": null,
   "metadata": {
    "execution": {
     "iopub.status.busy": "2025-03-28T16:24:04.030715Z",
     "iopub.status.idle": "2025-03-28T16:24:04.031700Z",
     "shell.execute_reply": "2025-03-28T16:24:04.031418Z",
     "shell.execute_reply.started": "2025-03-28T16:24:04.031383Z"
    }
   },
   "outputs": [],
   "source": [
    "data = pd.DataFrame([[{\"a\": 1, \"b\": 2}, {\"c\": 3, \"d\": 4}], [{\"e\": 5, \"f\": 6}, {\"g\": 7, \"h\": 8}]])\n",
    "data"
   ]
  },
  {
   "cell_type": "markdown",
   "metadata": {},
   "source": [
    "## memory_consumption"
   ]
  },
  {
   "cell_type": "code",
   "execution_count": null,
   "metadata": {
    "execution": {
     "iopub.status.busy": "2025-03-28T16:24:04.032973Z",
     "iopub.status.idle": "2025-03-28T16:24:04.033550Z",
     "shell.execute_reply": "2025-03-28T16:24:04.033290Z",
     "shell.execute_reply.started": "2025-03-28T16:24:04.033264Z"
    }
   },
   "outputs": [],
   "source": [
    "?bpy.memory_consumption"
   ]
  },
  {
   "cell_type": "code",
   "execution_count": null,
   "metadata": {
    "execution": {
     "iopub.status.busy": "2025-03-28T16:24:04.034689Z",
     "iopub.status.idle": "2025-03-28T16:24:04.035248Z",
     "shell.execute_reply": "2025-03-28T16:24:04.034985Z",
     "shell.execute_reply.started": "2025-03-28T16:24:04.034959Z"
    }
   },
   "outputs": [],
   "source": [
    "bpy.memory_consumption( locals() )"
   ]
  },
  {
   "cell_type": "markdown",
   "metadata": {},
   "source": [
    "## has_no_content"
   ]
  },
  {
   "cell_type": "code",
   "execution_count": 38,
   "metadata": {
    "execution": {
     "iopub.execute_input": "2025-03-28T16:25:21.198878Z",
     "iopub.status.busy": "2025-03-28T16:25:21.198505Z",
     "iopub.status.idle": "2025-03-28T16:25:21.223512Z",
     "shell.execute_reply": "2025-03-28T16:25:21.222176Z",
     "shell.execute_reply.started": "2025-03-28T16:25:21.198840Z"
    }
   },
   "outputs": [
    {
     "data": {
      "text/plain": [
       "\u001b[0;31mSignature:\u001b[0m \u001b[0mbpy\u001b[0m\u001b[0;34m.\u001b[0m\u001b[0mhas_no_content\u001b[0m\u001b[0;34m(\u001b[0m\u001b[0mobj\u001b[0m\u001b[0;34m)\u001b[0m\u001b[0;34m\u001b[0m\u001b[0;34m\u001b[0m\u001b[0m\n",
       "\u001b[0;31mDocstring:\u001b[0m\n",
       "Recursively checks if an object contains any scalar values.\n",
       "An object is considered empty if it contains no scalars (e.g., int, float, str, etc.)\n",
       "anywhere in its *values* (not keys).\n",
       "\u001b[0;31mFile:\u001b[0m      /media/me/LinuxDropbox/Dropbox/31_Projekte/01_Python/88_PyCharm/bpyth/src/bpyth/bpyth_object_analysis.py\n",
       "\u001b[0;31mType:\u001b[0m      function"
      ]
     },
     "metadata": {},
     "output_type": "display_data"
    }
   ],
   "source": [
    "?bpy.has_no_content"
   ]
  },
  {
   "cell_type": "code",
   "execution_count": 45,
   "metadata": {
    "execution": {
     "iopub.execute_input": "2025-03-28T16:26:29.461415Z",
     "iopub.status.busy": "2025-03-28T16:26:29.461061Z",
     "iopub.status.idle": "2025-03-28T16:26:29.484455Z",
     "shell.execute_reply": "2025-03-28T16:26:29.482857Z",
     "shell.execute_reply.started": "2025-03-28T16:26:29.461388Z"
    }
   },
   "outputs": [
    {
     "data": {
      "text/plain": [
       "True"
      ]
     },
     "execution_count": 45,
     "metadata": {},
     "output_type": "execute_result"
    }
   ],
   "source": [
    "bpy.has_no_content([[[]], [[], []]])"
   ]
  },
  {
   "cell_type": "code",
   "execution_count": 46,
   "metadata": {
    "execution": {
     "iopub.execute_input": "2025-03-28T16:27:52.125100Z",
     "iopub.status.busy": "2025-03-28T16:27:52.124227Z",
     "iopub.status.idle": "2025-03-28T16:27:52.182981Z",
     "shell.execute_reply": "2025-03-28T16:27:52.181682Z",
     "shell.execute_reply.started": "2025-03-28T16:27:52.125002Z"
    }
   },
   "outputs": [
    {
     "data": {
      "text/plain": [
       "True"
      ]
     },
     "execution_count": 46,
     "metadata": {},
     "output_type": "execute_result"
    }
   ],
   "source": [
    "bpy.has_no_content({1: (), 2: {3:[], 4:[]}})"
   ]
  },
  {
   "cell_type": "code",
   "execution_count": 47,
   "metadata": {
    "execution": {
     "iopub.execute_input": "2025-03-28T16:28:22.318743Z",
     "iopub.status.busy": "2025-03-28T16:28:22.316748Z",
     "iopub.status.idle": "2025-03-28T16:28:22.390813Z",
     "shell.execute_reply": "2025-03-28T16:28:22.389440Z",
     "shell.execute_reply.started": "2025-03-28T16:28:22.318606Z"
    }
   },
   "outputs": [
    {
     "data": {
      "text/plain": [
       "False"
      ]
     },
     "execution_count": 47,
     "metadata": {},
     "output_type": "execute_result"
    }
   ],
   "source": [
    "bpy.has_no_content({1: (), 2: {3:1}}) "
   ]
  },
  {
   "cell_type": "code",
   "execution_count": 64,
   "metadata": {
    "execution": {
     "iopub.execute_input": "2025-03-28T16:45:14.132830Z",
     "iopub.status.busy": "2025-03-28T16:45:14.131391Z",
     "iopub.status.idle": "2025-03-28T16:45:14.203219Z",
     "shell.execute_reply": "2025-03-28T16:45:14.201673Z",
     "shell.execute_reply.started": "2025-03-28T16:45:14.132701Z"
    }
   },
   "outputs": [],
   "source": [
    "inp = ({(): [1], (): {}})"
   ]
  },
  {
   "cell_type": "code",
   "execution_count": 62,
   "metadata": {
    "execution": {
     "iopub.execute_input": "2025-03-28T16:45:04.788445Z",
     "iopub.status.busy": "2025-03-28T16:45:04.786365Z",
     "iopub.status.idle": "2025-03-28T16:45:04.848296Z",
     "shell.execute_reply": "2025-03-28T16:45:04.846486Z",
     "shell.execute_reply.started": "2025-03-28T16:45:04.788346Z"
    }
   },
   "outputs": [
    {
     "data": {
      "text/plain": [
       "True"
      ]
     },
     "execution_count": 62,
     "metadata": {},
     "output_type": "execute_result"
    }
   ],
   "source": [
    "bpy.has_no_content(inp)"
   ]
  },
  {
   "cell_type": "code",
   "execution_count": 65,
   "metadata": {
    "execution": {
     "iopub.execute_input": "2025-03-28T16:45:18.609074Z",
     "iopub.status.busy": "2025-03-28T16:45:18.606520Z",
     "iopub.status.idle": "2025-03-28T16:45:18.666694Z",
     "shell.execute_reply": "2025-03-28T16:45:18.665118Z",
     "shell.execute_reply.started": "2025-03-28T16:45:18.608890Z"
    }
   },
   "outputs": [
    {
     "data": {
      "text/plain": [
       "{(): {}}"
      ]
     },
     "execution_count": 65,
     "metadata": {},
     "output_type": "execute_result"
    }
   ],
   "source": [
    "inp"
   ]
  },
  {
   "cell_type": "code",
   "execution_count": 59,
   "metadata": {
    "execution": {
     "iopub.execute_input": "2025-03-28T16:44:34.529725Z",
     "iopub.status.busy": "2025-03-28T16:44:34.527910Z",
     "iopub.status.idle": "2025-03-28T16:44:34.581041Z",
     "shell.execute_reply": "2025-03-28T16:44:34.579868Z",
     "shell.execute_reply.started": "2025-03-28T16:44:34.529625Z"
    }
   },
   "outputs": [
    {
     "data": {
      "text/plain": [
       "[{}]"
      ]
     },
     "execution_count": 59,
     "metadata": {},
     "output_type": "execute_result"
    }
   ],
   "source": [
    "[v for v in inp.values()]"
   ]
  },
  {
   "cell_type": "code",
   "execution_count": 56,
   "metadata": {
    "execution": {
     "iopub.execute_input": "2025-03-28T16:43:22.729999Z",
     "iopub.status.busy": "2025-03-28T16:43:22.728012Z",
     "iopub.status.idle": "2025-03-28T16:43:22.787670Z",
     "shell.execute_reply": "2025-03-28T16:43:22.786203Z",
     "shell.execute_reply.started": "2025-03-28T16:43:22.729860Z"
    }
   },
   "outputs": [
    {
     "data": {
      "text/plain": [
       "[True]"
      ]
     },
     "execution_count": 56,
     "metadata": {},
     "output_type": "execute_result"
    }
   ],
   "source": [
    "[bpy.has_no_content(v) for v in inp.values()]"
   ]
  },
  {
   "cell_type": "code",
   "execution_count": 57,
   "metadata": {
    "execution": {
     "iopub.execute_input": "2025-03-28T16:43:47.746721Z",
     "iopub.status.busy": "2025-03-28T16:43:47.745229Z",
     "iopub.status.idle": "2025-03-28T16:43:47.791131Z",
     "shell.execute_reply": "2025-03-28T16:43:47.789743Z",
     "shell.execute_reply.started": "2025-03-28T16:43:47.746651Z"
    }
   },
   "outputs": [
    {
     "data": {
      "text/plain": [
       "True"
      ]
     },
     "execution_count": 57,
     "metadata": {},
     "output_type": "execute_result"
    }
   ],
   "source": [
    "all(bpy.has_no_content(v) for v in inp.values())"
   ]
  },
  {
   "cell_type": "code",
   "execution_count": null,
   "metadata": {},
   "outputs": [],
   "source": []
  }
 ],
 "metadata": {
  "kernelspec": {
   "display_name": "Python 3 (ipykernel)",
   "language": "python",
   "name": "python3"
  },
  "language_info": {
   "codemirror_mode": {
    "name": "ipython",
    "version": 3
   },
   "file_extension": ".py",
   "mimetype": "text/x-python",
   "name": "python",
   "nbconvert_exporter": "python",
   "pygments_lexer": "ipython3",
   "version": "3.12.9"
  }
 },
 "nbformat": 4,
 "nbformat_minor": 4
}
