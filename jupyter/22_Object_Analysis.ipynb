{
 "cells": [
  {
   "cell_type": "markdown",
   "metadata": {},
   "source": [
    "__[Open and try this file online (Colab)](https://colab.research.google.com/github/djekra/bpyth/blob/master/jupyter/22_Object_Analysis.ipynb)__"
   ]
  },
  {
   "cell_type": "markdown",
   "metadata": {},
   "source": [
    "# bpyth Object Analysis Tools\n",
    "* `rtype`: Recursive type. Parses an n-dimensional object and returns a tuple of stype for the scalar in the top left corner.\n",
    "* `shape`: Recursive len. Parses an n-dimensional object and returns a tuple of sizes.\n",
    "* `has_shape`: Does an object have additional dimensions? (Skalars: No, Strings: No, Empty Iterables: No,\n",
    "    Other Iterables: Yes)\n",
    "* `memory_consumption`: Returns the memory consumption of Python objects."
   ]
  },
  {
   "cell_type": "code",
   "execution_count": 1,
   "metadata": {
    "execution": {
     "iopub.execute_input": "2025-03-12T18:10:35.803949Z",
     "iopub.status.busy": "2025-03-12T18:10:35.803282Z",
     "iopub.status.idle": "2025-03-12T18:10:36.489205Z",
     "shell.execute_reply": "2025-03-12T18:10:36.488749Z",
     "shell.execute_reply.started": "2025-03-12T18:10:35.803915Z"
    }
   },
   "outputs": [
    {
     "name": "stdout",
     "output_type": "stream",
     "text": [
      "blab init\n",
      "environment['in_colab']     = False\n",
      "environment['dropbox_path'] = /media/me/LinuxDropbox/Dropbox\n",
      "environment['lib_path']     = /media/me/LinuxDropbox/Dropbox/31_Projekte/01_Python/libs\n",
      "Start Time: 19:10:35\n"
     ]
    },
    {
     "data": {
      "text/html": [
       "<img src onerror=\"var cell = this.closest('.jp-CodeCell');var editor = cell.querySelector('.jp-Editor');editor.style.background='Beige';this.parentNode.removeChild(this)\">"
      ],
      "text/plain": [
       "<IPython.core.display.HTML object>"
      ]
     },
     "metadata": {},
     "output_type": "display_data"
    }
   ],
   "source": [
    "# blab init\n",
    "try:\n",
    "    import blab\n",
    "except ImportError as e:\n",
    "    !pip install blab\n",
    "    import blab    \n",
    "startup_notebook = blab.blab_startup()\n",
    "%run $startup_notebook "
   ]
  },
  {
   "cell_type": "code",
   "execution_count": 2,
   "metadata": {
    "execution": {
     "iopub.execute_input": "2025-03-12T18:10:36.490001Z",
     "iopub.status.busy": "2025-03-12T18:10:36.489693Z",
     "iopub.status.idle": "2025-03-12T18:10:36.506881Z",
     "shell.execute_reply": "2025-03-12T18:10:36.506115Z",
     "shell.execute_reply.started": "2025-03-12T18:10:36.489974Z"
    }
   },
   "outputs": [],
   "source": [
    "import bpyth as bpy"
   ]
  },
  {
   "cell_type": "markdown",
   "metadata": {},
   "source": [
    "### stype"
   ]
  },
  {
   "cell_type": "code",
   "execution_count": 3,
   "metadata": {
    "execution": {
     "iopub.execute_input": "2025-03-12T18:10:36.508373Z",
     "iopub.status.busy": "2025-03-12T18:10:36.507725Z",
     "iopub.status.idle": "2025-03-12T18:10:36.590943Z",
     "shell.execute_reply": "2025-03-12T18:10:36.590457Z",
     "shell.execute_reply.started": "2025-03-12T18:10:36.508335Z"
    }
   },
   "outputs": [
    {
     "data": {
      "text/plain": [
       "\u001b[31mSignature:\u001b[39m bpy.stype(obj)\n",
       "\u001b[31mDocstring:\u001b[39m Returns the type as a short string\n",
       "\u001b[31mFile:\u001b[39m      /media/me/LinuxDropbox/Dropbox/31_Projekte/01_Python/88_PyCharm/bpyth/src/bpyth/bpyth_object_analysis.py\n",
       "\u001b[31mType:\u001b[39m      function"
      ]
     },
     "metadata": {},
     "output_type": "display_data"
    }
   ],
   "source": [
    "?bpy.stype"
   ]
  },
  {
   "cell_type": "code",
   "execution_count": 4,
   "metadata": {
    "execution": {
     "iopub.execute_input": "2025-03-12T18:10:36.591750Z",
     "iopub.status.busy": "2025-03-12T18:10:36.591503Z",
     "iopub.status.idle": "2025-03-12T18:10:36.606146Z",
     "shell.execute_reply": "2025-03-12T18:10:36.605518Z",
     "shell.execute_reply.started": "2025-03-12T18:10:36.591725Z"
    }
   },
   "outputs": [
    {
     "data": {
      "text/plain": [
       "'str'"
      ]
     },
     "execution_count": 4,
     "metadata": {},
     "output_type": "execute_result"
    }
   ],
   "source": [
    "bpy.stype('g')"
   ]
  },
  {
   "cell_type": "markdown",
   "metadata": {},
   "source": [
    "### rtype"
   ]
  },
  {
   "cell_type": "code",
   "execution_count": 5,
   "metadata": {
    "execution": {
     "iopub.execute_input": "2025-03-12T18:10:36.607165Z",
     "iopub.status.busy": "2025-03-12T18:10:36.606894Z",
     "iopub.status.idle": "2025-03-12T18:10:36.657884Z",
     "shell.execute_reply": "2025-03-12T18:10:36.657431Z",
     "shell.execute_reply.started": "2025-03-12T18:10:36.607139Z"
    }
   },
   "outputs": [
    {
     "data": {
      "text/plain": [
       "\u001b[31mSignature:\u001b[39m bpy.rtype(inputobjekt)\n",
       "\u001b[31mDocstring:\u001b[39m\n",
       "Recursive type. Parses an n-dimensional object and returns a tuple of stype for the scalar in the top left corner. \n",
       "E.g. an array of lists of ints returns ('ndarray', 'list', 'int').\n",
       "Caution: only a single scalar is found. A heterogeneous data structure cannot be parsed meaningfully. \n",
       "\u001b[31mFile:\u001b[39m      /media/me/LinuxDropbox/Dropbox/31_Projekte/01_Python/88_PyCharm/bpyth/src/bpyth/bpyth_object_analysis.py\n",
       "\u001b[31mType:\u001b[39m      function"
      ]
     },
     "metadata": {},
     "output_type": "display_data"
    }
   ],
   "source": [
    "?bpy.rtype"
   ]
  },
  {
   "cell_type": "code",
   "execution_count": 6,
   "metadata": {
    "execution": {
     "iopub.execute_input": "2025-03-12T18:10:36.660342Z",
     "iopub.status.busy": "2025-03-12T18:10:36.660040Z",
     "iopub.status.idle": "2025-03-12T18:10:36.673194Z",
     "shell.execute_reply": "2025-03-12T18:10:36.672562Z",
     "shell.execute_reply.started": "2025-03-12T18:10:36.660316Z"
    }
   },
   "outputs": [
    {
     "data": {
      "text/plain": [
       "('tuple', 'list', 'int')"
      ]
     },
     "execution_count": 6,
     "metadata": {},
     "output_type": "execute_result"
    }
   ],
   "source": [
    "bpy.rtype(([1],[2],[3])) "
   ]
  },
  {
   "cell_type": "code",
   "execution_count": 7,
   "metadata": {
    "execution": {
     "iopub.execute_input": "2025-03-12T18:10:36.674139Z",
     "iopub.status.busy": "2025-03-12T18:10:36.673844Z",
     "iopub.status.idle": "2025-03-12T18:10:36.689487Z",
     "shell.execute_reply": "2025-03-12T18:10:36.688904Z",
     "shell.execute_reply.started": "2025-03-12T18:10:36.674110Z"
    }
   },
   "outputs": [
    {
     "data": {
      "text/plain": [
       "('bytes',)"
      ]
     },
     "execution_count": 7,
     "metadata": {},
     "output_type": "execute_result"
    }
   ],
   "source": [
    "bpy.rtype(b\"abc\")\n",
    "# == (\"bytes\",)"
   ]
  },
  {
   "cell_type": "code",
   "execution_count": 8,
   "metadata": {
    "execution": {
     "iopub.execute_input": "2025-03-12T18:10:36.690614Z",
     "iopub.status.busy": "2025-03-12T18:10:36.690163Z",
     "iopub.status.idle": "2025-03-12T18:10:36.713555Z",
     "shell.execute_reply": "2025-03-12T18:10:36.712906Z",
     "shell.execute_reply.started": "2025-03-12T18:10:36.690576Z"
    }
   },
   "outputs": [
    {
     "data": {
      "text/plain": [
       "('dict', 'list', 'int')"
      ]
     },
     "execution_count": 8,
     "metadata": {},
     "output_type": "execute_result"
    }
   ],
   "source": [
    "bpy.rtype({\"a\": [1, 2], \"b\": [3, 4]}) \n",
    "#== (\"dict\", \"list\")"
   ]
  },
  {
   "cell_type": "markdown",
   "metadata": {},
   "source": [
    "## has_shape"
   ]
  },
  {
   "cell_type": "code",
   "execution_count": 9,
   "metadata": {
    "execution": {
     "iopub.execute_input": "2025-03-12T18:10:36.714560Z",
     "iopub.status.busy": "2025-03-12T18:10:36.714244Z",
     "iopub.status.idle": "2025-03-12T18:10:36.747335Z",
     "shell.execute_reply": "2025-03-12T18:10:36.746879Z",
     "shell.execute_reply.started": "2025-03-12T18:10:36.714531Z"
    },
    "tags": []
   },
   "outputs": [
    {
     "data": {
      "text/plain": [
       "\u001b[31mSignature:\u001b[39m bpy.has_shape(inputobjekt)\n",
       "\u001b[31mDocstring:\u001b[39m\n",
       "Does an object have additional dimensions?\n",
       "Skalars: No\n",
       "Strings: No (per definition)    \n",
       "Empty Iterables: No (per definition)    \n",
       "Other Iterables: Yes\n",
       "\u001b[31mFile:\u001b[39m      /media/me/LinuxDropbox/Dropbox/31_Projekte/01_Python/88_PyCharm/bpyth/src/bpyth/bpyth_object_analysis.py\n",
       "\u001b[31mType:\u001b[39m      function"
      ]
     },
     "metadata": {},
     "output_type": "display_data"
    }
   ],
   "source": [
    "?bpy.has_shape"
   ]
  },
  {
   "cell_type": "code",
   "execution_count": 10,
   "metadata": {
    "execution": {
     "iopub.execute_input": "2025-03-12T18:10:36.747994Z",
     "iopub.status.busy": "2025-03-12T18:10:36.747798Z",
     "iopub.status.idle": "2025-03-12T18:10:36.772956Z",
     "shell.execute_reply": "2025-03-12T18:10:36.772442Z",
     "shell.execute_reply.started": "2025-03-12T18:10:36.747977Z"
    }
   },
   "outputs": [],
   "source": [
    "assert bpy.has_shape(list('abc'))\n",
    "assert bpy.has_shape((1,2))"
   ]
  },
  {
   "cell_type": "code",
   "execution_count": 11,
   "metadata": {
    "execution": {
     "iopub.execute_input": "2025-03-12T18:10:36.774356Z",
     "iopub.status.busy": "2025-03-12T18:10:36.773819Z",
     "iopub.status.idle": "2025-03-12T18:10:36.790928Z",
     "shell.execute_reply": "2025-03-12T18:10:36.790419Z",
     "shell.execute_reply.started": "2025-03-12T18:10:36.774330Z"
    }
   },
   "outputs": [],
   "source": [
    "assert not bpy.has_shape([])\n",
    "assert not bpy.has_shape(1)\n",
    "assert not bpy.has_shape('abc')\n",
    "assert not bpy.has_shape(None)"
   ]
  },
  {
   "cell_type": "markdown",
   "metadata": {},
   "source": [
    "## rtype and shape of pure python objects"
   ]
  },
  {
   "cell_type": "code",
   "execution_count": 12,
   "metadata": {
    "execution": {
     "iopub.execute_input": "2025-03-12T18:10:36.791788Z",
     "iopub.status.busy": "2025-03-12T18:10:36.791528Z",
     "iopub.status.idle": "2025-03-12T18:10:36.826422Z",
     "shell.execute_reply": "2025-03-12T18:10:36.825736Z",
     "shell.execute_reply.started": "2025-03-12T18:10:36.791760Z"
    },
    "tags": []
   },
   "outputs": [
    {
     "data": {
      "text/plain": [
       "\u001b[31mSignature:\u001b[39m bpy.shape(obj)\n",
       "\u001b[31mDocstring:\u001b[39m\n",
       "Recursive len. Parses an n-dimensional object and returns a tuple of sizes.\n",
       "Caution: only a single scalar is found. A heterogeneous data structure cannot be parsed meaningfully.     \n",
       "\u001b[31mFile:\u001b[39m      /media/me/LinuxDropbox/Dropbox/31_Projekte/01_Python/88_PyCharm/bpyth/src/bpyth/bpyth_object_analysis.py\n",
       "\u001b[31mType:\u001b[39m      function"
      ]
     },
     "metadata": {},
     "output_type": "display_data"
    }
   ],
   "source": [
    "?bpy.shape"
   ]
  },
  {
   "cell_type": "code",
   "execution_count": 13,
   "metadata": {
    "execution": {
     "iopub.execute_input": "2025-03-12T18:10:36.827663Z",
     "iopub.status.busy": "2025-03-12T18:10:36.827146Z",
     "iopub.status.idle": "2025-03-12T18:10:36.863910Z",
     "shell.execute_reply": "2025-03-12T18:10:36.863456Z",
     "shell.execute_reply.started": "2025-03-12T18:10:36.827630Z"
    },
    "tags": []
   },
   "outputs": [
    {
     "data": {
      "text/plain": [
       "\u001b[31mSignature:\u001b[39m bpy.rtype(inputobjekt)\n",
       "\u001b[31mDocstring:\u001b[39m\n",
       "Recursive type. Parses an n-dimensional object and returns a tuple of stype for the scalar in the top left corner. \n",
       "E.g. an array of lists of ints returns ('ndarray', 'list', 'int').\n",
       "Caution: only a single scalar is found. A heterogeneous data structure cannot be parsed meaningfully. \n",
       "\u001b[31mFile:\u001b[39m      /media/me/LinuxDropbox/Dropbox/31_Projekte/01_Python/88_PyCharm/bpyth/src/bpyth/bpyth_object_analysis.py\n",
       "\u001b[31mType:\u001b[39m      function"
      ]
     },
     "metadata": {},
     "output_type": "display_data"
    }
   ],
   "source": [
    "?bpy.rtype"
   ]
  },
  {
   "cell_type": "code",
   "execution_count": 14,
   "metadata": {
    "execution": {
     "iopub.execute_input": "2025-03-12T18:10:36.866527Z",
     "iopub.status.busy": "2025-03-12T18:10:36.864563Z",
     "iopub.status.idle": "2025-03-12T18:10:36.885251Z",
     "shell.execute_reply": "2025-03-12T18:10:36.884321Z",
     "shell.execute_reply.started": "2025-03-12T18:10:36.866476Z"
    }
   },
   "outputs": [],
   "source": [
    "# 0 Dimensionen\n",
    "assert bpy.shape('jjj' ) == tuple()\n",
    "assert bpy.shape(123)    == tuple()\n",
    "assert bpy.shape(None)   == tuple()\n",
    "assert bpy.shape([])     == tuple()\n",
    "assert bpy.shape({})     == tuple()"
   ]
  },
  {
   "cell_type": "code",
   "execution_count": 15,
   "metadata": {
    "execution": {
     "iopub.execute_input": "2025-03-12T18:10:36.886358Z",
     "iopub.status.busy": "2025-03-12T18:10:36.885999Z",
     "iopub.status.idle": "2025-03-12T18:10:36.914789Z",
     "shell.execute_reply": "2025-03-12T18:10:36.914212Z",
     "shell.execute_reply.started": "2025-03-12T18:10:36.886330Z"
    }
   },
   "outputs": [],
   "source": [
    "# 0 Dimensionen\n",
    "assert bpy.rtype(123)    == ('int',)\n",
    "assert bpy.rtype(None)   == ('NoneType',)\n",
    "assert bpy.rtype([])     == ('list',)\n",
    "assert bpy.rtype({})     == ('dict',)\n",
    "assert bpy.rtype('jjj' ) == ('str',)"
   ]
  },
  {
   "cell_type": "code",
   "execution_count": 16,
   "metadata": {
    "execution": {
     "iopub.execute_input": "2025-03-12T18:10:36.916307Z",
     "iopub.status.busy": "2025-03-12T18:10:36.915981Z",
     "iopub.status.idle": "2025-03-12T18:10:36.932849Z",
     "shell.execute_reply": "2025-03-12T18:10:36.931785Z",
     "shell.execute_reply.started": "2025-03-12T18:10:36.916273Z"
    }
   },
   "outputs": [],
   "source": [
    "# 1 Dimension\n",
    "obj_4 = ( 'abcde', 'grfer', 'btjqw', 'bqwer' )\n",
    "assert bpy.shape(obj_4) == (4,)\n",
    "assert bpy.rtype(obj_4) == ('tuple', 'str')"
   ]
  },
  {
   "cell_type": "code",
   "execution_count": 17,
   "metadata": {
    "execution": {
     "iopub.execute_input": "2025-03-12T18:10:36.934089Z",
     "iopub.status.busy": "2025-03-12T18:10:36.933760Z",
     "iopub.status.idle": "2025-03-12T18:10:36.950637Z",
     "shell.execute_reply": "2025-03-12T18:10:36.949034Z",
     "shell.execute_reply.started": "2025-03-12T18:10:36.934055Z"
    }
   },
   "outputs": [],
   "source": [
    "# shit \n",
    "obj_shit = [[]]\n",
    "assert bpy.shape(obj_shit) == (1,)\n",
    "assert bpy.rtype(obj_shit) == ('list', 'list')"
   ]
  },
  {
   "cell_type": "code",
   "execution_count": 18,
   "metadata": {
    "execution": {
     "iopub.execute_input": "2025-03-12T18:10:36.952309Z",
     "iopub.status.busy": "2025-03-12T18:10:36.951638Z",
     "iopub.status.idle": "2025-03-12T18:10:36.971812Z",
     "shell.execute_reply": "2025-03-12T18:10:36.971374Z",
     "shell.execute_reply.started": "2025-03-12T18:10:36.952272Z"
    }
   },
   "outputs": [],
   "source": [
    "# shit\n",
    "obj_shit = [[1]]\n",
    "assert bpy.shape(obj_shit) == (1,1)\n",
    "assert bpy.rtype(obj_shit) == ('list', 'list','int')"
   ]
  },
  {
   "cell_type": "code",
   "execution_count": 19,
   "metadata": {
    "execution": {
     "iopub.execute_input": "2025-03-12T18:10:36.972514Z",
     "iopub.status.busy": "2025-03-12T18:10:36.972318Z",
     "iopub.status.idle": "2025-03-12T18:10:36.987608Z",
     "shell.execute_reply": "2025-03-12T18:10:36.986925Z",
     "shell.execute_reply.started": "2025-03-12T18:10:36.972490Z"
    }
   },
   "outputs": [],
   "source": [
    "# 1 Dimension, heterogener Inhalt: Nur das erste Element wird untersucht!\n",
    "obj_3 = ( 'ICH WERDE UNTERSUCHT', -77, -99 )\n",
    "assert bpy.shape(obj_3) == (3,)\n",
    "assert bpy.rtype(obj_3) == ('tuple', 'str')"
   ]
  },
  {
   "cell_type": "code",
   "execution_count": 20,
   "metadata": {
    "execution": {
     "iopub.execute_input": "2025-03-12T18:10:36.988253Z",
     "iopub.status.busy": "2025-03-12T18:10:36.988084Z",
     "iopub.status.idle": "2025-03-12T18:10:37.015733Z",
     "shell.execute_reply": "2025-03-12T18:10:37.015023Z",
     "shell.execute_reply.started": "2025-03-12T18:10:36.988236Z"
    }
   },
   "outputs": [],
   "source": [
    "# 2 Dimensionen\n",
    "obj_43 = [[1,2,3],[4,5,6], [7, 8, 9], [10, 11, 12]]\n",
    "assert bpy.shape(obj_43) == (4,3)\n",
    "assert bpy.shape(tuple(obj_43)) == (4,3)\n",
    "assert bpy.rtype(obj_43) == ('list', 'list', 'int')"
   ]
  },
  {
   "cell_type": "code",
   "execution_count": 21,
   "metadata": {
    "execution": {
     "iopub.execute_input": "2025-03-12T18:10:37.020547Z",
     "iopub.status.busy": "2025-03-12T18:10:37.019782Z",
     "iopub.status.idle": "2025-03-12T18:10:37.036201Z",
     "shell.execute_reply": "2025-03-12T18:10:37.035455Z",
     "shell.execute_reply.started": "2025-03-12T18:10:37.020524Z"
    }
   },
   "outputs": [],
   "source": [
    "# 3 Dimensionen\n",
    "obj_533 = [\n",
    "    [[0, 0, 0], [1, 1, 1], [2, 2, 2]],\n",
    "    [[0, 0, 0], [1, 1, 1], [2, 2, 2]],\n",
    "    [[0, 0, 0], [1, 1, 1], [2, 2, 2]],\n",
    "    [[0, 0, 0], [1, 1, 1], [2, 2, 2]],\n",
    "    [[0, 0, 0], [1, 1, 1], [2, 2, 2]],\n",
    "]\n",
    "assert bpy.shape(obj_533) == (5, 3, 3)\n",
    "assert bpy.rtype(obj_533) == ('list', 'list', 'list', 'int')"
   ]
  },
  {
   "cell_type": "code",
   "execution_count": 22,
   "metadata": {
    "execution": {
     "iopub.execute_input": "2025-03-12T18:10:37.037030Z",
     "iopub.status.busy": "2025-03-12T18:10:37.036830Z",
     "iopub.status.idle": "2025-03-12T18:10:37.058013Z",
     "shell.execute_reply": "2025-03-12T18:10:37.057419Z",
     "shell.execute_reply.started": "2025-03-12T18:10:37.037012Z"
    }
   },
   "outputs": [],
   "source": [
    "# Anderer Datentyp\n",
    "obj_45 = [ list('abcde'), list('grfer'), list('btjqw'), list('bqwer') ]\n",
    "assert bpy.shape(obj_45) == (4,5)\n",
    "assert bpy.rtype(obj_45) == ('list', 'list', 'str')"
   ]
  },
  {
   "cell_type": "code",
   "execution_count": 23,
   "metadata": {
    "execution": {
     "iopub.execute_input": "2025-03-12T18:10:37.059341Z",
     "iopub.status.busy": "2025-03-12T18:10:37.058682Z",
     "iopub.status.idle": "2025-03-12T18:10:37.085695Z",
     "shell.execute_reply": "2025-03-12T18:10:37.084915Z",
     "shell.execute_reply.started": "2025-03-12T18:10:37.059305Z"
    }
   },
   "outputs": [],
   "source": [
    "# 2 Dimensionen mit leeren Listen\n",
    "obj_53 = [\n",
    "    [[], [], []],\n",
    "    [[], [], []],\n",
    "    [[], [], []],\n",
    "    [[], [], []],\n",
    "    [[], [], []],\n",
    "]\n",
    "assert bpy.shape(obj_53) == (5,3)\n",
    "assert bpy.rtype(obj_53) == ('list', 'list', 'list')"
   ]
  },
  {
   "cell_type": "code",
   "execution_count": 24,
   "metadata": {
    "execution": {
     "iopub.execute_input": "2025-03-12T18:10:37.086817Z",
     "iopub.status.busy": "2025-03-12T18:10:37.086438Z",
     "iopub.status.idle": "2025-03-12T18:10:37.101858Z",
     "shell.execute_reply": "2025-03-12T18:10:37.101143Z",
     "shell.execute_reply.started": "2025-03-12T18:10:37.086795Z"
    }
   },
   "outputs": [],
   "source": [
    "dict_3 = {'A': 1,\n",
    "          'B': 2,\n",
    "          'C': 3,              \n",
    "               }\n",
    "\n",
    "assert bpy.shape(dict_3) == (3,)\n",
    "assert bpy.rtype(dict_3) == ('dict', 'int')"
   ]
  },
  {
   "cell_type": "code",
   "execution_count": 25,
   "metadata": {
    "execution": {
     "iopub.execute_input": "2025-03-12T18:10:37.102879Z",
     "iopub.status.busy": "2025-03-12T18:10:37.102646Z",
     "iopub.status.idle": "2025-03-12T18:10:37.129124Z",
     "shell.execute_reply": "2025-03-12T18:10:37.128417Z",
     "shell.execute_reply.started": "2025-03-12T18:10:37.102859Z"
    }
   },
   "outputs": [],
   "source": [
    "dict_54 = {'A': [1,4,5,6],\n",
    "           'B': [2,4,5,6],\n",
    "           'C': [3,4,0,9],\n",
    "           'D': [4,4,5,9],\n",
    "           'E': [5,4,5,6],                \n",
    "               }\n",
    "assert bpy.shape(dict_54) == (5,4)\n",
    "assert bpy.rtype(dict_54) == ('dict', 'list', 'int')"
   ]
  },
  {
   "cell_type": "code",
   "execution_count": 26,
   "metadata": {
    "execution": {
     "iopub.execute_input": "2025-03-12T18:10:37.129948Z",
     "iopub.status.busy": "2025-03-12T18:10:37.129764Z",
     "iopub.status.idle": "2025-03-12T18:10:37.146015Z",
     "shell.execute_reply": "2025-03-12T18:10:37.145555Z",
     "shell.execute_reply.started": "2025-03-12T18:10:37.129931Z"
    }
   },
   "outputs": [],
   "source": [
    "dict_54b = {'A': (1,4,5,6),\n",
    "            'B': (2,4,5,6),\n",
    "            'C': (3,4,0,9),\n",
    "            'D': (4,4,5,9),\n",
    "            'E': (5,4,5,6),                \n",
    "               }\n",
    "assert bpy.shape(dict_54b) == (5,4)\n",
    "assert bpy.rtype(dict_54b) == ('dict', 'tuple', 'int')"
   ]
  },
  {
   "cell_type": "code",
   "execution_count": 27,
   "metadata": {
    "execution": {
     "iopub.execute_input": "2025-03-12T18:10:37.146985Z",
     "iopub.status.busy": "2025-03-12T18:10:37.146705Z",
     "iopub.status.idle": "2025-03-12T18:10:37.164251Z",
     "shell.execute_reply": "2025-03-12T18:10:37.163484Z",
     "shell.execute_reply.started": "2025-03-12T18:10:37.146964Z"
    }
   },
   "outputs": [],
   "source": [
    "dict_32 = {'A': ((),(),),\n",
    "           'B': ((),(),),    \n",
    "           'C': ((),(),),                \n",
    "               }\n",
    "assert bpy.shape(dict_32) == (3,2)\n",
    "assert bpy.rtype(dict_32) == ('dict', 'tuple', 'tuple')"
   ]
  },
  {
   "cell_type": "markdown",
   "metadata": {},
   "source": [
    "## rtype and shape of pandas and numpy objects"
   ]
  },
  {
   "cell_type": "code",
   "execution_count": 28,
   "metadata": {
    "execution": {
     "iopub.execute_input": "2025-03-12T18:10:37.165104Z",
     "iopub.status.busy": "2025-03-12T18:10:37.164807Z",
     "iopub.status.idle": "2025-03-12T18:10:37.479556Z",
     "shell.execute_reply": "2025-03-12T18:10:37.479060Z",
     "shell.execute_reply.started": "2025-03-12T18:10:37.165077Z"
    }
   },
   "outputs": [],
   "source": [
    "try:\n",
    "    import pandas     as pd \n",
    "    import numpy      as np\n",
    "except:    \n",
    "    print('pandas not installed')\n",
    "    raise Stop"
   ]
  },
  {
   "cell_type": "code",
   "execution_count": 29,
   "metadata": {
    "execution": {
     "iopub.execute_input": "2025-03-12T18:10:37.480412Z",
     "iopub.status.busy": "2025-03-12T18:10:37.480083Z",
     "iopub.status.idle": "2025-03-12T18:10:37.503970Z",
     "shell.execute_reply": "2025-03-12T18:10:37.503483Z",
     "shell.execute_reply.started": "2025-03-12T18:10:37.480387Z"
    }
   },
   "outputs": [],
   "source": [
    "# 0 Dimensionen\n",
    "assert bpy.shape( np.array([]) )               == tuple()\n",
    "assert bpy.shape( pd.Series(dtype='float64') ) == tuple()\n",
    "assert bpy.shape( pd.DataFrame() )             == tuple()\n",
    "assert bpy.shape( pd.DataFrame([]) )           == tuple()\n",
    "assert bpy.shape( pd.DataFrame([[]]) )         == tuple()"
   ]
  },
  {
   "cell_type": "code",
   "execution_count": 30,
   "metadata": {
    "execution": {
     "iopub.execute_input": "2025-03-12T18:10:37.504912Z",
     "iopub.status.busy": "2025-03-12T18:10:37.504585Z",
     "iopub.status.idle": "2025-03-12T18:10:37.528733Z",
     "shell.execute_reply": "2025-03-12T18:10:37.528182Z",
     "shell.execute_reply.started": "2025-03-12T18:10:37.504884Z"
    }
   },
   "outputs": [],
   "source": [
    "# 0 Dimensionen\n",
    "assert bpy.rtype( np.array([]) )               == ('ndarray',)\n",
    "assert bpy.rtype( pd.Series(dtype='float64') ) == ('Series',)\n",
    "assert bpy.rtype( pd.DataFrame() )             == ('DataFrame',)\n",
    "assert bpy.rtype( pd.DataFrame([]) )           == ('DataFrame',)\n",
    "assert bpy.rtype( pd.DataFrame([[]]) )         == ('DataFrame','Series')"
   ]
  },
  {
   "cell_type": "code",
   "execution_count": 31,
   "metadata": {
    "execution": {
     "iopub.execute_input": "2025-03-12T18:10:37.529695Z",
     "iopub.status.busy": "2025-03-12T18:10:37.529338Z",
     "iopub.status.idle": "2025-03-12T18:10:37.553580Z",
     "shell.execute_reply": "2025-03-12T18:10:37.553015Z",
     "shell.execute_reply.started": "2025-03-12T18:10:37.529666Z"
    }
   },
   "outputs": [],
   "source": [
    "# 1 Dimensionen\n",
    "assert bpy.rtype( np.array(['a']) )                == ('ndarray','str')\n",
    "try:\n",
    "    assert bpy.rtype( np.array([1]) )              == ('ndarray','int32')\n",
    "except:\n",
    "    assert bpy.rtype( np.array([1]) )              == ('ndarray','int64')\n",
    "assert bpy.rtype( pd.Series([1],dtype='float64') ) == ('Series','float')\n",
    "assert bpy.rtype( pd.DataFrame(['a']) )            == ('DataFrame','Series','str')\n",
    "assert bpy.rtype( pd.DataFrame([['a']]) )          == ('DataFrame','Series','str')"
   ]
  },
  {
   "cell_type": "code",
   "execution_count": 32,
   "metadata": {
    "execution": {
     "iopub.execute_input": "2025-03-12T18:10:37.554413Z",
     "iopub.status.busy": "2025-03-12T18:10:37.554156Z",
     "iopub.status.idle": "2025-03-12T18:10:37.573424Z",
     "shell.execute_reply": "2025-03-12T18:10:37.572499Z",
     "shell.execute_reply.started": "2025-03-12T18:10:37.554392Z"
    }
   },
   "outputs": [],
   "source": [
    "# 2 Dimensionen, dict mit np.array\n",
    "dict_24 = { 'Zeile0': np.array([3] * 4, dtype='int32'),\n",
    "            'Zeile1': np.array([4] * 4, dtype='int32') }\n",
    "\n",
    "assert bpy.shape(dict_24) == (2,4)\n",
    "assert bpy.rtype(dict_24) == ('dict', 'ndarray', 'int32')"
   ]
  },
  {
   "cell_type": "code",
   "execution_count": 33,
   "metadata": {
    "execution": {
     "iopub.execute_input": "2025-03-12T18:10:37.574524Z",
     "iopub.status.busy": "2025-03-12T18:10:37.574202Z",
     "iopub.status.idle": "2025-03-12T18:10:37.596330Z",
     "shell.execute_reply": "2025-03-12T18:10:37.595821Z",
     "shell.execute_reply.started": "2025-03-12T18:10:37.574497Z"
    }
   },
   "outputs": [],
   "source": [
    "# Einzeiliges dict mit pd.Categorical\n",
    "dict_14 = { 'Zeile1': pd.Categorical([\"test\", \"train\", \"test\", \"train\"]) }\n",
    "\n",
    "assert bpy.shape(dict_14) == (1,4)\n",
    "assert bpy.rtype(dict_14) == ('dict', 'Categorical', 'str')"
   ]
  },
  {
   "cell_type": "code",
   "execution_count": 34,
   "metadata": {
    "execution": {
     "iopub.execute_input": "2025-03-12T18:10:37.597504Z",
     "iopub.status.busy": "2025-03-12T18:10:37.596968Z",
     "iopub.status.idle": "2025-03-12T18:10:38.740050Z",
     "shell.execute_reply": "2025-03-12T18:10:38.739558Z",
     "shell.execute_reply.started": "2025-03-12T18:10:37.597479Z"
    }
   },
   "outputs": [],
   "source": [
    "import pandasklar as pak "
   ]
  },
  {
   "cell_type": "code",
   "execution_count": 35,
   "metadata": {
    "execution": {
     "iopub.execute_input": "2025-03-12T18:10:38.740950Z",
     "iopub.status.busy": "2025-03-12T18:10:38.740528Z",
     "iopub.status.idle": "2025-03-12T18:10:38.789346Z",
     "shell.execute_reply": "2025-03-12T18:10:38.788579Z",
     "shell.execute_reply.started": "2025-03-12T18:10:38.740928Z"
    }
   },
   "outputs": [
    {
     "name": "stdout",
     "output_type": "stream",
     "text": [
      "('list', 'Series', 'int')\n",
      "('list', 'Series', 'str')\n",
      "('list', 'Series', 'str')\n",
      "('list', 'Series', 'str')\n",
      "('list', 'Series', 'float')\n"
     ]
    }
   ],
   "source": [
    "# list of Series mit Random Inhalt\n",
    "obj = 0\n",
    "for typ in list('isncf'):\n",
    "    obj = [ pak.random_series( 3, typ), \n",
    "            pak.random_series( 3, typ) ]\n",
    "    print(bpy.rtype(obj))\n",
    "    assert bpy.shape(obj) == (2, 3)\n",
    "assert bpy.rtype(obj) == ('list', 'Series', 'float') # ´hier wird nur der letze Wert getestet"
   ]
  },
  {
   "cell_type": "code",
   "execution_count": 36,
   "metadata": {
    "execution": {
     "iopub.execute_input": "2025-03-12T18:10:38.790307Z",
     "iopub.status.busy": "2025-03-12T18:10:38.790062Z",
     "iopub.status.idle": "2025-03-12T18:10:38.816232Z",
     "shell.execute_reply": "2025-03-12T18:10:38.815279Z",
     "shell.execute_reply.started": "2025-03-12T18:10:38.790285Z"
    }
   },
   "outputs": [
    {
     "data": {
      "text/plain": [
       "0       [1, 2, 3]\n",
       "1       [4, 5, 6]\n",
       "2       [7, 8, 9]\n",
       "3    [10, 11, 12]\n",
       "dtype: object"
      ]
     },
     "execution_count": 36,
     "metadata": {},
     "output_type": "execute_result"
    }
   ],
   "source": [
    "# Series of lists of int\n",
    "obj_43 = [[1,2,3],[4,5,6], [7, 8, 9], [10, 11, 12]]\n",
    "obj_43b = pd.Series(obj_43)\n",
    "assert bpy.shape(obj_43b) == (4,3)\n",
    "assert bpy.rtype(obj_43b) == ('Series', 'list', 'int')\n",
    "obj_43b"
   ]
  },
  {
   "cell_type": "code",
   "execution_count": 37,
   "metadata": {
    "execution": {
     "iopub.execute_input": "2025-03-12T18:10:38.817850Z",
     "iopub.status.busy": "2025-03-12T18:10:38.817466Z",
     "iopub.status.idle": "2025-03-12T18:10:38.853217Z",
     "shell.execute_reply": "2025-03-12T18:10:38.852003Z",
     "shell.execute_reply.started": "2025-03-12T18:10:38.817816Z"
    }
   },
   "outputs": [
    {
     "data": {
      "text/html": [
       "<div>\n",
       "<style scoped>\n",
       "    .dataframe tbody tr th:only-of-type {\n",
       "        vertical-align: middle;\n",
       "    }\n",
       "\n",
       "    .dataframe tbody tr th {\n",
       "        vertical-align: top;\n",
       "    }\n",
       "\n",
       "    .dataframe thead th {\n",
       "        text-align: right;\n",
       "    }\n",
       "</style>\n",
       "<table border=\"1\" class=\"dataframe\">\n",
       "  <thead>\n",
       "    <tr style=\"text-align: right;\">\n",
       "      <th></th>\n",
       "      <th>0</th>\n",
       "      <th>1</th>\n",
       "      <th>2</th>\n",
       "    </tr>\n",
       "  </thead>\n",
       "  <tbody>\n",
       "    <tr>\n",
       "      <th>0</th>\n",
       "      <td>a</td>\n",
       "      <td>2</td>\n",
       "      <td>3.0</td>\n",
       "    </tr>\n",
       "    <tr>\n",
       "      <th>1</th>\n",
       "      <td>b</td>\n",
       "      <td>5</td>\n",
       "      <td>6.0</td>\n",
       "    </tr>\n",
       "    <tr>\n",
       "      <th>2</th>\n",
       "      <td>c</td>\n",
       "      <td>8</td>\n",
       "      <td>9.0</td>\n",
       "    </tr>\n",
       "    <tr>\n",
       "      <th>3</th>\n",
       "      <td>d</td>\n",
       "      <td>11</td>\n",
       "      <td>12.0</td>\n",
       "    </tr>\n",
       "  </tbody>\n",
       "</table>\n",
       "</div>"
      ],
      "text/plain": [
       "   0   1     2\n",
       "0  a   2   3.0\n",
       "1  b   5   6.0\n",
       "2  c   8   9.0\n",
       "3  d  11  12.0"
      ]
     },
     "execution_count": 37,
     "metadata": {},
     "output_type": "execute_result"
    }
   ],
   "source": [
    "# Normales DataFrame mit heterogenen Spalten\n",
    "obj_43 = [['a',2,3.0],['b',5,6.0], ['c', 8, 9.0], ['d', 11, 12.0]]\n",
    "obj_43c = pd.DataFrame(obj_43)\n",
    "assert bpy.shape(obj_43c) == (4,3)\n",
    "assert bpy.shape(obj_43c) == obj_43c.shape\n",
    "assert bpy.rtype(obj_43c) == ('DataFrame', 'Series')\n",
    "#rtype(obj_43c)\n",
    "obj_43c"
   ]
  },
  {
   "cell_type": "markdown",
   "metadata": {},
   "source": [
    "## memory_consumption"
   ]
  },
  {
   "cell_type": "code",
   "execution_count": 38,
   "metadata": {
    "execution": {
     "iopub.execute_input": "2025-03-12T18:10:38.854464Z",
     "iopub.status.busy": "2025-03-12T18:10:38.854093Z",
     "iopub.status.idle": "2025-03-12T18:10:38.915907Z",
     "shell.execute_reply": "2025-03-12T18:10:38.915265Z",
     "shell.execute_reply.started": "2025-03-12T18:10:38.854428Z"
    }
   },
   "outputs": [
    {
     "data": {
      "text/plain": [
       "\u001b[31mSignature:\u001b[39m bpy.memory_consumption(iteration_of_objects, limit=\u001b[32m10\u001b[39m, use_rtype=\u001b[38;5;28;01mFalse\u001b[39;00m)\n",
       "\u001b[31mDocstring:\u001b[39m\n",
       "Returns the memory consumption of Python objects.\n",
       "* iteration_of_objects: can be e.g. a DataFrame or just locals()\n",
       "* limit: Limits the output size\n",
       "* use_rtype: Use rtype instead of type?\n",
       "\n",
       "For the memory consumption of the biggest 10 local variables call:\n",
       "bpy.memory_consumption( locals() )\n",
       "\u001b[31mFile:\u001b[39m      /media/me/LinuxDropbox/Dropbox/31_Projekte/01_Python/88_PyCharm/bpyth/src/bpyth/bpyth_object_analysis.py\n",
       "\u001b[31mType:\u001b[39m      function"
      ]
     },
     "metadata": {},
     "output_type": "display_data"
    }
   ],
   "source": [
    "?bpy.memory_consumption"
   ]
  },
  {
   "cell_type": "code",
   "execution_count": 39,
   "metadata": {
    "execution": {
     "iopub.execute_input": "2025-03-12T18:10:38.916766Z",
     "iopub.status.busy": "2025-03-12T18:10:38.916514Z",
     "iopub.status.idle": "2025-03-12T18:10:38.945319Z",
     "shell.execute_reply": "2025-03-12T18:10:38.944145Z",
     "shell.execute_reply.started": "2025-03-12T18:10:38.916747Z"
    }
   },
   "outputs": [
    {
     "data": {
      "text/plain": [
       "[('Markdown', 'type', '1.7 KB'),\n",
       " ('HTML', 'type', '1.7 KB'),\n",
       " ('Stop', 'type', '936.0 B'),\n",
       " ('_i35', 'str', '671.0 B'),\n",
       " ('__', 'Series', '548.0 B'),\n",
       " ('obj_43b', 'Series', '548.0 B'),\n",
       " ('_36', 'Series', '548.0 B'),\n",
       " ('_i31', 'str', '528.0 B'),\n",
       " ('@py_format17', 'str', '517.0 B'),\n",
       " ('@py_format15', 'str', '510.0 B')]"
      ]
     },
     "execution_count": 39,
     "metadata": {},
     "output_type": "execute_result"
    }
   ],
   "source": [
    "bpy.memory_consumption( locals() )"
   ]
  },
  {
   "cell_type": "code",
   "execution_count": null,
   "metadata": {},
   "outputs": [],
   "source": []
  }
 ],
 "metadata": {
  "kernelspec": {
   "display_name": "Python 3 (ipykernel)",
   "language": "python",
   "name": "python3"
  },
  "language_info": {
   "codemirror_mode": {
    "name": "ipython",
    "version": 3
   },
   "file_extension": ".py",
   "mimetype": "text/x-python",
   "name": "python",
   "nbconvert_exporter": "python",
   "pygments_lexer": "ipython3",
   "version": "3.12.9"
  }
 },
 "nbformat": 4,
 "nbformat_minor": 4
}
