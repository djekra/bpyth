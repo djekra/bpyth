{
 "cells": [
  {
   "cell_type": "markdown",
   "metadata": {},
   "source": [
    "# bpyth Object Analysis Tools\n",
    "* `rtype`: Recursive type. Parses an n-dimensional object and returns a tuple of stype for the scalar in the top left corner.\n",
    "* `shape`: Recursive len. Parses an n-dimensional object and returns a tuple of sizes.\n",
    "* `has_shape`: Does an object have additional dimensions? (Skalars: No, Strings: No, Empty Iterables: No,\n",
    "    Other Iterables: Yes)"
   ]
  },
  {
   "cell_type": "code",
   "execution_count": 60,
   "metadata": {},
   "outputs": [
    {
     "name": "stdout",
     "output_type": "stream",
     "text": [
      "JupyterLab Tools Version 0.22\n",
      "found local libs at /mnt/DATA/Dropbox/31_Projekte/01_Python/libs\n",
      "Start Time: 17:40:42\n"
     ]
    },
    {
     "data": {
      "text/html": [
       "<img src onerror=\"var cell = this.closest('.jp-CodeCell');var editor = cell.querySelector('.jp-Editor');editor.style.background='Beige';this.parentNode.removeChild(this)\">"
      ],
      "text/plain": [
       "<IPython.core.display.HTML object>"
      ]
     },
     "metadata": {},
     "output_type": "display_data"
    },
    {
     "name": "stdout",
     "output_type": "stream",
     "text": [
      "time: 26.5 ms (started: 2022-09-08 17:40:42 +02:00)\n"
     ]
    }
   ],
   "source": [
    "%run 98___blab_tools.ipynb"
   ]
  },
  {
   "cell_type": "code",
   "execution_count": 61,
   "metadata": {},
   "outputs": [
    {
     "name": "stdout",
     "output_type": "stream",
     "text": [
      "time: 23.3 ms (started: 2022-09-08 17:40:42 +02:00)\n"
     ]
    }
   ],
   "source": [
    "import bpyth as bpy"
   ]
  },
  {
   "cell_type": "markdown",
   "metadata": {},
   "source": [
    "## has_shape"
   ]
  },
  {
   "cell_type": "code",
   "execution_count": 88,
   "metadata": {
    "tags": []
   },
   "outputs": [
    {
     "name": "stdout",
     "output_type": "stream",
     "text": [
      "time: 32.1 ms (started: 2022-09-08 17:41:21 +02:00)\n"
     ]
    },
    {
     "data": {
      "text/plain": [
       "\u001b[0;31mSignature:\u001b[0m \u001b[0mbpy\u001b[0m\u001b[0;34m.\u001b[0m\u001b[0mhas_shape\u001b[0m\u001b[0;34m(\u001b[0m\u001b[0minputobjekt\u001b[0m\u001b[0;34m)\u001b[0m\u001b[0;34m\u001b[0m\u001b[0;34m\u001b[0m\u001b[0m\n",
       "\u001b[0;31mDocstring:\u001b[0m\n",
       "Does an object have additional dimensions?\n",
       "Skalars: No\n",
       "Strings: No (per definition)    \n",
       "Other Iterables: Yes\n",
       "\u001b[0;31mFile:\u001b[0m      /mnt/DATA/Dropbox/31_Projekte/01_Python/git/bpyth/bpyth/bpy_object_analysis.py\n",
       "\u001b[0;31mType:\u001b[0m      function\n"
      ]
     },
     "metadata": {},
     "output_type": "display_data"
    }
   ],
   "source": [
    "?bpy.has_shape"
   ]
  },
  {
   "cell_type": "code",
   "execution_count": 94,
   "metadata": {},
   "outputs": [
    {
     "name": "stdout",
     "output_type": "stream",
     "text": [
      "time: 41.2 ms (started: 2022-09-08 17:43:26 +02:00)\n"
     ]
    }
   ],
   "source": [
    "assert bpy.has_shape(list('abc'))\n",
    "assert bpy.has_shape((1,2))"
   ]
  },
  {
   "cell_type": "code",
   "execution_count": 97,
   "metadata": {},
   "outputs": [
    {
     "name": "stdout",
     "output_type": "stream",
     "text": [
      "time: 42.2 ms (started: 2022-09-08 17:43:59 +02:00)\n"
     ]
    }
   ],
   "source": [
    "assert not bpy.has_shape([])\n",
    "assert not bpy.has_shape(1)\n",
    "assert not bpy.has_shape('abc')\n",
    "assert not bpy.has_shape(None)"
   ]
  },
  {
   "cell_type": "markdown",
   "metadata": {},
   "source": [
    "## rtype and shape of pure python objects"
   ]
  },
  {
   "cell_type": "code",
   "execution_count": 62,
   "metadata": {
    "tags": []
   },
   "outputs": [
    {
     "name": "stdout",
     "output_type": "stream",
     "text": [
      "time: 46.9 ms (started: 2022-09-08 17:40:42 +02:00)\n"
     ]
    },
    {
     "data": {
      "text/plain": [
       "\u001b[0;31mSignature:\u001b[0m \u001b[0mbpy\u001b[0m\u001b[0;34m.\u001b[0m\u001b[0mshape\u001b[0m\u001b[0;34m(\u001b[0m\u001b[0mobj\u001b[0m\u001b[0;34m)\u001b[0m\u001b[0;34m\u001b[0m\u001b[0;34m\u001b[0m\u001b[0m\n",
       "\u001b[0;31mDocstring:\u001b[0m\n",
       "Recursive len. Parses an n-dimensional object and returns a tuple of sizes.\n",
       "Caution: only a single scalar is found. A heterogeneous data structure cannot be parsed meaningfully.     \n",
       "\u001b[0;31mFile:\u001b[0m      /mnt/DATA/Dropbox/31_Projekte/01_Python/git/bpyth/bpyth/bpy_object_analysis.py\n",
       "\u001b[0;31mType:\u001b[0m      function\n"
      ]
     },
     "metadata": {},
     "output_type": "display_data"
    }
   ],
   "source": [
    "?bpy.shape"
   ]
  },
  {
   "cell_type": "code",
   "execution_count": 63,
   "metadata": {
    "tags": []
   },
   "outputs": [
    {
     "name": "stdout",
     "output_type": "stream",
     "text": [
      "time: 58.7 ms (started: 2022-09-08 17:40:43 +02:00)\n"
     ]
    },
    {
     "data": {
      "text/plain": [
       "\u001b[0;31mSignature:\u001b[0m \u001b[0mbpy\u001b[0m\u001b[0;34m.\u001b[0m\u001b[0mrtype\u001b[0m\u001b[0;34m(\u001b[0m\u001b[0minputobjekt\u001b[0m\u001b[0;34m)\u001b[0m\u001b[0;34m\u001b[0m\u001b[0;34m\u001b[0m\u001b[0m\n",
       "\u001b[0;31mDocstring:\u001b[0m\n",
       "Recursive type. Parses an n-dimensional object and returns a tuple of stype for the scalar in the top left corner. \n",
       "E.g. an array of lists of ints returns ('ndarray', 'list', 'int').\n",
       "Caution: only a single scalar is found. A heterogeneous data structure cannot be parsed meaningfully. \n",
       "\u001b[0;31mFile:\u001b[0m      /mnt/DATA/Dropbox/31_Projekte/01_Python/git/bpyth/bpyth/bpy_object_analysis.py\n",
       "\u001b[0;31mType:\u001b[0m      function\n"
      ]
     },
     "metadata": {},
     "output_type": "display_data"
    }
   ],
   "source": [
    "?bpy.rtype"
   ]
  },
  {
   "cell_type": "code",
   "execution_count": 64,
   "metadata": {},
   "outputs": [
    {
     "name": "stdout",
     "output_type": "stream",
     "text": [
      "time: 100 ms (started: 2022-09-08 17:40:43 +02:00)\n"
     ]
    }
   ],
   "source": [
    "# 0 Dimensionen\n",
    "assert bpy.shape('jjj' ) == tuple()\n",
    "assert bpy.shape(123)    == tuple()\n",
    "assert bpy.shape(None)   == tuple()\n",
    "assert bpy.shape([])     == tuple()\n",
    "assert bpy.shape({})     == tuple()"
   ]
  },
  {
   "cell_type": "code",
   "execution_count": 65,
   "metadata": {},
   "outputs": [
    {
     "name": "stdout",
     "output_type": "stream",
     "text": [
      "time: 60.2 ms (started: 2022-09-08 17:40:43 +02:00)\n"
     ]
    }
   ],
   "source": [
    "# 0 Dimensionen\n",
    "assert bpy.rtype(123)    == ('int',)\n",
    "assert bpy.rtype(None)   == ('NoneType',)\n",
    "assert bpy.rtype([])     == ('list',)\n",
    "assert bpy.rtype({})     == ('dict',)\n",
    "assert bpy.rtype('jjj' ) == ('str',)"
   ]
  },
  {
   "cell_type": "code",
   "execution_count": 66,
   "metadata": {},
   "outputs": [
    {
     "name": "stdout",
     "output_type": "stream",
     "text": [
      "time: 98.2 ms (started: 2022-09-08 17:40:43 +02:00)\n"
     ]
    }
   ],
   "source": [
    "# 1 Dimension\n",
    "obj_4 = ( 'abcde', 'grfer', 'btjqw', 'bqwer' )\n",
    "assert bpy.shape(obj_4) == (4,)\n",
    "assert bpy.rtype(obj_4) == ('tuple', 'str')"
   ]
  },
  {
   "cell_type": "code",
   "execution_count": 67,
   "metadata": {},
   "outputs": [
    {
     "name": "stdout",
     "output_type": "stream",
     "text": [
      "time: 53.8 ms (started: 2022-09-08 17:40:43 +02:00)\n"
     ]
    }
   ],
   "source": [
    "# shit \n",
    "obj_shit = [[]]\n",
    "assert bpy.shape(obj_shit) == (1,)\n",
    "assert bpy.rtype(obj_shit) == ('list', 'list')"
   ]
  },
  {
   "cell_type": "code",
   "execution_count": 68,
   "metadata": {},
   "outputs": [
    {
     "name": "stdout",
     "output_type": "stream",
     "text": [
      "time: 71.8 ms (started: 2022-09-08 17:40:43 +02:00)\n"
     ]
    }
   ],
   "source": [
    "# shit\n",
    "obj_shit = [[1]]\n",
    "assert bpy.shape(obj_shit) == (1,1)\n",
    "assert bpy.rtype(obj_shit) == ('list', 'list','int')"
   ]
  },
  {
   "cell_type": "code",
   "execution_count": 69,
   "metadata": {},
   "outputs": [
    {
     "name": "stdout",
     "output_type": "stream",
     "text": [
      "time: 48.7 ms (started: 2022-09-08 17:40:43 +02:00)\n"
     ]
    }
   ],
   "source": [
    "# 1 Dimension, heterogener Inhalt: Nur das erste Element wird untersucht!\n",
    "obj_3 = ( 'ICH WERDE UNTERSUCHT', -77, -99 )\n",
    "assert bpy.shape(obj_3) == (3,)\n",
    "assert bpy.rtype(obj_3) == ('tuple', 'str')"
   ]
  },
  {
   "cell_type": "code",
   "execution_count": 70,
   "metadata": {},
   "outputs": [
    {
     "name": "stdout",
     "output_type": "stream",
     "text": [
      "time: 75.1 ms (started: 2022-09-08 17:40:43 +02:00)\n"
     ]
    }
   ],
   "source": [
    "# 2 Dimensionen\n",
    "obj_43 = [[1,2,3],[4,5,6], [7, 8, 9], [10, 11, 12]]\n",
    "assert bpy.shape(obj_43) == (4,3)\n",
    "assert bpy.shape(tuple(obj_43)) == (4,3)\n",
    "assert bpy.rtype(obj_43) == ('list', 'list', 'int')"
   ]
  },
  {
   "cell_type": "code",
   "execution_count": 71,
   "metadata": {},
   "outputs": [
    {
     "name": "stdout",
     "output_type": "stream",
     "text": [
      "time: 37.3 ms (started: 2022-09-08 17:40:43 +02:00)\n"
     ]
    }
   ],
   "source": [
    "# 3 Dimensionen\n",
    "obj_533 = [\n",
    "    [[0, 0, 0], [1, 1, 1], [2, 2, 2]],\n",
    "    [[0, 0, 0], [1, 1, 1], [2, 2, 2]],\n",
    "    [[0, 0, 0], [1, 1, 1], [2, 2, 2]],\n",
    "    [[0, 0, 0], [1, 1, 1], [2, 2, 2]],\n",
    "    [[0, 0, 0], [1, 1, 1], [2, 2, 2]],\n",
    "]\n",
    "assert bpy.shape(obj_533) == (5, 3, 3)\n",
    "assert bpy.rtype(obj_533) == ('list', 'list', 'list', 'int')"
   ]
  },
  {
   "cell_type": "code",
   "execution_count": 72,
   "metadata": {},
   "outputs": [
    {
     "name": "stdout",
     "output_type": "stream",
     "text": [
      "time: 51.8 ms (started: 2022-09-08 17:40:43 +02:00)\n"
     ]
    }
   ],
   "source": [
    "# Anderer Datentyp\n",
    "obj_45 = [ list('abcde'), list('grfer'), list('btjqw'), list('bqwer') ]\n",
    "assert bpy.shape(obj_45) == (4,5)\n",
    "assert bpy.rtype(obj_45) == ('list', 'list', 'str')"
   ]
  },
  {
   "cell_type": "code",
   "execution_count": 73,
   "metadata": {},
   "outputs": [
    {
     "name": "stdout",
     "output_type": "stream",
     "text": [
      "time: 46.5 ms (started: 2022-09-08 17:40:43 +02:00)\n"
     ]
    }
   ],
   "source": [
    "# 2 Dimensionen mit leeren Listen\n",
    "obj_53 = [\n",
    "    [[], [], []],\n",
    "    [[], [], []],\n",
    "    [[], [], []],\n",
    "    [[], [], []],\n",
    "    [[], [], []],\n",
    "]\n",
    "assert bpy.shape(obj_53) == (5,3)\n",
    "assert bpy.rtype(obj_53) == ('list', 'list', 'list')"
   ]
  },
  {
   "cell_type": "code",
   "execution_count": 74,
   "metadata": {},
   "outputs": [
    {
     "name": "stdout",
     "output_type": "stream",
     "text": [
      "time: 66.3 ms (started: 2022-09-08 17:40:43 +02:00)\n"
     ]
    }
   ],
   "source": [
    "dict_3 = {'A': 1,\n",
    "          'B': 2,\n",
    "          'C': 3,              \n",
    "               }\n",
    "\n",
    "assert bpy.shape(dict_3) == (3,)\n",
    "assert bpy.rtype(dict_3) == ('dict', 'int')"
   ]
  },
  {
   "cell_type": "code",
   "execution_count": 75,
   "metadata": {},
   "outputs": [
    {
     "name": "stdout",
     "output_type": "stream",
     "text": [
      "time: 95 ms (started: 2022-09-08 17:40:43 +02:00)\n"
     ]
    }
   ],
   "source": [
    "dict_54 = {'A': [1,4,5,6],\n",
    "           'B': [2,4,5,6],\n",
    "           'C': [3,4,0,9],\n",
    "           'D': [4,4,5,9],\n",
    "           'E': [5,4,5,6],                \n",
    "               }\n",
    "assert bpy.shape(dict_54) == (5,4)\n",
    "assert bpy.rtype(dict_54) == ('dict', 'list', 'int')"
   ]
  },
  {
   "cell_type": "code",
   "execution_count": 76,
   "metadata": {},
   "outputs": [
    {
     "name": "stdout",
     "output_type": "stream",
     "text": [
      "time: 106 ms (started: 2022-09-08 17:40:44 +02:00)\n"
     ]
    }
   ],
   "source": [
    "dict_54b = {'A': (1,4,5,6),\n",
    "            'B': (2,4,5,6),\n",
    "            'C': (3,4,0,9),\n",
    "            'D': (4,4,5,9),\n",
    "            'E': (5,4,5,6),                \n",
    "               }\n",
    "assert bpy.shape(dict_54b) == (5,4)\n",
    "assert bpy.rtype(dict_54b) == ('dict', 'tuple', 'int')"
   ]
  },
  {
   "cell_type": "code",
   "execution_count": 77,
   "metadata": {},
   "outputs": [
    {
     "name": "stdout",
     "output_type": "stream",
     "text": [
      "time: 45 ms (started: 2022-09-08 17:40:44 +02:00)\n"
     ]
    }
   ],
   "source": [
    "dict_32 = {'A': ((),(),),\n",
    "           'B': ((),(),),    \n",
    "           'C': ((),(),),                \n",
    "               }\n",
    "assert bpy.shape(dict_32) == (3,2)\n",
    "assert bpy.rtype(dict_32) == ('dict', 'tuple', 'tuple')"
   ]
  },
  {
   "cell_type": "markdown",
   "metadata": {},
   "source": [
    "## rtype and shape of pandas and numpy objects"
   ]
  },
  {
   "cell_type": "code",
   "execution_count": 78,
   "metadata": {},
   "outputs": [
    {
     "name": "stdout",
     "output_type": "stream",
     "text": [
      "time: 75 ms (started: 2022-09-08 17:40:44 +02:00)\n"
     ]
    }
   ],
   "source": [
    "import pandas     as pd \n",
    "import numpy      as np"
   ]
  },
  {
   "cell_type": "code",
   "execution_count": 79,
   "metadata": {},
   "outputs": [
    {
     "name": "stdout",
     "output_type": "stream",
     "text": [
      "time: 70.4 ms (started: 2022-09-08 17:40:44 +02:00)\n"
     ]
    }
   ],
   "source": [
    "# 0 Dimensionen\n",
    "assert bpy.shape( np.array([]) )               == tuple()\n",
    "assert bpy.shape( pd.Series(dtype='float64') ) == tuple()\n",
    "assert bpy.shape( pd.DataFrame() )             == tuple()\n",
    "assert bpy.shape( pd.DataFrame([]) )           == tuple()\n",
    "assert bpy.shape( pd.DataFrame([[]]) )         == tuple()"
   ]
  },
  {
   "cell_type": "code",
   "execution_count": 80,
   "metadata": {},
   "outputs": [
    {
     "name": "stdout",
     "output_type": "stream",
     "text": [
      "time: 63.6 ms (started: 2022-09-08 17:40:44 +02:00)\n"
     ]
    }
   ],
   "source": [
    "# 0 Dimensionen\n",
    "assert bpy.rtype( np.array([]) )               == ('ndarray',)\n",
    "assert bpy.rtype( pd.Series(dtype='float64') ) == ('Series',)\n",
    "assert bpy.rtype( pd.DataFrame() )             == ('DataFrame',)\n",
    "assert bpy.rtype( pd.DataFrame([]) )           == ('DataFrame',)\n",
    "assert bpy.rtype( pd.DataFrame([[]]) )         == ('DataFrame','Series')"
   ]
  },
  {
   "cell_type": "code",
   "execution_count": 81,
   "metadata": {},
   "outputs": [
    {
     "name": "stdout",
     "output_type": "stream",
     "text": [
      "time: 66.3 ms (started: 2022-09-08 17:40:44 +02:00)\n"
     ]
    }
   ],
   "source": [
    "# 1 Dimensionen\n",
    "assert bpy.rtype( np.array(['a']) )                == ('ndarray','str')\n",
    "try:\n",
    "    assert bpy.rtype( np.array([1]) )              == ('ndarray','int32')\n",
    "except:\n",
    "    assert bpy.rtype( np.array([1]) )              == ('ndarray','int64')\n",
    "assert bpy.rtype( pd.Series([1],dtype='float64') ) == ('Series','float')\n",
    "assert bpy.rtype( pd.DataFrame(['a']) )            == ('DataFrame','Series','str')\n",
    "assert bpy.rtype( pd.DataFrame([['a']]) )          == ('DataFrame','Series','str')"
   ]
  },
  {
   "cell_type": "code",
   "execution_count": 82,
   "metadata": {},
   "outputs": [
    {
     "name": "stdout",
     "output_type": "stream",
     "text": [
      "time: 54.9 ms (started: 2022-09-08 17:40:44 +02:00)\n"
     ]
    }
   ],
   "source": [
    "# 2 Dimensionen, dict mit np.array\n",
    "dict_24 = { 'Zeile0': np.array([3] * 4, dtype='int32'),\n",
    "            'Zeile1': np.array([4] * 4, dtype='int32') }\n",
    "\n",
    "assert bpy.shape(dict_24) == (2,4)\n",
    "assert bpy.rtype(dict_24) == ('dict', 'ndarray', 'int32')"
   ]
  },
  {
   "cell_type": "code",
   "execution_count": 83,
   "metadata": {},
   "outputs": [
    {
     "name": "stdout",
     "output_type": "stream",
     "text": [
      "time: 118 ms (started: 2022-09-08 17:40:44 +02:00)\n"
     ]
    }
   ],
   "source": [
    "# Einzeiliges dict mit pd.Categorical\n",
    "dict_14 = { 'Zeile1': pd.Categorical([\"test\", \"train\", \"test\", \"train\"]) }\n",
    "\n",
    "assert bpy.shape(dict_14) == (1,4)\n",
    "assert bpy.rtype(dict_14) == ('dict', 'Categorical', 'str')"
   ]
  },
  {
   "cell_type": "code",
   "execution_count": 84,
   "metadata": {},
   "outputs": [
    {
     "name": "stdout",
     "output_type": "stream",
     "text": [
      "time: 70.9 ms (started: 2022-09-08 17:40:44 +02:00)\n"
     ]
    }
   ],
   "source": [
    "import pandasklar as pak "
   ]
  },
  {
   "cell_type": "code",
   "execution_count": 85,
   "metadata": {},
   "outputs": [
    {
     "name": "stdout",
     "output_type": "stream",
     "text": [
      "('list', 'Series', 'int')\n",
      "('list', 'Series', 'str')\n",
      "('list', 'Series', 'str')\n",
      "('list', 'Series', 'str')\n",
      "('list', 'Series', 'float')\n",
      "time: 74.4 ms (started: 2022-09-08 17:40:44 +02:00)\n"
     ]
    }
   ],
   "source": [
    "# list of Series mit Random Inhalt\n",
    "obj = 0\n",
    "for typ in list('isncf'):\n",
    "    obj = [ pak.random_series( 3, typ), \n",
    "            pak.random_series( 3, typ) ]\n",
    "    print(bpy.rtype(obj))\n",
    "    assert bpy.shape(obj) == (2, 3)\n",
    "assert bpy.rtype(obj) == ('list', 'Series', 'float') # ´hier wird nur der letze Wert getestet"
   ]
  },
  {
   "cell_type": "code",
   "execution_count": 86,
   "metadata": {},
   "outputs": [
    {
     "data": {
      "text/plain": [
       "0       [1, 2, 3]\n",
       "1       [4, 5, 6]\n",
       "2       [7, 8, 9]\n",
       "3    [10, 11, 12]\n",
       "dtype: object"
      ]
     },
     "execution_count": 86,
     "metadata": {},
     "output_type": "execute_result"
    },
    {
     "name": "stdout",
     "output_type": "stream",
     "text": [
      "time: 77.4 ms (started: 2022-09-08 17:40:44 +02:00)\n"
     ]
    }
   ],
   "source": [
    "# Series of lists of int\n",
    "obj_43 = [[1,2,3],[4,5,6], [7, 8, 9], [10, 11, 12]]\n",
    "obj_43b = pd.Series(obj_43)\n",
    "assert bpy.shape(obj_43b) == (4,3)\n",
    "assert bpy.rtype(obj_43b) == ('Series', 'list', 'int')\n",
    "obj_43b"
   ]
  },
  {
   "cell_type": "code",
   "execution_count": 87,
   "metadata": {},
   "outputs": [
    {
     "data": {
      "text/html": [
       "<div>\n",
       "<style scoped>\n",
       "    .dataframe tbody tr th:only-of-type {\n",
       "        vertical-align: middle;\n",
       "    }\n",
       "\n",
       "    .dataframe tbody tr th {\n",
       "        vertical-align: top;\n",
       "    }\n",
       "\n",
       "    .dataframe thead th {\n",
       "        text-align: right;\n",
       "    }\n",
       "</style>\n",
       "<table border=\"1\" class=\"dataframe\">\n",
       "  <thead>\n",
       "    <tr style=\"text-align: right;\">\n",
       "      <th></th>\n",
       "      <th>0</th>\n",
       "      <th>1</th>\n",
       "      <th>2</th>\n",
       "    </tr>\n",
       "  </thead>\n",
       "  <tbody>\n",
       "    <tr>\n",
       "      <th>0</th>\n",
       "      <td>a</td>\n",
       "      <td>2</td>\n",
       "      <td>3.0</td>\n",
       "    </tr>\n",
       "    <tr>\n",
       "      <th>1</th>\n",
       "      <td>b</td>\n",
       "      <td>5</td>\n",
       "      <td>6.0</td>\n",
       "    </tr>\n",
       "    <tr>\n",
       "      <th>2</th>\n",
       "      <td>c</td>\n",
       "      <td>8</td>\n",
       "      <td>9.0</td>\n",
       "    </tr>\n",
       "    <tr>\n",
       "      <th>3</th>\n",
       "      <td>d</td>\n",
       "      <td>11</td>\n",
       "      <td>12.0</td>\n",
       "    </tr>\n",
       "  </tbody>\n",
       "</table>\n",
       "</div>"
      ],
      "text/plain": [
       "   0   1     2\n",
       "0  a   2   3.0\n",
       "1  b   5   6.0\n",
       "2  c   8   9.0\n",
       "3  d  11  12.0"
      ]
     },
     "execution_count": 87,
     "metadata": {},
     "output_type": "execute_result"
    },
    {
     "name": "stdout",
     "output_type": "stream",
     "text": [
      "time: 69.1 ms (started: 2022-09-08 17:40:45 +02:00)\n"
     ]
    }
   ],
   "source": [
    "# Normales DataFrame mit heterogenen Spalten:\n",
    "# Nur das erste Element wird untersucht!\n",
    "obj_43 = [['a',2,3.0],['b',5,6.0], ['c', 8, 9.0], ['d', 11, 12.0]]\n",
    "obj_43c = pd.DataFrame(obj_43)\n",
    "assert bpy.shape(obj_43c) == (4,3)\n",
    "assert bpy.shape(obj_43c) == obj_43c.shape\n",
    "assert bpy.rtype(obj_43c) == ('DataFrame', 'Series', 'str')\n",
    "#rtype(obj_43c)\n",
    "obj_43c"
   ]
  },
  {
   "cell_type": "code",
   "execution_count": null,
   "metadata": {},
   "outputs": [],
   "source": []
  }
 ],
 "metadata": {
  "kernelspec": {
   "display_name": "Python 3 (ipykernel)",
   "language": "python",
   "name": "python3"
  },
  "language_info": {
   "codemirror_mode": {
    "name": "ipython",
    "version": 3
   },
   "file_extension": ".py",
   "mimetype": "text/x-python",
   "name": "python",
   "nbconvert_exporter": "python",
   "pygments_lexer": "ipython3",
   "version": "3.8.8"
  }
 },
 "nbformat": 4,
 "nbformat_minor": 4
}
