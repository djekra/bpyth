{
 "cells": [
  {
   "cell_type": "code",
   "execution_count": 1,
   "metadata": {},
   "outputs": [
    {
     "name": "stdout",
     "output_type": "stream",
     "text": [
      "blab init\n",
      "blab found local libs at /media/me/DATA/Dropbox/31_Projekte/01_Python/libs\n",
      "Start Time: 17:07:48\n"
     ]
    },
    {
     "data": {
      "text/html": [
       "<img src onerror=\"var cell = this.closest('.jp-CodeCell');var editor = cell.querySelector('.jp-Editor');editor.style.background='Beige';this.parentNode.removeChild(this)\">"
      ],
      "text/plain": [
       "<IPython.core.display.HTML object>"
      ]
     },
     "metadata": {},
     "output_type": "display_data"
    },
    {
     "name": "stdout",
     "output_type": "stream",
     "text": [
      "time: 394 ms\n"
     ]
    }
   ],
   "source": [
    "# blab init\n",
    "try:\n",
    "    import blab\n",
    "    startup_notebook = blab.blab_startup()\n",
    "    %run $startup_notebook\n",
    "except:\n",
    "    pass"
   ]
  },
  {
   "cell_type": "markdown",
   "metadata": {},
   "source": [
    "# bpyth Object Analysis Tools\n",
    "* `rtype`: Recursive type. Parses an n-dimensional object and returns a tuple of stype for the scalar in the top left corner.\n",
    "* `shape`: Recursive len. Parses an n-dimensional object and returns a tuple of sizes.\n",
    "* `has_shape`: Does an object have additional dimensions? (Skalars: No, Strings: No, Empty Iterables: No,\n",
    "    Other Iterables: Yes)\n",
    "* `memory_consumption`: Returns the memory consumption of Python objects."
   ]
  },
  {
   "cell_type": "code",
   "execution_count": 2,
   "metadata": {},
   "outputs": [
    {
     "name": "stdout",
     "output_type": "stream",
     "text": [
      "time: 11.1 ms\n"
     ]
    }
   ],
   "source": [
    "import bpyth as bpy"
   ]
  },
  {
   "cell_type": "markdown",
   "metadata": {},
   "source": [
    "## has_shape"
   ]
  },
  {
   "cell_type": "code",
   "execution_count": 3,
   "metadata": {
    "tags": []
   },
   "outputs": [
    {
     "name": "stdout",
     "output_type": "stream",
     "text": [
      "time: 122 ms\n"
     ]
    },
    {
     "data": {
      "text/plain": [
       "\u001b[0;31mSignature:\u001b[0m \u001b[0mbpy\u001b[0m\u001b[0;34m.\u001b[0m\u001b[0mhas_shape\u001b[0m\u001b[0;34m(\u001b[0m\u001b[0minputobjekt\u001b[0m\u001b[0;34m)\u001b[0m\u001b[0;34m\u001b[0m\u001b[0;34m\u001b[0m\u001b[0m\n",
       "\u001b[0;31mDocstring:\u001b[0m\n",
       "Does an object have additional dimensions?\n",
       "Skalars: No\n",
       "Strings: No (per definition)    \n",
       "Empty Iterables: No (per definition)    \n",
       "Other Iterables: Yes\n",
       "\u001b[0;31mFile:\u001b[0m      /media/me/DATA/Dropbox/31_Projekte/01_Python/git/bpyth/src/bpyth/bpyth_object_analysis.py\n",
       "\u001b[0;31mType:\u001b[0m      function\n"
      ]
     },
     "metadata": {},
     "output_type": "display_data"
    }
   ],
   "source": [
    "?bpy.has_shape"
   ]
  },
  {
   "cell_type": "code",
   "execution_count": 4,
   "metadata": {},
   "outputs": [
    {
     "name": "stdout",
     "output_type": "stream",
     "text": [
      "time: 11.3 ms\n"
     ]
    }
   ],
   "source": [
    "assert bpy.has_shape(list('abc'))\n",
    "assert bpy.has_shape((1,2))"
   ]
  },
  {
   "cell_type": "code",
   "execution_count": 5,
   "metadata": {},
   "outputs": [
    {
     "name": "stdout",
     "output_type": "stream",
     "text": [
      "time: 18.8 ms\n"
     ]
    }
   ],
   "source": [
    "assert not bpy.has_shape([])\n",
    "assert not bpy.has_shape(1)\n",
    "assert not bpy.has_shape('abc')\n",
    "assert not bpy.has_shape(None)"
   ]
  },
  {
   "cell_type": "markdown",
   "metadata": {},
   "source": [
    "## rtype and shape of pure python objects"
   ]
  },
  {
   "cell_type": "code",
   "execution_count": 6,
   "metadata": {
    "tags": []
   },
   "outputs": [
    {
     "name": "stdout",
     "output_type": "stream",
     "text": [
      "time: 18.8 ms\n"
     ]
    },
    {
     "data": {
      "text/plain": [
       "\u001b[0;31mSignature:\u001b[0m \u001b[0mbpy\u001b[0m\u001b[0;34m.\u001b[0m\u001b[0mshape\u001b[0m\u001b[0;34m(\u001b[0m\u001b[0mobj\u001b[0m\u001b[0;34m)\u001b[0m\u001b[0;34m\u001b[0m\u001b[0;34m\u001b[0m\u001b[0m\n",
       "\u001b[0;31mDocstring:\u001b[0m\n",
       "Recursive len. Parses an n-dimensional object and returns a tuple of sizes.\n",
       "Caution: only a single scalar is found. A heterogeneous data structure cannot be parsed meaningfully.     \n",
       "\u001b[0;31mFile:\u001b[0m      /media/me/DATA/Dropbox/31_Projekte/01_Python/git/bpyth/src/bpyth/bpyth_object_analysis.py\n",
       "\u001b[0;31mType:\u001b[0m      function\n"
      ]
     },
     "metadata": {},
     "output_type": "display_data"
    }
   ],
   "source": [
    "?bpy.shape"
   ]
  },
  {
   "cell_type": "code",
   "execution_count": 7,
   "metadata": {
    "tags": []
   },
   "outputs": [
    {
     "name": "stdout",
     "output_type": "stream",
     "text": [
      "time: 28.1 ms\n"
     ]
    },
    {
     "data": {
      "text/plain": [
       "\u001b[0;31mSignature:\u001b[0m \u001b[0mbpy\u001b[0m\u001b[0;34m.\u001b[0m\u001b[0mrtype\u001b[0m\u001b[0;34m(\u001b[0m\u001b[0minputobjekt\u001b[0m\u001b[0;34m)\u001b[0m\u001b[0;34m\u001b[0m\u001b[0;34m\u001b[0m\u001b[0m\n",
       "\u001b[0;31mDocstring:\u001b[0m\n",
       "Recursive type. Parses an n-dimensional object and returns a tuple of stype for the scalar in the top left corner. \n",
       "E.g. an array of lists of ints returns ('ndarray', 'list', 'int').\n",
       "Caution: only a single scalar is found. A heterogeneous data structure cannot be parsed meaningfully. \n",
       "\u001b[0;31mFile:\u001b[0m      /media/me/DATA/Dropbox/31_Projekte/01_Python/git/bpyth/src/bpyth/bpyth_object_analysis.py\n",
       "\u001b[0;31mType:\u001b[0m      function\n"
      ]
     },
     "metadata": {},
     "output_type": "display_data"
    }
   ],
   "source": [
    "?bpy.rtype"
   ]
  },
  {
   "cell_type": "code",
   "execution_count": 8,
   "metadata": {},
   "outputs": [
    {
     "name": "stdout",
     "output_type": "stream",
     "text": [
      "time: 29.2 ms\n"
     ]
    }
   ],
   "source": [
    "# 0 Dimensionen\n",
    "assert bpy.shape('jjj' ) == tuple()\n",
    "assert bpy.shape(123)    == tuple()\n",
    "assert bpy.shape(None)   == tuple()\n",
    "assert bpy.shape([])     == tuple()\n",
    "assert bpy.shape({})     == tuple()"
   ]
  },
  {
   "cell_type": "code",
   "execution_count": 9,
   "metadata": {},
   "outputs": [
    {
     "name": "stdout",
     "output_type": "stream",
     "text": [
      "time: 23.5 ms\n"
     ]
    }
   ],
   "source": [
    "# 0 Dimensionen\n",
    "assert bpy.rtype(123)    == ('int',)\n",
    "assert bpy.rtype(None)   == ('NoneType',)\n",
    "assert bpy.rtype([])     == ('list',)\n",
    "assert bpy.rtype({})     == ('dict',)\n",
    "assert bpy.rtype('jjj' ) == ('str',)"
   ]
  },
  {
   "cell_type": "code",
   "execution_count": 10,
   "metadata": {},
   "outputs": [
    {
     "name": "stdout",
     "output_type": "stream",
     "text": [
      "time: 15.9 ms\n"
     ]
    }
   ],
   "source": [
    "# 1 Dimension\n",
    "obj_4 = ( 'abcde', 'grfer', 'btjqw', 'bqwer' )\n",
    "assert bpy.shape(obj_4) == (4,)\n",
    "assert bpy.rtype(obj_4) == ('tuple', 'str')"
   ]
  },
  {
   "cell_type": "code",
   "execution_count": 11,
   "metadata": {},
   "outputs": [
    {
     "name": "stdout",
     "output_type": "stream",
     "text": [
      "time: 27.8 ms\n"
     ]
    }
   ],
   "source": [
    "# shit \n",
    "obj_shit = [[]]\n",
    "assert bpy.shape(obj_shit) == (1,)\n",
    "assert bpy.rtype(obj_shit) == ('list', 'list')"
   ]
  },
  {
   "cell_type": "code",
   "execution_count": 12,
   "metadata": {},
   "outputs": [
    {
     "name": "stdout",
     "output_type": "stream",
     "text": [
      "time: 17.8 ms\n"
     ]
    }
   ],
   "source": [
    "# shit\n",
    "obj_shit = [[1]]\n",
    "assert bpy.shape(obj_shit) == (1,1)\n",
    "assert bpy.rtype(obj_shit) == ('list', 'list','int')"
   ]
  },
  {
   "cell_type": "code",
   "execution_count": 13,
   "metadata": {},
   "outputs": [
    {
     "name": "stdout",
     "output_type": "stream",
     "text": [
      "time: 25.5 ms\n"
     ]
    }
   ],
   "source": [
    "# 1 Dimension, heterogener Inhalt: Nur das erste Element wird untersucht!\n",
    "obj_3 = ( 'ICH WERDE UNTERSUCHT', -77, -99 )\n",
    "assert bpy.shape(obj_3) == (3,)\n",
    "assert bpy.rtype(obj_3) == ('tuple', 'str')"
   ]
  },
  {
   "cell_type": "code",
   "execution_count": 14,
   "metadata": {},
   "outputs": [
    {
     "name": "stdout",
     "output_type": "stream",
     "text": [
      "time: 27.7 ms\n"
     ]
    }
   ],
   "source": [
    "# 2 Dimensionen\n",
    "obj_43 = [[1,2,3],[4,5,6], [7, 8, 9], [10, 11, 12]]\n",
    "assert bpy.shape(obj_43) == (4,3)\n",
    "assert bpy.shape(tuple(obj_43)) == (4,3)\n",
    "assert bpy.rtype(obj_43) == ('list', 'list', 'int')"
   ]
  },
  {
   "cell_type": "code",
   "execution_count": 15,
   "metadata": {},
   "outputs": [
    {
     "name": "stdout",
     "output_type": "stream",
     "text": [
      "time: 18.3 ms\n"
     ]
    }
   ],
   "source": [
    "# 3 Dimensionen\n",
    "obj_533 = [\n",
    "    [[0, 0, 0], [1, 1, 1], [2, 2, 2]],\n",
    "    [[0, 0, 0], [1, 1, 1], [2, 2, 2]],\n",
    "    [[0, 0, 0], [1, 1, 1], [2, 2, 2]],\n",
    "    [[0, 0, 0], [1, 1, 1], [2, 2, 2]],\n",
    "    [[0, 0, 0], [1, 1, 1], [2, 2, 2]],\n",
    "]\n",
    "assert bpy.shape(obj_533) == (5, 3, 3)\n",
    "assert bpy.rtype(obj_533) == ('list', 'list', 'list', 'int')"
   ]
  },
  {
   "cell_type": "code",
   "execution_count": 16,
   "metadata": {},
   "outputs": [
    {
     "name": "stdout",
     "output_type": "stream",
     "text": [
      "time: 21.8 ms\n"
     ]
    }
   ],
   "source": [
    "# Anderer Datentyp\n",
    "obj_45 = [ list('abcde'), list('grfer'), list('btjqw'), list('bqwer') ]\n",
    "assert bpy.shape(obj_45) == (4,5)\n",
    "assert bpy.rtype(obj_45) == ('list', 'list', 'str')"
   ]
  },
  {
   "cell_type": "code",
   "execution_count": 17,
   "metadata": {},
   "outputs": [
    {
     "name": "stdout",
     "output_type": "stream",
     "text": [
      "time: 13.5 ms\n"
     ]
    }
   ],
   "source": [
    "# 2 Dimensionen mit leeren Listen\n",
    "obj_53 = [\n",
    "    [[], [], []],\n",
    "    [[], [], []],\n",
    "    [[], [], []],\n",
    "    [[], [], []],\n",
    "    [[], [], []],\n",
    "]\n",
    "assert bpy.shape(obj_53) == (5,3)\n",
    "assert bpy.rtype(obj_53) == ('list', 'list', 'list')"
   ]
  },
  {
   "cell_type": "code",
   "execution_count": 18,
   "metadata": {},
   "outputs": [
    {
     "name": "stdout",
     "output_type": "stream",
     "text": [
      "time: 17.9 ms\n"
     ]
    }
   ],
   "source": [
    "dict_3 = {'A': 1,\n",
    "          'B': 2,\n",
    "          'C': 3,              \n",
    "               }\n",
    "\n",
    "assert bpy.shape(dict_3) == (3,)\n",
    "assert bpy.rtype(dict_3) == ('dict', 'int')"
   ]
  },
  {
   "cell_type": "code",
   "execution_count": 19,
   "metadata": {},
   "outputs": [
    {
     "name": "stdout",
     "output_type": "stream",
     "text": [
      "time: 24.4 ms\n"
     ]
    }
   ],
   "source": [
    "dict_54 = {'A': [1,4,5,6],\n",
    "           'B': [2,4,5,6],\n",
    "           'C': [3,4,0,9],\n",
    "           'D': [4,4,5,9],\n",
    "           'E': [5,4,5,6],                \n",
    "               }\n",
    "assert bpy.shape(dict_54) == (5,4)\n",
    "assert bpy.rtype(dict_54) == ('dict', 'list', 'int')"
   ]
  },
  {
   "cell_type": "code",
   "execution_count": 20,
   "metadata": {},
   "outputs": [
    {
     "name": "stdout",
     "output_type": "stream",
     "text": [
      "time: 18.6 ms\n"
     ]
    }
   ],
   "source": [
    "dict_54b = {'A': (1,4,5,6),\n",
    "            'B': (2,4,5,6),\n",
    "            'C': (3,4,0,9),\n",
    "            'D': (4,4,5,9),\n",
    "            'E': (5,4,5,6),                \n",
    "               }\n",
    "assert bpy.shape(dict_54b) == (5,4)\n",
    "assert bpy.rtype(dict_54b) == ('dict', 'tuple', 'int')"
   ]
  },
  {
   "cell_type": "code",
   "execution_count": 21,
   "metadata": {},
   "outputs": [
    {
     "name": "stdout",
     "output_type": "stream",
     "text": [
      "time: 16.4 ms\n"
     ]
    }
   ],
   "source": [
    "dict_32 = {'A': ((),(),),\n",
    "           'B': ((),(),),    \n",
    "           'C': ((),(),),                \n",
    "               }\n",
    "assert bpy.shape(dict_32) == (3,2)\n",
    "assert bpy.rtype(dict_32) == ('dict', 'tuple', 'tuple')"
   ]
  },
  {
   "cell_type": "markdown",
   "metadata": {},
   "source": [
    "## rtype and shape of pandas and numpy objects"
   ]
  },
  {
   "cell_type": "code",
   "execution_count": 22,
   "metadata": {},
   "outputs": [
    {
     "name": "stdout",
     "output_type": "stream",
     "text": [
      "time: 242 ms\n"
     ]
    }
   ],
   "source": [
    "try:\n",
    "    import pandas     as pd \n",
    "    import numpy      as np\n",
    "except:    \n",
    "    print('pandas not installed')\n",
    "    raise Stop"
   ]
  },
  {
   "cell_type": "code",
   "execution_count": 23,
   "metadata": {},
   "outputs": [
    {
     "name": "stdout",
     "output_type": "stream",
     "text": [
      "time: 45.6 ms\n"
     ]
    }
   ],
   "source": [
    "# 0 Dimensionen\n",
    "assert bpy.shape( np.array([]) )               == tuple()\n",
    "assert bpy.shape( pd.Series(dtype='float64') ) == tuple()\n",
    "assert bpy.shape( pd.DataFrame() )             == tuple()\n",
    "assert bpy.shape( pd.DataFrame([]) )           == tuple()\n",
    "assert bpy.shape( pd.DataFrame([[]]) )         == tuple()"
   ]
  },
  {
   "cell_type": "code",
   "execution_count": 24,
   "metadata": {},
   "outputs": [
    {
     "name": "stdout",
     "output_type": "stream",
     "text": [
      "time: 34.7 ms\n"
     ]
    }
   ],
   "source": [
    "# 0 Dimensionen\n",
    "assert bpy.rtype( np.array([]) )               == ('ndarray',)\n",
    "assert bpy.rtype( pd.Series(dtype='float64') ) == ('Series',)\n",
    "assert bpy.rtype( pd.DataFrame() )             == ('DataFrame',)\n",
    "assert bpy.rtype( pd.DataFrame([]) )           == ('DataFrame',)\n",
    "assert bpy.rtype( pd.DataFrame([[]]) )         == ('DataFrame','Series')"
   ]
  },
  {
   "cell_type": "code",
   "execution_count": 25,
   "metadata": {},
   "outputs": [
    {
     "name": "stdout",
     "output_type": "stream",
     "text": [
      "time: 52 ms\n"
     ]
    }
   ],
   "source": [
    "# 1 Dimensionen\n",
    "assert bpy.rtype( np.array(['a']) )                == ('ndarray','str')\n",
    "try:\n",
    "    assert bpy.rtype( np.array([1]) )              == ('ndarray','int32')\n",
    "except:\n",
    "    assert bpy.rtype( np.array([1]) )              == ('ndarray','int64')\n",
    "assert bpy.rtype( pd.Series([1],dtype='float64') ) == ('Series','float')\n",
    "assert bpy.rtype( pd.DataFrame(['a']) )            == ('DataFrame','Series','str')\n",
    "assert bpy.rtype( pd.DataFrame([['a']]) )          == ('DataFrame','Series','str')"
   ]
  },
  {
   "cell_type": "code",
   "execution_count": 26,
   "metadata": {},
   "outputs": [
    {
     "name": "stdout",
     "output_type": "stream",
     "text": [
      "time: 20.6 ms\n"
     ]
    }
   ],
   "source": [
    "# 2 Dimensionen, dict mit np.array\n",
    "dict_24 = { 'Zeile0': np.array([3] * 4, dtype='int32'),\n",
    "            'Zeile1': np.array([4] * 4, dtype='int32') }\n",
    "\n",
    "assert bpy.shape(dict_24) == (2,4)\n",
    "assert bpy.rtype(dict_24) == ('dict', 'ndarray', 'int32')"
   ]
  },
  {
   "cell_type": "code",
   "execution_count": 27,
   "metadata": {},
   "outputs": [
    {
     "name": "stdout",
     "output_type": "stream",
     "text": [
      "time: 26 ms\n"
     ]
    }
   ],
   "source": [
    "# Einzeiliges dict mit pd.Categorical\n",
    "dict_14 = { 'Zeile1': pd.Categorical([\"test\", \"train\", \"test\", \"train\"]) }\n",
    "\n",
    "assert bpy.shape(dict_14) == (1,4)\n",
    "assert bpy.rtype(dict_14) == ('dict', 'Categorical', 'str')"
   ]
  },
  {
   "cell_type": "code",
   "execution_count": 28,
   "metadata": {},
   "outputs": [
    {
     "name": "stdout",
     "output_type": "stream",
     "text": [
      "time: 1.11 s\n"
     ]
    }
   ],
   "source": [
    "import pandasklar as pak "
   ]
  },
  {
   "cell_type": "code",
   "execution_count": 29,
   "metadata": {},
   "outputs": [
    {
     "name": "stdout",
     "output_type": "stream",
     "text": [
      "('list', 'Series', 'int')\n",
      "('list', 'Series', 'str')\n",
      "('list', 'Series', 'str')\n",
      "('list', 'Series', 'str')\n",
      "('list', 'Series', 'float')\n",
      "time: 89.3 ms\n"
     ]
    }
   ],
   "source": [
    "# list of Series mit Random Inhalt\n",
    "obj = 0\n",
    "for typ in list('isncf'):\n",
    "    obj = [ pak.random_series( 3, typ), \n",
    "            pak.random_series( 3, typ) ]\n",
    "    print(bpy.rtype(obj))\n",
    "    assert bpy.shape(obj) == (2, 3)\n",
    "assert bpy.rtype(obj) == ('list', 'Series', 'float') # ´hier wird nur der letze Wert getestet"
   ]
  },
  {
   "cell_type": "code",
   "execution_count": 30,
   "metadata": {},
   "outputs": [
    {
     "data": {
      "text/plain": [
       "0       [1, 2, 3]\n",
       "1       [4, 5, 6]\n",
       "2       [7, 8, 9]\n",
       "3    [10, 11, 12]\n",
       "dtype: object"
      ]
     },
     "execution_count": 30,
     "metadata": {},
     "output_type": "execute_result"
    },
    {
     "name": "stdout",
     "output_type": "stream",
     "text": [
      "time: 41.6 ms\n"
     ]
    }
   ],
   "source": [
    "# Series of lists of int\n",
    "obj_43 = [[1,2,3],[4,5,6], [7, 8, 9], [10, 11, 12]]\n",
    "obj_43b = pd.Series(obj_43)\n",
    "assert bpy.shape(obj_43b) == (4,3)\n",
    "assert bpy.rtype(obj_43b) == ('Series', 'list', 'int')\n",
    "obj_43b"
   ]
  },
  {
   "cell_type": "code",
   "execution_count": 31,
   "metadata": {},
   "outputs": [
    {
     "data": {
      "text/html": [
       "<div>\n",
       "<style scoped>\n",
       "    .dataframe tbody tr th:only-of-type {\n",
       "        vertical-align: middle;\n",
       "    }\n",
       "\n",
       "    .dataframe tbody tr th {\n",
       "        vertical-align: top;\n",
       "    }\n",
       "\n",
       "    .dataframe thead th {\n",
       "        text-align: right;\n",
       "    }\n",
       "</style>\n",
       "<table border=\"1\" class=\"dataframe\">\n",
       "  <thead>\n",
       "    <tr style=\"text-align: right;\">\n",
       "      <th></th>\n",
       "      <th>0</th>\n",
       "      <th>1</th>\n",
       "      <th>2</th>\n",
       "    </tr>\n",
       "  </thead>\n",
       "  <tbody>\n",
       "    <tr>\n",
       "      <th>0</th>\n",
       "      <td>a</td>\n",
       "      <td>2</td>\n",
       "      <td>3.0</td>\n",
       "    </tr>\n",
       "    <tr>\n",
       "      <th>1</th>\n",
       "      <td>b</td>\n",
       "      <td>5</td>\n",
       "      <td>6.0</td>\n",
       "    </tr>\n",
       "    <tr>\n",
       "      <th>2</th>\n",
       "      <td>c</td>\n",
       "      <td>8</td>\n",
       "      <td>9.0</td>\n",
       "    </tr>\n",
       "    <tr>\n",
       "      <th>3</th>\n",
       "      <td>d</td>\n",
       "      <td>11</td>\n",
       "      <td>12.0</td>\n",
       "    </tr>\n",
       "  </tbody>\n",
       "</table>\n",
       "</div>"
      ],
      "text/plain": [
       "   0   1     2\n",
       "0  a   2   3.0\n",
       "1  b   5   6.0\n",
       "2  c   8   9.0\n",
       "3  d  11  12.0"
      ]
     },
     "execution_count": 31,
     "metadata": {},
     "output_type": "execute_result"
    },
    {
     "name": "stdout",
     "output_type": "stream",
     "text": [
      "time: 45.9 ms\n"
     ]
    }
   ],
   "source": [
    "# Normales DataFrame mit heterogenen Spalten\n",
    "obj_43 = [['a',2,3.0],['b',5,6.0], ['c', 8, 9.0], ['d', 11, 12.0]]\n",
    "obj_43c = pd.DataFrame(obj_43)\n",
    "assert bpy.shape(obj_43c) == (4,3)\n",
    "assert bpy.shape(obj_43c) == obj_43c.shape\n",
    "assert bpy.rtype(obj_43c) == ('DataFrame', 'Series')\n",
    "#rtype(obj_43c)\n",
    "obj_43c"
   ]
  },
  {
   "cell_type": "markdown",
   "metadata": {},
   "source": [
    "## memory_consumption"
   ]
  },
  {
   "cell_type": "code",
   "execution_count": 35,
   "metadata": {},
   "outputs": [
    {
     "name": "stdout",
     "output_type": "stream",
     "text": [
      "time: 42.1 ms\n"
     ]
    },
    {
     "data": {
      "text/plain": [
       "\u001b[0;31mSignature:\u001b[0m \u001b[0mbpy\u001b[0m\u001b[0;34m.\u001b[0m\u001b[0mmemory_consumption\u001b[0m\u001b[0;34m(\u001b[0m\u001b[0miteration_of_objects\u001b[0m\u001b[0;34m,\u001b[0m \u001b[0mlimit\u001b[0m\u001b[0;34m=\u001b[0m\u001b[0;36m10\u001b[0m\u001b[0;34m,\u001b[0m \u001b[0muse_rtype\u001b[0m\u001b[0;34m=\u001b[0m\u001b[0;32mFalse\u001b[0m\u001b[0;34m)\u001b[0m\u001b[0;34m\u001b[0m\u001b[0;34m\u001b[0m\u001b[0m\n",
       "\u001b[0;31mDocstring:\u001b[0m\n",
       "Returns the memory consumption of Python objects.\n",
       "* iteration_of_objects: can be e.g. a DataFrame or just locals()\n",
       "* limit: Limits the output size\n",
       "* use_rtype: Use rtype instead of type?\n",
       "\n",
       "For the memory consumption of the biggest 10 local variables call:\n",
       "bpy.memory_consumption( locals() )\n",
       "\u001b[0;31mFile:\u001b[0m      /media/me/DATA/Dropbox/31_Projekte/01_Python/git/bpyth/src/bpyth/bpyth_object_analysis.py\n",
       "\u001b[0;31mType:\u001b[0m      function\n"
      ]
     },
     "metadata": {},
     "output_type": "display_data"
    }
   ],
   "source": [
    "?bpy.memory_consumption"
   ]
  },
  {
   "cell_type": "code",
   "execution_count": 37,
   "metadata": {},
   "outputs": [
    {
     "data": {
      "text/plain": [
       "[('Stop', 'type', '1.0 KB'),\n",
       " ('Markdown', 'type', '1.0 KB'),\n",
       " ('HTML', 'type', '1.0 KB'),\n",
       " ('_i29', 'str', '687.0 B'),\n",
       " ('obj_43b', 'Series', '592.0 B'),\n",
       " ('_30', 'Series', '592.0 B'),\n",
       " ('_i25', 'str', '536.0 B'),\n",
       " ('@py_format17', 'str', '509.0 B'),\n",
       " ('@py_format15', 'str', '502.0 B'),\n",
       " ('obj_43c', 'DataFrame', '440.0 B')]"
      ]
     },
     "execution_count": 37,
     "metadata": {},
     "output_type": "execute_result"
    },
    {
     "name": "stdout",
     "output_type": "stream",
     "text": [
      "time: 65.2 ms\n"
     ]
    }
   ],
   "source": [
    "bpy.memory_consumption( locals() )"
   ]
  },
  {
   "cell_type": "code",
   "execution_count": null,
   "metadata": {},
   "outputs": [],
   "source": []
  }
 ],
 "metadata": {
  "kernelspec": {
   "display_name": "Python 3 (ipykernel)",
   "language": "python",
   "name": "python3"
  },
  "language_info": {
   "codemirror_mode": {
    "name": "ipython",
    "version": 3
   },
   "file_extension": ".py",
   "mimetype": "text/x-python",
   "name": "python",
   "nbconvert_exporter": "python",
   "pygments_lexer": "ipython3",
   "version": "3.9.13"
  }
 },
 "nbformat": 4,
 "nbformat_minor": 4
}
