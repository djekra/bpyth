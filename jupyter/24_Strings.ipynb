{
 "cells": [
  {
   "cell_type": "markdown",
   "metadata": {
    "tags": []
   },
   "source": [
    "# bpyth Strings\n",
    "* `superstrip`     : Removes Unicode whitespaces\n",
    "* `remove_words`   : Removes stopwords \n",
    "* `remove_dupwords`: Removes dup words from a string whilst-preserving-order\n",
    "* `longest_substr` : Finds the longest common substring in a list of strings\n",
    "* `random_str`     : Returns a random string "
   ]
  },
  {
   "cell_type": "code",
   "execution_count": 31,
   "metadata": {},
   "outputs": [
    {
     "name": "stdout",
     "output_type": "stream",
     "text": [
      "JupyterLab Tools Version 0.22\n",
      "found local libs at /Data_lab/libs\n",
      "Start Time: 18:31:52\n"
     ]
    },
    {
     "data": {
      "text/html": [
       "<img src onerror=\"var cell = this.closest('.jp-CodeCell');var editor = cell.querySelector('.jp-Editor');editor.style.background='Beige';this.parentNode.removeChild(this)\">"
      ],
      "text/plain": [
       "<IPython.core.display.HTML object>"
      ]
     },
     "metadata": {},
     "output_type": "display_data"
    },
    {
     "name": "stdout",
     "output_type": "stream",
     "text": [
      "time: 12.9 ms (started: 2022-09-09 18:31:52 +00:00)\n"
     ]
    }
   ],
   "source": [
    "%run 98___blab_tools.ipynb"
   ]
  },
  {
   "cell_type": "code",
   "execution_count": 32,
   "metadata": {},
   "outputs": [
    {
     "name": "stdout",
     "output_type": "stream",
     "text": [
      "time: 10.3 ms (started: 2022-09-09 18:31:52 +00:00)\n"
     ]
    }
   ],
   "source": [
    "import bpyth as bpy"
   ]
  },
  {
   "cell_type": "markdown",
   "metadata": {},
   "source": [
    "## remove_words"
   ]
  },
  {
   "cell_type": "code",
   "execution_count": 33,
   "metadata": {},
   "outputs": [
    {
     "name": "stdout",
     "output_type": "stream",
     "text": [
      "time: 11.5 ms (started: 2022-09-09 18:31:52 +00:00)\n"
     ]
    },
    {
     "data": {
      "text/plain": [
       "\u001b[0;31mSignature:\u001b[0m \u001b[0mbpy\u001b[0m\u001b[0;34m.\u001b[0m\u001b[0mremove_words\u001b[0m\u001b[0;34m(\u001b[0m\u001b[0mtext\u001b[0m\u001b[0;34m,\u001b[0m \u001b[0mlist_of_stopwords\u001b[0m\u001b[0;34m)\u001b[0m\u001b[0;34m\u001b[0m\u001b[0;34m\u001b[0m\u001b[0m\n",
       "\u001b[0;31mDocstring:\u001b[0m Removes stopwords\n",
       "\u001b[0;31mFile:\u001b[0m      /Data_lab/git/bpyth/bpyth/bpy_string.py\n",
       "\u001b[0;31mType:\u001b[0m      function\n"
      ]
     },
     "metadata": {},
     "output_type": "display_data"
    }
   ],
   "source": [
    "?bpy.remove_words"
   ]
  },
  {
   "cell_type": "code",
   "execution_count": 34,
   "metadata": {},
   "outputs": [
    {
     "name": "stdout",
     "output_type": "stream",
     "text": [
      "time: 10.8 ms (started: 2022-09-09 18:31:52 +00:00)\n"
     ]
    }
   ],
   "source": [
    "text = '''Der russische Überfall auf die Ukraine ist ein vom russischen Präsidenten \n",
    "Wladimir Putin geplanter, befohlener und am 24. Februar 2022 begonnener Angriffskrieg \n",
    "gegen die Ukraine. Der militärische Angriff Russlands auf den souveränen, \n",
    "nicht paktgebundenen Staat weitet den Krieg in der Ukraine, der mit der Annexion der Krim \n",
    "durch Russland bereits 2014 eingeleitet worden war, aus und verschärft ihn. \n",
    "Er gilt bei einigen Beobachtern als größter kriegerischer Konflikt auf dem europäischen \n",
    "Kontinent seit dem Ende des Zweiten Weltkrieges.'''"
   ]
  },
  {
   "cell_type": "code",
   "execution_count": 35,
   "metadata": {},
   "outputs": [
    {
     "data": {
      "text/plain": [
       "'russische Überfall Ukraine russischen Präsidenten \\nWladimir Putin geplanter, befohlener 24. Februar 2022 begonnener Angriffskrieg \\ngegen Ukraine. militärische Angriff Russlands souveränen, \\nnicht paktgebundenen Staat weitet Krieg in Ukraine, Annexion Krim \\ndurch Russland bereits 2014 eingeleitet worden , verschärft ihn. \\ngilt einigen Beobachtern größter kriegerischer Konflikt europäischen \\nKontinent Ende Zweiten Weltkrieges.'"
      ]
     },
     "execution_count": 35,
     "metadata": {},
     "output_type": "execute_result"
    },
    {
     "name": "stdout",
     "output_type": "stream",
     "text": [
      "time: 12.1 ms (started: 2022-09-09 18:31:52 +00:00)\n"
     ]
    }
   ],
   "source": [
    "bpy.remove_words(text, ['der','die','das','ein','eine', 'und','auf','an','ist','vom','am','Der','den','mit','war','aus','Er','bei','als','dem','seit','des'])"
   ]
  },
  {
   "cell_type": "markdown",
   "metadata": {},
   "source": [
    "## remove_dupwords"
   ]
  },
  {
   "cell_type": "code",
   "execution_count": 36,
   "metadata": {},
   "outputs": [
    {
     "name": "stdout",
     "output_type": "stream",
     "text": [
      "time: 11.6 ms (started: 2022-09-09 18:31:52 +00:00)\n"
     ]
    },
    {
     "data": {
      "text/plain": [
       "\u001b[0;31mSignature:\u001b[0m \u001b[0mbpy\u001b[0m\u001b[0;34m.\u001b[0m\u001b[0mremove_dupwords\u001b[0m\u001b[0;34m(\u001b[0m\u001b[0mdata\u001b[0m\u001b[0;34m,\u001b[0m \u001b[0msep\u001b[0m\u001b[0;34m=\u001b[0m\u001b[0;34m' '\u001b[0m\u001b[0;34m)\u001b[0m\u001b[0;34m\u001b[0m\u001b[0;34m\u001b[0m\u001b[0m\n",
       "\u001b[0;31mDocstring:\u001b[0m Remove dup words from a string whilst-preserving-order\n",
       "\u001b[0;31mFile:\u001b[0m      /Data_lab/git/bpyth/bpyth/bpy_string.py\n",
       "\u001b[0;31mType:\u001b[0m      function\n"
      ]
     },
     "metadata": {},
     "output_type": "display_data"
    }
   ],
   "source": [
    "?bpy.remove_dupwords"
   ]
  },
  {
   "cell_type": "code",
   "execution_count": 37,
   "metadata": {},
   "outputs": [
    {
     "data": {
      "text/plain": [
       "'Moin Welt'"
      ]
     },
     "execution_count": 37,
     "metadata": {},
     "output_type": "execute_result"
    },
    {
     "name": "stdout",
     "output_type": "stream",
     "text": [
      "time: 11.1 ms (started: 2022-09-09 18:31:52 +00:00)\n"
     ]
    }
   ],
   "source": [
    "bpy.remove_dupwords('Moin Moin Welt')"
   ]
  },
  {
   "cell_type": "code",
   "execution_count": 38,
   "metadata": {},
   "outputs": [
    {
     "data": {
      "text/plain": [
       "'Moin_Welt'"
      ]
     },
     "execution_count": 38,
     "metadata": {},
     "output_type": "execute_result"
    },
    {
     "name": "stdout",
     "output_type": "stream",
     "text": [
      "time: 11.1 ms (started: 2022-09-09 18:31:52 +00:00)\n"
     ]
    }
   ],
   "source": [
    "bpy.remove_dupwords('Moin_Moin_Welt', sep='_')"
   ]
  },
  {
   "cell_type": "markdown",
   "metadata": {},
   "source": [
    "## Longest common substring"
   ]
  },
  {
   "cell_type": "code",
   "execution_count": 47,
   "metadata": {},
   "outputs": [
    {
     "name": "stdout",
     "output_type": "stream",
     "text": [
      "time: 16.8 ms (started: 2022-09-09 18:34:37 +00:00)\n"
     ]
    },
    {
     "data": {
      "text/plain": [
       "\u001b[0;31mSignature:\u001b[0m \u001b[0mbpy\u001b[0m\u001b[0;34m.\u001b[0m\u001b[0mlongest_substr\u001b[0m\u001b[0;34m(\u001b[0m\u001b[0mdata\u001b[0m\u001b[0;34m)\u001b[0m\u001b[0;34m\u001b[0m\u001b[0;34m\u001b[0m\u001b[0m\n",
       "\u001b[0;31mDocstring:\u001b[0m Finds the longest common substring in a list of strings\n",
       "\u001b[0;31mFile:\u001b[0m      /Data_lab/git/bpyth/bpyth/bpy_string.py\n",
       "\u001b[0;31mType:\u001b[0m      function\n"
      ]
     },
     "metadata": {},
     "output_type": "display_data"
    }
   ],
   "source": [
    "?bpy.longest_substr"
   ]
  },
  {
   "cell_type": "code",
   "execution_count": 48,
   "metadata": {},
   "outputs": [
    {
     "data": {
      "text/plain": [
       "'klar'"
      ]
     },
     "execution_count": 48,
     "metadata": {},
     "output_type": "execute_result"
    },
    {
     "name": "stdout",
     "output_type": "stream",
     "text": [
      "time: 14.1 ms (started: 2022-09-09 18:34:38 +00:00)\n"
     ]
    }
   ],
   "source": [
    "bpy.longest_substr(['klar', 'klarere'])"
   ]
  },
  {
   "cell_type": "code",
   "execution_count": 49,
   "metadata": {},
   "outputs": [
    {
     "data": {
      "text/plain": [
       "'PER'"
      ]
     },
     "execution_count": 49,
     "metadata": {},
     "output_type": "execute_result"
    },
    {
     "name": "stdout",
     "output_type": "stream",
     "text": [
      "time: 11.8 ms (started: 2022-09-09 18:34:38 +00:00)\n"
     ]
    }
   ],
   "source": [
    "bpy.longest_substr(['PER.MAL', 'PER.FEM?.GEN']).strip('.')"
   ]
  },
  {
   "cell_type": "code",
   "execution_count": 50,
   "metadata": {},
   "outputs": [
    {
     "data": {
      "text/plain": [
       "'saun'"
      ]
     },
     "execution_count": 50,
     "metadata": {},
     "output_type": "execute_result"
    },
    {
     "name": "stdout",
     "output_type": "stream",
     "text": [
      "time: 11.8 ms (started: 2022-09-09 18:34:38 +00:00)\n"
     ]
    }
   ],
   "source": [
    "bpy.longest_substr(['saunen', 'sauna', 'saunas'])"
   ]
  },
  {
   "cell_type": "code",
   "execution_count": 56,
   "metadata": {},
   "outputs": [
    {
     "data": {
      "text/plain": [
       "'ch'"
      ]
     },
     "execution_count": 56,
     "metadata": {},
     "output_type": "execute_result"
    },
    {
     "name": "stdout",
     "output_type": "stream",
     "text": [
      "time: 16.8 ms (started: 2022-09-09 18:37:38 +00:00)\n"
     ]
    }
   ],
   "source": [
    "bpy.longest_substr(['Er hörte leise Schritte hinter sich.',\n",
    "                    'Das bedeutete nichts Gutes.',\n",
    "                    'Wer würde ihm schon folgen,',\n",
    "                    'spät in der Nacht?' ])"
   ]
  },
  {
   "cell_type": "markdown",
   "metadata": {},
   "source": [
    "## random_str"
   ]
  },
  {
   "cell_type": "code",
   "execution_count": 52,
   "metadata": {},
   "outputs": [
    {
     "name": "stdout",
     "output_type": "stream",
     "text": [
      "time: 11.6 ms (started: 2022-09-09 18:34:38 +00:00)\n"
     ]
    },
    {
     "data": {
      "text/plain": [
       "\u001b[0;31mSignature:\u001b[0m\n",
       "\u001b[0mbpy\u001b[0m\u001b[0;34m.\u001b[0m\u001b[0mrandom_str\u001b[0m\u001b[0;34m(\u001b[0m\u001b[0;34m\u001b[0m\n",
       "\u001b[0;34m\u001b[0m    \u001b[0msize\u001b[0m\u001b[0;34m=\u001b[0m\u001b[0;36m10\u001b[0m\u001b[0;34m,\u001b[0m\u001b[0;34m\u001b[0m\n",
       "\u001b[0;34m\u001b[0m    \u001b[0msize_min\u001b[0m\u001b[0;34m=\u001b[0m\u001b[0;32mNone\u001b[0m\u001b[0;34m,\u001b[0m\u001b[0;34m\u001b[0m\n",
       "\u001b[0;34m\u001b[0m    \u001b[0msize_max\u001b[0m\u001b[0;34m=\u001b[0m\u001b[0;32mNone\u001b[0m\u001b[0;34m,\u001b[0m\u001b[0;34m\u001b[0m\n",
       "\u001b[0;34m\u001b[0m    \u001b[0mmix\u001b[0m\u001b[0;34m=\u001b[0m\u001b[0;34m'abcdefghijklmnopqrstuvwxyzABCDEFGHIJKLMNOPQRSTUVWXYZ'\u001b[0m\u001b[0;34m,\u001b[0m\u001b[0;34m\u001b[0m\n",
       "\u001b[0;34m\u001b[0m\u001b[0;34m)\u001b[0m\u001b[0;34m\u001b[0m\u001b[0;34m\u001b[0m\u001b[0m\n",
       "\u001b[0;31mDocstring:\u001b[0m\n",
       "Returns a random string\n",
       "* size: desired length\n",
       "* size_min: desired minimum length\n",
       "* size_max: desired maximum length    \n",
       "* mix: Characters to use. \n",
       "  See https://docs.python.org/3/library/string.html\n",
       "  e.g. mix = string.digits + string.punctuation + 'AAAAAAAAA'      \n",
       "\u001b[0;31mFile:\u001b[0m      /Data_lab/git/bpyth/bpyth/bpy_string.py\n",
       "\u001b[0;31mType:\u001b[0m      function\n"
      ]
     },
     "metadata": {},
     "output_type": "display_data"
    }
   ],
   "source": [
    "?bpy.random_str"
   ]
  },
  {
   "cell_type": "code",
   "execution_count": 53,
   "metadata": {},
   "outputs": [
    {
     "name": "stdout",
     "output_type": "stream",
     "text": [
      "iwklZCHs\n",
      "xELr\n",
      "NK\n",
      "Wox\n",
      "OhsSucqeG\n",
      "rqpOHTkFo\n",
      "rhsalsMP\n",
      "Fx\n",
      "mTXWUs\n",
      "OqMztz\n",
      "time: 10.6 ms (started: 2022-09-09 18:34:38 +00:00)\n"
     ]
    }
   ],
   "source": [
    "for i in range(10):\n",
    "    print( bpy.random_str( size_min=1, size_max=10) )"
   ]
  },
  {
   "cell_type": "code",
   "execution_count": 54,
   "metadata": {},
   "outputs": [
    {
     "name": "stdout",
     "output_type": "stream",
     "text": [
      "^,\\;A4:^!(\n",
      "$_|1\\;~A?&\n",
      "^+A!AA_A2&\n",
      "AAA#/?A&5A\n",
      "}??:1AAA\"4\n",
      "*/.*84(*$A\n",
      "]#4'36A8A}\n",
      ")A.<9A9:?*\n",
      "4AA$7+[A@A\n",
      "01A+A8(.A+\n",
      "time: 10.7 ms (started: 2022-09-09 18:34:38 +00:00)\n"
     ]
    }
   ],
   "source": [
    "import string\n",
    "for i in range(10):\n",
    "    print( bpy.random_str( mix=string.digits + string.punctuation + 'AAAAAAAAAAA'   ) )"
   ]
  },
  {
   "cell_type": "code",
   "execution_count": 55,
   "metadata": {},
   "outputs": [
    {
     "data": {
      "text/plain": [
       "['AAAAA.AAAA',\n",
       " 'AAAAAAAAAA',\n",
       " 'AA.AAAA.AA',\n",
       " 'AAAAAAA.AA',\n",
       " 'AAAA.AA.AA',\n",
       " 'AAAAAAAAAA',\n",
       " 'AAAAAAAA.A',\n",
       " 'AAAAAAA.AA',\n",
       " 'AAAAAAAAAA',\n",
       " 'AAAAAA.AAA']"
      ]
     },
     "execution_count": 55,
     "metadata": {},
     "output_type": "execute_result"
    },
    {
     "name": "stdout",
     "output_type": "stream",
     "text": [
      "time: 12.2 ms (started: 2022-09-09 18:34:38 +00:00)\n"
     ]
    }
   ],
   "source": [
    "[ bpy.random_str(mix= 'AAAAAAAAAAA.') for i in range(10) ]"
   ]
  }
 ],
 "metadata": {
  "kernelspec": {
   "display_name": "Python 3 (ipykernel)",
   "language": "python",
   "name": "python3"
  },
  "language_info": {
   "codemirror_mode": {
    "name": "ipython",
    "version": 3
   },
   "file_extension": ".py",
   "mimetype": "text/x-python",
   "name": "python",
   "nbconvert_exporter": "python",
   "pygments_lexer": "ipython3",
   "version": "3.8.8"
  }
 },
 "nbformat": 4,
 "nbformat_minor": 4
}
