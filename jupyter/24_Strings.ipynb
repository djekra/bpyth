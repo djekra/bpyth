{
 "cells": [
  {
   "cell_type": "markdown",
   "metadata": {
    "tags": []
   },
   "source": [
    "# bpyth Strings\n",
    "* `superstrip`     : Removes Unicode whitespaces\n",
    "* `remove_words`   : Removes stopwords \n",
    "* `remove_dupwords`: Removes dup words from a string whilst-preserving-order\n",
    "* `longest_substr` : Finds the longest common substring in a list of strings\n",
    "* `random_str`     : Returns a random string "
   ]
  },
  {
   "cell_type": "code",
   "execution_count": 1,
   "metadata": {},
   "outputs": [
    {
     "name": "stdout",
     "output_type": "stream",
     "text": [
      "blab init\n",
      "blab found local libs at /mnt/DATA/Dropbox/31_Projekte/01_Python/libs\n",
      "Start Time: 17:47:12\n"
     ]
    },
    {
     "data": {
      "text/html": [
       "<img src onerror=\"var cell = this.closest('.jp-CodeCell');var editor = cell.querySelector('.jp-Editor');editor.style.background='Beige';this.parentNode.removeChild(this)\">"
      ],
      "text/plain": [
       "<IPython.core.display.HTML object>"
      ]
     },
     "metadata": {},
     "output_type": "display_data"
    },
    {
     "name": "stdout",
     "output_type": "stream",
     "text": [
      "time: 981 ms (started: 2022-09-13 17:47:12 +02:00)\n"
     ]
    }
   ],
   "source": [
    "# blab init\n",
    "import blab\n",
    "startup_notebook = blab.blab_startup()\n",
    "%run $startup_notebook"
   ]
  },
  {
   "cell_type": "code",
   "execution_count": 2,
   "metadata": {},
   "outputs": [
    {
     "name": "stdout",
     "output_type": "stream",
     "text": [
      "time: 11 ms (started: 2022-09-13 17:47:13 +02:00)\n"
     ]
    }
   ],
   "source": [
    "import bpyth as bpy"
   ]
  },
  {
   "cell_type": "markdown",
   "metadata": {},
   "source": [
    "## remove_words"
   ]
  },
  {
   "cell_type": "code",
   "execution_count": 3,
   "metadata": {},
   "outputs": [
    {
     "name": "stdout",
     "output_type": "stream",
     "text": [
      "time: 112 ms (started: 2022-09-13 17:47:13 +02:00)\n"
     ]
    },
    {
     "data": {
      "text/plain": [
       "\u001b[0;31mSignature:\u001b[0m \u001b[0mbpy\u001b[0m\u001b[0;34m.\u001b[0m\u001b[0mremove_words\u001b[0m\u001b[0;34m(\u001b[0m\u001b[0mtext\u001b[0m\u001b[0;34m,\u001b[0m \u001b[0mlist_of_stopwords\u001b[0m\u001b[0;34m)\u001b[0m\u001b[0;34m\u001b[0m\u001b[0;34m\u001b[0m\u001b[0m\n",
       "\u001b[0;31mDocstring:\u001b[0m Removes stopwords\n",
       "\u001b[0;31mFile:\u001b[0m      ~/anaconda3/envs/bjpython/lib/python3.8/site-packages/bpyth/bpyth_string.py\n",
       "\u001b[0;31mType:\u001b[0m      function\n"
      ]
     },
     "metadata": {},
     "output_type": "display_data"
    }
   ],
   "source": [
    "?bpy.remove_words"
   ]
  },
  {
   "cell_type": "code",
   "execution_count": 4,
   "metadata": {},
   "outputs": [
    {
     "name": "stdout",
     "output_type": "stream",
     "text": [
      "time: 51.6 ms (started: 2022-09-13 17:47:13 +02:00)\n"
     ]
    }
   ],
   "source": [
    "text = '''Der russische Überfall auf die Ukraine ist ein vom russischen Präsidenten \n",
    "Wladimir Putin geplanter, befohlener und am 24. Februar 2022 begonnener Angriffskrieg \n",
    "gegen die Ukraine. Der militärische Angriff Russlands auf den souveränen, \n",
    "nicht paktgebundenen Staat weitet den Krieg in der Ukraine, der mit der Annexion der Krim \n",
    "durch Russland bereits 2014 eingeleitet worden war, aus und verschärft ihn. \n",
    "Er gilt bei einigen Beobachtern als größter kriegerischer Konflikt auf dem europäischen \n",
    "Kontinent seit dem Ende des Zweiten Weltkrieges.'''"
   ]
  },
  {
   "cell_type": "code",
   "execution_count": 5,
   "metadata": {},
   "outputs": [
    {
     "data": {
      "text/plain": [
       "'russische Überfall Ukraine russischen Präsidenten \\nWladimir Putin geplanter, befohlener 24. Februar 2022 begonnener Angriffskrieg \\ngegen Ukraine. militärische Angriff Russlands souveränen, \\nnicht paktgebundenen Staat weitet Krieg in Ukraine, Annexion Krim \\ndurch Russland bereits 2014 eingeleitet worden , verschärft ihn. \\ngilt einigen Beobachtern größter kriegerischer Konflikt europäischen \\nKontinent Ende Zweiten Weltkrieges.'"
      ]
     },
     "execution_count": 5,
     "metadata": {},
     "output_type": "execute_result"
    },
    {
     "name": "stdout",
     "output_type": "stream",
     "text": [
      "time: 67 ms (started: 2022-09-13 17:47:13 +02:00)\n"
     ]
    }
   ],
   "source": [
    "bpy.remove_words(text, ['der','die','das','ein','eine', 'und','auf','an','ist','vom','am','Der','den','mit','war','aus','Er','bei','als','dem','seit','des'])"
   ]
  },
  {
   "cell_type": "markdown",
   "metadata": {},
   "source": [
    "## remove_dupwords"
   ]
  },
  {
   "cell_type": "code",
   "execution_count": 6,
   "metadata": {},
   "outputs": [
    {
     "name": "stdout",
     "output_type": "stream",
     "text": [
      "time: 91.5 ms (started: 2022-09-13 17:47:13 +02:00)\n"
     ]
    },
    {
     "data": {
      "text/plain": [
       "\u001b[0;31mSignature:\u001b[0m \u001b[0mbpy\u001b[0m\u001b[0;34m.\u001b[0m\u001b[0mremove_dupwords\u001b[0m\u001b[0;34m(\u001b[0m\u001b[0mdata\u001b[0m\u001b[0;34m,\u001b[0m \u001b[0msep\u001b[0m\u001b[0;34m=\u001b[0m\u001b[0;34m' '\u001b[0m\u001b[0;34m)\u001b[0m\u001b[0;34m\u001b[0m\u001b[0;34m\u001b[0m\u001b[0m\n",
       "\u001b[0;31mDocstring:\u001b[0m Removes dup words from a string whilst-preserving-order\n",
       "\u001b[0;31mFile:\u001b[0m      ~/anaconda3/envs/bjpython/lib/python3.8/site-packages/bpyth/bpyth_string.py\n",
       "\u001b[0;31mType:\u001b[0m      function\n"
      ]
     },
     "metadata": {},
     "output_type": "display_data"
    }
   ],
   "source": [
    "?bpy.remove_dupwords"
   ]
  },
  {
   "cell_type": "code",
   "execution_count": 7,
   "metadata": {},
   "outputs": [
    {
     "data": {
      "text/plain": [
       "'Moin Welt'"
      ]
     },
     "execution_count": 7,
     "metadata": {},
     "output_type": "execute_result"
    },
    {
     "name": "stdout",
     "output_type": "stream",
     "text": [
      "time: 61.8 ms (started: 2022-09-13 17:47:14 +02:00)\n"
     ]
    }
   ],
   "source": [
    "bpy.remove_dupwords('Moin Moin Welt')"
   ]
  },
  {
   "cell_type": "code",
   "execution_count": 8,
   "metadata": {},
   "outputs": [
    {
     "data": {
      "text/plain": [
       "'Moin_Welt'"
      ]
     },
     "execution_count": 8,
     "metadata": {},
     "output_type": "execute_result"
    },
    {
     "name": "stdout",
     "output_type": "stream",
     "text": [
      "time: 58.5 ms (started: 2022-09-13 17:47:14 +02:00)\n"
     ]
    }
   ],
   "source": [
    "bpy.remove_dupwords('Moin_Moin_Welt', sep='_')"
   ]
  },
  {
   "cell_type": "markdown",
   "metadata": {},
   "source": [
    "## Longest common substring"
   ]
  },
  {
   "cell_type": "code",
   "execution_count": 9,
   "metadata": {},
   "outputs": [
    {
     "name": "stdout",
     "output_type": "stream",
     "text": [
      "time: 62.1 ms (started: 2022-09-13 17:47:14 +02:00)\n"
     ]
    },
    {
     "data": {
      "text/plain": [
       "\u001b[0;31mSignature:\u001b[0m \u001b[0mbpy\u001b[0m\u001b[0;34m.\u001b[0m\u001b[0mlongest_substr\u001b[0m\u001b[0;34m(\u001b[0m\u001b[0mdata\u001b[0m\u001b[0;34m)\u001b[0m\u001b[0;34m\u001b[0m\u001b[0;34m\u001b[0m\u001b[0m\n",
       "\u001b[0;31mDocstring:\u001b[0m Finds the longest common substring in a list of strings\n",
       "\u001b[0;31mFile:\u001b[0m      ~/anaconda3/envs/bjpython/lib/python3.8/site-packages/bpyth/bpyth_string.py\n",
       "\u001b[0;31mType:\u001b[0m      function\n"
      ]
     },
     "metadata": {},
     "output_type": "display_data"
    }
   ],
   "source": [
    "?bpy.longest_substr"
   ]
  },
  {
   "cell_type": "code",
   "execution_count": 10,
   "metadata": {},
   "outputs": [
    {
     "data": {
      "text/plain": [
       "'klar'"
      ]
     },
     "execution_count": 10,
     "metadata": {},
     "output_type": "execute_result"
    },
    {
     "name": "stdout",
     "output_type": "stream",
     "text": [
      "time: 66.7 ms (started: 2022-09-13 17:47:14 +02:00)\n"
     ]
    }
   ],
   "source": [
    "bpy.longest_substr(['klar', 'klarere'])"
   ]
  },
  {
   "cell_type": "code",
   "execution_count": 11,
   "metadata": {},
   "outputs": [
    {
     "data": {
      "text/plain": [
       "'PER'"
      ]
     },
     "execution_count": 11,
     "metadata": {},
     "output_type": "execute_result"
    },
    {
     "name": "stdout",
     "output_type": "stream",
     "text": [
      "time: 60.4 ms (started: 2022-09-13 17:47:14 +02:00)\n"
     ]
    }
   ],
   "source": [
    "bpy.longest_substr(['PER.MAL', 'PER.FEM?.GEN']).strip('.')"
   ]
  },
  {
   "cell_type": "code",
   "execution_count": 12,
   "metadata": {},
   "outputs": [
    {
     "data": {
      "text/plain": [
       "'saun'"
      ]
     },
     "execution_count": 12,
     "metadata": {},
     "output_type": "execute_result"
    },
    {
     "name": "stdout",
     "output_type": "stream",
     "text": [
      "time: 62.3 ms (started: 2022-09-13 17:47:14 +02:00)\n"
     ]
    }
   ],
   "source": [
    "bpy.longest_substr(['saunen', 'sauna', 'saunas'])"
   ]
  },
  {
   "cell_type": "code",
   "execution_count": 13,
   "metadata": {},
   "outputs": [
    {
     "data": {
      "text/plain": [
       "'ch'"
      ]
     },
     "execution_count": 13,
     "metadata": {},
     "output_type": "execute_result"
    },
    {
     "name": "stdout",
     "output_type": "stream",
     "text": [
      "time: 68 ms (started: 2022-09-13 17:47:14 +02:00)\n"
     ]
    }
   ],
   "source": [
    "bpy.longest_substr(['Er hörte leise Schritte hinter sich.',\n",
    "                    'Das bedeutete nichts Gutes.',\n",
    "                    'Wer würde ihm schon folgen,',\n",
    "                    'spät in der Nacht?' ])"
   ]
  },
  {
   "cell_type": "markdown",
   "metadata": {},
   "source": [
    "## random_str"
   ]
  },
  {
   "cell_type": "code",
   "execution_count": 14,
   "metadata": {},
   "outputs": [
    {
     "name": "stdout",
     "output_type": "stream",
     "text": [
      "time: 91.7 ms (started: 2022-09-13 17:47:14 +02:00)\n"
     ]
    },
    {
     "data": {
      "text/plain": [
       "\u001b[0;31mSignature:\u001b[0m\n",
       "\u001b[0mbpy\u001b[0m\u001b[0;34m.\u001b[0m\u001b[0mrandom_str\u001b[0m\u001b[0;34m(\u001b[0m\u001b[0;34m\u001b[0m\n",
       "\u001b[0;34m\u001b[0m    \u001b[0msize\u001b[0m\u001b[0;34m=\u001b[0m\u001b[0;36m10\u001b[0m\u001b[0;34m,\u001b[0m\u001b[0;34m\u001b[0m\n",
       "\u001b[0;34m\u001b[0m    \u001b[0msize_min\u001b[0m\u001b[0;34m=\u001b[0m\u001b[0;32mNone\u001b[0m\u001b[0;34m,\u001b[0m\u001b[0;34m\u001b[0m\n",
       "\u001b[0;34m\u001b[0m    \u001b[0msize_max\u001b[0m\u001b[0;34m=\u001b[0m\u001b[0;32mNone\u001b[0m\u001b[0;34m,\u001b[0m\u001b[0;34m\u001b[0m\n",
       "\u001b[0;34m\u001b[0m    \u001b[0mmix\u001b[0m\u001b[0;34m=\u001b[0m\u001b[0;34m'abcdefghijklmnopqrstuvwxyzABCDEFGHIJKLMNOPQRSTUVWXYZ'\u001b[0m\u001b[0;34m,\u001b[0m\u001b[0;34m\u001b[0m\n",
       "\u001b[0;34m\u001b[0m\u001b[0;34m)\u001b[0m\u001b[0;34m\u001b[0m\u001b[0;34m\u001b[0m\u001b[0m\n",
       "\u001b[0;31mDocstring:\u001b[0m\n",
       "Returns a random string\n",
       "* size: desired length\n",
       "* size_min: desired minimum length\n",
       "* size_max: desired maximum length    \n",
       "* mix: Characters to use. \n",
       "  See https://docs.python.org/3/library/string.html\n",
       "  e.g. mix = string.digits + string.punctuation + 'AAAAAAAAA'      \n",
       "\u001b[0;31mFile:\u001b[0m      ~/anaconda3/envs/bjpython/lib/python3.8/site-packages/bpyth/bpyth_string.py\n",
       "\u001b[0;31mType:\u001b[0m      function\n"
      ]
     },
     "metadata": {},
     "output_type": "display_data"
    }
   ],
   "source": [
    "?bpy.random_str"
   ]
  },
  {
   "cell_type": "code",
   "execution_count": 15,
   "metadata": {},
   "outputs": [
    {
     "name": "stdout",
     "output_type": "stream",
     "text": [
      "dDRUHR\n",
      "iboxB\n",
      "VDgDTR\n",
      "ZSYcCnDro\n",
      "LqZKcM\n",
      "MANdA\n",
      "jcpq\n",
      "XKnjcIs\n",
      "agnoALntUD\n",
      "KbDR\n",
      "time: 33.4 ms (started: 2022-09-13 17:47:14 +02:00)\n"
     ]
    }
   ],
   "source": [
    "for i in range(10):\n",
    "    print( bpy.random_str( size_min=1, size_max=10) )"
   ]
  },
  {
   "cell_type": "code",
   "execution_count": 16,
   "metadata": {},
   "outputs": [
    {
     "name": "stdout",
     "output_type": "stream",
     "text": [
      "}}'?06A2\\!\n",
      "/]$%2&8`*~\n",
      "A}}-$?0^:%\n",
      "]9AAA7~9A4\n",
      "&AA45'\\>)\"\n",
      "4=[(#A92);\n",
      ":.[`#0A244\n",
      "A+A5A7~2]2\n",
      "<A#5{`A*A.\n",
      "@A\"A1;A\\;A\n",
      "time: 51.4 ms (started: 2022-09-13 17:47:14 +02:00)\n"
     ]
    }
   ],
   "source": [
    "import string\n",
    "for i in range(10):\n",
    "    print( bpy.random_str( mix=string.digits + string.punctuation + 'AAAAAAAAAAA'   ) )"
   ]
  },
  {
   "cell_type": "code",
   "execution_count": 17,
   "metadata": {},
   "outputs": [
    {
     "data": {
      "text/plain": [
       "['AAAAAAAAAA',\n",
       " 'AAAAAAAAAA',\n",
       " '.AAAAAAAAA',\n",
       " 'AAAA.AAAAA',\n",
       " 'AAAAAAAAA.',\n",
       " 'AAAAAAAAAA',\n",
       " 'AAAAAAAAAA',\n",
       " 'AAAAA.AAAA',\n",
       " 'AAAAAAAAAA',\n",
       " 'AAAAAAAAAA']"
      ]
     },
     "execution_count": 17,
     "metadata": {},
     "output_type": "execute_result"
    },
    {
     "name": "stdout",
     "output_type": "stream",
     "text": [
      "time: 96.6 ms (started: 2022-09-13 17:47:14 +02:00)\n"
     ]
    }
   ],
   "source": [
    "[ bpy.random_str(mix= 'AAAAAAAAAAA.') for i in range(10) ]"
   ]
  }
 ],
 "metadata": {
  "kernelspec": {
   "display_name": "Python 3 (ipykernel)",
   "language": "python",
   "name": "python3"
  },
  "language_info": {
   "codemirror_mode": {
    "name": "ipython",
    "version": 3
   },
   "file_extension": ".py",
   "mimetype": "text/x-python",
   "name": "python",
   "nbconvert_exporter": "python",
   "pygments_lexer": "ipython3",
   "version": "3.8.12"
  }
 },
 "nbformat": 4,
 "nbformat_minor": 4
}
