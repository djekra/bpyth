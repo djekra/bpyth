{
 "cells": [
  {
   "cell_type": "markdown",
   "metadata": {},
   "source": [
    "__[Open and try this file online (Colab)](https://colab.research.google.com/github/djekra/bpyth/blob/master/jupyter/24_Strings.ipynb)__"
   ]
  },
  {
   "cell_type": "markdown",
   "metadata": {
    "tags": []
   },
   "source": [
    "# bpyth String Tools\n",
    "* `superstrip`     : Removes Unicode whitespaces\n",
    "* `remove_words`   : Removes stopwords \n",
    "* `remove_dupwords`: Removes dup words from a string whilst-preserving-order\n",
    "* `longest_substr` : Finds the longest common substring in a list of strings\n",
    "* `random_str`     : Returns a random string "
   ]
  },
  {
   "cell_type": "code",
   "execution_count": 8,
   "metadata": {
    "execution": {
     "iopub.execute_input": "2025-03-12T21:06:39.020530Z",
     "iopub.status.busy": "2025-03-12T21:06:39.019692Z",
     "iopub.status.idle": "2025-03-12T21:06:39.087675Z",
     "shell.execute_reply": "2025-03-12T21:06:39.086742Z",
     "shell.execute_reply.started": "2025-03-12T21:06:39.020484Z"
    }
   },
   "outputs": [
    {
     "name": "stdout",
     "output_type": "stream",
     "text": [
      "blab init\n",
      "environment['in_colab']     = False\n",
      "environment['dropbox_path'] = /media/me/LinuxDropbox/Dropbox\n",
      "environment['lib_path']     = /media/me/LinuxDropbox/Dropbox/31_Projekte/01_Python/libs\n",
      "Start Time: 22:06:39\n"
     ]
    },
    {
     "data": {
      "text/html": [
       "<img src onerror=\"var cell = this.closest('.jp-CodeCell');var editor = cell.querySelector('.jp-Editor');editor.style.background='Beige';this.parentNode.removeChild(this)\">"
      ],
      "text/plain": [
       "<IPython.core.display.HTML object>"
      ]
     },
     "metadata": {},
     "output_type": "display_data"
    }
   ],
   "source": [
    "# blab init\n",
    "try:\n",
    "    import blab\n",
    "except ImportError as e:\n",
    "    !pip install blab\n",
    "    import blab    \n",
    "startup_notebook = blab.blab_startup()\n",
    "%run $startup_notebook "
   ]
  },
  {
   "cell_type": "code",
   "execution_count": 9,
   "metadata": {
    "execution": {
     "iopub.execute_input": "2025-03-12T21:06:39.089311Z",
     "iopub.status.busy": "2025-03-12T21:06:39.088931Z",
     "iopub.status.idle": "2025-03-12T21:06:39.103781Z",
     "shell.execute_reply": "2025-03-12T21:06:39.103123Z",
     "shell.execute_reply.started": "2025-03-12T21:06:39.089284Z"
    }
   },
   "outputs": [],
   "source": [
    "import bpyth as bpy"
   ]
  },
  {
   "cell_type": "markdown",
   "metadata": {},
   "source": [
    "## superstrip"
   ]
  },
  {
   "cell_type": "code",
   "execution_count": 10,
   "metadata": {
    "execution": {
     "iopub.execute_input": "2025-03-12T21:06:39.105048Z",
     "iopub.status.busy": "2025-03-12T21:06:39.104533Z",
     "iopub.status.idle": "2025-03-12T21:06:39.133331Z",
     "shell.execute_reply": "2025-03-12T21:06:39.132452Z",
     "shell.execute_reply.started": "2025-03-12T21:06:39.105009Z"
    }
   },
   "outputs": [
    {
     "name": "stdout",
     "output_type": "stream",
     "text": [
      "Object `bpy.superstrip()` not found.\n"
     ]
    }
   ],
   "source": [
    "?bpy.superstrip()"
   ]
  },
  {
   "cell_type": "code",
   "execution_count": 11,
   "metadata": {
    "execution": {
     "iopub.execute_input": "2025-03-12T21:06:39.135118Z",
     "iopub.status.busy": "2025-03-12T21:06:39.134791Z",
     "iopub.status.idle": "2025-03-12T21:06:39.163988Z",
     "shell.execute_reply": "2025-03-12T21:06:39.163419Z",
     "shell.execute_reply.started": "2025-03-12T21:06:39.135088Z"
    }
   },
   "outputs": [
    {
     "name": "stdout",
     "output_type": "stream",
     "text": [
      "hallo\twelt\n",
      "hallo welt\n"
     ]
    }
   ],
   "source": [
    "r = \"hallo\\twelt\"\n",
    "print(r)\n",
    "print(bpy.superstrip(r))"
   ]
  },
  {
   "cell_type": "markdown",
   "metadata": {},
   "source": [
    "## remove_words"
   ]
  },
  {
   "cell_type": "code",
   "execution_count": 13,
   "metadata": {
    "execution": {
     "iopub.execute_input": "2025-03-12T21:06:55.838167Z",
     "iopub.status.busy": "2025-03-12T21:06:55.837225Z",
     "iopub.status.idle": "2025-03-12T21:06:55.913118Z",
     "shell.execute_reply": "2025-03-12T21:06:55.912220Z",
     "shell.execute_reply.started": "2025-03-12T21:06:55.838122Z"
    }
   },
   "outputs": [
    {
     "data": {
      "text/plain": [
       "\u001b[31mSignature:\u001b[39m bpy.remove_words(text, list_of_stopwords)\n",
       "\u001b[31mDocstring:\u001b[39m Removes stopwords\n",
       "\u001b[31mFile:\u001b[39m      Dynamically generated function. No source code available.\n",
       "\u001b[31mType:\u001b[39m      function"
      ]
     },
     "metadata": {},
     "output_type": "display_data"
    }
   ],
   "source": [
    "?bpy.remove_words"
   ]
  },
  {
   "cell_type": "code",
   "execution_count": 14,
   "metadata": {
    "execution": {
     "iopub.execute_input": "2025-03-12T21:06:55.915278Z",
     "iopub.status.busy": "2025-03-12T21:06:55.914409Z",
     "iopub.status.idle": "2025-03-12T21:06:55.926817Z",
     "shell.execute_reply": "2025-03-12T21:06:55.926165Z",
     "shell.execute_reply.started": "2025-03-12T21:06:55.915239Z"
    }
   },
   "outputs": [],
   "source": [
    "text = '''Der russische Überfall auf die Ukraine ist ein vom russischen Präsidenten \n",
    "Wladimir Putin geplanter, befohlener und am 24. Februar 2022 begonnener Angriffskrieg \n",
    "gegen die Ukraine. Der militärische Angriff Russlands auf den souveränen, \n",
    "nicht paktgebundenen Staat weitet den Krieg in der Ukraine, der mit der Annexion der Krim \n",
    "durch Russland bereits 2014 eingeleitet worden war, aus und verschärft ihn. \n",
    "Er gilt bei einigen Beobachtern als größter kriegerischer Konflikt auf dem europäischen \n",
    "Kontinent seit dem Ende des Zweiten Weltkrieges.'''"
   ]
  },
  {
   "cell_type": "code",
   "execution_count": 15,
   "metadata": {
    "execution": {
     "iopub.execute_input": "2025-03-12T21:06:55.927774Z",
     "iopub.status.busy": "2025-03-12T21:06:55.927479Z",
     "iopub.status.idle": "2025-03-12T21:06:55.953694Z",
     "shell.execute_reply": "2025-03-12T21:06:55.953008Z",
     "shell.execute_reply.started": "2025-03-12T21:06:55.927746Z"
    }
   },
   "outputs": [
    {
     "name": "stdout",
     "output_type": "stream",
     "text": [
      "russische Überfall Ukraine russischen Präsidenten \n",
      "Wladimir Putin geplanter, befohlener 24. Februar 2022 begonnener Angriffskrieg \n",
      "gegen Ukraine. militärische Angriff Russlands souveränen, \n",
      "nicht paktgebundenen Staat weitet Krieg in Ukraine, Annexion Krim \n",
      "durch Russland bereits 2014 eingeleitet worden , verschärft ihn. \n",
      "gilt einigen Beobachtern größter kriegerischer Konflikt europäischen \n",
      "Kontinent Ende Zweiten Weltkrieges.\n"
     ]
    }
   ],
   "source": [
    "result = bpy.remove_words(text, ['der','die','das','ein','eine', 'und','auf','an','ist','vom','am','Der','den','mit','war','aus','Er','bei','als','dem','seit','des'])\n",
    "print(result)"
   ]
  },
  {
   "cell_type": "markdown",
   "metadata": {},
   "source": [
    "## remove_dupwords"
   ]
  },
  {
   "cell_type": "code",
   "execution_count": 16,
   "metadata": {
    "execution": {
     "iopub.execute_input": "2025-03-12T21:06:55.955962Z",
     "iopub.status.busy": "2025-03-12T21:06:55.955525Z",
     "iopub.status.idle": "2025-03-12T21:06:56.019924Z",
     "shell.execute_reply": "2025-03-12T21:06:56.019242Z",
     "shell.execute_reply.started": "2025-03-12T21:06:55.955933Z"
    }
   },
   "outputs": [
    {
     "data": {
      "text/plain": [
       "\u001b[31mSignature:\u001b[39m bpy.remove_dupwords(data, sep=\u001b[33m' '\u001b[39m)\n",
       "\u001b[31mDocstring:\u001b[39m Removes dup words from a string whilst-preserving-order\n",
       "\u001b[31mFile:\u001b[39m      /media/me/LinuxDropbox/Dropbox/31_Projekte/01_Python/88_PyCharm/bpyth/src/bpyth/bpyth_string.py\n",
       "\u001b[31mType:\u001b[39m      function"
      ]
     },
     "metadata": {},
     "output_type": "display_data"
    }
   ],
   "source": [
    "?bpy.remove_dupwords"
   ]
  },
  {
   "cell_type": "code",
   "execution_count": 17,
   "metadata": {
    "execution": {
     "iopub.execute_input": "2025-03-12T21:06:56.021129Z",
     "iopub.status.busy": "2025-03-12T21:06:56.020837Z",
     "iopub.status.idle": "2025-03-12T21:06:56.035009Z",
     "shell.execute_reply": "2025-03-12T21:06:56.034045Z",
     "shell.execute_reply.started": "2025-03-12T21:06:56.021103Z"
    }
   },
   "outputs": [
    {
     "data": {
      "text/plain": [
       "'Moin Welt'"
      ]
     },
     "execution_count": 17,
     "metadata": {},
     "output_type": "execute_result"
    }
   ],
   "source": [
    "bpy.remove_dupwords('Moin Moin Welt')"
   ]
  },
  {
   "cell_type": "code",
   "execution_count": 18,
   "metadata": {
    "execution": {
     "iopub.execute_input": "2025-03-12T21:06:56.036321Z",
     "iopub.status.busy": "2025-03-12T21:06:56.035957Z",
     "iopub.status.idle": "2025-03-12T21:06:56.051099Z",
     "shell.execute_reply": "2025-03-12T21:06:56.050448Z",
     "shell.execute_reply.started": "2025-03-12T21:06:56.036293Z"
    }
   },
   "outputs": [
    {
     "data": {
      "text/plain": [
       "'Moin_Welt'"
      ]
     },
     "execution_count": 18,
     "metadata": {},
     "output_type": "execute_result"
    }
   ],
   "source": [
    "bpy.remove_dupwords('Moin_Moin_Welt', sep='_')"
   ]
  },
  {
   "cell_type": "markdown",
   "metadata": {},
   "source": [
    "## Longest common substring"
   ]
  },
  {
   "cell_type": "code",
   "execution_count": 19,
   "metadata": {
    "execution": {
     "iopub.execute_input": "2025-03-12T21:06:56.052639Z",
     "iopub.status.busy": "2025-03-12T21:06:56.052318Z",
     "iopub.status.idle": "2025-03-12T21:06:56.105615Z",
     "shell.execute_reply": "2025-03-12T21:06:56.105026Z",
     "shell.execute_reply.started": "2025-03-12T21:06:56.052611Z"
    }
   },
   "outputs": [
    {
     "data": {
      "text/plain": [
       "\u001b[31mSignature:\u001b[39m bpy.longest_substr(data)\n",
       "\u001b[31mDocstring:\u001b[39m Finds the longest common substring in a list of strings\n",
       "\u001b[31mFile:\u001b[39m      /media/me/LinuxDropbox/Dropbox/31_Projekte/01_Python/88_PyCharm/bpyth/src/bpyth/bpyth_string.py\n",
       "\u001b[31mType:\u001b[39m      function"
      ]
     },
     "metadata": {},
     "output_type": "display_data"
    }
   ],
   "source": [
    "?bpy.longest_substr"
   ]
  },
  {
   "cell_type": "code",
   "execution_count": 20,
   "metadata": {
    "execution": {
     "iopub.execute_input": "2025-03-12T21:06:56.106670Z",
     "iopub.status.busy": "2025-03-12T21:06:56.106299Z",
     "iopub.status.idle": "2025-03-12T21:06:56.122670Z",
     "shell.execute_reply": "2025-03-12T21:06:56.121856Z",
     "shell.execute_reply.started": "2025-03-12T21:06:56.106648Z"
    }
   },
   "outputs": [
    {
     "data": {
      "text/plain": [
       "'klar'"
      ]
     },
     "execution_count": 20,
     "metadata": {},
     "output_type": "execute_result"
    }
   ],
   "source": [
    "bpy.longest_substr(['klar', 'klarere'])"
   ]
  },
  {
   "cell_type": "code",
   "execution_count": 21,
   "metadata": {
    "execution": {
     "iopub.execute_input": "2025-03-12T21:06:56.124058Z",
     "iopub.status.busy": "2025-03-12T21:06:56.123698Z",
     "iopub.status.idle": "2025-03-12T21:06:56.142592Z",
     "shell.execute_reply": "2025-03-12T21:06:56.141841Z",
     "shell.execute_reply.started": "2025-03-12T21:06:56.124024Z"
    }
   },
   "outputs": [
    {
     "data": {
      "text/plain": [
       "'PER'"
      ]
     },
     "execution_count": 21,
     "metadata": {},
     "output_type": "execute_result"
    }
   ],
   "source": [
    "bpy.longest_substr(['PER.MAL', 'PER.FEM?.GEN']).strip('.')"
   ]
  },
  {
   "cell_type": "code",
   "execution_count": 22,
   "metadata": {
    "execution": {
     "iopub.execute_input": "2025-03-12T21:06:56.144281Z",
     "iopub.status.busy": "2025-03-12T21:06:56.144060Z",
     "iopub.status.idle": "2025-03-12T21:06:56.160161Z",
     "shell.execute_reply": "2025-03-12T21:06:56.159612Z",
     "shell.execute_reply.started": "2025-03-12T21:06:56.144265Z"
    }
   },
   "outputs": [
    {
     "data": {
      "text/plain": [
       "'saun'"
      ]
     },
     "execution_count": 22,
     "metadata": {},
     "output_type": "execute_result"
    }
   ],
   "source": [
    "bpy.longest_substr(['saunen', 'sauna', 'saunas'])"
   ]
  },
  {
   "cell_type": "code",
   "execution_count": 23,
   "metadata": {
    "execution": {
     "iopub.execute_input": "2025-03-12T21:06:56.160847Z",
     "iopub.status.busy": "2025-03-12T21:06:56.160671Z",
     "iopub.status.idle": "2025-03-12T21:06:56.179469Z",
     "shell.execute_reply": "2025-03-12T21:06:56.178627Z",
     "shell.execute_reply.started": "2025-03-12T21:06:56.160830Z"
    }
   },
   "outputs": [
    {
     "data": {
      "text/plain": [
       "'ch'"
      ]
     },
     "execution_count": 23,
     "metadata": {},
     "output_type": "execute_result"
    }
   ],
   "source": [
    "bpy.longest_substr(['Er hörte leise Schritte hinter sich.',\n",
    "                    'Das bedeutete nichts Gutes.',\n",
    "                    'Wer würde ihm schon folgen,',\n",
    "                    'spät in der Nacht?' ])"
   ]
  },
  {
   "cell_type": "markdown",
   "metadata": {},
   "source": [
    "## random_str"
   ]
  },
  {
   "cell_type": "code",
   "execution_count": 24,
   "metadata": {
    "execution": {
     "iopub.execute_input": "2025-03-12T21:06:56.180570Z",
     "iopub.status.busy": "2025-03-12T21:06:56.180297Z",
     "iopub.status.idle": "2025-03-12T21:06:56.261940Z",
     "shell.execute_reply": "2025-03-12T21:06:56.261197Z",
     "shell.execute_reply.started": "2025-03-12T21:06:56.180536Z"
    }
   },
   "outputs": [
    {
     "data": {
      "text/plain": [
       "\u001b[31mSignature:\u001b[39m\n",
       "bpy.random_str(\n",
       "    size=\u001b[32m10\u001b[39m,\n",
       "    size_min=\u001b[38;5;28;01mNone\u001b[39;00m,\n",
       "    size_max=\u001b[38;5;28;01mNone\u001b[39;00m,\n",
       "    mix=\u001b[33m'abcdefghijklmnopqrstuvwxyzABCDEFGHIJKLMNOPQRSTUVWXYZ'\u001b[39m,\n",
       ")\n",
       "\u001b[31mDocstring:\u001b[39m\n",
       "Returns a random string\n",
       "* size: desired length\n",
       "* size_min: desired minimum length\n",
       "* size_max: desired maximum length    \n",
       "* mix: Characters to use. \n",
       "  See https://docs.python.org/3/library/string.html\n",
       "  e.g. mix = string.digits + string.punctuation + 'AAAAAAAAA'      \n",
       "\u001b[31mFile:\u001b[39m      /media/me/LinuxDropbox/Dropbox/31_Projekte/01_Python/88_PyCharm/bpyth/src/bpyth/bpyth_string.py\n",
       "\u001b[31mType:\u001b[39m      function"
      ]
     },
     "metadata": {},
     "output_type": "display_data"
    }
   ],
   "source": [
    "?bpy.random_str"
   ]
  },
  {
   "cell_type": "code",
   "execution_count": 40,
   "metadata": {
    "execution": {
     "iopub.execute_input": "2025-03-12T21:31:22.159589Z",
     "iopub.status.busy": "2025-03-12T21:31:22.158877Z",
     "iopub.status.idle": "2025-03-12T21:31:22.191559Z",
     "shell.execute_reply": "2025-03-12T21:31:22.190299Z",
     "shell.execute_reply.started": "2025-03-12T21:31:22.159527Z"
    }
   },
   "outputs": [
    {
     "data": {
      "text/plain": [
       "''"
      ]
     },
     "execution_count": 40,
     "metadata": {},
     "output_type": "execute_result"
    }
   ],
   "source": [
    "bpy.random_str(size_min=-3)"
   ]
  },
  {
   "cell_type": "code",
   "execution_count": 25,
   "metadata": {
    "execution": {
     "iopub.execute_input": "2025-03-12T21:06:56.263326Z",
     "iopub.status.busy": "2025-03-12T21:06:56.262688Z",
     "iopub.status.idle": "2025-03-12T21:06:56.278800Z",
     "shell.execute_reply": "2025-03-12T21:06:56.277882Z",
     "shell.execute_reply.started": "2025-03-12T21:06:56.263293Z"
    }
   },
   "outputs": [
    {
     "name": "stdout",
     "output_type": "stream",
     "text": [
      "SbIPHggXTy\n",
      "nNiYgkfC\n",
      "T\n",
      "nDs\n",
      "OZqeOyZw\n",
      "X\n",
      "RCVHZveZPF\n",
      "nkXVHelG\n",
      "KxZLt\n",
      "WCrYfEHsmX\n"
     ]
    }
   ],
   "source": [
    "for i in range(10):\n",
    "    print( bpy.random_str( size_min=1, size_max=10) )"
   ]
  },
  {
   "cell_type": "code",
   "execution_count": 26,
   "metadata": {
    "execution": {
     "iopub.execute_input": "2025-03-12T21:06:56.279867Z",
     "iopub.status.busy": "2025-03-12T21:06:56.279538Z",
     "iopub.status.idle": "2025-03-12T21:06:56.303741Z",
     "shell.execute_reply": "2025-03-12T21:06:56.303027Z",
     "shell.execute_reply.started": "2025-03-12T21:06:56.279837Z"
    }
   },
   "outputs": [
    {
     "name": "stdout",
     "output_type": "stream",
     "text": [
      "[@>!7A9<[0\n",
      "04&A2__<67\n",
      "&.A]'AA2/>\n",
      "0#A3499A}*\n",
      ":*A;`,*A7`\n",
      "-6A^%_9?.7\n",
      ".-#`{-9-//\n",
      "~?'|A7A_A>\n",
      "}{#5A:!,3`\n",
      "+)3/A<1``#\n"
     ]
    }
   ],
   "source": [
    "import string\n",
    "for i in range(10):\n",
    "    print( bpy.random_str( mix=string.digits + string.punctuation + 'AAAAAAAAAAA'   ) )"
   ]
  },
  {
   "cell_type": "code",
   "execution_count": 27,
   "metadata": {
    "execution": {
     "iopub.execute_input": "2025-03-12T21:06:56.304744Z",
     "iopub.status.busy": "2025-03-12T21:06:56.304466Z",
     "iopub.status.idle": "2025-03-12T21:06:56.325746Z",
     "shell.execute_reply": "2025-03-12T21:06:56.324942Z",
     "shell.execute_reply.started": "2025-03-12T21:06:56.304722Z"
    }
   },
   "outputs": [
    {
     "data": {
      "text/plain": [
       "['AAAAAAAAA.',\n",
       " 'AAAAAAAAAA',\n",
       " 'AAAAA.AAAA',\n",
       " 'A.AAAAAAAA',\n",
       " '.AAA.AAAAA',\n",
       " 'AAAAAAAAAA',\n",
       " 'AA.AAAAAAA',\n",
       " 'AAAAAAAAAA',\n",
       " 'AAAAA.AAAA',\n",
       " 'AAAAAAA..A']"
      ]
     },
     "execution_count": 27,
     "metadata": {},
     "output_type": "execute_result"
    }
   ],
   "source": [
    "[ bpy.random_str(mix= 'AAAAAAAAAAA.') for i in range(10) ]"
   ]
  }
 ],
 "metadata": {
  "kernelspec": {
   "display_name": "Python 3 (ipykernel)",
   "language": "python",
   "name": "python3"
  },
  "language_info": {
   "codemirror_mode": {
    "name": "ipython",
    "version": 3
   },
   "file_extension": ".py",
   "mimetype": "text/x-python",
   "name": "python",
   "nbconvert_exporter": "python",
   "pygments_lexer": "ipython3",
   "version": "3.12.9"
  }
 },
 "nbformat": 4,
 "nbformat_minor": 4
}
