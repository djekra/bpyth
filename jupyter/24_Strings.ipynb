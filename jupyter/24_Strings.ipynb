{
 "cells": [
  {
   "cell_type": "markdown",
   "metadata": {},
   "source": [
    "__[Open and try this file online (Colab)](https://colab.research.google.com/github/djekra/bpyth/blob/master/jupyter/24_Strings.ipynb)__"
   ]
  },
  {
   "cell_type": "markdown",
   "metadata": {
    "tags": []
   },
   "source": [
    "# bpyth String Tools\n",
    "* `superstrip`     : Removes Unicode whitespaces\n",
    "* `remove_words`   : Removes stopwords \n",
    "* `remove_dupwords`: Removes dup words from a string whilst-preserving-order\n",
    "* `longest_substr` : Finds the longest common substring in a list of strings\n",
    "* `random_str`     : Returns a random string "
   ]
  },
  {
   "cell_type": "code",
   "execution_count": 1,
   "metadata": {},
   "outputs": [],
   "source": [
    "# blab init\n",
    "try:\n",
    "    import blab\n",
    "except ImportError as e:\n",
    "    !pip install blab\n",
    "    import blab    \n",
    "startup_notebook = blab.blab_startup()\n",
    "%run $startup_notebook "
   ]
  },
  {
   "cell_type": "code",
   "execution_count": 2,
   "metadata": {},
   "outputs": [],
   "source": [
    "import bpyth as bpy"
   ]
  },
  {
   "cell_type": "markdown",
   "metadata": {},
   "source": [
    "## remove_words"
   ]
  },
  {
   "cell_type": "code",
   "execution_count": 3,
   "metadata": {},
   "outputs": [
    {
     "data": {
      "text/plain": [
       "\u001b[0;31mSignature:\u001b[0m \u001b[0mbpy\u001b[0m\u001b[0;34m.\u001b[0m\u001b[0mremove_words\u001b[0m\u001b[0;34m(\u001b[0m\u001b[0mtext\u001b[0m\u001b[0;34m,\u001b[0m \u001b[0mlist_of_stopwords\u001b[0m\u001b[0;34m)\u001b[0m\u001b[0;34m\u001b[0m\u001b[0;34m\u001b[0m\u001b[0m\n",
       "\u001b[0;31mDocstring:\u001b[0m Removes stopwords\n",
       "\u001b[0;31mFile:\u001b[0m      ~/mambaforge/envs/plain_01/lib/python3.9/site-packages/bpyth/bpyth_string.py\n",
       "\u001b[0;31mType:\u001b[0m      function\n"
      ]
     },
     "metadata": {},
     "output_type": "display_data"
    }
   ],
   "source": [
    "?bpy.remove_words"
   ]
  },
  {
   "cell_type": "code",
   "execution_count": 4,
   "metadata": {},
   "outputs": [],
   "source": [
    "text = '''Der russische Überfall auf die Ukraine ist ein vom russischen Präsidenten \n",
    "Wladimir Putin geplanter, befohlener und am 24. Februar 2022 begonnener Angriffskrieg \n",
    "gegen die Ukraine. Der militärische Angriff Russlands auf den souveränen, \n",
    "nicht paktgebundenen Staat weitet den Krieg in der Ukraine, der mit der Annexion der Krim \n",
    "durch Russland bereits 2014 eingeleitet worden war, aus und verschärft ihn. \n",
    "Er gilt bei einigen Beobachtern als größter kriegerischer Konflikt auf dem europäischen \n",
    "Kontinent seit dem Ende des Zweiten Weltkrieges.'''"
   ]
  },
  {
   "cell_type": "code",
   "execution_count": 5,
   "metadata": {},
   "outputs": [
    {
     "data": {
      "text/plain": [
       "'russische Überfall Ukraine russischen Präsidenten \\nWladimir Putin geplanter, befohlener 24. Februar 2022 begonnener Angriffskrieg \\ngegen Ukraine. militärische Angriff Russlands souveränen, \\nnicht paktgebundenen Staat weitet Krieg in Ukraine, Annexion Krim \\ndurch Russland bereits 2014 eingeleitet worden , verschärft ihn. \\ngilt einigen Beobachtern größter kriegerischer Konflikt europäischen \\nKontinent Ende Zweiten Weltkrieges.'"
      ]
     },
     "execution_count": 5,
     "metadata": {},
     "output_type": "execute_result"
    }
   ],
   "source": [
    "bpy.remove_words(text, ['der','die','das','ein','eine', 'und','auf','an','ist','vom','am','Der','den','mit','war','aus','Er','bei','als','dem','seit','des'])"
   ]
  },
  {
   "cell_type": "markdown",
   "metadata": {},
   "source": [
    "## remove_dupwords"
   ]
  },
  {
   "cell_type": "code",
   "execution_count": 6,
   "metadata": {},
   "outputs": [
    {
     "data": {
      "text/plain": [
       "\u001b[0;31mSignature:\u001b[0m \u001b[0mbpy\u001b[0m\u001b[0;34m.\u001b[0m\u001b[0mremove_dupwords\u001b[0m\u001b[0;34m(\u001b[0m\u001b[0mdata\u001b[0m\u001b[0;34m,\u001b[0m \u001b[0msep\u001b[0m\u001b[0;34m=\u001b[0m\u001b[0;34m' '\u001b[0m\u001b[0;34m)\u001b[0m\u001b[0;34m\u001b[0m\u001b[0;34m\u001b[0m\u001b[0m\n",
       "\u001b[0;31mDocstring:\u001b[0m Removes dup words from a string whilst-preserving-order\n",
       "\u001b[0;31mFile:\u001b[0m      ~/mambaforge/envs/plain_01/lib/python3.9/site-packages/bpyth/bpyth_string.py\n",
       "\u001b[0;31mType:\u001b[0m      function\n"
      ]
     },
     "metadata": {},
     "output_type": "display_data"
    }
   ],
   "source": [
    "?bpy.remove_dupwords"
   ]
  },
  {
   "cell_type": "code",
   "execution_count": 7,
   "metadata": {},
   "outputs": [
    {
     "data": {
      "text/plain": [
       "'Moin Welt'"
      ]
     },
     "execution_count": 7,
     "metadata": {},
     "output_type": "execute_result"
    }
   ],
   "source": [
    "bpy.remove_dupwords('Moin Moin Welt')"
   ]
  },
  {
   "cell_type": "code",
   "execution_count": 8,
   "metadata": {},
   "outputs": [
    {
     "data": {
      "text/plain": [
       "'Moin_Welt'"
      ]
     },
     "execution_count": 8,
     "metadata": {},
     "output_type": "execute_result"
    }
   ],
   "source": [
    "bpy.remove_dupwords('Moin_Moin_Welt', sep='_')"
   ]
  },
  {
   "cell_type": "markdown",
   "metadata": {},
   "source": [
    "## Longest common substring"
   ]
  },
  {
   "cell_type": "code",
   "execution_count": 9,
   "metadata": {},
   "outputs": [
    {
     "data": {
      "text/plain": [
       "\u001b[0;31mSignature:\u001b[0m \u001b[0mbpy\u001b[0m\u001b[0;34m.\u001b[0m\u001b[0mlongest_substr\u001b[0m\u001b[0;34m(\u001b[0m\u001b[0mdata\u001b[0m\u001b[0;34m)\u001b[0m\u001b[0;34m\u001b[0m\u001b[0;34m\u001b[0m\u001b[0m\n",
       "\u001b[0;31mDocstring:\u001b[0m Finds the longest common substring in a list of strings\n",
       "\u001b[0;31mFile:\u001b[0m      ~/mambaforge/envs/plain_01/lib/python3.9/site-packages/bpyth/bpyth_string.py\n",
       "\u001b[0;31mType:\u001b[0m      function\n"
      ]
     },
     "metadata": {},
     "output_type": "display_data"
    }
   ],
   "source": [
    "?bpy.longest_substr"
   ]
  },
  {
   "cell_type": "code",
   "execution_count": 10,
   "metadata": {},
   "outputs": [
    {
     "data": {
      "text/plain": [
       "'klar'"
      ]
     },
     "execution_count": 10,
     "metadata": {},
     "output_type": "execute_result"
    }
   ],
   "source": [
    "bpy.longest_substr(['klar', 'klarere'])"
   ]
  },
  {
   "cell_type": "code",
   "execution_count": 11,
   "metadata": {},
   "outputs": [
    {
     "data": {
      "text/plain": [
       "'PER'"
      ]
     },
     "execution_count": 11,
     "metadata": {},
     "output_type": "execute_result"
    }
   ],
   "source": [
    "bpy.longest_substr(['PER.MAL', 'PER.FEM?.GEN']).strip('.')"
   ]
  },
  {
   "cell_type": "code",
   "execution_count": 12,
   "metadata": {},
   "outputs": [
    {
     "data": {
      "text/plain": [
       "'saun'"
      ]
     },
     "execution_count": 12,
     "metadata": {},
     "output_type": "execute_result"
    }
   ],
   "source": [
    "bpy.longest_substr(['saunen', 'sauna', 'saunas'])"
   ]
  },
  {
   "cell_type": "code",
   "execution_count": 13,
   "metadata": {},
   "outputs": [
    {
     "data": {
      "text/plain": [
       "'ch'"
      ]
     },
     "execution_count": 13,
     "metadata": {},
     "output_type": "execute_result"
    }
   ],
   "source": [
    "bpy.longest_substr(['Er hörte leise Schritte hinter sich.',\n",
    "                    'Das bedeutete nichts Gutes.',\n",
    "                    'Wer würde ihm schon folgen,',\n",
    "                    'spät in der Nacht?' ])"
   ]
  },
  {
   "cell_type": "markdown",
   "metadata": {},
   "source": [
    "## random_str"
   ]
  },
  {
   "cell_type": "code",
   "execution_count": 14,
   "metadata": {},
   "outputs": [
    {
     "data": {
      "text/plain": [
       "\u001b[0;31mSignature:\u001b[0m\n",
       "\u001b[0mbpy\u001b[0m\u001b[0;34m.\u001b[0m\u001b[0mrandom_str\u001b[0m\u001b[0;34m(\u001b[0m\u001b[0;34m\u001b[0m\n",
       "\u001b[0;34m\u001b[0m    \u001b[0msize\u001b[0m\u001b[0;34m=\u001b[0m\u001b[0;36m10\u001b[0m\u001b[0;34m,\u001b[0m\u001b[0;34m\u001b[0m\n",
       "\u001b[0;34m\u001b[0m    \u001b[0msize_min\u001b[0m\u001b[0;34m=\u001b[0m\u001b[0;32mNone\u001b[0m\u001b[0;34m,\u001b[0m\u001b[0;34m\u001b[0m\n",
       "\u001b[0;34m\u001b[0m    \u001b[0msize_max\u001b[0m\u001b[0;34m=\u001b[0m\u001b[0;32mNone\u001b[0m\u001b[0;34m,\u001b[0m\u001b[0;34m\u001b[0m\n",
       "\u001b[0;34m\u001b[0m    \u001b[0mmix\u001b[0m\u001b[0;34m=\u001b[0m\u001b[0;34m'abcdefghijklmnopqrstuvwxyzABCDEFGHIJKLMNOPQRSTUVWXYZ'\u001b[0m\u001b[0;34m,\u001b[0m\u001b[0;34m\u001b[0m\n",
       "\u001b[0;34m\u001b[0m\u001b[0;34m)\u001b[0m\u001b[0;34m\u001b[0m\u001b[0;34m\u001b[0m\u001b[0m\n",
       "\u001b[0;31mDocstring:\u001b[0m\n",
       "Returns a random string\n",
       "* size: desired length\n",
       "* size_min: desired minimum length\n",
       "* size_max: desired maximum length    \n",
       "* mix: Characters to use. \n",
       "  See https://docs.python.org/3/library/string.html\n",
       "  e.g. mix = string.digits + string.punctuation + 'AAAAAAAAA'      \n",
       "\u001b[0;31mFile:\u001b[0m      ~/mambaforge/envs/plain_01/lib/python3.9/site-packages/bpyth/bpyth_string.py\n",
       "\u001b[0;31mType:\u001b[0m      function\n"
      ]
     },
     "metadata": {},
     "output_type": "display_data"
    }
   ],
   "source": [
    "?bpy.random_str"
   ]
  },
  {
   "cell_type": "code",
   "execution_count": 15,
   "metadata": {},
   "outputs": [
    {
     "name": "stdout",
     "output_type": "stream",
     "text": [
      "bimEa\n",
      "k\n",
      "h\n",
      "gU\n",
      "JMG\n",
      "yhkDbGO\n",
      "TS\n",
      "PVWkQRn\n",
      "nu\n",
      "ByD\n"
     ]
    }
   ],
   "source": [
    "for i in range(10):\n",
    "    print( bpy.random_str( size_min=1, size_max=10) )"
   ]
  },
  {
   "cell_type": "code",
   "execution_count": 16,
   "metadata": {},
   "outputs": [
    {
     "name": "stdout",
     "output_type": "stream",
     "text": [
      "~.-'[|1~'@\n",
      "8~)\\A_(A>#\n",
      "?A:340~:|>\n",
      "/62'$A><A:\n",
      "62+A$$?%A+\n",
      ".A/(34'A&|\n",
      "\\|/-@<1_A5\n",
      ")03\"5AA-&@\n",
      "?'}]AA[+<=\n",
      "A^A~#7|6{0\n"
     ]
    }
   ],
   "source": [
    "import string\n",
    "for i in range(10):\n",
    "    print( bpy.random_str( mix=string.digits + string.punctuation + 'AAAAAAAAAAA'   ) )"
   ]
  },
  {
   "cell_type": "code",
   "execution_count": 17,
   "metadata": {},
   "outputs": [
    {
     "data": {
      "text/plain": [
       "['AAAAAAAAAA',\n",
       " 'AAAAAAAAAA',\n",
       " '.AAA.AAAAA',\n",
       " 'AAAAAAAAAA',\n",
       " 'AA..AAA.AA',\n",
       " 'AAAA.AAA.A',\n",
       " 'AAAAAAAAAA',\n",
       " '.AAA.AAAAA',\n",
       " 'AAAAAAAAAA',\n",
       " '.AAAAAAAAA']"
      ]
     },
     "execution_count": 17,
     "metadata": {},
     "output_type": "execute_result"
    }
   ],
   "source": [
    "[ bpy.random_str(mix= 'AAAAAAAAAAA.') for i in range(10) ]"
   ]
  }
 ],
 "metadata": {
  "kernelspec": {
   "display_name": "Python 3 (ipykernel)",
   "language": "python",
   "name": "python3"
  },
  "language_info": {
   "codemirror_mode": {
    "name": "ipython",
    "version": 3
   },
   "file_extension": ".py",
   "mimetype": "text/x-python",
   "name": "python",
   "nbconvert_exporter": "python",
   "pygments_lexer": "ipython3",
   "version": "3.9.13"
  }
 },
 "nbformat": 4,
 "nbformat_minor": 4
}
