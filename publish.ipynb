{
 "cells": [
  {
   "cell_type": "markdown",
   "id": "a4547f78-251b-45b5-a478-27dc691d193b",
   "metadata": {},
   "source": [
    "## Local install"
   ]
  },
  {
   "cell_type": "code",
   "execution_count": 1,
   "id": "f345ee0f-748f-40be-8578-8ad4ac4d9fe3",
   "metadata": {},
   "outputs": [
    {
     "name": "stdout",
     "output_type": "stream",
     "text": [
      "Obtaining file:///mnt/DATA/Dropbox/31_Projekte/01_Python/git/bpyth\n",
      "  Installing build dependencies ... \u001b[?25ldone\n",
      "\u001b[?25h  Checking if build backend supports build_editable ... \u001b[?25ldone\n",
      "\u001b[?25h  Getting requirements to build editable ... \u001b[?25ldone\n",
      "\u001b[?25h  Preparing editable metadata (pyproject.toml) ... \u001b[?25ldone\n",
      "\u001b[?25hBuilding wheels for collected packages: bpyth\n",
      "  Building editable for bpyth (pyproject.toml) ... \u001b[?25ldone\n",
      "\u001b[?25h  Created wheel for bpyth: filename=bpyth-0.0.9-0.editable-py3-none-any.whl size=2477 sha256=309f0faa60e551a012d1f1d9b3e4b15e2786132a205c794046fc070ccfdb04d3\n",
      "  Stored in directory: /tmp/pip-ephem-wheel-cache-xcws8k5h/wheels/6e/1c/f9/103f9d44e72097ab534e5df52d4201163e9fccca7d908d2837\n",
      "Successfully built bpyth\n",
      "Installing collected packages: bpyth\n",
      "Successfully installed bpyth-0.0.9\n"
     ]
    }
   ],
   "source": [
    "# install locally\n",
    "!python -m pip install -e ."
   ]
  },
  {
   "cell_type": "code",
   "execution_count": 2,
   "id": "8cec0e88-e3c2-4020-b9c9-176bcd255c46",
   "metadata": {},
   "outputs": [
    {
     "name": "stdout",
     "output_type": "stream",
     "text": [
      "Name: bpyth\n",
      "Version: 0.0.9\n",
      "Summary: Various Python Tools\n",
      "Home-page: \n",
      "Author: \n",
      "Author-email: djekra <hopsalla@gmail.com>\n",
      "License: MIT\n",
      "Location: /home/a/anaconda3/envs/bjpython/lib/python3.8/site-packages\n",
      "Requires: \n",
      "Required-by: blab\n"
     ]
    }
   ],
   "source": [
    "# show\n",
    "!pip show bpyth"
   ]
  },
  {
   "cell_type": "code",
   "execution_count": 3,
   "id": "baf8f2b6-2bb4-4460-b654-f4454bfec48f",
   "metadata": {},
   "outputs": [],
   "source": [
    "# test import\n",
    "import bpyth as bpy"
   ]
  },
  {
   "cell_type": "code",
   "execution_count": 4,
   "id": "43f0bbdd-2df6-4534-a86e-77657d0329da",
   "metadata": {},
   "outputs": [
    {
     "name": "stdout",
     "output_type": "stream",
     "text": [
      "bpyth Hello World\n"
     ]
    }
   ],
   "source": [
    "# test script\n",
    "!bpyth"
   ]
  },
  {
   "cell_type": "markdown",
   "id": "efa2c656-785f-45b7-a3b5-a9ae251bce06",
   "metadata": {},
   "source": [
    "## build"
   ]
  },
  {
   "cell_type": "code",
   "execution_count": 5,
   "id": "f20cbd4d-b38b-4bc9-a750-b14851fb174b",
   "metadata": {},
   "outputs": [],
   "source": [
    "!pip install -q build"
   ]
  },
  {
   "cell_type": "code",
   "execution_count": 6,
   "id": "c745f5da-d6e4-408a-aa73-1166ccc6fd5b",
   "metadata": {},
   "outputs": [
    {
     "name": "stdout",
     "output_type": "stream",
     "text": [
      "\u001b[1m* Creating venv isolated environment...\u001b[0m\n",
      "\u001b[1m* Installing packages in isolated environment... (setuptools>=61.0.0, wheel)\u001b[0m\n",
      "\u001b[1m* Getting dependencies for sdist...\u001b[0m\n",
      "running egg_info\n",
      "writing src/bpyth.egg-info/PKG-INFO\n",
      "writing dependency_links to src/bpyth.egg-info/dependency_links.txt\n",
      "writing entry points to src/bpyth.egg-info/entry_points.txt\n",
      "writing top-level names to src/bpyth.egg-info/top_level.txt\n",
      "reading manifest file 'src/bpyth.egg-info/SOURCES.txt'\n",
      "adding license file 'LICENSE'\n",
      "writing manifest file 'src/bpyth.egg-info/SOURCES.txt'\n",
      "\u001b[1m* Building sdist...\u001b[0m\n",
      "running sdist\n",
      "running egg_info\n",
      "writing src/bpyth.egg-info/PKG-INFO\n",
      "writing dependency_links to src/bpyth.egg-info/dependency_links.txt\n",
      "writing entry points to src/bpyth.egg-info/entry_points.txt\n",
      "writing top-level names to src/bpyth.egg-info/top_level.txt\n",
      "reading manifest file 'src/bpyth.egg-info/SOURCES.txt'\n",
      "adding license file 'LICENSE'\n",
      "writing manifest file 'src/bpyth.egg-info/SOURCES.txt'\n",
      "running check\n",
      "creating bpyth-0.0.9\n",
      "creating bpyth-0.0.9/src\n",
      "creating bpyth-0.0.9/src/bpyth\n",
      "creating bpyth-0.0.9/src/bpyth.egg-info\n",
      "copying files to bpyth-0.0.9...\n",
      "copying LICENSE -> bpyth-0.0.9\n",
      "copying README.md -> bpyth-0.0.9\n",
      "copying pyproject.toml -> bpyth-0.0.9\n",
      "copying src/bpyth/__init__.py -> bpyth-0.0.9/src/bpyth\n",
      "copying src/bpyth/__main__.py -> bpyth-0.0.9/src/bpyth\n",
      "copying src/bpyth/bpyth_files.py -> bpyth-0.0.9/src/bpyth\n",
      "copying src/bpyth/bpyth_human.py -> bpyth-0.0.9/src/bpyth\n",
      "copying src/bpyth/bpyth_iterable.py -> bpyth-0.0.9/src/bpyth\n",
      "copying src/bpyth/bpyth_object_analysis.py -> bpyth-0.0.9/src/bpyth\n",
      "copying src/bpyth/bpyth_string.py -> bpyth-0.0.9/src/bpyth\n",
      "copying src/bpyth/bpyth_tools.py -> bpyth-0.0.9/src/bpyth\n",
      "copying src/bpyth.egg-info/PKG-INFO -> bpyth-0.0.9/src/bpyth.egg-info\n",
      "copying src/bpyth.egg-info/SOURCES.txt -> bpyth-0.0.9/src/bpyth.egg-info\n",
      "copying src/bpyth.egg-info/dependency_links.txt -> bpyth-0.0.9/src/bpyth.egg-info\n",
      "copying src/bpyth.egg-info/entry_points.txt -> bpyth-0.0.9/src/bpyth.egg-info\n",
      "copying src/bpyth.egg-info/top_level.txt -> bpyth-0.0.9/src/bpyth.egg-info\n",
      "Writing bpyth-0.0.9/setup.cfg\n",
      "Creating tar archive\n",
      "removing 'bpyth-0.0.9' (and everything under it)\n",
      "\u001b[1m* Building wheel from sdist\u001b[0m\n",
      "\u001b[1m* Creating venv isolated environment...\u001b[0m\n",
      "\u001b[1m* Installing packages in isolated environment... (setuptools>=61.0.0, wheel)\u001b[0m\n",
      "\u001b[1m* Getting dependencies for wheel...\u001b[0m\n",
      "running egg_info\n",
      "writing src/bpyth.egg-info/PKG-INFO\n",
      "writing dependency_links to src/bpyth.egg-info/dependency_links.txt\n",
      "writing entry points to src/bpyth.egg-info/entry_points.txt\n",
      "writing top-level names to src/bpyth.egg-info/top_level.txt\n",
      "reading manifest file 'src/bpyth.egg-info/SOURCES.txt'\n",
      "adding license file 'LICENSE'\n",
      "writing manifest file 'src/bpyth.egg-info/SOURCES.txt'\n",
      "\u001b[1m* Installing packages in isolated environment... (wheel)\u001b[0m\n",
      "\u001b[1m* Building wheel...\u001b[0m\n",
      "running bdist_wheel\n",
      "running build\n",
      "running build_py\n",
      "creating build\n",
      "creating build/lib\n",
      "creating build/lib/bpyth\n",
      "copying src/bpyth/bpyth_string.py -> build/lib/bpyth\n",
      "copying src/bpyth/__init__.py -> build/lib/bpyth\n",
      "copying src/bpyth/bpyth_object_analysis.py -> build/lib/bpyth\n",
      "copying src/bpyth/bpyth_human.py -> build/lib/bpyth\n",
      "copying src/bpyth/bpyth_tools.py -> build/lib/bpyth\n",
      "copying src/bpyth/__main__.py -> build/lib/bpyth\n",
      "copying src/bpyth/bpyth_iterable.py -> build/lib/bpyth\n",
      "copying src/bpyth/bpyth_files.py -> build/lib/bpyth\n",
      "running egg_info\n",
      "writing src/bpyth.egg-info/PKG-INFO\n",
      "writing dependency_links to src/bpyth.egg-info/dependency_links.txt\n",
      "writing entry points to src/bpyth.egg-info/entry_points.txt\n",
      "writing top-level names to src/bpyth.egg-info/top_level.txt\n",
      "reading manifest file 'src/bpyth.egg-info/SOURCES.txt'\n",
      "adding license file 'LICENSE'\n",
      "writing manifest file 'src/bpyth.egg-info/SOURCES.txt'\n",
      "installing to build/bdist.linux-x86_64/wheel\n",
      "running install\n",
      "running install_lib\n",
      "creating build/bdist.linux-x86_64\n",
      "creating build/bdist.linux-x86_64/wheel\n",
      "creating build/bdist.linux-x86_64/wheel/bpyth\n",
      "copying build/lib/bpyth/bpyth_string.py -> build/bdist.linux-x86_64/wheel/bpyth\n",
      "copying build/lib/bpyth/__init__.py -> build/bdist.linux-x86_64/wheel/bpyth\n",
      "copying build/lib/bpyth/bpyth_object_analysis.py -> build/bdist.linux-x86_64/wheel/bpyth\n",
      "copying build/lib/bpyth/bpyth_human.py -> build/bdist.linux-x86_64/wheel/bpyth\n",
      "copying build/lib/bpyth/bpyth_tools.py -> build/bdist.linux-x86_64/wheel/bpyth\n",
      "copying build/lib/bpyth/__main__.py -> build/bdist.linux-x86_64/wheel/bpyth\n",
      "copying build/lib/bpyth/bpyth_iterable.py -> build/bdist.linux-x86_64/wheel/bpyth\n",
      "copying build/lib/bpyth/bpyth_files.py -> build/bdist.linux-x86_64/wheel/bpyth\n",
      "running install_egg_info\n",
      "Copying src/bpyth.egg-info to build/bdist.linux-x86_64/wheel/bpyth-0.0.9-py3.8.egg-info\n",
      "running install_scripts\n",
      "adding license file \"LICENSE\" (matched pattern \"LICEN[CS]E*\")\n",
      "creating build/bdist.linux-x86_64/wheel/bpyth-0.0.9.dist-info/WHEEL\n",
      "creating '/mnt/DATA/Dropbox/31_Projekte/01_Python/git/bpyth/dist/tmp7wq_v5ob/bpyth-0.0.9-py3-none-any.whl' and adding 'build/bdist.linux-x86_64/wheel' to it\n",
      "adding 'bpyth/__init__.py'\n",
      "adding 'bpyth/__main__.py'\n",
      "adding 'bpyth/bpyth_files.py'\n",
      "adding 'bpyth/bpyth_human.py'\n",
      "adding 'bpyth/bpyth_iterable.py'\n",
      "adding 'bpyth/bpyth_object_analysis.py'\n",
      "adding 'bpyth/bpyth_string.py'\n",
      "adding 'bpyth/bpyth_tools.py'\n",
      "adding 'bpyth-0.0.9.dist-info/LICENSE'\n",
      "adding 'bpyth-0.0.9.dist-info/METADATA'\n",
      "adding 'bpyth-0.0.9.dist-info/WHEEL'\n",
      "adding 'bpyth-0.0.9.dist-info/entry_points.txt'\n",
      "adding 'bpyth-0.0.9.dist-info/top_level.txt'\n",
      "adding 'bpyth-0.0.9.dist-info/RECORD'\n",
      "removing build/bdist.linux-x86_64/wheel\n",
      "\u001b[1m\u001b[92mSuccessfully built \u001b[4mbpyth-0.0.9.tar.gz\u001b[0m\u001b[1m\u001b[92m and \u001b[4mbpyth-0.0.9-py3-none-any.whl\u001b[0m\u001b[1m\u001b[92m\u001b[0m\n",
      "\u001b[0m"
     ]
    }
   ],
   "source": [
    "!python -m build"
   ]
  },
  {
   "cell_type": "markdown",
   "id": "f7a0c1e1-173f-46a4-a693-625f340a011f",
   "metadata": {},
   "source": [
    "## Publish on test.pypi.org"
   ]
  },
  {
   "cell_type": "code",
   "execution_count": null,
   "id": "42124620-1dac-401c-9780-8b78c5f1c9e2",
   "metadata": {},
   "outputs": [],
   "source": [
    "#python -m twine upload --repository testpypi --skip-existing dist/* "
   ]
  },
  {
   "cell_type": "markdown",
   "id": "c7654839-a06f-4024-a72f-5e081082af6b",
   "metadata": {},
   "source": [
    "## Publish on pypi.org"
   ]
  },
  {
   "cell_type": "code",
   "execution_count": null,
   "id": "96b1ff64-4c21-4c33-a7e3-d8576dd461fd",
   "metadata": {},
   "outputs": [],
   "source": [
    "#python -m twine upload dist/* "
   ]
  },
  {
   "cell_type": "markdown",
   "id": "ad45e97b-d74f-4b28-b514-aa0d9243ee7d",
   "metadata": {},
   "source": [
    "## Publish on github"
   ]
  },
  {
   "cell_type": "code",
   "execution_count": null,
   "id": "d444d5d8-ddb6-451e-9300-fa6424dde8f0",
   "metadata": {},
   "outputs": [],
   "source": [
    "!git status"
   ]
  },
  {
   "cell_type": "code",
   "execution_count": null,
   "id": "a9a7e740-2661-43c1-9743-bef78afaba54",
   "metadata": {},
   "outputs": [],
   "source": [
    "!git add --all"
   ]
  },
  {
   "cell_type": "code",
   "execution_count": null,
   "id": "f5ed7e73-e40b-4de9-858d-54a1530018cb",
   "metadata": {},
   "outputs": [],
   "source": [
    "#!git commit -m \"2\""
   ]
  },
  {
   "cell_type": "code",
   "execution_count": null,
   "id": "9d44e586-3194-4030-bf4b-d84e6868e09e",
   "metadata": {},
   "outputs": [],
   "source": [
    "#!git push origin master"
   ]
  },
  {
   "cell_type": "markdown",
   "id": "16c9f64f-40af-41ac-90db-f802bb8f73c1",
   "metadata": {},
   "source": [
    "## Test from PyPi"
   ]
  },
  {
   "cell_type": "code",
   "execution_count": 1,
   "id": "3af8896f-3f40-4d28-a365-fc4c0cb4228f",
   "metadata": {},
   "outputs": [
    {
     "name": "stdout",
     "output_type": "stream",
     "text": [
      "Found existing installation: bpyth 0.0.9\n",
      "Uninstalling bpyth-0.0.9:\n",
      "  Would remove:\n",
      "    /home/a/anaconda3/envs/bjpython/bin/bpyth\n",
      "    /home/a/anaconda3/envs/bjpython/lib/python3.8/site-packages/__editable__.bpyth-0.0.9.pth\n",
      "    /home/a/anaconda3/envs/bjpython/lib/python3.8/site-packages/bpyth-0.0.9.dist-info/*\n",
      "Proceed (Y/n)?   Successfully uninstalled bpyth-0.0.9\n"
     ]
    }
   ],
   "source": [
    "!printf 'y\\n' | pip uninstall bpyth"
   ]
  },
  {
   "cell_type": "code",
   "execution_count": null,
   "id": "8ea8f83c-6970-424a-993d-f8e378e5faa9",
   "metadata": {},
   "outputs": [],
   "source": [
    "!pip install bpyth"
   ]
  }
 ],
 "metadata": {
  "kernelspec": {
   "display_name": "Python 3 (ipykernel)",
   "language": "python",
   "name": "python3"
  },
  "language_info": {
   "codemirror_mode": {
    "name": "ipython",
    "version": 3
   },
   "file_extension": ".py",
   "mimetype": "text/x-python",
   "name": "python",
   "nbconvert_exporter": "python",
   "pygments_lexer": "ipython3",
   "version": "3.8.12"
  }
 },
 "nbformat": 4,
 "nbformat_minor": 5
}
