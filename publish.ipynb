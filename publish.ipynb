{
 "cells": [
  {
   "cell_type": "code",
   "execution_count": 1,
   "id": "f345ee0f-748f-40be-8578-8ad4ac4d9fe3",
   "metadata": {},
   "outputs": [
    {
     "name": "stdout",
     "output_type": "stream",
     "text": [
      "\u001b[33mWARNING: The directory '/home/jovyan/.cache/pip' or its parent directory is not owned or is not writable by the current user. The cache has been disabled. Check the permissions and owner of that directory. If executing pip with sudo, you should use sudo's -H flag.\u001b[0m\n",
      "Obtaining file:///Data_lab/git/bpyth\n",
      "  Installing build dependencies ... \u001b[?25ldone\n",
      "\u001b[?25h  Checking if build backend supports build_editable ... \u001b[?25ldone\n",
      "\u001b[?25h  Getting requirements to build editable ... \u001b[?25ldone\n",
      "\u001b[?25h  Preparing editable metadata (pyproject.toml) ... \u001b[?25ldone\n",
      "\u001b[?25hBuilding wheels for collected packages: bpyth\n",
      "  Building editable for bpyth (pyproject.toml) ... \u001b[?25ldone\n",
      "\u001b[?25h  Created wheel for bpyth: filename=bpyth-0.0.7-0.editable-py3-none-any.whl size=3543 sha256=88592cdb6cf53936db892ae9bd600b77049aa4ff972a6b2f689825fba0a86513\n",
      "  Stored in directory: /tmp/pip-ephem-wheel-cache-8iraexh2/wheels/88/a6/5c/420ea3e1c85fa9b871339fd3ec3ef3b632ae598c9db0ae7097\n",
      "Successfully built bpyth\n",
      "Installing collected packages: bpyth\n",
      "Successfully installed bpyth-0.0.7\n",
      "\u001b[33mWARNING: Running pip as the 'root' user can result in broken permissions and conflicting behaviour with the system package manager. It is recommended to use a virtual environment instead: https://pip.pypa.io/warnings/venv\u001b[0m\n"
     ]
    }
   ],
   "source": [
    "# install locally\n",
    "!python -m pip install -e ."
   ]
  },
  {
   "cell_type": "code",
   "execution_count": 2,
   "id": "8cec0e88-e3c2-4020-b9c9-176bcd255c46",
   "metadata": {},
   "outputs": [
    {
     "name": "stdout",
     "output_type": "stream",
     "text": [
      "\u001b[33mWARNING: The directory '/home/jovyan/.cache/pip' or its parent directory is not owned or is not writable by the current user. The cache has been disabled. Check the permissions and owner of that directory. If executing pip with sudo, you should use sudo's -H flag.\u001b[0m\n",
      "Name: bpyth\n",
      "Version: 0.0.7\n",
      "Summary: Various Python Tools\n",
      "Home-page: \n",
      "Author: \n",
      "Author-email: djekra <hopsalla@gmail.com>\n",
      "License: MIT\n",
      "Location: /opt/conda/lib/python3.8/site-packages\n",
      "Requires: \n",
      "Required-by: \n"
     ]
    }
   ],
   "source": [
    "# show\n",
    "!pip show bpyth"
   ]
  },
  {
   "cell_type": "code",
   "execution_count": 3,
   "id": "baf8f2b6-2bb4-4460-b654-f4454bfec48f",
   "metadata": {},
   "outputs": [],
   "source": [
    "# test import\n",
    "import bpyth as bpy"
   ]
  },
  {
   "cell_type": "code",
   "execution_count": 4,
   "id": "43f0bbdd-2df6-4534-a86e-77657d0329da",
   "metadata": {},
   "outputs": [
    {
     "name": "stdout",
     "output_type": "stream",
     "text": [
      "bpyth Hello World\n"
     ]
    }
   ],
   "source": [
    "# test script\n",
    "!bpyth"
   ]
  },
  {
   "cell_type": "markdown",
   "id": "f7a0c1e1-173f-46a4-a693-625f340a011f",
   "metadata": {},
   "source": [
    "## git"
   ]
  },
  {
   "cell_type": "code",
   "execution_count": 7,
   "id": "d444d5d8-ddb6-451e-9300-fa6424dde8f0",
   "metadata": {},
   "outputs": [
    {
     "name": "stdout",
     "output_type": "stream",
     "text": [
      "On branch master\n",
      "Your branch is up to date with 'origin/master'.\n",
      "\n",
      "Changes to be committed:\n",
      "  (use \"git restore --staged <file>...\" to unstage)\n",
      "\t\u001b[32mmodified:   README.md\u001b[m\n",
      "\t\u001b[32mnew file:   bpyth/__init__.py\u001b[m\n",
      "\t\u001b[32mnew file:   bpyth/__main__.py\u001b[m\n",
      "\t\u001b[32mnew file:   bpyth/bpy_files.py\u001b[m\n",
      "\t\u001b[32mnew file:   bpyth/bpy_human.py\u001b[m\n",
      "\t\u001b[32mnew file:   bpyth/bpy_iterable.py\u001b[m\n",
      "\t\u001b[32mnew file:   bpyth/bpy_object_analysis.py\u001b[m\n",
      "\t\u001b[32mnew file:   bpyth/bpy_string.py\u001b[m\n",
      "\t\u001b[32mnew file:   bpyth/bpy_tools.py\u001b[m\n",
      "\t\u001b[32mnew file:   jupyter/10_Files.ipynb\u001b[m\n",
      "\t\u001b[32mnew file:   jupyter/15_Human.ipynb\u001b[m\n",
      "\t\u001b[32mnew file:   jupyter/20_Iterable.ipynb\u001b[m\n",
      "\t\u001b[32mnew file:   jupyter/22_Object_Analysis.ipynb\u001b[m\n",
      "\t\u001b[32mnew file:   jupyter/24_Strings.ipynb\u001b[m\n",
      "\t\u001b[32mnew file:   jupyter/98___blab_tools.ipynb\u001b[m\n",
      "\t\u001b[32mnew file:   jupyter/99___run_all.ipynb\u001b[m\n",
      "\t\u001b[32mrenamed:    test0.txt -> jupyter/data/dummy.pickle\u001b[m\n",
      "\t\u001b[32mnew file:   jupyter/data/lorem_ipsum.txt\u001b[m\n",
      "\t\u001b[32mnew file:   jupyter/data/test_o.pickle\u001b[m\n",
      "\t\u001b[32mnew file:   publish.ipynb\u001b[m\n",
      "\t\u001b[32mnew file:   pyproject.toml\u001b[m\n",
      "\t\u001b[32mnew file:   requirements.txt\u001b[m\n",
      "\t\u001b[32mdeleted:    test1.txt\u001b[m\n",
      "\t\u001b[32mdeleted:    test2.txt\u001b[m\n",
      "\t\u001b[32mnew file:   zzdel_setup.py\u001b[m\n",
      "\n"
     ]
    }
   ],
   "source": [
    "!git status"
   ]
  },
  {
   "cell_type": "code",
   "execution_count": 6,
   "id": "a9a7e740-2661-43c1-9743-bef78afaba54",
   "metadata": {},
   "outputs": [],
   "source": [
    "!git add --all"
   ]
  },
  {
   "cell_type": "code",
   "execution_count": 8,
   "id": "f5ed7e73-e40b-4de9-858d-54a1530018cb",
   "metadata": {},
   "outputs": [
    {
     "name": "stdout",
     "output_type": "stream",
     "text": [
      "\n",
      "*** Please tell me who you are.\n",
      "\n",
      "Run\n",
      "\n",
      "  git config --global user.email \"you@example.com\"\n",
      "  git config --global user.name \"Your Name\"\n",
      "\n",
      "to set your account's default identity.\n",
      "Omit --global to set the identity only in this repository.\n",
      "\n",
      "fatal: unable to auto-detect email address (got 'root@me-Mint.(none)')\n"
     ]
    }
   ],
   "source": [
    "#!git commit -m \"2\""
   ]
  },
  {
   "cell_type": "code",
   "execution_count": null,
   "id": "9d44e586-3194-4030-bf4b-d84e6868e09e",
   "metadata": {},
   "outputs": [],
   "source": []
  }
 ],
 "metadata": {
  "kernelspec": {
   "display_name": "Python 3 (ipykernel)",
   "language": "python",
   "name": "python3"
  },
  "language_info": {
   "codemirror_mode": {
    "name": "ipython",
    "version": 3
   },
   "file_extension": ".py",
   "mimetype": "text/x-python",
   "name": "python",
   "nbconvert_exporter": "python",
   "pygments_lexer": "ipython3",
   "version": "3.8.8"
  }
 },
 "nbformat": 4,
 "nbformat_minor": 5
}
